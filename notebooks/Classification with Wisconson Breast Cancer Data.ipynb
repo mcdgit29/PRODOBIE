{
 "cells": [
  {
   "cell_type": "code",
   "execution_count": null,
   "id": "20ff1c88-cb91-44d4-bb5a-d017277bea00",
   "metadata": {},
   "outputs": [],
   "source": [
    "\n"
   ]
  },
  {
   "cell_type": "code",
   "execution_count": 6,
   "id": "1951c784",
   "metadata": {},
   "outputs": [],
   "source": [
    "from sklearn.datasets import make_classification\n",
    "from sklearn.ensemble import RandomForestClassifier\n",
    "from sklearn.model_selection import train_test_split\n",
    "from sklearn.metrics import *\n",
    "import pandas as pd\n",
    "import numpy as np\n",
    "from sklearn.preprocessing import StandardScaler\n",
    "from sklearn.decomposition import FastICA, PCA\n",
    "from sklearn.cluster import KMeans, Birch\n",
    "from scipy.optimize import minimize_scalar\n",
    "from sklearn.manifold import TSNE\n",
    "from sklearn.datasets import load_breast_cancer\n",
    "from sklearn.impute import SimpleImputer\n",
    "from sklearn.pipeline import Pipeline\n",
    "from IPython.display import display, Image\n",
    "from plotly import express as px\n",
    "import os\n",
    "\n",
    "def get_acc(y_true:int, y_pred:int)->str:\n",
    "    '''\n",
    "    param y_true: int 0 or 1 (1 indicates true)\n",
    "    param y_pred: int 0 or 1 (1 indicates predicted true value)\n",
    "    returns str\n",
    "    Classifiers whetheer a value is a true positive, false positive, true negative or false negative  \n",
    "    '''\n",
    "    if all((y_true==1, y_pred==1)):\n",
    "        return 'TP'\n",
    "    elif all((y_true == 1, y_pred == 0)):\n",
    "        return 'FN'\n",
    "    elif all((y_true == 0, y_pred == 1)):\n",
    "        return 'FP'\n",
    "    elif all((y_true == 0, y_pred == 0)):\n",
    "        return 'TN'\n",
    "    else:\n",
    "        raise ValueError(F'unknown input y_true: {y_true}  y_pred: {y_pred}')\n",
    "# symbol dictionaries for plotting\n",
    "symbol_map = {'TP':'square', 'FN':'square-x', 'TN': 'circle', 'FP': 'circle-x'}\n",
    "source_dict = { 'Test Data (Altered)':'orange', 'Test Data':'lightblue',  'Training Data':'blue'}"
   ]
  },
  {
   "cell_type": "code",
   "execution_count": 7,
   "id": "c8e86393",
   "metadata": {},
   "outputs": [
    {
     "data": {
      "text/plain": [
       "((569, 30), (569,))"
      ]
     },
     "execution_count": 7,
     "metadata": {},
     "output_type": "execute_result"
    }
   ],
   "source": [
    "## Loads wisconson breast cancer data \n",
    "bc = load_breast_cancer()\n",
    "feature_names = bc.feature_names\n",
    "# creates the data frame of numberic features\n",
    "X = pd.DataFrame(bc.data, columns=feature_names)\n",
    "# creates the array of binary targets (source of true to train models)\n",
    "y = bc.target\n",
    "\n",
    "X.shape, y.shape"
   ]
  },
  {
   "cell_type": "code",
   "execution_count": null,
   "id": "b85559f2",
   "metadata": {},
   "outputs": [],
   "source": []
  },
  {
   "cell_type": "code",
   "execution_count": 8,
   "id": "d7984eee",
   "metadata": {},
   "outputs": [
    {
     "name": "stdout",
     "output_type": "stream",
     "text": [
      "n obs: 569\n",
      "n positive lables: 357\n",
      "label mean: 0.627\n",
      "n training obs: 284\n",
      "n test obs: 285\n",
      "n test: 284\n",
      "train roc auc : 0.995\n",
      "test roc auc : 0.99\n"
     ]
    }
   ],
   "source": [
    "# sets the random state for the splitting\n",
    "random_state =1231\n",
    "\n",
    "# split data\n",
    "X_train, X_test, y_train, y_test = train_test_split(X, y, test_size=0.5, random_state=42)\n",
    "\n",
    "# train scaler (transforms to mean 0, stdev 1)\n",
    "scaler = StandardScaler()\n",
    "\n",
    "# scales all the features\n",
    "X_scaled =  scaler .fit_transform(X)\n",
    "\n",
    "#scales the features for the training set\n",
    "X_train_scaled = scaler.transform(X_train)\n",
    "\n",
    "# scales the features for tht test set \n",
    "X_test_scaled = scaler.transform(X_test)\n",
    "\n",
    "# train Imputer (missing values imputed with means\n",
    "imputer = SimpleImputer(strategy='mean').fit(X)\n",
    "\n",
    "## Build RF Estimator\n",
    "estimator = RandomForestClassifier(n_estimators=5, max_depth=4, min_samples_split=10,random_state=random_state)\n",
    "\n",
    "# pipes imputer to random forest model, so that missing values are imputed and then classified, fits the model\n",
    "pipeline = Pipeline(steps=[('imp', imputer), ('estimator', estimator)]).fit(X_train,y_train)\n",
    "\n",
    "# build cluster model\n",
    "cluster_model = KMeans(3, random_state=random_state, n_init='auto')\n",
    "cluster_model = cluster_model.fit(X_train_scaled)\n",
    "\n",
    "## Back predict training data \n",
    "p_train = pipeline.predict(X_train)\n",
    "\n",
    "# back predicts test data \n",
    "p_test = pipeline.predict(X_test)\n",
    "\n",
    "# creats areas of probablity outputs from the model\n",
    "p_prob_train = pipeline.predict_proba(X_train)[:, 1]\n",
    "p_prob_test = pipeline.predict_proba(X_test)[:, 1]\n",
    "\n",
    "\n",
    "print(F'n obs: {y.shape[0]}')\n",
    "print(F'n positive lables: {y.sum()}')\n",
    "print(F'label mean: {np.round(y.mean(),3)}')\n",
    "print(F'n training obs: {y_train.shape[0]}')\n",
    "print(F'n test obs: {y_test.shape[0]}')\n",
    "print(F'n test: {y_train.shape[0]}')\n",
    "print(F'train roc auc : {np.round(roc_auc_score(y_train, p_prob_train) , 3)}')\n",
    "print(F'test roc auc : {np.round(roc_auc_score(y_test, p_prob_test), 3)}')"
   ]
  },
  {
   "cell_type": "code",
   "execution_count": 9,
   "id": "bf5c7ac4",
   "metadata": {},
   "outputs": [
    {
     "data": {
      "application/vnd.plotly.v1+json": {
       "config": {
        "plotlyServerURL": "https://plot.ly"
       },
       "data": [
        {
         "alignmentgroup": "True",
         "hovertemplate": "variable=0<br>value=%{x}<br>index=%{y}<extra></extra>",
         "legendgroup": "0",
         "marker": {
          "color": "#636efa",
          "pattern": {
           "shape": ""
          }
         },
         "name": "0",
         "offsetgroup": "0",
         "orientation": "h",
         "showlegend": true,
         "textposition": "auto",
         "type": "bar",
         "x": [
          0,
          0,
          0,
          0,
          0,
          0,
          0,
          0,
          0,
          0,
          0,
          0,
          0,
          0.0030400643167605972,
          0.0030756447472069666,
          0.0032282189821801295,
          0.005776795320465252,
          0.008657256071460393,
          0.011633307611189156,
          0.012497067236153972,
          0.015741062543402375,
          0.01615054461050171,
          0.016365019072640895,
          0.019564744342219602,
          0.021897981535877884,
          0.04255547157709542,
          0.1475612494331565,
          0.16668792221263706,
          0.17107000954855736,
          0.3344976408384949
         ],
         "xaxis": "x",
         "y": [
          "mean radius",
          "worst smoothness",
          "symmetry error",
          "concave points error",
          "concavity error",
          "compactness error",
          "area error",
          "mean fractal dimension",
          "smoothness error",
          "mean compactness",
          "mean smoothness",
          "mean perimeter",
          "mean symmetry",
          "mean area",
          "texture error",
          "worst concavity",
          "fractal dimension error",
          "worst symmetry",
          "perimeter error",
          "mean texture",
          "radius error",
          "worst compactness",
          "mean concavity",
          "worst texture",
          "worst fractal dimension",
          "worst radius",
          "worst concave points",
          "worst perimeter",
          "worst area",
          "mean concave points"
         ],
         "yaxis": "y"
        }
       ],
       "layout": {
        "barmode": "relative",
        "height": 400,
        "legend": {
         "title": {
          "text": "variable"
         },
         "tracegroupgap": 0
        },
        "showlegend": false,
        "template": {
         "data": {
          "bar": [
           {
            "error_x": {
             "color": "#2a3f5f"
            },
            "error_y": {
             "color": "#2a3f5f"
            },
            "marker": {
             "line": {
              "color": "#E5ECF6",
              "width": 0.5
             },
             "pattern": {
              "fillmode": "overlay",
              "size": 10,
              "solidity": 0.2
             }
            },
            "type": "bar"
           }
          ],
          "barpolar": [
           {
            "marker": {
             "line": {
              "color": "#E5ECF6",
              "width": 0.5
             },
             "pattern": {
              "fillmode": "overlay",
              "size": 10,
              "solidity": 0.2
             }
            },
            "type": "barpolar"
           }
          ],
          "carpet": [
           {
            "aaxis": {
             "endlinecolor": "#2a3f5f",
             "gridcolor": "white",
             "linecolor": "white",
             "minorgridcolor": "white",
             "startlinecolor": "#2a3f5f"
            },
            "baxis": {
             "endlinecolor": "#2a3f5f",
             "gridcolor": "white",
             "linecolor": "white",
             "minorgridcolor": "white",
             "startlinecolor": "#2a3f5f"
            },
            "type": "carpet"
           }
          ],
          "choropleth": [
           {
            "colorbar": {
             "outlinewidth": 0,
             "ticks": ""
            },
            "type": "choropleth"
           }
          ],
          "contour": [
           {
            "colorbar": {
             "outlinewidth": 0,
             "ticks": ""
            },
            "colorscale": [
             [
              0,
              "#0d0887"
             ],
             [
              0.1111111111111111,
              "#46039f"
             ],
             [
              0.2222222222222222,
              "#7201a8"
             ],
             [
              0.3333333333333333,
              "#9c179e"
             ],
             [
              0.4444444444444444,
              "#bd3786"
             ],
             [
              0.5555555555555556,
              "#d8576b"
             ],
             [
              0.6666666666666666,
              "#ed7953"
             ],
             [
              0.7777777777777778,
              "#fb9f3a"
             ],
             [
              0.8888888888888888,
              "#fdca26"
             ],
             [
              1,
              "#f0f921"
             ]
            ],
            "type": "contour"
           }
          ],
          "contourcarpet": [
           {
            "colorbar": {
             "outlinewidth": 0,
             "ticks": ""
            },
            "type": "contourcarpet"
           }
          ],
          "heatmap": [
           {
            "colorbar": {
             "outlinewidth": 0,
             "ticks": ""
            },
            "colorscale": [
             [
              0,
              "#0d0887"
             ],
             [
              0.1111111111111111,
              "#46039f"
             ],
             [
              0.2222222222222222,
              "#7201a8"
             ],
             [
              0.3333333333333333,
              "#9c179e"
             ],
             [
              0.4444444444444444,
              "#bd3786"
             ],
             [
              0.5555555555555556,
              "#d8576b"
             ],
             [
              0.6666666666666666,
              "#ed7953"
             ],
             [
              0.7777777777777778,
              "#fb9f3a"
             ],
             [
              0.8888888888888888,
              "#fdca26"
             ],
             [
              1,
              "#f0f921"
             ]
            ],
            "type": "heatmap"
           }
          ],
          "heatmapgl": [
           {
            "colorbar": {
             "outlinewidth": 0,
             "ticks": ""
            },
            "colorscale": [
             [
              0,
              "#0d0887"
             ],
             [
              0.1111111111111111,
              "#46039f"
             ],
             [
              0.2222222222222222,
              "#7201a8"
             ],
             [
              0.3333333333333333,
              "#9c179e"
             ],
             [
              0.4444444444444444,
              "#bd3786"
             ],
             [
              0.5555555555555556,
              "#d8576b"
             ],
             [
              0.6666666666666666,
              "#ed7953"
             ],
             [
              0.7777777777777778,
              "#fb9f3a"
             ],
             [
              0.8888888888888888,
              "#fdca26"
             ],
             [
              1,
              "#f0f921"
             ]
            ],
            "type": "heatmapgl"
           }
          ],
          "histogram": [
           {
            "marker": {
             "pattern": {
              "fillmode": "overlay",
              "size": 10,
              "solidity": 0.2
             }
            },
            "type": "histogram"
           }
          ],
          "histogram2d": [
           {
            "colorbar": {
             "outlinewidth": 0,
             "ticks": ""
            },
            "colorscale": [
             [
              0,
              "#0d0887"
             ],
             [
              0.1111111111111111,
              "#46039f"
             ],
             [
              0.2222222222222222,
              "#7201a8"
             ],
             [
              0.3333333333333333,
              "#9c179e"
             ],
             [
              0.4444444444444444,
              "#bd3786"
             ],
             [
              0.5555555555555556,
              "#d8576b"
             ],
             [
              0.6666666666666666,
              "#ed7953"
             ],
             [
              0.7777777777777778,
              "#fb9f3a"
             ],
             [
              0.8888888888888888,
              "#fdca26"
             ],
             [
              1,
              "#f0f921"
             ]
            ],
            "type": "histogram2d"
           }
          ],
          "histogram2dcontour": [
           {
            "colorbar": {
             "outlinewidth": 0,
             "ticks": ""
            },
            "colorscale": [
             [
              0,
              "#0d0887"
             ],
             [
              0.1111111111111111,
              "#46039f"
             ],
             [
              0.2222222222222222,
              "#7201a8"
             ],
             [
              0.3333333333333333,
              "#9c179e"
             ],
             [
              0.4444444444444444,
              "#bd3786"
             ],
             [
              0.5555555555555556,
              "#d8576b"
             ],
             [
              0.6666666666666666,
              "#ed7953"
             ],
             [
              0.7777777777777778,
              "#fb9f3a"
             ],
             [
              0.8888888888888888,
              "#fdca26"
             ],
             [
              1,
              "#f0f921"
             ]
            ],
            "type": "histogram2dcontour"
           }
          ],
          "mesh3d": [
           {
            "colorbar": {
             "outlinewidth": 0,
             "ticks": ""
            },
            "type": "mesh3d"
           }
          ],
          "parcoords": [
           {
            "line": {
             "colorbar": {
              "outlinewidth": 0,
              "ticks": ""
             }
            },
            "type": "parcoords"
           }
          ],
          "pie": [
           {
            "automargin": true,
            "type": "pie"
           }
          ],
          "scatter": [
           {
            "fillpattern": {
             "fillmode": "overlay",
             "size": 10,
             "solidity": 0.2
            },
            "type": "scatter"
           }
          ],
          "scatter3d": [
           {
            "line": {
             "colorbar": {
              "outlinewidth": 0,
              "ticks": ""
             }
            },
            "marker": {
             "colorbar": {
              "outlinewidth": 0,
              "ticks": ""
             }
            },
            "type": "scatter3d"
           }
          ],
          "scattercarpet": [
           {
            "marker": {
             "colorbar": {
              "outlinewidth": 0,
              "ticks": ""
             }
            },
            "type": "scattercarpet"
           }
          ],
          "scattergeo": [
           {
            "marker": {
             "colorbar": {
              "outlinewidth": 0,
              "ticks": ""
             }
            },
            "type": "scattergeo"
           }
          ],
          "scattergl": [
           {
            "marker": {
             "colorbar": {
              "outlinewidth": 0,
              "ticks": ""
             }
            },
            "type": "scattergl"
           }
          ],
          "scattermapbox": [
           {
            "marker": {
             "colorbar": {
              "outlinewidth": 0,
              "ticks": ""
             }
            },
            "type": "scattermapbox"
           }
          ],
          "scatterpolar": [
           {
            "marker": {
             "colorbar": {
              "outlinewidth": 0,
              "ticks": ""
             }
            },
            "type": "scatterpolar"
           }
          ],
          "scatterpolargl": [
           {
            "marker": {
             "colorbar": {
              "outlinewidth": 0,
              "ticks": ""
             }
            },
            "type": "scatterpolargl"
           }
          ],
          "scatterternary": [
           {
            "marker": {
             "colorbar": {
              "outlinewidth": 0,
              "ticks": ""
             }
            },
            "type": "scatterternary"
           }
          ],
          "surface": [
           {
            "colorbar": {
             "outlinewidth": 0,
             "ticks": ""
            },
            "colorscale": [
             [
              0,
              "#0d0887"
             ],
             [
              0.1111111111111111,
              "#46039f"
             ],
             [
              0.2222222222222222,
              "#7201a8"
             ],
             [
              0.3333333333333333,
              "#9c179e"
             ],
             [
              0.4444444444444444,
              "#bd3786"
             ],
             [
              0.5555555555555556,
              "#d8576b"
             ],
             [
              0.6666666666666666,
              "#ed7953"
             ],
             [
              0.7777777777777778,
              "#fb9f3a"
             ],
             [
              0.8888888888888888,
              "#fdca26"
             ],
             [
              1,
              "#f0f921"
             ]
            ],
            "type": "surface"
           }
          ],
          "table": [
           {
            "cells": {
             "fill": {
              "color": "#EBF0F8"
             },
             "line": {
              "color": "white"
             }
            },
            "header": {
             "fill": {
              "color": "#C8D4E3"
             },
             "line": {
              "color": "white"
             }
            },
            "type": "table"
           }
          ]
         },
         "layout": {
          "annotationdefaults": {
           "arrowcolor": "#2a3f5f",
           "arrowhead": 0,
           "arrowwidth": 1
          },
          "autotypenumbers": "strict",
          "coloraxis": {
           "colorbar": {
            "outlinewidth": 0,
            "ticks": ""
           }
          },
          "colorscale": {
           "diverging": [
            [
             0,
             "#8e0152"
            ],
            [
             0.1,
             "#c51b7d"
            ],
            [
             0.2,
             "#de77ae"
            ],
            [
             0.3,
             "#f1b6da"
            ],
            [
             0.4,
             "#fde0ef"
            ],
            [
             0.5,
             "#f7f7f7"
            ],
            [
             0.6,
             "#e6f5d0"
            ],
            [
             0.7,
             "#b8e186"
            ],
            [
             0.8,
             "#7fbc41"
            ],
            [
             0.9,
             "#4d9221"
            ],
            [
             1,
             "#276419"
            ]
           ],
           "sequential": [
            [
             0,
             "#0d0887"
            ],
            [
             0.1111111111111111,
             "#46039f"
            ],
            [
             0.2222222222222222,
             "#7201a8"
            ],
            [
             0.3333333333333333,
             "#9c179e"
            ],
            [
             0.4444444444444444,
             "#bd3786"
            ],
            [
             0.5555555555555556,
             "#d8576b"
            ],
            [
             0.6666666666666666,
             "#ed7953"
            ],
            [
             0.7777777777777778,
             "#fb9f3a"
            ],
            [
             0.8888888888888888,
             "#fdca26"
            ],
            [
             1,
             "#f0f921"
            ]
           ],
           "sequentialminus": [
            [
             0,
             "#0d0887"
            ],
            [
             0.1111111111111111,
             "#46039f"
            ],
            [
             0.2222222222222222,
             "#7201a8"
            ],
            [
             0.3333333333333333,
             "#9c179e"
            ],
            [
             0.4444444444444444,
             "#bd3786"
            ],
            [
             0.5555555555555556,
             "#d8576b"
            ],
            [
             0.6666666666666666,
             "#ed7953"
            ],
            [
             0.7777777777777778,
             "#fb9f3a"
            ],
            [
             0.8888888888888888,
             "#fdca26"
            ],
            [
             1,
             "#f0f921"
            ]
           ]
          },
          "colorway": [
           "#636efa",
           "#EF553B",
           "#00cc96",
           "#ab63fa",
           "#FFA15A",
           "#19d3f3",
           "#FF6692",
           "#B6E880",
           "#FF97FF",
           "#FECB52"
          ],
          "font": {
           "color": "#2a3f5f"
          },
          "geo": {
           "bgcolor": "white",
           "lakecolor": "white",
           "landcolor": "#E5ECF6",
           "showlakes": true,
           "showland": true,
           "subunitcolor": "white"
          },
          "hoverlabel": {
           "align": "left"
          },
          "hovermode": "closest",
          "mapbox": {
           "style": "light"
          },
          "paper_bgcolor": "white",
          "plot_bgcolor": "#E5ECF6",
          "polar": {
           "angularaxis": {
            "gridcolor": "white",
            "linecolor": "white",
            "ticks": ""
           },
           "bgcolor": "#E5ECF6",
           "radialaxis": {
            "gridcolor": "white",
            "linecolor": "white",
            "ticks": ""
           }
          },
          "scene": {
           "xaxis": {
            "backgroundcolor": "#E5ECF6",
            "gridcolor": "white",
            "gridwidth": 2,
            "linecolor": "white",
            "showbackground": true,
            "ticks": "",
            "zerolinecolor": "white"
           },
           "yaxis": {
            "backgroundcolor": "#E5ECF6",
            "gridcolor": "white",
            "gridwidth": 2,
            "linecolor": "white",
            "showbackground": true,
            "ticks": "",
            "zerolinecolor": "white"
           },
           "zaxis": {
            "backgroundcolor": "#E5ECF6",
            "gridcolor": "white",
            "gridwidth": 2,
            "linecolor": "white",
            "showbackground": true,
            "ticks": "",
            "zerolinecolor": "white"
           }
          },
          "shapedefaults": {
           "line": {
            "color": "#2a3f5f"
           }
          },
          "ternary": {
           "aaxis": {
            "gridcolor": "white",
            "linecolor": "white",
            "ticks": ""
           },
           "baxis": {
            "gridcolor": "white",
            "linecolor": "white",
            "ticks": ""
           },
           "bgcolor": "#E5ECF6",
           "caxis": {
            "gridcolor": "white",
            "linecolor": "white",
            "ticks": ""
           }
          },
          "title": {
           "x": 0.05
          },
          "xaxis": {
           "automargin": true,
           "gridcolor": "white",
           "linecolor": "white",
           "ticks": "",
           "title": {
            "standoff": 15
           },
           "zerolinecolor": "white",
           "zerolinewidth": 2
          },
          "yaxis": {
           "automargin": true,
           "gridcolor": "white",
           "linecolor": "white",
           "ticks": "",
           "title": {
            "standoff": 15
           },
           "zerolinecolor": "white",
           "zerolinewidth": 2
          }
         }
        },
        "title": {
         "text": "Feature Importance for Random Forest Classifier"
        },
        "width": 600,
        "xaxis": {
         "anchor": "y",
         "autorange": true,
         "domain": [
          0,
          1
         ],
         "range": [
          0,
          0.35210277982999466
         ],
         "title": {
          "text": "information gain"
         },
         "type": "linear"
        },
        "yaxis": {
         "anchor": "x",
         "autorange": true,
         "domain": [
          0,
          1
         ],
         "range": [
          -0.5,
          29.5
         ],
         "title": {
          "text": "features"
         },
         "type": "category"
        }
       }
      },
      "text/html": [
       "<div>                            <div id=\"2e36f492-45d7-4202-9912-adc5108ad01f\" class=\"plotly-graph-div\" style=\"height:400px; width:600px;\"></div>            <script type=\"text/javascript\">                require([\"plotly\"], function(Plotly) {                    window.PLOTLYENV=window.PLOTLYENV || {};                                    if (document.getElementById(\"2e36f492-45d7-4202-9912-adc5108ad01f\")) {                    Plotly.newPlot(                        \"2e36f492-45d7-4202-9912-adc5108ad01f\",                        [{\"alignmentgroup\":\"True\",\"hovertemplate\":\"variable=0\\u003cbr\\u003evalue=%{x}\\u003cbr\\u003eindex=%{y}\\u003cextra\\u003e\\u003c\\u002fextra\\u003e\",\"legendgroup\":\"0\",\"marker\":{\"color\":\"#636efa\",\"pattern\":{\"shape\":\"\"}},\"name\":\"0\",\"offsetgroup\":\"0\",\"orientation\":\"h\",\"showlegend\":true,\"textposition\":\"auto\",\"x\":[0.0,0.0,0.0,0.0,0.0,0.0,0.0,0.0,0.0,0.0,0.0,0.0,0.0,0.0030400643167605972,0.0030756447472069666,0.0032282189821801295,0.005776795320465252,0.008657256071460393,0.011633307611189156,0.012497067236153972,0.015741062543402375,0.01615054461050171,0.016365019072640895,0.019564744342219602,0.021897981535877884,0.04255547157709542,0.1475612494331565,0.16668792221263706,0.17107000954855736,0.3344976408384949],\"xaxis\":\"x\",\"y\":[\"mean radius\",\"worst smoothness\",\"symmetry error\",\"concave points error\",\"concavity error\",\"compactness error\",\"area error\",\"mean fractal dimension\",\"smoothness error\",\"mean compactness\",\"mean smoothness\",\"mean perimeter\",\"mean symmetry\",\"mean area\",\"texture error\",\"worst concavity\",\"fractal dimension error\",\"worst symmetry\",\"perimeter error\",\"mean texture\",\"radius error\",\"worst compactness\",\"mean concavity\",\"worst texture\",\"worst fractal dimension\",\"worst radius\",\"worst concave points\",\"worst perimeter\",\"worst area\",\"mean concave points\"],\"yaxis\":\"y\",\"type\":\"bar\"}],                        {\"template\":{\"data\":{\"histogram2dcontour\":[{\"type\":\"histogram2dcontour\",\"colorbar\":{\"outlinewidth\":0,\"ticks\":\"\"},\"colorscale\":[[0.0,\"#0d0887\"],[0.1111111111111111,\"#46039f\"],[0.2222222222222222,\"#7201a8\"],[0.3333333333333333,\"#9c179e\"],[0.4444444444444444,\"#bd3786\"],[0.5555555555555556,\"#d8576b\"],[0.6666666666666666,\"#ed7953\"],[0.7777777777777778,\"#fb9f3a\"],[0.8888888888888888,\"#fdca26\"],[1.0,\"#f0f921\"]]}],\"choropleth\":[{\"type\":\"choropleth\",\"colorbar\":{\"outlinewidth\":0,\"ticks\":\"\"}}],\"histogram2d\":[{\"type\":\"histogram2d\",\"colorbar\":{\"outlinewidth\":0,\"ticks\":\"\"},\"colorscale\":[[0.0,\"#0d0887\"],[0.1111111111111111,\"#46039f\"],[0.2222222222222222,\"#7201a8\"],[0.3333333333333333,\"#9c179e\"],[0.4444444444444444,\"#bd3786\"],[0.5555555555555556,\"#d8576b\"],[0.6666666666666666,\"#ed7953\"],[0.7777777777777778,\"#fb9f3a\"],[0.8888888888888888,\"#fdca26\"],[1.0,\"#f0f921\"]]}],\"heatmap\":[{\"type\":\"heatmap\",\"colorbar\":{\"outlinewidth\":0,\"ticks\":\"\"},\"colorscale\":[[0.0,\"#0d0887\"],[0.1111111111111111,\"#46039f\"],[0.2222222222222222,\"#7201a8\"],[0.3333333333333333,\"#9c179e\"],[0.4444444444444444,\"#bd3786\"],[0.5555555555555556,\"#d8576b\"],[0.6666666666666666,\"#ed7953\"],[0.7777777777777778,\"#fb9f3a\"],[0.8888888888888888,\"#fdca26\"],[1.0,\"#f0f921\"]]}],\"heatmapgl\":[{\"type\":\"heatmapgl\",\"colorbar\":{\"outlinewidth\":0,\"ticks\":\"\"},\"colorscale\":[[0.0,\"#0d0887\"],[0.1111111111111111,\"#46039f\"],[0.2222222222222222,\"#7201a8\"],[0.3333333333333333,\"#9c179e\"],[0.4444444444444444,\"#bd3786\"],[0.5555555555555556,\"#d8576b\"],[0.6666666666666666,\"#ed7953\"],[0.7777777777777778,\"#fb9f3a\"],[0.8888888888888888,\"#fdca26\"],[1.0,\"#f0f921\"]]}],\"contourcarpet\":[{\"type\":\"contourcarpet\",\"colorbar\":{\"outlinewidth\":0,\"ticks\":\"\"}}],\"contour\":[{\"type\":\"contour\",\"colorbar\":{\"outlinewidth\":0,\"ticks\":\"\"},\"colorscale\":[[0.0,\"#0d0887\"],[0.1111111111111111,\"#46039f\"],[0.2222222222222222,\"#7201a8\"],[0.3333333333333333,\"#9c179e\"],[0.4444444444444444,\"#bd3786\"],[0.5555555555555556,\"#d8576b\"],[0.6666666666666666,\"#ed7953\"],[0.7777777777777778,\"#fb9f3a\"],[0.8888888888888888,\"#fdca26\"],[1.0,\"#f0f921\"]]}],\"surface\":[{\"type\":\"surface\",\"colorbar\":{\"outlinewidth\":0,\"ticks\":\"\"},\"colorscale\":[[0.0,\"#0d0887\"],[0.1111111111111111,\"#46039f\"],[0.2222222222222222,\"#7201a8\"],[0.3333333333333333,\"#9c179e\"],[0.4444444444444444,\"#bd3786\"],[0.5555555555555556,\"#d8576b\"],[0.6666666666666666,\"#ed7953\"],[0.7777777777777778,\"#fb9f3a\"],[0.8888888888888888,\"#fdca26\"],[1.0,\"#f0f921\"]]}],\"mesh3d\":[{\"type\":\"mesh3d\",\"colorbar\":{\"outlinewidth\":0,\"ticks\":\"\"}}],\"scatter\":[{\"fillpattern\":{\"fillmode\":\"overlay\",\"size\":10,\"solidity\":0.2},\"type\":\"scatter\"}],\"parcoords\":[{\"type\":\"parcoords\",\"line\":{\"colorbar\":{\"outlinewidth\":0,\"ticks\":\"\"}}}],\"scatterpolargl\":[{\"type\":\"scatterpolargl\",\"marker\":{\"colorbar\":{\"outlinewidth\":0,\"ticks\":\"\"}}}],\"bar\":[{\"error_x\":{\"color\":\"#2a3f5f\"},\"error_y\":{\"color\":\"#2a3f5f\"},\"marker\":{\"line\":{\"color\":\"#E5ECF6\",\"width\":0.5},\"pattern\":{\"fillmode\":\"overlay\",\"size\":10,\"solidity\":0.2}},\"type\":\"bar\"}],\"scattergeo\":[{\"type\":\"scattergeo\",\"marker\":{\"colorbar\":{\"outlinewidth\":0,\"ticks\":\"\"}}}],\"scatterpolar\":[{\"type\":\"scatterpolar\",\"marker\":{\"colorbar\":{\"outlinewidth\":0,\"ticks\":\"\"}}}],\"histogram\":[{\"marker\":{\"pattern\":{\"fillmode\":\"overlay\",\"size\":10,\"solidity\":0.2}},\"type\":\"histogram\"}],\"scattergl\":[{\"type\":\"scattergl\",\"marker\":{\"colorbar\":{\"outlinewidth\":0,\"ticks\":\"\"}}}],\"scatter3d\":[{\"type\":\"scatter3d\",\"line\":{\"colorbar\":{\"outlinewidth\":0,\"ticks\":\"\"}},\"marker\":{\"colorbar\":{\"outlinewidth\":0,\"ticks\":\"\"}}}],\"scattermapbox\":[{\"type\":\"scattermapbox\",\"marker\":{\"colorbar\":{\"outlinewidth\":0,\"ticks\":\"\"}}}],\"scatterternary\":[{\"type\":\"scatterternary\",\"marker\":{\"colorbar\":{\"outlinewidth\":0,\"ticks\":\"\"}}}],\"scattercarpet\":[{\"type\":\"scattercarpet\",\"marker\":{\"colorbar\":{\"outlinewidth\":0,\"ticks\":\"\"}}}],\"carpet\":[{\"aaxis\":{\"endlinecolor\":\"#2a3f5f\",\"gridcolor\":\"white\",\"linecolor\":\"white\",\"minorgridcolor\":\"white\",\"startlinecolor\":\"#2a3f5f\"},\"baxis\":{\"endlinecolor\":\"#2a3f5f\",\"gridcolor\":\"white\",\"linecolor\":\"white\",\"minorgridcolor\":\"white\",\"startlinecolor\":\"#2a3f5f\"},\"type\":\"carpet\"}],\"table\":[{\"cells\":{\"fill\":{\"color\":\"#EBF0F8\"},\"line\":{\"color\":\"white\"}},\"header\":{\"fill\":{\"color\":\"#C8D4E3\"},\"line\":{\"color\":\"white\"}},\"type\":\"table\"}],\"barpolar\":[{\"marker\":{\"line\":{\"color\":\"#E5ECF6\",\"width\":0.5},\"pattern\":{\"fillmode\":\"overlay\",\"size\":10,\"solidity\":0.2}},\"type\":\"barpolar\"}],\"pie\":[{\"automargin\":true,\"type\":\"pie\"}]},\"layout\":{\"autotypenumbers\":\"strict\",\"colorway\":[\"#636efa\",\"#EF553B\",\"#00cc96\",\"#ab63fa\",\"#FFA15A\",\"#19d3f3\",\"#FF6692\",\"#B6E880\",\"#FF97FF\",\"#FECB52\"],\"font\":{\"color\":\"#2a3f5f\"},\"hovermode\":\"closest\",\"hoverlabel\":{\"align\":\"left\"},\"paper_bgcolor\":\"white\",\"plot_bgcolor\":\"#E5ECF6\",\"polar\":{\"bgcolor\":\"#E5ECF6\",\"angularaxis\":{\"gridcolor\":\"white\",\"linecolor\":\"white\",\"ticks\":\"\"},\"radialaxis\":{\"gridcolor\":\"white\",\"linecolor\":\"white\",\"ticks\":\"\"}},\"ternary\":{\"bgcolor\":\"#E5ECF6\",\"aaxis\":{\"gridcolor\":\"white\",\"linecolor\":\"white\",\"ticks\":\"\"},\"baxis\":{\"gridcolor\":\"white\",\"linecolor\":\"white\",\"ticks\":\"\"},\"caxis\":{\"gridcolor\":\"white\",\"linecolor\":\"white\",\"ticks\":\"\"}},\"coloraxis\":{\"colorbar\":{\"outlinewidth\":0,\"ticks\":\"\"}},\"colorscale\":{\"sequential\":[[0.0,\"#0d0887\"],[0.1111111111111111,\"#46039f\"],[0.2222222222222222,\"#7201a8\"],[0.3333333333333333,\"#9c179e\"],[0.4444444444444444,\"#bd3786\"],[0.5555555555555556,\"#d8576b\"],[0.6666666666666666,\"#ed7953\"],[0.7777777777777778,\"#fb9f3a\"],[0.8888888888888888,\"#fdca26\"],[1.0,\"#f0f921\"]],\"sequentialminus\":[[0.0,\"#0d0887\"],[0.1111111111111111,\"#46039f\"],[0.2222222222222222,\"#7201a8\"],[0.3333333333333333,\"#9c179e\"],[0.4444444444444444,\"#bd3786\"],[0.5555555555555556,\"#d8576b\"],[0.6666666666666666,\"#ed7953\"],[0.7777777777777778,\"#fb9f3a\"],[0.8888888888888888,\"#fdca26\"],[1.0,\"#f0f921\"]],\"diverging\":[[0,\"#8e0152\"],[0.1,\"#c51b7d\"],[0.2,\"#de77ae\"],[0.3,\"#f1b6da\"],[0.4,\"#fde0ef\"],[0.5,\"#f7f7f7\"],[0.6,\"#e6f5d0\"],[0.7,\"#b8e186\"],[0.8,\"#7fbc41\"],[0.9,\"#4d9221\"],[1,\"#276419\"]]},\"xaxis\":{\"gridcolor\":\"white\",\"linecolor\":\"white\",\"ticks\":\"\",\"title\":{\"standoff\":15},\"zerolinecolor\":\"white\",\"automargin\":true,\"zerolinewidth\":2},\"yaxis\":{\"gridcolor\":\"white\",\"linecolor\":\"white\",\"ticks\":\"\",\"title\":{\"standoff\":15},\"zerolinecolor\":\"white\",\"automargin\":true,\"zerolinewidth\":2},\"scene\":{\"xaxis\":{\"backgroundcolor\":\"#E5ECF6\",\"gridcolor\":\"white\",\"linecolor\":\"white\",\"showbackground\":true,\"ticks\":\"\",\"zerolinecolor\":\"white\",\"gridwidth\":2},\"yaxis\":{\"backgroundcolor\":\"#E5ECF6\",\"gridcolor\":\"white\",\"linecolor\":\"white\",\"showbackground\":true,\"ticks\":\"\",\"zerolinecolor\":\"white\",\"gridwidth\":2},\"zaxis\":{\"backgroundcolor\":\"#E5ECF6\",\"gridcolor\":\"white\",\"linecolor\":\"white\",\"showbackground\":true,\"ticks\":\"\",\"zerolinecolor\":\"white\",\"gridwidth\":2}},\"shapedefaults\":{\"line\":{\"color\":\"#2a3f5f\"}},\"annotationdefaults\":{\"arrowcolor\":\"#2a3f5f\",\"arrowhead\":0,\"arrowwidth\":1},\"geo\":{\"bgcolor\":\"white\",\"landcolor\":\"#E5ECF6\",\"subunitcolor\":\"white\",\"showland\":true,\"showlakes\":true,\"lakecolor\":\"white\"},\"title\":{\"x\":0.05},\"mapbox\":{\"style\":\"light\"}}},\"xaxis\":{\"anchor\":\"y\",\"domain\":[0.0,1.0],\"title\":{\"text\":\"information gain\"}},\"yaxis\":{\"anchor\":\"x\",\"domain\":[0.0,1.0],\"title\":{\"text\":\"features\"}},\"legend\":{\"title\":{\"text\":\"variable\"},\"tracegroupgap\":0},\"title\":{\"text\":\"Feature Importance for Random Forest Classifier\"},\"barmode\":\"relative\",\"height\":400,\"width\":600,\"showlegend\":false},                        {\"responsive\": true}                    ).then(function(){\n",
       "                            \n",
       "var gd = document.getElementById('2e36f492-45d7-4202-9912-adc5108ad01f');\n",
       "var x = new MutationObserver(function (mutations, observer) {{\n",
       "        var display = window.getComputedStyle(gd).display;\n",
       "        if (!display || display === 'none') {{\n",
       "            console.log([gd, 'removed!']);\n",
       "            Plotly.purge(gd);\n",
       "            observer.disconnect();\n",
       "        }}\n",
       "}});\n",
       "\n",
       "// Listen for the removal of the full notebook cells\n",
       "var notebookContainer = gd.closest('#notebook-container');\n",
       "if (notebookContainer) {{\n",
       "    x.observe(notebookContainer, {childList: true});\n",
       "}}\n",
       "\n",
       "// Listen for the clearing of the current output cell\n",
       "var outputEl = gd.closest('.output');\n",
       "if (outputEl) {{\n",
       "    x.observe(outputEl, {childList: true});\n",
       "}}\n",
       "\n",
       "                        })                };                });            </script>        </div>"
      ]
     },
     "metadata": {},
     "output_type": "display_data"
    }
   ],
   "source": [
    "# plot feature importance \n",
    "importance = pd.Series(pipeline.steps[-1][1].feature_importances_, feature_names).sort_values()\n",
    "fig = px.bar(importance,width=600, height=400,  orientation='h', \n",
    "             title='Feature Importance for Random Forest Classifier')\n",
    "fig.update_xaxes(title='information gain')\n",
    "fig.update_yaxes(title='features')\n",
    "fig.update_layout(showlegend=False)\n",
    "fig.show()"
   ]
  },
  {
   "cell_type": "code",
   "execution_count": null,
   "id": "d6f29a68",
   "metadata": {},
   "outputs": [],
   "source": []
  },
  {
   "cell_type": "code",
   "execution_count": null,
   "id": "dbb40d4e",
   "metadata": {},
   "outputs": [],
   "source": []
  },
  {
   "cell_type": "code",
   "execution_count": 10,
   "id": "13568676",
   "metadata": {},
   "outputs": [
    {
     "name": "stdout",
     "output_type": "stream",
     "text": [
      "train sil score 0.30253355159138906\n",
      "test sil score 0.31225034884838787\n",
      "test (altered) sil score 0.2594701887217008\n"
     ]
    }
   ],
   "source": [
    "\n",
    "## calcuate train silhouette scores\n",
    "train_clusters = cluster_model.predict(X_train_scaled)\n",
    "train_sil_scores = silhouette_samples(X_train_scaled, train_clusters)\n",
    "print('train sil score',  train_sil_scores.mean())\n",
    "\n",
    "\n",
    "## calcuate test silhouette scores\n",
    "test_clusters = cluster_model.predict(X_test_scaled)\n",
    "test_sil_scores = silhouette_samples(X_test_scaled, test_clusters)\n",
    "print('test sil score',  test_sil_scores.mean())\n",
    "\n",
    "## calcuate test (altered) silhouette scores\n",
    "np.random.seed(random_state)\n",
    "X_test_altered = X_test.copy()\n",
    "\n",
    "## Randomly makes 30% of the data null\n",
    "mask = np.random.choice([np.nan, 1], size=X_test.shape, p=[.3, .7])\n",
    "X_test_altered = pd.DataFrame(mask *X_test.values, columns=X_test.columns)\n",
    "X_test_altered_imputed = pd.DataFrame(pipeline.steps[0][1].transform(X_test_altered), columns=X_test.columns)\n",
    "X_test_altered_imputed_scaled = scaler.transform(X_test_altered_imputed)\n",
    "test_altered_clusters =  cluster_model.predict(X_test_altered_imputed_scaled)\n",
    "test_altered_sil_scores = silhouette_samples(X_test_altered_imputed_scaled, test_altered_clusters )\n",
    "\n",
    "print('test (altered) sil score',  test_altered_sil_scores .mean())\n"
   ]
  },
  {
   "cell_type": "code",
   "execution_count": 11,
   "id": "40d3960a",
   "metadata": {},
   "outputs": [
    {
     "data": {
      "application/vnd.plotly.v1+json": {
       "config": {
        "plotlyServerURL": "https://plot.ly"
       },
       "data": [
        {
         "alignmentgroup": "True",
         "boxpoints": "all",
         "hovertemplate": "Source=%{x}<br>Cluster=0<br>Silhouette Score=%{y}<extra></extra>",
         "legendgroup": "Test Data (Altered)",
         "marker": {
          "color": "orange"
         },
         "name": "Test Data (Altered)",
         "notched": false,
         "offsetgroup": "Test Data (Altered)",
         "orientation": "v",
         "showlegend": true,
         "type": "box",
         "x": [
          "Test Data (Altered)",
          "Test Data (Altered)",
          "Test Data (Altered)",
          "Test Data (Altered)",
          "Test Data (Altered)",
          "Test Data (Altered)",
          "Test Data (Altered)",
          "Test Data (Altered)",
          "Test Data (Altered)",
          "Test Data (Altered)",
          "Test Data (Altered)",
          "Test Data (Altered)",
          "Test Data (Altered)",
          "Test Data (Altered)",
          "Test Data (Altered)",
          "Test Data (Altered)",
          "Test Data (Altered)",
          "Test Data (Altered)",
          "Test Data (Altered)",
          "Test Data (Altered)",
          "Test Data (Altered)",
          "Test Data (Altered)",
          "Test Data (Altered)",
          "Test Data (Altered)",
          "Test Data (Altered)",
          "Test Data (Altered)",
          "Test Data (Altered)",
          "Test Data (Altered)",
          "Test Data (Altered)",
          "Test Data (Altered)",
          "Test Data (Altered)",
          "Test Data (Altered)",
          "Test Data (Altered)",
          "Test Data (Altered)",
          "Test Data (Altered)",
          "Test Data (Altered)",
          "Test Data (Altered)",
          "Test Data (Altered)",
          "Test Data (Altered)",
          "Test Data (Altered)",
          "Test Data (Altered)",
          "Test Data (Altered)",
          "Test Data (Altered)",
          "Test Data (Altered)",
          "Test Data (Altered)",
          "Test Data (Altered)",
          "Test Data (Altered)",
          "Test Data (Altered)",
          "Test Data (Altered)",
          "Test Data (Altered)",
          "Test Data (Altered)",
          "Test Data (Altered)"
         ],
         "x0": " ",
         "xaxis": "x",
         "y": [
          -0.23876426122832967,
          -0.23071236221448294,
          -0.22708332619838856,
          -0.2171791792486662,
          -0.1984887459748762,
          -0.1906863119978208,
          -0.1742020033398471,
          -0.16803946913149537,
          -0.1644654085239676,
          -0.16201467131728525,
          -0.1376568840917198,
          -0.13204716302778458,
          -0.11740869663913875,
          -0.1092762830822941,
          -0.10702557652040531,
          -0.10531239562135274,
          -0.10086522163849332,
          -0.09481668473399844,
          -0.07501432916419885,
          -0.07275499233293375,
          -0.06604825720721053,
          -0.06096961950235446,
          -0.04364485671489888,
          -0.042994911968023124,
          -0.04143644382034305,
          -0.04073197562761585,
          -0.03831803725196748,
          -0.037962487809196054,
          -0.029665838780096668,
          -0.02613775701013678,
          -0.02105462522264474,
          -0.01985483762734207,
          -0.013579820740495662,
          0.0015419583873452637,
          0.008904170252972878,
          0.009291743824611202,
          0.026847290571567654,
          0.044548273761481495,
          0.04797870075826924,
          0.05839444143854413,
          0.06093541986631675,
          0.08208192996489139,
          0.0842152023900169,
          0.08436594342177628,
          0.08567687405497648,
          0.09117297870913955,
          0.0938151790821002,
          0.10611429392211995,
          0.10823194976178505,
          0.10844815817914662,
          0.11740971703197277,
          0.12023809827843222
         ],
         "y0": " ",
         "yaxis": "y"
        },
        {
         "alignmentgroup": "True",
         "boxpoints": "all",
         "hovertemplate": "Source=%{x}<br>Cluster=2<br>Silhouette Score=%{y}<extra></extra>",
         "legendgroup": "Test Data (Altered)",
         "marker": {
          "color": "orange"
         },
         "name": "Test Data (Altered)",
         "notched": false,
         "offsetgroup": "Test Data (Altered)",
         "orientation": "v",
         "showlegend": false,
         "type": "box",
         "x": [
          "Test Data (Altered)",
          "Test Data (Altered)",
          "Test Data (Altered)",
          "Test Data (Altered)",
          "Test Data (Altered)",
          "Test Data (Altered)",
          "Test Data (Altered)",
          "Test Data (Altered)",
          "Test Data (Altered)",
          "Test Data (Altered)",
          "Test Data (Altered)",
          "Test Data (Altered)",
          "Test Data (Altered)",
          "Test Data (Altered)",
          "Test Data (Altered)",
          "Test Data (Altered)",
          "Test Data (Altered)",
          "Test Data (Altered)",
          "Test Data (Altered)",
          "Test Data (Altered)",
          "Test Data (Altered)",
          "Test Data (Altered)",
          "Test Data (Altered)",
          "Test Data (Altered)",
          "Test Data (Altered)",
          "Test Data (Altered)",
          "Test Data (Altered)",
          "Test Data (Altered)",
          "Test Data (Altered)",
          "Test Data (Altered)",
          "Test Data (Altered)",
          "Test Data (Altered)",
          "Test Data (Altered)",
          "Test Data (Altered)",
          "Test Data (Altered)",
          "Test Data (Altered)",
          "Test Data (Altered)",
          "Test Data (Altered)",
          "Test Data (Altered)",
          "Test Data (Altered)",
          "Test Data (Altered)",
          "Test Data (Altered)",
          "Test Data (Altered)"
         ],
         "x0": " ",
         "xaxis": "x2",
         "y": [
          -0.12159780016029582,
          -0.0508284033097012,
          -0.04834655164915513,
          -0.02244595141404982,
          0.06931045075566433,
          0.07369845417097773,
          0.07847338747399442,
          0.08084399456027419,
          0.09740956015266175,
          0.09953904649152696,
          0.10120000978474118,
          0.10339445094670634,
          0.10339528524773338,
          0.10757761978529398,
          0.11434911869104827,
          0.1161705035676986,
          0.12345852908555592,
          0.13218346100137296,
          0.13429716842556066,
          0.13742649934334172,
          0.14225432331308605,
          0.1431558039292073,
          0.14758148652844427,
          0.1487706078686659,
          0.1538360854095776,
          0.17087090648720676,
          0.17676580931185487,
          0.17971760251914148,
          0.1873434596073658,
          0.18971537134707056,
          0.19018434397626052,
          0.1982735531014478,
          0.2061462312641319,
          0.2076247991099306,
          0.20979662159226814,
          0.2100089501055352,
          0.212520497034815,
          0.21415514239702835,
          0.21597254451283016,
          0.2174612031535603,
          0.23892759875082592,
          0.2775018035587619,
          0.3147218793632262
         ],
         "y0": " ",
         "yaxis": "y2"
        },
        {
         "alignmentgroup": "True",
         "boxpoints": "all",
         "hovertemplate": "Source=%{x}<br>Cluster=1<br>Silhouette Score=%{y}<extra></extra>",
         "legendgroup": "Test Data (Altered)",
         "marker": {
          "color": "orange"
         },
         "name": "Test Data (Altered)",
         "notched": false,
         "offsetgroup": "Test Data (Altered)",
         "orientation": "v",
         "showlegend": false,
         "type": "box",
         "x": [
          "Test Data (Altered)",
          "Test Data (Altered)",
          "Test Data (Altered)",
          "Test Data (Altered)",
          "Test Data (Altered)",
          "Test Data (Altered)",
          "Test Data (Altered)",
          "Test Data (Altered)",
          "Test Data (Altered)",
          "Test Data (Altered)",
          "Test Data (Altered)",
          "Test Data (Altered)",
          "Test Data (Altered)",
          "Test Data (Altered)",
          "Test Data (Altered)",
          "Test Data (Altered)",
          "Test Data (Altered)",
          "Test Data (Altered)",
          "Test Data (Altered)",
          "Test Data (Altered)",
          "Test Data (Altered)",
          "Test Data (Altered)",
          "Test Data (Altered)",
          "Test Data (Altered)",
          "Test Data (Altered)",
          "Test Data (Altered)",
          "Test Data (Altered)",
          "Test Data (Altered)",
          "Test Data (Altered)",
          "Test Data (Altered)",
          "Test Data (Altered)",
          "Test Data (Altered)",
          "Test Data (Altered)",
          "Test Data (Altered)",
          "Test Data (Altered)",
          "Test Data (Altered)",
          "Test Data (Altered)",
          "Test Data (Altered)",
          "Test Data (Altered)",
          "Test Data (Altered)",
          "Test Data (Altered)",
          "Test Data (Altered)",
          "Test Data (Altered)",
          "Test Data (Altered)",
          "Test Data (Altered)",
          "Test Data (Altered)",
          "Test Data (Altered)",
          "Test Data (Altered)",
          "Test Data (Altered)",
          "Test Data (Altered)",
          "Test Data (Altered)",
          "Test Data (Altered)",
          "Test Data (Altered)",
          "Test Data (Altered)",
          "Test Data (Altered)",
          "Test Data (Altered)",
          "Test Data (Altered)",
          "Test Data (Altered)",
          "Test Data (Altered)",
          "Test Data (Altered)",
          "Test Data (Altered)",
          "Test Data (Altered)",
          "Test Data (Altered)",
          "Test Data (Altered)",
          "Test Data (Altered)",
          "Test Data (Altered)",
          "Test Data (Altered)",
          "Test Data (Altered)",
          "Test Data (Altered)",
          "Test Data (Altered)",
          "Test Data (Altered)",
          "Test Data (Altered)",
          "Test Data (Altered)",
          "Test Data (Altered)",
          "Test Data (Altered)",
          "Test Data (Altered)",
          "Test Data (Altered)",
          "Test Data (Altered)",
          "Test Data (Altered)",
          "Test Data (Altered)",
          "Test Data (Altered)",
          "Test Data (Altered)",
          "Test Data (Altered)",
          "Test Data (Altered)",
          "Test Data (Altered)",
          "Test Data (Altered)",
          "Test Data (Altered)",
          "Test Data (Altered)",
          "Test Data (Altered)",
          "Test Data (Altered)",
          "Test Data (Altered)",
          "Test Data (Altered)",
          "Test Data (Altered)",
          "Test Data (Altered)",
          "Test Data (Altered)",
          "Test Data (Altered)",
          "Test Data (Altered)",
          "Test Data (Altered)",
          "Test Data (Altered)",
          "Test Data (Altered)",
          "Test Data (Altered)",
          "Test Data (Altered)",
          "Test Data (Altered)",
          "Test Data (Altered)",
          "Test Data (Altered)",
          "Test Data (Altered)",
          "Test Data (Altered)",
          "Test Data (Altered)",
          "Test Data (Altered)",
          "Test Data (Altered)",
          "Test Data (Altered)",
          "Test Data (Altered)",
          "Test Data (Altered)",
          "Test Data (Altered)",
          "Test Data (Altered)",
          "Test Data (Altered)",
          "Test Data (Altered)",
          "Test Data (Altered)",
          "Test Data (Altered)",
          "Test Data (Altered)",
          "Test Data (Altered)",
          "Test Data (Altered)",
          "Test Data (Altered)",
          "Test Data (Altered)",
          "Test Data (Altered)",
          "Test Data (Altered)",
          "Test Data (Altered)",
          "Test Data (Altered)",
          "Test Data (Altered)",
          "Test Data (Altered)",
          "Test Data (Altered)",
          "Test Data (Altered)",
          "Test Data (Altered)",
          "Test Data (Altered)",
          "Test Data (Altered)",
          "Test Data (Altered)",
          "Test Data (Altered)",
          "Test Data (Altered)",
          "Test Data (Altered)",
          "Test Data (Altered)",
          "Test Data (Altered)",
          "Test Data (Altered)",
          "Test Data (Altered)",
          "Test Data (Altered)",
          "Test Data (Altered)",
          "Test Data (Altered)",
          "Test Data (Altered)",
          "Test Data (Altered)",
          "Test Data (Altered)",
          "Test Data (Altered)",
          "Test Data (Altered)",
          "Test Data (Altered)",
          "Test Data (Altered)",
          "Test Data (Altered)",
          "Test Data (Altered)",
          "Test Data (Altered)",
          "Test Data (Altered)",
          "Test Data (Altered)",
          "Test Data (Altered)",
          "Test Data (Altered)",
          "Test Data (Altered)",
          "Test Data (Altered)",
          "Test Data (Altered)",
          "Test Data (Altered)",
          "Test Data (Altered)",
          "Test Data (Altered)",
          "Test Data (Altered)",
          "Test Data (Altered)",
          "Test Data (Altered)",
          "Test Data (Altered)",
          "Test Data (Altered)",
          "Test Data (Altered)",
          "Test Data (Altered)",
          "Test Data (Altered)",
          "Test Data (Altered)",
          "Test Data (Altered)",
          "Test Data (Altered)",
          "Test Data (Altered)",
          "Test Data (Altered)",
          "Test Data (Altered)",
          "Test Data (Altered)",
          "Test Data (Altered)",
          "Test Data (Altered)",
          "Test Data (Altered)",
          "Test Data (Altered)",
          "Test Data (Altered)",
          "Test Data (Altered)",
          "Test Data (Altered)",
          "Test Data (Altered)",
          "Test Data (Altered)"
         ],
         "x0": " ",
         "xaxis": "x3",
         "y": [
          0.06110590016474686,
          0.13881083546002324,
          0.14178336726998242,
          0.1668835095658405,
          0.17504101600548108,
          0.1795297964560493,
          0.18781566991332757,
          0.20104517287064058,
          0.20190954674118913,
          0.20616061095124624,
          0.20679166989960446,
          0.21229635785326365,
          0.22241804480901367,
          0.22565295998253573,
          0.22968165292818454,
          0.23131180604940477,
          0.23599660325399854,
          0.24140187053611423,
          0.24483983059947045,
          0.24505288377617984,
          0.25003313355389517,
          0.25074345698905437,
          0.251815604299478,
          0.2574070618836503,
          0.2577508228278759,
          0.25878565626863576,
          0.2621129745582487,
          0.2636033839184526,
          0.2669332201334962,
          0.26918959440315,
          0.26930858628803134,
          0.27380069046743444,
          0.27398302170055716,
          0.27653186816873393,
          0.27661375099001967,
          0.280105131032958,
          0.290587566280159,
          0.2964351011581881,
          0.2990919545024662,
          0.2997003339197886,
          0.3002694285148077,
          0.30451558790592936,
          0.30496891947576865,
          0.30707823312771076,
          0.30901109718623954,
          0.30971267538097946,
          0.3135218427273816,
          0.31584884269237284,
          0.3174970059658425,
          0.3213497996389835,
          0.32303909633047984,
          0.3258174422265914,
          0.3260208038117169,
          0.328501967681725,
          0.32957125926049075,
          0.33042620588536853,
          0.33269967253861804,
          0.3355437022053464,
          0.3366408866905726,
          0.33736966110917205,
          0.3388305137833838,
          0.3403177858591865,
          0.3409768713164886,
          0.3416405115139486,
          0.34270291442851486,
          0.3436476836825191,
          0.3450025148760239,
          0.34523609176335185,
          0.34752982989540016,
          0.3488053905980546,
          0.34900950157770416,
          0.3529596057525695,
          0.35407203972904866,
          0.35699746365460083,
          0.3579025396240617,
          0.3620148228506656,
          0.36613759040203914,
          0.3667018279013492,
          0.3695685681740937,
          0.3736702869060458,
          0.37410008888226387,
          0.3744986707261721,
          0.37729847541775846,
          0.3774247085557546,
          0.3790122288086407,
          0.3791452263316599,
          0.3804768721633685,
          0.3813825425044945,
          0.38159146613657996,
          0.3818115174466713,
          0.38262699773789294,
          0.38378787298000605,
          0.3854524869720963,
          0.3862735659322642,
          0.3872568755267303,
          0.38757342792159366,
          0.3876208706744493,
          0.3883046111799962,
          0.3889605842634695,
          0.39258481323481303,
          0.3932691790457819,
          0.39372466142726636,
          0.39612850725797966,
          0.39623281863061377,
          0.3992014456509099,
          0.40071217571024836,
          0.4018596325816852,
          0.4023996561312545,
          0.4030864294784576,
          0.4033835005896612,
          0.40549211507971117,
          0.40579338042917046,
          0.4068864717909823,
          0.4088441593653047,
          0.4105990259973297,
          0.41088914478483246,
          0.4156963999959973,
          0.415726595629936,
          0.4168323652606236,
          0.4172868225089587,
          0.4175587025868379,
          0.4215585004654846,
          0.4239294837926726,
          0.42408537670015645,
          0.42410688486623943,
          0.42431570377918787,
          0.42450609209148804,
          0.42571914646477693,
          0.428294786195711,
          0.4285342319888709,
          0.42869254330562984,
          0.4287836000266319,
          0.4290447532172511,
          0.43109783716751954,
          0.4313796703872782,
          0.433106777714096,
          0.4354527247513985,
          0.4362977403390132,
          0.4371465412668714,
          0.43828368875782353,
          0.4385372856371165,
          0.4390317557388797,
          0.43971353045469846,
          0.43979151100724756,
          0.44090829136070453,
          0.4413549396290047,
          0.4414114778727913,
          0.4420177470610202,
          0.4421006518804226,
          0.4421264367195491,
          0.4421974803856462,
          0.44240315386881196,
          0.4430787865567831,
          0.4433944674427653,
          0.4458160747168976,
          0.4458277740845046,
          0.4478982063526631,
          0.44830027588262616,
          0.4484779022013147,
          0.44851794918583826,
          0.45000210970441185,
          0.4508314364900132,
          0.45373234165294224,
          0.45425214147102083,
          0.4554100679124716,
          0.45757207791073945,
          0.45782242791704175,
          0.45835025210129643,
          0.45971212341392625,
          0.46220113441333804,
          0.4628716320796116,
          0.46363377219688506,
          0.4643742370009721,
          0.46450554471931305,
          0.4652527061711309,
          0.46844484550597715,
          0.46958220178862053,
          0.4717839446526006,
          0.4723492735680104,
          0.47346266322640684,
          0.4746841798924716,
          0.47504586684358613,
          0.47921848332085965,
          0.48135209640248494,
          0.4851027254008425,
          0.48692795193802907,
          0.492688319423679,
          0.49373448821041455,
          0.49721641545312706,
          0.5008526016383228
         ],
         "y0": " ",
         "yaxis": "y3"
        },
        {
         "alignmentgroup": "True",
         "boxpoints": "all",
         "hovertemplate": "Source=%{x}<br>Cluster=0<br>Silhouette Score=%{y}<extra></extra>",
         "legendgroup": "Test Data",
         "marker": {
          "color": "lightblue"
         },
         "name": "Test Data",
         "notched": false,
         "offsetgroup": "Test Data",
         "orientation": "v",
         "showlegend": true,
         "type": "box",
         "x": [
          "Test Data",
          "Test Data",
          "Test Data",
          "Test Data",
          "Test Data",
          "Test Data",
          "Test Data",
          "Test Data",
          "Test Data",
          "Test Data",
          "Test Data",
          "Test Data",
          "Test Data",
          "Test Data",
          "Test Data",
          "Test Data",
          "Test Data",
          "Test Data",
          "Test Data",
          "Test Data",
          "Test Data",
          "Test Data",
          "Test Data",
          "Test Data",
          "Test Data",
          "Test Data",
          "Test Data",
          "Test Data",
          "Test Data",
          "Test Data",
          "Test Data",
          "Test Data",
          "Test Data",
          "Test Data",
          "Test Data",
          "Test Data",
          "Test Data",
          "Test Data",
          "Test Data",
          "Test Data",
          "Test Data",
          "Test Data",
          "Test Data",
          "Test Data",
          "Test Data",
          "Test Data",
          "Test Data",
          "Test Data",
          "Test Data",
          "Test Data",
          "Test Data"
         ],
         "x0": " ",
         "xaxis": "x",
         "y": [
          -0.17756149121119702,
          -0.17522952350970442,
          -0.17214141865431623,
          -0.15110374451562536,
          -0.1328729282337854,
          -0.12245356247927768,
          -0.08386692883432235,
          -0.07839436822224288,
          -0.06621440127711051,
          -0.06612307381506058,
          -0.06253745806770127,
          -0.05222164883312762,
          -0.05090001756861513,
          -0.03857451341434913,
          -0.036371679315510726,
          -0.012807660451901756,
          -0.012039734604668687,
          -0.0018113780260797015,
          -0.0005596568922776116,
          -0.000314530394621701,
          0.02234250337431538,
          0.042220564999900935,
          0.04409785113769397,
          0.05326407512704324,
          0.0822781456266345,
          0.08568648801523066,
          0.09372476077059312,
          0.09715431269364698,
          0.1011793109703133,
          0.10180589516016553,
          0.10292020900860933,
          0.11413078950019417,
          0.11800453310960358,
          0.1215882445377269,
          0.1265415978229046,
          0.12890824384803237,
          0.13389769080922126,
          0.1371803280102079,
          0.15030461359616368,
          0.1564496026705306,
          0.16146585556852894,
          0.17013321039010265,
          0.177781780009819,
          0.180734657359052,
          0.18366507424984813,
          0.1958129223198346,
          0.19997655241476991,
          0.2595793425815382,
          0.2598099398630725,
          0.2632020649089558,
          0.29529904363652193
         ],
         "y0": " ",
         "yaxis": "y"
        },
        {
         "alignmentgroup": "True",
         "boxpoints": "all",
         "hovertemplate": "Source=%{x}<br>Cluster=2<br>Silhouette Score=%{y}<extra></extra>",
         "legendgroup": "Test Data",
         "marker": {
          "color": "lightblue"
         },
         "name": "Test Data",
         "notched": false,
         "offsetgroup": "Test Data",
         "orientation": "v",
         "showlegend": false,
         "type": "box",
         "x": [
          "Test Data",
          "Test Data",
          "Test Data",
          "Test Data",
          "Test Data",
          "Test Data",
          "Test Data",
          "Test Data",
          "Test Data",
          "Test Data",
          "Test Data",
          "Test Data",
          "Test Data",
          "Test Data",
          "Test Data",
          "Test Data",
          "Test Data",
          "Test Data",
          "Test Data",
          "Test Data",
          "Test Data",
          "Test Data",
          "Test Data",
          "Test Data",
          "Test Data",
          "Test Data",
          "Test Data",
          "Test Data",
          "Test Data",
          "Test Data",
          "Test Data",
          "Test Data",
          "Test Data",
          "Test Data",
          "Test Data",
          "Test Data",
          "Test Data",
          "Test Data",
          "Test Data",
          "Test Data",
          "Test Data",
          "Test Data",
          "Test Data",
          "Test Data",
          "Test Data",
          "Test Data",
          "Test Data",
          "Test Data",
          "Test Data",
          "Test Data",
          "Test Data",
          "Test Data",
          "Test Data"
         ],
         "x0": " ",
         "xaxis": "x2",
         "y": [
          -0.11373273355442365,
          -0.10343709726589723,
          -0.09752901190915053,
          -0.09235517414114953,
          -0.0420363128025033,
          -0.01581604770590125,
          0.008776113909339096,
          0.06725513746256016,
          0.08662001100573978,
          0.08945637275268649,
          0.1002735069745743,
          0.10120255941120758,
          0.10324254404680823,
          0.13201258092343046,
          0.13858532727554915,
          0.140346287632724,
          0.15688234781367577,
          0.15891674556020896,
          0.16083614157715942,
          0.18002864286054235,
          0.18638570898524054,
          0.1880754313553259,
          0.19767585632078363,
          0.2008109149616781,
          0.2159883868305118,
          0.23273475062038698,
          0.2334012450351669,
          0.2377197705941842,
          0.24451827879305119,
          0.2665182121182813,
          0.27076880321009583,
          0.2709052879139527,
          0.2795338439201306,
          0.286834851851292,
          0.2956664940799809,
          0.2992205173104671,
          0.3055706295460388,
          0.3167261491227965,
          0.3204091649186843,
          0.3348107459006453,
          0.33518858700364396,
          0.339316396474523,
          0.3562774910184952,
          0.365705246465206,
          0.36602627922240305,
          0.37020517819550486,
          0.37086660011573286,
          0.3764206505520812,
          0.3851354787489419,
          0.39483994408447476,
          0.4022755151395369,
          0.4058917874150066,
          0.4155978032015378
         ],
         "y0": " ",
         "yaxis": "y2"
        },
        {
         "alignmentgroup": "True",
         "boxpoints": "all",
         "hovertemplate": "Source=%{x}<br>Cluster=1<br>Silhouette Score=%{y}<extra></extra>",
         "legendgroup": "Test Data",
         "marker": {
          "color": "lightblue"
         },
         "name": "Test Data",
         "notched": false,
         "offsetgroup": "Test Data",
         "orientation": "v",
         "showlegend": false,
         "type": "box",
         "x": [
          "Test Data",
          "Test Data",
          "Test Data",
          "Test Data",
          "Test Data",
          "Test Data",
          "Test Data",
          "Test Data",
          "Test Data",
          "Test Data",
          "Test Data",
          "Test Data",
          "Test Data",
          "Test Data",
          "Test Data",
          "Test Data",
          "Test Data",
          "Test Data",
          "Test Data",
          "Test Data",
          "Test Data",
          "Test Data",
          "Test Data",
          "Test Data",
          "Test Data",
          "Test Data",
          "Test Data",
          "Test Data",
          "Test Data",
          "Test Data",
          "Test Data",
          "Test Data",
          "Test Data",
          "Test Data",
          "Test Data",
          "Test Data",
          "Test Data",
          "Test Data",
          "Test Data",
          "Test Data",
          "Test Data",
          "Test Data",
          "Test Data",
          "Test Data",
          "Test Data",
          "Test Data",
          "Test Data",
          "Test Data",
          "Test Data",
          "Test Data",
          "Test Data",
          "Test Data",
          "Test Data",
          "Test Data",
          "Test Data",
          "Test Data",
          "Test Data",
          "Test Data",
          "Test Data",
          "Test Data",
          "Test Data",
          "Test Data",
          "Test Data",
          "Test Data",
          "Test Data",
          "Test Data",
          "Test Data",
          "Test Data",
          "Test Data",
          "Test Data",
          "Test Data",
          "Test Data",
          "Test Data",
          "Test Data",
          "Test Data",
          "Test Data",
          "Test Data",
          "Test Data",
          "Test Data",
          "Test Data",
          "Test Data",
          "Test Data",
          "Test Data",
          "Test Data",
          "Test Data",
          "Test Data",
          "Test Data",
          "Test Data",
          "Test Data",
          "Test Data",
          "Test Data",
          "Test Data",
          "Test Data",
          "Test Data",
          "Test Data",
          "Test Data",
          "Test Data",
          "Test Data",
          "Test Data",
          "Test Data",
          "Test Data",
          "Test Data",
          "Test Data",
          "Test Data",
          "Test Data",
          "Test Data",
          "Test Data",
          "Test Data",
          "Test Data",
          "Test Data",
          "Test Data",
          "Test Data",
          "Test Data",
          "Test Data",
          "Test Data",
          "Test Data",
          "Test Data",
          "Test Data",
          "Test Data",
          "Test Data",
          "Test Data",
          "Test Data",
          "Test Data",
          "Test Data",
          "Test Data",
          "Test Data",
          "Test Data",
          "Test Data",
          "Test Data",
          "Test Data",
          "Test Data",
          "Test Data",
          "Test Data",
          "Test Data",
          "Test Data",
          "Test Data",
          "Test Data",
          "Test Data",
          "Test Data",
          "Test Data",
          "Test Data",
          "Test Data",
          "Test Data",
          "Test Data",
          "Test Data",
          "Test Data",
          "Test Data",
          "Test Data",
          "Test Data",
          "Test Data",
          "Test Data",
          "Test Data",
          "Test Data",
          "Test Data",
          "Test Data",
          "Test Data",
          "Test Data",
          "Test Data",
          "Test Data",
          "Test Data",
          "Test Data",
          "Test Data",
          "Test Data",
          "Test Data",
          "Test Data",
          "Test Data",
          "Test Data",
          "Test Data",
          "Test Data",
          "Test Data",
          "Test Data",
          "Test Data",
          "Test Data",
          "Test Data",
          "Test Data",
          "Test Data",
          "Test Data",
          "Test Data",
          "Test Data",
          "Test Data",
          "Test Data"
         ],
         "x0": " ",
         "xaxis": "x3",
         "y": [
          0.14206639739547047,
          0.17136840259811295,
          0.17482254539133116,
          0.17851742472617607,
          0.18826954322663417,
          0.1885916317176899,
          0.19475140107441935,
          0.2032891728401979,
          0.20860478514931574,
          0.2088102570309575,
          0.21325986724724463,
          0.21598447994000208,
          0.22453018152298534,
          0.23335835291784257,
          0.23621985204225202,
          0.23707120119570171,
          0.24852962564109352,
          0.24935522737866941,
          0.25329413292584846,
          0.2596055030377264,
          0.26714929715598146,
          0.2693247352474741,
          0.2755108303730674,
          0.2779996552142905,
          0.2821165681974082,
          0.2821738866321746,
          0.28444814584910244,
          0.28847014057021925,
          0.29278989761372237,
          0.2929928834866266,
          0.2976889890577779,
          0.30282373854724126,
          0.30845804275520217,
          0.3098057987432604,
          0.31175278405388956,
          0.3120666580666504,
          0.3151925060571306,
          0.3155855914003828,
          0.3180547144996952,
          0.3206499455923373,
          0.32477629891843673,
          0.32543566887924263,
          0.3256622845136063,
          0.32693577074486047,
          0.32938367331949914,
          0.32958506992242564,
          0.33486707168125185,
          0.3355930556312941,
          0.3361795140135634,
          0.3408717866452536,
          0.34161401692035387,
          0.342345377897818,
          0.3433029961243546,
          0.3452502373768348,
          0.35914604796950417,
          0.3592249295305861,
          0.36112153930233437,
          0.36602828312958147,
          0.36639306181951753,
          0.36823043466157795,
          0.36961551801748177,
          0.37093811964082923,
          0.3717578258429968,
          0.37486267392274886,
          0.37540390508668353,
          0.37807710412972895,
          0.378331864547577,
          0.3792453189404854,
          0.3868045878628773,
          0.3882590130130119,
          0.38851261958445527,
          0.3923265994686751,
          0.3989472089578261,
          0.400062563635786,
          0.4012364825778358,
          0.4090748201355317,
          0.41417708082655685,
          0.42144369295909423,
          0.42543869435134746,
          0.42579287216104056,
          0.42583383624517335,
          0.4265061939890684,
          0.42777626405177915,
          0.4334453378247872,
          0.4348468159226848,
          0.4350181137720794,
          0.4356253346659015,
          0.43566307821497646,
          0.4416864988483945,
          0.4417449380407852,
          0.4428172348520777,
          0.4454592040430355,
          0.44673207564498235,
          0.446824292493632,
          0.4483278793292576,
          0.45238051934979756,
          0.4538274733927831,
          0.4542423220534987,
          0.4548965296587202,
          0.4558330293933807,
          0.4591203646736592,
          0.4605375306524667,
          0.4605441878206225,
          0.46131708484181055,
          0.4622330408907027,
          0.4646517200655892,
          0.46529733099057846,
          0.46758571232127843,
          0.46785894015230733,
          0.4691667033066052,
          0.4695108069006118,
          0.4711641931067273,
          0.4733108933370117,
          0.4766104796942518,
          0.4780845152704312,
          0.4793633438128102,
          0.4800289324262071,
          0.4804004832818603,
          0.4863919786759854,
          0.4866314740853954,
          0.48663780120173455,
          0.4869352285231701,
          0.48757918030202985,
          0.48966091128125366,
          0.4909453105610965,
          0.4921782844818034,
          0.4929527958197357,
          0.4939467434202261,
          0.4945909532946051,
          0.4969715472847416,
          0.49844284335294065,
          0.4994746570944807,
          0.499585695230025,
          0.5000150612764437,
          0.5013406802916976,
          0.5021439895096662,
          0.5028184841747805,
          0.503782987858276,
          0.5046847713662903,
          0.5069727131953818,
          0.5107346432180471,
          0.5117085836855408,
          0.5119022716157895,
          0.5122212722811831,
          0.5142311335700355,
          0.5160196937915043,
          0.5181553518118213,
          0.5181633786850951,
          0.5183091755342748,
          0.5186601758513588,
          0.5207110478154771,
          0.5207629258392373,
          0.522857506949905,
          0.5236257516401653,
          0.5239377762309808,
          0.5244251236272557,
          0.5262198568391815,
          0.5272532796665782,
          0.5291284577078622,
          0.5315004191210105,
          0.5324329606726633,
          0.534506616047004,
          0.5367848371202919,
          0.5383269621438795,
          0.5390082876209374,
          0.5397170001964775,
          0.5401306401563017,
          0.5418654367123936,
          0.542019995510703,
          0.5435301625877463,
          0.5437067647353752,
          0.5444055657387963,
          0.5451769264620127,
          0.5490485185850449,
          0.5494218772360556,
          0.5500135033035799,
          0.551305143111775,
          0.5518160449824135,
          0.5524156375268614,
          0.5558913200686931,
          0.5561391607751371
         ],
         "y0": " ",
         "yaxis": "y3"
        },
        {
         "alignmentgroup": "True",
         "boxpoints": "all",
         "hovertemplate": "Source=%{x}<br>Cluster=0<br>Silhouette Score=%{y}<extra></extra>",
         "legendgroup": "Training Data",
         "marker": {
          "color": "blue"
         },
         "name": "Training Data",
         "notched": false,
         "offsetgroup": "Training Data",
         "orientation": "v",
         "showlegend": true,
         "type": "box",
         "x": [
          "Training Data",
          "Training Data",
          "Training Data",
          "Training Data",
          "Training Data",
          "Training Data",
          "Training Data",
          "Training Data",
          "Training Data",
          "Training Data",
          "Training Data",
          "Training Data",
          "Training Data",
          "Training Data",
          "Training Data",
          "Training Data",
          "Training Data",
          "Training Data",
          "Training Data",
          "Training Data",
          "Training Data",
          "Training Data",
          "Training Data",
          "Training Data",
          "Training Data",
          "Training Data",
          "Training Data",
          "Training Data",
          "Training Data",
          "Training Data",
          "Training Data",
          "Training Data",
          "Training Data",
          "Training Data",
          "Training Data",
          "Training Data",
          "Training Data",
          "Training Data",
          "Training Data",
          "Training Data",
          "Training Data",
          "Training Data",
          "Training Data",
          "Training Data",
          "Training Data",
          "Training Data",
          "Training Data",
          "Training Data",
          "Training Data",
          "Training Data",
          "Training Data",
          "Training Data",
          "Training Data"
         ],
         "x0": " ",
         "xaxis": "x",
         "y": [
          -0.1367965692833378,
          -0.13219078567720846,
          -0.13062177774383824,
          -0.113518737324638,
          -0.10435273267167845,
          -0.09450080661989717,
          -0.06372981501338984,
          -0.060728089043433596,
          -0.02812563595075669,
          -0.02419303953168765,
          -0.008792772345876887,
          -0.0053942937633987605,
          -0.0011066869196011142,
          0.013371305040858076,
          0.014909450955451969,
          0.015510187212947163,
          0.029525295686398622,
          0.04143068238671138,
          0.048649711386312695,
          0.05653327190053387,
          0.06671934294187054,
          0.06959361420954611,
          0.07392411929149667,
          0.07538159950055448,
          0.07764165034978839,
          0.08115873697088362,
          0.09399865700015748,
          0.11501134508827132,
          0.13313618462169705,
          0.13481714369045952,
          0.13552818904778083,
          0.13875720199793903,
          0.15958389471396145,
          0.16310740284261485,
          0.16659543626086437,
          0.16757335652654884,
          0.17062606218554024,
          0.17112116919173284,
          0.17328539355466013,
          0.1812700790701186,
          0.18549512933135096,
          0.19918534026266152,
          0.20106908988732902,
          0.20705604788251558,
          0.21150572729344067,
          0.21166902264779647,
          0.2151551571795728,
          0.22072166070878244,
          0.22380030839562842,
          0.2673538486555528,
          0.28459795178799024,
          0.2875417288628166,
          0.31745416634260465
         ],
         "y0": " ",
         "yaxis": "y"
        },
        {
         "alignmentgroup": "True",
         "boxpoints": "all",
         "hovertemplate": "Source=%{x}<br>Cluster=2<br>Silhouette Score=%{y}<extra></extra>",
         "legendgroup": "Training Data",
         "marker": {
          "color": "blue"
         },
         "name": "Training Data",
         "notched": false,
         "offsetgroup": "Training Data",
         "orientation": "v",
         "showlegend": false,
         "type": "box",
         "x": [
          "Training Data",
          "Training Data",
          "Training Data",
          "Training Data",
          "Training Data",
          "Training Data",
          "Training Data",
          "Training Data",
          "Training Data",
          "Training Data",
          "Training Data",
          "Training Data",
          "Training Data",
          "Training Data",
          "Training Data",
          "Training Data",
          "Training Data",
          "Training Data",
          "Training Data",
          "Training Data",
          "Training Data",
          "Training Data",
          "Training Data",
          "Training Data",
          "Training Data",
          "Training Data",
          "Training Data",
          "Training Data",
          "Training Data",
          "Training Data",
          "Training Data",
          "Training Data",
          "Training Data",
          "Training Data",
          "Training Data",
          "Training Data",
          "Training Data",
          "Training Data",
          "Training Data",
          "Training Data",
          "Training Data",
          "Training Data",
          "Training Data",
          "Training Data",
          "Training Data",
          "Training Data",
          "Training Data",
          "Training Data",
          "Training Data",
          "Training Data",
          "Training Data",
          "Training Data",
          "Training Data",
          "Training Data",
          "Training Data",
          "Training Data",
          "Training Data",
          "Training Data",
          "Training Data",
          "Training Data",
          "Training Data",
          "Training Data",
          "Training Data",
          "Training Data",
          "Training Data"
         ],
         "x0": " ",
         "xaxis": "x2",
         "y": [
          -0.09293367555483815,
          -0.09173863027842481,
          -0.07163707056455641,
          -0.04670663029726773,
          -0.012197633251877091,
          0.010234969874161955,
          0.020974132351720288,
          0.0471725102267036,
          0.047382246904535984,
          0.06109397307016297,
          0.06293970534292474,
          0.0947146469030533,
          0.10270761660127169,
          0.11271424894965067,
          0.12240045325278806,
          0.1317621983364139,
          0.13711651839737543,
          0.14827048130208814,
          0.15128425619502997,
          0.16607951569925797,
          0.16840122030229068,
          0.17263827832224854,
          0.18548547248045277,
          0.18709375215056767,
          0.18747762300282358,
          0.19122580130547265,
          0.19929532806127437,
          0.20235642096396428,
          0.20456888861701655,
          0.21660486975227466,
          0.22091874975691367,
          0.22183829106255493,
          0.22224611228321972,
          0.2253216729531892,
          0.22627525916651234,
          0.22715005930367949,
          0.2291392542816413,
          0.23435901414597735,
          0.23439578302371017,
          0.24346711433334514,
          0.24358158557816434,
          0.24508275744057995,
          0.2472697261823311,
          0.24741621157041077,
          0.2527303306786269,
          0.2558298393858797,
          0.2575664089169653,
          0.2618451623409932,
          0.26840709856566614,
          0.2695067661487397,
          0.2790914338287809,
          0.28419411913299236,
          0.29106095935373877,
          0.29152714779089256,
          0.2998612311886225,
          0.3004532022750288,
          0.3015143300087148,
          0.30183367089195884,
          0.3030887960276592,
          0.3249628301941971,
          0.32901461613802885,
          0.3466793052426852,
          0.36390950487315843,
          0.3732121640488043,
          0.38451091988097363
         ],
         "y0": " ",
         "yaxis": "y2"
        },
        {
         "alignmentgroup": "True",
         "boxpoints": "all",
         "hovertemplate": "Source=%{x}<br>Cluster=1<br>Silhouette Score=%{y}<extra></extra>",
         "legendgroup": "Training Data",
         "marker": {
          "color": "blue"
         },
         "name": "Training Data",
         "notched": false,
         "offsetgroup": "Training Data",
         "orientation": "v",
         "showlegend": false,
         "type": "box",
         "x": [
          "Training Data",
          "Training Data",
          "Training Data",
          "Training Data",
          "Training Data",
          "Training Data",
          "Training Data",
          "Training Data",
          "Training Data",
          "Training Data",
          "Training Data",
          "Training Data",
          "Training Data",
          "Training Data",
          "Training Data",
          "Training Data",
          "Training Data",
          "Training Data",
          "Training Data",
          "Training Data",
          "Training Data",
          "Training Data",
          "Training Data",
          "Training Data",
          "Training Data",
          "Training Data",
          "Training Data",
          "Training Data",
          "Training Data",
          "Training Data",
          "Training Data",
          "Training Data",
          "Training Data",
          "Training Data",
          "Training Data",
          "Training Data",
          "Training Data",
          "Training Data",
          "Training Data",
          "Training Data",
          "Training Data",
          "Training Data",
          "Training Data",
          "Training Data",
          "Training Data",
          "Training Data",
          "Training Data",
          "Training Data",
          "Training Data",
          "Training Data",
          "Training Data",
          "Training Data",
          "Training Data",
          "Training Data",
          "Training Data",
          "Training Data",
          "Training Data",
          "Training Data",
          "Training Data",
          "Training Data",
          "Training Data",
          "Training Data",
          "Training Data",
          "Training Data",
          "Training Data",
          "Training Data",
          "Training Data",
          "Training Data",
          "Training Data",
          "Training Data",
          "Training Data",
          "Training Data",
          "Training Data",
          "Training Data",
          "Training Data",
          "Training Data",
          "Training Data",
          "Training Data",
          "Training Data",
          "Training Data",
          "Training Data",
          "Training Data",
          "Training Data",
          "Training Data",
          "Training Data",
          "Training Data",
          "Training Data",
          "Training Data",
          "Training Data",
          "Training Data",
          "Training Data",
          "Training Data",
          "Training Data",
          "Training Data",
          "Training Data",
          "Training Data",
          "Training Data",
          "Training Data",
          "Training Data",
          "Training Data",
          "Training Data",
          "Training Data",
          "Training Data",
          "Training Data",
          "Training Data",
          "Training Data",
          "Training Data",
          "Training Data",
          "Training Data",
          "Training Data",
          "Training Data",
          "Training Data",
          "Training Data",
          "Training Data",
          "Training Data",
          "Training Data",
          "Training Data",
          "Training Data",
          "Training Data",
          "Training Data",
          "Training Data",
          "Training Data",
          "Training Data",
          "Training Data",
          "Training Data",
          "Training Data",
          "Training Data",
          "Training Data",
          "Training Data",
          "Training Data",
          "Training Data",
          "Training Data",
          "Training Data",
          "Training Data",
          "Training Data",
          "Training Data",
          "Training Data",
          "Training Data",
          "Training Data",
          "Training Data",
          "Training Data",
          "Training Data",
          "Training Data",
          "Training Data",
          "Training Data",
          "Training Data",
          "Training Data",
          "Training Data",
          "Training Data",
          "Training Data",
          "Training Data",
          "Training Data",
          "Training Data",
          "Training Data",
          "Training Data",
          "Training Data",
          "Training Data",
          "Training Data",
          "Training Data",
          "Training Data",
          "Training Data",
          "Training Data",
          "Training Data",
          "Training Data",
          "Training Data",
          "Training Data"
         ],
         "x0": " ",
         "xaxis": "x3",
         "y": [
          0.12963364465710964,
          0.1490094870083947,
          0.15695529312545173,
          0.16948316833126595,
          0.17970516765475078,
          0.18338341005347572,
          0.18790443706189042,
          0.18800606285455765,
          0.19232410116438056,
          0.20990009039801769,
          0.2151227841165823,
          0.21870747038002342,
          0.22156263681254648,
          0.22572392498553934,
          0.23340292227094964,
          0.23740193503370335,
          0.2428106216256571,
          0.2436020691678657,
          0.24667967492961826,
          0.2547412752110374,
          0.2633598377132237,
          0.2737902761105744,
          0.2770989573209306,
          0.27908255989026126,
          0.2791641492283523,
          0.2798113255107697,
          0.2804419612378507,
          0.2827665426765826,
          0.28702871058308743,
          0.2928725619080981,
          0.30695262561747794,
          0.31143005693188935,
          0.3148690373751268,
          0.3149544414654953,
          0.31584993522526494,
          0.3191827122514421,
          0.3261422873795742,
          0.32770039349137053,
          0.33043283675497115,
          0.3425771324778288,
          0.3429660830042264,
          0.34508446683741983,
          0.34948122527388487,
          0.3509867000993034,
          0.35228092450241105,
          0.3552508208444236,
          0.3568036073953451,
          0.3573912491499494,
          0.3591894298827133,
          0.3596524716451419,
          0.36434681993849943,
          0.3651589328087882,
          0.3687347964635027,
          0.3720848729544494,
          0.3736455136699275,
          0.3822368401007714,
          0.3846069282538461,
          0.39104392156275497,
          0.3920470294430328,
          0.39293523168708305,
          0.3942404388230578,
          0.3961390351379188,
          0.4003785227887537,
          0.40169969139427786,
          0.40431561870228677,
          0.407357542009355,
          0.4073860500229554,
          0.40991839765852184,
          0.4123790275710062,
          0.41477023135115065,
          0.41779483219992825,
          0.41872337547669586,
          0.4216373403345993,
          0.42223286527471987,
          0.42305898238092204,
          0.42636325813829906,
          0.4278673127437305,
          0.42991057896418194,
          0.4301019195287706,
          0.4308528911320814,
          0.4308801708699669,
          0.4311206892665782,
          0.43120519832827875,
          0.4317688777401949,
          0.4345404926020409,
          0.4357986023057906,
          0.4365600247055729,
          0.4375956456117331,
          0.43819122692148355,
          0.4391790171724756,
          0.43934215768328944,
          0.44153950982457063,
          0.4442504472002641,
          0.44626094566332797,
          0.44707925711555224,
          0.4478314321549879,
          0.448100125526917,
          0.45155037223377814,
          0.4528150199590355,
          0.4530136038607456,
          0.45332077496010753,
          0.4562391948966583,
          0.4594780468474175,
          0.4617628643776401,
          0.4647539907385529,
          0.46630386491061243,
          0.46679276948991716,
          0.4691980053975117,
          0.471156758142158,
          0.47175696985748966,
          0.4718151602997939,
          0.4740989006335474,
          0.47778406553397,
          0.47973797461288437,
          0.48135734173929723,
          0.4861263550829736,
          0.4912332683640087,
          0.49224908592224415,
          0.4922504663671868,
          0.5025645296743696,
          0.502835179426103,
          0.5038828020410194,
          0.5061871101539737,
          0.5068548307224725,
          0.5086749308781503,
          0.5110050800793386,
          0.5112039305897842,
          0.5161656496135084,
          0.5163022888994522,
          0.5173781014228283,
          0.5179417341538768,
          0.5180825211894335,
          0.5182954500550364,
          0.5200284231960223,
          0.5214857534829652,
          0.5222175061598762,
          0.5239601964665038,
          0.5240219832248383,
          0.5248966974668887,
          0.5256838044484087,
          0.5266172999490691,
          0.5281635765565436,
          0.5318123915590877,
          0.5324388963523917,
          0.532633503540322,
          0.534557689683114,
          0.5346276870736204,
          0.5350874539676028,
          0.5351973975529298,
          0.5353919840104041,
          0.5360973950490027,
          0.5372672815027458,
          0.5373677430492495,
          0.539911746467539,
          0.5405028468351396,
          0.5419937882817063,
          0.5435267146000429,
          0.5472873766958395,
          0.5481650718304277,
          0.5487946359163374,
          0.5493592446457842,
          0.5499371831559235,
          0.5506826319822803,
          0.5542442935224876,
          0.556272045691736,
          0.557902461685185
         ],
         "y0": " ",
         "yaxis": "y3"
        }
       ],
       "layout": {
        "annotations": [
         {
          "font": {},
          "showarrow": false,
          "text": "Cluster=0",
          "x": 0.15999999999999998,
          "xanchor": "center",
          "xref": "paper",
          "y": 1,
          "yanchor": "bottom",
          "yref": "paper"
         },
         {
          "font": {},
          "showarrow": false,
          "text": "Cluster=2",
          "x": 0.49999999999999994,
          "xanchor": "center",
          "xref": "paper",
          "y": 1,
          "yanchor": "bottom",
          "yref": "paper"
         },
         {
          "font": {},
          "showarrow": false,
          "text": "Cluster=1",
          "x": 0.8399999999999999,
          "xanchor": "center",
          "xref": "paper",
          "y": 1,
          "yanchor": "bottom",
          "yref": "paper"
         }
        ],
        "boxmode": "overlay",
        "height": 600,
        "legend": {
         "title": {
          "text": "Source"
         },
         "tracegroupgap": 0
        },
        "template": {
         "data": {
          "bar": [
           {
            "error_x": {
             "color": "#2a3f5f"
            },
            "error_y": {
             "color": "#2a3f5f"
            },
            "marker": {
             "line": {
              "color": "#E5ECF6",
              "width": 0.5
             },
             "pattern": {
              "fillmode": "overlay",
              "size": 10,
              "solidity": 0.2
             }
            },
            "type": "bar"
           }
          ],
          "barpolar": [
           {
            "marker": {
             "line": {
              "color": "#E5ECF6",
              "width": 0.5
             },
             "pattern": {
              "fillmode": "overlay",
              "size": 10,
              "solidity": 0.2
             }
            },
            "type": "barpolar"
           }
          ],
          "carpet": [
           {
            "aaxis": {
             "endlinecolor": "#2a3f5f",
             "gridcolor": "white",
             "linecolor": "white",
             "minorgridcolor": "white",
             "startlinecolor": "#2a3f5f"
            },
            "baxis": {
             "endlinecolor": "#2a3f5f",
             "gridcolor": "white",
             "linecolor": "white",
             "minorgridcolor": "white",
             "startlinecolor": "#2a3f5f"
            },
            "type": "carpet"
           }
          ],
          "choropleth": [
           {
            "colorbar": {
             "outlinewidth": 0,
             "ticks": ""
            },
            "type": "choropleth"
           }
          ],
          "contour": [
           {
            "colorbar": {
             "outlinewidth": 0,
             "ticks": ""
            },
            "colorscale": [
             [
              0,
              "#0d0887"
             ],
             [
              0.1111111111111111,
              "#46039f"
             ],
             [
              0.2222222222222222,
              "#7201a8"
             ],
             [
              0.3333333333333333,
              "#9c179e"
             ],
             [
              0.4444444444444444,
              "#bd3786"
             ],
             [
              0.5555555555555556,
              "#d8576b"
             ],
             [
              0.6666666666666666,
              "#ed7953"
             ],
             [
              0.7777777777777778,
              "#fb9f3a"
             ],
             [
              0.8888888888888888,
              "#fdca26"
             ],
             [
              1,
              "#f0f921"
             ]
            ],
            "type": "contour"
           }
          ],
          "contourcarpet": [
           {
            "colorbar": {
             "outlinewidth": 0,
             "ticks": ""
            },
            "type": "contourcarpet"
           }
          ],
          "heatmap": [
           {
            "colorbar": {
             "outlinewidth": 0,
             "ticks": ""
            },
            "colorscale": [
             [
              0,
              "#0d0887"
             ],
             [
              0.1111111111111111,
              "#46039f"
             ],
             [
              0.2222222222222222,
              "#7201a8"
             ],
             [
              0.3333333333333333,
              "#9c179e"
             ],
             [
              0.4444444444444444,
              "#bd3786"
             ],
             [
              0.5555555555555556,
              "#d8576b"
             ],
             [
              0.6666666666666666,
              "#ed7953"
             ],
             [
              0.7777777777777778,
              "#fb9f3a"
             ],
             [
              0.8888888888888888,
              "#fdca26"
             ],
             [
              1,
              "#f0f921"
             ]
            ],
            "type": "heatmap"
           }
          ],
          "heatmapgl": [
           {
            "colorbar": {
             "outlinewidth": 0,
             "ticks": ""
            },
            "colorscale": [
             [
              0,
              "#0d0887"
             ],
             [
              0.1111111111111111,
              "#46039f"
             ],
             [
              0.2222222222222222,
              "#7201a8"
             ],
             [
              0.3333333333333333,
              "#9c179e"
             ],
             [
              0.4444444444444444,
              "#bd3786"
             ],
             [
              0.5555555555555556,
              "#d8576b"
             ],
             [
              0.6666666666666666,
              "#ed7953"
             ],
             [
              0.7777777777777778,
              "#fb9f3a"
             ],
             [
              0.8888888888888888,
              "#fdca26"
             ],
             [
              1,
              "#f0f921"
             ]
            ],
            "type": "heatmapgl"
           }
          ],
          "histogram": [
           {
            "marker": {
             "pattern": {
              "fillmode": "overlay",
              "size": 10,
              "solidity": 0.2
             }
            },
            "type": "histogram"
           }
          ],
          "histogram2d": [
           {
            "colorbar": {
             "outlinewidth": 0,
             "ticks": ""
            },
            "colorscale": [
             [
              0,
              "#0d0887"
             ],
             [
              0.1111111111111111,
              "#46039f"
             ],
             [
              0.2222222222222222,
              "#7201a8"
             ],
             [
              0.3333333333333333,
              "#9c179e"
             ],
             [
              0.4444444444444444,
              "#bd3786"
             ],
             [
              0.5555555555555556,
              "#d8576b"
             ],
             [
              0.6666666666666666,
              "#ed7953"
             ],
             [
              0.7777777777777778,
              "#fb9f3a"
             ],
             [
              0.8888888888888888,
              "#fdca26"
             ],
             [
              1,
              "#f0f921"
             ]
            ],
            "type": "histogram2d"
           }
          ],
          "histogram2dcontour": [
           {
            "colorbar": {
             "outlinewidth": 0,
             "ticks": ""
            },
            "colorscale": [
             [
              0,
              "#0d0887"
             ],
             [
              0.1111111111111111,
              "#46039f"
             ],
             [
              0.2222222222222222,
              "#7201a8"
             ],
             [
              0.3333333333333333,
              "#9c179e"
             ],
             [
              0.4444444444444444,
              "#bd3786"
             ],
             [
              0.5555555555555556,
              "#d8576b"
             ],
             [
              0.6666666666666666,
              "#ed7953"
             ],
             [
              0.7777777777777778,
              "#fb9f3a"
             ],
             [
              0.8888888888888888,
              "#fdca26"
             ],
             [
              1,
              "#f0f921"
             ]
            ],
            "type": "histogram2dcontour"
           }
          ],
          "mesh3d": [
           {
            "colorbar": {
             "outlinewidth": 0,
             "ticks": ""
            },
            "type": "mesh3d"
           }
          ],
          "parcoords": [
           {
            "line": {
             "colorbar": {
              "outlinewidth": 0,
              "ticks": ""
             }
            },
            "type": "parcoords"
           }
          ],
          "pie": [
           {
            "automargin": true,
            "type": "pie"
           }
          ],
          "scatter": [
           {
            "fillpattern": {
             "fillmode": "overlay",
             "size": 10,
             "solidity": 0.2
            },
            "type": "scatter"
           }
          ],
          "scatter3d": [
           {
            "line": {
             "colorbar": {
              "outlinewidth": 0,
              "ticks": ""
             }
            },
            "marker": {
             "colorbar": {
              "outlinewidth": 0,
              "ticks": ""
             }
            },
            "type": "scatter3d"
           }
          ],
          "scattercarpet": [
           {
            "marker": {
             "colorbar": {
              "outlinewidth": 0,
              "ticks": ""
             }
            },
            "type": "scattercarpet"
           }
          ],
          "scattergeo": [
           {
            "marker": {
             "colorbar": {
              "outlinewidth": 0,
              "ticks": ""
             }
            },
            "type": "scattergeo"
           }
          ],
          "scattergl": [
           {
            "marker": {
             "colorbar": {
              "outlinewidth": 0,
              "ticks": ""
             }
            },
            "type": "scattergl"
           }
          ],
          "scattermapbox": [
           {
            "marker": {
             "colorbar": {
              "outlinewidth": 0,
              "ticks": ""
             }
            },
            "type": "scattermapbox"
           }
          ],
          "scatterpolar": [
           {
            "marker": {
             "colorbar": {
              "outlinewidth": 0,
              "ticks": ""
             }
            },
            "type": "scatterpolar"
           }
          ],
          "scatterpolargl": [
           {
            "marker": {
             "colorbar": {
              "outlinewidth": 0,
              "ticks": ""
             }
            },
            "type": "scatterpolargl"
           }
          ],
          "scatterternary": [
           {
            "marker": {
             "colorbar": {
              "outlinewidth": 0,
              "ticks": ""
             }
            },
            "type": "scatterternary"
           }
          ],
          "surface": [
           {
            "colorbar": {
             "outlinewidth": 0,
             "ticks": ""
            },
            "colorscale": [
             [
              0,
              "#0d0887"
             ],
             [
              0.1111111111111111,
              "#46039f"
             ],
             [
              0.2222222222222222,
              "#7201a8"
             ],
             [
              0.3333333333333333,
              "#9c179e"
             ],
             [
              0.4444444444444444,
              "#bd3786"
             ],
             [
              0.5555555555555556,
              "#d8576b"
             ],
             [
              0.6666666666666666,
              "#ed7953"
             ],
             [
              0.7777777777777778,
              "#fb9f3a"
             ],
             [
              0.8888888888888888,
              "#fdca26"
             ],
             [
              1,
              "#f0f921"
             ]
            ],
            "type": "surface"
           }
          ],
          "table": [
           {
            "cells": {
             "fill": {
              "color": "#EBF0F8"
             },
             "line": {
              "color": "white"
             }
            },
            "header": {
             "fill": {
              "color": "#C8D4E3"
             },
             "line": {
              "color": "white"
             }
            },
            "type": "table"
           }
          ]
         },
         "layout": {
          "annotationdefaults": {
           "arrowcolor": "#2a3f5f",
           "arrowhead": 0,
           "arrowwidth": 1
          },
          "autotypenumbers": "strict",
          "coloraxis": {
           "colorbar": {
            "outlinewidth": 0,
            "ticks": ""
           }
          },
          "colorscale": {
           "diverging": [
            [
             0,
             "#8e0152"
            ],
            [
             0.1,
             "#c51b7d"
            ],
            [
             0.2,
             "#de77ae"
            ],
            [
             0.3,
             "#f1b6da"
            ],
            [
             0.4,
             "#fde0ef"
            ],
            [
             0.5,
             "#f7f7f7"
            ],
            [
             0.6,
             "#e6f5d0"
            ],
            [
             0.7,
             "#b8e186"
            ],
            [
             0.8,
             "#7fbc41"
            ],
            [
             0.9,
             "#4d9221"
            ],
            [
             1,
             "#276419"
            ]
           ],
           "sequential": [
            [
             0,
             "#0d0887"
            ],
            [
             0.1111111111111111,
             "#46039f"
            ],
            [
             0.2222222222222222,
             "#7201a8"
            ],
            [
             0.3333333333333333,
             "#9c179e"
            ],
            [
             0.4444444444444444,
             "#bd3786"
            ],
            [
             0.5555555555555556,
             "#d8576b"
            ],
            [
             0.6666666666666666,
             "#ed7953"
            ],
            [
             0.7777777777777778,
             "#fb9f3a"
            ],
            [
             0.8888888888888888,
             "#fdca26"
            ],
            [
             1,
             "#f0f921"
            ]
           ],
           "sequentialminus": [
            [
             0,
             "#0d0887"
            ],
            [
             0.1111111111111111,
             "#46039f"
            ],
            [
             0.2222222222222222,
             "#7201a8"
            ],
            [
             0.3333333333333333,
             "#9c179e"
            ],
            [
             0.4444444444444444,
             "#bd3786"
            ],
            [
             0.5555555555555556,
             "#d8576b"
            ],
            [
             0.6666666666666666,
             "#ed7953"
            ],
            [
             0.7777777777777778,
             "#fb9f3a"
            ],
            [
             0.8888888888888888,
             "#fdca26"
            ],
            [
             1,
             "#f0f921"
            ]
           ]
          },
          "colorway": [
           "#636efa",
           "#EF553B",
           "#00cc96",
           "#ab63fa",
           "#FFA15A",
           "#19d3f3",
           "#FF6692",
           "#B6E880",
           "#FF97FF",
           "#FECB52"
          ],
          "font": {
           "color": "#2a3f5f"
          },
          "geo": {
           "bgcolor": "white",
           "lakecolor": "white",
           "landcolor": "#E5ECF6",
           "showlakes": true,
           "showland": true,
           "subunitcolor": "white"
          },
          "hoverlabel": {
           "align": "left"
          },
          "hovermode": "closest",
          "mapbox": {
           "style": "light"
          },
          "paper_bgcolor": "white",
          "plot_bgcolor": "#E5ECF6",
          "polar": {
           "angularaxis": {
            "gridcolor": "white",
            "linecolor": "white",
            "ticks": ""
           },
           "bgcolor": "#E5ECF6",
           "radialaxis": {
            "gridcolor": "white",
            "linecolor": "white",
            "ticks": ""
           }
          },
          "scene": {
           "xaxis": {
            "backgroundcolor": "#E5ECF6",
            "gridcolor": "white",
            "gridwidth": 2,
            "linecolor": "white",
            "showbackground": true,
            "ticks": "",
            "zerolinecolor": "white"
           },
           "yaxis": {
            "backgroundcolor": "#E5ECF6",
            "gridcolor": "white",
            "gridwidth": 2,
            "linecolor": "white",
            "showbackground": true,
            "ticks": "",
            "zerolinecolor": "white"
           },
           "zaxis": {
            "backgroundcolor": "#E5ECF6",
            "gridcolor": "white",
            "gridwidth": 2,
            "linecolor": "white",
            "showbackground": true,
            "ticks": "",
            "zerolinecolor": "white"
           }
          },
          "shapedefaults": {
           "line": {
            "color": "#2a3f5f"
           }
          },
          "ternary": {
           "aaxis": {
            "gridcolor": "white",
            "linecolor": "white",
            "ticks": ""
           },
           "baxis": {
            "gridcolor": "white",
            "linecolor": "white",
            "ticks": ""
           },
           "bgcolor": "#E5ECF6",
           "caxis": {
            "gridcolor": "white",
            "linecolor": "white",
            "ticks": ""
           }
          },
          "title": {
           "x": 0.05
          },
          "xaxis": {
           "automargin": true,
           "gridcolor": "white",
           "linecolor": "white",
           "ticks": "",
           "title": {
            "standoff": 15
           },
           "zerolinecolor": "white",
           "zerolinewidth": 2
          },
          "yaxis": {
           "automargin": true,
           "gridcolor": "white",
           "linecolor": "white",
           "ticks": "",
           "title": {
            "standoff": 15
           },
           "zerolinecolor": "white",
           "zerolinewidth": 2
          }
         }
        },
        "title": {
         "text": "Silhouette Score Analysis of <br> Training, Test and Test (Altered) with 30% Missing values)"
        },
        "width": 800,
        "xaxis": {
         "anchor": "y",
         "autorange": true,
         "categoryarray": [
          "Test Data (Altered)",
          "Test Data",
          "Training Data"
         ],
         "categoryorder": "array",
         "domain": [
          0,
          0.31999999999999995
         ],
         "range": [
          -0.5535077288941737,
          2.5
         ],
         "title": {
          "text": "Source"
         },
         "type": "category"
        },
        "xaxis2": {
         "anchor": "y2",
         "autorange": true,
         "categoryarray": [
          "Test Data (Altered)",
          "Test Data",
          "Training Data"
         ],
         "categoryorder": "array",
         "domain": [
          0.33999999999999997,
          0.6599999999999999
         ],
         "matches": "x",
         "range": [
          -0.5535077288941737,
          2.5
         ],
         "title": {
          "text": "Source"
         },
         "type": "category"
        },
        "xaxis3": {
         "anchor": "y3",
         "autorange": true,
         "categoryarray": [
          "Test Data (Altered)",
          "Test Data",
          "Training Data"
         ],
         "categoryorder": "array",
         "domain": [
          0.6799999999999999,
          0.9999999999999999
         ],
         "matches": "x",
         "range": [
          -0.5535077288941737,
          2.5
         ],
         "title": {
          "text": "Source"
         },
         "type": "category"
        },
        "yaxis": {
         "anchor": "x",
         "autorange": true,
         "domain": [
          0,
          1
         ],
         "range": [
          -0.28302352361241384,
          0.6021617240692692
         ],
         "title": {
          "text": "Silhouette Score"
         },
         "type": "linear"
        },
        "yaxis2": {
         "anchor": "x2",
         "autorange": true,
         "domain": [
          0,
          1
         ],
         "matches": "y",
         "range": [
          -0.28302352361241384,
          0.6021617240692692
         ],
         "showticklabels": false,
         "type": "linear"
        },
        "yaxis3": {
         "anchor": "x3",
         "autorange": true,
         "domain": [
          0,
          1
         ],
         "matches": "y",
         "range": [
          -0.28302352361241384,
          0.6021617240692692
         ],
         "showticklabels": false,
         "type": "linear"
        }
       }
      },
      "text/html": [
       "<div>                            <div id=\"f15009ad-b56e-4d2c-b48c-5b4c567bf8d6\" class=\"plotly-graph-div\" style=\"height:600px; width:800px;\"></div>            <script type=\"text/javascript\">                require([\"plotly\"], function(Plotly) {                    window.PLOTLYENV=window.PLOTLYENV || {};                                    if (document.getElementById(\"f15009ad-b56e-4d2c-b48c-5b4c567bf8d6\")) {                    Plotly.newPlot(                        \"f15009ad-b56e-4d2c-b48c-5b4c567bf8d6\",                        [{\"alignmentgroup\":\"True\",\"boxpoints\":\"all\",\"hovertemplate\":\"Source=%{x}\\u003cbr\\u003eCluster=0\\u003cbr\\u003eSilhouette Score=%{y}\\u003cextra\\u003e\\u003c\\u002fextra\\u003e\",\"legendgroup\":\"Test Data (Altered)\",\"marker\":{\"color\":\"orange\"},\"name\":\"Test Data (Altered)\",\"notched\":false,\"offsetgroup\":\"Test Data (Altered)\",\"orientation\":\"v\",\"showlegend\":true,\"x\":[\"Test Data (Altered)\",\"Test Data (Altered)\",\"Test Data (Altered)\",\"Test Data (Altered)\",\"Test Data (Altered)\",\"Test Data (Altered)\",\"Test Data (Altered)\",\"Test Data (Altered)\",\"Test Data (Altered)\",\"Test Data (Altered)\",\"Test Data (Altered)\",\"Test Data (Altered)\",\"Test Data (Altered)\",\"Test Data (Altered)\",\"Test Data (Altered)\",\"Test Data (Altered)\",\"Test Data (Altered)\",\"Test Data (Altered)\",\"Test Data (Altered)\",\"Test Data (Altered)\",\"Test Data (Altered)\",\"Test Data (Altered)\",\"Test Data (Altered)\",\"Test Data (Altered)\",\"Test Data (Altered)\",\"Test Data (Altered)\",\"Test Data (Altered)\",\"Test Data (Altered)\",\"Test Data (Altered)\",\"Test Data (Altered)\",\"Test Data (Altered)\",\"Test Data (Altered)\",\"Test Data (Altered)\",\"Test Data (Altered)\",\"Test Data (Altered)\",\"Test Data (Altered)\",\"Test Data (Altered)\",\"Test Data (Altered)\",\"Test Data (Altered)\",\"Test Data (Altered)\",\"Test Data (Altered)\",\"Test Data (Altered)\",\"Test Data (Altered)\",\"Test Data (Altered)\",\"Test Data (Altered)\",\"Test Data (Altered)\",\"Test Data (Altered)\",\"Test Data (Altered)\",\"Test Data (Altered)\",\"Test Data (Altered)\",\"Test Data (Altered)\",\"Test Data (Altered)\"],\"x0\":\" \",\"xaxis\":\"x\",\"y\":[-0.23876426122832967,-0.23071236221448294,-0.22708332619838856,-0.2171791792486662,-0.1984887459748762,-0.1906863119978208,-0.1742020033398471,-0.16803946913149537,-0.1644654085239676,-0.16201467131728525,-0.1376568840917198,-0.13204716302778458,-0.11740869663913875,-0.1092762830822941,-0.10702557652040531,-0.10531239562135274,-0.10086522163849332,-0.09481668473399844,-0.07501432916419885,-0.07275499233293375,-0.06604825720721053,-0.06096961950235446,-0.04364485671489888,-0.042994911968023124,-0.04143644382034305,-0.04073197562761585,-0.03831803725196748,-0.037962487809196054,-0.029665838780096668,-0.02613775701013678,-0.02105462522264474,-0.01985483762734207,-0.013579820740495662,0.0015419583873452637,0.008904170252972878,0.009291743824611202,0.026847290571567654,0.044548273761481495,0.04797870075826924,0.05839444143854413,0.06093541986631675,0.08208192996489139,0.0842152023900169,0.08436594342177628,0.08567687405497648,0.09117297870913955,0.0938151790821002,0.10611429392211995,0.10823194976178505,0.10844815817914662,0.11740971703197277,0.12023809827843222],\"y0\":\" \",\"yaxis\":\"y\",\"type\":\"box\"},{\"alignmentgroup\":\"True\",\"boxpoints\":\"all\",\"hovertemplate\":\"Source=%{x}\\u003cbr\\u003eCluster=2\\u003cbr\\u003eSilhouette Score=%{y}\\u003cextra\\u003e\\u003c\\u002fextra\\u003e\",\"legendgroup\":\"Test Data (Altered)\",\"marker\":{\"color\":\"orange\"},\"name\":\"Test Data (Altered)\",\"notched\":false,\"offsetgroup\":\"Test Data (Altered)\",\"orientation\":\"v\",\"showlegend\":false,\"x\":[\"Test Data (Altered)\",\"Test Data (Altered)\",\"Test Data (Altered)\",\"Test Data (Altered)\",\"Test Data (Altered)\",\"Test Data (Altered)\",\"Test Data (Altered)\",\"Test Data (Altered)\",\"Test Data (Altered)\",\"Test Data (Altered)\",\"Test Data (Altered)\",\"Test Data (Altered)\",\"Test Data (Altered)\",\"Test Data (Altered)\",\"Test Data (Altered)\",\"Test Data (Altered)\",\"Test Data (Altered)\",\"Test Data (Altered)\",\"Test Data (Altered)\",\"Test Data (Altered)\",\"Test Data (Altered)\",\"Test Data (Altered)\",\"Test Data (Altered)\",\"Test Data (Altered)\",\"Test Data (Altered)\",\"Test Data (Altered)\",\"Test Data (Altered)\",\"Test Data (Altered)\",\"Test Data (Altered)\",\"Test Data (Altered)\",\"Test Data (Altered)\",\"Test Data (Altered)\",\"Test Data (Altered)\",\"Test Data (Altered)\",\"Test Data (Altered)\",\"Test Data (Altered)\",\"Test Data (Altered)\",\"Test Data (Altered)\",\"Test Data (Altered)\",\"Test Data (Altered)\",\"Test Data (Altered)\",\"Test Data (Altered)\",\"Test Data (Altered)\"],\"x0\":\" \",\"xaxis\":\"x2\",\"y\":[-0.12159780016029582,-0.0508284033097012,-0.04834655164915513,-0.02244595141404982,0.06931045075566433,0.07369845417097773,0.07847338747399442,0.08084399456027419,0.09740956015266175,0.09953904649152696,0.10120000978474118,0.10339445094670634,0.10339528524773338,0.10757761978529398,0.11434911869104827,0.1161705035676986,0.12345852908555592,0.13218346100137296,0.13429716842556066,0.13742649934334172,0.14225432331308605,0.1431558039292073,0.14758148652844427,0.1487706078686659,0.1538360854095776,0.17087090648720676,0.17676580931185487,0.17971760251914148,0.1873434596073658,0.18971537134707056,0.19018434397626052,0.1982735531014478,0.2061462312641319,0.2076247991099306,0.20979662159226814,0.2100089501055352,0.212520497034815,0.21415514239702835,0.21597254451283016,0.2174612031535603,0.23892759875082592,0.2775018035587619,0.3147218793632262],\"y0\":\" \",\"yaxis\":\"y2\",\"type\":\"box\"},{\"alignmentgroup\":\"True\",\"boxpoints\":\"all\",\"hovertemplate\":\"Source=%{x}\\u003cbr\\u003eCluster=1\\u003cbr\\u003eSilhouette Score=%{y}\\u003cextra\\u003e\\u003c\\u002fextra\\u003e\",\"legendgroup\":\"Test Data (Altered)\",\"marker\":{\"color\":\"orange\"},\"name\":\"Test Data (Altered)\",\"notched\":false,\"offsetgroup\":\"Test Data (Altered)\",\"orientation\":\"v\",\"showlegend\":false,\"x\":[\"Test Data (Altered)\",\"Test Data (Altered)\",\"Test Data (Altered)\",\"Test Data (Altered)\",\"Test Data (Altered)\",\"Test Data (Altered)\",\"Test Data (Altered)\",\"Test Data (Altered)\",\"Test Data (Altered)\",\"Test Data (Altered)\",\"Test Data (Altered)\",\"Test Data (Altered)\",\"Test Data (Altered)\",\"Test Data (Altered)\",\"Test Data (Altered)\",\"Test Data (Altered)\",\"Test Data (Altered)\",\"Test Data (Altered)\",\"Test Data (Altered)\",\"Test Data (Altered)\",\"Test Data (Altered)\",\"Test Data (Altered)\",\"Test Data (Altered)\",\"Test Data (Altered)\",\"Test Data (Altered)\",\"Test Data (Altered)\",\"Test Data (Altered)\",\"Test Data (Altered)\",\"Test Data (Altered)\",\"Test Data (Altered)\",\"Test Data (Altered)\",\"Test Data (Altered)\",\"Test Data (Altered)\",\"Test Data (Altered)\",\"Test Data (Altered)\",\"Test Data (Altered)\",\"Test Data (Altered)\",\"Test Data (Altered)\",\"Test Data (Altered)\",\"Test Data (Altered)\",\"Test Data (Altered)\",\"Test Data (Altered)\",\"Test Data (Altered)\",\"Test Data (Altered)\",\"Test Data (Altered)\",\"Test Data (Altered)\",\"Test Data (Altered)\",\"Test Data (Altered)\",\"Test Data (Altered)\",\"Test Data (Altered)\",\"Test Data (Altered)\",\"Test Data (Altered)\",\"Test Data (Altered)\",\"Test Data (Altered)\",\"Test Data (Altered)\",\"Test Data (Altered)\",\"Test Data (Altered)\",\"Test Data (Altered)\",\"Test Data (Altered)\",\"Test Data (Altered)\",\"Test Data (Altered)\",\"Test Data (Altered)\",\"Test Data (Altered)\",\"Test Data (Altered)\",\"Test Data (Altered)\",\"Test Data (Altered)\",\"Test Data (Altered)\",\"Test Data (Altered)\",\"Test Data (Altered)\",\"Test Data (Altered)\",\"Test Data (Altered)\",\"Test Data (Altered)\",\"Test Data (Altered)\",\"Test Data (Altered)\",\"Test Data (Altered)\",\"Test Data (Altered)\",\"Test Data (Altered)\",\"Test Data (Altered)\",\"Test Data (Altered)\",\"Test Data (Altered)\",\"Test Data (Altered)\",\"Test Data (Altered)\",\"Test Data (Altered)\",\"Test Data (Altered)\",\"Test Data (Altered)\",\"Test Data (Altered)\",\"Test Data (Altered)\",\"Test Data (Altered)\",\"Test Data (Altered)\",\"Test Data (Altered)\",\"Test Data (Altered)\",\"Test Data (Altered)\",\"Test Data (Altered)\",\"Test Data (Altered)\",\"Test Data (Altered)\",\"Test Data (Altered)\",\"Test Data (Altered)\",\"Test Data (Altered)\",\"Test Data (Altered)\",\"Test Data (Altered)\",\"Test Data (Altered)\",\"Test Data (Altered)\",\"Test Data (Altered)\",\"Test Data (Altered)\",\"Test Data (Altered)\",\"Test Data (Altered)\",\"Test Data (Altered)\",\"Test Data (Altered)\",\"Test Data (Altered)\",\"Test Data (Altered)\",\"Test Data (Altered)\",\"Test Data (Altered)\",\"Test Data (Altered)\",\"Test Data (Altered)\",\"Test Data (Altered)\",\"Test Data (Altered)\",\"Test Data (Altered)\",\"Test Data (Altered)\",\"Test Data (Altered)\",\"Test Data (Altered)\",\"Test Data (Altered)\",\"Test Data (Altered)\",\"Test Data (Altered)\",\"Test Data (Altered)\",\"Test Data (Altered)\",\"Test Data (Altered)\",\"Test Data (Altered)\",\"Test Data (Altered)\",\"Test Data (Altered)\",\"Test Data (Altered)\",\"Test Data (Altered)\",\"Test Data (Altered)\",\"Test Data (Altered)\",\"Test Data (Altered)\",\"Test Data (Altered)\",\"Test Data (Altered)\",\"Test Data (Altered)\",\"Test Data (Altered)\",\"Test Data (Altered)\",\"Test Data (Altered)\",\"Test Data (Altered)\",\"Test Data (Altered)\",\"Test Data (Altered)\",\"Test Data (Altered)\",\"Test Data (Altered)\",\"Test Data (Altered)\",\"Test Data (Altered)\",\"Test Data (Altered)\",\"Test Data (Altered)\",\"Test Data (Altered)\",\"Test Data (Altered)\",\"Test Data (Altered)\",\"Test Data (Altered)\",\"Test Data (Altered)\",\"Test Data (Altered)\",\"Test Data (Altered)\",\"Test Data (Altered)\",\"Test Data (Altered)\",\"Test Data (Altered)\",\"Test Data (Altered)\",\"Test Data (Altered)\",\"Test Data (Altered)\",\"Test Data (Altered)\",\"Test Data (Altered)\",\"Test Data (Altered)\",\"Test Data (Altered)\",\"Test Data (Altered)\",\"Test Data (Altered)\",\"Test Data (Altered)\",\"Test Data (Altered)\",\"Test Data (Altered)\",\"Test Data (Altered)\",\"Test Data (Altered)\",\"Test Data (Altered)\",\"Test Data (Altered)\",\"Test Data (Altered)\",\"Test Data (Altered)\",\"Test Data (Altered)\",\"Test Data (Altered)\",\"Test Data (Altered)\",\"Test Data (Altered)\",\"Test Data (Altered)\",\"Test Data (Altered)\",\"Test Data (Altered)\",\"Test Data (Altered)\",\"Test Data (Altered)\",\"Test Data (Altered)\",\"Test Data (Altered)\",\"Test Data (Altered)\",\"Test Data (Altered)\"],\"x0\":\" \",\"xaxis\":\"x3\",\"y\":[0.06110590016474686,0.13881083546002324,0.14178336726998242,0.1668835095658405,0.17504101600548108,0.1795297964560493,0.18781566991332757,0.20104517287064058,0.20190954674118913,0.20616061095124624,0.20679166989960446,0.21229635785326365,0.22241804480901367,0.22565295998253573,0.22968165292818454,0.23131180604940477,0.23599660325399854,0.24140187053611423,0.24483983059947045,0.24505288377617984,0.25003313355389517,0.25074345698905437,0.251815604299478,0.2574070618836503,0.2577508228278759,0.25878565626863576,0.2621129745582487,0.2636033839184526,0.2669332201334962,0.26918959440315,0.26930858628803134,0.27380069046743444,0.27398302170055716,0.27653186816873393,0.27661375099001967,0.280105131032958,0.290587566280159,0.2964351011581881,0.2990919545024662,0.2997003339197886,0.3002694285148077,0.30451558790592936,0.30496891947576865,0.30707823312771076,0.30901109718623954,0.30971267538097946,0.3135218427273816,0.31584884269237284,0.3174970059658425,0.3213497996389835,0.32303909633047984,0.3258174422265914,0.3260208038117169,0.328501967681725,0.32957125926049075,0.33042620588536853,0.33269967253861804,0.3355437022053464,0.3366408866905726,0.33736966110917205,0.3388305137833838,0.3403177858591865,0.3409768713164886,0.3416405115139486,0.34270291442851486,0.3436476836825191,0.3450025148760239,0.34523609176335185,0.34752982989540016,0.3488053905980546,0.34900950157770416,0.3529596057525695,0.35407203972904866,0.35699746365460083,0.3579025396240617,0.3620148228506656,0.36613759040203914,0.3667018279013492,0.3695685681740937,0.3736702869060458,0.37410008888226387,0.3744986707261721,0.37729847541775846,0.3774247085557546,0.3790122288086407,0.3791452263316599,0.3804768721633685,0.3813825425044945,0.38159146613657996,0.3818115174466713,0.38262699773789294,0.38378787298000605,0.3854524869720963,0.3862735659322642,0.3872568755267303,0.38757342792159366,0.3876208706744493,0.3883046111799962,0.3889605842634695,0.39258481323481303,0.3932691790457819,0.39372466142726636,0.39612850725797966,0.39623281863061377,0.3992014456509099,0.40071217571024836,0.4018596325816852,0.4023996561312545,0.4030864294784576,0.4033835005896612,0.40549211507971117,0.40579338042917046,0.4068864717909823,0.4088441593653047,0.4105990259973297,0.41088914478483246,0.4156963999959973,0.415726595629936,0.4168323652606236,0.4172868225089587,0.4175587025868379,0.4215585004654846,0.4239294837926726,0.42408537670015645,0.42410688486623943,0.42431570377918787,0.42450609209148804,0.42571914646477693,0.428294786195711,0.4285342319888709,0.42869254330562984,0.4287836000266319,0.4290447532172511,0.43109783716751954,0.4313796703872782,0.433106777714096,0.4354527247513985,0.4362977403390132,0.4371465412668714,0.43828368875782353,0.4385372856371165,0.4390317557388797,0.43971353045469846,0.43979151100724756,0.44090829136070453,0.4413549396290047,0.4414114778727913,0.4420177470610202,0.4421006518804226,0.4421264367195491,0.4421974803856462,0.44240315386881196,0.4430787865567831,0.4433944674427653,0.4458160747168976,0.4458277740845046,0.4478982063526631,0.44830027588262616,0.4484779022013147,0.44851794918583826,0.45000210970441185,0.4508314364900132,0.45373234165294224,0.45425214147102083,0.4554100679124716,0.45757207791073945,0.45782242791704175,0.45835025210129643,0.45971212341392625,0.46220113441333804,0.4628716320796116,0.46363377219688506,0.4643742370009721,0.46450554471931305,0.4652527061711309,0.46844484550597715,0.46958220178862053,0.4717839446526006,0.4723492735680104,0.47346266322640684,0.4746841798924716,0.47504586684358613,0.47921848332085965,0.48135209640248494,0.4851027254008425,0.48692795193802907,0.492688319423679,0.49373448821041455,0.49721641545312706,0.5008526016383228],\"y0\":\" \",\"yaxis\":\"y3\",\"type\":\"box\"},{\"alignmentgroup\":\"True\",\"boxpoints\":\"all\",\"hovertemplate\":\"Source=%{x}\\u003cbr\\u003eCluster=0\\u003cbr\\u003eSilhouette Score=%{y}\\u003cextra\\u003e\\u003c\\u002fextra\\u003e\",\"legendgroup\":\"Test Data\",\"marker\":{\"color\":\"lightblue\"},\"name\":\"Test Data\",\"notched\":false,\"offsetgroup\":\"Test Data\",\"orientation\":\"v\",\"showlegend\":true,\"x\":[\"Test Data\",\"Test Data\",\"Test Data\",\"Test Data\",\"Test Data\",\"Test Data\",\"Test Data\",\"Test Data\",\"Test Data\",\"Test Data\",\"Test Data\",\"Test Data\",\"Test Data\",\"Test Data\",\"Test Data\",\"Test Data\",\"Test Data\",\"Test Data\",\"Test Data\",\"Test Data\",\"Test Data\",\"Test Data\",\"Test Data\",\"Test Data\",\"Test Data\",\"Test Data\",\"Test Data\",\"Test Data\",\"Test Data\",\"Test Data\",\"Test Data\",\"Test Data\",\"Test Data\",\"Test Data\",\"Test Data\",\"Test Data\",\"Test Data\",\"Test Data\",\"Test Data\",\"Test Data\",\"Test Data\",\"Test Data\",\"Test Data\",\"Test Data\",\"Test Data\",\"Test Data\",\"Test Data\",\"Test Data\",\"Test Data\",\"Test Data\",\"Test Data\"],\"x0\":\" \",\"xaxis\":\"x\",\"y\":[-0.17756149121119702,-0.17522952350970442,-0.17214141865431623,-0.15110374451562536,-0.1328729282337854,-0.12245356247927768,-0.08386692883432235,-0.07839436822224288,-0.06621440127711051,-0.06612307381506058,-0.06253745806770127,-0.05222164883312762,-0.05090001756861513,-0.03857451341434913,-0.036371679315510726,-0.012807660451901756,-0.012039734604668687,-0.0018113780260797015,-0.0005596568922776116,-0.000314530394621701,0.02234250337431538,0.042220564999900935,0.04409785113769397,0.05326407512704324,0.0822781456266345,0.08568648801523066,0.09372476077059312,0.09715431269364698,0.1011793109703133,0.10180589516016553,0.10292020900860933,0.11413078950019417,0.11800453310960358,0.1215882445377269,0.1265415978229046,0.12890824384803237,0.13389769080922126,0.1371803280102079,0.15030461359616368,0.1564496026705306,0.16146585556852894,0.17013321039010265,0.177781780009819,0.180734657359052,0.18366507424984813,0.1958129223198346,0.19997655241476991,0.2595793425815382,0.2598099398630725,0.2632020649089558,0.29529904363652193],\"y0\":\" \",\"yaxis\":\"y\",\"type\":\"box\"},{\"alignmentgroup\":\"True\",\"boxpoints\":\"all\",\"hovertemplate\":\"Source=%{x}\\u003cbr\\u003eCluster=2\\u003cbr\\u003eSilhouette Score=%{y}\\u003cextra\\u003e\\u003c\\u002fextra\\u003e\",\"legendgroup\":\"Test Data\",\"marker\":{\"color\":\"lightblue\"},\"name\":\"Test Data\",\"notched\":false,\"offsetgroup\":\"Test Data\",\"orientation\":\"v\",\"showlegend\":false,\"x\":[\"Test Data\",\"Test Data\",\"Test Data\",\"Test Data\",\"Test Data\",\"Test Data\",\"Test Data\",\"Test Data\",\"Test Data\",\"Test Data\",\"Test Data\",\"Test Data\",\"Test Data\",\"Test Data\",\"Test Data\",\"Test Data\",\"Test Data\",\"Test Data\",\"Test Data\",\"Test Data\",\"Test Data\",\"Test Data\",\"Test Data\",\"Test Data\",\"Test Data\",\"Test Data\",\"Test Data\",\"Test Data\",\"Test Data\",\"Test Data\",\"Test Data\",\"Test Data\",\"Test Data\",\"Test Data\",\"Test Data\",\"Test Data\",\"Test Data\",\"Test Data\",\"Test Data\",\"Test Data\",\"Test Data\",\"Test Data\",\"Test Data\",\"Test Data\",\"Test Data\",\"Test Data\",\"Test Data\",\"Test Data\",\"Test Data\",\"Test Data\",\"Test Data\",\"Test Data\",\"Test Data\"],\"x0\":\" \",\"xaxis\":\"x2\",\"y\":[-0.11373273355442365,-0.10343709726589723,-0.09752901190915053,-0.09235517414114953,-0.0420363128025033,-0.01581604770590125,0.008776113909339096,0.06725513746256016,0.08662001100573978,0.08945637275268649,0.1002735069745743,0.10120255941120758,0.10324254404680823,0.13201258092343046,0.13858532727554915,0.140346287632724,0.15688234781367577,0.15891674556020896,0.16083614157715942,0.18002864286054235,0.18638570898524054,0.1880754313553259,0.19767585632078363,0.2008109149616781,0.2159883868305118,0.23273475062038698,0.2334012450351669,0.2377197705941842,0.24451827879305119,0.2665182121182813,0.27076880321009583,0.2709052879139527,0.2795338439201306,0.286834851851292,0.2956664940799809,0.2992205173104671,0.3055706295460388,0.3167261491227965,0.3204091649186843,0.3348107459006453,0.33518858700364396,0.339316396474523,0.3562774910184952,0.365705246465206,0.36602627922240305,0.37020517819550486,0.37086660011573286,0.3764206505520812,0.3851354787489419,0.39483994408447476,0.4022755151395369,0.4058917874150066,0.4155978032015378],\"y0\":\" \",\"yaxis\":\"y2\",\"type\":\"box\"},{\"alignmentgroup\":\"True\",\"boxpoints\":\"all\",\"hovertemplate\":\"Source=%{x}\\u003cbr\\u003eCluster=1\\u003cbr\\u003eSilhouette Score=%{y}\\u003cextra\\u003e\\u003c\\u002fextra\\u003e\",\"legendgroup\":\"Test Data\",\"marker\":{\"color\":\"lightblue\"},\"name\":\"Test Data\",\"notched\":false,\"offsetgroup\":\"Test Data\",\"orientation\":\"v\",\"showlegend\":false,\"x\":[\"Test Data\",\"Test Data\",\"Test Data\",\"Test Data\",\"Test Data\",\"Test Data\",\"Test Data\",\"Test Data\",\"Test Data\",\"Test Data\",\"Test Data\",\"Test Data\",\"Test Data\",\"Test Data\",\"Test Data\",\"Test Data\",\"Test Data\",\"Test Data\",\"Test Data\",\"Test Data\",\"Test Data\",\"Test Data\",\"Test Data\",\"Test Data\",\"Test Data\",\"Test Data\",\"Test Data\",\"Test Data\",\"Test Data\",\"Test Data\",\"Test Data\",\"Test Data\",\"Test Data\",\"Test Data\",\"Test Data\",\"Test Data\",\"Test Data\",\"Test Data\",\"Test Data\",\"Test Data\",\"Test Data\",\"Test Data\",\"Test Data\",\"Test Data\",\"Test Data\",\"Test Data\",\"Test Data\",\"Test Data\",\"Test Data\",\"Test Data\",\"Test Data\",\"Test Data\",\"Test Data\",\"Test Data\",\"Test Data\",\"Test Data\",\"Test Data\",\"Test Data\",\"Test Data\",\"Test Data\",\"Test Data\",\"Test Data\",\"Test Data\",\"Test Data\",\"Test Data\",\"Test Data\",\"Test Data\",\"Test Data\",\"Test Data\",\"Test Data\",\"Test Data\",\"Test Data\",\"Test Data\",\"Test Data\",\"Test Data\",\"Test Data\",\"Test Data\",\"Test Data\",\"Test Data\",\"Test Data\",\"Test Data\",\"Test Data\",\"Test Data\",\"Test Data\",\"Test Data\",\"Test Data\",\"Test Data\",\"Test Data\",\"Test Data\",\"Test Data\",\"Test Data\",\"Test Data\",\"Test Data\",\"Test Data\",\"Test Data\",\"Test Data\",\"Test Data\",\"Test Data\",\"Test Data\",\"Test Data\",\"Test Data\",\"Test Data\",\"Test Data\",\"Test Data\",\"Test Data\",\"Test Data\",\"Test Data\",\"Test Data\",\"Test Data\",\"Test Data\",\"Test Data\",\"Test Data\",\"Test Data\",\"Test Data\",\"Test Data\",\"Test Data\",\"Test Data\",\"Test Data\",\"Test Data\",\"Test Data\",\"Test Data\",\"Test Data\",\"Test Data\",\"Test Data\",\"Test Data\",\"Test Data\",\"Test Data\",\"Test Data\",\"Test Data\",\"Test Data\",\"Test Data\",\"Test Data\",\"Test Data\",\"Test Data\",\"Test Data\",\"Test Data\",\"Test Data\",\"Test Data\",\"Test Data\",\"Test Data\",\"Test Data\",\"Test Data\",\"Test Data\",\"Test Data\",\"Test Data\",\"Test Data\",\"Test Data\",\"Test Data\",\"Test Data\",\"Test Data\",\"Test Data\",\"Test Data\",\"Test Data\",\"Test Data\",\"Test Data\",\"Test Data\",\"Test Data\",\"Test Data\",\"Test Data\",\"Test Data\",\"Test Data\",\"Test Data\",\"Test Data\",\"Test Data\",\"Test Data\",\"Test Data\",\"Test Data\",\"Test Data\",\"Test Data\",\"Test Data\",\"Test Data\",\"Test Data\",\"Test Data\",\"Test Data\",\"Test Data\",\"Test Data\",\"Test Data\",\"Test Data\",\"Test Data\",\"Test Data\",\"Test Data\"],\"x0\":\" \",\"xaxis\":\"x3\",\"y\":[0.14206639739547047,0.17136840259811295,0.17482254539133116,0.17851742472617607,0.18826954322663417,0.1885916317176899,0.19475140107441935,0.2032891728401979,0.20860478514931574,0.2088102570309575,0.21325986724724463,0.21598447994000208,0.22453018152298534,0.23335835291784257,0.23621985204225202,0.23707120119570171,0.24852962564109352,0.24935522737866941,0.25329413292584846,0.2596055030377264,0.26714929715598146,0.2693247352474741,0.2755108303730674,0.2779996552142905,0.2821165681974082,0.2821738866321746,0.28444814584910244,0.28847014057021925,0.29278989761372237,0.2929928834866266,0.2976889890577779,0.30282373854724126,0.30845804275520217,0.3098057987432604,0.31175278405388956,0.3120666580666504,0.3151925060571306,0.3155855914003828,0.3180547144996952,0.3206499455923373,0.32477629891843673,0.32543566887924263,0.3256622845136063,0.32693577074486047,0.32938367331949914,0.32958506992242564,0.33486707168125185,0.3355930556312941,0.3361795140135634,0.3408717866452536,0.34161401692035387,0.342345377897818,0.3433029961243546,0.3452502373768348,0.35914604796950417,0.3592249295305861,0.36112153930233437,0.36602828312958147,0.36639306181951753,0.36823043466157795,0.36961551801748177,0.37093811964082923,0.3717578258429968,0.37486267392274886,0.37540390508668353,0.37807710412972895,0.378331864547577,0.3792453189404854,0.3868045878628773,0.3882590130130119,0.38851261958445527,0.3923265994686751,0.3989472089578261,0.400062563635786,0.4012364825778358,0.4090748201355317,0.41417708082655685,0.42144369295909423,0.42543869435134746,0.42579287216104056,0.42583383624517335,0.4265061939890684,0.42777626405177915,0.4334453378247872,0.4348468159226848,0.4350181137720794,0.4356253346659015,0.43566307821497646,0.4416864988483945,0.4417449380407852,0.4428172348520777,0.4454592040430355,0.44673207564498235,0.446824292493632,0.4483278793292576,0.45238051934979756,0.4538274733927831,0.4542423220534987,0.4548965296587202,0.4558330293933807,0.4591203646736592,0.4605375306524667,0.4605441878206225,0.46131708484181055,0.4622330408907027,0.4646517200655892,0.46529733099057846,0.46758571232127843,0.46785894015230733,0.4691667033066052,0.4695108069006118,0.4711641931067273,0.4733108933370117,0.4766104796942518,0.4780845152704312,0.4793633438128102,0.4800289324262071,0.4804004832818603,0.4863919786759854,0.4866314740853954,0.48663780120173455,0.4869352285231701,0.48757918030202985,0.48966091128125366,0.4909453105610965,0.4921782844818034,0.4929527958197357,0.4939467434202261,0.4945909532946051,0.4969715472847416,0.49844284335294065,0.4994746570944807,0.499585695230025,0.5000150612764437,0.5013406802916976,0.5021439895096662,0.5028184841747805,0.503782987858276,0.5046847713662903,0.5069727131953818,0.5107346432180471,0.5117085836855408,0.5119022716157895,0.5122212722811831,0.5142311335700355,0.5160196937915043,0.5181553518118213,0.5181633786850951,0.5183091755342748,0.5186601758513588,0.5207110478154771,0.5207629258392373,0.522857506949905,0.5236257516401653,0.5239377762309808,0.5244251236272557,0.5262198568391815,0.5272532796665782,0.5291284577078622,0.5315004191210105,0.5324329606726633,0.534506616047004,0.5367848371202919,0.5383269621438795,0.5390082876209374,0.5397170001964775,0.5401306401563017,0.5418654367123936,0.542019995510703,0.5435301625877463,0.5437067647353752,0.5444055657387963,0.5451769264620127,0.5490485185850449,0.5494218772360556,0.5500135033035799,0.551305143111775,0.5518160449824135,0.5524156375268614,0.5558913200686931,0.5561391607751371],\"y0\":\" \",\"yaxis\":\"y3\",\"type\":\"box\"},{\"alignmentgroup\":\"True\",\"boxpoints\":\"all\",\"hovertemplate\":\"Source=%{x}\\u003cbr\\u003eCluster=0\\u003cbr\\u003eSilhouette Score=%{y}\\u003cextra\\u003e\\u003c\\u002fextra\\u003e\",\"legendgroup\":\"Training Data\",\"marker\":{\"color\":\"blue\"},\"name\":\"Training Data\",\"notched\":false,\"offsetgroup\":\"Training Data\",\"orientation\":\"v\",\"showlegend\":true,\"x\":[\"Training Data\",\"Training Data\",\"Training Data\",\"Training Data\",\"Training Data\",\"Training Data\",\"Training Data\",\"Training Data\",\"Training Data\",\"Training Data\",\"Training Data\",\"Training Data\",\"Training Data\",\"Training Data\",\"Training Data\",\"Training Data\",\"Training Data\",\"Training Data\",\"Training Data\",\"Training Data\",\"Training Data\",\"Training Data\",\"Training Data\",\"Training Data\",\"Training Data\",\"Training Data\",\"Training Data\",\"Training Data\",\"Training Data\",\"Training Data\",\"Training Data\",\"Training Data\",\"Training Data\",\"Training Data\",\"Training Data\",\"Training Data\",\"Training Data\",\"Training Data\",\"Training Data\",\"Training Data\",\"Training Data\",\"Training Data\",\"Training Data\",\"Training Data\",\"Training Data\",\"Training Data\",\"Training Data\",\"Training Data\",\"Training Data\",\"Training Data\",\"Training Data\",\"Training Data\",\"Training Data\"],\"x0\":\" \",\"xaxis\":\"x\",\"y\":[-0.1367965692833378,-0.13219078567720846,-0.13062177774383824,-0.113518737324638,-0.10435273267167845,-0.09450080661989717,-0.06372981501338984,-0.060728089043433596,-0.02812563595075669,-0.02419303953168765,-0.008792772345876887,-0.0053942937633987605,-0.0011066869196011142,0.013371305040858076,0.014909450955451969,0.015510187212947163,0.029525295686398622,0.04143068238671138,0.048649711386312695,0.05653327190053387,0.06671934294187054,0.06959361420954611,0.07392411929149667,0.07538159950055448,0.07764165034978839,0.08115873697088362,0.09399865700015748,0.11501134508827132,0.13313618462169705,0.13481714369045952,0.13552818904778083,0.13875720199793903,0.15958389471396145,0.16310740284261485,0.16659543626086437,0.16757335652654884,0.17062606218554024,0.17112116919173284,0.17328539355466013,0.1812700790701186,0.18549512933135096,0.19918534026266152,0.20106908988732902,0.20705604788251558,0.21150572729344067,0.21166902264779647,0.2151551571795728,0.22072166070878244,0.22380030839562842,0.2673538486555528,0.28459795178799024,0.2875417288628166,0.31745416634260465],\"y0\":\" \",\"yaxis\":\"y\",\"type\":\"box\"},{\"alignmentgroup\":\"True\",\"boxpoints\":\"all\",\"hovertemplate\":\"Source=%{x}\\u003cbr\\u003eCluster=2\\u003cbr\\u003eSilhouette Score=%{y}\\u003cextra\\u003e\\u003c\\u002fextra\\u003e\",\"legendgroup\":\"Training Data\",\"marker\":{\"color\":\"blue\"},\"name\":\"Training Data\",\"notched\":false,\"offsetgroup\":\"Training Data\",\"orientation\":\"v\",\"showlegend\":false,\"x\":[\"Training Data\",\"Training Data\",\"Training Data\",\"Training Data\",\"Training Data\",\"Training Data\",\"Training Data\",\"Training Data\",\"Training Data\",\"Training Data\",\"Training Data\",\"Training Data\",\"Training Data\",\"Training Data\",\"Training Data\",\"Training Data\",\"Training Data\",\"Training Data\",\"Training Data\",\"Training Data\",\"Training Data\",\"Training Data\",\"Training Data\",\"Training Data\",\"Training Data\",\"Training Data\",\"Training Data\",\"Training Data\",\"Training Data\",\"Training Data\",\"Training Data\",\"Training Data\",\"Training Data\",\"Training Data\",\"Training Data\",\"Training Data\",\"Training Data\",\"Training Data\",\"Training Data\",\"Training Data\",\"Training Data\",\"Training Data\",\"Training Data\",\"Training Data\",\"Training Data\",\"Training Data\",\"Training Data\",\"Training Data\",\"Training Data\",\"Training Data\",\"Training Data\",\"Training Data\",\"Training Data\",\"Training Data\",\"Training Data\",\"Training Data\",\"Training Data\",\"Training Data\",\"Training Data\",\"Training Data\",\"Training Data\",\"Training Data\",\"Training Data\",\"Training Data\",\"Training Data\"],\"x0\":\" \",\"xaxis\":\"x2\",\"y\":[-0.09293367555483815,-0.09173863027842481,-0.07163707056455641,-0.04670663029726773,-0.012197633251877091,0.010234969874161955,0.020974132351720288,0.0471725102267036,0.047382246904535984,0.06109397307016297,0.06293970534292474,0.0947146469030533,0.10270761660127169,0.11271424894965067,0.12240045325278806,0.1317621983364139,0.13711651839737543,0.14827048130208814,0.15128425619502997,0.16607951569925797,0.16840122030229068,0.17263827832224854,0.18548547248045277,0.18709375215056767,0.18747762300282358,0.19122580130547265,0.19929532806127437,0.20235642096396428,0.20456888861701655,0.21660486975227466,0.22091874975691367,0.22183829106255493,0.22224611228321972,0.2253216729531892,0.22627525916651234,0.22715005930367949,0.2291392542816413,0.23435901414597735,0.23439578302371017,0.24346711433334514,0.24358158557816434,0.24508275744057995,0.2472697261823311,0.24741621157041077,0.2527303306786269,0.2558298393858797,0.2575664089169653,0.2618451623409932,0.26840709856566614,0.2695067661487397,0.2790914338287809,0.28419411913299236,0.29106095935373877,0.29152714779089256,0.2998612311886225,0.3004532022750288,0.3015143300087148,0.30183367089195884,0.3030887960276592,0.3249628301941971,0.32901461613802885,0.3466793052426852,0.36390950487315843,0.3732121640488043,0.38451091988097363],\"y0\":\" \",\"yaxis\":\"y2\",\"type\":\"box\"},{\"alignmentgroup\":\"True\",\"boxpoints\":\"all\",\"hovertemplate\":\"Source=%{x}\\u003cbr\\u003eCluster=1\\u003cbr\\u003eSilhouette Score=%{y}\\u003cextra\\u003e\\u003c\\u002fextra\\u003e\",\"legendgroup\":\"Training Data\",\"marker\":{\"color\":\"blue\"},\"name\":\"Training Data\",\"notched\":false,\"offsetgroup\":\"Training Data\",\"orientation\":\"v\",\"showlegend\":false,\"x\":[\"Training Data\",\"Training Data\",\"Training Data\",\"Training Data\",\"Training Data\",\"Training Data\",\"Training Data\",\"Training Data\",\"Training Data\",\"Training Data\",\"Training Data\",\"Training Data\",\"Training Data\",\"Training Data\",\"Training Data\",\"Training Data\",\"Training Data\",\"Training Data\",\"Training Data\",\"Training Data\",\"Training Data\",\"Training Data\",\"Training Data\",\"Training Data\",\"Training Data\",\"Training Data\",\"Training Data\",\"Training Data\",\"Training Data\",\"Training Data\",\"Training Data\",\"Training Data\",\"Training Data\",\"Training Data\",\"Training Data\",\"Training Data\",\"Training Data\",\"Training Data\",\"Training Data\",\"Training Data\",\"Training Data\",\"Training Data\",\"Training Data\",\"Training Data\",\"Training Data\",\"Training Data\",\"Training Data\",\"Training Data\",\"Training Data\",\"Training Data\",\"Training Data\",\"Training Data\",\"Training Data\",\"Training Data\",\"Training Data\",\"Training Data\",\"Training Data\",\"Training Data\",\"Training Data\",\"Training Data\",\"Training Data\",\"Training Data\",\"Training Data\",\"Training Data\",\"Training Data\",\"Training Data\",\"Training Data\",\"Training Data\",\"Training Data\",\"Training Data\",\"Training Data\",\"Training Data\",\"Training Data\",\"Training Data\",\"Training Data\",\"Training Data\",\"Training Data\",\"Training Data\",\"Training Data\",\"Training Data\",\"Training Data\",\"Training Data\",\"Training Data\",\"Training Data\",\"Training Data\",\"Training Data\",\"Training Data\",\"Training Data\",\"Training Data\",\"Training Data\",\"Training Data\",\"Training Data\",\"Training Data\",\"Training Data\",\"Training Data\",\"Training Data\",\"Training Data\",\"Training Data\",\"Training Data\",\"Training Data\",\"Training Data\",\"Training Data\",\"Training Data\",\"Training Data\",\"Training Data\",\"Training Data\",\"Training Data\",\"Training Data\",\"Training Data\",\"Training Data\",\"Training Data\",\"Training Data\",\"Training Data\",\"Training Data\",\"Training Data\",\"Training Data\",\"Training Data\",\"Training Data\",\"Training Data\",\"Training Data\",\"Training Data\",\"Training Data\",\"Training Data\",\"Training Data\",\"Training Data\",\"Training Data\",\"Training Data\",\"Training Data\",\"Training Data\",\"Training Data\",\"Training Data\",\"Training Data\",\"Training Data\",\"Training Data\",\"Training Data\",\"Training Data\",\"Training Data\",\"Training Data\",\"Training Data\",\"Training Data\",\"Training Data\",\"Training Data\",\"Training Data\",\"Training Data\",\"Training Data\",\"Training Data\",\"Training Data\",\"Training Data\",\"Training Data\",\"Training Data\",\"Training Data\",\"Training Data\",\"Training Data\",\"Training Data\",\"Training Data\",\"Training Data\",\"Training Data\",\"Training Data\",\"Training Data\",\"Training Data\",\"Training Data\",\"Training Data\",\"Training Data\",\"Training Data\",\"Training Data\",\"Training Data\"],\"x0\":\" \",\"xaxis\":\"x3\",\"y\":[0.12963364465710964,0.1490094870083947,0.15695529312545173,0.16948316833126595,0.17970516765475078,0.18338341005347572,0.18790443706189042,0.18800606285455765,0.19232410116438056,0.20990009039801769,0.2151227841165823,0.21870747038002342,0.22156263681254648,0.22572392498553934,0.23340292227094964,0.23740193503370335,0.2428106216256571,0.2436020691678657,0.24667967492961826,0.2547412752110374,0.2633598377132237,0.2737902761105744,0.2770989573209306,0.27908255989026126,0.2791641492283523,0.2798113255107697,0.2804419612378507,0.2827665426765826,0.28702871058308743,0.2928725619080981,0.30695262561747794,0.31143005693188935,0.3148690373751268,0.3149544414654953,0.31584993522526494,0.3191827122514421,0.3261422873795742,0.32770039349137053,0.33043283675497115,0.3425771324778288,0.3429660830042264,0.34508446683741983,0.34948122527388487,0.3509867000993034,0.35228092450241105,0.3552508208444236,0.3568036073953451,0.3573912491499494,0.3591894298827133,0.3596524716451419,0.36434681993849943,0.3651589328087882,0.3687347964635027,0.3720848729544494,0.3736455136699275,0.3822368401007714,0.3846069282538461,0.39104392156275497,0.3920470294430328,0.39293523168708305,0.3942404388230578,0.3961390351379188,0.4003785227887537,0.40169969139427786,0.40431561870228677,0.407357542009355,0.4073860500229554,0.40991839765852184,0.4123790275710062,0.41477023135115065,0.41779483219992825,0.41872337547669586,0.4216373403345993,0.42223286527471987,0.42305898238092204,0.42636325813829906,0.4278673127437305,0.42991057896418194,0.4301019195287706,0.4308528911320814,0.4308801708699669,0.4311206892665782,0.43120519832827875,0.4317688777401949,0.4345404926020409,0.4357986023057906,0.4365600247055729,0.4375956456117331,0.43819122692148355,0.4391790171724756,0.43934215768328944,0.44153950982457063,0.4442504472002641,0.44626094566332797,0.44707925711555224,0.4478314321549879,0.448100125526917,0.45155037223377814,0.4528150199590355,0.4530136038607456,0.45332077496010753,0.4562391948966583,0.4594780468474175,0.4617628643776401,0.4647539907385529,0.46630386491061243,0.46679276948991716,0.4691980053975117,0.471156758142158,0.47175696985748966,0.4718151602997939,0.4740989006335474,0.47778406553397,0.47973797461288437,0.48135734173929723,0.4861263550829736,0.4912332683640087,0.49224908592224415,0.4922504663671868,0.5025645296743696,0.502835179426103,0.5038828020410194,0.5061871101539737,0.5068548307224725,0.5086749308781503,0.5110050800793386,0.5112039305897842,0.5161656496135084,0.5163022888994522,0.5173781014228283,0.5179417341538768,0.5180825211894335,0.5182954500550364,0.5200284231960223,0.5214857534829652,0.5222175061598762,0.5239601964665038,0.5240219832248383,0.5248966974668887,0.5256838044484087,0.5266172999490691,0.5281635765565436,0.5318123915590877,0.5324388963523917,0.532633503540322,0.534557689683114,0.5346276870736204,0.5350874539676028,0.5351973975529298,0.5353919840104041,0.5360973950490027,0.5372672815027458,0.5373677430492495,0.539911746467539,0.5405028468351396,0.5419937882817063,0.5435267146000429,0.5472873766958395,0.5481650718304277,0.5487946359163374,0.5493592446457842,0.5499371831559235,0.5506826319822803,0.5542442935224876,0.556272045691736,0.557902461685185],\"y0\":\" \",\"yaxis\":\"y3\",\"type\":\"box\"}],                        {\"template\":{\"data\":{\"histogram2dcontour\":[{\"type\":\"histogram2dcontour\",\"colorbar\":{\"outlinewidth\":0,\"ticks\":\"\"},\"colorscale\":[[0.0,\"#0d0887\"],[0.1111111111111111,\"#46039f\"],[0.2222222222222222,\"#7201a8\"],[0.3333333333333333,\"#9c179e\"],[0.4444444444444444,\"#bd3786\"],[0.5555555555555556,\"#d8576b\"],[0.6666666666666666,\"#ed7953\"],[0.7777777777777778,\"#fb9f3a\"],[0.8888888888888888,\"#fdca26\"],[1.0,\"#f0f921\"]]}],\"choropleth\":[{\"type\":\"choropleth\",\"colorbar\":{\"outlinewidth\":0,\"ticks\":\"\"}}],\"histogram2d\":[{\"type\":\"histogram2d\",\"colorbar\":{\"outlinewidth\":0,\"ticks\":\"\"},\"colorscale\":[[0.0,\"#0d0887\"],[0.1111111111111111,\"#46039f\"],[0.2222222222222222,\"#7201a8\"],[0.3333333333333333,\"#9c179e\"],[0.4444444444444444,\"#bd3786\"],[0.5555555555555556,\"#d8576b\"],[0.6666666666666666,\"#ed7953\"],[0.7777777777777778,\"#fb9f3a\"],[0.8888888888888888,\"#fdca26\"],[1.0,\"#f0f921\"]]}],\"heatmap\":[{\"type\":\"heatmap\",\"colorbar\":{\"outlinewidth\":0,\"ticks\":\"\"},\"colorscale\":[[0.0,\"#0d0887\"],[0.1111111111111111,\"#46039f\"],[0.2222222222222222,\"#7201a8\"],[0.3333333333333333,\"#9c179e\"],[0.4444444444444444,\"#bd3786\"],[0.5555555555555556,\"#d8576b\"],[0.6666666666666666,\"#ed7953\"],[0.7777777777777778,\"#fb9f3a\"],[0.8888888888888888,\"#fdca26\"],[1.0,\"#f0f921\"]]}],\"heatmapgl\":[{\"type\":\"heatmapgl\",\"colorbar\":{\"outlinewidth\":0,\"ticks\":\"\"},\"colorscale\":[[0.0,\"#0d0887\"],[0.1111111111111111,\"#46039f\"],[0.2222222222222222,\"#7201a8\"],[0.3333333333333333,\"#9c179e\"],[0.4444444444444444,\"#bd3786\"],[0.5555555555555556,\"#d8576b\"],[0.6666666666666666,\"#ed7953\"],[0.7777777777777778,\"#fb9f3a\"],[0.8888888888888888,\"#fdca26\"],[1.0,\"#f0f921\"]]}],\"contourcarpet\":[{\"type\":\"contourcarpet\",\"colorbar\":{\"outlinewidth\":0,\"ticks\":\"\"}}],\"contour\":[{\"type\":\"contour\",\"colorbar\":{\"outlinewidth\":0,\"ticks\":\"\"},\"colorscale\":[[0.0,\"#0d0887\"],[0.1111111111111111,\"#46039f\"],[0.2222222222222222,\"#7201a8\"],[0.3333333333333333,\"#9c179e\"],[0.4444444444444444,\"#bd3786\"],[0.5555555555555556,\"#d8576b\"],[0.6666666666666666,\"#ed7953\"],[0.7777777777777778,\"#fb9f3a\"],[0.8888888888888888,\"#fdca26\"],[1.0,\"#f0f921\"]]}],\"surface\":[{\"type\":\"surface\",\"colorbar\":{\"outlinewidth\":0,\"ticks\":\"\"},\"colorscale\":[[0.0,\"#0d0887\"],[0.1111111111111111,\"#46039f\"],[0.2222222222222222,\"#7201a8\"],[0.3333333333333333,\"#9c179e\"],[0.4444444444444444,\"#bd3786\"],[0.5555555555555556,\"#d8576b\"],[0.6666666666666666,\"#ed7953\"],[0.7777777777777778,\"#fb9f3a\"],[0.8888888888888888,\"#fdca26\"],[1.0,\"#f0f921\"]]}],\"mesh3d\":[{\"type\":\"mesh3d\",\"colorbar\":{\"outlinewidth\":0,\"ticks\":\"\"}}],\"scatter\":[{\"fillpattern\":{\"fillmode\":\"overlay\",\"size\":10,\"solidity\":0.2},\"type\":\"scatter\"}],\"parcoords\":[{\"type\":\"parcoords\",\"line\":{\"colorbar\":{\"outlinewidth\":0,\"ticks\":\"\"}}}],\"scatterpolargl\":[{\"type\":\"scatterpolargl\",\"marker\":{\"colorbar\":{\"outlinewidth\":0,\"ticks\":\"\"}}}],\"bar\":[{\"error_x\":{\"color\":\"#2a3f5f\"},\"error_y\":{\"color\":\"#2a3f5f\"},\"marker\":{\"line\":{\"color\":\"#E5ECF6\",\"width\":0.5},\"pattern\":{\"fillmode\":\"overlay\",\"size\":10,\"solidity\":0.2}},\"type\":\"bar\"}],\"scattergeo\":[{\"type\":\"scattergeo\",\"marker\":{\"colorbar\":{\"outlinewidth\":0,\"ticks\":\"\"}}}],\"scatterpolar\":[{\"type\":\"scatterpolar\",\"marker\":{\"colorbar\":{\"outlinewidth\":0,\"ticks\":\"\"}}}],\"histogram\":[{\"marker\":{\"pattern\":{\"fillmode\":\"overlay\",\"size\":10,\"solidity\":0.2}},\"type\":\"histogram\"}],\"scattergl\":[{\"type\":\"scattergl\",\"marker\":{\"colorbar\":{\"outlinewidth\":0,\"ticks\":\"\"}}}],\"scatter3d\":[{\"type\":\"scatter3d\",\"line\":{\"colorbar\":{\"outlinewidth\":0,\"ticks\":\"\"}},\"marker\":{\"colorbar\":{\"outlinewidth\":0,\"ticks\":\"\"}}}],\"scattermapbox\":[{\"type\":\"scattermapbox\",\"marker\":{\"colorbar\":{\"outlinewidth\":0,\"ticks\":\"\"}}}],\"scatterternary\":[{\"type\":\"scatterternary\",\"marker\":{\"colorbar\":{\"outlinewidth\":0,\"ticks\":\"\"}}}],\"scattercarpet\":[{\"type\":\"scattercarpet\",\"marker\":{\"colorbar\":{\"outlinewidth\":0,\"ticks\":\"\"}}}],\"carpet\":[{\"aaxis\":{\"endlinecolor\":\"#2a3f5f\",\"gridcolor\":\"white\",\"linecolor\":\"white\",\"minorgridcolor\":\"white\",\"startlinecolor\":\"#2a3f5f\"},\"baxis\":{\"endlinecolor\":\"#2a3f5f\",\"gridcolor\":\"white\",\"linecolor\":\"white\",\"minorgridcolor\":\"white\",\"startlinecolor\":\"#2a3f5f\"},\"type\":\"carpet\"}],\"table\":[{\"cells\":{\"fill\":{\"color\":\"#EBF0F8\"},\"line\":{\"color\":\"white\"}},\"header\":{\"fill\":{\"color\":\"#C8D4E3\"},\"line\":{\"color\":\"white\"}},\"type\":\"table\"}],\"barpolar\":[{\"marker\":{\"line\":{\"color\":\"#E5ECF6\",\"width\":0.5},\"pattern\":{\"fillmode\":\"overlay\",\"size\":10,\"solidity\":0.2}},\"type\":\"barpolar\"}],\"pie\":[{\"automargin\":true,\"type\":\"pie\"}]},\"layout\":{\"autotypenumbers\":\"strict\",\"colorway\":[\"#636efa\",\"#EF553B\",\"#00cc96\",\"#ab63fa\",\"#FFA15A\",\"#19d3f3\",\"#FF6692\",\"#B6E880\",\"#FF97FF\",\"#FECB52\"],\"font\":{\"color\":\"#2a3f5f\"},\"hovermode\":\"closest\",\"hoverlabel\":{\"align\":\"left\"},\"paper_bgcolor\":\"white\",\"plot_bgcolor\":\"#E5ECF6\",\"polar\":{\"bgcolor\":\"#E5ECF6\",\"angularaxis\":{\"gridcolor\":\"white\",\"linecolor\":\"white\",\"ticks\":\"\"},\"radialaxis\":{\"gridcolor\":\"white\",\"linecolor\":\"white\",\"ticks\":\"\"}},\"ternary\":{\"bgcolor\":\"#E5ECF6\",\"aaxis\":{\"gridcolor\":\"white\",\"linecolor\":\"white\",\"ticks\":\"\"},\"baxis\":{\"gridcolor\":\"white\",\"linecolor\":\"white\",\"ticks\":\"\"},\"caxis\":{\"gridcolor\":\"white\",\"linecolor\":\"white\",\"ticks\":\"\"}},\"coloraxis\":{\"colorbar\":{\"outlinewidth\":0,\"ticks\":\"\"}},\"colorscale\":{\"sequential\":[[0.0,\"#0d0887\"],[0.1111111111111111,\"#46039f\"],[0.2222222222222222,\"#7201a8\"],[0.3333333333333333,\"#9c179e\"],[0.4444444444444444,\"#bd3786\"],[0.5555555555555556,\"#d8576b\"],[0.6666666666666666,\"#ed7953\"],[0.7777777777777778,\"#fb9f3a\"],[0.8888888888888888,\"#fdca26\"],[1.0,\"#f0f921\"]],\"sequentialminus\":[[0.0,\"#0d0887\"],[0.1111111111111111,\"#46039f\"],[0.2222222222222222,\"#7201a8\"],[0.3333333333333333,\"#9c179e\"],[0.4444444444444444,\"#bd3786\"],[0.5555555555555556,\"#d8576b\"],[0.6666666666666666,\"#ed7953\"],[0.7777777777777778,\"#fb9f3a\"],[0.8888888888888888,\"#fdca26\"],[1.0,\"#f0f921\"]],\"diverging\":[[0,\"#8e0152\"],[0.1,\"#c51b7d\"],[0.2,\"#de77ae\"],[0.3,\"#f1b6da\"],[0.4,\"#fde0ef\"],[0.5,\"#f7f7f7\"],[0.6,\"#e6f5d0\"],[0.7,\"#b8e186\"],[0.8,\"#7fbc41\"],[0.9,\"#4d9221\"],[1,\"#276419\"]]},\"xaxis\":{\"gridcolor\":\"white\",\"linecolor\":\"white\",\"ticks\":\"\",\"title\":{\"standoff\":15},\"zerolinecolor\":\"white\",\"automargin\":true,\"zerolinewidth\":2},\"yaxis\":{\"gridcolor\":\"white\",\"linecolor\":\"white\",\"ticks\":\"\",\"title\":{\"standoff\":15},\"zerolinecolor\":\"white\",\"automargin\":true,\"zerolinewidth\":2},\"scene\":{\"xaxis\":{\"backgroundcolor\":\"#E5ECF6\",\"gridcolor\":\"white\",\"linecolor\":\"white\",\"showbackground\":true,\"ticks\":\"\",\"zerolinecolor\":\"white\",\"gridwidth\":2},\"yaxis\":{\"backgroundcolor\":\"#E5ECF6\",\"gridcolor\":\"white\",\"linecolor\":\"white\",\"showbackground\":true,\"ticks\":\"\",\"zerolinecolor\":\"white\",\"gridwidth\":2},\"zaxis\":{\"backgroundcolor\":\"#E5ECF6\",\"gridcolor\":\"white\",\"linecolor\":\"white\",\"showbackground\":true,\"ticks\":\"\",\"zerolinecolor\":\"white\",\"gridwidth\":2}},\"shapedefaults\":{\"line\":{\"color\":\"#2a3f5f\"}},\"annotationdefaults\":{\"arrowcolor\":\"#2a3f5f\",\"arrowhead\":0,\"arrowwidth\":1},\"geo\":{\"bgcolor\":\"white\",\"landcolor\":\"#E5ECF6\",\"subunitcolor\":\"white\",\"showland\":true,\"showlakes\":true,\"lakecolor\":\"white\"},\"title\":{\"x\":0.05},\"mapbox\":{\"style\":\"light\"}}},\"xaxis\":{\"anchor\":\"y\",\"domain\":[0.0,0.31999999999999995],\"title\":{\"text\":\"Source\"},\"categoryorder\":\"array\",\"categoryarray\":[\"Test Data (Altered)\",\"Test Data\",\"Training Data\"]},\"yaxis\":{\"anchor\":\"x\",\"domain\":[0.0,1.0],\"title\":{\"text\":\"Silhouette Score\"}},\"xaxis2\":{\"anchor\":\"y2\",\"domain\":[0.33999999999999997,0.6599999999999999],\"matches\":\"x\",\"title\":{\"text\":\"Source\"},\"categoryorder\":\"array\",\"categoryarray\":[\"Test Data (Altered)\",\"Test Data\",\"Training Data\"]},\"yaxis2\":{\"anchor\":\"x2\",\"domain\":[0.0,1.0],\"matches\":\"y\",\"showticklabels\":false},\"xaxis3\":{\"anchor\":\"y3\",\"domain\":[0.6799999999999999,0.9999999999999999],\"matches\":\"x\",\"title\":{\"text\":\"Source\"},\"categoryorder\":\"array\",\"categoryarray\":[\"Test Data (Altered)\",\"Test Data\",\"Training Data\"]},\"yaxis3\":{\"anchor\":\"x3\",\"domain\":[0.0,1.0],\"matches\":\"y\",\"showticklabels\":false},\"annotations\":[{\"font\":{},\"showarrow\":false,\"text\":\"Cluster=0\",\"x\":0.15999999999999998,\"xanchor\":\"center\",\"xref\":\"paper\",\"y\":1.0,\"yanchor\":\"bottom\",\"yref\":\"paper\"},{\"font\":{},\"showarrow\":false,\"text\":\"Cluster=2\",\"x\":0.49999999999999994,\"xanchor\":\"center\",\"xref\":\"paper\",\"y\":1.0,\"yanchor\":\"bottom\",\"yref\":\"paper\"},{\"font\":{},\"showarrow\":false,\"text\":\"Cluster=1\",\"x\":0.8399999999999999,\"xanchor\":\"center\",\"xref\":\"paper\",\"y\":1.0,\"yanchor\":\"bottom\",\"yref\":\"paper\"}],\"legend\":{\"title\":{\"text\":\"Source\"},\"tracegroupgap\":0},\"title\":{\"text\":\"Silhouette Score Analysis of \\u003cbr\\u003e Training, Test and Test (Altered) with 30% Missing values)\"},\"boxmode\":\"overlay\",\"height\":600,\"width\":800},                        {\"responsive\": true}                    ).then(function(){\n",
       "                            \n",
       "var gd = document.getElementById('f15009ad-b56e-4d2c-b48c-5b4c567bf8d6');\n",
       "var x = new MutationObserver(function (mutations, observer) {{\n",
       "        var display = window.getComputedStyle(gd).display;\n",
       "        if (!display || display === 'none') {{\n",
       "            console.log([gd, 'removed!']);\n",
       "            Plotly.purge(gd);\n",
       "            observer.disconnect();\n",
       "        }}\n",
       "}});\n",
       "\n",
       "// Listen for the removal of the full notebook cells\n",
       "var notebookContainer = gd.closest('#notebook-container');\n",
       "if (notebookContainer) {{\n",
       "    x.observe(notebookContainer, {childList: true});\n",
       "}}\n",
       "\n",
       "// Listen for the clearing of the current output cell\n",
       "var outputEl = gd.closest('.output');\n",
       "if (outputEl) {{\n",
       "    x.observe(outputEl, {childList: true});\n",
       "}}\n",
       "\n",
       "                        })                };                });            </script>        </div>"
      ]
     },
     "metadata": {},
     "output_type": "display_data"
    }
   ],
   "source": [
    "\n",
    "train_sil_df = pd.DataFrame({'Silhouette Score': train_sil_scores, 'Cluster': train_clusters.astype(str)})\\\n",
    ".sort_values(['Cluster','Silhouette Score' ])\\\n",
    ".reset_index()\n",
    "train_sil_df.loc[:, 'Source'] = 'Training Data'\n",
    "\n",
    "\n",
    "\n",
    "test_sil_df = pd.DataFrame({'Silhouette Score': test_sil_scores, 'Cluster': test_clusters.astype(str)})\\\n",
    ".sort_values(['Cluster','Silhouette Score' ])\\\n",
    ".reset_index()\n",
    "\n",
    "test_sil_df.loc[:, 'Source'] = 'Test Data'\n",
    "\n",
    "\n",
    "\n",
    "test_altered_sil_df = pd.DataFrame({'Silhouette Score': test_altered_sil_scores, 'Cluster': test_altered_clusters.astype(str)})\\\n",
    ".sort_values(['Cluster','Silhouette Score' ])\\\n",
    ".reset_index()\n",
    "test_altered_sil_df.loc[:, 'Source'] = 'Test Data (Altered)'\n",
    "\n",
    "\n",
    "to_plot = pd.concat([train_sil_df, test_sil_df, test_altered_sil_df], axis=0)\n",
    "to_plot.loc[:, 'Cluster'] =  to_plot.loc[:, 'Cluster'].astype(str)\n",
    "to_plot = to_plot.sort_values(by=['Silhouette Score', 'Source', 'Cluster'])\n",
    "to_plot.index = np.arange(to_plot.shape[0])\n",
    "\n",
    "\n",
    "\n",
    "fig = px.box(to_plot ,\n",
    "             x = 'Source',\n",
    "             y ='Silhouette Score', \n",
    "             color='Source', \n",
    "             facet_col='Cluster', \n",
    "              points=\"all\",\n",
    "             title=\"Silhouette Score Analysis of <br> Training, Test and Test (Altered) with 30% Missing values)\", \n",
    "             width=800, height=600, color_discrete_map=source_dict)\n",
    "fig.show()"
   ]
  },
  {
   "cell_type": "code",
   "execution_count": null,
   "id": "e591de49",
   "metadata": {},
   "outputs": [],
   "source": []
  },
  {
   "cell_type": "code",
   "execution_count": 12,
   "id": "bdeac5b7",
   "metadata": {},
   "outputs": [
    {
     "data": {
      "application/vnd.plotly.v1+json": {
       "config": {
        "plotlyServerURL": "https://plot.ly"
       },
       "data": [
        {
         "alignmentgroup": "True",
         "hovertemplate": "Cluster=0<br>Source=Test Data (Altered)<br>Silhouette Score=%{x}<br>_index=%{y}<extra></extra>",
         "legendgroup": "0",
         "marker": {
          "color": "#636efa",
          "pattern": {
           "shape": ""
          }
         },
         "name": "0",
         "offsetgroup": "0",
         "orientation": "h",
         "showlegend": true,
         "textposition": "auto",
         "type": "bar",
         "width": 3,
         "x": [
          -0.23876426122832967,
          -0.23071236221448294,
          -0.22708332619838856,
          -0.2171791792486662,
          -0.1984887459748762,
          -0.1906863119978208,
          -0.1742020033398471,
          -0.16803946913149537,
          -0.1644654085239676,
          -0.16201467131728525,
          -0.1376568840917198,
          -0.13204716302778458,
          -0.11740869663913875,
          -0.1092762830822941,
          -0.10702557652040531,
          -0.10531239562135274,
          -0.10086522163849332,
          -0.09481668473399844,
          -0.07501432916419885,
          -0.07275499233293375,
          -0.06604825720721053,
          -0.06096961950235446,
          -0.04364485671489888,
          -0.042994911968023124,
          -0.04143644382034305,
          -0.04073197562761585,
          -0.03831803725196748,
          -0.037962487809196054,
          -0.029665838780096668,
          -0.02613775701013678,
          -0.02105462522264474,
          -0.01985483762734207,
          -0.013579820740495662,
          0.0015419583873452637,
          0.008904170252972878,
          0.009291743824611202,
          0.026847290571567654,
          0.044548273761481495,
          0.04797870075826924,
          0.05839444143854413,
          0.06093541986631675,
          0.08208192996489139,
          0.0842152023900169,
          0.08436594342177628,
          0.08567687405497648,
          0.09117297870913955,
          0.0938151790821002,
          0.10611429392211995,
          0.10823194976178505,
          0.10844815817914662,
          0.11740971703197277,
          0.12023809827843222
         ],
         "xaxis": "x",
         "y": [
          0,
          1,
          2,
          3,
          4,
          5,
          8,
          10,
          11,
          12,
          14,
          18,
          21,
          23,
          24,
          25,
          27,
          28,
          32,
          33,
          36,
          39,
          43,
          44,
          45,
          46,
          48,
          49,
          51,
          53,
          55,
          56,
          57,
          66,
          67,
          68,
          73,
          78,
          79,
          83,
          84,
          91,
          93,
          94,
          95,
          97,
          99,
          105,
          106,
          107,
          110,
          112
         ],
         "yaxis": "y"
        },
        {
         "alignmentgroup": "True",
         "hovertemplate": "Cluster=0<br>Source=Test Data<br>Silhouette Score=%{x}<br>_index=%{y}<extra></extra>",
         "legendgroup": "0",
         "marker": {
          "color": "#636efa",
          "pattern": {
           "shape": ""
          }
         },
         "name": "0",
         "offsetgroup": "0",
         "orientation": "h",
         "showlegend": false,
         "textposition": "auto",
         "type": "bar",
         "width": 3,
         "x": [
          -0.17756149121119702,
          -0.17522952350970442,
          -0.17214141865431623,
          -0.15110374451562536,
          -0.1328729282337854,
          -0.12245356247927768,
          -0.08386692883432235,
          -0.07839436822224288,
          -0.06621440127711051,
          -0.06612307381506058,
          -0.06253745806770127,
          -0.05222164883312762,
          -0.05090001756861513,
          -0.03857451341434913,
          -0.036371679315510726,
          -0.012807660451901756,
          -0.012039734604668687,
          -0.0018113780260797015,
          -0.0005596568922776116,
          -0.000314530394621701,
          0.02234250337431538,
          0.042220564999900935,
          0.04409785113769397,
          0.05326407512704324,
          0.0822781456266345,
          0.08568648801523066,
          0.09372476077059312,
          0.09715431269364698,
          0.1011793109703133,
          0.10180589516016553,
          0.10292020900860933,
          0.11413078950019417,
          0.11800453310960358,
          0.1215882445377269,
          0.1265415978229046,
          0.12890824384803237,
          0.13389769080922126,
          0.1371803280102079,
          0.15030461359616368,
          0.1564496026705306,
          0.16146585556852894,
          0.17013321039010265,
          0.177781780009819,
          0.180734657359052,
          0.18366507424984813,
          0.1958129223198346,
          0.19997655241476991,
          0.2595793425815382,
          0.2598099398630725,
          0.2632020649089558,
          0.29529904363652193
         ],
         "xaxis": "x2",
         "y": [
          6,
          7,
          9,
          13,
          16,
          20,
          30,
          31,
          34,
          35,
          38,
          41,
          42,
          47,
          50,
          58,
          59,
          62,
          64,
          65,
          72,
          76,
          77,
          81,
          92,
          96,
          98,
          101,
          102,
          103,
          104,
          108,
          111,
          113,
          114,
          115,
          117,
          120,
          122,
          123,
          125,
          129,
          133,
          134,
          136,
          138,
          140,
          148,
          149,
          150,
          154
         ],
         "yaxis": "y2"
        },
        {
         "alignmentgroup": "True",
         "hovertemplate": "Cluster=0<br>Source=Training Data<br>Silhouette Score=%{x}<br>_index=%{y}<extra></extra>",
         "legendgroup": "0",
         "marker": {
          "color": "#636efa",
          "pattern": {
           "shape": ""
          }
         },
         "name": "0",
         "offsetgroup": "0",
         "orientation": "h",
         "showlegend": false,
         "textposition": "auto",
         "type": "bar",
         "width": 3,
         "x": [
          -0.1367965692833378,
          -0.13219078567720846,
          -0.13062177774383824,
          -0.113518737324638,
          -0.10435273267167845,
          -0.09450080661989717,
          -0.06372981501338984,
          -0.060728089043433596,
          -0.02812563595075669,
          -0.02419303953168765,
          -0.008792772345876887,
          -0.0053942937633987605,
          -0.0011066869196011142,
          0.013371305040858076,
          0.014909450955451969,
          0.015510187212947163,
          0.029525295686398622,
          0.04143068238671138,
          0.048649711386312695,
          0.05653327190053387,
          0.06671934294187054,
          0.06959361420954611,
          0.07392411929149667,
          0.07538159950055448,
          0.07764165034978839,
          0.08115873697088362,
          0.09399865700015748,
          0.11501134508827132,
          0.13313618462169705,
          0.13481714369045952,
          0.13552818904778083,
          0.13875720199793903,
          0.15958389471396145,
          0.16310740284261485,
          0.16659543626086437,
          0.16757335652654884,
          0.17062606218554024,
          0.17112116919173284,
          0.17328539355466013,
          0.1812700790701186,
          0.18549512933135096,
          0.19918534026266152,
          0.20106908988732902,
          0.20705604788251558,
          0.21150572729344067,
          0.21166902264779647,
          0.2151551571795728,
          0.22072166070878244,
          0.22380030839562842,
          0.2673538486555528,
          0.28459795178799024,
          0.2875417288628166,
          0.31745416634260465
         ],
         "xaxis": "x3",
         "y": [
          15,
          17,
          19,
          22,
          26,
          29,
          37,
          40,
          52,
          54,
          60,
          61,
          63,
          69,
          70,
          71,
          74,
          75,
          80,
          82,
          85,
          86,
          87,
          88,
          89,
          90,
          100,
          109,
          116,
          118,
          119,
          121,
          124,
          126,
          127,
          128,
          130,
          131,
          132,
          135,
          137,
          139,
          141,
          142,
          143,
          144,
          145,
          146,
          147,
          151,
          152,
          153,
          155
         ],
         "yaxis": "y3"
        },
        {
         "alignmentgroup": "True",
         "hovertemplate": "Cluster=1<br>Source=Test Data (Altered)<br>Silhouette Score=%{x}<br>_index=%{y}<extra></extra>",
         "legendgroup": "1",
         "marker": {
          "color": "#EF553B",
          "pattern": {
           "shape": ""
          }
         },
         "name": "1",
         "offsetgroup": "1",
         "orientation": "h",
         "showlegend": true,
         "textposition": "auto",
         "type": "bar",
         "width": 3,
         "x": [
          0.06110590016474686,
          0.13881083546002324,
          0.14178336726998242,
          0.1668835095658405,
          0.17504101600548108,
          0.1795297964560493,
          0.18781566991332757,
          0.20104517287064058,
          0.20190954674118913,
          0.20616061095124624,
          0.20679166989960446,
          0.21229635785326365,
          0.22241804480901367,
          0.22565295998253573,
          0.22968165292818454,
          0.23131180604940477,
          0.23599660325399854,
          0.24140187053611423,
          0.24483983059947045,
          0.24505288377617984,
          0.25003313355389517,
          0.25074345698905437,
          0.251815604299478,
          0.2574070618836503,
          0.2577508228278759,
          0.25878565626863576,
          0.2621129745582487,
          0.2636033839184526,
          0.2669332201334962,
          0.26918959440315,
          0.26930858628803134,
          0.27380069046743444,
          0.27398302170055716,
          0.27653186816873393,
          0.27661375099001967,
          0.280105131032958,
          0.290587566280159,
          0.2964351011581881,
          0.2990919545024662,
          0.2997003339197886,
          0.3002694285148077,
          0.30451558790592936,
          0.30496891947576865,
          0.30707823312771076,
          0.30901109718623954,
          0.30971267538097946,
          0.3135218427273816,
          0.31584884269237284,
          0.3174970059658425,
          0.3213497996389835,
          0.32303909633047984,
          0.3258174422265914,
          0.3260208038117169,
          0.328501967681725,
          0.32957125926049075,
          0.33042620588536853,
          0.33269967253861804,
          0.3355437022053464,
          0.3366408866905726,
          0.33736966110917205,
          0.3388305137833838,
          0.3403177858591865,
          0.3409768713164886,
          0.3416405115139486,
          0.34270291442851486,
          0.3436476836825191,
          0.3450025148760239,
          0.34523609176335185,
          0.34752982989540016,
          0.3488053905980546,
          0.34900950157770416,
          0.3529596057525695,
          0.35407203972904866,
          0.35699746365460083,
          0.3579025396240617,
          0.3620148228506656,
          0.36613759040203914,
          0.3667018279013492,
          0.3695685681740937,
          0.3736702869060458,
          0.37410008888226387,
          0.3744986707261721,
          0.37729847541775846,
          0.3774247085557546,
          0.3790122288086407,
          0.3791452263316599,
          0.3804768721633685,
          0.3813825425044945,
          0.38159146613657996,
          0.3818115174466713,
          0.38262699773789294,
          0.38378787298000605,
          0.3854524869720963,
          0.3862735659322642,
          0.3872568755267303,
          0.38757342792159366,
          0.3876208706744493,
          0.3883046111799962,
          0.3889605842634695,
          0.39258481323481303,
          0.3932691790457819,
          0.39372466142726636,
          0.39612850725797966,
          0.39623281863061377,
          0.3992014456509099,
          0.40071217571024836,
          0.4018596325816852,
          0.4023996561312545,
          0.4030864294784576,
          0.4033835005896612,
          0.40549211507971117,
          0.40579338042917046,
          0.4068864717909823,
          0.4088441593653047,
          0.4105990259973297,
          0.41088914478483246,
          0.4156963999959973,
          0.415726595629936,
          0.4168323652606236,
          0.4172868225089587,
          0.4175587025868379,
          0.4215585004654846,
          0.4239294837926726,
          0.42408537670015645,
          0.42410688486623943,
          0.42431570377918787,
          0.42450609209148804,
          0.42571914646477693,
          0.428294786195711,
          0.4285342319888709,
          0.42869254330562984,
          0.4287836000266319,
          0.4290447532172511,
          0.43109783716751954,
          0.4313796703872782,
          0.433106777714096,
          0.4354527247513985,
          0.4362977403390132,
          0.4371465412668714,
          0.43828368875782353,
          0.4385372856371165,
          0.4390317557388797,
          0.43971353045469846,
          0.43979151100724756,
          0.44090829136070453,
          0.4413549396290047,
          0.4414114778727913,
          0.4420177470610202,
          0.4421006518804226,
          0.4421264367195491,
          0.4421974803856462,
          0.44240315386881196,
          0.4430787865567831,
          0.4433944674427653,
          0.4458160747168976,
          0.4458277740845046,
          0.4478982063526631,
          0.44830027588262616,
          0.4484779022013147,
          0.44851794918583826,
          0.45000210970441185,
          0.4508314364900132,
          0.45373234165294224,
          0.45425214147102083,
          0.4554100679124716,
          0.45757207791073945,
          0.45782242791704175,
          0.45835025210129643,
          0.45971212341392625,
          0.46220113441333804,
          0.4628716320796116,
          0.46363377219688506,
          0.4643742370009721,
          0.46450554471931305,
          0.4652527061711309,
          0.46844484550597715,
          0.46958220178862053,
          0.4717839446526006,
          0.4723492735680104,
          0.47346266322640684,
          0.4746841798924716,
          0.47504586684358613,
          0.47921848332085965,
          0.48135209640248494,
          0.4851027254008425,
          0.48692795193802907,
          0.492688319423679,
          0.49373448821041455,
          0.49721641545312706,
          0.5008526016383228
         ],
         "xaxis": "x",
         "y": [
          156,
          158,
          159,
          163,
          167,
          169,
          172,
          179,
          180,
          182,
          183,
          187,
          193,
          195,
          197,
          198,
          201,
          205,
          208,
          209,
          213,
          214,
          215,
          218,
          219,
          220,
          222,
          224,
          225,
          227,
          228,
          231,
          232,
          234,
          235,
          241,
          249,
          253,
          255,
          256,
          257,
          259,
          260,
          262,
          264,
          265,
          270,
          275,
          277,
          281,
          282,
          286,
          287,
          291,
          293,
          295,
          297,
          299,
          302,
          303,
          304,
          305,
          307,
          309,
          312,
          315,
          316,
          318,
          320,
          321,
          322,
          326,
          327,
          330,
          332,
          338,
          342,
          344,
          347,
          353,
          354,
          355,
          358,
          359,
          362,
          363,
          365,
          366,
          367,
          368,
          370,
          371,
          373,
          374,
          376,
          377,
          378,
          380,
          382,
          386,
          388,
          389,
          391,
          393,
          395,
          398,
          401,
          402,
          403,
          404,
          406,
          407,
          408,
          411,
          414,
          415,
          419,
          420,
          421,
          422,
          423,
          427,
          431,
          432,
          433,
          434,
          435,
          437,
          444,
          445,
          446,
          447,
          448,
          453,
          456,
          458,
          463,
          467,
          469,
          472,
          473,
          474,
          477,
          478,
          479,
          480,
          481,
          485,
          486,
          487,
          488,
          489,
          491,
          492,
          495,
          496,
          502,
          504,
          506,
          507,
          508,
          509,
          515,
          518,
          520,
          523,
          524,
          525,
          528,
          533,
          535,
          536,
          537,
          538,
          541,
          547,
          551,
          555,
          557,
          559,
          561,
          562,
          566,
          571,
          573,
          578,
          587,
          589,
          593,
          598
         ],
         "yaxis": "y"
        },
        {
         "alignmentgroup": "True",
         "hovertemplate": "Cluster=1<br>Source=Test Data<br>Silhouette Score=%{x}<br>_index=%{y}<extra></extra>",
         "legendgroup": "1",
         "marker": {
          "color": "#EF553B",
          "pattern": {
           "shape": ""
          }
         },
         "name": "1",
         "offsetgroup": "1",
         "orientation": "h",
         "showlegend": false,
         "textposition": "auto",
         "type": "bar",
         "width": 3,
         "x": [
          0.14206639739547047,
          0.17136840259811295,
          0.17482254539133116,
          0.17851742472617607,
          0.18826954322663417,
          0.1885916317176899,
          0.19475140107441935,
          0.2032891728401979,
          0.20860478514931574,
          0.2088102570309575,
          0.21325986724724463,
          0.21598447994000208,
          0.22453018152298534,
          0.23335835291784257,
          0.23621985204225202,
          0.23707120119570171,
          0.24852962564109352,
          0.24935522737866941,
          0.25329413292584846,
          0.2596055030377264,
          0.26714929715598146,
          0.2693247352474741,
          0.2755108303730674,
          0.2779996552142905,
          0.2821165681974082,
          0.2821738866321746,
          0.28444814584910244,
          0.28847014057021925,
          0.29278989761372237,
          0.2929928834866266,
          0.2976889890577779,
          0.30282373854724126,
          0.30845804275520217,
          0.3098057987432604,
          0.31175278405388956,
          0.3120666580666504,
          0.3151925060571306,
          0.3155855914003828,
          0.3180547144996952,
          0.3206499455923373,
          0.32477629891843673,
          0.32543566887924263,
          0.3256622845136063,
          0.32693577074486047,
          0.32938367331949914,
          0.32958506992242564,
          0.33486707168125185,
          0.3355930556312941,
          0.3361795140135634,
          0.3408717866452536,
          0.34161401692035387,
          0.342345377897818,
          0.3433029961243546,
          0.3452502373768348,
          0.35914604796950417,
          0.3592249295305861,
          0.36112153930233437,
          0.36602828312958147,
          0.36639306181951753,
          0.36823043466157795,
          0.36961551801748177,
          0.37093811964082923,
          0.3717578258429968,
          0.37486267392274886,
          0.37540390508668353,
          0.37807710412972895,
          0.378331864547577,
          0.3792453189404854,
          0.3868045878628773,
          0.3882590130130119,
          0.38851261958445527,
          0.3923265994686751,
          0.3989472089578261,
          0.400062563635786,
          0.4012364825778358,
          0.4090748201355317,
          0.41417708082655685,
          0.42144369295909423,
          0.42543869435134746,
          0.42579287216104056,
          0.42583383624517335,
          0.4265061939890684,
          0.42777626405177915,
          0.4334453378247872,
          0.4348468159226848,
          0.4350181137720794,
          0.4356253346659015,
          0.43566307821497646,
          0.4416864988483945,
          0.4417449380407852,
          0.4428172348520777,
          0.4454592040430355,
          0.44673207564498235,
          0.446824292493632,
          0.4483278793292576,
          0.45238051934979756,
          0.4538274733927831,
          0.4542423220534987,
          0.4548965296587202,
          0.4558330293933807,
          0.4591203646736592,
          0.4605375306524667,
          0.4605441878206225,
          0.46131708484181055,
          0.4622330408907027,
          0.4646517200655892,
          0.46529733099057846,
          0.46758571232127843,
          0.46785894015230733,
          0.4691667033066052,
          0.4695108069006118,
          0.4711641931067273,
          0.4733108933370117,
          0.4766104796942518,
          0.4780845152704312,
          0.4793633438128102,
          0.4800289324262071,
          0.4804004832818603,
          0.4863919786759854,
          0.4866314740853954,
          0.48663780120173455,
          0.4869352285231701,
          0.48757918030202985,
          0.48966091128125366,
          0.4909453105610965,
          0.4921782844818034,
          0.4929527958197357,
          0.4939467434202261,
          0.4945909532946051,
          0.4969715472847416,
          0.49844284335294065,
          0.4994746570944807,
          0.499585695230025,
          0.5000150612764437,
          0.5013406802916976,
          0.5021439895096662,
          0.5028184841747805,
          0.503782987858276,
          0.5046847713662903,
          0.5069727131953818,
          0.5107346432180471,
          0.5117085836855408,
          0.5119022716157895,
          0.5122212722811831,
          0.5142311335700355,
          0.5160196937915043,
          0.5181553518118213,
          0.5181633786850951,
          0.5183091755342748,
          0.5186601758513588,
          0.5207110478154771,
          0.5207629258392373,
          0.522857506949905,
          0.5236257516401653,
          0.5239377762309808,
          0.5244251236272557,
          0.5262198568391815,
          0.5272532796665782,
          0.5291284577078622,
          0.5315004191210105,
          0.5324329606726633,
          0.534506616047004,
          0.5367848371202919,
          0.5383269621438795,
          0.5390082876209374,
          0.5397170001964775,
          0.5401306401563017,
          0.5418654367123936,
          0.542019995510703,
          0.5435301625877463,
          0.5437067647353752,
          0.5444055657387963,
          0.5451769264620127,
          0.5490485185850449,
          0.5494218772360556,
          0.5500135033035799,
          0.551305143111775,
          0.5518160449824135,
          0.5524156375268614,
          0.5558913200686931,
          0.5561391607751371
         ],
         "xaxis": "x2",
         "y": [
          160,
          165,
          166,
          168,
          175,
          176,
          178,
          181,
          184,
          185,
          188,
          190,
          194,
          199,
          202,
          203,
          211,
          212,
          216,
          221,
          226,
          229,
          233,
          237,
          243,
          244,
          246,
          248,
          250,
          252,
          254,
          258,
          263,
          266,
          268,
          269,
          273,
          274,
          278,
          280,
          283,
          284,
          285,
          289,
          292,
          294,
          298,
          300,
          301,
          306,
          308,
          310,
          314,
          319,
          333,
          335,
          337,
          341,
          343,
          345,
          348,
          349,
          350,
          356,
          357,
          360,
          361,
          364,
          375,
          379,
          381,
          385,
          394,
          396,
          399,
          412,
          417,
          426,
          436,
          438,
          439,
          441,
          442,
          459,
          461,
          462,
          464,
          465,
          483,
          484,
          490,
          494,
          498,
          499,
          505,
          511,
          516,
          517,
          519,
          521,
          526,
          529,
          530,
          531,
          534,
          539,
          542,
          545,
          546,
          548,
          550,
          553,
          558,
          563,
          565,
          567,
          569,
          570,
          575,
          576,
          577,
          579,
          580,
          581,
          582,
          584,
          588,
          590,
          591,
          592,
          594,
          595,
          596,
          597,
          599,
          600,
          602,
          604,
          606,
          609,
          611,
          614,
          615,
          616,
          617,
          618,
          624,
          625,
          627,
          628,
          630,
          631,
          634,
          635,
          636,
          639,
          642,
          644,
          646,
          647,
          649,
          652,
          659,
          662,
          663,
          664,
          666,
          668,
          670,
          672,
          673,
          674,
          675,
          679,
          681,
          683,
          685,
          686,
          687,
          689,
          690
         ],
         "yaxis": "y2"
        },
        {
         "alignmentgroup": "True",
         "hovertemplate": "Cluster=1<br>Source=Training Data<br>Silhouette Score=%{x}<br>_index=%{y}<extra></extra>",
         "legendgroup": "1",
         "marker": {
          "color": "#EF553B",
          "pattern": {
           "shape": ""
          }
         },
         "name": "1",
         "offsetgroup": "1",
         "orientation": "h",
         "showlegend": false,
         "textposition": "auto",
         "type": "bar",
         "width": 3,
         "x": [
          0.12963364465710964,
          0.1490094870083947,
          0.15695529312545173,
          0.16948316833126595,
          0.17970516765475078,
          0.18338341005347572,
          0.18790443706189042,
          0.18800606285455765,
          0.19232410116438056,
          0.20990009039801769,
          0.2151227841165823,
          0.21870747038002342,
          0.22156263681254648,
          0.22572392498553934,
          0.23340292227094964,
          0.23740193503370335,
          0.2428106216256571,
          0.2436020691678657,
          0.24667967492961826,
          0.2547412752110374,
          0.2633598377132237,
          0.2737902761105744,
          0.2770989573209306,
          0.27908255989026126,
          0.2791641492283523,
          0.2798113255107697,
          0.2804419612378507,
          0.2827665426765826,
          0.28702871058308743,
          0.2928725619080981,
          0.30695262561747794,
          0.31143005693188935,
          0.3148690373751268,
          0.3149544414654953,
          0.31584993522526494,
          0.3191827122514421,
          0.3261422873795742,
          0.32770039349137053,
          0.33043283675497115,
          0.3425771324778288,
          0.3429660830042264,
          0.34508446683741983,
          0.34948122527388487,
          0.3509867000993034,
          0.35228092450241105,
          0.3552508208444236,
          0.3568036073953451,
          0.3573912491499494,
          0.3591894298827133,
          0.3596524716451419,
          0.36434681993849943,
          0.3651589328087882,
          0.3687347964635027,
          0.3720848729544494,
          0.3736455136699275,
          0.3822368401007714,
          0.3846069282538461,
          0.39104392156275497,
          0.3920470294430328,
          0.39293523168708305,
          0.3942404388230578,
          0.3961390351379188,
          0.4003785227887537,
          0.40169969139427786,
          0.40431561870228677,
          0.407357542009355,
          0.4073860500229554,
          0.40991839765852184,
          0.4123790275710062,
          0.41477023135115065,
          0.41779483219992825,
          0.41872337547669586,
          0.4216373403345993,
          0.42223286527471987,
          0.42305898238092204,
          0.42636325813829906,
          0.4278673127437305,
          0.42991057896418194,
          0.4301019195287706,
          0.4308528911320814,
          0.4308801708699669,
          0.4311206892665782,
          0.43120519832827875,
          0.4317688777401949,
          0.4345404926020409,
          0.4357986023057906,
          0.4365600247055729,
          0.4375956456117331,
          0.43819122692148355,
          0.4391790171724756,
          0.43934215768328944,
          0.44153950982457063,
          0.4442504472002641,
          0.44626094566332797,
          0.44707925711555224,
          0.4478314321549879,
          0.448100125526917,
          0.45155037223377814,
          0.4528150199590355,
          0.4530136038607456,
          0.45332077496010753,
          0.4562391948966583,
          0.4594780468474175,
          0.4617628643776401,
          0.4647539907385529,
          0.46630386491061243,
          0.46679276948991716,
          0.4691980053975117,
          0.471156758142158,
          0.47175696985748966,
          0.4718151602997939,
          0.4740989006335474,
          0.47778406553397,
          0.47973797461288437,
          0.48135734173929723,
          0.4861263550829736,
          0.4912332683640087,
          0.49224908592224415,
          0.4922504663671868,
          0.5025645296743696,
          0.502835179426103,
          0.5038828020410194,
          0.5061871101539737,
          0.5068548307224725,
          0.5086749308781503,
          0.5110050800793386,
          0.5112039305897842,
          0.5161656496135084,
          0.5163022888994522,
          0.5173781014228283,
          0.5179417341538768,
          0.5180825211894335,
          0.5182954500550364,
          0.5200284231960223,
          0.5214857534829652,
          0.5222175061598762,
          0.5239601964665038,
          0.5240219832248383,
          0.5248966974668887,
          0.5256838044484087,
          0.5266172999490691,
          0.5281635765565436,
          0.5318123915590877,
          0.5324388963523917,
          0.532633503540322,
          0.534557689683114,
          0.5346276870736204,
          0.5350874539676028,
          0.5351973975529298,
          0.5353919840104041,
          0.5360973950490027,
          0.5372672815027458,
          0.5373677430492495,
          0.539911746467539,
          0.5405028468351396,
          0.5419937882817063,
          0.5435267146000429,
          0.5472873766958395,
          0.5481650718304277,
          0.5487946359163374,
          0.5493592446457842,
          0.5499371831559235,
          0.5506826319822803,
          0.5542442935224876,
          0.556272045691736,
          0.557902461685185
         ],
         "xaxis": "x3",
         "y": [
          157,
          161,
          162,
          164,
          170,
          171,
          173,
          174,
          177,
          186,
          189,
          191,
          192,
          196,
          200,
          204,
          206,
          207,
          210,
          217,
          223,
          230,
          236,
          238,
          239,
          240,
          242,
          245,
          247,
          251,
          261,
          267,
          271,
          272,
          276,
          279,
          288,
          290,
          296,
          311,
          313,
          317,
          323,
          324,
          325,
          328,
          329,
          331,
          334,
          336,
          339,
          340,
          346,
          351,
          352,
          369,
          372,
          383,
          384,
          387,
          390,
          392,
          397,
          400,
          405,
          409,
          410,
          413,
          416,
          418,
          424,
          425,
          428,
          429,
          430,
          440,
          443,
          449,
          450,
          451,
          452,
          454,
          455,
          457,
          460,
          466,
          468,
          470,
          471,
          475,
          476,
          482,
          493,
          497,
          500,
          501,
          503,
          510,
          512,
          513,
          514,
          522,
          527,
          532,
          540,
          543,
          544,
          549,
          552,
          554,
          556,
          560,
          564,
          568,
          572,
          574,
          583,
          585,
          586,
          601,
          603,
          605,
          607,
          608,
          610,
          612,
          613,
          619,
          620,
          621,
          622,
          623,
          626,
          629,
          632,
          633,
          637,
          638,
          640,
          641,
          643,
          645,
          648,
          650,
          651,
          653,
          654,
          655,
          656,
          657,
          658,
          660,
          661,
          665,
          667,
          669,
          671,
          676,
          677,
          678,
          680,
          682,
          684,
          688,
          691,
          692
         ],
         "yaxis": "y3"
        },
        {
         "alignmentgroup": "True",
         "hovertemplate": "Cluster=2<br>Source=Test Data (Altered)<br>Silhouette Score=%{x}<br>_index=%{y}<extra></extra>",
         "legendgroup": "2",
         "marker": {
          "color": "#00cc96",
          "pattern": {
           "shape": ""
          }
         },
         "name": "2",
         "offsetgroup": "2",
         "orientation": "h",
         "showlegend": true,
         "textposition": "auto",
         "type": "bar",
         "width": 3,
         "x": [
          -0.12159780016029582,
          -0.0508284033097012,
          -0.04834655164915513,
          -0.02244595141404982,
          0.06931045075566433,
          0.07369845417097773,
          0.07847338747399442,
          0.08084399456027419,
          0.09740956015266175,
          0.09953904649152696,
          0.10120000978474118,
          0.10339445094670634,
          0.10339528524773338,
          0.10757761978529398,
          0.11434911869104827,
          0.1161705035676986,
          0.12345852908555592,
          0.13218346100137296,
          0.13429716842556066,
          0.13742649934334172,
          0.14225432331308605,
          0.1431558039292073,
          0.14758148652844427,
          0.1487706078686659,
          0.1538360854095776,
          0.17087090648720676,
          0.17676580931185487,
          0.17971760251914148,
          0.1873434596073658,
          0.18971537134707056,
          0.19018434397626052,
          0.1982735531014478,
          0.2061462312641319,
          0.2076247991099306,
          0.20979662159226814,
          0.2100089501055352,
          0.212520497034815,
          0.21415514239702835,
          0.21597254451283016,
          0.2174612031535603,
          0.23892759875082592,
          0.2775018035587619,
          0.3147218793632262
         ],
         "xaxis": "x",
         "y": [
          693,
          701,
          702,
          705,
          716,
          717,
          718,
          719,
          723,
          724,
          726,
          730,
          731,
          732,
          734,
          735,
          737,
          740,
          741,
          743,
          746,
          747,
          748,
          750,
          752,
          758,
          760,
          761,
          766,
          769,
          770,
          773,
          778,
          779,
          780,
          781,
          782,
          783,
          784,
          787,
          800,
          816,
          831
         ],
         "yaxis": "y"
        },
        {
         "alignmentgroup": "True",
         "hovertemplate": "Cluster=2<br>Source=Test Data<br>Silhouette Score=%{x}<br>_index=%{y}<extra></extra>",
         "legendgroup": "2",
         "marker": {
          "color": "#00cc96",
          "pattern": {
           "shape": ""
          }
         },
         "name": "2",
         "offsetgroup": "2",
         "orientation": "h",
         "showlegend": false,
         "textposition": "auto",
         "type": "bar",
         "width": 3,
         "x": [
          -0.11373273355442365,
          -0.10343709726589723,
          -0.09752901190915053,
          -0.09235517414114953,
          -0.0420363128025033,
          -0.01581604770590125,
          0.008776113909339096,
          0.06725513746256016,
          0.08662001100573978,
          0.08945637275268649,
          0.1002735069745743,
          0.10120255941120758,
          0.10324254404680823,
          0.13201258092343046,
          0.13858532727554915,
          0.140346287632724,
          0.15688234781367577,
          0.15891674556020896,
          0.16083614157715942,
          0.18002864286054235,
          0.18638570898524054,
          0.1880754313553259,
          0.19767585632078363,
          0.2008109149616781,
          0.2159883868305118,
          0.23273475062038698,
          0.2334012450351669,
          0.2377197705941842,
          0.24451827879305119,
          0.2665182121182813,
          0.27076880321009583,
          0.2709052879139527,
          0.2795338439201306,
          0.286834851851292,
          0.2956664940799809,
          0.2992205173104671,
          0.3055706295460388,
          0.3167261491227965,
          0.3204091649186843,
          0.3348107459006453,
          0.33518858700364396,
          0.339316396474523,
          0.3562774910184952,
          0.365705246465206,
          0.36602627922240305,
          0.37020517819550486,
          0.37086660011573286,
          0.3764206505520812,
          0.3851354787489419,
          0.39483994408447476,
          0.4022755151395369,
          0.4058917874150066,
          0.4155978032015378
         ],
         "xaxis": "x2",
         "y": [
          694,
          695,
          696,
          698,
          704,
          706,
          708,
          715,
          720,
          721,
          725,
          727,
          729,
          739,
          744,
          745,
          753,
          754,
          755,
          762,
          764,
          768,
          772,
          775,
          785,
          795,
          796,
          799,
          803,
          811,
          814,
          815,
          818,
          820,
          823,
          824,
          830,
          832,
          833,
          836,
          837,
          838,
          840,
          842,
          843,
          844,
          845,
          847,
          849,
          850,
          851,
          852,
          853
         ],
         "yaxis": "y2"
        },
        {
         "alignmentgroup": "True",
         "hovertemplate": "Cluster=2<br>Source=Training Data<br>Silhouette Score=%{x}<br>_index=%{y}<extra></extra>",
         "legendgroup": "2",
         "marker": {
          "color": "#00cc96",
          "pattern": {
           "shape": ""
          }
         },
         "name": "2",
         "offsetgroup": "2",
         "orientation": "h",
         "showlegend": false,
         "textposition": "auto",
         "type": "bar",
         "width": 3,
         "x": [
          -0.09293367555483815,
          -0.09173863027842481,
          -0.07163707056455641,
          -0.04670663029726773,
          -0.012197633251877091,
          0.010234969874161955,
          0.020974132351720288,
          0.0471725102267036,
          0.047382246904535984,
          0.06109397307016297,
          0.06293970534292474,
          0.0947146469030533,
          0.10270761660127169,
          0.11271424894965067,
          0.12240045325278806,
          0.1317621983364139,
          0.13711651839737543,
          0.14827048130208814,
          0.15128425619502997,
          0.16607951569925797,
          0.16840122030229068,
          0.17263827832224854,
          0.18548547248045277,
          0.18709375215056767,
          0.18747762300282358,
          0.19122580130547265,
          0.19929532806127437,
          0.20235642096396428,
          0.20456888861701655,
          0.21660486975227466,
          0.22091874975691367,
          0.22183829106255493,
          0.22224611228321972,
          0.2253216729531892,
          0.22627525916651234,
          0.22715005930367949,
          0.2291392542816413,
          0.23435901414597735,
          0.23439578302371017,
          0.24346711433334514,
          0.24358158557816434,
          0.24508275744057995,
          0.2472697261823311,
          0.24741621157041077,
          0.2527303306786269,
          0.2558298393858797,
          0.2575664089169653,
          0.2618451623409932,
          0.26840709856566614,
          0.2695067661487397,
          0.2790914338287809,
          0.28419411913299236,
          0.29106095935373877,
          0.29152714779089256,
          0.2998612311886225,
          0.3004532022750288,
          0.3015143300087148,
          0.30183367089195884,
          0.3030887960276592,
          0.3249628301941971,
          0.32901461613802885,
          0.3466793052426852,
          0.36390950487315843,
          0.3732121640488043,
          0.38451091988097363
         ],
         "xaxis": "x3",
         "y": [
          697,
          699,
          700,
          703,
          707,
          709,
          710,
          711,
          712,
          713,
          714,
          722,
          728,
          733,
          736,
          738,
          742,
          749,
          751,
          756,
          757,
          759,
          763,
          765,
          767,
          771,
          774,
          776,
          777,
          786,
          788,
          789,
          790,
          791,
          792,
          793,
          794,
          797,
          798,
          801,
          802,
          804,
          805,
          806,
          807,
          808,
          809,
          810,
          812,
          813,
          817,
          819,
          821,
          822,
          825,
          826,
          827,
          828,
          829,
          834,
          835,
          839,
          841,
          846,
          848
         ],
         "yaxis": "y3"
        }
       ],
       "layout": {
        "annotations": [
         {
          "font": {},
          "showarrow": false,
          "text": "Source=Test Data (Altered)",
          "x": 0.15999999999999998,
          "xanchor": "center",
          "xref": "paper",
          "y": 1,
          "yanchor": "bottom",
          "yref": "paper"
         },
         {
          "font": {},
          "showarrow": false,
          "text": "Source=Test Data",
          "x": 0.49999999999999994,
          "xanchor": "center",
          "xref": "paper",
          "y": 1,
          "yanchor": "bottom",
          "yref": "paper"
         },
         {
          "font": {},
          "showarrow": false,
          "text": "Source=Training Data",
          "x": 0.8399999999999999,
          "xanchor": "center",
          "xref": "paper",
          "y": 1,
          "yanchor": "bottom",
          "yref": "paper"
         }
        ],
        "barmode": "relative",
        "height": 600,
        "legend": {
         "title": {
          "text": "Cluster"
         },
         "tracegroupgap": 0
        },
        "template": {
         "data": {
          "bar": [
           {
            "error_x": {
             "color": "#2a3f5f"
            },
            "error_y": {
             "color": "#2a3f5f"
            },
            "marker": {
             "line": {
              "color": "#E5ECF6",
              "width": 0.5
             },
             "pattern": {
              "fillmode": "overlay",
              "size": 10,
              "solidity": 0.2
             }
            },
            "type": "bar"
           }
          ],
          "barpolar": [
           {
            "marker": {
             "line": {
              "color": "#E5ECF6",
              "width": 0.5
             },
             "pattern": {
              "fillmode": "overlay",
              "size": 10,
              "solidity": 0.2
             }
            },
            "type": "barpolar"
           }
          ],
          "carpet": [
           {
            "aaxis": {
             "endlinecolor": "#2a3f5f",
             "gridcolor": "white",
             "linecolor": "white",
             "minorgridcolor": "white",
             "startlinecolor": "#2a3f5f"
            },
            "baxis": {
             "endlinecolor": "#2a3f5f",
             "gridcolor": "white",
             "linecolor": "white",
             "minorgridcolor": "white",
             "startlinecolor": "#2a3f5f"
            },
            "type": "carpet"
           }
          ],
          "choropleth": [
           {
            "colorbar": {
             "outlinewidth": 0,
             "ticks": ""
            },
            "type": "choropleth"
           }
          ],
          "contour": [
           {
            "colorbar": {
             "outlinewidth": 0,
             "ticks": ""
            },
            "colorscale": [
             [
              0,
              "#0d0887"
             ],
             [
              0.1111111111111111,
              "#46039f"
             ],
             [
              0.2222222222222222,
              "#7201a8"
             ],
             [
              0.3333333333333333,
              "#9c179e"
             ],
             [
              0.4444444444444444,
              "#bd3786"
             ],
             [
              0.5555555555555556,
              "#d8576b"
             ],
             [
              0.6666666666666666,
              "#ed7953"
             ],
             [
              0.7777777777777778,
              "#fb9f3a"
             ],
             [
              0.8888888888888888,
              "#fdca26"
             ],
             [
              1,
              "#f0f921"
             ]
            ],
            "type": "contour"
           }
          ],
          "contourcarpet": [
           {
            "colorbar": {
             "outlinewidth": 0,
             "ticks": ""
            },
            "type": "contourcarpet"
           }
          ],
          "heatmap": [
           {
            "colorbar": {
             "outlinewidth": 0,
             "ticks": ""
            },
            "colorscale": [
             [
              0,
              "#0d0887"
             ],
             [
              0.1111111111111111,
              "#46039f"
             ],
             [
              0.2222222222222222,
              "#7201a8"
             ],
             [
              0.3333333333333333,
              "#9c179e"
             ],
             [
              0.4444444444444444,
              "#bd3786"
             ],
             [
              0.5555555555555556,
              "#d8576b"
             ],
             [
              0.6666666666666666,
              "#ed7953"
             ],
             [
              0.7777777777777778,
              "#fb9f3a"
             ],
             [
              0.8888888888888888,
              "#fdca26"
             ],
             [
              1,
              "#f0f921"
             ]
            ],
            "type": "heatmap"
           }
          ],
          "heatmapgl": [
           {
            "colorbar": {
             "outlinewidth": 0,
             "ticks": ""
            },
            "colorscale": [
             [
              0,
              "#0d0887"
             ],
             [
              0.1111111111111111,
              "#46039f"
             ],
             [
              0.2222222222222222,
              "#7201a8"
             ],
             [
              0.3333333333333333,
              "#9c179e"
             ],
             [
              0.4444444444444444,
              "#bd3786"
             ],
             [
              0.5555555555555556,
              "#d8576b"
             ],
             [
              0.6666666666666666,
              "#ed7953"
             ],
             [
              0.7777777777777778,
              "#fb9f3a"
             ],
             [
              0.8888888888888888,
              "#fdca26"
             ],
             [
              1,
              "#f0f921"
             ]
            ],
            "type": "heatmapgl"
           }
          ],
          "histogram": [
           {
            "marker": {
             "pattern": {
              "fillmode": "overlay",
              "size": 10,
              "solidity": 0.2
             }
            },
            "type": "histogram"
           }
          ],
          "histogram2d": [
           {
            "colorbar": {
             "outlinewidth": 0,
             "ticks": ""
            },
            "colorscale": [
             [
              0,
              "#0d0887"
             ],
             [
              0.1111111111111111,
              "#46039f"
             ],
             [
              0.2222222222222222,
              "#7201a8"
             ],
             [
              0.3333333333333333,
              "#9c179e"
             ],
             [
              0.4444444444444444,
              "#bd3786"
             ],
             [
              0.5555555555555556,
              "#d8576b"
             ],
             [
              0.6666666666666666,
              "#ed7953"
             ],
             [
              0.7777777777777778,
              "#fb9f3a"
             ],
             [
              0.8888888888888888,
              "#fdca26"
             ],
             [
              1,
              "#f0f921"
             ]
            ],
            "type": "histogram2d"
           }
          ],
          "histogram2dcontour": [
           {
            "colorbar": {
             "outlinewidth": 0,
             "ticks": ""
            },
            "colorscale": [
             [
              0,
              "#0d0887"
             ],
             [
              0.1111111111111111,
              "#46039f"
             ],
             [
              0.2222222222222222,
              "#7201a8"
             ],
             [
              0.3333333333333333,
              "#9c179e"
             ],
             [
              0.4444444444444444,
              "#bd3786"
             ],
             [
              0.5555555555555556,
              "#d8576b"
             ],
             [
              0.6666666666666666,
              "#ed7953"
             ],
             [
              0.7777777777777778,
              "#fb9f3a"
             ],
             [
              0.8888888888888888,
              "#fdca26"
             ],
             [
              1,
              "#f0f921"
             ]
            ],
            "type": "histogram2dcontour"
           }
          ],
          "mesh3d": [
           {
            "colorbar": {
             "outlinewidth": 0,
             "ticks": ""
            },
            "type": "mesh3d"
           }
          ],
          "parcoords": [
           {
            "line": {
             "colorbar": {
              "outlinewidth": 0,
              "ticks": ""
             }
            },
            "type": "parcoords"
           }
          ],
          "pie": [
           {
            "automargin": true,
            "type": "pie"
           }
          ],
          "scatter": [
           {
            "fillpattern": {
             "fillmode": "overlay",
             "size": 10,
             "solidity": 0.2
            },
            "type": "scatter"
           }
          ],
          "scatter3d": [
           {
            "line": {
             "colorbar": {
              "outlinewidth": 0,
              "ticks": ""
             }
            },
            "marker": {
             "colorbar": {
              "outlinewidth": 0,
              "ticks": ""
             }
            },
            "type": "scatter3d"
           }
          ],
          "scattercarpet": [
           {
            "marker": {
             "colorbar": {
              "outlinewidth": 0,
              "ticks": ""
             }
            },
            "type": "scattercarpet"
           }
          ],
          "scattergeo": [
           {
            "marker": {
             "colorbar": {
              "outlinewidth": 0,
              "ticks": ""
             }
            },
            "type": "scattergeo"
           }
          ],
          "scattergl": [
           {
            "marker": {
             "colorbar": {
              "outlinewidth": 0,
              "ticks": ""
             }
            },
            "type": "scattergl"
           }
          ],
          "scattermapbox": [
           {
            "marker": {
             "colorbar": {
              "outlinewidth": 0,
              "ticks": ""
             }
            },
            "type": "scattermapbox"
           }
          ],
          "scatterpolar": [
           {
            "marker": {
             "colorbar": {
              "outlinewidth": 0,
              "ticks": ""
             }
            },
            "type": "scatterpolar"
           }
          ],
          "scatterpolargl": [
           {
            "marker": {
             "colorbar": {
              "outlinewidth": 0,
              "ticks": ""
             }
            },
            "type": "scatterpolargl"
           }
          ],
          "scatterternary": [
           {
            "marker": {
             "colorbar": {
              "outlinewidth": 0,
              "ticks": ""
             }
            },
            "type": "scatterternary"
           }
          ],
          "surface": [
           {
            "colorbar": {
             "outlinewidth": 0,
             "ticks": ""
            },
            "colorscale": [
             [
              0,
              "#0d0887"
             ],
             [
              0.1111111111111111,
              "#46039f"
             ],
             [
              0.2222222222222222,
              "#7201a8"
             ],
             [
              0.3333333333333333,
              "#9c179e"
             ],
             [
              0.4444444444444444,
              "#bd3786"
             ],
             [
              0.5555555555555556,
              "#d8576b"
             ],
             [
              0.6666666666666666,
              "#ed7953"
             ],
             [
              0.7777777777777778,
              "#fb9f3a"
             ],
             [
              0.8888888888888888,
              "#fdca26"
             ],
             [
              1,
              "#f0f921"
             ]
            ],
            "type": "surface"
           }
          ],
          "table": [
           {
            "cells": {
             "fill": {
              "color": "#EBF0F8"
             },
             "line": {
              "color": "white"
             }
            },
            "header": {
             "fill": {
              "color": "#C8D4E3"
             },
             "line": {
              "color": "white"
             }
            },
            "type": "table"
           }
          ]
         },
         "layout": {
          "annotationdefaults": {
           "arrowcolor": "#2a3f5f",
           "arrowhead": 0,
           "arrowwidth": 1
          },
          "autotypenumbers": "strict",
          "coloraxis": {
           "colorbar": {
            "outlinewidth": 0,
            "ticks": ""
           }
          },
          "colorscale": {
           "diverging": [
            [
             0,
             "#8e0152"
            ],
            [
             0.1,
             "#c51b7d"
            ],
            [
             0.2,
             "#de77ae"
            ],
            [
             0.3,
             "#f1b6da"
            ],
            [
             0.4,
             "#fde0ef"
            ],
            [
             0.5,
             "#f7f7f7"
            ],
            [
             0.6,
             "#e6f5d0"
            ],
            [
             0.7,
             "#b8e186"
            ],
            [
             0.8,
             "#7fbc41"
            ],
            [
             0.9,
             "#4d9221"
            ],
            [
             1,
             "#276419"
            ]
           ],
           "sequential": [
            [
             0,
             "#0d0887"
            ],
            [
             0.1111111111111111,
             "#46039f"
            ],
            [
             0.2222222222222222,
             "#7201a8"
            ],
            [
             0.3333333333333333,
             "#9c179e"
            ],
            [
             0.4444444444444444,
             "#bd3786"
            ],
            [
             0.5555555555555556,
             "#d8576b"
            ],
            [
             0.6666666666666666,
             "#ed7953"
            ],
            [
             0.7777777777777778,
             "#fb9f3a"
            ],
            [
             0.8888888888888888,
             "#fdca26"
            ],
            [
             1,
             "#f0f921"
            ]
           ],
           "sequentialminus": [
            [
             0,
             "#0d0887"
            ],
            [
             0.1111111111111111,
             "#46039f"
            ],
            [
             0.2222222222222222,
             "#7201a8"
            ],
            [
             0.3333333333333333,
             "#9c179e"
            ],
            [
             0.4444444444444444,
             "#bd3786"
            ],
            [
             0.5555555555555556,
             "#d8576b"
            ],
            [
             0.6666666666666666,
             "#ed7953"
            ],
            [
             0.7777777777777778,
             "#fb9f3a"
            ],
            [
             0.8888888888888888,
             "#fdca26"
            ],
            [
             1,
             "#f0f921"
            ]
           ]
          },
          "colorway": [
           "#636efa",
           "#EF553B",
           "#00cc96",
           "#ab63fa",
           "#FFA15A",
           "#19d3f3",
           "#FF6692",
           "#B6E880",
           "#FF97FF",
           "#FECB52"
          ],
          "font": {
           "color": "#2a3f5f"
          },
          "geo": {
           "bgcolor": "white",
           "lakecolor": "white",
           "landcolor": "#E5ECF6",
           "showlakes": true,
           "showland": true,
           "subunitcolor": "white"
          },
          "hoverlabel": {
           "align": "left"
          },
          "hovermode": "closest",
          "mapbox": {
           "style": "light"
          },
          "paper_bgcolor": "white",
          "plot_bgcolor": "#E5ECF6",
          "polar": {
           "angularaxis": {
            "gridcolor": "white",
            "linecolor": "white",
            "ticks": ""
           },
           "bgcolor": "#E5ECF6",
           "radialaxis": {
            "gridcolor": "white",
            "linecolor": "white",
            "ticks": ""
           }
          },
          "scene": {
           "xaxis": {
            "backgroundcolor": "#E5ECF6",
            "gridcolor": "white",
            "gridwidth": 2,
            "linecolor": "white",
            "showbackground": true,
            "ticks": "",
            "zerolinecolor": "white"
           },
           "yaxis": {
            "backgroundcolor": "#E5ECF6",
            "gridcolor": "white",
            "gridwidth": 2,
            "linecolor": "white",
            "showbackground": true,
            "ticks": "",
            "zerolinecolor": "white"
           },
           "zaxis": {
            "backgroundcolor": "#E5ECF6",
            "gridcolor": "white",
            "gridwidth": 2,
            "linecolor": "white",
            "showbackground": true,
            "ticks": "",
            "zerolinecolor": "white"
           }
          },
          "shapedefaults": {
           "line": {
            "color": "#2a3f5f"
           }
          },
          "ternary": {
           "aaxis": {
            "gridcolor": "white",
            "linecolor": "white",
            "ticks": ""
           },
           "baxis": {
            "gridcolor": "white",
            "linecolor": "white",
            "ticks": ""
           },
           "bgcolor": "#E5ECF6",
           "caxis": {
            "gridcolor": "white",
            "linecolor": "white",
            "ticks": ""
           }
          },
          "title": {
           "x": 0.05
          },
          "xaxis": {
           "automargin": true,
           "gridcolor": "white",
           "linecolor": "white",
           "ticks": "",
           "title": {
            "standoff": 15
           },
           "zerolinecolor": "white",
           "zerolinewidth": 2
          },
          "yaxis": {
           "automargin": true,
           "gridcolor": "white",
           "linecolor": "white",
           "ticks": "",
           "title": {
            "standoff": 15
           },
           "zerolinecolor": "white",
           "zerolinewidth": 2
          }
         }
        },
        "title": {
         "text": "Silhouette Analysis Showing Show Poorer Cluister in Altered Data"
        },
        "width": 1000,
        "xaxis": {
         "anchor": "y",
         "autorange": true,
         "domain": [
          0,
          0.31999999999999995
         ],
         "range": [
          -0.28302352361241384,
          0.6021617240692692
         ],
         "title": {
          "text": "Silhouette Score"
         },
         "type": "linear"
        },
        "xaxis2": {
         "anchor": "y2",
         "autorange": true,
         "domain": [
          0.33999999999999997,
          0.6599999999999999
         ],
         "matches": "x",
         "range": [
          -0.28302352361241384,
          0.6021617240692692
         ],
         "title": {
          "text": "Silhouette Score"
         },
         "type": "linear"
        },
        "xaxis3": {
         "anchor": "y3",
         "autorange": true,
         "domain": [
          0.6799999999999999,
          0.9999999999999999
         ],
         "matches": "x",
         "range": [
          -0.28302352361241384,
          0.6021617240692692
         ],
         "title": {
          "text": "Silhouette Score"
         },
         "type": "linear"
        },
        "yaxis": {
         "anchor": "x",
         "autorange": true,
         "domain": [
          0,
          1
         ],
         "range": [
          -1.5,
          854.5
         ],
         "title": {
          "text": "_index"
         },
         "type": "linear"
        },
        "yaxis2": {
         "anchor": "x2",
         "autorange": true,
         "domain": [
          0,
          1
         ],
         "matches": "y",
         "range": [
          -1.5,
          854.5
         ],
         "showticklabels": false,
         "type": "linear"
        },
        "yaxis3": {
         "anchor": "x3",
         "autorange": true,
         "domain": [
          0,
          1
         ],
         "matches": "y",
         "range": [
          -1.5,
          854.5
         ],
         "showticklabels": false,
         "type": "linear"
        }
       }
      },
      "text/html": [
       "<div>                            <div id=\"01f2e70f-cfb4-4758-b378-8565e1812cb7\" class=\"plotly-graph-div\" style=\"height:600px; width:1000px;\"></div>            <script type=\"text/javascript\">                require([\"plotly\"], function(Plotly) {                    window.PLOTLYENV=window.PLOTLYENV || {};                                    if (document.getElementById(\"01f2e70f-cfb4-4758-b378-8565e1812cb7\")) {                    Plotly.newPlot(                        \"01f2e70f-cfb4-4758-b378-8565e1812cb7\",                        [{\"alignmentgroup\":\"True\",\"hovertemplate\":\"Cluster=0\\u003cbr\\u003eSource=Test Data (Altered)\\u003cbr\\u003eSilhouette Score=%{x}\\u003cbr\\u003e_index=%{y}\\u003cextra\\u003e\\u003c\\u002fextra\\u003e\",\"legendgroup\":\"0\",\"marker\":{\"color\":\"#636efa\",\"pattern\":{\"shape\":\"\"}},\"name\":\"0\",\"offsetgroup\":\"0\",\"orientation\":\"h\",\"showlegend\":true,\"textposition\":\"auto\",\"x\":[-0.23876426122832967,-0.23071236221448294,-0.22708332619838856,-0.2171791792486662,-0.1984887459748762,-0.1906863119978208,-0.1742020033398471,-0.16803946913149537,-0.1644654085239676,-0.16201467131728525,-0.1376568840917198,-0.13204716302778458,-0.11740869663913875,-0.1092762830822941,-0.10702557652040531,-0.10531239562135274,-0.10086522163849332,-0.09481668473399844,-0.07501432916419885,-0.07275499233293375,-0.06604825720721053,-0.06096961950235446,-0.04364485671489888,-0.042994911968023124,-0.04143644382034305,-0.04073197562761585,-0.03831803725196748,-0.037962487809196054,-0.029665838780096668,-0.02613775701013678,-0.02105462522264474,-0.01985483762734207,-0.013579820740495662,0.0015419583873452637,0.008904170252972878,0.009291743824611202,0.026847290571567654,0.044548273761481495,0.04797870075826924,0.05839444143854413,0.06093541986631675,0.08208192996489139,0.0842152023900169,0.08436594342177628,0.08567687405497648,0.09117297870913955,0.0938151790821002,0.10611429392211995,0.10823194976178505,0.10844815817914662,0.11740971703197277,0.12023809827843222],\"xaxis\":\"x\",\"y\":[0,1,2,3,4,5,8,10,11,12,14,18,21,23,24,25,27,28,32,33,36,39,43,44,45,46,48,49,51,53,55,56,57,66,67,68,73,78,79,83,84,91,93,94,95,97,99,105,106,107,110,112],\"yaxis\":\"y\",\"type\":\"bar\",\"width\":3},{\"alignmentgroup\":\"True\",\"hovertemplate\":\"Cluster=0\\u003cbr\\u003eSource=Test Data\\u003cbr\\u003eSilhouette Score=%{x}\\u003cbr\\u003e_index=%{y}\\u003cextra\\u003e\\u003c\\u002fextra\\u003e\",\"legendgroup\":\"0\",\"marker\":{\"color\":\"#636efa\",\"pattern\":{\"shape\":\"\"}},\"name\":\"0\",\"offsetgroup\":\"0\",\"orientation\":\"h\",\"showlegend\":false,\"textposition\":\"auto\",\"x\":[-0.17756149121119702,-0.17522952350970442,-0.17214141865431623,-0.15110374451562536,-0.1328729282337854,-0.12245356247927768,-0.08386692883432235,-0.07839436822224288,-0.06621440127711051,-0.06612307381506058,-0.06253745806770127,-0.05222164883312762,-0.05090001756861513,-0.03857451341434913,-0.036371679315510726,-0.012807660451901756,-0.012039734604668687,-0.0018113780260797015,-0.0005596568922776116,-0.000314530394621701,0.02234250337431538,0.042220564999900935,0.04409785113769397,0.05326407512704324,0.0822781456266345,0.08568648801523066,0.09372476077059312,0.09715431269364698,0.1011793109703133,0.10180589516016553,0.10292020900860933,0.11413078950019417,0.11800453310960358,0.1215882445377269,0.1265415978229046,0.12890824384803237,0.13389769080922126,0.1371803280102079,0.15030461359616368,0.1564496026705306,0.16146585556852894,0.17013321039010265,0.177781780009819,0.180734657359052,0.18366507424984813,0.1958129223198346,0.19997655241476991,0.2595793425815382,0.2598099398630725,0.2632020649089558,0.29529904363652193],\"xaxis\":\"x2\",\"y\":[6,7,9,13,16,20,30,31,34,35,38,41,42,47,50,58,59,62,64,65,72,76,77,81,92,96,98,101,102,103,104,108,111,113,114,115,117,120,122,123,125,129,133,134,136,138,140,148,149,150,154],\"yaxis\":\"y2\",\"type\":\"bar\",\"width\":3},{\"alignmentgroup\":\"True\",\"hovertemplate\":\"Cluster=0\\u003cbr\\u003eSource=Training Data\\u003cbr\\u003eSilhouette Score=%{x}\\u003cbr\\u003e_index=%{y}\\u003cextra\\u003e\\u003c\\u002fextra\\u003e\",\"legendgroup\":\"0\",\"marker\":{\"color\":\"#636efa\",\"pattern\":{\"shape\":\"\"}},\"name\":\"0\",\"offsetgroup\":\"0\",\"orientation\":\"h\",\"showlegend\":false,\"textposition\":\"auto\",\"x\":[-0.1367965692833378,-0.13219078567720846,-0.13062177774383824,-0.113518737324638,-0.10435273267167845,-0.09450080661989717,-0.06372981501338984,-0.060728089043433596,-0.02812563595075669,-0.02419303953168765,-0.008792772345876887,-0.0053942937633987605,-0.0011066869196011142,0.013371305040858076,0.014909450955451969,0.015510187212947163,0.029525295686398622,0.04143068238671138,0.048649711386312695,0.05653327190053387,0.06671934294187054,0.06959361420954611,0.07392411929149667,0.07538159950055448,0.07764165034978839,0.08115873697088362,0.09399865700015748,0.11501134508827132,0.13313618462169705,0.13481714369045952,0.13552818904778083,0.13875720199793903,0.15958389471396145,0.16310740284261485,0.16659543626086437,0.16757335652654884,0.17062606218554024,0.17112116919173284,0.17328539355466013,0.1812700790701186,0.18549512933135096,0.19918534026266152,0.20106908988732902,0.20705604788251558,0.21150572729344067,0.21166902264779647,0.2151551571795728,0.22072166070878244,0.22380030839562842,0.2673538486555528,0.28459795178799024,0.2875417288628166,0.31745416634260465],\"xaxis\":\"x3\",\"y\":[15,17,19,22,26,29,37,40,52,54,60,61,63,69,70,71,74,75,80,82,85,86,87,88,89,90,100,109,116,118,119,121,124,126,127,128,130,131,132,135,137,139,141,142,143,144,145,146,147,151,152,153,155],\"yaxis\":\"y3\",\"type\":\"bar\",\"width\":3},{\"alignmentgroup\":\"True\",\"hovertemplate\":\"Cluster=1\\u003cbr\\u003eSource=Test Data (Altered)\\u003cbr\\u003eSilhouette Score=%{x}\\u003cbr\\u003e_index=%{y}\\u003cextra\\u003e\\u003c\\u002fextra\\u003e\",\"legendgroup\":\"1\",\"marker\":{\"color\":\"#EF553B\",\"pattern\":{\"shape\":\"\"}},\"name\":\"1\",\"offsetgroup\":\"1\",\"orientation\":\"h\",\"showlegend\":true,\"textposition\":\"auto\",\"x\":[0.06110590016474686,0.13881083546002324,0.14178336726998242,0.1668835095658405,0.17504101600548108,0.1795297964560493,0.18781566991332757,0.20104517287064058,0.20190954674118913,0.20616061095124624,0.20679166989960446,0.21229635785326365,0.22241804480901367,0.22565295998253573,0.22968165292818454,0.23131180604940477,0.23599660325399854,0.24140187053611423,0.24483983059947045,0.24505288377617984,0.25003313355389517,0.25074345698905437,0.251815604299478,0.2574070618836503,0.2577508228278759,0.25878565626863576,0.2621129745582487,0.2636033839184526,0.2669332201334962,0.26918959440315,0.26930858628803134,0.27380069046743444,0.27398302170055716,0.27653186816873393,0.27661375099001967,0.280105131032958,0.290587566280159,0.2964351011581881,0.2990919545024662,0.2997003339197886,0.3002694285148077,0.30451558790592936,0.30496891947576865,0.30707823312771076,0.30901109718623954,0.30971267538097946,0.3135218427273816,0.31584884269237284,0.3174970059658425,0.3213497996389835,0.32303909633047984,0.3258174422265914,0.3260208038117169,0.328501967681725,0.32957125926049075,0.33042620588536853,0.33269967253861804,0.3355437022053464,0.3366408866905726,0.33736966110917205,0.3388305137833838,0.3403177858591865,0.3409768713164886,0.3416405115139486,0.34270291442851486,0.3436476836825191,0.3450025148760239,0.34523609176335185,0.34752982989540016,0.3488053905980546,0.34900950157770416,0.3529596057525695,0.35407203972904866,0.35699746365460083,0.3579025396240617,0.3620148228506656,0.36613759040203914,0.3667018279013492,0.3695685681740937,0.3736702869060458,0.37410008888226387,0.3744986707261721,0.37729847541775846,0.3774247085557546,0.3790122288086407,0.3791452263316599,0.3804768721633685,0.3813825425044945,0.38159146613657996,0.3818115174466713,0.38262699773789294,0.38378787298000605,0.3854524869720963,0.3862735659322642,0.3872568755267303,0.38757342792159366,0.3876208706744493,0.3883046111799962,0.3889605842634695,0.39258481323481303,0.3932691790457819,0.39372466142726636,0.39612850725797966,0.39623281863061377,0.3992014456509099,0.40071217571024836,0.4018596325816852,0.4023996561312545,0.4030864294784576,0.4033835005896612,0.40549211507971117,0.40579338042917046,0.4068864717909823,0.4088441593653047,0.4105990259973297,0.41088914478483246,0.4156963999959973,0.415726595629936,0.4168323652606236,0.4172868225089587,0.4175587025868379,0.4215585004654846,0.4239294837926726,0.42408537670015645,0.42410688486623943,0.42431570377918787,0.42450609209148804,0.42571914646477693,0.428294786195711,0.4285342319888709,0.42869254330562984,0.4287836000266319,0.4290447532172511,0.43109783716751954,0.4313796703872782,0.433106777714096,0.4354527247513985,0.4362977403390132,0.4371465412668714,0.43828368875782353,0.4385372856371165,0.4390317557388797,0.43971353045469846,0.43979151100724756,0.44090829136070453,0.4413549396290047,0.4414114778727913,0.4420177470610202,0.4421006518804226,0.4421264367195491,0.4421974803856462,0.44240315386881196,0.4430787865567831,0.4433944674427653,0.4458160747168976,0.4458277740845046,0.4478982063526631,0.44830027588262616,0.4484779022013147,0.44851794918583826,0.45000210970441185,0.4508314364900132,0.45373234165294224,0.45425214147102083,0.4554100679124716,0.45757207791073945,0.45782242791704175,0.45835025210129643,0.45971212341392625,0.46220113441333804,0.4628716320796116,0.46363377219688506,0.4643742370009721,0.46450554471931305,0.4652527061711309,0.46844484550597715,0.46958220178862053,0.4717839446526006,0.4723492735680104,0.47346266322640684,0.4746841798924716,0.47504586684358613,0.47921848332085965,0.48135209640248494,0.4851027254008425,0.48692795193802907,0.492688319423679,0.49373448821041455,0.49721641545312706,0.5008526016383228],\"xaxis\":\"x\",\"y\":[156,158,159,163,167,169,172,179,180,182,183,187,193,195,197,198,201,205,208,209,213,214,215,218,219,220,222,224,225,227,228,231,232,234,235,241,249,253,255,256,257,259,260,262,264,265,270,275,277,281,282,286,287,291,293,295,297,299,302,303,304,305,307,309,312,315,316,318,320,321,322,326,327,330,332,338,342,344,347,353,354,355,358,359,362,363,365,366,367,368,370,371,373,374,376,377,378,380,382,386,388,389,391,393,395,398,401,402,403,404,406,407,408,411,414,415,419,420,421,422,423,427,431,432,433,434,435,437,444,445,446,447,448,453,456,458,463,467,469,472,473,474,477,478,479,480,481,485,486,487,488,489,491,492,495,496,502,504,506,507,508,509,515,518,520,523,524,525,528,533,535,536,537,538,541,547,551,555,557,559,561,562,566,571,573,578,587,589,593,598],\"yaxis\":\"y\",\"type\":\"bar\",\"width\":3},{\"alignmentgroup\":\"True\",\"hovertemplate\":\"Cluster=1\\u003cbr\\u003eSource=Test Data\\u003cbr\\u003eSilhouette Score=%{x}\\u003cbr\\u003e_index=%{y}\\u003cextra\\u003e\\u003c\\u002fextra\\u003e\",\"legendgroup\":\"1\",\"marker\":{\"color\":\"#EF553B\",\"pattern\":{\"shape\":\"\"}},\"name\":\"1\",\"offsetgroup\":\"1\",\"orientation\":\"h\",\"showlegend\":false,\"textposition\":\"auto\",\"x\":[0.14206639739547047,0.17136840259811295,0.17482254539133116,0.17851742472617607,0.18826954322663417,0.1885916317176899,0.19475140107441935,0.2032891728401979,0.20860478514931574,0.2088102570309575,0.21325986724724463,0.21598447994000208,0.22453018152298534,0.23335835291784257,0.23621985204225202,0.23707120119570171,0.24852962564109352,0.24935522737866941,0.25329413292584846,0.2596055030377264,0.26714929715598146,0.2693247352474741,0.2755108303730674,0.2779996552142905,0.2821165681974082,0.2821738866321746,0.28444814584910244,0.28847014057021925,0.29278989761372237,0.2929928834866266,0.2976889890577779,0.30282373854724126,0.30845804275520217,0.3098057987432604,0.31175278405388956,0.3120666580666504,0.3151925060571306,0.3155855914003828,0.3180547144996952,0.3206499455923373,0.32477629891843673,0.32543566887924263,0.3256622845136063,0.32693577074486047,0.32938367331949914,0.32958506992242564,0.33486707168125185,0.3355930556312941,0.3361795140135634,0.3408717866452536,0.34161401692035387,0.342345377897818,0.3433029961243546,0.3452502373768348,0.35914604796950417,0.3592249295305861,0.36112153930233437,0.36602828312958147,0.36639306181951753,0.36823043466157795,0.36961551801748177,0.37093811964082923,0.3717578258429968,0.37486267392274886,0.37540390508668353,0.37807710412972895,0.378331864547577,0.3792453189404854,0.3868045878628773,0.3882590130130119,0.38851261958445527,0.3923265994686751,0.3989472089578261,0.400062563635786,0.4012364825778358,0.4090748201355317,0.41417708082655685,0.42144369295909423,0.42543869435134746,0.42579287216104056,0.42583383624517335,0.4265061939890684,0.42777626405177915,0.4334453378247872,0.4348468159226848,0.4350181137720794,0.4356253346659015,0.43566307821497646,0.4416864988483945,0.4417449380407852,0.4428172348520777,0.4454592040430355,0.44673207564498235,0.446824292493632,0.4483278793292576,0.45238051934979756,0.4538274733927831,0.4542423220534987,0.4548965296587202,0.4558330293933807,0.4591203646736592,0.4605375306524667,0.4605441878206225,0.46131708484181055,0.4622330408907027,0.4646517200655892,0.46529733099057846,0.46758571232127843,0.46785894015230733,0.4691667033066052,0.4695108069006118,0.4711641931067273,0.4733108933370117,0.4766104796942518,0.4780845152704312,0.4793633438128102,0.4800289324262071,0.4804004832818603,0.4863919786759854,0.4866314740853954,0.48663780120173455,0.4869352285231701,0.48757918030202985,0.48966091128125366,0.4909453105610965,0.4921782844818034,0.4929527958197357,0.4939467434202261,0.4945909532946051,0.4969715472847416,0.49844284335294065,0.4994746570944807,0.499585695230025,0.5000150612764437,0.5013406802916976,0.5021439895096662,0.5028184841747805,0.503782987858276,0.5046847713662903,0.5069727131953818,0.5107346432180471,0.5117085836855408,0.5119022716157895,0.5122212722811831,0.5142311335700355,0.5160196937915043,0.5181553518118213,0.5181633786850951,0.5183091755342748,0.5186601758513588,0.5207110478154771,0.5207629258392373,0.522857506949905,0.5236257516401653,0.5239377762309808,0.5244251236272557,0.5262198568391815,0.5272532796665782,0.5291284577078622,0.5315004191210105,0.5324329606726633,0.534506616047004,0.5367848371202919,0.5383269621438795,0.5390082876209374,0.5397170001964775,0.5401306401563017,0.5418654367123936,0.542019995510703,0.5435301625877463,0.5437067647353752,0.5444055657387963,0.5451769264620127,0.5490485185850449,0.5494218772360556,0.5500135033035799,0.551305143111775,0.5518160449824135,0.5524156375268614,0.5558913200686931,0.5561391607751371],\"xaxis\":\"x2\",\"y\":[160,165,166,168,175,176,178,181,184,185,188,190,194,199,202,203,211,212,216,221,226,229,233,237,243,244,246,248,250,252,254,258,263,266,268,269,273,274,278,280,283,284,285,289,292,294,298,300,301,306,308,310,314,319,333,335,337,341,343,345,348,349,350,356,357,360,361,364,375,379,381,385,394,396,399,412,417,426,436,438,439,441,442,459,461,462,464,465,483,484,490,494,498,499,505,511,516,517,519,521,526,529,530,531,534,539,542,545,546,548,550,553,558,563,565,567,569,570,575,576,577,579,580,581,582,584,588,590,591,592,594,595,596,597,599,600,602,604,606,609,611,614,615,616,617,618,624,625,627,628,630,631,634,635,636,639,642,644,646,647,649,652,659,662,663,664,666,668,670,672,673,674,675,679,681,683,685,686,687,689,690],\"yaxis\":\"y2\",\"type\":\"bar\",\"width\":3},{\"alignmentgroup\":\"True\",\"hovertemplate\":\"Cluster=1\\u003cbr\\u003eSource=Training Data\\u003cbr\\u003eSilhouette Score=%{x}\\u003cbr\\u003e_index=%{y}\\u003cextra\\u003e\\u003c\\u002fextra\\u003e\",\"legendgroup\":\"1\",\"marker\":{\"color\":\"#EF553B\",\"pattern\":{\"shape\":\"\"}},\"name\":\"1\",\"offsetgroup\":\"1\",\"orientation\":\"h\",\"showlegend\":false,\"textposition\":\"auto\",\"x\":[0.12963364465710964,0.1490094870083947,0.15695529312545173,0.16948316833126595,0.17970516765475078,0.18338341005347572,0.18790443706189042,0.18800606285455765,0.19232410116438056,0.20990009039801769,0.2151227841165823,0.21870747038002342,0.22156263681254648,0.22572392498553934,0.23340292227094964,0.23740193503370335,0.2428106216256571,0.2436020691678657,0.24667967492961826,0.2547412752110374,0.2633598377132237,0.2737902761105744,0.2770989573209306,0.27908255989026126,0.2791641492283523,0.2798113255107697,0.2804419612378507,0.2827665426765826,0.28702871058308743,0.2928725619080981,0.30695262561747794,0.31143005693188935,0.3148690373751268,0.3149544414654953,0.31584993522526494,0.3191827122514421,0.3261422873795742,0.32770039349137053,0.33043283675497115,0.3425771324778288,0.3429660830042264,0.34508446683741983,0.34948122527388487,0.3509867000993034,0.35228092450241105,0.3552508208444236,0.3568036073953451,0.3573912491499494,0.3591894298827133,0.3596524716451419,0.36434681993849943,0.3651589328087882,0.3687347964635027,0.3720848729544494,0.3736455136699275,0.3822368401007714,0.3846069282538461,0.39104392156275497,0.3920470294430328,0.39293523168708305,0.3942404388230578,0.3961390351379188,0.4003785227887537,0.40169969139427786,0.40431561870228677,0.407357542009355,0.4073860500229554,0.40991839765852184,0.4123790275710062,0.41477023135115065,0.41779483219992825,0.41872337547669586,0.4216373403345993,0.42223286527471987,0.42305898238092204,0.42636325813829906,0.4278673127437305,0.42991057896418194,0.4301019195287706,0.4308528911320814,0.4308801708699669,0.4311206892665782,0.43120519832827875,0.4317688777401949,0.4345404926020409,0.4357986023057906,0.4365600247055729,0.4375956456117331,0.43819122692148355,0.4391790171724756,0.43934215768328944,0.44153950982457063,0.4442504472002641,0.44626094566332797,0.44707925711555224,0.4478314321549879,0.448100125526917,0.45155037223377814,0.4528150199590355,0.4530136038607456,0.45332077496010753,0.4562391948966583,0.4594780468474175,0.4617628643776401,0.4647539907385529,0.46630386491061243,0.46679276948991716,0.4691980053975117,0.471156758142158,0.47175696985748966,0.4718151602997939,0.4740989006335474,0.47778406553397,0.47973797461288437,0.48135734173929723,0.4861263550829736,0.4912332683640087,0.49224908592224415,0.4922504663671868,0.5025645296743696,0.502835179426103,0.5038828020410194,0.5061871101539737,0.5068548307224725,0.5086749308781503,0.5110050800793386,0.5112039305897842,0.5161656496135084,0.5163022888994522,0.5173781014228283,0.5179417341538768,0.5180825211894335,0.5182954500550364,0.5200284231960223,0.5214857534829652,0.5222175061598762,0.5239601964665038,0.5240219832248383,0.5248966974668887,0.5256838044484087,0.5266172999490691,0.5281635765565436,0.5318123915590877,0.5324388963523917,0.532633503540322,0.534557689683114,0.5346276870736204,0.5350874539676028,0.5351973975529298,0.5353919840104041,0.5360973950490027,0.5372672815027458,0.5373677430492495,0.539911746467539,0.5405028468351396,0.5419937882817063,0.5435267146000429,0.5472873766958395,0.5481650718304277,0.5487946359163374,0.5493592446457842,0.5499371831559235,0.5506826319822803,0.5542442935224876,0.556272045691736,0.557902461685185],\"xaxis\":\"x3\",\"y\":[157,161,162,164,170,171,173,174,177,186,189,191,192,196,200,204,206,207,210,217,223,230,236,238,239,240,242,245,247,251,261,267,271,272,276,279,288,290,296,311,313,317,323,324,325,328,329,331,334,336,339,340,346,351,352,369,372,383,384,387,390,392,397,400,405,409,410,413,416,418,424,425,428,429,430,440,443,449,450,451,452,454,455,457,460,466,468,470,471,475,476,482,493,497,500,501,503,510,512,513,514,522,527,532,540,543,544,549,552,554,556,560,564,568,572,574,583,585,586,601,603,605,607,608,610,612,613,619,620,621,622,623,626,629,632,633,637,638,640,641,643,645,648,650,651,653,654,655,656,657,658,660,661,665,667,669,671,676,677,678,680,682,684,688,691,692],\"yaxis\":\"y3\",\"type\":\"bar\",\"width\":3},{\"alignmentgroup\":\"True\",\"hovertemplate\":\"Cluster=2\\u003cbr\\u003eSource=Test Data (Altered)\\u003cbr\\u003eSilhouette Score=%{x}\\u003cbr\\u003e_index=%{y}\\u003cextra\\u003e\\u003c\\u002fextra\\u003e\",\"legendgroup\":\"2\",\"marker\":{\"color\":\"#00cc96\",\"pattern\":{\"shape\":\"\"}},\"name\":\"2\",\"offsetgroup\":\"2\",\"orientation\":\"h\",\"showlegend\":true,\"textposition\":\"auto\",\"x\":[-0.12159780016029582,-0.0508284033097012,-0.04834655164915513,-0.02244595141404982,0.06931045075566433,0.07369845417097773,0.07847338747399442,0.08084399456027419,0.09740956015266175,0.09953904649152696,0.10120000978474118,0.10339445094670634,0.10339528524773338,0.10757761978529398,0.11434911869104827,0.1161705035676986,0.12345852908555592,0.13218346100137296,0.13429716842556066,0.13742649934334172,0.14225432331308605,0.1431558039292073,0.14758148652844427,0.1487706078686659,0.1538360854095776,0.17087090648720676,0.17676580931185487,0.17971760251914148,0.1873434596073658,0.18971537134707056,0.19018434397626052,0.1982735531014478,0.2061462312641319,0.2076247991099306,0.20979662159226814,0.2100089501055352,0.212520497034815,0.21415514239702835,0.21597254451283016,0.2174612031535603,0.23892759875082592,0.2775018035587619,0.3147218793632262],\"xaxis\":\"x\",\"y\":[693,701,702,705,716,717,718,719,723,724,726,730,731,732,734,735,737,740,741,743,746,747,748,750,752,758,760,761,766,769,770,773,778,779,780,781,782,783,784,787,800,816,831],\"yaxis\":\"y\",\"type\":\"bar\",\"width\":3},{\"alignmentgroup\":\"True\",\"hovertemplate\":\"Cluster=2\\u003cbr\\u003eSource=Test Data\\u003cbr\\u003eSilhouette Score=%{x}\\u003cbr\\u003e_index=%{y}\\u003cextra\\u003e\\u003c\\u002fextra\\u003e\",\"legendgroup\":\"2\",\"marker\":{\"color\":\"#00cc96\",\"pattern\":{\"shape\":\"\"}},\"name\":\"2\",\"offsetgroup\":\"2\",\"orientation\":\"h\",\"showlegend\":false,\"textposition\":\"auto\",\"x\":[-0.11373273355442365,-0.10343709726589723,-0.09752901190915053,-0.09235517414114953,-0.0420363128025033,-0.01581604770590125,0.008776113909339096,0.06725513746256016,0.08662001100573978,0.08945637275268649,0.1002735069745743,0.10120255941120758,0.10324254404680823,0.13201258092343046,0.13858532727554915,0.140346287632724,0.15688234781367577,0.15891674556020896,0.16083614157715942,0.18002864286054235,0.18638570898524054,0.1880754313553259,0.19767585632078363,0.2008109149616781,0.2159883868305118,0.23273475062038698,0.2334012450351669,0.2377197705941842,0.24451827879305119,0.2665182121182813,0.27076880321009583,0.2709052879139527,0.2795338439201306,0.286834851851292,0.2956664940799809,0.2992205173104671,0.3055706295460388,0.3167261491227965,0.3204091649186843,0.3348107459006453,0.33518858700364396,0.339316396474523,0.3562774910184952,0.365705246465206,0.36602627922240305,0.37020517819550486,0.37086660011573286,0.3764206505520812,0.3851354787489419,0.39483994408447476,0.4022755151395369,0.4058917874150066,0.4155978032015378],\"xaxis\":\"x2\",\"y\":[694,695,696,698,704,706,708,715,720,721,725,727,729,739,744,745,753,754,755,762,764,768,772,775,785,795,796,799,803,811,814,815,818,820,823,824,830,832,833,836,837,838,840,842,843,844,845,847,849,850,851,852,853],\"yaxis\":\"y2\",\"type\":\"bar\",\"width\":3},{\"alignmentgroup\":\"True\",\"hovertemplate\":\"Cluster=2\\u003cbr\\u003eSource=Training Data\\u003cbr\\u003eSilhouette Score=%{x}\\u003cbr\\u003e_index=%{y}\\u003cextra\\u003e\\u003c\\u002fextra\\u003e\",\"legendgroup\":\"2\",\"marker\":{\"color\":\"#00cc96\",\"pattern\":{\"shape\":\"\"}},\"name\":\"2\",\"offsetgroup\":\"2\",\"orientation\":\"h\",\"showlegend\":false,\"textposition\":\"auto\",\"x\":[-0.09293367555483815,-0.09173863027842481,-0.07163707056455641,-0.04670663029726773,-0.012197633251877091,0.010234969874161955,0.020974132351720288,0.0471725102267036,0.047382246904535984,0.06109397307016297,0.06293970534292474,0.0947146469030533,0.10270761660127169,0.11271424894965067,0.12240045325278806,0.1317621983364139,0.13711651839737543,0.14827048130208814,0.15128425619502997,0.16607951569925797,0.16840122030229068,0.17263827832224854,0.18548547248045277,0.18709375215056767,0.18747762300282358,0.19122580130547265,0.19929532806127437,0.20235642096396428,0.20456888861701655,0.21660486975227466,0.22091874975691367,0.22183829106255493,0.22224611228321972,0.2253216729531892,0.22627525916651234,0.22715005930367949,0.2291392542816413,0.23435901414597735,0.23439578302371017,0.24346711433334514,0.24358158557816434,0.24508275744057995,0.2472697261823311,0.24741621157041077,0.2527303306786269,0.2558298393858797,0.2575664089169653,0.2618451623409932,0.26840709856566614,0.2695067661487397,0.2790914338287809,0.28419411913299236,0.29106095935373877,0.29152714779089256,0.2998612311886225,0.3004532022750288,0.3015143300087148,0.30183367089195884,0.3030887960276592,0.3249628301941971,0.32901461613802885,0.3466793052426852,0.36390950487315843,0.3732121640488043,0.38451091988097363],\"xaxis\":\"x3\",\"y\":[697,699,700,703,707,709,710,711,712,713,714,722,728,733,736,738,742,749,751,756,757,759,763,765,767,771,774,776,777,786,788,789,790,791,792,793,794,797,798,801,802,804,805,806,807,808,809,810,812,813,817,819,821,822,825,826,827,828,829,834,835,839,841,846,848],\"yaxis\":\"y3\",\"type\":\"bar\",\"width\":3}],                        {\"template\":{\"data\":{\"histogram2dcontour\":[{\"type\":\"histogram2dcontour\",\"colorbar\":{\"outlinewidth\":0,\"ticks\":\"\"},\"colorscale\":[[0.0,\"#0d0887\"],[0.1111111111111111,\"#46039f\"],[0.2222222222222222,\"#7201a8\"],[0.3333333333333333,\"#9c179e\"],[0.4444444444444444,\"#bd3786\"],[0.5555555555555556,\"#d8576b\"],[0.6666666666666666,\"#ed7953\"],[0.7777777777777778,\"#fb9f3a\"],[0.8888888888888888,\"#fdca26\"],[1.0,\"#f0f921\"]]}],\"choropleth\":[{\"type\":\"choropleth\",\"colorbar\":{\"outlinewidth\":0,\"ticks\":\"\"}}],\"histogram2d\":[{\"type\":\"histogram2d\",\"colorbar\":{\"outlinewidth\":0,\"ticks\":\"\"},\"colorscale\":[[0.0,\"#0d0887\"],[0.1111111111111111,\"#46039f\"],[0.2222222222222222,\"#7201a8\"],[0.3333333333333333,\"#9c179e\"],[0.4444444444444444,\"#bd3786\"],[0.5555555555555556,\"#d8576b\"],[0.6666666666666666,\"#ed7953\"],[0.7777777777777778,\"#fb9f3a\"],[0.8888888888888888,\"#fdca26\"],[1.0,\"#f0f921\"]]}],\"heatmap\":[{\"type\":\"heatmap\",\"colorbar\":{\"outlinewidth\":0,\"ticks\":\"\"},\"colorscale\":[[0.0,\"#0d0887\"],[0.1111111111111111,\"#46039f\"],[0.2222222222222222,\"#7201a8\"],[0.3333333333333333,\"#9c179e\"],[0.4444444444444444,\"#bd3786\"],[0.5555555555555556,\"#d8576b\"],[0.6666666666666666,\"#ed7953\"],[0.7777777777777778,\"#fb9f3a\"],[0.8888888888888888,\"#fdca26\"],[1.0,\"#f0f921\"]]}],\"heatmapgl\":[{\"type\":\"heatmapgl\",\"colorbar\":{\"outlinewidth\":0,\"ticks\":\"\"},\"colorscale\":[[0.0,\"#0d0887\"],[0.1111111111111111,\"#46039f\"],[0.2222222222222222,\"#7201a8\"],[0.3333333333333333,\"#9c179e\"],[0.4444444444444444,\"#bd3786\"],[0.5555555555555556,\"#d8576b\"],[0.6666666666666666,\"#ed7953\"],[0.7777777777777778,\"#fb9f3a\"],[0.8888888888888888,\"#fdca26\"],[1.0,\"#f0f921\"]]}],\"contourcarpet\":[{\"type\":\"contourcarpet\",\"colorbar\":{\"outlinewidth\":0,\"ticks\":\"\"}}],\"contour\":[{\"type\":\"contour\",\"colorbar\":{\"outlinewidth\":0,\"ticks\":\"\"},\"colorscale\":[[0.0,\"#0d0887\"],[0.1111111111111111,\"#46039f\"],[0.2222222222222222,\"#7201a8\"],[0.3333333333333333,\"#9c179e\"],[0.4444444444444444,\"#bd3786\"],[0.5555555555555556,\"#d8576b\"],[0.6666666666666666,\"#ed7953\"],[0.7777777777777778,\"#fb9f3a\"],[0.8888888888888888,\"#fdca26\"],[1.0,\"#f0f921\"]]}],\"surface\":[{\"type\":\"surface\",\"colorbar\":{\"outlinewidth\":0,\"ticks\":\"\"},\"colorscale\":[[0.0,\"#0d0887\"],[0.1111111111111111,\"#46039f\"],[0.2222222222222222,\"#7201a8\"],[0.3333333333333333,\"#9c179e\"],[0.4444444444444444,\"#bd3786\"],[0.5555555555555556,\"#d8576b\"],[0.6666666666666666,\"#ed7953\"],[0.7777777777777778,\"#fb9f3a\"],[0.8888888888888888,\"#fdca26\"],[1.0,\"#f0f921\"]]}],\"mesh3d\":[{\"type\":\"mesh3d\",\"colorbar\":{\"outlinewidth\":0,\"ticks\":\"\"}}],\"scatter\":[{\"fillpattern\":{\"fillmode\":\"overlay\",\"size\":10,\"solidity\":0.2},\"type\":\"scatter\"}],\"parcoords\":[{\"type\":\"parcoords\",\"line\":{\"colorbar\":{\"outlinewidth\":0,\"ticks\":\"\"}}}],\"scatterpolargl\":[{\"type\":\"scatterpolargl\",\"marker\":{\"colorbar\":{\"outlinewidth\":0,\"ticks\":\"\"}}}],\"bar\":[{\"error_x\":{\"color\":\"#2a3f5f\"},\"error_y\":{\"color\":\"#2a3f5f\"},\"marker\":{\"line\":{\"color\":\"#E5ECF6\",\"width\":0.5},\"pattern\":{\"fillmode\":\"overlay\",\"size\":10,\"solidity\":0.2}},\"type\":\"bar\"}],\"scattergeo\":[{\"type\":\"scattergeo\",\"marker\":{\"colorbar\":{\"outlinewidth\":0,\"ticks\":\"\"}}}],\"scatterpolar\":[{\"type\":\"scatterpolar\",\"marker\":{\"colorbar\":{\"outlinewidth\":0,\"ticks\":\"\"}}}],\"histogram\":[{\"marker\":{\"pattern\":{\"fillmode\":\"overlay\",\"size\":10,\"solidity\":0.2}},\"type\":\"histogram\"}],\"scattergl\":[{\"type\":\"scattergl\",\"marker\":{\"colorbar\":{\"outlinewidth\":0,\"ticks\":\"\"}}}],\"scatter3d\":[{\"type\":\"scatter3d\",\"line\":{\"colorbar\":{\"outlinewidth\":0,\"ticks\":\"\"}},\"marker\":{\"colorbar\":{\"outlinewidth\":0,\"ticks\":\"\"}}}],\"scattermapbox\":[{\"type\":\"scattermapbox\",\"marker\":{\"colorbar\":{\"outlinewidth\":0,\"ticks\":\"\"}}}],\"scatterternary\":[{\"type\":\"scatterternary\",\"marker\":{\"colorbar\":{\"outlinewidth\":0,\"ticks\":\"\"}}}],\"scattercarpet\":[{\"type\":\"scattercarpet\",\"marker\":{\"colorbar\":{\"outlinewidth\":0,\"ticks\":\"\"}}}],\"carpet\":[{\"aaxis\":{\"endlinecolor\":\"#2a3f5f\",\"gridcolor\":\"white\",\"linecolor\":\"white\",\"minorgridcolor\":\"white\",\"startlinecolor\":\"#2a3f5f\"},\"baxis\":{\"endlinecolor\":\"#2a3f5f\",\"gridcolor\":\"white\",\"linecolor\":\"white\",\"minorgridcolor\":\"white\",\"startlinecolor\":\"#2a3f5f\"},\"type\":\"carpet\"}],\"table\":[{\"cells\":{\"fill\":{\"color\":\"#EBF0F8\"},\"line\":{\"color\":\"white\"}},\"header\":{\"fill\":{\"color\":\"#C8D4E3\"},\"line\":{\"color\":\"white\"}},\"type\":\"table\"}],\"barpolar\":[{\"marker\":{\"line\":{\"color\":\"#E5ECF6\",\"width\":0.5},\"pattern\":{\"fillmode\":\"overlay\",\"size\":10,\"solidity\":0.2}},\"type\":\"barpolar\"}],\"pie\":[{\"automargin\":true,\"type\":\"pie\"}]},\"layout\":{\"autotypenumbers\":\"strict\",\"colorway\":[\"#636efa\",\"#EF553B\",\"#00cc96\",\"#ab63fa\",\"#FFA15A\",\"#19d3f3\",\"#FF6692\",\"#B6E880\",\"#FF97FF\",\"#FECB52\"],\"font\":{\"color\":\"#2a3f5f\"},\"hovermode\":\"closest\",\"hoverlabel\":{\"align\":\"left\"},\"paper_bgcolor\":\"white\",\"plot_bgcolor\":\"#E5ECF6\",\"polar\":{\"bgcolor\":\"#E5ECF6\",\"angularaxis\":{\"gridcolor\":\"white\",\"linecolor\":\"white\",\"ticks\":\"\"},\"radialaxis\":{\"gridcolor\":\"white\",\"linecolor\":\"white\",\"ticks\":\"\"}},\"ternary\":{\"bgcolor\":\"#E5ECF6\",\"aaxis\":{\"gridcolor\":\"white\",\"linecolor\":\"white\",\"ticks\":\"\"},\"baxis\":{\"gridcolor\":\"white\",\"linecolor\":\"white\",\"ticks\":\"\"},\"caxis\":{\"gridcolor\":\"white\",\"linecolor\":\"white\",\"ticks\":\"\"}},\"coloraxis\":{\"colorbar\":{\"outlinewidth\":0,\"ticks\":\"\"}},\"colorscale\":{\"sequential\":[[0.0,\"#0d0887\"],[0.1111111111111111,\"#46039f\"],[0.2222222222222222,\"#7201a8\"],[0.3333333333333333,\"#9c179e\"],[0.4444444444444444,\"#bd3786\"],[0.5555555555555556,\"#d8576b\"],[0.6666666666666666,\"#ed7953\"],[0.7777777777777778,\"#fb9f3a\"],[0.8888888888888888,\"#fdca26\"],[1.0,\"#f0f921\"]],\"sequentialminus\":[[0.0,\"#0d0887\"],[0.1111111111111111,\"#46039f\"],[0.2222222222222222,\"#7201a8\"],[0.3333333333333333,\"#9c179e\"],[0.4444444444444444,\"#bd3786\"],[0.5555555555555556,\"#d8576b\"],[0.6666666666666666,\"#ed7953\"],[0.7777777777777778,\"#fb9f3a\"],[0.8888888888888888,\"#fdca26\"],[1.0,\"#f0f921\"]],\"diverging\":[[0,\"#8e0152\"],[0.1,\"#c51b7d\"],[0.2,\"#de77ae\"],[0.3,\"#f1b6da\"],[0.4,\"#fde0ef\"],[0.5,\"#f7f7f7\"],[0.6,\"#e6f5d0\"],[0.7,\"#b8e186\"],[0.8,\"#7fbc41\"],[0.9,\"#4d9221\"],[1,\"#276419\"]]},\"xaxis\":{\"gridcolor\":\"white\",\"linecolor\":\"white\",\"ticks\":\"\",\"title\":{\"standoff\":15},\"zerolinecolor\":\"white\",\"automargin\":true,\"zerolinewidth\":2},\"yaxis\":{\"gridcolor\":\"white\",\"linecolor\":\"white\",\"ticks\":\"\",\"title\":{\"standoff\":15},\"zerolinecolor\":\"white\",\"automargin\":true,\"zerolinewidth\":2},\"scene\":{\"xaxis\":{\"backgroundcolor\":\"#E5ECF6\",\"gridcolor\":\"white\",\"linecolor\":\"white\",\"showbackground\":true,\"ticks\":\"\",\"zerolinecolor\":\"white\",\"gridwidth\":2},\"yaxis\":{\"backgroundcolor\":\"#E5ECF6\",\"gridcolor\":\"white\",\"linecolor\":\"white\",\"showbackground\":true,\"ticks\":\"\",\"zerolinecolor\":\"white\",\"gridwidth\":2},\"zaxis\":{\"backgroundcolor\":\"#E5ECF6\",\"gridcolor\":\"white\",\"linecolor\":\"white\",\"showbackground\":true,\"ticks\":\"\",\"zerolinecolor\":\"white\",\"gridwidth\":2}},\"shapedefaults\":{\"line\":{\"color\":\"#2a3f5f\"}},\"annotationdefaults\":{\"arrowcolor\":\"#2a3f5f\",\"arrowhead\":0,\"arrowwidth\":1},\"geo\":{\"bgcolor\":\"white\",\"landcolor\":\"#E5ECF6\",\"subunitcolor\":\"white\",\"showland\":true,\"showlakes\":true,\"lakecolor\":\"white\"},\"title\":{\"x\":0.05},\"mapbox\":{\"style\":\"light\"}}},\"xaxis\":{\"anchor\":\"y\",\"domain\":[0.0,0.31999999999999995],\"title\":{\"text\":\"Silhouette Score\"}},\"yaxis\":{\"anchor\":\"x\",\"domain\":[0.0,1.0],\"title\":{\"text\":\"_index\"}},\"xaxis2\":{\"anchor\":\"y2\",\"domain\":[0.33999999999999997,0.6599999999999999],\"matches\":\"x\",\"title\":{\"text\":\"Silhouette Score\"}},\"yaxis2\":{\"anchor\":\"x2\",\"domain\":[0.0,1.0],\"matches\":\"y\",\"showticklabels\":false},\"xaxis3\":{\"anchor\":\"y3\",\"domain\":[0.6799999999999999,0.9999999999999999],\"matches\":\"x\",\"title\":{\"text\":\"Silhouette Score\"}},\"yaxis3\":{\"anchor\":\"x3\",\"domain\":[0.0,1.0],\"matches\":\"y\",\"showticklabels\":false},\"annotations\":[{\"font\":{},\"showarrow\":false,\"text\":\"Source=Test Data (Altered)\",\"x\":0.15999999999999998,\"xanchor\":\"center\",\"xref\":\"paper\",\"y\":1.0,\"yanchor\":\"bottom\",\"yref\":\"paper\"},{\"font\":{},\"showarrow\":false,\"text\":\"Source=Test Data\",\"x\":0.49999999999999994,\"xanchor\":\"center\",\"xref\":\"paper\",\"y\":1.0,\"yanchor\":\"bottom\",\"yref\":\"paper\"},{\"font\":{},\"showarrow\":false,\"text\":\"Source=Training Data\",\"x\":0.8399999999999999,\"xanchor\":\"center\",\"xref\":\"paper\",\"y\":1.0,\"yanchor\":\"bottom\",\"yref\":\"paper\"}],\"legend\":{\"title\":{\"text\":\"Cluster\"},\"tracegroupgap\":0},\"title\":{\"text\":\"Silhouette Analysis Showing Show Poorer Cluister in Altered Data\"},\"barmode\":\"relative\",\"height\":600,\"width\":1000},                        {\"responsive\": true}                    ).then(function(){\n",
       "                            \n",
       "var gd = document.getElementById('01f2e70f-cfb4-4758-b378-8565e1812cb7');\n",
       "var x = new MutationObserver(function (mutations, observer) {{\n",
       "        var display = window.getComputedStyle(gd).display;\n",
       "        if (!display || display === 'none') {{\n",
       "            console.log([gd, 'removed!']);\n",
       "            Plotly.purge(gd);\n",
       "            observer.disconnect();\n",
       "        }}\n",
       "}});\n",
       "\n",
       "// Listen for the removal of the full notebook cells\n",
       "var notebookContainer = gd.closest('#notebook-container');\n",
       "if (notebookContainer) {{\n",
       "    x.observe(notebookContainer, {childList: true});\n",
       "}}\n",
       "\n",
       "// Listen for the clearing of the current output cell\n",
       "var outputEl = gd.closest('.output');\n",
       "if (outputEl) {{\n",
       "    x.observe(outputEl, {childList: true});\n",
       "}}\n",
       "\n",
       "                        })                };                });            </script>        </div>"
      ]
     },
     "metadata": {},
     "output_type": "display_data"
    }
   ],
   "source": [
    "\n",
    "label_col = 'y'\n",
    "train_df = X_train.copy()\n",
    "train_df.loc[:, 'Silhouette Score'] = train_sil_scores\n",
    "train_df.loc[:, 'Source'] ='Training Data'\n",
    "train_df.loc[:, 'Cluster'] =  train_clusters.astype(str)\n",
    "train_df.loc[:, label_col] = y_train\n",
    "\n",
    "\n",
    "test_df = X_test.copy()\n",
    "test_df.loc[:, 'Silhouette Score'] = test_sil_scores\n",
    "test_df.loc[:, 'Source'] ='Test Data'\n",
    "test_df.loc[:, 'Cluster'] = test_clusters.astype(str)\n",
    "test_df.loc[:, label_col] = y_test\n",
    "\n",
    "\n",
    "test_altered_df = X_test_altered.copy()\n",
    "test_altered_df.loc[:, 'Silhouette Score'] = test_altered_sil_scores\n",
    "test_altered_df.loc[:, 'Source'] =  'Test Data (Altered)'\n",
    "test_altered_df.loc[:, 'Cluster'] = test_altered_clusters.astype(str)\n",
    "test_altered_df.loc[:, label_col] = y_test\n",
    "\n",
    "to_plot = pd.concat([train_df, test_df, test_altered_df]).sort_values(by=['Cluster', 'Silhouette Score']).reset_index()\n",
    "\n",
    "s_score = np.round(to_plot.loc[:, 'Silhouette Score'].mean(), 3)\n",
    "title = F\"Silhouette Analysis Showing Show Poorer Cluister in Altered Data\"\n",
    "\n",
    "\n",
    "fig = px.bar(to_plot, x ='Silhouette Score', facet_col='Source', color='Cluster', title=title, width=1000, height=600)\n",
    "\n",
    "fig.update_traces(width=3)\n",
    "fig.show()"
   ]
  },
  {
   "cell_type": "code",
   "execution_count": 13,
   "id": "b4736aed",
   "metadata": {},
   "outputs": [
    {
     "data": {
      "application/vnd.plotly.v1+json": {
       "config": {
        "plotlyServerURL": "https://plot.ly"
       },
       "data": [
        {
         "alignmentgroup": "True",
         "bingroup": "x",
         "hovertemplate": "Source=Test Data (Altered)<br>Cluster=0<br>Silhouette Score=%{x}<br>count=%{y}<extra></extra>",
         "legendgroup": "Test Data (Altered)",
         "marker": {
          "color": "orange",
          "pattern": {
           "shape": ""
          }
         },
         "name": "Test Data (Altered)",
         "offsetgroup": "Test Data (Altered)",
         "orientation": "v",
         "showlegend": true,
         "type": "histogram",
         "x": [
          -0.23876426122832967,
          -0.23071236221448294,
          -0.22708332619838856,
          -0.2171791792486662,
          -0.1984887459748762,
          -0.1906863119978208,
          -0.1742020033398471,
          -0.16803946913149537,
          -0.1644654085239676,
          -0.16201467131728525,
          -0.1376568840917198,
          -0.13204716302778458,
          -0.11740869663913875,
          -0.1092762830822941,
          -0.10702557652040531,
          -0.10531239562135274,
          -0.10086522163849332,
          -0.09481668473399844,
          -0.07501432916419885,
          -0.07275499233293375,
          -0.06604825720721053,
          -0.06096961950235446,
          -0.04364485671489888,
          -0.042994911968023124,
          -0.04143644382034305,
          -0.04073197562761585,
          -0.03831803725196748,
          -0.037962487809196054,
          -0.029665838780096668,
          -0.02613775701013678,
          -0.02105462522264474,
          -0.01985483762734207,
          -0.013579820740495662,
          0.0015419583873452637,
          0.008904170252972878,
          0.009291743824611202,
          0.026847290571567654,
          0.044548273761481495,
          0.04797870075826924,
          0.05839444143854413,
          0.06093541986631675,
          0.08208192996489139,
          0.0842152023900169,
          0.08436594342177628,
          0.08567687405497648,
          0.09117297870913955,
          0.0938151790821002,
          0.10611429392211995,
          0.10823194976178505,
          0.10844815817914662,
          0.11740971703197277,
          0.12023809827843222
         ],
         "xaxis": "x",
         "yaxis": "y"
        },
        {
         "alignmentgroup": "True",
         "bingroup": "x",
         "hovertemplate": "Source=Test Data (Altered)<br>Cluster=1<br>Silhouette Score=%{x}<br>count=%{y}<extra></extra>",
         "legendgroup": "Test Data (Altered)",
         "marker": {
          "color": "orange",
          "pattern": {
           "shape": ""
          }
         },
         "name": "Test Data (Altered)",
         "offsetgroup": "Test Data (Altered)",
         "orientation": "v",
         "showlegend": false,
         "type": "histogram",
         "x": [
          0.06110590016474686,
          0.13881083546002324,
          0.14178336726998242,
          0.1668835095658405,
          0.17504101600548108,
          0.1795297964560493,
          0.18781566991332757,
          0.20104517287064058,
          0.20190954674118913,
          0.20616061095124624,
          0.20679166989960446,
          0.21229635785326365,
          0.22241804480901367,
          0.22565295998253573,
          0.22968165292818454,
          0.23131180604940477,
          0.23599660325399854,
          0.24140187053611423,
          0.24483983059947045,
          0.24505288377617984,
          0.25003313355389517,
          0.25074345698905437,
          0.251815604299478,
          0.2574070618836503,
          0.2577508228278759,
          0.25878565626863576,
          0.2621129745582487,
          0.2636033839184526,
          0.2669332201334962,
          0.26918959440315,
          0.26930858628803134,
          0.27380069046743444,
          0.27398302170055716,
          0.27653186816873393,
          0.27661375099001967,
          0.280105131032958,
          0.290587566280159,
          0.2964351011581881,
          0.2990919545024662,
          0.2997003339197886,
          0.3002694285148077,
          0.30451558790592936,
          0.30496891947576865,
          0.30707823312771076,
          0.30901109718623954,
          0.30971267538097946,
          0.3135218427273816,
          0.31584884269237284,
          0.3174970059658425,
          0.3213497996389835,
          0.32303909633047984,
          0.3258174422265914,
          0.3260208038117169,
          0.328501967681725,
          0.32957125926049075,
          0.33042620588536853,
          0.33269967253861804,
          0.3355437022053464,
          0.3366408866905726,
          0.33736966110917205,
          0.3388305137833838,
          0.3403177858591865,
          0.3409768713164886,
          0.3416405115139486,
          0.34270291442851486,
          0.3436476836825191,
          0.3450025148760239,
          0.34523609176335185,
          0.34752982989540016,
          0.3488053905980546,
          0.34900950157770416,
          0.3529596057525695,
          0.35407203972904866,
          0.35699746365460083,
          0.3579025396240617,
          0.3620148228506656,
          0.36613759040203914,
          0.3667018279013492,
          0.3695685681740937,
          0.3736702869060458,
          0.37410008888226387,
          0.3744986707261721,
          0.37729847541775846,
          0.3774247085557546,
          0.3790122288086407,
          0.3791452263316599,
          0.3804768721633685,
          0.3813825425044945,
          0.38159146613657996,
          0.3818115174466713,
          0.38262699773789294,
          0.38378787298000605,
          0.3854524869720963,
          0.3862735659322642,
          0.3872568755267303,
          0.38757342792159366,
          0.3876208706744493,
          0.3883046111799962,
          0.3889605842634695,
          0.39258481323481303,
          0.3932691790457819,
          0.39372466142726636,
          0.39612850725797966,
          0.39623281863061377,
          0.3992014456509099,
          0.40071217571024836,
          0.4018596325816852,
          0.4023996561312545,
          0.4030864294784576,
          0.4033835005896612,
          0.40549211507971117,
          0.40579338042917046,
          0.4068864717909823,
          0.4088441593653047,
          0.4105990259973297,
          0.41088914478483246,
          0.4156963999959973,
          0.415726595629936,
          0.4168323652606236,
          0.4172868225089587,
          0.4175587025868379,
          0.4215585004654846,
          0.4239294837926726,
          0.42408537670015645,
          0.42410688486623943,
          0.42431570377918787,
          0.42450609209148804,
          0.42571914646477693,
          0.428294786195711,
          0.4285342319888709,
          0.42869254330562984,
          0.4287836000266319,
          0.4290447532172511,
          0.43109783716751954,
          0.4313796703872782,
          0.433106777714096,
          0.4354527247513985,
          0.4362977403390132,
          0.4371465412668714,
          0.43828368875782353,
          0.4385372856371165,
          0.4390317557388797,
          0.43971353045469846,
          0.43979151100724756,
          0.44090829136070453,
          0.4413549396290047,
          0.4414114778727913,
          0.4420177470610202,
          0.4421006518804226,
          0.4421264367195491,
          0.4421974803856462,
          0.44240315386881196,
          0.4430787865567831,
          0.4433944674427653,
          0.4458160747168976,
          0.4458277740845046,
          0.4478982063526631,
          0.44830027588262616,
          0.4484779022013147,
          0.44851794918583826,
          0.45000210970441185,
          0.4508314364900132,
          0.45373234165294224,
          0.45425214147102083,
          0.4554100679124716,
          0.45757207791073945,
          0.45782242791704175,
          0.45835025210129643,
          0.45971212341392625,
          0.46220113441333804,
          0.4628716320796116,
          0.46363377219688506,
          0.4643742370009721,
          0.46450554471931305,
          0.4652527061711309,
          0.46844484550597715,
          0.46958220178862053,
          0.4717839446526006,
          0.4723492735680104,
          0.47346266322640684,
          0.4746841798924716,
          0.47504586684358613,
          0.47921848332085965,
          0.48135209640248494,
          0.4851027254008425,
          0.48692795193802907,
          0.492688319423679,
          0.49373448821041455,
          0.49721641545312706,
          0.5008526016383228
         ],
         "xaxis": "x2",
         "yaxis": "y2"
        },
        {
         "alignmentgroup": "True",
         "bingroup": "x",
         "hovertemplate": "Source=Test Data (Altered)<br>Cluster=2<br>Silhouette Score=%{x}<br>count=%{y}<extra></extra>",
         "legendgroup": "Test Data (Altered)",
         "marker": {
          "color": "orange",
          "pattern": {
           "shape": ""
          }
         },
         "name": "Test Data (Altered)",
         "offsetgroup": "Test Data (Altered)",
         "orientation": "v",
         "showlegend": false,
         "type": "histogram",
         "x": [
          -0.12159780016029582,
          -0.0508284033097012,
          -0.04834655164915513,
          -0.02244595141404982,
          0.06931045075566433,
          0.07369845417097773,
          0.07847338747399442,
          0.08084399456027419,
          0.09740956015266175,
          0.09953904649152696,
          0.10120000978474118,
          0.10339445094670634,
          0.10339528524773338,
          0.10757761978529398,
          0.11434911869104827,
          0.1161705035676986,
          0.12345852908555592,
          0.13218346100137296,
          0.13429716842556066,
          0.13742649934334172,
          0.14225432331308605,
          0.1431558039292073,
          0.14758148652844427,
          0.1487706078686659,
          0.1538360854095776,
          0.17087090648720676,
          0.17676580931185487,
          0.17971760251914148,
          0.1873434596073658,
          0.18971537134707056,
          0.19018434397626052,
          0.1982735531014478,
          0.2061462312641319,
          0.2076247991099306,
          0.20979662159226814,
          0.2100089501055352,
          0.212520497034815,
          0.21415514239702835,
          0.21597254451283016,
          0.2174612031535603,
          0.23892759875082592,
          0.2775018035587619,
          0.3147218793632262
         ],
         "xaxis": "x3",
         "yaxis": "y3"
        },
        {
         "alignmentgroup": "True",
         "bingroup": "x",
         "hovertemplate": "Source=Test Data<br>Cluster=0<br>Silhouette Score=%{x}<br>count=%{y}<extra></extra>",
         "legendgroup": "Test Data",
         "marker": {
          "color": "lightblue",
          "pattern": {
           "shape": ""
          }
         },
         "name": "Test Data",
         "offsetgroup": "Test Data",
         "orientation": "v",
         "showlegend": true,
         "type": "histogram",
         "x": [
          -0.17756149121119702,
          -0.17522952350970442,
          -0.17214141865431623,
          -0.15110374451562536,
          -0.1328729282337854,
          -0.12245356247927768,
          -0.08386692883432235,
          -0.07839436822224288,
          -0.06621440127711051,
          -0.06612307381506058,
          -0.06253745806770127,
          -0.05222164883312762,
          -0.05090001756861513,
          -0.03857451341434913,
          -0.036371679315510726,
          -0.012807660451901756,
          -0.012039734604668687,
          -0.0018113780260797015,
          -0.0005596568922776116,
          -0.000314530394621701,
          0.02234250337431538,
          0.042220564999900935,
          0.04409785113769397,
          0.05326407512704324,
          0.0822781456266345,
          0.08568648801523066,
          0.09372476077059312,
          0.09715431269364698,
          0.1011793109703133,
          0.10180589516016553,
          0.10292020900860933,
          0.11413078950019417,
          0.11800453310960358,
          0.1215882445377269,
          0.1265415978229046,
          0.12890824384803237,
          0.13389769080922126,
          0.1371803280102079,
          0.15030461359616368,
          0.1564496026705306,
          0.16146585556852894,
          0.17013321039010265,
          0.177781780009819,
          0.180734657359052,
          0.18366507424984813,
          0.1958129223198346,
          0.19997655241476991,
          0.2595793425815382,
          0.2598099398630725,
          0.2632020649089558,
          0.29529904363652193
         ],
         "xaxis": "x",
         "yaxis": "y"
        },
        {
         "alignmentgroup": "True",
         "bingroup": "x",
         "hovertemplate": "Source=Test Data<br>Cluster=1<br>Silhouette Score=%{x}<br>count=%{y}<extra></extra>",
         "legendgroup": "Test Data",
         "marker": {
          "color": "lightblue",
          "pattern": {
           "shape": ""
          }
         },
         "name": "Test Data",
         "offsetgroup": "Test Data",
         "orientation": "v",
         "showlegend": false,
         "type": "histogram",
         "x": [
          0.14206639739547047,
          0.17136840259811295,
          0.17482254539133116,
          0.17851742472617607,
          0.18826954322663417,
          0.1885916317176899,
          0.19475140107441935,
          0.2032891728401979,
          0.20860478514931574,
          0.2088102570309575,
          0.21325986724724463,
          0.21598447994000208,
          0.22453018152298534,
          0.23335835291784257,
          0.23621985204225202,
          0.23707120119570171,
          0.24852962564109352,
          0.24935522737866941,
          0.25329413292584846,
          0.2596055030377264,
          0.26714929715598146,
          0.2693247352474741,
          0.2755108303730674,
          0.2779996552142905,
          0.2821165681974082,
          0.2821738866321746,
          0.28444814584910244,
          0.28847014057021925,
          0.29278989761372237,
          0.2929928834866266,
          0.2976889890577779,
          0.30282373854724126,
          0.30845804275520217,
          0.3098057987432604,
          0.31175278405388956,
          0.3120666580666504,
          0.3151925060571306,
          0.3155855914003828,
          0.3180547144996952,
          0.3206499455923373,
          0.32477629891843673,
          0.32543566887924263,
          0.3256622845136063,
          0.32693577074486047,
          0.32938367331949914,
          0.32958506992242564,
          0.33486707168125185,
          0.3355930556312941,
          0.3361795140135634,
          0.3408717866452536,
          0.34161401692035387,
          0.342345377897818,
          0.3433029961243546,
          0.3452502373768348,
          0.35914604796950417,
          0.3592249295305861,
          0.36112153930233437,
          0.36602828312958147,
          0.36639306181951753,
          0.36823043466157795,
          0.36961551801748177,
          0.37093811964082923,
          0.3717578258429968,
          0.37486267392274886,
          0.37540390508668353,
          0.37807710412972895,
          0.378331864547577,
          0.3792453189404854,
          0.3868045878628773,
          0.3882590130130119,
          0.38851261958445527,
          0.3923265994686751,
          0.3989472089578261,
          0.400062563635786,
          0.4012364825778358,
          0.4090748201355317,
          0.41417708082655685,
          0.42144369295909423,
          0.42543869435134746,
          0.42579287216104056,
          0.42583383624517335,
          0.4265061939890684,
          0.42777626405177915,
          0.4334453378247872,
          0.4348468159226848,
          0.4350181137720794,
          0.4356253346659015,
          0.43566307821497646,
          0.4416864988483945,
          0.4417449380407852,
          0.4428172348520777,
          0.4454592040430355,
          0.44673207564498235,
          0.446824292493632,
          0.4483278793292576,
          0.45238051934979756,
          0.4538274733927831,
          0.4542423220534987,
          0.4548965296587202,
          0.4558330293933807,
          0.4591203646736592,
          0.4605375306524667,
          0.4605441878206225,
          0.46131708484181055,
          0.4622330408907027,
          0.4646517200655892,
          0.46529733099057846,
          0.46758571232127843,
          0.46785894015230733,
          0.4691667033066052,
          0.4695108069006118,
          0.4711641931067273,
          0.4733108933370117,
          0.4766104796942518,
          0.4780845152704312,
          0.4793633438128102,
          0.4800289324262071,
          0.4804004832818603,
          0.4863919786759854,
          0.4866314740853954,
          0.48663780120173455,
          0.4869352285231701,
          0.48757918030202985,
          0.48966091128125366,
          0.4909453105610965,
          0.4921782844818034,
          0.4929527958197357,
          0.4939467434202261,
          0.4945909532946051,
          0.4969715472847416,
          0.49844284335294065,
          0.4994746570944807,
          0.499585695230025,
          0.5000150612764437,
          0.5013406802916976,
          0.5021439895096662,
          0.5028184841747805,
          0.503782987858276,
          0.5046847713662903,
          0.5069727131953818,
          0.5107346432180471,
          0.5117085836855408,
          0.5119022716157895,
          0.5122212722811831,
          0.5142311335700355,
          0.5160196937915043,
          0.5181553518118213,
          0.5181633786850951,
          0.5183091755342748,
          0.5186601758513588,
          0.5207110478154771,
          0.5207629258392373,
          0.522857506949905,
          0.5236257516401653,
          0.5239377762309808,
          0.5244251236272557,
          0.5262198568391815,
          0.5272532796665782,
          0.5291284577078622,
          0.5315004191210105,
          0.5324329606726633,
          0.534506616047004,
          0.5367848371202919,
          0.5383269621438795,
          0.5390082876209374,
          0.5397170001964775,
          0.5401306401563017,
          0.5418654367123936,
          0.542019995510703,
          0.5435301625877463,
          0.5437067647353752,
          0.5444055657387963,
          0.5451769264620127,
          0.5490485185850449,
          0.5494218772360556,
          0.5500135033035799,
          0.551305143111775,
          0.5518160449824135,
          0.5524156375268614,
          0.5558913200686931,
          0.5561391607751371
         ],
         "xaxis": "x2",
         "yaxis": "y2"
        },
        {
         "alignmentgroup": "True",
         "bingroup": "x",
         "hovertemplate": "Source=Test Data<br>Cluster=2<br>Silhouette Score=%{x}<br>count=%{y}<extra></extra>",
         "legendgroup": "Test Data",
         "marker": {
          "color": "lightblue",
          "pattern": {
           "shape": ""
          }
         },
         "name": "Test Data",
         "offsetgroup": "Test Data",
         "orientation": "v",
         "showlegend": false,
         "type": "histogram",
         "x": [
          -0.11373273355442365,
          -0.10343709726589723,
          -0.09752901190915053,
          -0.09235517414114953,
          -0.0420363128025033,
          -0.01581604770590125,
          0.008776113909339096,
          0.06725513746256016,
          0.08662001100573978,
          0.08945637275268649,
          0.1002735069745743,
          0.10120255941120758,
          0.10324254404680823,
          0.13201258092343046,
          0.13858532727554915,
          0.140346287632724,
          0.15688234781367577,
          0.15891674556020896,
          0.16083614157715942,
          0.18002864286054235,
          0.18638570898524054,
          0.1880754313553259,
          0.19767585632078363,
          0.2008109149616781,
          0.2159883868305118,
          0.23273475062038698,
          0.2334012450351669,
          0.2377197705941842,
          0.24451827879305119,
          0.2665182121182813,
          0.27076880321009583,
          0.2709052879139527,
          0.2795338439201306,
          0.286834851851292,
          0.2956664940799809,
          0.2992205173104671,
          0.3055706295460388,
          0.3167261491227965,
          0.3204091649186843,
          0.3348107459006453,
          0.33518858700364396,
          0.339316396474523,
          0.3562774910184952,
          0.365705246465206,
          0.36602627922240305,
          0.37020517819550486,
          0.37086660011573286,
          0.3764206505520812,
          0.3851354787489419,
          0.39483994408447476,
          0.4022755151395369,
          0.4058917874150066,
          0.4155978032015378
         ],
         "xaxis": "x3",
         "yaxis": "y3"
        },
        {
         "alignmentgroup": "True",
         "bingroup": "x",
         "hovertemplate": "Source=Training Data<br>Cluster=0<br>Silhouette Score=%{x}<br>count=%{y}<extra></extra>",
         "legendgroup": "Training Data",
         "marker": {
          "color": "blue",
          "pattern": {
           "shape": ""
          }
         },
         "name": "Training Data",
         "offsetgroup": "Training Data",
         "orientation": "v",
         "showlegend": true,
         "type": "histogram",
         "x": [
          -0.1367965692833378,
          -0.13219078567720846,
          -0.13062177774383824,
          -0.113518737324638,
          -0.10435273267167845,
          -0.09450080661989717,
          -0.06372981501338984,
          -0.060728089043433596,
          -0.02812563595075669,
          -0.02419303953168765,
          -0.008792772345876887,
          -0.0053942937633987605,
          -0.0011066869196011142,
          0.013371305040858076,
          0.014909450955451969,
          0.015510187212947163,
          0.029525295686398622,
          0.04143068238671138,
          0.048649711386312695,
          0.05653327190053387,
          0.06671934294187054,
          0.06959361420954611,
          0.07392411929149667,
          0.07538159950055448,
          0.07764165034978839,
          0.08115873697088362,
          0.09399865700015748,
          0.11501134508827132,
          0.13313618462169705,
          0.13481714369045952,
          0.13552818904778083,
          0.13875720199793903,
          0.15958389471396145,
          0.16310740284261485,
          0.16659543626086437,
          0.16757335652654884,
          0.17062606218554024,
          0.17112116919173284,
          0.17328539355466013,
          0.1812700790701186,
          0.18549512933135096,
          0.19918534026266152,
          0.20106908988732902,
          0.20705604788251558,
          0.21150572729344067,
          0.21166902264779647,
          0.2151551571795728,
          0.22072166070878244,
          0.22380030839562842,
          0.2673538486555528,
          0.28459795178799024,
          0.2875417288628166,
          0.31745416634260465
         ],
         "xaxis": "x",
         "yaxis": "y"
        },
        {
         "alignmentgroup": "True",
         "bingroup": "x",
         "hovertemplate": "Source=Training Data<br>Cluster=1<br>Silhouette Score=%{x}<br>count=%{y}<extra></extra>",
         "legendgroup": "Training Data",
         "marker": {
          "color": "blue",
          "pattern": {
           "shape": ""
          }
         },
         "name": "Training Data",
         "offsetgroup": "Training Data",
         "orientation": "v",
         "showlegend": false,
         "type": "histogram",
         "x": [
          0.12963364465710964,
          0.1490094870083947,
          0.15695529312545173,
          0.16948316833126595,
          0.17970516765475078,
          0.18338341005347572,
          0.18790443706189042,
          0.18800606285455765,
          0.19232410116438056,
          0.20990009039801769,
          0.2151227841165823,
          0.21870747038002342,
          0.22156263681254648,
          0.22572392498553934,
          0.23340292227094964,
          0.23740193503370335,
          0.2428106216256571,
          0.2436020691678657,
          0.24667967492961826,
          0.2547412752110374,
          0.2633598377132237,
          0.2737902761105744,
          0.2770989573209306,
          0.27908255989026126,
          0.2791641492283523,
          0.2798113255107697,
          0.2804419612378507,
          0.2827665426765826,
          0.28702871058308743,
          0.2928725619080981,
          0.30695262561747794,
          0.31143005693188935,
          0.3148690373751268,
          0.3149544414654953,
          0.31584993522526494,
          0.3191827122514421,
          0.3261422873795742,
          0.32770039349137053,
          0.33043283675497115,
          0.3425771324778288,
          0.3429660830042264,
          0.34508446683741983,
          0.34948122527388487,
          0.3509867000993034,
          0.35228092450241105,
          0.3552508208444236,
          0.3568036073953451,
          0.3573912491499494,
          0.3591894298827133,
          0.3596524716451419,
          0.36434681993849943,
          0.3651589328087882,
          0.3687347964635027,
          0.3720848729544494,
          0.3736455136699275,
          0.3822368401007714,
          0.3846069282538461,
          0.39104392156275497,
          0.3920470294430328,
          0.39293523168708305,
          0.3942404388230578,
          0.3961390351379188,
          0.4003785227887537,
          0.40169969139427786,
          0.40431561870228677,
          0.407357542009355,
          0.4073860500229554,
          0.40991839765852184,
          0.4123790275710062,
          0.41477023135115065,
          0.41779483219992825,
          0.41872337547669586,
          0.4216373403345993,
          0.42223286527471987,
          0.42305898238092204,
          0.42636325813829906,
          0.4278673127437305,
          0.42991057896418194,
          0.4301019195287706,
          0.4308528911320814,
          0.4308801708699669,
          0.4311206892665782,
          0.43120519832827875,
          0.4317688777401949,
          0.4345404926020409,
          0.4357986023057906,
          0.4365600247055729,
          0.4375956456117331,
          0.43819122692148355,
          0.4391790171724756,
          0.43934215768328944,
          0.44153950982457063,
          0.4442504472002641,
          0.44626094566332797,
          0.44707925711555224,
          0.4478314321549879,
          0.448100125526917,
          0.45155037223377814,
          0.4528150199590355,
          0.4530136038607456,
          0.45332077496010753,
          0.4562391948966583,
          0.4594780468474175,
          0.4617628643776401,
          0.4647539907385529,
          0.46630386491061243,
          0.46679276948991716,
          0.4691980053975117,
          0.471156758142158,
          0.47175696985748966,
          0.4718151602997939,
          0.4740989006335474,
          0.47778406553397,
          0.47973797461288437,
          0.48135734173929723,
          0.4861263550829736,
          0.4912332683640087,
          0.49224908592224415,
          0.4922504663671868,
          0.5025645296743696,
          0.502835179426103,
          0.5038828020410194,
          0.5061871101539737,
          0.5068548307224725,
          0.5086749308781503,
          0.5110050800793386,
          0.5112039305897842,
          0.5161656496135084,
          0.5163022888994522,
          0.5173781014228283,
          0.5179417341538768,
          0.5180825211894335,
          0.5182954500550364,
          0.5200284231960223,
          0.5214857534829652,
          0.5222175061598762,
          0.5239601964665038,
          0.5240219832248383,
          0.5248966974668887,
          0.5256838044484087,
          0.5266172999490691,
          0.5281635765565436,
          0.5318123915590877,
          0.5324388963523917,
          0.532633503540322,
          0.534557689683114,
          0.5346276870736204,
          0.5350874539676028,
          0.5351973975529298,
          0.5353919840104041,
          0.5360973950490027,
          0.5372672815027458,
          0.5373677430492495,
          0.539911746467539,
          0.5405028468351396,
          0.5419937882817063,
          0.5435267146000429,
          0.5472873766958395,
          0.5481650718304277,
          0.5487946359163374,
          0.5493592446457842,
          0.5499371831559235,
          0.5506826319822803,
          0.5542442935224876,
          0.556272045691736,
          0.557902461685185
         ],
         "xaxis": "x2",
         "yaxis": "y2"
        },
        {
         "alignmentgroup": "True",
         "bingroup": "x",
         "hovertemplate": "Source=Training Data<br>Cluster=2<br>Silhouette Score=%{x}<br>count=%{y}<extra></extra>",
         "legendgroup": "Training Data",
         "marker": {
          "color": "blue",
          "pattern": {
           "shape": ""
          }
         },
         "name": "Training Data",
         "offsetgroup": "Training Data",
         "orientation": "v",
         "showlegend": false,
         "type": "histogram",
         "x": [
          -0.09293367555483815,
          -0.09173863027842481,
          -0.07163707056455641,
          -0.04670663029726773,
          -0.012197633251877091,
          0.010234969874161955,
          0.020974132351720288,
          0.0471725102267036,
          0.047382246904535984,
          0.06109397307016297,
          0.06293970534292474,
          0.0947146469030533,
          0.10270761660127169,
          0.11271424894965067,
          0.12240045325278806,
          0.1317621983364139,
          0.13711651839737543,
          0.14827048130208814,
          0.15128425619502997,
          0.16607951569925797,
          0.16840122030229068,
          0.17263827832224854,
          0.18548547248045277,
          0.18709375215056767,
          0.18747762300282358,
          0.19122580130547265,
          0.19929532806127437,
          0.20235642096396428,
          0.20456888861701655,
          0.21660486975227466,
          0.22091874975691367,
          0.22183829106255493,
          0.22224611228321972,
          0.2253216729531892,
          0.22627525916651234,
          0.22715005930367949,
          0.2291392542816413,
          0.23435901414597735,
          0.23439578302371017,
          0.24346711433334514,
          0.24358158557816434,
          0.24508275744057995,
          0.2472697261823311,
          0.24741621157041077,
          0.2527303306786269,
          0.2558298393858797,
          0.2575664089169653,
          0.2618451623409932,
          0.26840709856566614,
          0.2695067661487397,
          0.2790914338287809,
          0.28419411913299236,
          0.29106095935373877,
          0.29152714779089256,
          0.2998612311886225,
          0.3004532022750288,
          0.3015143300087148,
          0.30183367089195884,
          0.3030887960276592,
          0.3249628301941971,
          0.32901461613802885,
          0.3466793052426852,
          0.36390950487315843,
          0.3732121640488043,
          0.38451091988097363
         ],
         "xaxis": "x3",
         "yaxis": "y3"
        }
       ],
       "layout": {
        "annotations": [
         {
          "font": {},
          "showarrow": false,
          "text": "Cluster=0",
          "x": 0.15999999999999998,
          "xanchor": "center",
          "xref": "paper",
          "y": 1,
          "yanchor": "bottom",
          "yref": "paper"
         },
         {
          "font": {},
          "showarrow": false,
          "text": "Cluster=1",
          "x": 0.49999999999999994,
          "xanchor": "center",
          "xref": "paper",
          "y": 1,
          "yanchor": "bottom",
          "yref": "paper"
         },
         {
          "font": {},
          "showarrow": false,
          "text": "Cluster=2",
          "x": 0.8399999999999999,
          "xanchor": "center",
          "xref": "paper",
          "y": 1,
          "yanchor": "bottom",
          "yref": "paper"
         }
        ],
        "barmode": "relative",
        "height": 400,
        "legend": {
         "title": {
          "text": "Source"
         },
         "tracegroupgap": 0
        },
        "template": {
         "data": {
          "bar": [
           {
            "error_x": {
             "color": "#2a3f5f"
            },
            "error_y": {
             "color": "#2a3f5f"
            },
            "marker": {
             "line": {
              "color": "#E5ECF6",
              "width": 0.5
             },
             "pattern": {
              "fillmode": "overlay",
              "size": 10,
              "solidity": 0.2
             }
            },
            "type": "bar"
           }
          ],
          "barpolar": [
           {
            "marker": {
             "line": {
              "color": "#E5ECF6",
              "width": 0.5
             },
             "pattern": {
              "fillmode": "overlay",
              "size": 10,
              "solidity": 0.2
             }
            },
            "type": "barpolar"
           }
          ],
          "carpet": [
           {
            "aaxis": {
             "endlinecolor": "#2a3f5f",
             "gridcolor": "white",
             "linecolor": "white",
             "minorgridcolor": "white",
             "startlinecolor": "#2a3f5f"
            },
            "baxis": {
             "endlinecolor": "#2a3f5f",
             "gridcolor": "white",
             "linecolor": "white",
             "minorgridcolor": "white",
             "startlinecolor": "#2a3f5f"
            },
            "type": "carpet"
           }
          ],
          "choropleth": [
           {
            "colorbar": {
             "outlinewidth": 0,
             "ticks": ""
            },
            "type": "choropleth"
           }
          ],
          "contour": [
           {
            "colorbar": {
             "outlinewidth": 0,
             "ticks": ""
            },
            "colorscale": [
             [
              0,
              "#0d0887"
             ],
             [
              0.1111111111111111,
              "#46039f"
             ],
             [
              0.2222222222222222,
              "#7201a8"
             ],
             [
              0.3333333333333333,
              "#9c179e"
             ],
             [
              0.4444444444444444,
              "#bd3786"
             ],
             [
              0.5555555555555556,
              "#d8576b"
             ],
             [
              0.6666666666666666,
              "#ed7953"
             ],
             [
              0.7777777777777778,
              "#fb9f3a"
             ],
             [
              0.8888888888888888,
              "#fdca26"
             ],
             [
              1,
              "#f0f921"
             ]
            ],
            "type": "contour"
           }
          ],
          "contourcarpet": [
           {
            "colorbar": {
             "outlinewidth": 0,
             "ticks": ""
            },
            "type": "contourcarpet"
           }
          ],
          "heatmap": [
           {
            "colorbar": {
             "outlinewidth": 0,
             "ticks": ""
            },
            "colorscale": [
             [
              0,
              "#0d0887"
             ],
             [
              0.1111111111111111,
              "#46039f"
             ],
             [
              0.2222222222222222,
              "#7201a8"
             ],
             [
              0.3333333333333333,
              "#9c179e"
             ],
             [
              0.4444444444444444,
              "#bd3786"
             ],
             [
              0.5555555555555556,
              "#d8576b"
             ],
             [
              0.6666666666666666,
              "#ed7953"
             ],
             [
              0.7777777777777778,
              "#fb9f3a"
             ],
             [
              0.8888888888888888,
              "#fdca26"
             ],
             [
              1,
              "#f0f921"
             ]
            ],
            "type": "heatmap"
           }
          ],
          "heatmapgl": [
           {
            "colorbar": {
             "outlinewidth": 0,
             "ticks": ""
            },
            "colorscale": [
             [
              0,
              "#0d0887"
             ],
             [
              0.1111111111111111,
              "#46039f"
             ],
             [
              0.2222222222222222,
              "#7201a8"
             ],
             [
              0.3333333333333333,
              "#9c179e"
             ],
             [
              0.4444444444444444,
              "#bd3786"
             ],
             [
              0.5555555555555556,
              "#d8576b"
             ],
             [
              0.6666666666666666,
              "#ed7953"
             ],
             [
              0.7777777777777778,
              "#fb9f3a"
             ],
             [
              0.8888888888888888,
              "#fdca26"
             ],
             [
              1,
              "#f0f921"
             ]
            ],
            "type": "heatmapgl"
           }
          ],
          "histogram": [
           {
            "marker": {
             "pattern": {
              "fillmode": "overlay",
              "size": 10,
              "solidity": 0.2
             }
            },
            "type": "histogram"
           }
          ],
          "histogram2d": [
           {
            "colorbar": {
             "outlinewidth": 0,
             "ticks": ""
            },
            "colorscale": [
             [
              0,
              "#0d0887"
             ],
             [
              0.1111111111111111,
              "#46039f"
             ],
             [
              0.2222222222222222,
              "#7201a8"
             ],
             [
              0.3333333333333333,
              "#9c179e"
             ],
             [
              0.4444444444444444,
              "#bd3786"
             ],
             [
              0.5555555555555556,
              "#d8576b"
             ],
             [
              0.6666666666666666,
              "#ed7953"
             ],
             [
              0.7777777777777778,
              "#fb9f3a"
             ],
             [
              0.8888888888888888,
              "#fdca26"
             ],
             [
              1,
              "#f0f921"
             ]
            ],
            "type": "histogram2d"
           }
          ],
          "histogram2dcontour": [
           {
            "colorbar": {
             "outlinewidth": 0,
             "ticks": ""
            },
            "colorscale": [
             [
              0,
              "#0d0887"
             ],
             [
              0.1111111111111111,
              "#46039f"
             ],
             [
              0.2222222222222222,
              "#7201a8"
             ],
             [
              0.3333333333333333,
              "#9c179e"
             ],
             [
              0.4444444444444444,
              "#bd3786"
             ],
             [
              0.5555555555555556,
              "#d8576b"
             ],
             [
              0.6666666666666666,
              "#ed7953"
             ],
             [
              0.7777777777777778,
              "#fb9f3a"
             ],
             [
              0.8888888888888888,
              "#fdca26"
             ],
             [
              1,
              "#f0f921"
             ]
            ],
            "type": "histogram2dcontour"
           }
          ],
          "mesh3d": [
           {
            "colorbar": {
             "outlinewidth": 0,
             "ticks": ""
            },
            "type": "mesh3d"
           }
          ],
          "parcoords": [
           {
            "line": {
             "colorbar": {
              "outlinewidth": 0,
              "ticks": ""
             }
            },
            "type": "parcoords"
           }
          ],
          "pie": [
           {
            "automargin": true,
            "type": "pie"
           }
          ],
          "scatter": [
           {
            "fillpattern": {
             "fillmode": "overlay",
             "size": 10,
             "solidity": 0.2
            },
            "type": "scatter"
           }
          ],
          "scatter3d": [
           {
            "line": {
             "colorbar": {
              "outlinewidth": 0,
              "ticks": ""
             }
            },
            "marker": {
             "colorbar": {
              "outlinewidth": 0,
              "ticks": ""
             }
            },
            "type": "scatter3d"
           }
          ],
          "scattercarpet": [
           {
            "marker": {
             "colorbar": {
              "outlinewidth": 0,
              "ticks": ""
             }
            },
            "type": "scattercarpet"
           }
          ],
          "scattergeo": [
           {
            "marker": {
             "colorbar": {
              "outlinewidth": 0,
              "ticks": ""
             }
            },
            "type": "scattergeo"
           }
          ],
          "scattergl": [
           {
            "marker": {
             "colorbar": {
              "outlinewidth": 0,
              "ticks": ""
             }
            },
            "type": "scattergl"
           }
          ],
          "scattermapbox": [
           {
            "marker": {
             "colorbar": {
              "outlinewidth": 0,
              "ticks": ""
             }
            },
            "type": "scattermapbox"
           }
          ],
          "scatterpolar": [
           {
            "marker": {
             "colorbar": {
              "outlinewidth": 0,
              "ticks": ""
             }
            },
            "type": "scatterpolar"
           }
          ],
          "scatterpolargl": [
           {
            "marker": {
             "colorbar": {
              "outlinewidth": 0,
              "ticks": ""
             }
            },
            "type": "scatterpolargl"
           }
          ],
          "scatterternary": [
           {
            "marker": {
             "colorbar": {
              "outlinewidth": 0,
              "ticks": ""
             }
            },
            "type": "scatterternary"
           }
          ],
          "surface": [
           {
            "colorbar": {
             "outlinewidth": 0,
             "ticks": ""
            },
            "colorscale": [
             [
              0,
              "#0d0887"
             ],
             [
              0.1111111111111111,
              "#46039f"
             ],
             [
              0.2222222222222222,
              "#7201a8"
             ],
             [
              0.3333333333333333,
              "#9c179e"
             ],
             [
              0.4444444444444444,
              "#bd3786"
             ],
             [
              0.5555555555555556,
              "#d8576b"
             ],
             [
              0.6666666666666666,
              "#ed7953"
             ],
             [
              0.7777777777777778,
              "#fb9f3a"
             ],
             [
              0.8888888888888888,
              "#fdca26"
             ],
             [
              1,
              "#f0f921"
             ]
            ],
            "type": "surface"
           }
          ],
          "table": [
           {
            "cells": {
             "fill": {
              "color": "#EBF0F8"
             },
             "line": {
              "color": "white"
             }
            },
            "header": {
             "fill": {
              "color": "#C8D4E3"
             },
             "line": {
              "color": "white"
             }
            },
            "type": "table"
           }
          ]
         },
         "layout": {
          "annotationdefaults": {
           "arrowcolor": "#2a3f5f",
           "arrowhead": 0,
           "arrowwidth": 1
          },
          "autotypenumbers": "strict",
          "coloraxis": {
           "colorbar": {
            "outlinewidth": 0,
            "ticks": ""
           }
          },
          "colorscale": {
           "diverging": [
            [
             0,
             "#8e0152"
            ],
            [
             0.1,
             "#c51b7d"
            ],
            [
             0.2,
             "#de77ae"
            ],
            [
             0.3,
             "#f1b6da"
            ],
            [
             0.4,
             "#fde0ef"
            ],
            [
             0.5,
             "#f7f7f7"
            ],
            [
             0.6,
             "#e6f5d0"
            ],
            [
             0.7,
             "#b8e186"
            ],
            [
             0.8,
             "#7fbc41"
            ],
            [
             0.9,
             "#4d9221"
            ],
            [
             1,
             "#276419"
            ]
           ],
           "sequential": [
            [
             0,
             "#0d0887"
            ],
            [
             0.1111111111111111,
             "#46039f"
            ],
            [
             0.2222222222222222,
             "#7201a8"
            ],
            [
             0.3333333333333333,
             "#9c179e"
            ],
            [
             0.4444444444444444,
             "#bd3786"
            ],
            [
             0.5555555555555556,
             "#d8576b"
            ],
            [
             0.6666666666666666,
             "#ed7953"
            ],
            [
             0.7777777777777778,
             "#fb9f3a"
            ],
            [
             0.8888888888888888,
             "#fdca26"
            ],
            [
             1,
             "#f0f921"
            ]
           ],
           "sequentialminus": [
            [
             0,
             "#0d0887"
            ],
            [
             0.1111111111111111,
             "#46039f"
            ],
            [
             0.2222222222222222,
             "#7201a8"
            ],
            [
             0.3333333333333333,
             "#9c179e"
            ],
            [
             0.4444444444444444,
             "#bd3786"
            ],
            [
             0.5555555555555556,
             "#d8576b"
            ],
            [
             0.6666666666666666,
             "#ed7953"
            ],
            [
             0.7777777777777778,
             "#fb9f3a"
            ],
            [
             0.8888888888888888,
             "#fdca26"
            ],
            [
             1,
             "#f0f921"
            ]
           ]
          },
          "colorway": [
           "#636efa",
           "#EF553B",
           "#00cc96",
           "#ab63fa",
           "#FFA15A",
           "#19d3f3",
           "#FF6692",
           "#B6E880",
           "#FF97FF",
           "#FECB52"
          ],
          "font": {
           "color": "#2a3f5f"
          },
          "geo": {
           "bgcolor": "white",
           "lakecolor": "white",
           "landcolor": "#E5ECF6",
           "showlakes": true,
           "showland": true,
           "subunitcolor": "white"
          },
          "hoverlabel": {
           "align": "left"
          },
          "hovermode": "closest",
          "mapbox": {
           "style": "light"
          },
          "paper_bgcolor": "white",
          "plot_bgcolor": "#E5ECF6",
          "polar": {
           "angularaxis": {
            "gridcolor": "white",
            "linecolor": "white",
            "ticks": ""
           },
           "bgcolor": "#E5ECF6",
           "radialaxis": {
            "gridcolor": "white",
            "linecolor": "white",
            "ticks": ""
           }
          },
          "scene": {
           "xaxis": {
            "backgroundcolor": "#E5ECF6",
            "gridcolor": "white",
            "gridwidth": 2,
            "linecolor": "white",
            "showbackground": true,
            "ticks": "",
            "zerolinecolor": "white"
           },
           "yaxis": {
            "backgroundcolor": "#E5ECF6",
            "gridcolor": "white",
            "gridwidth": 2,
            "linecolor": "white",
            "showbackground": true,
            "ticks": "",
            "zerolinecolor": "white"
           },
           "zaxis": {
            "backgroundcolor": "#E5ECF6",
            "gridcolor": "white",
            "gridwidth": 2,
            "linecolor": "white",
            "showbackground": true,
            "ticks": "",
            "zerolinecolor": "white"
           }
          },
          "shapedefaults": {
           "line": {
            "color": "#2a3f5f"
           }
          },
          "ternary": {
           "aaxis": {
            "gridcolor": "white",
            "linecolor": "white",
            "ticks": ""
           },
           "baxis": {
            "gridcolor": "white",
            "linecolor": "white",
            "ticks": ""
           },
           "bgcolor": "#E5ECF6",
           "caxis": {
            "gridcolor": "white",
            "linecolor": "white",
            "ticks": ""
           }
          },
          "title": {
           "x": 0.05
          },
          "xaxis": {
           "automargin": true,
           "gridcolor": "white",
           "linecolor": "white",
           "ticks": "",
           "title": {
            "standoff": 15
           },
           "zerolinecolor": "white",
           "zerolinewidth": 2
          },
          "yaxis": {
           "automargin": true,
           "gridcolor": "white",
           "linecolor": "white",
           "ticks": "",
           "title": {
            "standoff": 15
           },
           "zerolinecolor": "white",
           "zerolinewidth": 2
          }
         }
        },
        "title": {
         "text": "Silhouette Analysis Showing Show Poorer Cluister in Altered Data"
        },
        "width": 1000,
        "xaxis": {
         "anchor": "y",
         "autorange": true,
         "domain": [
          0,
          0.31999999999999995
         ],
         "range": [
          -0.24999999999999997,
          0.5999999999999999
         ],
         "title": {
          "text": "Silhouette Score"
         },
         "type": "linear"
        },
        "xaxis2": {
         "anchor": "y2",
         "autorange": true,
         "domain": [
          0.33999999999999997,
          0.6599999999999999
         ],
         "matches": "x",
         "range": [
          -0.24999999999999997,
          0.5999999999999999
         ],
         "title": {
          "text": "Silhouette Score"
         },
         "type": "linear"
        },
        "xaxis3": {
         "anchor": "y3",
         "autorange": true,
         "domain": [
          0.6799999999999999,
          0.9999999999999999
         ],
         "matches": "x",
         "range": [
          -0.24999999999999997,
          0.5999999999999999
         ],
         "title": {
          "text": "Silhouette Score"
         },
         "type": "linear"
        },
        "yaxis": {
         "anchor": "x",
         "autorange": true,
         "domain": [
          0,
          1
         ],
         "range": [
          0,
          117.89473684210526
         ],
         "title": {
          "text": "count"
         }
        },
        "yaxis2": {
         "anchor": "x2",
         "autorange": true,
         "domain": [
          0,
          1
         ],
         "matches": "y",
         "range": [
          0,
          117.89473684210526
         ],
         "showticklabels": false
        },
        "yaxis3": {
         "anchor": "x3",
         "autorange": true,
         "domain": [
          0,
          1
         ],
         "matches": "y",
         "range": [
          0,
          117.89473684210526
         ],
         "showticklabels": false
        }
       }
      },
      "text/html": [
       "<div>                            <div id=\"c727342f-3d3c-4624-97c2-cbf7a7a1c5a7\" class=\"plotly-graph-div\" style=\"height:400px; width:1000px;\"></div>            <script type=\"text/javascript\">                require([\"plotly\"], function(Plotly) {                    window.PLOTLYENV=window.PLOTLYENV || {};                                    if (document.getElementById(\"c727342f-3d3c-4624-97c2-cbf7a7a1c5a7\")) {                    Plotly.newPlot(                        \"c727342f-3d3c-4624-97c2-cbf7a7a1c5a7\",                        [{\"alignmentgroup\":\"True\",\"bingroup\":\"x\",\"hovertemplate\":\"Source=Test Data (Altered)\\u003cbr\\u003eCluster=0\\u003cbr\\u003eSilhouette Score=%{x}\\u003cbr\\u003ecount=%{y}\\u003cextra\\u003e\\u003c\\u002fextra\\u003e\",\"legendgroup\":\"Test Data (Altered)\",\"marker\":{\"color\":\"orange\",\"pattern\":{\"shape\":\"\"}},\"name\":\"Test Data (Altered)\",\"offsetgroup\":\"Test Data (Altered)\",\"orientation\":\"v\",\"showlegend\":true,\"x\":[-0.23876426122832967,-0.23071236221448294,-0.22708332619838856,-0.2171791792486662,-0.1984887459748762,-0.1906863119978208,-0.1742020033398471,-0.16803946913149537,-0.1644654085239676,-0.16201467131728525,-0.1376568840917198,-0.13204716302778458,-0.11740869663913875,-0.1092762830822941,-0.10702557652040531,-0.10531239562135274,-0.10086522163849332,-0.09481668473399844,-0.07501432916419885,-0.07275499233293375,-0.06604825720721053,-0.06096961950235446,-0.04364485671489888,-0.042994911968023124,-0.04143644382034305,-0.04073197562761585,-0.03831803725196748,-0.037962487809196054,-0.029665838780096668,-0.02613775701013678,-0.02105462522264474,-0.01985483762734207,-0.013579820740495662,0.0015419583873452637,0.008904170252972878,0.009291743824611202,0.026847290571567654,0.044548273761481495,0.04797870075826924,0.05839444143854413,0.06093541986631675,0.08208192996489139,0.0842152023900169,0.08436594342177628,0.08567687405497648,0.09117297870913955,0.0938151790821002,0.10611429392211995,0.10823194976178505,0.10844815817914662,0.11740971703197277,0.12023809827843222],\"xaxis\":\"x\",\"yaxis\":\"y\",\"type\":\"histogram\"},{\"alignmentgroup\":\"True\",\"bingroup\":\"x\",\"hovertemplate\":\"Source=Test Data (Altered)\\u003cbr\\u003eCluster=1\\u003cbr\\u003eSilhouette Score=%{x}\\u003cbr\\u003ecount=%{y}\\u003cextra\\u003e\\u003c\\u002fextra\\u003e\",\"legendgroup\":\"Test Data (Altered)\",\"marker\":{\"color\":\"orange\",\"pattern\":{\"shape\":\"\"}},\"name\":\"Test Data (Altered)\",\"offsetgroup\":\"Test Data (Altered)\",\"orientation\":\"v\",\"showlegend\":false,\"x\":[0.06110590016474686,0.13881083546002324,0.14178336726998242,0.1668835095658405,0.17504101600548108,0.1795297964560493,0.18781566991332757,0.20104517287064058,0.20190954674118913,0.20616061095124624,0.20679166989960446,0.21229635785326365,0.22241804480901367,0.22565295998253573,0.22968165292818454,0.23131180604940477,0.23599660325399854,0.24140187053611423,0.24483983059947045,0.24505288377617984,0.25003313355389517,0.25074345698905437,0.251815604299478,0.2574070618836503,0.2577508228278759,0.25878565626863576,0.2621129745582487,0.2636033839184526,0.2669332201334962,0.26918959440315,0.26930858628803134,0.27380069046743444,0.27398302170055716,0.27653186816873393,0.27661375099001967,0.280105131032958,0.290587566280159,0.2964351011581881,0.2990919545024662,0.2997003339197886,0.3002694285148077,0.30451558790592936,0.30496891947576865,0.30707823312771076,0.30901109718623954,0.30971267538097946,0.3135218427273816,0.31584884269237284,0.3174970059658425,0.3213497996389835,0.32303909633047984,0.3258174422265914,0.3260208038117169,0.328501967681725,0.32957125926049075,0.33042620588536853,0.33269967253861804,0.3355437022053464,0.3366408866905726,0.33736966110917205,0.3388305137833838,0.3403177858591865,0.3409768713164886,0.3416405115139486,0.34270291442851486,0.3436476836825191,0.3450025148760239,0.34523609176335185,0.34752982989540016,0.3488053905980546,0.34900950157770416,0.3529596057525695,0.35407203972904866,0.35699746365460083,0.3579025396240617,0.3620148228506656,0.36613759040203914,0.3667018279013492,0.3695685681740937,0.3736702869060458,0.37410008888226387,0.3744986707261721,0.37729847541775846,0.3774247085557546,0.3790122288086407,0.3791452263316599,0.3804768721633685,0.3813825425044945,0.38159146613657996,0.3818115174466713,0.38262699773789294,0.38378787298000605,0.3854524869720963,0.3862735659322642,0.3872568755267303,0.38757342792159366,0.3876208706744493,0.3883046111799962,0.3889605842634695,0.39258481323481303,0.3932691790457819,0.39372466142726636,0.39612850725797966,0.39623281863061377,0.3992014456509099,0.40071217571024836,0.4018596325816852,0.4023996561312545,0.4030864294784576,0.4033835005896612,0.40549211507971117,0.40579338042917046,0.4068864717909823,0.4088441593653047,0.4105990259973297,0.41088914478483246,0.4156963999959973,0.415726595629936,0.4168323652606236,0.4172868225089587,0.4175587025868379,0.4215585004654846,0.4239294837926726,0.42408537670015645,0.42410688486623943,0.42431570377918787,0.42450609209148804,0.42571914646477693,0.428294786195711,0.4285342319888709,0.42869254330562984,0.4287836000266319,0.4290447532172511,0.43109783716751954,0.4313796703872782,0.433106777714096,0.4354527247513985,0.4362977403390132,0.4371465412668714,0.43828368875782353,0.4385372856371165,0.4390317557388797,0.43971353045469846,0.43979151100724756,0.44090829136070453,0.4413549396290047,0.4414114778727913,0.4420177470610202,0.4421006518804226,0.4421264367195491,0.4421974803856462,0.44240315386881196,0.4430787865567831,0.4433944674427653,0.4458160747168976,0.4458277740845046,0.4478982063526631,0.44830027588262616,0.4484779022013147,0.44851794918583826,0.45000210970441185,0.4508314364900132,0.45373234165294224,0.45425214147102083,0.4554100679124716,0.45757207791073945,0.45782242791704175,0.45835025210129643,0.45971212341392625,0.46220113441333804,0.4628716320796116,0.46363377219688506,0.4643742370009721,0.46450554471931305,0.4652527061711309,0.46844484550597715,0.46958220178862053,0.4717839446526006,0.4723492735680104,0.47346266322640684,0.4746841798924716,0.47504586684358613,0.47921848332085965,0.48135209640248494,0.4851027254008425,0.48692795193802907,0.492688319423679,0.49373448821041455,0.49721641545312706,0.5008526016383228],\"xaxis\":\"x2\",\"yaxis\":\"y2\",\"type\":\"histogram\"},{\"alignmentgroup\":\"True\",\"bingroup\":\"x\",\"hovertemplate\":\"Source=Test Data (Altered)\\u003cbr\\u003eCluster=2\\u003cbr\\u003eSilhouette Score=%{x}\\u003cbr\\u003ecount=%{y}\\u003cextra\\u003e\\u003c\\u002fextra\\u003e\",\"legendgroup\":\"Test Data (Altered)\",\"marker\":{\"color\":\"orange\",\"pattern\":{\"shape\":\"\"}},\"name\":\"Test Data (Altered)\",\"offsetgroup\":\"Test Data (Altered)\",\"orientation\":\"v\",\"showlegend\":false,\"x\":[-0.12159780016029582,-0.0508284033097012,-0.04834655164915513,-0.02244595141404982,0.06931045075566433,0.07369845417097773,0.07847338747399442,0.08084399456027419,0.09740956015266175,0.09953904649152696,0.10120000978474118,0.10339445094670634,0.10339528524773338,0.10757761978529398,0.11434911869104827,0.1161705035676986,0.12345852908555592,0.13218346100137296,0.13429716842556066,0.13742649934334172,0.14225432331308605,0.1431558039292073,0.14758148652844427,0.1487706078686659,0.1538360854095776,0.17087090648720676,0.17676580931185487,0.17971760251914148,0.1873434596073658,0.18971537134707056,0.19018434397626052,0.1982735531014478,0.2061462312641319,0.2076247991099306,0.20979662159226814,0.2100089501055352,0.212520497034815,0.21415514239702835,0.21597254451283016,0.2174612031535603,0.23892759875082592,0.2775018035587619,0.3147218793632262],\"xaxis\":\"x3\",\"yaxis\":\"y3\",\"type\":\"histogram\"},{\"alignmentgroup\":\"True\",\"bingroup\":\"x\",\"hovertemplate\":\"Source=Test Data\\u003cbr\\u003eCluster=0\\u003cbr\\u003eSilhouette Score=%{x}\\u003cbr\\u003ecount=%{y}\\u003cextra\\u003e\\u003c\\u002fextra\\u003e\",\"legendgroup\":\"Test Data\",\"marker\":{\"color\":\"lightblue\",\"pattern\":{\"shape\":\"\"}},\"name\":\"Test Data\",\"offsetgroup\":\"Test Data\",\"orientation\":\"v\",\"showlegend\":true,\"x\":[-0.17756149121119702,-0.17522952350970442,-0.17214141865431623,-0.15110374451562536,-0.1328729282337854,-0.12245356247927768,-0.08386692883432235,-0.07839436822224288,-0.06621440127711051,-0.06612307381506058,-0.06253745806770127,-0.05222164883312762,-0.05090001756861513,-0.03857451341434913,-0.036371679315510726,-0.012807660451901756,-0.012039734604668687,-0.0018113780260797015,-0.0005596568922776116,-0.000314530394621701,0.02234250337431538,0.042220564999900935,0.04409785113769397,0.05326407512704324,0.0822781456266345,0.08568648801523066,0.09372476077059312,0.09715431269364698,0.1011793109703133,0.10180589516016553,0.10292020900860933,0.11413078950019417,0.11800453310960358,0.1215882445377269,0.1265415978229046,0.12890824384803237,0.13389769080922126,0.1371803280102079,0.15030461359616368,0.1564496026705306,0.16146585556852894,0.17013321039010265,0.177781780009819,0.180734657359052,0.18366507424984813,0.1958129223198346,0.19997655241476991,0.2595793425815382,0.2598099398630725,0.2632020649089558,0.29529904363652193],\"xaxis\":\"x\",\"yaxis\":\"y\",\"type\":\"histogram\"},{\"alignmentgroup\":\"True\",\"bingroup\":\"x\",\"hovertemplate\":\"Source=Test Data\\u003cbr\\u003eCluster=1\\u003cbr\\u003eSilhouette Score=%{x}\\u003cbr\\u003ecount=%{y}\\u003cextra\\u003e\\u003c\\u002fextra\\u003e\",\"legendgroup\":\"Test Data\",\"marker\":{\"color\":\"lightblue\",\"pattern\":{\"shape\":\"\"}},\"name\":\"Test Data\",\"offsetgroup\":\"Test Data\",\"orientation\":\"v\",\"showlegend\":false,\"x\":[0.14206639739547047,0.17136840259811295,0.17482254539133116,0.17851742472617607,0.18826954322663417,0.1885916317176899,0.19475140107441935,0.2032891728401979,0.20860478514931574,0.2088102570309575,0.21325986724724463,0.21598447994000208,0.22453018152298534,0.23335835291784257,0.23621985204225202,0.23707120119570171,0.24852962564109352,0.24935522737866941,0.25329413292584846,0.2596055030377264,0.26714929715598146,0.2693247352474741,0.2755108303730674,0.2779996552142905,0.2821165681974082,0.2821738866321746,0.28444814584910244,0.28847014057021925,0.29278989761372237,0.2929928834866266,0.2976889890577779,0.30282373854724126,0.30845804275520217,0.3098057987432604,0.31175278405388956,0.3120666580666504,0.3151925060571306,0.3155855914003828,0.3180547144996952,0.3206499455923373,0.32477629891843673,0.32543566887924263,0.3256622845136063,0.32693577074486047,0.32938367331949914,0.32958506992242564,0.33486707168125185,0.3355930556312941,0.3361795140135634,0.3408717866452536,0.34161401692035387,0.342345377897818,0.3433029961243546,0.3452502373768348,0.35914604796950417,0.3592249295305861,0.36112153930233437,0.36602828312958147,0.36639306181951753,0.36823043466157795,0.36961551801748177,0.37093811964082923,0.3717578258429968,0.37486267392274886,0.37540390508668353,0.37807710412972895,0.378331864547577,0.3792453189404854,0.3868045878628773,0.3882590130130119,0.38851261958445527,0.3923265994686751,0.3989472089578261,0.400062563635786,0.4012364825778358,0.4090748201355317,0.41417708082655685,0.42144369295909423,0.42543869435134746,0.42579287216104056,0.42583383624517335,0.4265061939890684,0.42777626405177915,0.4334453378247872,0.4348468159226848,0.4350181137720794,0.4356253346659015,0.43566307821497646,0.4416864988483945,0.4417449380407852,0.4428172348520777,0.4454592040430355,0.44673207564498235,0.446824292493632,0.4483278793292576,0.45238051934979756,0.4538274733927831,0.4542423220534987,0.4548965296587202,0.4558330293933807,0.4591203646736592,0.4605375306524667,0.4605441878206225,0.46131708484181055,0.4622330408907027,0.4646517200655892,0.46529733099057846,0.46758571232127843,0.46785894015230733,0.4691667033066052,0.4695108069006118,0.4711641931067273,0.4733108933370117,0.4766104796942518,0.4780845152704312,0.4793633438128102,0.4800289324262071,0.4804004832818603,0.4863919786759854,0.4866314740853954,0.48663780120173455,0.4869352285231701,0.48757918030202985,0.48966091128125366,0.4909453105610965,0.4921782844818034,0.4929527958197357,0.4939467434202261,0.4945909532946051,0.4969715472847416,0.49844284335294065,0.4994746570944807,0.499585695230025,0.5000150612764437,0.5013406802916976,0.5021439895096662,0.5028184841747805,0.503782987858276,0.5046847713662903,0.5069727131953818,0.5107346432180471,0.5117085836855408,0.5119022716157895,0.5122212722811831,0.5142311335700355,0.5160196937915043,0.5181553518118213,0.5181633786850951,0.5183091755342748,0.5186601758513588,0.5207110478154771,0.5207629258392373,0.522857506949905,0.5236257516401653,0.5239377762309808,0.5244251236272557,0.5262198568391815,0.5272532796665782,0.5291284577078622,0.5315004191210105,0.5324329606726633,0.534506616047004,0.5367848371202919,0.5383269621438795,0.5390082876209374,0.5397170001964775,0.5401306401563017,0.5418654367123936,0.542019995510703,0.5435301625877463,0.5437067647353752,0.5444055657387963,0.5451769264620127,0.5490485185850449,0.5494218772360556,0.5500135033035799,0.551305143111775,0.5518160449824135,0.5524156375268614,0.5558913200686931,0.5561391607751371],\"xaxis\":\"x2\",\"yaxis\":\"y2\",\"type\":\"histogram\"},{\"alignmentgroup\":\"True\",\"bingroup\":\"x\",\"hovertemplate\":\"Source=Test Data\\u003cbr\\u003eCluster=2\\u003cbr\\u003eSilhouette Score=%{x}\\u003cbr\\u003ecount=%{y}\\u003cextra\\u003e\\u003c\\u002fextra\\u003e\",\"legendgroup\":\"Test Data\",\"marker\":{\"color\":\"lightblue\",\"pattern\":{\"shape\":\"\"}},\"name\":\"Test Data\",\"offsetgroup\":\"Test Data\",\"orientation\":\"v\",\"showlegend\":false,\"x\":[-0.11373273355442365,-0.10343709726589723,-0.09752901190915053,-0.09235517414114953,-0.0420363128025033,-0.01581604770590125,0.008776113909339096,0.06725513746256016,0.08662001100573978,0.08945637275268649,0.1002735069745743,0.10120255941120758,0.10324254404680823,0.13201258092343046,0.13858532727554915,0.140346287632724,0.15688234781367577,0.15891674556020896,0.16083614157715942,0.18002864286054235,0.18638570898524054,0.1880754313553259,0.19767585632078363,0.2008109149616781,0.2159883868305118,0.23273475062038698,0.2334012450351669,0.2377197705941842,0.24451827879305119,0.2665182121182813,0.27076880321009583,0.2709052879139527,0.2795338439201306,0.286834851851292,0.2956664940799809,0.2992205173104671,0.3055706295460388,0.3167261491227965,0.3204091649186843,0.3348107459006453,0.33518858700364396,0.339316396474523,0.3562774910184952,0.365705246465206,0.36602627922240305,0.37020517819550486,0.37086660011573286,0.3764206505520812,0.3851354787489419,0.39483994408447476,0.4022755151395369,0.4058917874150066,0.4155978032015378],\"xaxis\":\"x3\",\"yaxis\":\"y3\",\"type\":\"histogram\"},{\"alignmentgroup\":\"True\",\"bingroup\":\"x\",\"hovertemplate\":\"Source=Training Data\\u003cbr\\u003eCluster=0\\u003cbr\\u003eSilhouette Score=%{x}\\u003cbr\\u003ecount=%{y}\\u003cextra\\u003e\\u003c\\u002fextra\\u003e\",\"legendgroup\":\"Training Data\",\"marker\":{\"color\":\"blue\",\"pattern\":{\"shape\":\"\"}},\"name\":\"Training Data\",\"offsetgroup\":\"Training Data\",\"orientation\":\"v\",\"showlegend\":true,\"x\":[-0.1367965692833378,-0.13219078567720846,-0.13062177774383824,-0.113518737324638,-0.10435273267167845,-0.09450080661989717,-0.06372981501338984,-0.060728089043433596,-0.02812563595075669,-0.02419303953168765,-0.008792772345876887,-0.0053942937633987605,-0.0011066869196011142,0.013371305040858076,0.014909450955451969,0.015510187212947163,0.029525295686398622,0.04143068238671138,0.048649711386312695,0.05653327190053387,0.06671934294187054,0.06959361420954611,0.07392411929149667,0.07538159950055448,0.07764165034978839,0.08115873697088362,0.09399865700015748,0.11501134508827132,0.13313618462169705,0.13481714369045952,0.13552818904778083,0.13875720199793903,0.15958389471396145,0.16310740284261485,0.16659543626086437,0.16757335652654884,0.17062606218554024,0.17112116919173284,0.17328539355466013,0.1812700790701186,0.18549512933135096,0.19918534026266152,0.20106908988732902,0.20705604788251558,0.21150572729344067,0.21166902264779647,0.2151551571795728,0.22072166070878244,0.22380030839562842,0.2673538486555528,0.28459795178799024,0.2875417288628166,0.31745416634260465],\"xaxis\":\"x\",\"yaxis\":\"y\",\"type\":\"histogram\"},{\"alignmentgroup\":\"True\",\"bingroup\":\"x\",\"hovertemplate\":\"Source=Training Data\\u003cbr\\u003eCluster=1\\u003cbr\\u003eSilhouette Score=%{x}\\u003cbr\\u003ecount=%{y}\\u003cextra\\u003e\\u003c\\u002fextra\\u003e\",\"legendgroup\":\"Training Data\",\"marker\":{\"color\":\"blue\",\"pattern\":{\"shape\":\"\"}},\"name\":\"Training Data\",\"offsetgroup\":\"Training Data\",\"orientation\":\"v\",\"showlegend\":false,\"x\":[0.12963364465710964,0.1490094870083947,0.15695529312545173,0.16948316833126595,0.17970516765475078,0.18338341005347572,0.18790443706189042,0.18800606285455765,0.19232410116438056,0.20990009039801769,0.2151227841165823,0.21870747038002342,0.22156263681254648,0.22572392498553934,0.23340292227094964,0.23740193503370335,0.2428106216256571,0.2436020691678657,0.24667967492961826,0.2547412752110374,0.2633598377132237,0.2737902761105744,0.2770989573209306,0.27908255989026126,0.2791641492283523,0.2798113255107697,0.2804419612378507,0.2827665426765826,0.28702871058308743,0.2928725619080981,0.30695262561747794,0.31143005693188935,0.3148690373751268,0.3149544414654953,0.31584993522526494,0.3191827122514421,0.3261422873795742,0.32770039349137053,0.33043283675497115,0.3425771324778288,0.3429660830042264,0.34508446683741983,0.34948122527388487,0.3509867000993034,0.35228092450241105,0.3552508208444236,0.3568036073953451,0.3573912491499494,0.3591894298827133,0.3596524716451419,0.36434681993849943,0.3651589328087882,0.3687347964635027,0.3720848729544494,0.3736455136699275,0.3822368401007714,0.3846069282538461,0.39104392156275497,0.3920470294430328,0.39293523168708305,0.3942404388230578,0.3961390351379188,0.4003785227887537,0.40169969139427786,0.40431561870228677,0.407357542009355,0.4073860500229554,0.40991839765852184,0.4123790275710062,0.41477023135115065,0.41779483219992825,0.41872337547669586,0.4216373403345993,0.42223286527471987,0.42305898238092204,0.42636325813829906,0.4278673127437305,0.42991057896418194,0.4301019195287706,0.4308528911320814,0.4308801708699669,0.4311206892665782,0.43120519832827875,0.4317688777401949,0.4345404926020409,0.4357986023057906,0.4365600247055729,0.4375956456117331,0.43819122692148355,0.4391790171724756,0.43934215768328944,0.44153950982457063,0.4442504472002641,0.44626094566332797,0.44707925711555224,0.4478314321549879,0.448100125526917,0.45155037223377814,0.4528150199590355,0.4530136038607456,0.45332077496010753,0.4562391948966583,0.4594780468474175,0.4617628643776401,0.4647539907385529,0.46630386491061243,0.46679276948991716,0.4691980053975117,0.471156758142158,0.47175696985748966,0.4718151602997939,0.4740989006335474,0.47778406553397,0.47973797461288437,0.48135734173929723,0.4861263550829736,0.4912332683640087,0.49224908592224415,0.4922504663671868,0.5025645296743696,0.502835179426103,0.5038828020410194,0.5061871101539737,0.5068548307224725,0.5086749308781503,0.5110050800793386,0.5112039305897842,0.5161656496135084,0.5163022888994522,0.5173781014228283,0.5179417341538768,0.5180825211894335,0.5182954500550364,0.5200284231960223,0.5214857534829652,0.5222175061598762,0.5239601964665038,0.5240219832248383,0.5248966974668887,0.5256838044484087,0.5266172999490691,0.5281635765565436,0.5318123915590877,0.5324388963523917,0.532633503540322,0.534557689683114,0.5346276870736204,0.5350874539676028,0.5351973975529298,0.5353919840104041,0.5360973950490027,0.5372672815027458,0.5373677430492495,0.539911746467539,0.5405028468351396,0.5419937882817063,0.5435267146000429,0.5472873766958395,0.5481650718304277,0.5487946359163374,0.5493592446457842,0.5499371831559235,0.5506826319822803,0.5542442935224876,0.556272045691736,0.557902461685185],\"xaxis\":\"x2\",\"yaxis\":\"y2\",\"type\":\"histogram\"},{\"alignmentgroup\":\"True\",\"bingroup\":\"x\",\"hovertemplate\":\"Source=Training Data\\u003cbr\\u003eCluster=2\\u003cbr\\u003eSilhouette Score=%{x}\\u003cbr\\u003ecount=%{y}\\u003cextra\\u003e\\u003c\\u002fextra\\u003e\",\"legendgroup\":\"Training Data\",\"marker\":{\"color\":\"blue\",\"pattern\":{\"shape\":\"\"}},\"name\":\"Training Data\",\"offsetgroup\":\"Training Data\",\"orientation\":\"v\",\"showlegend\":false,\"x\":[-0.09293367555483815,-0.09173863027842481,-0.07163707056455641,-0.04670663029726773,-0.012197633251877091,0.010234969874161955,0.020974132351720288,0.0471725102267036,0.047382246904535984,0.06109397307016297,0.06293970534292474,0.0947146469030533,0.10270761660127169,0.11271424894965067,0.12240045325278806,0.1317621983364139,0.13711651839737543,0.14827048130208814,0.15128425619502997,0.16607951569925797,0.16840122030229068,0.17263827832224854,0.18548547248045277,0.18709375215056767,0.18747762300282358,0.19122580130547265,0.19929532806127437,0.20235642096396428,0.20456888861701655,0.21660486975227466,0.22091874975691367,0.22183829106255493,0.22224611228321972,0.2253216729531892,0.22627525916651234,0.22715005930367949,0.2291392542816413,0.23435901414597735,0.23439578302371017,0.24346711433334514,0.24358158557816434,0.24508275744057995,0.2472697261823311,0.24741621157041077,0.2527303306786269,0.2558298393858797,0.2575664089169653,0.2618451623409932,0.26840709856566614,0.2695067661487397,0.2790914338287809,0.28419411913299236,0.29106095935373877,0.29152714779089256,0.2998612311886225,0.3004532022750288,0.3015143300087148,0.30183367089195884,0.3030887960276592,0.3249628301941971,0.32901461613802885,0.3466793052426852,0.36390950487315843,0.3732121640488043,0.38451091988097363],\"xaxis\":\"x3\",\"yaxis\":\"y3\",\"type\":\"histogram\"}],                        {\"template\":{\"data\":{\"histogram2dcontour\":[{\"type\":\"histogram2dcontour\",\"colorbar\":{\"outlinewidth\":0,\"ticks\":\"\"},\"colorscale\":[[0.0,\"#0d0887\"],[0.1111111111111111,\"#46039f\"],[0.2222222222222222,\"#7201a8\"],[0.3333333333333333,\"#9c179e\"],[0.4444444444444444,\"#bd3786\"],[0.5555555555555556,\"#d8576b\"],[0.6666666666666666,\"#ed7953\"],[0.7777777777777778,\"#fb9f3a\"],[0.8888888888888888,\"#fdca26\"],[1.0,\"#f0f921\"]]}],\"choropleth\":[{\"type\":\"choropleth\",\"colorbar\":{\"outlinewidth\":0,\"ticks\":\"\"}}],\"histogram2d\":[{\"type\":\"histogram2d\",\"colorbar\":{\"outlinewidth\":0,\"ticks\":\"\"},\"colorscale\":[[0.0,\"#0d0887\"],[0.1111111111111111,\"#46039f\"],[0.2222222222222222,\"#7201a8\"],[0.3333333333333333,\"#9c179e\"],[0.4444444444444444,\"#bd3786\"],[0.5555555555555556,\"#d8576b\"],[0.6666666666666666,\"#ed7953\"],[0.7777777777777778,\"#fb9f3a\"],[0.8888888888888888,\"#fdca26\"],[1.0,\"#f0f921\"]]}],\"heatmap\":[{\"type\":\"heatmap\",\"colorbar\":{\"outlinewidth\":0,\"ticks\":\"\"},\"colorscale\":[[0.0,\"#0d0887\"],[0.1111111111111111,\"#46039f\"],[0.2222222222222222,\"#7201a8\"],[0.3333333333333333,\"#9c179e\"],[0.4444444444444444,\"#bd3786\"],[0.5555555555555556,\"#d8576b\"],[0.6666666666666666,\"#ed7953\"],[0.7777777777777778,\"#fb9f3a\"],[0.8888888888888888,\"#fdca26\"],[1.0,\"#f0f921\"]]}],\"heatmapgl\":[{\"type\":\"heatmapgl\",\"colorbar\":{\"outlinewidth\":0,\"ticks\":\"\"},\"colorscale\":[[0.0,\"#0d0887\"],[0.1111111111111111,\"#46039f\"],[0.2222222222222222,\"#7201a8\"],[0.3333333333333333,\"#9c179e\"],[0.4444444444444444,\"#bd3786\"],[0.5555555555555556,\"#d8576b\"],[0.6666666666666666,\"#ed7953\"],[0.7777777777777778,\"#fb9f3a\"],[0.8888888888888888,\"#fdca26\"],[1.0,\"#f0f921\"]]}],\"contourcarpet\":[{\"type\":\"contourcarpet\",\"colorbar\":{\"outlinewidth\":0,\"ticks\":\"\"}}],\"contour\":[{\"type\":\"contour\",\"colorbar\":{\"outlinewidth\":0,\"ticks\":\"\"},\"colorscale\":[[0.0,\"#0d0887\"],[0.1111111111111111,\"#46039f\"],[0.2222222222222222,\"#7201a8\"],[0.3333333333333333,\"#9c179e\"],[0.4444444444444444,\"#bd3786\"],[0.5555555555555556,\"#d8576b\"],[0.6666666666666666,\"#ed7953\"],[0.7777777777777778,\"#fb9f3a\"],[0.8888888888888888,\"#fdca26\"],[1.0,\"#f0f921\"]]}],\"surface\":[{\"type\":\"surface\",\"colorbar\":{\"outlinewidth\":0,\"ticks\":\"\"},\"colorscale\":[[0.0,\"#0d0887\"],[0.1111111111111111,\"#46039f\"],[0.2222222222222222,\"#7201a8\"],[0.3333333333333333,\"#9c179e\"],[0.4444444444444444,\"#bd3786\"],[0.5555555555555556,\"#d8576b\"],[0.6666666666666666,\"#ed7953\"],[0.7777777777777778,\"#fb9f3a\"],[0.8888888888888888,\"#fdca26\"],[1.0,\"#f0f921\"]]}],\"mesh3d\":[{\"type\":\"mesh3d\",\"colorbar\":{\"outlinewidth\":0,\"ticks\":\"\"}}],\"scatter\":[{\"fillpattern\":{\"fillmode\":\"overlay\",\"size\":10,\"solidity\":0.2},\"type\":\"scatter\"}],\"parcoords\":[{\"type\":\"parcoords\",\"line\":{\"colorbar\":{\"outlinewidth\":0,\"ticks\":\"\"}}}],\"scatterpolargl\":[{\"type\":\"scatterpolargl\",\"marker\":{\"colorbar\":{\"outlinewidth\":0,\"ticks\":\"\"}}}],\"bar\":[{\"error_x\":{\"color\":\"#2a3f5f\"},\"error_y\":{\"color\":\"#2a3f5f\"},\"marker\":{\"line\":{\"color\":\"#E5ECF6\",\"width\":0.5},\"pattern\":{\"fillmode\":\"overlay\",\"size\":10,\"solidity\":0.2}},\"type\":\"bar\"}],\"scattergeo\":[{\"type\":\"scattergeo\",\"marker\":{\"colorbar\":{\"outlinewidth\":0,\"ticks\":\"\"}}}],\"scatterpolar\":[{\"type\":\"scatterpolar\",\"marker\":{\"colorbar\":{\"outlinewidth\":0,\"ticks\":\"\"}}}],\"histogram\":[{\"marker\":{\"pattern\":{\"fillmode\":\"overlay\",\"size\":10,\"solidity\":0.2}},\"type\":\"histogram\"}],\"scattergl\":[{\"type\":\"scattergl\",\"marker\":{\"colorbar\":{\"outlinewidth\":0,\"ticks\":\"\"}}}],\"scatter3d\":[{\"type\":\"scatter3d\",\"line\":{\"colorbar\":{\"outlinewidth\":0,\"ticks\":\"\"}},\"marker\":{\"colorbar\":{\"outlinewidth\":0,\"ticks\":\"\"}}}],\"scattermapbox\":[{\"type\":\"scattermapbox\",\"marker\":{\"colorbar\":{\"outlinewidth\":0,\"ticks\":\"\"}}}],\"scatterternary\":[{\"type\":\"scatterternary\",\"marker\":{\"colorbar\":{\"outlinewidth\":0,\"ticks\":\"\"}}}],\"scattercarpet\":[{\"type\":\"scattercarpet\",\"marker\":{\"colorbar\":{\"outlinewidth\":0,\"ticks\":\"\"}}}],\"carpet\":[{\"aaxis\":{\"endlinecolor\":\"#2a3f5f\",\"gridcolor\":\"white\",\"linecolor\":\"white\",\"minorgridcolor\":\"white\",\"startlinecolor\":\"#2a3f5f\"},\"baxis\":{\"endlinecolor\":\"#2a3f5f\",\"gridcolor\":\"white\",\"linecolor\":\"white\",\"minorgridcolor\":\"white\",\"startlinecolor\":\"#2a3f5f\"},\"type\":\"carpet\"}],\"table\":[{\"cells\":{\"fill\":{\"color\":\"#EBF0F8\"},\"line\":{\"color\":\"white\"}},\"header\":{\"fill\":{\"color\":\"#C8D4E3\"},\"line\":{\"color\":\"white\"}},\"type\":\"table\"}],\"barpolar\":[{\"marker\":{\"line\":{\"color\":\"#E5ECF6\",\"width\":0.5},\"pattern\":{\"fillmode\":\"overlay\",\"size\":10,\"solidity\":0.2}},\"type\":\"barpolar\"}],\"pie\":[{\"automargin\":true,\"type\":\"pie\"}]},\"layout\":{\"autotypenumbers\":\"strict\",\"colorway\":[\"#636efa\",\"#EF553B\",\"#00cc96\",\"#ab63fa\",\"#FFA15A\",\"#19d3f3\",\"#FF6692\",\"#B6E880\",\"#FF97FF\",\"#FECB52\"],\"font\":{\"color\":\"#2a3f5f\"},\"hovermode\":\"closest\",\"hoverlabel\":{\"align\":\"left\"},\"paper_bgcolor\":\"white\",\"plot_bgcolor\":\"#E5ECF6\",\"polar\":{\"bgcolor\":\"#E5ECF6\",\"angularaxis\":{\"gridcolor\":\"white\",\"linecolor\":\"white\",\"ticks\":\"\"},\"radialaxis\":{\"gridcolor\":\"white\",\"linecolor\":\"white\",\"ticks\":\"\"}},\"ternary\":{\"bgcolor\":\"#E5ECF6\",\"aaxis\":{\"gridcolor\":\"white\",\"linecolor\":\"white\",\"ticks\":\"\"},\"baxis\":{\"gridcolor\":\"white\",\"linecolor\":\"white\",\"ticks\":\"\"},\"caxis\":{\"gridcolor\":\"white\",\"linecolor\":\"white\",\"ticks\":\"\"}},\"coloraxis\":{\"colorbar\":{\"outlinewidth\":0,\"ticks\":\"\"}},\"colorscale\":{\"sequential\":[[0.0,\"#0d0887\"],[0.1111111111111111,\"#46039f\"],[0.2222222222222222,\"#7201a8\"],[0.3333333333333333,\"#9c179e\"],[0.4444444444444444,\"#bd3786\"],[0.5555555555555556,\"#d8576b\"],[0.6666666666666666,\"#ed7953\"],[0.7777777777777778,\"#fb9f3a\"],[0.8888888888888888,\"#fdca26\"],[1.0,\"#f0f921\"]],\"sequentialminus\":[[0.0,\"#0d0887\"],[0.1111111111111111,\"#46039f\"],[0.2222222222222222,\"#7201a8\"],[0.3333333333333333,\"#9c179e\"],[0.4444444444444444,\"#bd3786\"],[0.5555555555555556,\"#d8576b\"],[0.6666666666666666,\"#ed7953\"],[0.7777777777777778,\"#fb9f3a\"],[0.8888888888888888,\"#fdca26\"],[1.0,\"#f0f921\"]],\"diverging\":[[0,\"#8e0152\"],[0.1,\"#c51b7d\"],[0.2,\"#de77ae\"],[0.3,\"#f1b6da\"],[0.4,\"#fde0ef\"],[0.5,\"#f7f7f7\"],[0.6,\"#e6f5d0\"],[0.7,\"#b8e186\"],[0.8,\"#7fbc41\"],[0.9,\"#4d9221\"],[1,\"#276419\"]]},\"xaxis\":{\"gridcolor\":\"white\",\"linecolor\":\"white\",\"ticks\":\"\",\"title\":{\"standoff\":15},\"zerolinecolor\":\"white\",\"automargin\":true,\"zerolinewidth\":2},\"yaxis\":{\"gridcolor\":\"white\",\"linecolor\":\"white\",\"ticks\":\"\",\"title\":{\"standoff\":15},\"zerolinecolor\":\"white\",\"automargin\":true,\"zerolinewidth\":2},\"scene\":{\"xaxis\":{\"backgroundcolor\":\"#E5ECF6\",\"gridcolor\":\"white\",\"linecolor\":\"white\",\"showbackground\":true,\"ticks\":\"\",\"zerolinecolor\":\"white\",\"gridwidth\":2},\"yaxis\":{\"backgroundcolor\":\"#E5ECF6\",\"gridcolor\":\"white\",\"linecolor\":\"white\",\"showbackground\":true,\"ticks\":\"\",\"zerolinecolor\":\"white\",\"gridwidth\":2},\"zaxis\":{\"backgroundcolor\":\"#E5ECF6\",\"gridcolor\":\"white\",\"linecolor\":\"white\",\"showbackground\":true,\"ticks\":\"\",\"zerolinecolor\":\"white\",\"gridwidth\":2}},\"shapedefaults\":{\"line\":{\"color\":\"#2a3f5f\"}},\"annotationdefaults\":{\"arrowcolor\":\"#2a3f5f\",\"arrowhead\":0,\"arrowwidth\":1},\"geo\":{\"bgcolor\":\"white\",\"landcolor\":\"#E5ECF6\",\"subunitcolor\":\"white\",\"showland\":true,\"showlakes\":true,\"lakecolor\":\"white\"},\"title\":{\"x\":0.05},\"mapbox\":{\"style\":\"light\"}}},\"xaxis\":{\"anchor\":\"y\",\"domain\":[0.0,0.31999999999999995],\"title\":{\"text\":\"Silhouette Score\"}},\"yaxis\":{\"anchor\":\"x\",\"domain\":[0.0,1.0],\"title\":{\"text\":\"count\"}},\"xaxis2\":{\"anchor\":\"y2\",\"domain\":[0.33999999999999997,0.6599999999999999],\"matches\":\"x\",\"title\":{\"text\":\"Silhouette Score\"}},\"yaxis2\":{\"anchor\":\"x2\",\"domain\":[0.0,1.0],\"matches\":\"y\",\"showticklabels\":false},\"xaxis3\":{\"anchor\":\"y3\",\"domain\":[0.6799999999999999,0.9999999999999999],\"matches\":\"x\",\"title\":{\"text\":\"Silhouette Score\"}},\"yaxis3\":{\"anchor\":\"x3\",\"domain\":[0.0,1.0],\"matches\":\"y\",\"showticklabels\":false},\"annotations\":[{\"font\":{},\"showarrow\":false,\"text\":\"Cluster=0\",\"x\":0.15999999999999998,\"xanchor\":\"center\",\"xref\":\"paper\",\"y\":1.0,\"yanchor\":\"bottom\",\"yref\":\"paper\"},{\"font\":{},\"showarrow\":false,\"text\":\"Cluster=1\",\"x\":0.49999999999999994,\"xanchor\":\"center\",\"xref\":\"paper\",\"y\":1.0,\"yanchor\":\"bottom\",\"yref\":\"paper\"},{\"font\":{},\"showarrow\":false,\"text\":\"Cluster=2\",\"x\":0.8399999999999999,\"xanchor\":\"center\",\"xref\":\"paper\",\"y\":1.0,\"yanchor\":\"bottom\",\"yref\":\"paper\"}],\"legend\":{\"title\":{\"text\":\"Source\"},\"tracegroupgap\":0},\"title\":{\"text\":\"Silhouette Analysis Showing Show Poorer Cluister in Altered Data\"},\"barmode\":\"relative\",\"height\":400,\"width\":1000},                        {\"responsive\": true}                    ).then(function(){\n",
       "                            \n",
       "var gd = document.getElementById('c727342f-3d3c-4624-97c2-cbf7a7a1c5a7');\n",
       "var x = new MutationObserver(function (mutations, observer) {{\n",
       "        var display = window.getComputedStyle(gd).display;\n",
       "        if (!display || display === 'none') {{\n",
       "            console.log([gd, 'removed!']);\n",
       "            Plotly.purge(gd);\n",
       "            observer.disconnect();\n",
       "        }}\n",
       "}});\n",
       "\n",
       "// Listen for the removal of the full notebook cells\n",
       "var notebookContainer = gd.closest('#notebook-container');\n",
       "if (notebookContainer) {{\n",
       "    x.observe(notebookContainer, {childList: true});\n",
       "}}\n",
       "\n",
       "// Listen for the clearing of the current output cell\n",
       "var outputEl = gd.closest('.output');\n",
       "if (outputEl) {{\n",
       "    x.observe(outputEl, {childList: true});\n",
       "}}\n",
       "\n",
       "                        })                };                });            </script>        </div>"
      ]
     },
     "metadata": {},
     "output_type": "display_data"
    }
   ],
   "source": [
    "px.histogram(to_plot,  x ='Silhouette Score', facet_col='Cluster', color='Source', title=title, width=1000, height=400, color_discrete_map=source_dict)"
   ]
  },
  {
   "cell_type": "code",
   "execution_count": 14,
   "id": "e3289764",
   "metadata": {},
   "outputs": [
    {
     "data": {
      "text/html": [
       "<div>\n",
       "<style scoped>\n",
       "    .dataframe tbody tr th:only-of-type {\n",
       "        vertical-align: middle;\n",
       "    }\n",
       "\n",
       "    .dataframe tbody tr th {\n",
       "        vertical-align: top;\n",
       "    }\n",
       "\n",
       "    .dataframe thead th {\n",
       "        text-align: right;\n",
       "    }\n",
       "</style>\n",
       "<table border=\"1\" class=\"dataframe\">\n",
       "  <thead>\n",
       "    <tr style=\"text-align: right;\">\n",
       "      <th></th>\n",
       "      <th></th>\n",
       "      <th>Silhouette Score</th>\n",
       "    </tr>\n",
       "    <tr>\n",
       "      <th>Source</th>\n",
       "      <th>Cluster</th>\n",
       "      <th></th>\n",
       "    </tr>\n",
       "  </thead>\n",
       "  <tbody>\n",
       "    <tr>\n",
       "      <th>Test Data</th>\n",
       "      <th>1</th>\n",
       "      <td>0.414</td>\n",
       "    </tr>\n",
       "    <tr>\n",
       "      <th>Training Data</th>\n",
       "      <th>1</th>\n",
       "      <td>0.412</td>\n",
       "    </tr>\n",
       "    <tr>\n",
       "      <th>Test Data (Altered)</th>\n",
       "      <th>1</th>\n",
       "      <td>0.369</td>\n",
       "    </tr>\n",
       "    <tr>\n",
       "      <th>Test Data</th>\n",
       "      <th>2</th>\n",
       "      <td>0.212</td>\n",
       "    </tr>\n",
       "    <tr>\n",
       "      <th>Training Data</th>\n",
       "      <th>2</th>\n",
       "      <td>0.194</td>\n",
       "    </tr>\n",
       "    <tr>\n",
       "      <th>Test Data (Altered)</th>\n",
       "      <th>2</th>\n",
       "      <td>0.139</td>\n",
       "    </tr>\n",
       "    <tr>\n",
       "      <th>Training Data</th>\n",
       "      <th>0</th>\n",
       "      <td>0.092</td>\n",
       "    </tr>\n",
       "    <tr>\n",
       "      <th>Test Data</th>\n",
       "      <th>0</th>\n",
       "      <td>0.056</td>\n",
       "    </tr>\n",
       "    <tr>\n",
       "      <th>Test Data (Altered)</th>\n",
       "      <th>0</th>\n",
       "      <td>-0.042</td>\n",
       "    </tr>\n",
       "  </tbody>\n",
       "</table>\n",
       "</div>"
      ],
      "text/plain": [
       "                             Silhouette Score\n",
       "Source              Cluster                  \n",
       "Test Data           1                   0.414\n",
       "Training Data       1                   0.412\n",
       "Test Data (Altered) 1                   0.369\n",
       "Test Data           2                   0.212\n",
       "Training Data       2                   0.194\n",
       "Test Data (Altered) 2                   0.139\n",
       "Training Data       0                   0.092\n",
       "Test Data           0                   0.056\n",
       "Test Data (Altered) 0                  -0.042"
      ]
     },
     "execution_count": 14,
     "metadata": {},
     "output_type": "execute_result"
    }
   ],
   "source": [
    "to_plot.groupby(['Source', 'Cluster']).agg({'Silhouette Score':'mean'}).sort_values(by = 'Silhouette Score', ascending=False).round(3)"
   ]
  },
  {
   "cell_type": "code",
   "execution_count": 15,
   "id": "23cf6663",
   "metadata": {},
   "outputs": [],
   "source": [
    "## Decomposition (column compression and decompression)\n",
    "decomp_model = PCA(10).fit(X_train_scaled)\n",
    "train_comps = decomp_model.transform(X_train_scaled)\n",
    "test_comps = decomp_model.transform(X_test_scaled)\n",
    "test_altered_comps = decomp_model.transform(X_test_altered_imputed_scaled)\n",
    "\n",
    "train_comps_inv  = decomp_model.inverse_transform(train_comps)\n",
    "test_comps_inv  = decomp_model.inverse_transform(test_comps)\n",
    "test_altered_comps_inv  = decomp_model.inverse_transform(test_altered_comps)\n",
    "\n",
    "train_error = X_train_scaled.flatten() - train_comps_inv.flatten()\n",
    "test_error = X_test_scaled.flatten() -  test_comps_inv.flatten()\n",
    "test_altered_error = X_test_altered_imputed_scaled.flatten() - test_altered_comps_inv.flatten()\n",
    "\n"
   ]
  },
  {
   "cell_type": "code",
   "execution_count": 16,
   "id": "0fcae525",
   "metadata": {},
   "outputs": [
    {
     "name": "stdout",
     "output_type": "stream",
     "text": [
      "Percentage of Variance Explained by PCA 95.6%\n"
     ]
    },
    {
     "data": {
      "application/vnd.plotly.v1+json": {
       "config": {
        "plotlyServerURL": "https://plot.ly"
       },
       "data": [
        {
         "alignmentgroup": "True",
         "hovertemplate": "Source=Training Data<br>Cluster=0<br>stat=%{x}<br>Feature=%{y}<extra></extra>",
         "legendgroup": "Training Data",
         "marker": {
          "color": "blue",
          "pattern": {
           "shape": ""
          }
         },
         "name": "Training Data",
         "offsetgroup": "Training Data",
         "orientation": "h",
         "showlegend": true,
         "textposition": "auto",
         "type": "bar",
         "x": [
          0.07816504772031814,
          0.18336040801624162,
          0.0747171844794338,
          0.08397031924999229,
          0.2829541573456408,
          0.2257938313595042,
          0.274419282117763,
          0.17413846531558136,
          0.21405473064815678,
          0.2520940536585008,
          0.08724667587687196,
          0.21701719731909297,
          0.1213971748048728,
          0.12783795601816692,
          0.14317936829002512,
          0.25030631295073735,
          0.2707684111401447,
          0.21914572177143812,
          0.19189323712303458,
          0.23339812935387375,
          0.10149381165789534,
          0.1096721882649354,
          0.09188946571711887,
          0.1203453824179923,
          0.1672578676223666,
          0.2723583465111577,
          0.23148437048315107,
          0.19829296215909825,
          0.17090328599774812,
          0.22898193371018244
         ],
         "xaxis": "x",
         "y": [
          "mean radius",
          "mean texture",
          "mean perimeter",
          "mean area",
          "mean smoothness",
          "mean compactness",
          "mean concavity",
          "mean concave points",
          "mean symmetry",
          "mean fractal dimension",
          "radius error",
          "texture error",
          "perimeter error",
          "area error",
          "smoothness error",
          "compactness error",
          "concavity error",
          "concave points error",
          "symmetry error",
          "fractal dimension error",
          "worst radius",
          "worst texture",
          "worst perimeter",
          "worst area",
          "worst smoothness",
          "worst compactness",
          "worst concavity",
          "worst concave points",
          "worst symmetry",
          "worst fractal dimension"
         ],
         "yaxis": "y"
        },
        {
         "alignmentgroup": "True",
         "hovertemplate": "Source=Training Data<br>Cluster=1<br>stat=%{x}<br>Feature=%{y}<extra></extra>",
         "legendgroup": "Training Data",
         "marker": {
          "color": "blue",
          "pattern": {
           "shape": ""
          }
         },
         "name": "Training Data",
         "offsetgroup": "Training Data",
         "orientation": "h",
         "showlegend": false,
         "textposition": "auto",
         "type": "bar",
         "x": [
          0.07513449645101475,
          0.17022668255954332,
          0.06974716692836153,
          0.06023704532639079,
          0.18114499687403818,
          0.1489635084347768,
          0.13935419311121802,
          0.12326612609685607,
          0.1468137340036696,
          0.19471052685773377,
          0.07589504129523002,
          0.16846222629060156,
          0.06913023530946642,
          0.10115331042507739,
          0.08119403475840811,
          0.15509710942097216,
          0.1458449725439561,
          0.15447141967096575,
          0.1751938627613603,
          0.13261965260212047,
          0.05714043490864099,
          0.08310547097632501,
          0.055957883909909904,
          0.07427812671695105,
          0.12595796507006962,
          0.14781788343340194,
          0.15510431283886633,
          0.14708207847456417,
          0.13294435323550272,
          0.12798859030173115
         ],
         "xaxis": "x2",
         "y": [
          "mean radius",
          "mean texture",
          "mean perimeter",
          "mean area",
          "mean smoothness",
          "mean compactness",
          "mean concavity",
          "mean concave points",
          "mean symmetry",
          "mean fractal dimension",
          "radius error",
          "texture error",
          "perimeter error",
          "area error",
          "smoothness error",
          "compactness error",
          "concavity error",
          "concave points error",
          "symmetry error",
          "fractal dimension error",
          "worst radius",
          "worst texture",
          "worst perimeter",
          "worst area",
          "worst smoothness",
          "worst compactness",
          "worst concavity",
          "worst concave points",
          "worst symmetry",
          "worst fractal dimension"
         ],
         "yaxis": "y2"
        },
        {
         "alignmentgroup": "True",
         "hovertemplate": "Source=Training Data<br>Cluster=2<br>stat=%{x}<br>Feature=%{y}<extra></extra>",
         "legendgroup": "Training Data",
         "marker": {
          "color": "blue",
          "pattern": {
           "shape": ""
          }
         },
         "name": "Training Data",
         "offsetgroup": "Training Data",
         "orientation": "h",
         "showlegend": false,
         "textposition": "auto",
         "type": "bar",
         "x": [
          0.09924082616418921,
          0.20694407387164454,
          0.09697352594325781,
          0.13823368289144294,
          0.18315904074163442,
          0.21482420996163168,
          0.31544721040227325,
          0.21939423335168978,
          0.17210250700985721,
          0.20700045183919386,
          0.16048822873191088,
          0.2180436445731413,
          0.15263387256195124,
          0.19948694605526945,
          0.11579656111568228,
          0.23205061928097975,
          0.2023021612378322,
          0.3149356181923853,
          0.2244350607217461,
          0.1755681075427614,
          0.1695565351150357,
          0.09710792746137366,
          0.1490027943089637,
          0.2030459996203979,
          0.17770077568251796,
          0.20779947057187473,
          0.22382841558869282,
          0.19623570481233626,
          0.1639397068888344,
          0.2060306435158954
         ],
         "xaxis": "x3",
         "y": [
          "mean radius",
          "mean texture",
          "mean perimeter",
          "mean area",
          "mean smoothness",
          "mean compactness",
          "mean concavity",
          "mean concave points",
          "mean symmetry",
          "mean fractal dimension",
          "radius error",
          "texture error",
          "perimeter error",
          "area error",
          "smoothness error",
          "compactness error",
          "concavity error",
          "concave points error",
          "symmetry error",
          "fractal dimension error",
          "worst radius",
          "worst texture",
          "worst perimeter",
          "worst area",
          "worst smoothness",
          "worst compactness",
          "worst concavity",
          "worst concave points",
          "worst symmetry",
          "worst fractal dimension"
         ],
         "yaxis": "y3"
        },
        {
         "alignmentgroup": "True",
         "hovertemplate": "Source=Test Data<br>Cluster=0<br>stat=%{x}<br>Feature=%{y}<extra></extra>",
         "legendgroup": "Test Data",
         "marker": {
          "color": "lightblue",
          "pattern": {
           "shape": ""
          }
         },
         "name": "Test Data",
         "offsetgroup": "Test Data",
         "orientation": "h",
         "showlegend": true,
         "textposition": "auto",
         "type": "bar",
         "x": [
          0.09303114668020677,
          0.2405259470457593,
          0.10568654615282089,
          0.1053246694418397,
          0.28265467227564045,
          0.3207754069910523,
          0.24530666833739212,
          0.17413581068506567,
          0.24368437497474513,
          0.30060303953183165,
          0.13888123890945936,
          0.2543639944767444,
          0.16637979921323065,
          0.12765019045147907,
          0.2259625097587145,
          0.2852209286269454,
          0.4346035550678874,
          0.2521954838891976,
          0.27432200426838077,
          0.3175190281221804,
          0.1339828248248006,
          0.13471603773121613,
          0.09898654781787546,
          0.15081415647771626,
          0.28842888888348334,
          0.3336549893251844,
          0.31370969239081775,
          0.2406023697277851,
          0.22457700046876858,
          0.2786415346945181
         ],
         "xaxis": "x",
         "y": [
          "mean radius",
          "mean texture",
          "mean perimeter",
          "mean area",
          "mean smoothness",
          "mean compactness",
          "mean concavity",
          "mean concave points",
          "mean symmetry",
          "mean fractal dimension",
          "radius error",
          "texture error",
          "perimeter error",
          "area error",
          "smoothness error",
          "compactness error",
          "concavity error",
          "concave points error",
          "symmetry error",
          "fractal dimension error",
          "worst radius",
          "worst texture",
          "worst perimeter",
          "worst area",
          "worst smoothness",
          "worst compactness",
          "worst concavity",
          "worst concave points",
          "worst symmetry",
          "worst fractal dimension"
         ],
         "yaxis": "y"
        },
        {
         "alignmentgroup": "True",
         "hovertemplate": "Source=Test Data<br>Cluster=1<br>stat=%{x}<br>Feature=%{y}<extra></extra>",
         "legendgroup": "Test Data",
         "marker": {
          "color": "lightblue",
          "pattern": {
           "shape": ""
          }
         },
         "name": "Test Data",
         "offsetgroup": "Test Data",
         "orientation": "h",
         "showlegend": false,
         "textposition": "auto",
         "type": "bar",
         "x": [
          0.07956204938416214,
          0.1875682751893816,
          0.07301546793670183,
          0.05839666963127218,
          0.19696338608846306,
          0.14287686772152045,
          0.13827403050438125,
          0.13608141406604093,
          0.14601330098366055,
          0.17270661458309475,
          0.0785349571880084,
          0.1737277114363376,
          0.07786418685335084,
          0.10239775423605564,
          0.09399067028095212,
          0.1502369470041111,
          0.14411791573142965,
          0.15848473461207208,
          0.1798464240507089,
          0.1603388467811184,
          0.05951334747092232,
          0.10513088589458945,
          0.05391204714537963,
          0.07640458159621534,
          0.12246092435592629,
          0.13932284287269095,
          0.15554922430474763,
          0.1511715138991773,
          0.12473251792662084,
          0.12640729798638192
         ],
         "xaxis": "x2",
         "y": [
          "mean radius",
          "mean texture",
          "mean perimeter",
          "mean area",
          "mean smoothness",
          "mean compactness",
          "mean concavity",
          "mean concave points",
          "mean symmetry",
          "mean fractal dimension",
          "radius error",
          "texture error",
          "perimeter error",
          "area error",
          "smoothness error",
          "compactness error",
          "concavity error",
          "concave points error",
          "symmetry error",
          "fractal dimension error",
          "worst radius",
          "worst texture",
          "worst perimeter",
          "worst area",
          "worst smoothness",
          "worst compactness",
          "worst concavity",
          "worst concave points",
          "worst symmetry",
          "worst fractal dimension"
         ],
         "yaxis": "y2"
        },
        {
         "alignmentgroup": "True",
         "hovertemplate": "Source=Test Data<br>Cluster=2<br>stat=%{x}<br>Feature=%{y}<extra></extra>",
         "legendgroup": "Test Data",
         "marker": {
          "color": "lightblue",
          "pattern": {
           "shape": ""
          }
         },
         "name": "Test Data",
         "offsetgroup": "Test Data",
         "orientation": "h",
         "showlegend": false,
         "textposition": "auto",
         "type": "bar",
         "x": [
          0.12032188666961775,
          0.21677881615165034,
          0.12225169967577589,
          0.1584096698410451,
          0.16345981146912456,
          0.24548168339921222,
          0.29431826569112635,
          0.25045517849981314,
          0.1439254895061045,
          0.20756900129432138,
          0.14212583460220052,
          0.18054809062360153,
          0.15080060360037553,
          0.17834231867793782,
          0.1078073808324302,
          0.18761867262894194,
          0.2462647167217423,
          0.23772289718463196,
          0.17207244201246108,
          0.1968519742662525,
          0.15242503703994909,
          0.11194681231132811,
          0.18042063140250073,
          0.17917183753873459,
          0.16681750037822682,
          0.2390317014229595,
          0.22477968984722188,
          0.23391484910375188,
          0.13958670083553318,
          0.1531237625502463
         ],
         "xaxis": "x3",
         "y": [
          "mean radius",
          "mean texture",
          "mean perimeter",
          "mean area",
          "mean smoothness",
          "mean compactness",
          "mean concavity",
          "mean concave points",
          "mean symmetry",
          "mean fractal dimension",
          "radius error",
          "texture error",
          "perimeter error",
          "area error",
          "smoothness error",
          "compactness error",
          "concavity error",
          "concave points error",
          "symmetry error",
          "fractal dimension error",
          "worst radius",
          "worst texture",
          "worst perimeter",
          "worst area",
          "worst smoothness",
          "worst compactness",
          "worst concavity",
          "worst concave points",
          "worst symmetry",
          "worst fractal dimension"
         ],
         "yaxis": "y3"
        },
        {
         "alignmentgroup": "True",
         "hovertemplate": "Source=Test Data (Altered)<br>Cluster=0<br>stat=%{x}<br>Feature=%{y}<extra></extra>",
         "legendgroup": "Test Data (Altered)",
         "marker": {
          "color": "orange",
          "pattern": {
           "shape": ""
          }
         },
         "name": "Test Data (Altered)",
         "offsetgroup": "Test Data (Altered)",
         "orientation": "h",
         "showlegend": true,
         "textposition": "auto",
         "type": "bar",
         "x": [
          0.2008307750460272,
          0.3160314361364883,
          0.2296300967148384,
          0.1528605428345977,
          0.41625311552973887,
          0.3891899874579712,
          0.3741336181845613,
          0.28723104536659066,
          0.33001765449265236,
          0.4522667007618671,
          0.19490673545211454,
          0.28564567963169474,
          0.19726402510929963,
          0.13691107437003897,
          0.2872467234133085,
          0.524360620133952,
          0.5681573864980477,
          0.3719303432326867,
          0.3246128587601942,
          0.4690621434855135,
          0.19601018529798703,
          0.2687224961250698,
          0.17809025925615035,
          0.26209764991553836,
          0.46492973304738,
          0.5882423480349305,
          0.5007423428704689,
          0.38075696579944834,
          0.3840917062546556,
          0.5507663611091019
         ],
         "xaxis": "x",
         "y": [
          "mean radius",
          "mean texture",
          "mean perimeter",
          "mean area",
          "mean smoothness",
          "mean compactness",
          "mean concavity",
          "mean concave points",
          "mean symmetry",
          "mean fractal dimension",
          "radius error",
          "texture error",
          "perimeter error",
          "area error",
          "smoothness error",
          "compactness error",
          "concavity error",
          "concave points error",
          "symmetry error",
          "fractal dimension error",
          "worst radius",
          "worst texture",
          "worst perimeter",
          "worst area",
          "worst smoothness",
          "worst compactness",
          "worst concavity",
          "worst concave points",
          "worst symmetry",
          "worst fractal dimension"
         ],
         "yaxis": "y"
        },
        {
         "alignmentgroup": "True",
         "hovertemplate": "Source=Test Data (Altered)<br>Cluster=1<br>stat=%{x}<br>Feature=%{y}<extra></extra>",
         "legendgroup": "Test Data (Altered)",
         "marker": {
          "color": "orange",
          "pattern": {
           "shape": ""
          }
         },
         "name": "Test Data (Altered)",
         "offsetgroup": "Test Data (Altered)",
         "orientation": "h",
         "showlegend": false,
         "textposition": "auto",
         "type": "bar",
         "x": [
          0.21738156935184647,
          0.2292866008033003,
          0.24150194782477538,
          0.21804858744209754,
          0.2828457689226517,
          0.2830019135050688,
          0.24859889175762426,
          0.2682610476885723,
          0.19070907068249984,
          0.2423450468128603,
          0.18991454130882024,
          0.20558547674575056,
          0.18624589596517835,
          0.18472120099018513,
          0.14097125193185323,
          0.23290128475691138,
          0.23728005894109172,
          0.22694586303221562,
          0.21915504288318516,
          0.2261567298640894,
          0.24626414453768705,
          0.2165516213260314,
          0.2516334481466289,
          0.224370987620564,
          0.2564110780240582,
          0.24443641224119989,
          0.2506924497547273,
          0.30922908184754955,
          0.20816213446864995,
          0.20450864789502485
         ],
         "xaxis": "x2",
         "y": [
          "mean radius",
          "mean texture",
          "mean perimeter",
          "mean area",
          "mean smoothness",
          "mean compactness",
          "mean concavity",
          "mean concave points",
          "mean symmetry",
          "mean fractal dimension",
          "radius error",
          "texture error",
          "perimeter error",
          "area error",
          "smoothness error",
          "compactness error",
          "concavity error",
          "concave points error",
          "symmetry error",
          "fractal dimension error",
          "worst radius",
          "worst texture",
          "worst perimeter",
          "worst area",
          "worst smoothness",
          "worst compactness",
          "worst concavity",
          "worst concave points",
          "worst symmetry",
          "worst fractal dimension"
         ],
         "yaxis": "y2"
        },
        {
         "alignmentgroup": "True",
         "hovertemplate": "Source=Test Data (Altered)<br>Cluster=2<br>stat=%{x}<br>Feature=%{y}<extra></extra>",
         "legendgroup": "Test Data (Altered)",
         "marker": {
          "color": "orange",
          "pattern": {
           "shape": ""
          }
         },
         "name": "Test Data (Altered)",
         "offsetgroup": "Test Data (Altered)",
         "orientation": "h",
         "showlegend": false,
         "textposition": "auto",
         "type": "bar",
         "x": [
          0.5476829723282076,
          0.24440915470630786,
          0.5924582865475486,
          0.5941998381953217,
          0.2804687553122899,
          0.39757767867321514,
          0.4220199714188491,
          0.6655084981894314,
          0.2509127904995667,
          0.33060236841652535,
          0.4387407052099028,
          0.25942732744588404,
          0.461289715114532,
          0.43128106911515807,
          0.14415672712981337,
          0.29598322789729326,
          0.3352215772308363,
          0.3145861787891978,
          0.24748725561288087,
          0.28717659164139525,
          0.7331795270365146,
          0.2023136734325237,
          0.6881472023758605,
          0.669496799167204,
          0.2888435153986044,
          0.34961768818220784,
          0.3839756634847233,
          0.46852601151243206,
          0.32866745931585917,
          0.26752317737409886
         ],
         "xaxis": "x3",
         "y": [
          "mean radius",
          "mean texture",
          "mean perimeter",
          "mean area",
          "mean smoothness",
          "mean compactness",
          "mean concavity",
          "mean concave points",
          "mean symmetry",
          "mean fractal dimension",
          "radius error",
          "texture error",
          "perimeter error",
          "area error",
          "smoothness error",
          "compactness error",
          "concavity error",
          "concave points error",
          "symmetry error",
          "fractal dimension error",
          "worst radius",
          "worst texture",
          "worst perimeter",
          "worst area",
          "worst smoothness",
          "worst compactness",
          "worst concavity",
          "worst concave points",
          "worst symmetry",
          "worst fractal dimension"
         ],
         "yaxis": "y3"
        }
       ],
       "layout": {
        "annotations": [
         {
          "font": {},
          "showarrow": false,
          "text": "Cluster=0",
          "x": 0.15999999999999998,
          "xanchor": "center",
          "xref": "paper",
          "y": 1,
          "yanchor": "bottom",
          "yref": "paper"
         },
         {
          "font": {},
          "showarrow": false,
          "text": "Cluster=1",
          "x": 0.49999999999999994,
          "xanchor": "center",
          "xref": "paper",
          "y": 1,
          "yanchor": "bottom",
          "yref": "paper"
         },
         {
          "font": {},
          "showarrow": false,
          "text": "Cluster=2",
          "x": 0.8399999999999999,
          "xanchor": "center",
          "xref": "paper",
          "y": 1,
          "yanchor": "bottom",
          "yref": "paper"
         }
        ],
        "barmode": "group",
        "height": 600,
        "legend": {
         "title": {
          "text": "Source"
         },
         "tracegroupgap": 0
        },
        "template": {
         "data": {
          "bar": [
           {
            "error_x": {
             "color": "#2a3f5f"
            },
            "error_y": {
             "color": "#2a3f5f"
            },
            "marker": {
             "line": {
              "color": "#E5ECF6",
              "width": 0.5
             },
             "pattern": {
              "fillmode": "overlay",
              "size": 10,
              "solidity": 0.2
             }
            },
            "type": "bar"
           }
          ],
          "barpolar": [
           {
            "marker": {
             "line": {
              "color": "#E5ECF6",
              "width": 0.5
             },
             "pattern": {
              "fillmode": "overlay",
              "size": 10,
              "solidity": 0.2
             }
            },
            "type": "barpolar"
           }
          ],
          "carpet": [
           {
            "aaxis": {
             "endlinecolor": "#2a3f5f",
             "gridcolor": "white",
             "linecolor": "white",
             "minorgridcolor": "white",
             "startlinecolor": "#2a3f5f"
            },
            "baxis": {
             "endlinecolor": "#2a3f5f",
             "gridcolor": "white",
             "linecolor": "white",
             "minorgridcolor": "white",
             "startlinecolor": "#2a3f5f"
            },
            "type": "carpet"
           }
          ],
          "choropleth": [
           {
            "colorbar": {
             "outlinewidth": 0,
             "ticks": ""
            },
            "type": "choropleth"
           }
          ],
          "contour": [
           {
            "colorbar": {
             "outlinewidth": 0,
             "ticks": ""
            },
            "colorscale": [
             [
              0,
              "#0d0887"
             ],
             [
              0.1111111111111111,
              "#46039f"
             ],
             [
              0.2222222222222222,
              "#7201a8"
             ],
             [
              0.3333333333333333,
              "#9c179e"
             ],
             [
              0.4444444444444444,
              "#bd3786"
             ],
             [
              0.5555555555555556,
              "#d8576b"
             ],
             [
              0.6666666666666666,
              "#ed7953"
             ],
             [
              0.7777777777777778,
              "#fb9f3a"
             ],
             [
              0.8888888888888888,
              "#fdca26"
             ],
             [
              1,
              "#f0f921"
             ]
            ],
            "type": "contour"
           }
          ],
          "contourcarpet": [
           {
            "colorbar": {
             "outlinewidth": 0,
             "ticks": ""
            },
            "type": "contourcarpet"
           }
          ],
          "heatmap": [
           {
            "colorbar": {
             "outlinewidth": 0,
             "ticks": ""
            },
            "colorscale": [
             [
              0,
              "#0d0887"
             ],
             [
              0.1111111111111111,
              "#46039f"
             ],
             [
              0.2222222222222222,
              "#7201a8"
             ],
             [
              0.3333333333333333,
              "#9c179e"
             ],
             [
              0.4444444444444444,
              "#bd3786"
             ],
             [
              0.5555555555555556,
              "#d8576b"
             ],
             [
              0.6666666666666666,
              "#ed7953"
             ],
             [
              0.7777777777777778,
              "#fb9f3a"
             ],
             [
              0.8888888888888888,
              "#fdca26"
             ],
             [
              1,
              "#f0f921"
             ]
            ],
            "type": "heatmap"
           }
          ],
          "heatmapgl": [
           {
            "colorbar": {
             "outlinewidth": 0,
             "ticks": ""
            },
            "colorscale": [
             [
              0,
              "#0d0887"
             ],
             [
              0.1111111111111111,
              "#46039f"
             ],
             [
              0.2222222222222222,
              "#7201a8"
             ],
             [
              0.3333333333333333,
              "#9c179e"
             ],
             [
              0.4444444444444444,
              "#bd3786"
             ],
             [
              0.5555555555555556,
              "#d8576b"
             ],
             [
              0.6666666666666666,
              "#ed7953"
             ],
             [
              0.7777777777777778,
              "#fb9f3a"
             ],
             [
              0.8888888888888888,
              "#fdca26"
             ],
             [
              1,
              "#f0f921"
             ]
            ],
            "type": "heatmapgl"
           }
          ],
          "histogram": [
           {
            "marker": {
             "pattern": {
              "fillmode": "overlay",
              "size": 10,
              "solidity": 0.2
             }
            },
            "type": "histogram"
           }
          ],
          "histogram2d": [
           {
            "colorbar": {
             "outlinewidth": 0,
             "ticks": ""
            },
            "colorscale": [
             [
              0,
              "#0d0887"
             ],
             [
              0.1111111111111111,
              "#46039f"
             ],
             [
              0.2222222222222222,
              "#7201a8"
             ],
             [
              0.3333333333333333,
              "#9c179e"
             ],
             [
              0.4444444444444444,
              "#bd3786"
             ],
             [
              0.5555555555555556,
              "#d8576b"
             ],
             [
              0.6666666666666666,
              "#ed7953"
             ],
             [
              0.7777777777777778,
              "#fb9f3a"
             ],
             [
              0.8888888888888888,
              "#fdca26"
             ],
             [
              1,
              "#f0f921"
             ]
            ],
            "type": "histogram2d"
           }
          ],
          "histogram2dcontour": [
           {
            "colorbar": {
             "outlinewidth": 0,
             "ticks": ""
            },
            "colorscale": [
             [
              0,
              "#0d0887"
             ],
             [
              0.1111111111111111,
              "#46039f"
             ],
             [
              0.2222222222222222,
              "#7201a8"
             ],
             [
              0.3333333333333333,
              "#9c179e"
             ],
             [
              0.4444444444444444,
              "#bd3786"
             ],
             [
              0.5555555555555556,
              "#d8576b"
             ],
             [
              0.6666666666666666,
              "#ed7953"
             ],
             [
              0.7777777777777778,
              "#fb9f3a"
             ],
             [
              0.8888888888888888,
              "#fdca26"
             ],
             [
              1,
              "#f0f921"
             ]
            ],
            "type": "histogram2dcontour"
           }
          ],
          "mesh3d": [
           {
            "colorbar": {
             "outlinewidth": 0,
             "ticks": ""
            },
            "type": "mesh3d"
           }
          ],
          "parcoords": [
           {
            "line": {
             "colorbar": {
              "outlinewidth": 0,
              "ticks": ""
             }
            },
            "type": "parcoords"
           }
          ],
          "pie": [
           {
            "automargin": true,
            "type": "pie"
           }
          ],
          "scatter": [
           {
            "fillpattern": {
             "fillmode": "overlay",
             "size": 10,
             "solidity": 0.2
            },
            "type": "scatter"
           }
          ],
          "scatter3d": [
           {
            "line": {
             "colorbar": {
              "outlinewidth": 0,
              "ticks": ""
             }
            },
            "marker": {
             "colorbar": {
              "outlinewidth": 0,
              "ticks": ""
             }
            },
            "type": "scatter3d"
           }
          ],
          "scattercarpet": [
           {
            "marker": {
             "colorbar": {
              "outlinewidth": 0,
              "ticks": ""
             }
            },
            "type": "scattercarpet"
           }
          ],
          "scattergeo": [
           {
            "marker": {
             "colorbar": {
              "outlinewidth": 0,
              "ticks": ""
             }
            },
            "type": "scattergeo"
           }
          ],
          "scattergl": [
           {
            "marker": {
             "colorbar": {
              "outlinewidth": 0,
              "ticks": ""
             }
            },
            "type": "scattergl"
           }
          ],
          "scattermapbox": [
           {
            "marker": {
             "colorbar": {
              "outlinewidth": 0,
              "ticks": ""
             }
            },
            "type": "scattermapbox"
           }
          ],
          "scatterpolar": [
           {
            "marker": {
             "colorbar": {
              "outlinewidth": 0,
              "ticks": ""
             }
            },
            "type": "scatterpolar"
           }
          ],
          "scatterpolargl": [
           {
            "marker": {
             "colorbar": {
              "outlinewidth": 0,
              "ticks": ""
             }
            },
            "type": "scatterpolargl"
           }
          ],
          "scatterternary": [
           {
            "marker": {
             "colorbar": {
              "outlinewidth": 0,
              "ticks": ""
             }
            },
            "type": "scatterternary"
           }
          ],
          "surface": [
           {
            "colorbar": {
             "outlinewidth": 0,
             "ticks": ""
            },
            "colorscale": [
             [
              0,
              "#0d0887"
             ],
             [
              0.1111111111111111,
              "#46039f"
             ],
             [
              0.2222222222222222,
              "#7201a8"
             ],
             [
              0.3333333333333333,
              "#9c179e"
             ],
             [
              0.4444444444444444,
              "#bd3786"
             ],
             [
              0.5555555555555556,
              "#d8576b"
             ],
             [
              0.6666666666666666,
              "#ed7953"
             ],
             [
              0.7777777777777778,
              "#fb9f3a"
             ],
             [
              0.8888888888888888,
              "#fdca26"
             ],
             [
              1,
              "#f0f921"
             ]
            ],
            "type": "surface"
           }
          ],
          "table": [
           {
            "cells": {
             "fill": {
              "color": "#EBF0F8"
             },
             "line": {
              "color": "white"
             }
            },
            "header": {
             "fill": {
              "color": "#C8D4E3"
             },
             "line": {
              "color": "white"
             }
            },
            "type": "table"
           }
          ]
         },
         "layout": {
          "annotationdefaults": {
           "arrowcolor": "#2a3f5f",
           "arrowhead": 0,
           "arrowwidth": 1
          },
          "autotypenumbers": "strict",
          "coloraxis": {
           "colorbar": {
            "outlinewidth": 0,
            "ticks": ""
           }
          },
          "colorscale": {
           "diverging": [
            [
             0,
             "#8e0152"
            ],
            [
             0.1,
             "#c51b7d"
            ],
            [
             0.2,
             "#de77ae"
            ],
            [
             0.3,
             "#f1b6da"
            ],
            [
             0.4,
             "#fde0ef"
            ],
            [
             0.5,
             "#f7f7f7"
            ],
            [
             0.6,
             "#e6f5d0"
            ],
            [
             0.7,
             "#b8e186"
            ],
            [
             0.8,
             "#7fbc41"
            ],
            [
             0.9,
             "#4d9221"
            ],
            [
             1,
             "#276419"
            ]
           ],
           "sequential": [
            [
             0,
             "#0d0887"
            ],
            [
             0.1111111111111111,
             "#46039f"
            ],
            [
             0.2222222222222222,
             "#7201a8"
            ],
            [
             0.3333333333333333,
             "#9c179e"
            ],
            [
             0.4444444444444444,
             "#bd3786"
            ],
            [
             0.5555555555555556,
             "#d8576b"
            ],
            [
             0.6666666666666666,
             "#ed7953"
            ],
            [
             0.7777777777777778,
             "#fb9f3a"
            ],
            [
             0.8888888888888888,
             "#fdca26"
            ],
            [
             1,
             "#f0f921"
            ]
           ],
           "sequentialminus": [
            [
             0,
             "#0d0887"
            ],
            [
             0.1111111111111111,
             "#46039f"
            ],
            [
             0.2222222222222222,
             "#7201a8"
            ],
            [
             0.3333333333333333,
             "#9c179e"
            ],
            [
             0.4444444444444444,
             "#bd3786"
            ],
            [
             0.5555555555555556,
             "#d8576b"
            ],
            [
             0.6666666666666666,
             "#ed7953"
            ],
            [
             0.7777777777777778,
             "#fb9f3a"
            ],
            [
             0.8888888888888888,
             "#fdca26"
            ],
            [
             1,
             "#f0f921"
            ]
           ]
          },
          "colorway": [
           "#636efa",
           "#EF553B",
           "#00cc96",
           "#ab63fa",
           "#FFA15A",
           "#19d3f3",
           "#FF6692",
           "#B6E880",
           "#FF97FF",
           "#FECB52"
          ],
          "font": {
           "color": "#2a3f5f"
          },
          "geo": {
           "bgcolor": "white",
           "lakecolor": "white",
           "landcolor": "#E5ECF6",
           "showlakes": true,
           "showland": true,
           "subunitcolor": "white"
          },
          "hoverlabel": {
           "align": "left"
          },
          "hovermode": "closest",
          "mapbox": {
           "style": "light"
          },
          "paper_bgcolor": "white",
          "plot_bgcolor": "#E5ECF6",
          "polar": {
           "angularaxis": {
            "gridcolor": "white",
            "linecolor": "white",
            "ticks": ""
           },
           "bgcolor": "#E5ECF6",
           "radialaxis": {
            "gridcolor": "white",
            "linecolor": "white",
            "ticks": ""
           }
          },
          "scene": {
           "xaxis": {
            "backgroundcolor": "#E5ECF6",
            "gridcolor": "white",
            "gridwidth": 2,
            "linecolor": "white",
            "showbackground": true,
            "ticks": "",
            "zerolinecolor": "white"
           },
           "yaxis": {
            "backgroundcolor": "#E5ECF6",
            "gridcolor": "white",
            "gridwidth": 2,
            "linecolor": "white",
            "showbackground": true,
            "ticks": "",
            "zerolinecolor": "white"
           },
           "zaxis": {
            "backgroundcolor": "#E5ECF6",
            "gridcolor": "white",
            "gridwidth": 2,
            "linecolor": "white",
            "showbackground": true,
            "ticks": "",
            "zerolinecolor": "white"
           }
          },
          "shapedefaults": {
           "line": {
            "color": "#2a3f5f"
           }
          },
          "ternary": {
           "aaxis": {
            "gridcolor": "white",
            "linecolor": "white",
            "ticks": ""
           },
           "baxis": {
            "gridcolor": "white",
            "linecolor": "white",
            "ticks": ""
           },
           "bgcolor": "#E5ECF6",
           "caxis": {
            "gridcolor": "white",
            "linecolor": "white",
            "ticks": ""
           }
          },
          "title": {
           "x": 0.05
          },
          "xaxis": {
           "automargin": true,
           "gridcolor": "white",
           "linecolor": "white",
           "ticks": "",
           "title": {
            "standoff": 15
           },
           "zerolinecolor": "white",
           "zerolinewidth": 2
          },
          "yaxis": {
           "automargin": true,
           "gridcolor": "white",
           "linecolor": "white",
           "ticks": "",
           "title": {
            "standoff": 15
           },
           "zerolinecolor": "white",
           "zerolinewidth": 2
          }
         }
        },
        "title": {
         "text": "Error between Features and <br> PCA Inverse Representation of Features"
        },
        "width": 1000,
        "xaxis": {
         "anchor": "y",
         "autorange": true,
         "domain": [
          0,
          0.31999999999999995
         ],
         "range": [
          0,
          0.7717679231963311
         ],
         "title": {
          "text": "Mean Squared Error"
         },
         "type": "linear"
        },
        "xaxis2": {
         "anchor": "y2",
         "autorange": true,
         "domain": [
          0.33999999999999997,
          0.6599999999999999
         ],
         "matches": "x",
         "range": [
          0,
          0.7717679231963311
         ],
         "title": {
          "text": "Mean Squared Error"
         },
         "type": "linear"
        },
        "xaxis3": {
         "anchor": "y3",
         "autorange": true,
         "domain": [
          0.6799999999999999,
          0.9999999999999999
         ],
         "matches": "x",
         "range": [
          0,
          0.7717679231963311
         ],
         "title": {
          "text": "Mean Squared Error"
         },
         "type": "linear"
        },
        "yaxis": {
         "anchor": "x",
         "autorange": true,
         "categoryarray": [
          "mean concave points",
          "worst area",
          "worst perimeter",
          "worst concave points",
          "worst radius",
          "worst fractal dimension",
          "worst texture",
          "mean concavity",
          "worst compactness",
          "radius error",
          "mean texture",
          "perimeter error",
          "worst symmetry",
          "fractal dimension error",
          "worst concavity",
          "texture error",
          "mean area",
          "mean symmetry",
          "mean perimeter",
          "mean smoothness",
          "mean compactness",
          "smoothness error",
          "mean fractal dimension",
          "area error",
          "compactness error",
          "concavity error",
          "concave points error",
          "symmetry error",
          "worst smoothness",
          "mean radius"
         ],
         "categoryorder": "array",
         "domain": [
          0,
          1
         ],
         "range": [
          -0.5,
          29.5
         ],
         "title": {
          "text": "Feature ranked by Model Importance"
         },
         "type": "category"
        },
        "yaxis2": {
         "anchor": "x2",
         "autorange": true,
         "domain": [
          0,
          1
         ],
         "matches": "y",
         "range": [
          -0.5,
          29.5
         ],
         "showticklabels": false,
         "title": {
          "text": "Feature ranked by Model Importance"
         },
         "type": "category"
        },
        "yaxis3": {
         "anchor": "x3",
         "autorange": true,
         "domain": [
          0,
          1
         ],
         "matches": "y",
         "range": [
          -0.5,
          29.5
         ],
         "showticklabels": false,
         "title": {
          "text": "Feature ranked by Model Importance"
         },
         "type": "category"
        }
       }
      },
      "text/html": [
       "<div>                            <div id=\"d9613921-9ce4-4278-881b-b50ea348d24f\" class=\"plotly-graph-div\" style=\"height:600px; width:1000px;\"></div>            <script type=\"text/javascript\">                require([\"plotly\"], function(Plotly) {                    window.PLOTLYENV=window.PLOTLYENV || {};                                    if (document.getElementById(\"d9613921-9ce4-4278-881b-b50ea348d24f\")) {                    Plotly.newPlot(                        \"d9613921-9ce4-4278-881b-b50ea348d24f\",                        [{\"alignmentgroup\":\"True\",\"hovertemplate\":\"Source=Training Data\\u003cbr\\u003eCluster=0\\u003cbr\\u003estat=%{x}\\u003cbr\\u003eFeature=%{y}\\u003cextra\\u003e\\u003c\\u002fextra\\u003e\",\"legendgroup\":\"Training Data\",\"marker\":{\"color\":\"blue\",\"pattern\":{\"shape\":\"\"}},\"name\":\"Training Data\",\"offsetgroup\":\"Training Data\",\"orientation\":\"h\",\"showlegend\":true,\"textposition\":\"auto\",\"x\":[0.07816504772031814,0.18336040801624162,0.0747171844794338,0.08397031924999229,0.2829541573456408,0.2257938313595042,0.274419282117763,0.17413846531558136,0.21405473064815678,0.2520940536585008,0.08724667587687196,0.21701719731909297,0.1213971748048728,0.12783795601816692,0.14317936829002512,0.25030631295073735,0.2707684111401447,0.21914572177143812,0.19189323712303458,0.23339812935387375,0.10149381165789534,0.1096721882649354,0.09188946571711887,0.1203453824179923,0.1672578676223666,0.2723583465111577,0.23148437048315107,0.19829296215909825,0.17090328599774812,0.22898193371018244],\"xaxis\":\"x\",\"y\":[\"mean radius\",\"mean texture\",\"mean perimeter\",\"mean area\",\"mean smoothness\",\"mean compactness\",\"mean concavity\",\"mean concave points\",\"mean symmetry\",\"mean fractal dimension\",\"radius error\",\"texture error\",\"perimeter error\",\"area error\",\"smoothness error\",\"compactness error\",\"concavity error\",\"concave points error\",\"symmetry error\",\"fractal dimension error\",\"worst radius\",\"worst texture\",\"worst perimeter\",\"worst area\",\"worst smoothness\",\"worst compactness\",\"worst concavity\",\"worst concave points\",\"worst symmetry\",\"worst fractal dimension\"],\"yaxis\":\"y\",\"type\":\"bar\"},{\"alignmentgroup\":\"True\",\"hovertemplate\":\"Source=Training Data\\u003cbr\\u003eCluster=1\\u003cbr\\u003estat=%{x}\\u003cbr\\u003eFeature=%{y}\\u003cextra\\u003e\\u003c\\u002fextra\\u003e\",\"legendgroup\":\"Training Data\",\"marker\":{\"color\":\"blue\",\"pattern\":{\"shape\":\"\"}},\"name\":\"Training Data\",\"offsetgroup\":\"Training Data\",\"orientation\":\"h\",\"showlegend\":false,\"textposition\":\"auto\",\"x\":[0.07513449645101475,0.17022668255954332,0.06974716692836153,0.06023704532639079,0.18114499687403818,0.1489635084347768,0.13935419311121802,0.12326612609685607,0.1468137340036696,0.19471052685773377,0.07589504129523002,0.16846222629060156,0.06913023530946642,0.10115331042507739,0.08119403475840811,0.15509710942097216,0.1458449725439561,0.15447141967096575,0.1751938627613603,0.13261965260212047,0.05714043490864099,0.08310547097632501,0.055957883909909904,0.07427812671695105,0.12595796507006962,0.14781788343340194,0.15510431283886633,0.14708207847456417,0.13294435323550272,0.12798859030173115],\"xaxis\":\"x2\",\"y\":[\"mean radius\",\"mean texture\",\"mean perimeter\",\"mean area\",\"mean smoothness\",\"mean compactness\",\"mean concavity\",\"mean concave points\",\"mean symmetry\",\"mean fractal dimension\",\"radius error\",\"texture error\",\"perimeter error\",\"area error\",\"smoothness error\",\"compactness error\",\"concavity error\",\"concave points error\",\"symmetry error\",\"fractal dimension error\",\"worst radius\",\"worst texture\",\"worst perimeter\",\"worst area\",\"worst smoothness\",\"worst compactness\",\"worst concavity\",\"worst concave points\",\"worst symmetry\",\"worst fractal dimension\"],\"yaxis\":\"y2\",\"type\":\"bar\"},{\"alignmentgroup\":\"True\",\"hovertemplate\":\"Source=Training Data\\u003cbr\\u003eCluster=2\\u003cbr\\u003estat=%{x}\\u003cbr\\u003eFeature=%{y}\\u003cextra\\u003e\\u003c\\u002fextra\\u003e\",\"legendgroup\":\"Training Data\",\"marker\":{\"color\":\"blue\",\"pattern\":{\"shape\":\"\"}},\"name\":\"Training Data\",\"offsetgroup\":\"Training Data\",\"orientation\":\"h\",\"showlegend\":false,\"textposition\":\"auto\",\"x\":[0.09924082616418921,0.20694407387164454,0.09697352594325781,0.13823368289144294,0.18315904074163442,0.21482420996163168,0.31544721040227325,0.21939423335168978,0.17210250700985721,0.20700045183919386,0.16048822873191088,0.2180436445731413,0.15263387256195124,0.19948694605526945,0.11579656111568228,0.23205061928097975,0.2023021612378322,0.3149356181923853,0.2244350607217461,0.1755681075427614,0.1695565351150357,0.09710792746137366,0.1490027943089637,0.2030459996203979,0.17770077568251796,0.20779947057187473,0.22382841558869282,0.19623570481233626,0.1639397068888344,0.2060306435158954],\"xaxis\":\"x3\",\"y\":[\"mean radius\",\"mean texture\",\"mean perimeter\",\"mean area\",\"mean smoothness\",\"mean compactness\",\"mean concavity\",\"mean concave points\",\"mean symmetry\",\"mean fractal dimension\",\"radius error\",\"texture error\",\"perimeter error\",\"area error\",\"smoothness error\",\"compactness error\",\"concavity error\",\"concave points error\",\"symmetry error\",\"fractal dimension error\",\"worst radius\",\"worst texture\",\"worst perimeter\",\"worst area\",\"worst smoothness\",\"worst compactness\",\"worst concavity\",\"worst concave points\",\"worst symmetry\",\"worst fractal dimension\"],\"yaxis\":\"y3\",\"type\":\"bar\"},{\"alignmentgroup\":\"True\",\"hovertemplate\":\"Source=Test Data\\u003cbr\\u003eCluster=0\\u003cbr\\u003estat=%{x}\\u003cbr\\u003eFeature=%{y}\\u003cextra\\u003e\\u003c\\u002fextra\\u003e\",\"legendgroup\":\"Test Data\",\"marker\":{\"color\":\"lightblue\",\"pattern\":{\"shape\":\"\"}},\"name\":\"Test Data\",\"offsetgroup\":\"Test Data\",\"orientation\":\"h\",\"showlegend\":true,\"textposition\":\"auto\",\"x\":[0.09303114668020677,0.2405259470457593,0.10568654615282089,0.1053246694418397,0.28265467227564045,0.3207754069910523,0.24530666833739212,0.17413581068506567,0.24368437497474513,0.30060303953183165,0.13888123890945936,0.2543639944767444,0.16637979921323065,0.12765019045147907,0.2259625097587145,0.2852209286269454,0.4346035550678874,0.2521954838891976,0.27432200426838077,0.3175190281221804,0.1339828248248006,0.13471603773121613,0.09898654781787546,0.15081415647771626,0.28842888888348334,0.3336549893251844,0.31370969239081775,0.2406023697277851,0.22457700046876858,0.2786415346945181],\"xaxis\":\"x\",\"y\":[\"mean radius\",\"mean texture\",\"mean perimeter\",\"mean area\",\"mean smoothness\",\"mean compactness\",\"mean concavity\",\"mean concave points\",\"mean symmetry\",\"mean fractal dimension\",\"radius error\",\"texture error\",\"perimeter error\",\"area error\",\"smoothness error\",\"compactness error\",\"concavity error\",\"concave points error\",\"symmetry error\",\"fractal dimension error\",\"worst radius\",\"worst texture\",\"worst perimeter\",\"worst area\",\"worst smoothness\",\"worst compactness\",\"worst concavity\",\"worst concave points\",\"worst symmetry\",\"worst fractal dimension\"],\"yaxis\":\"y\",\"type\":\"bar\"},{\"alignmentgroup\":\"True\",\"hovertemplate\":\"Source=Test Data\\u003cbr\\u003eCluster=1\\u003cbr\\u003estat=%{x}\\u003cbr\\u003eFeature=%{y}\\u003cextra\\u003e\\u003c\\u002fextra\\u003e\",\"legendgroup\":\"Test Data\",\"marker\":{\"color\":\"lightblue\",\"pattern\":{\"shape\":\"\"}},\"name\":\"Test Data\",\"offsetgroup\":\"Test Data\",\"orientation\":\"h\",\"showlegend\":false,\"textposition\":\"auto\",\"x\":[0.07956204938416214,0.1875682751893816,0.07301546793670183,0.05839666963127218,0.19696338608846306,0.14287686772152045,0.13827403050438125,0.13608141406604093,0.14601330098366055,0.17270661458309475,0.0785349571880084,0.1737277114363376,0.07786418685335084,0.10239775423605564,0.09399067028095212,0.1502369470041111,0.14411791573142965,0.15848473461207208,0.1798464240507089,0.1603388467811184,0.05951334747092232,0.10513088589458945,0.05391204714537963,0.07640458159621534,0.12246092435592629,0.13932284287269095,0.15554922430474763,0.1511715138991773,0.12473251792662084,0.12640729798638192],\"xaxis\":\"x2\",\"y\":[\"mean radius\",\"mean texture\",\"mean perimeter\",\"mean area\",\"mean smoothness\",\"mean compactness\",\"mean concavity\",\"mean concave points\",\"mean symmetry\",\"mean fractal dimension\",\"radius error\",\"texture error\",\"perimeter error\",\"area error\",\"smoothness error\",\"compactness error\",\"concavity error\",\"concave points error\",\"symmetry error\",\"fractal dimension error\",\"worst radius\",\"worst texture\",\"worst perimeter\",\"worst area\",\"worst smoothness\",\"worst compactness\",\"worst concavity\",\"worst concave points\",\"worst symmetry\",\"worst fractal dimension\"],\"yaxis\":\"y2\",\"type\":\"bar\"},{\"alignmentgroup\":\"True\",\"hovertemplate\":\"Source=Test Data\\u003cbr\\u003eCluster=2\\u003cbr\\u003estat=%{x}\\u003cbr\\u003eFeature=%{y}\\u003cextra\\u003e\\u003c\\u002fextra\\u003e\",\"legendgroup\":\"Test Data\",\"marker\":{\"color\":\"lightblue\",\"pattern\":{\"shape\":\"\"}},\"name\":\"Test Data\",\"offsetgroup\":\"Test Data\",\"orientation\":\"h\",\"showlegend\":false,\"textposition\":\"auto\",\"x\":[0.12032188666961775,0.21677881615165034,0.12225169967577589,0.1584096698410451,0.16345981146912456,0.24548168339921222,0.29431826569112635,0.25045517849981314,0.1439254895061045,0.20756900129432138,0.14212583460220052,0.18054809062360153,0.15080060360037553,0.17834231867793782,0.1078073808324302,0.18761867262894194,0.2462647167217423,0.23772289718463196,0.17207244201246108,0.1968519742662525,0.15242503703994909,0.11194681231132811,0.18042063140250073,0.17917183753873459,0.16681750037822682,0.2390317014229595,0.22477968984722188,0.23391484910375188,0.13958670083553318,0.1531237625502463],\"xaxis\":\"x3\",\"y\":[\"mean radius\",\"mean texture\",\"mean perimeter\",\"mean area\",\"mean smoothness\",\"mean compactness\",\"mean concavity\",\"mean concave points\",\"mean symmetry\",\"mean fractal dimension\",\"radius error\",\"texture error\",\"perimeter error\",\"area error\",\"smoothness error\",\"compactness error\",\"concavity error\",\"concave points error\",\"symmetry error\",\"fractal dimension error\",\"worst radius\",\"worst texture\",\"worst perimeter\",\"worst area\",\"worst smoothness\",\"worst compactness\",\"worst concavity\",\"worst concave points\",\"worst symmetry\",\"worst fractal dimension\"],\"yaxis\":\"y3\",\"type\":\"bar\"},{\"alignmentgroup\":\"True\",\"hovertemplate\":\"Source=Test Data (Altered)\\u003cbr\\u003eCluster=0\\u003cbr\\u003estat=%{x}\\u003cbr\\u003eFeature=%{y}\\u003cextra\\u003e\\u003c\\u002fextra\\u003e\",\"legendgroup\":\"Test Data (Altered)\",\"marker\":{\"color\":\"orange\",\"pattern\":{\"shape\":\"\"}},\"name\":\"Test Data (Altered)\",\"offsetgroup\":\"Test Data (Altered)\",\"orientation\":\"h\",\"showlegend\":true,\"textposition\":\"auto\",\"x\":[0.2008307750460272,0.3160314361364883,0.2296300967148384,0.1528605428345977,0.41625311552973887,0.3891899874579712,0.3741336181845613,0.28723104536659066,0.33001765449265236,0.4522667007618671,0.19490673545211454,0.28564567963169474,0.19726402510929963,0.13691107437003897,0.2872467234133085,0.524360620133952,0.5681573864980477,0.3719303432326867,0.3246128587601942,0.4690621434855135,0.19601018529798703,0.2687224961250698,0.17809025925615035,0.26209764991553836,0.46492973304738,0.5882423480349305,0.5007423428704689,0.38075696579944834,0.3840917062546556,0.5507663611091019],\"xaxis\":\"x\",\"y\":[\"mean radius\",\"mean texture\",\"mean perimeter\",\"mean area\",\"mean smoothness\",\"mean compactness\",\"mean concavity\",\"mean concave points\",\"mean symmetry\",\"mean fractal dimension\",\"radius error\",\"texture error\",\"perimeter error\",\"area error\",\"smoothness error\",\"compactness error\",\"concavity error\",\"concave points error\",\"symmetry error\",\"fractal dimension error\",\"worst radius\",\"worst texture\",\"worst perimeter\",\"worst area\",\"worst smoothness\",\"worst compactness\",\"worst concavity\",\"worst concave points\",\"worst symmetry\",\"worst fractal dimension\"],\"yaxis\":\"y\",\"type\":\"bar\"},{\"alignmentgroup\":\"True\",\"hovertemplate\":\"Source=Test Data (Altered)\\u003cbr\\u003eCluster=1\\u003cbr\\u003estat=%{x}\\u003cbr\\u003eFeature=%{y}\\u003cextra\\u003e\\u003c\\u002fextra\\u003e\",\"legendgroup\":\"Test Data (Altered)\",\"marker\":{\"color\":\"orange\",\"pattern\":{\"shape\":\"\"}},\"name\":\"Test Data (Altered)\",\"offsetgroup\":\"Test Data (Altered)\",\"orientation\":\"h\",\"showlegend\":false,\"textposition\":\"auto\",\"x\":[0.21738156935184647,0.2292866008033003,0.24150194782477538,0.21804858744209754,0.2828457689226517,0.2830019135050688,0.24859889175762426,0.2682610476885723,0.19070907068249984,0.2423450468128603,0.18991454130882024,0.20558547674575056,0.18624589596517835,0.18472120099018513,0.14097125193185323,0.23290128475691138,0.23728005894109172,0.22694586303221562,0.21915504288318516,0.2261567298640894,0.24626414453768705,0.2165516213260314,0.2516334481466289,0.224370987620564,0.2564110780240582,0.24443641224119989,0.2506924497547273,0.30922908184754955,0.20816213446864995,0.20450864789502485],\"xaxis\":\"x2\",\"y\":[\"mean radius\",\"mean texture\",\"mean perimeter\",\"mean area\",\"mean smoothness\",\"mean compactness\",\"mean concavity\",\"mean concave points\",\"mean symmetry\",\"mean fractal dimension\",\"radius error\",\"texture error\",\"perimeter error\",\"area error\",\"smoothness error\",\"compactness error\",\"concavity error\",\"concave points error\",\"symmetry error\",\"fractal dimension error\",\"worst radius\",\"worst texture\",\"worst perimeter\",\"worst area\",\"worst smoothness\",\"worst compactness\",\"worst concavity\",\"worst concave points\",\"worst symmetry\",\"worst fractal dimension\"],\"yaxis\":\"y2\",\"type\":\"bar\"},{\"alignmentgroup\":\"True\",\"hovertemplate\":\"Source=Test Data (Altered)\\u003cbr\\u003eCluster=2\\u003cbr\\u003estat=%{x}\\u003cbr\\u003eFeature=%{y}\\u003cextra\\u003e\\u003c\\u002fextra\\u003e\",\"legendgroup\":\"Test Data (Altered)\",\"marker\":{\"color\":\"orange\",\"pattern\":{\"shape\":\"\"}},\"name\":\"Test Data (Altered)\",\"offsetgroup\":\"Test Data (Altered)\",\"orientation\":\"h\",\"showlegend\":false,\"textposition\":\"auto\",\"x\":[0.5476829723282076,0.24440915470630786,0.5924582865475486,0.5941998381953217,0.2804687553122899,0.39757767867321514,0.4220199714188491,0.6655084981894314,0.2509127904995667,0.33060236841652535,0.4387407052099028,0.25942732744588404,0.461289715114532,0.43128106911515807,0.14415672712981337,0.29598322789729326,0.3352215772308363,0.3145861787891978,0.24748725561288087,0.28717659164139525,0.7331795270365146,0.2023136734325237,0.6881472023758605,0.669496799167204,0.2888435153986044,0.34961768818220784,0.3839756634847233,0.46852601151243206,0.32866745931585917,0.26752317737409886],\"xaxis\":\"x3\",\"y\":[\"mean radius\",\"mean texture\",\"mean perimeter\",\"mean area\",\"mean smoothness\",\"mean compactness\",\"mean concavity\",\"mean concave points\",\"mean symmetry\",\"mean fractal dimension\",\"radius error\",\"texture error\",\"perimeter error\",\"area error\",\"smoothness error\",\"compactness error\",\"concavity error\",\"concave points error\",\"symmetry error\",\"fractal dimension error\",\"worst radius\",\"worst texture\",\"worst perimeter\",\"worst area\",\"worst smoothness\",\"worst compactness\",\"worst concavity\",\"worst concave points\",\"worst symmetry\",\"worst fractal dimension\"],\"yaxis\":\"y3\",\"type\":\"bar\"}],                        {\"template\":{\"data\":{\"histogram2dcontour\":[{\"type\":\"histogram2dcontour\",\"colorbar\":{\"outlinewidth\":0,\"ticks\":\"\"},\"colorscale\":[[0.0,\"#0d0887\"],[0.1111111111111111,\"#46039f\"],[0.2222222222222222,\"#7201a8\"],[0.3333333333333333,\"#9c179e\"],[0.4444444444444444,\"#bd3786\"],[0.5555555555555556,\"#d8576b\"],[0.6666666666666666,\"#ed7953\"],[0.7777777777777778,\"#fb9f3a\"],[0.8888888888888888,\"#fdca26\"],[1.0,\"#f0f921\"]]}],\"choropleth\":[{\"type\":\"choropleth\",\"colorbar\":{\"outlinewidth\":0,\"ticks\":\"\"}}],\"histogram2d\":[{\"type\":\"histogram2d\",\"colorbar\":{\"outlinewidth\":0,\"ticks\":\"\"},\"colorscale\":[[0.0,\"#0d0887\"],[0.1111111111111111,\"#46039f\"],[0.2222222222222222,\"#7201a8\"],[0.3333333333333333,\"#9c179e\"],[0.4444444444444444,\"#bd3786\"],[0.5555555555555556,\"#d8576b\"],[0.6666666666666666,\"#ed7953\"],[0.7777777777777778,\"#fb9f3a\"],[0.8888888888888888,\"#fdca26\"],[1.0,\"#f0f921\"]]}],\"heatmap\":[{\"type\":\"heatmap\",\"colorbar\":{\"outlinewidth\":0,\"ticks\":\"\"},\"colorscale\":[[0.0,\"#0d0887\"],[0.1111111111111111,\"#46039f\"],[0.2222222222222222,\"#7201a8\"],[0.3333333333333333,\"#9c179e\"],[0.4444444444444444,\"#bd3786\"],[0.5555555555555556,\"#d8576b\"],[0.6666666666666666,\"#ed7953\"],[0.7777777777777778,\"#fb9f3a\"],[0.8888888888888888,\"#fdca26\"],[1.0,\"#f0f921\"]]}],\"heatmapgl\":[{\"type\":\"heatmapgl\",\"colorbar\":{\"outlinewidth\":0,\"ticks\":\"\"},\"colorscale\":[[0.0,\"#0d0887\"],[0.1111111111111111,\"#46039f\"],[0.2222222222222222,\"#7201a8\"],[0.3333333333333333,\"#9c179e\"],[0.4444444444444444,\"#bd3786\"],[0.5555555555555556,\"#d8576b\"],[0.6666666666666666,\"#ed7953\"],[0.7777777777777778,\"#fb9f3a\"],[0.8888888888888888,\"#fdca26\"],[1.0,\"#f0f921\"]]}],\"contourcarpet\":[{\"type\":\"contourcarpet\",\"colorbar\":{\"outlinewidth\":0,\"ticks\":\"\"}}],\"contour\":[{\"type\":\"contour\",\"colorbar\":{\"outlinewidth\":0,\"ticks\":\"\"},\"colorscale\":[[0.0,\"#0d0887\"],[0.1111111111111111,\"#46039f\"],[0.2222222222222222,\"#7201a8\"],[0.3333333333333333,\"#9c179e\"],[0.4444444444444444,\"#bd3786\"],[0.5555555555555556,\"#d8576b\"],[0.6666666666666666,\"#ed7953\"],[0.7777777777777778,\"#fb9f3a\"],[0.8888888888888888,\"#fdca26\"],[1.0,\"#f0f921\"]]}],\"surface\":[{\"type\":\"surface\",\"colorbar\":{\"outlinewidth\":0,\"ticks\":\"\"},\"colorscale\":[[0.0,\"#0d0887\"],[0.1111111111111111,\"#46039f\"],[0.2222222222222222,\"#7201a8\"],[0.3333333333333333,\"#9c179e\"],[0.4444444444444444,\"#bd3786\"],[0.5555555555555556,\"#d8576b\"],[0.6666666666666666,\"#ed7953\"],[0.7777777777777778,\"#fb9f3a\"],[0.8888888888888888,\"#fdca26\"],[1.0,\"#f0f921\"]]}],\"mesh3d\":[{\"type\":\"mesh3d\",\"colorbar\":{\"outlinewidth\":0,\"ticks\":\"\"}}],\"scatter\":[{\"fillpattern\":{\"fillmode\":\"overlay\",\"size\":10,\"solidity\":0.2},\"type\":\"scatter\"}],\"parcoords\":[{\"type\":\"parcoords\",\"line\":{\"colorbar\":{\"outlinewidth\":0,\"ticks\":\"\"}}}],\"scatterpolargl\":[{\"type\":\"scatterpolargl\",\"marker\":{\"colorbar\":{\"outlinewidth\":0,\"ticks\":\"\"}}}],\"bar\":[{\"error_x\":{\"color\":\"#2a3f5f\"},\"error_y\":{\"color\":\"#2a3f5f\"},\"marker\":{\"line\":{\"color\":\"#E5ECF6\",\"width\":0.5},\"pattern\":{\"fillmode\":\"overlay\",\"size\":10,\"solidity\":0.2}},\"type\":\"bar\"}],\"scattergeo\":[{\"type\":\"scattergeo\",\"marker\":{\"colorbar\":{\"outlinewidth\":0,\"ticks\":\"\"}}}],\"scatterpolar\":[{\"type\":\"scatterpolar\",\"marker\":{\"colorbar\":{\"outlinewidth\":0,\"ticks\":\"\"}}}],\"histogram\":[{\"marker\":{\"pattern\":{\"fillmode\":\"overlay\",\"size\":10,\"solidity\":0.2}},\"type\":\"histogram\"}],\"scattergl\":[{\"type\":\"scattergl\",\"marker\":{\"colorbar\":{\"outlinewidth\":0,\"ticks\":\"\"}}}],\"scatter3d\":[{\"type\":\"scatter3d\",\"line\":{\"colorbar\":{\"outlinewidth\":0,\"ticks\":\"\"}},\"marker\":{\"colorbar\":{\"outlinewidth\":0,\"ticks\":\"\"}}}],\"scattermapbox\":[{\"type\":\"scattermapbox\",\"marker\":{\"colorbar\":{\"outlinewidth\":0,\"ticks\":\"\"}}}],\"scatterternary\":[{\"type\":\"scatterternary\",\"marker\":{\"colorbar\":{\"outlinewidth\":0,\"ticks\":\"\"}}}],\"scattercarpet\":[{\"type\":\"scattercarpet\",\"marker\":{\"colorbar\":{\"outlinewidth\":0,\"ticks\":\"\"}}}],\"carpet\":[{\"aaxis\":{\"endlinecolor\":\"#2a3f5f\",\"gridcolor\":\"white\",\"linecolor\":\"white\",\"minorgridcolor\":\"white\",\"startlinecolor\":\"#2a3f5f\"},\"baxis\":{\"endlinecolor\":\"#2a3f5f\",\"gridcolor\":\"white\",\"linecolor\":\"white\",\"minorgridcolor\":\"white\",\"startlinecolor\":\"#2a3f5f\"},\"type\":\"carpet\"}],\"table\":[{\"cells\":{\"fill\":{\"color\":\"#EBF0F8\"},\"line\":{\"color\":\"white\"}},\"header\":{\"fill\":{\"color\":\"#C8D4E3\"},\"line\":{\"color\":\"white\"}},\"type\":\"table\"}],\"barpolar\":[{\"marker\":{\"line\":{\"color\":\"#E5ECF6\",\"width\":0.5},\"pattern\":{\"fillmode\":\"overlay\",\"size\":10,\"solidity\":0.2}},\"type\":\"barpolar\"}],\"pie\":[{\"automargin\":true,\"type\":\"pie\"}]},\"layout\":{\"autotypenumbers\":\"strict\",\"colorway\":[\"#636efa\",\"#EF553B\",\"#00cc96\",\"#ab63fa\",\"#FFA15A\",\"#19d3f3\",\"#FF6692\",\"#B6E880\",\"#FF97FF\",\"#FECB52\"],\"font\":{\"color\":\"#2a3f5f\"},\"hovermode\":\"closest\",\"hoverlabel\":{\"align\":\"left\"},\"paper_bgcolor\":\"white\",\"plot_bgcolor\":\"#E5ECF6\",\"polar\":{\"bgcolor\":\"#E5ECF6\",\"angularaxis\":{\"gridcolor\":\"white\",\"linecolor\":\"white\",\"ticks\":\"\"},\"radialaxis\":{\"gridcolor\":\"white\",\"linecolor\":\"white\",\"ticks\":\"\"}},\"ternary\":{\"bgcolor\":\"#E5ECF6\",\"aaxis\":{\"gridcolor\":\"white\",\"linecolor\":\"white\",\"ticks\":\"\"},\"baxis\":{\"gridcolor\":\"white\",\"linecolor\":\"white\",\"ticks\":\"\"},\"caxis\":{\"gridcolor\":\"white\",\"linecolor\":\"white\",\"ticks\":\"\"}},\"coloraxis\":{\"colorbar\":{\"outlinewidth\":0,\"ticks\":\"\"}},\"colorscale\":{\"sequential\":[[0.0,\"#0d0887\"],[0.1111111111111111,\"#46039f\"],[0.2222222222222222,\"#7201a8\"],[0.3333333333333333,\"#9c179e\"],[0.4444444444444444,\"#bd3786\"],[0.5555555555555556,\"#d8576b\"],[0.6666666666666666,\"#ed7953\"],[0.7777777777777778,\"#fb9f3a\"],[0.8888888888888888,\"#fdca26\"],[1.0,\"#f0f921\"]],\"sequentialminus\":[[0.0,\"#0d0887\"],[0.1111111111111111,\"#46039f\"],[0.2222222222222222,\"#7201a8\"],[0.3333333333333333,\"#9c179e\"],[0.4444444444444444,\"#bd3786\"],[0.5555555555555556,\"#d8576b\"],[0.6666666666666666,\"#ed7953\"],[0.7777777777777778,\"#fb9f3a\"],[0.8888888888888888,\"#fdca26\"],[1.0,\"#f0f921\"]],\"diverging\":[[0,\"#8e0152\"],[0.1,\"#c51b7d\"],[0.2,\"#de77ae\"],[0.3,\"#f1b6da\"],[0.4,\"#fde0ef\"],[0.5,\"#f7f7f7\"],[0.6,\"#e6f5d0\"],[0.7,\"#b8e186\"],[0.8,\"#7fbc41\"],[0.9,\"#4d9221\"],[1,\"#276419\"]]},\"xaxis\":{\"gridcolor\":\"white\",\"linecolor\":\"white\",\"ticks\":\"\",\"title\":{\"standoff\":15},\"zerolinecolor\":\"white\",\"automargin\":true,\"zerolinewidth\":2},\"yaxis\":{\"gridcolor\":\"white\",\"linecolor\":\"white\",\"ticks\":\"\",\"title\":{\"standoff\":15},\"zerolinecolor\":\"white\",\"automargin\":true,\"zerolinewidth\":2},\"scene\":{\"xaxis\":{\"backgroundcolor\":\"#E5ECF6\",\"gridcolor\":\"white\",\"linecolor\":\"white\",\"showbackground\":true,\"ticks\":\"\",\"zerolinecolor\":\"white\",\"gridwidth\":2},\"yaxis\":{\"backgroundcolor\":\"#E5ECF6\",\"gridcolor\":\"white\",\"linecolor\":\"white\",\"showbackground\":true,\"ticks\":\"\",\"zerolinecolor\":\"white\",\"gridwidth\":2},\"zaxis\":{\"backgroundcolor\":\"#E5ECF6\",\"gridcolor\":\"white\",\"linecolor\":\"white\",\"showbackground\":true,\"ticks\":\"\",\"zerolinecolor\":\"white\",\"gridwidth\":2}},\"shapedefaults\":{\"line\":{\"color\":\"#2a3f5f\"}},\"annotationdefaults\":{\"arrowcolor\":\"#2a3f5f\",\"arrowhead\":0,\"arrowwidth\":1},\"geo\":{\"bgcolor\":\"white\",\"landcolor\":\"#E5ECF6\",\"subunitcolor\":\"white\",\"showland\":true,\"showlakes\":true,\"lakecolor\":\"white\"},\"title\":{\"x\":0.05},\"mapbox\":{\"style\":\"light\"}}},\"xaxis\":{\"anchor\":\"y\",\"domain\":[0.0,0.31999999999999995],\"title\":{\"text\":\"Mean Squared Error\"}},\"yaxis\":{\"anchor\":\"x\",\"domain\":[0.0,1.0],\"title\":{\"text\":\"Feature ranked by Model Importance\"},\"categoryorder\":\"array\",\"categoryarray\":[\"mean concave points\",\"worst area\",\"worst perimeter\",\"worst concave points\",\"worst radius\",\"worst fractal dimension\",\"worst texture\",\"mean concavity\",\"worst compactness\",\"radius error\",\"mean texture\",\"perimeter error\",\"worst symmetry\",\"fractal dimension error\",\"worst concavity\",\"texture error\",\"mean area\",\"mean symmetry\",\"mean perimeter\",\"mean smoothness\",\"mean compactness\",\"smoothness error\",\"mean fractal dimension\",\"area error\",\"compactness error\",\"concavity error\",\"concave points error\",\"symmetry error\",\"worst smoothness\",\"mean radius\"]},\"xaxis2\":{\"anchor\":\"y2\",\"domain\":[0.33999999999999997,0.6599999999999999],\"matches\":\"x\",\"title\":{\"text\":\"Mean Squared Error\"}},\"yaxis2\":{\"anchor\":\"x2\",\"domain\":[0.0,1.0],\"matches\":\"y\",\"showticklabels\":false,\"title\":{\"text\":\"Feature ranked by Model Importance\"}},\"xaxis3\":{\"anchor\":\"y3\",\"domain\":[0.6799999999999999,0.9999999999999999],\"matches\":\"x\",\"title\":{\"text\":\"Mean Squared Error\"}},\"yaxis3\":{\"anchor\":\"x3\",\"domain\":[0.0,1.0],\"matches\":\"y\",\"showticklabels\":false,\"title\":{\"text\":\"Feature ranked by Model Importance\"}},\"annotations\":[{\"font\":{},\"showarrow\":false,\"text\":\"Cluster=0\",\"x\":0.15999999999999998,\"xanchor\":\"center\",\"xref\":\"paper\",\"y\":1.0,\"yanchor\":\"bottom\",\"yref\":\"paper\"},{\"font\":{},\"showarrow\":false,\"text\":\"Cluster=1\",\"x\":0.49999999999999994,\"xanchor\":\"center\",\"xref\":\"paper\",\"y\":1.0,\"yanchor\":\"bottom\",\"yref\":\"paper\"},{\"font\":{},\"showarrow\":false,\"text\":\"Cluster=2\",\"x\":0.8399999999999999,\"xanchor\":\"center\",\"xref\":\"paper\",\"y\":1.0,\"yanchor\":\"bottom\",\"yref\":\"paper\"}],\"legend\":{\"title\":{\"text\":\"Source\"},\"tracegroupgap\":0},\"title\":{\"text\":\"Error between Features and \\u003cbr\\u003e PCA Inverse Representation of Features\"},\"barmode\":\"group\",\"height\":600,\"width\":1000},                        {\"responsive\": true}                    ).then(function(){\n",
       "                            \n",
       "var gd = document.getElementById('d9613921-9ce4-4278-881b-b50ea348d24f');\n",
       "var x = new MutationObserver(function (mutations, observer) {{\n",
       "        var display = window.getComputedStyle(gd).display;\n",
       "        if (!display || display === 'none') {{\n",
       "            console.log([gd, 'removed!']);\n",
       "            Plotly.purge(gd);\n",
       "            observer.disconnect();\n",
       "        }}\n",
       "}});\n",
       "\n",
       "// Listen for the removal of the full notebook cells\n",
       "var notebookContainer = gd.closest('#notebook-container');\n",
       "if (notebookContainer) {{\n",
       "    x.observe(notebookContainer, {childList: true});\n",
       "}}\n",
       "\n",
       "// Listen for the clearing of the current output cell\n",
       "var outputEl = gd.closest('.output');\n",
       "if (outputEl) {{\n",
       "    x.observe(outputEl, {childList: true});\n",
       "}}\n",
       "\n",
       "                        })                };                });            </script>        </div>"
      ]
     },
     "metadata": {},
     "output_type": "display_data"
    }
   ],
   "source": [
    "\n",
    "def mae_all(arr1, arr2, names=X_test.columns):\n",
    "    s = []\n",
    "    p = []\n",
    "    for i in np.arange(arr1.shape[1]):\n",
    "        st = mean_absolute_error(arr1[:, i], arr2[:, i])\n",
    "        pval = np.nan\n",
    "        s.append(st)\n",
    "        p.append(pval)\n",
    "    return pd.DataFrame({'stat': s, 'pval': p}, index=names)\n",
    "\n",
    "results_list = []\n",
    "for c in np.unique(train_clusters):    \n",
    "\n",
    "    train_anova_df = mae_all(X_train_scaled[train_clusters==c,:], train_comps_inv[train_clusters==c,:], names=X_test.columns)\n",
    "    train_anova_df.loc[:, 'Source'] = 'Training Data'\n",
    "    test_anova_df = mae_all(X_test_scaled[test_clusters==c,:], test_comps_inv[test_clusters==c,:],names=X_test.columns)\n",
    "    test_anova_df.loc[:, 'Source'] = 'Test Data'\n",
    "    test_altered_anova_df = mae_all(X_test_altered_imputed_scaled[test_clusters==c,:],\n",
    "                                            test_altered_comps_inv[test_clusters==c,:],names=X_test.columns) \n",
    "    test_altered_anova_df.loc[:, 'Source'] = 'Test Data (Altered)'\n",
    "    combined_anova_df = pd.concat([train_anova_df, test_anova_df, test_altered_anova_df], axis=0)\n",
    "    combined_anova_df.loc[:, \"Cluster\"] = c\n",
    "    results_list.append(combined_anova_df)\n",
    "    \n",
    "to_plot = pd.concat(results_list, axis=0)\n",
    "to_plot.index.name = \"Feature\"\n",
    "\n",
    "\n",
    "\n",
    "var_explained = decomp_model.explained_variance_ratio_.sum()\n",
    "print(F\"Percentage of Variance Explained by PCA {np.round(var_explained,3) *100 }%\")\n",
    "\n",
    "fig = px.bar(to_plot.reset_index(), y='Feature', x='stat', color='Source', facet_col='Cluster', barmode=\"group\",\n",
    "            width=1000, height=600, \n",
    "             title='Error between Features and <br> PCA Inverse Representation of Features', color_discrete_map=source_dict)\n",
    "fig.update_layout(yaxis={'categoryorder':'array', 'categoryarray':importance.index[::-1], })\n",
    "\n",
    "fig.update_xaxes(title_text='Mean Squared Error')\n",
    "fig.update_yaxes(title_text='Feature ranked by Model Importance')\n",
    "fig.show()\n"
   ]
  },
  {
   "cell_type": "code",
   "execution_count": 17,
   "id": "553fa4d7",
   "metadata": {},
   "outputs": [
    {
     "data": {
      "text/html": [
       "<div>\n",
       "<style scoped>\n",
       "    .dataframe tbody tr th:only-of-type {\n",
       "        vertical-align: middle;\n",
       "    }\n",
       "\n",
       "    .dataframe tbody tr th {\n",
       "        vertical-align: top;\n",
       "    }\n",
       "\n",
       "    .dataframe thead th {\n",
       "        text-align: right;\n",
       "    }\n",
       "</style>\n",
       "<table border=\"1\" class=\"dataframe\">\n",
       "  <thead>\n",
       "    <tr style=\"text-align: right;\">\n",
       "      <th></th>\n",
       "      <th>mae</th>\n",
       "      <th>Source</th>\n",
       "      <th>Cluster</th>\n",
       "    </tr>\n",
       "    <tr>\n",
       "      <th>Feature</th>\n",
       "      <th></th>\n",
       "      <th></th>\n",
       "      <th></th>\n",
       "    </tr>\n",
       "  </thead>\n",
       "  <tbody>\n",
       "    <tr>\n",
       "      <th>mean radius</th>\n",
       "      <td>0.078165</td>\n",
       "      <td>Training Data</td>\n",
       "      <td>0</td>\n",
       "    </tr>\n",
       "    <tr>\n",
       "      <th>mean texture</th>\n",
       "      <td>0.183360</td>\n",
       "      <td>Training Data</td>\n",
       "      <td>0</td>\n",
       "    </tr>\n",
       "    <tr>\n",
       "      <th>mean perimeter</th>\n",
       "      <td>0.074717</td>\n",
       "      <td>Training Data</td>\n",
       "      <td>0</td>\n",
       "    </tr>\n",
       "    <tr>\n",
       "      <th>mean area</th>\n",
       "      <td>0.083970</td>\n",
       "      <td>Training Data</td>\n",
       "      <td>0</td>\n",
       "    </tr>\n",
       "    <tr>\n",
       "      <th>mean smoothness</th>\n",
       "      <td>0.282954</td>\n",
       "      <td>Training Data</td>\n",
       "      <td>0</td>\n",
       "    </tr>\n",
       "    <tr>\n",
       "      <th>...</th>\n",
       "      <td>...</td>\n",
       "      <td>...</td>\n",
       "      <td>...</td>\n",
       "    </tr>\n",
       "    <tr>\n",
       "      <th>worst compactness</th>\n",
       "      <td>0.349618</td>\n",
       "      <td>Test Data (Altered)</td>\n",
       "      <td>2</td>\n",
       "    </tr>\n",
       "    <tr>\n",
       "      <th>worst concavity</th>\n",
       "      <td>0.383976</td>\n",
       "      <td>Test Data (Altered)</td>\n",
       "      <td>2</td>\n",
       "    </tr>\n",
       "    <tr>\n",
       "      <th>worst concave points</th>\n",
       "      <td>0.468526</td>\n",
       "      <td>Test Data (Altered)</td>\n",
       "      <td>2</td>\n",
       "    </tr>\n",
       "    <tr>\n",
       "      <th>worst symmetry</th>\n",
       "      <td>0.328667</td>\n",
       "      <td>Test Data (Altered)</td>\n",
       "      <td>2</td>\n",
       "    </tr>\n",
       "    <tr>\n",
       "      <th>worst fractal dimension</th>\n",
       "      <td>0.267523</td>\n",
       "      <td>Test Data (Altered)</td>\n",
       "      <td>2</td>\n",
       "    </tr>\n",
       "  </tbody>\n",
       "</table>\n",
       "<p>270 rows × 3 columns</p>\n",
       "</div>"
      ],
      "text/plain": [
       "                              mae               Source  Cluster\n",
       "Feature                                                        \n",
       "mean radius              0.078165        Training Data        0\n",
       "mean texture             0.183360        Training Data        0\n",
       "mean perimeter           0.074717        Training Data        0\n",
       "mean area                0.083970        Training Data        0\n",
       "mean smoothness          0.282954        Training Data        0\n",
       "...                           ...                  ...      ...\n",
       "worst compactness        0.349618  Test Data (Altered)        2\n",
       "worst concavity          0.383976  Test Data (Altered)        2\n",
       "worst concave points     0.468526  Test Data (Altered)        2\n",
       "worst symmetry           0.328667  Test Data (Altered)        2\n",
       "worst fractal dimension  0.267523  Test Data (Altered)        2\n",
       "\n",
       "[270 rows x 3 columns]"
      ]
     },
     "execution_count": 17,
     "metadata": {},
     "output_type": "execute_result"
    }
   ],
   "source": [
    "to_plot.rename({'stat' :'mae'}, axis=1).drop('pval', axis=1)"
   ]
  },
  {
   "cell_type": "code",
   "execution_count": null,
   "id": "663a8289",
   "metadata": {},
   "outputs": [],
   "source": []
  },
  {
   "cell_type": "code",
   "execution_count": null,
   "id": "e0555c4a",
   "metadata": {},
   "outputs": [],
   "source": []
  },
  {
   "cell_type": "code",
   "execution_count": 18,
   "id": "e713f1b1",
   "metadata": {},
   "outputs": [],
   "source": [
    "train_df = X_train.copy()\n",
    "train_df.loc[:, 'Source'] = 'Training Data'\n",
    "train_df.loc[:, 'y'] = y_train\n",
    "train_df.loc[:, 'pred'] = p_prob_train\n",
    "train_df.loc[:, 'pred_label']= p_train\n",
    "train_df.loc[:, 'Cluster'] = train_clusters\n",
    "\n",
    "\n",
    "test_df = X_test.copy()\n",
    "test_df.loc[:, 'Source'] = 'Test Data'\n",
    "test_df.loc[:, 'y'] = y_test\n",
    "test_df.loc[:, 'pred'] = p_prob_test\n",
    "test_df.loc[:, 'pred_label']= p_test\n",
    "test_df.loc[:, 'Cluster'] = test_clusters\n",
    "\n",
    "\n",
    "test_altered_df = X_test.copy()\n",
    "test_altered_df.loc[:, 'Source'] = 'Test Data (Altered)'\n",
    "test_altered_df.loc[:, 'y'] = y_test\n",
    "test_altered_df.loc[:, 'pred'] = estimator.predict_proba(X_test_altered_imputed.values)[:, 1]\n",
    "test_altered_df.loc[:, 'pred_label']= estimator.predict(X_test_altered_imputed.values)\n",
    "test_altered_df.loc[:, 'Cluster'] = test_clusters\n",
    "\n",
    "\n",
    "to_plot = pd.concat([train_df, test_df, test_altered_df], axis=0)\n",
    "to_plot.loc[:, 'Source_Cluster'] =to_plot.Source.astype(str) + ' Cluster: '+ to_plot.Cluster.astype(str)"
   ]
  },
  {
   "cell_type": "code",
   "execution_count": 19,
   "id": "39a405b5",
   "metadata": {},
   "outputs": [
    {
     "data": {
      "text/html": [
       "<div>\n",
       "<style scoped>\n",
       "    .dataframe tbody tr th:only-of-type {\n",
       "        vertical-align: middle;\n",
       "    }\n",
       "\n",
       "    .dataframe tbody tr th {\n",
       "        vertical-align: top;\n",
       "    }\n",
       "\n",
       "    .dataframe thead th {\n",
       "        text-align: right;\n",
       "    }\n",
       "</style>\n",
       "<table border=\"1\" class=\"dataframe\">\n",
       "  <thead>\n",
       "    <tr style=\"text-align: right;\">\n",
       "      <th></th>\n",
       "      <th>index</th>\n",
       "      <th>auc</th>\n",
       "      <th>f1</th>\n",
       "      <th>precision</th>\n",
       "      <th>recall</th>\n",
       "      <th>accuracy</th>\n",
       "      <th>balanced_acc</th>\n",
       "      <th>TP</th>\n",
       "      <th>FP</th>\n",
       "      <th>TN</th>\n",
       "      <th>FN</th>\n",
       "      <th>weight</th>\n",
       "    </tr>\n",
       "  </thead>\n",
       "  <tbody>\n",
       "    <tr>\n",
       "      <th>0</th>\n",
       "      <td>MicroAverage</td>\n",
       "      <td>0.987</td>\n",
       "      <td>0.960</td>\n",
       "      <td>0.967</td>\n",
       "      <td>0.952</td>\n",
       "      <td>0.947</td>\n",
       "      <td>0.945</td>\n",
       "      <td>178.0</td>\n",
       "      <td>6.0</td>\n",
       "      <td>92.0</td>\n",
       "      <td>9.0</td>\n",
       "      <td>285.0</td>\n",
       "    </tr>\n",
       "    <tr>\n",
       "      <th>1</th>\n",
       "      <td>MacroAverage</td>\n",
       "      <td>0.960</td>\n",
       "      <td>0.903</td>\n",
       "      <td>0.954</td>\n",
       "      <td>0.863</td>\n",
       "      <td>0.916</td>\n",
       "      <td>0.834</td>\n",
       "      <td>89.0</td>\n",
       "      <td>3.0</td>\n",
       "      <td>19.5</td>\n",
       "      <td>4.5</td>\n",
       "      <td>116.0</td>\n",
       "    </tr>\n",
       "  </tbody>\n",
       "</table>\n",
       "</div>"
      ],
      "text/plain": [
       "          index    auc     f1  precision  recall  accuracy  balanced_acc  \\\n",
       "0  MicroAverage  0.987  0.960      0.967   0.952     0.947         0.945   \n",
       "1  MacroAverage  0.960  0.903      0.954   0.863     0.916         0.834   \n",
       "\n",
       "      TP   FP    TN   FN  weight  \n",
       "0  178.0  6.0  92.0  9.0   285.0  \n",
       "1   89.0  3.0  19.5  4.5   116.0  "
      ]
     },
     "execution_count": 19,
     "metadata": {},
     "output_type": "execute_result"
    }
   ],
   "source": [
    "def update_performance_table(df, label_col, prediction_col, group, threshold):\n",
    "    results = []\n",
    "    y_true = df.loc[:, label_col]\n",
    "    y_pred = df.loc[:, prediction_col]\n",
    "    y_pred_label = pd.Series(y_pred> threshold).replace({True:1, False:0})\n",
    "    groups =  np.unique(df.loc[:, group])\n",
    "    groups_evaluated = []\n",
    "    for g in groups:\n",
    "        index = df.loc[:, group] == g\n",
    "        y_true_temp = y_true.loc[index]\n",
    "        y_pred_temp = y_pred.loc[index]\n",
    "        y_pred_label_temp = y_pred_label.loc[index]\n",
    "        try:\n",
    "            tn, fp, fn, tp = confusion_matrix(y_true_temp, y_pred_label_temp).ravel()\n",
    "\n",
    "            d = {'auc':  roc_auc_score(y_true_temp, y_pred_temp),\n",
    "                 'f1' : f1_score(y_true_temp,y_pred_label_temp),\n",
    "                 'precision' : precision_score(y_true_temp,y_pred_label_temp),\n",
    "                 'recall': recall_score(y_true_temp, y_pred_label_temp),\n",
    "                 'accuracy' : accuracy_score(y_true_temp, y_pred_label_temp),\n",
    "                 'balanced_acc': balanced_accuracy_score(y_true_temp, y_pred_label_temp),\n",
    "                 'TP': tp,\n",
    "                 'FP': fp,\n",
    "                 'TN': tn,\n",
    "                 'FN': fn,\n",
    "                 'weight': y_true_temp.shape[0],\n",
    "\n",
    "                 }\n",
    "            groups_evaluated.append(g)\n",
    "            results.append(d)\n",
    "        except:\n",
    "            pass\n",
    "\n",
    "    macro_avg = pd.DataFrame(results, index=groups_evaluated).mean(axis=0)\n",
    "    tn, fp, fn, tp = confusion_matrix(y_true, y_pred_label).ravel()\n",
    "    d = {'auc': roc_auc_score(y_true, y_pred),\n",
    "         'f1': f1_score(y_true, y_pred_label),\n",
    "         'precision': precision_score(y_true, y_pred_label),\n",
    "         'recall': recall_score(y_true, y_pred_label),\n",
    "         'accuracy': accuracy_score(y_true, y_pred_label),\n",
    "         'balanced_acc': balanced_accuracy_score(y_true, y_pred_label),\n",
    "         'TP': tp,\n",
    "         'FP': fp,\n",
    "         'TN': tn,\n",
    "         'FN': fn,\n",
    "         'weight': y_true.shape[0],\n",
    "\n",
    "         }\n",
    "    output = pd.DataFrame([d,  macro_avg.to_dict()], index=['MicroAverage', 'MacroAverage'\n",
    "                           ]).round(3).reset_index()\n",
    "\n",
    "    return output\n",
    "\n",
    "update_performance_table(test_altered_df, 'y', 'pred' , 'Cluster', threshold=y.mean())"
   ]
  },
  {
   "cell_type": "code",
   "execution_count": null,
   "id": "9706f2f6",
   "metadata": {},
   "outputs": [],
   "source": []
  },
  {
   "cell_type": "code",
   "execution_count": 20,
   "id": "c9fa24b9",
   "metadata": {
    "scrolled": true
   },
   "outputs": [
    {
     "data": {
      "application/vnd.plotly.v1+json": {
       "config": {
        "plotlyServerURL": "https://plot.ly"
       },
       "data": [
        {
         "alignmentgroup": "True",
         "hovertemplate": "Source=Training Data<br>y=1<br>Cluster=%{x}<br>pred=%{y}<extra></extra>",
         "legendgroup": "Training Data",
         "marker": {
          "color": "blue"
         },
         "name": "Training Data",
         "notched": false,
         "offsetgroup": "Training Data",
         "orientation": "v",
         "showlegend": true,
         "type": "box",
         "x": [
          1,
          1,
          1,
          1,
          1,
          1,
          1,
          1,
          1,
          1,
          1,
          0,
          1,
          1,
          1,
          0,
          1,
          1,
          0,
          1,
          0,
          1,
          1,
          1,
          1,
          1,
          1,
          1,
          1,
          1,
          1,
          0,
          1,
          1,
          1,
          1,
          1,
          1,
          0,
          0,
          1,
          1,
          1,
          1,
          0,
          1,
          1,
          1,
          1,
          0,
          1,
          1,
          0,
          1,
          1,
          1,
          1,
          1,
          1,
          0,
          1,
          1,
          1,
          1,
          1,
          1,
          0,
          1,
          1,
          1,
          1,
          1,
          0,
          1,
          1,
          1,
          1,
          1,
          1,
          1,
          1,
          1,
          1,
          1,
          1,
          1,
          1,
          1,
          1,
          1,
          1,
          1,
          1,
          1,
          1,
          1,
          1,
          1,
          1,
          1,
          1,
          1,
          1,
          1,
          1,
          0,
          1,
          1,
          0,
          1,
          1,
          1,
          1,
          1,
          0,
          1,
          1,
          1,
          1,
          1,
          0,
          1,
          1,
          1,
          1,
          1,
          0,
          1,
          1,
          1,
          1,
          1,
          1,
          1,
          1,
          1,
          1,
          1,
          1,
          1,
          1,
          1,
          1,
          1,
          1,
          1,
          0,
          1,
          1,
          1,
          1,
          1,
          1,
          1,
          1,
          1,
          1,
          1,
          1,
          1,
          1,
          1,
          1,
          1,
          1,
          1,
          0,
          1,
          1,
          1
         ],
         "x0": " ",
         "xaxis": "x",
         "y": [
          0.9946746368836308,
          0.9946746368836308,
          0.9946746368836308,
          0.9946746368836308,
          0.9946746368836308,
          0.9946746368836308,
          0.48,
          0.7610805827033008,
          0.9946746368836308,
          0.9946746368836308,
          0.9946746368836308,
          0.9960539472284584,
          0.7960539472284583,
          0.9946746368836308,
          0.9946746368836308,
          0.9960539472284584,
          0.9946746368836308,
          0.9946746368836308,
          0.996178396282127,
          0.852156862745098,
          0.852156862745098,
          0.9598147599184907,
          0.8960539472284583,
          0.9946746368836308,
          0.9946746368836308,
          0.8746746368836307,
          0.9946746368836308,
          0.9946746368836308,
          0.8746746368836307,
          0.9946746368836308,
          0.525,
          0.8688727904955085,
          0.9946746368836308,
          0.9946746368836308,
          0.7307142857142856,
          0.9946746368836308,
          0.9946746368836308,
          0.9946746368836308,
          0.7588235294117647,
          0.7960539472284583,
          0.9946746368836308,
          0.9598147599184907,
          0.9946746368836308,
          0.9598147599184907,
          0.3021978021978022,
          0.8746746368836307,
          0.9598147599184907,
          0.9946746368836308,
          0.9946746368836308,
          0.8688727904955085,
          0.9946746368836308,
          0.9946746368836308,
          0.996178396282127,
          0.8746746368836307,
          0.9946746368836308,
          0.9598147599184907,
          0.9946746368836308,
          0.9946746368836308,
          0.9946746368836308,
          0.4295034079844206,
          0.9946746368836308,
          0.9598147599184907,
          0.9588235294117646,
          0.9598147599184907,
          0.9946746368836308,
          0.9946746368836308,
          0.7283269373961854,
          0.9946746368836308,
          0.9598147599184907,
          0.225,
          0.852156862745098,
          0.8030340557275542,
          0.8688727904955085,
          0.852156862745098,
          0.9946746368836308,
          0.9946746368836308,
          0.9946746368836308,
          0.9946746368836308,
          0.9946746368836308,
          0.852156862745098,
          0.9946746368836308,
          0.9946746368836308,
          0.9946746368836308,
          0.9946746368836308,
          0.9211940702633182,
          0.9946746368836308,
          0.9598147599184907,
          0.996178396282127,
          0.9946746368836308,
          0.9946746368836308,
          0.9946746368836308,
          0.9946746368836308,
          0.9946746368836308,
          0.9946746368836308,
          0.9960539472284584,
          0.9946746368836308,
          0.9946746368836308,
          0.9946746368836308,
          0.9946746368836308,
          0.5707142857142856,
          0.9598147599184907,
          0.9946746368836308,
          0.9946746368836308,
          0.9946746368836308,
          0.996178396282127,
          0.9960539472284584,
          0.9946746368836308,
          0.9946746368836308,
          0.8573197700132684,
          0.9598147599184907,
          0.9946746368836308,
          0.9946746368836308,
          0.9946746368836308,
          0.9946746368836308,
          0.9946746368836308,
          0.9946746368836308,
          0.9946746368836308,
          0.9946746368836308,
          0.9946746368836308,
          0.9946746368836308,
          0.996178396282127,
          0.9946746368836308,
          0.9598147599184907,
          0.9598147599184907,
          0.9946746368836308,
          0.9946746368836308,
          0.9946746368836308,
          0.9946746368836308,
          0.9598147599184907,
          0.9946746368836308,
          0.9946746368836308,
          0.852156862745098,
          0.9946746368836308,
          0.9946746368836308,
          0.9946746368836308,
          0.845,
          0.9598147599184907,
          0.9946746368836308,
          0.9946746368836308,
          0.9946746368836308,
          0.8746746368836307,
          0.9946746368836308,
          0.9946746368836308,
          0.9946746368836308,
          0.6599999999999999,
          0.9598147599184907,
          0.8269476270513578,
          0.9598147599184907,
          0.9946746368836308,
          0.9946746368836308,
          0.996178396282127,
          0.9946746368836308,
          0.8688727904955085,
          0.9946746368836308,
          0.9946746368836308,
          0.9598147599184907,
          0.9946746368836308,
          0.9946746368836308,
          0.5971169302566761,
          0.852156862745098,
          0.3657142857142857,
          0.9946746368836308,
          0.9946746368836308,
          0.9598147599184907,
          0.9946746368836308,
          0.9946746368836308,
          0.996178396282127,
          0.9946746368836308,
          0.9946746368836308,
          0.9946746368836308
         ],
         "y0": " ",
         "yaxis": "y"
        },
        {
         "alignmentgroup": "True",
         "hovertemplate": "Source=Training Data<br>y=0<br>Cluster=%{x}<br>pred=%{y}<extra></extra>",
         "legendgroup": "Training Data",
         "marker": {
          "color": "blue"
         },
         "name": "Training Data",
         "notched": false,
         "offsetgroup": "Training Data",
         "orientation": "v",
         "showlegend": false,
         "type": "box",
         "x": [
          2,
          1,
          0,
          0,
          2,
          2,
          0,
          2,
          1,
          1,
          1,
          2,
          0,
          2,
          2,
          2,
          2,
          2,
          2,
          2,
          2,
          2,
          2,
          2,
          2,
          0,
          2,
          2,
          2,
          1,
          2,
          2,
          2,
          2,
          2,
          2,
          2,
          2,
          2,
          2,
          0,
          1,
          0,
          0,
          2,
          1,
          2,
          2,
          0,
          2,
          0,
          0,
          0,
          0,
          0,
          2,
          2,
          2,
          2,
          0,
          1,
          0,
          1,
          0,
          0,
          2,
          2,
          2,
          2,
          0,
          2,
          2,
          2,
          2,
          0,
          1,
          0,
          0,
          2,
          0,
          2,
          1,
          0,
          2,
          2,
          1,
          2,
          2,
          2,
          2,
          2,
          0,
          0,
          0,
          0,
          2,
          2,
          1,
          0,
          2,
          1,
          2,
          1,
          2,
          2,
          1,
          2,
          0,
          2,
          2,
          0,
          0,
          2,
          0
         ],
         "x0": " ",
         "xaxis": "x2",
         "y": [
          0,
          0.5657142857142856,
          0,
          0,
          0,
          0,
          0,
          0,
          0,
          0.4771169302566761,
          0.205,
          0,
          0.1021978021978022,
          0,
          0,
          0,
          0,
          0,
          0,
          0,
          0,
          0,
          0,
          0,
          0,
          0,
          0,
          0,
          0,
          0.3707142857142857,
          0,
          0,
          0,
          0,
          0,
          0,
          0,
          0,
          0,
          0,
          0,
          0.34791208791208794,
          0,
          0,
          0,
          0,
          0,
          0,
          0,
          0,
          0,
          0,
          0.22950340798442062,
          0,
          0,
          0,
          0,
          0.1,
          0,
          0,
          0.652156862745098,
          0,
          0.5657142857142856,
          0.1021978021978022,
          0.1021978021978022,
          0,
          0,
          0,
          0,
          0,
          0,
          0,
          0,
          0,
          0,
          0.9598147599184907,
          0.1021978021978022,
          0.20476190476190476,
          0,
          0.1021978021978022,
          0,
          0.7681741787624141,
          0.1021978021978022,
          0,
          0,
          0.2,
          0.1,
          0,
          0,
          0,
          0.1,
          0,
          0.1021978021978022,
          0,
          0.20476190476190476,
          0,
          0,
          0.27999999999999997,
          0,
          0,
          0.29333333333333333,
          0,
          0.41833333333333333,
          0,
          0,
          0.5224598930481283,
          0,
          0.29333333333333333,
          0,
          0,
          0,
          0,
          0,
          0
         ],
         "y0": " ",
         "yaxis": "y2"
        },
        {
         "alignmentgroup": "True",
         "hovertemplate": "Source=Test Data<br>y=1<br>Cluster=%{x}<br>pred=%{y}<extra></extra>",
         "legendgroup": "Test Data",
         "marker": {
          "color": "lightblue"
         },
         "name": "Test Data",
         "notched": false,
         "offsetgroup": "Test Data",
         "orientation": "v",
         "showlegend": true,
         "type": "box",
         "x": [
          1,
          1,
          1,
          0,
          1,
          1,
          1,
          1,
          1,
          1,
          1,
          1,
          1,
          1,
          1,
          1,
          1,
          1,
          1,
          1,
          1,
          1,
          1,
          1,
          1,
          1,
          1,
          1,
          1,
          1,
          1,
          0,
          1,
          1,
          1,
          0,
          0,
          0,
          1,
          0,
          1,
          1,
          1,
          1,
          1,
          1,
          1,
          1,
          1,
          1,
          1,
          1,
          1,
          1,
          1,
          1,
          1,
          1,
          1,
          1,
          1,
          1,
          1,
          1,
          1,
          1,
          1,
          1,
          1,
          1,
          1,
          0,
          1,
          1,
          1,
          0,
          1,
          1,
          1,
          1,
          1,
          1,
          1,
          1,
          1,
          1,
          0,
          1,
          1,
          1,
          1,
          1,
          1,
          1,
          1,
          1,
          1,
          1,
          1,
          1,
          1,
          1,
          1,
          1,
          1,
          1,
          0,
          0,
          1,
          1,
          0,
          1,
          1,
          1,
          1,
          1,
          1,
          1,
          1,
          0,
          1,
          1,
          1,
          1,
          1,
          1,
          1,
          1,
          1,
          1,
          0,
          1,
          1,
          1,
          1,
          1,
          1,
          0,
          1,
          0,
          1,
          1,
          1,
          1,
          1,
          1,
          1,
          1,
          1,
          1,
          1,
          1,
          1,
          1,
          1,
          1,
          1,
          1,
          1,
          1,
          1,
          1,
          1,
          1,
          1,
          0,
          1,
          1,
          1,
          1,
          1,
          1,
          1,
          1,
          1,
          0,
          1,
          1,
          1,
          1,
          0,
          0,
          1,
          1,
          1,
          1,
          1
         ],
         "x0": " ",
         "xaxis": "x",
         "y": [
          0.9946746368836308,
          0.9946746368836308,
          0.9946746368836308,
          0.3021978021978022,
          0.9946746368836308,
          0.9598147599184907,
          0.8030340557275542,
          0.9946746368836308,
          0.9946746368836308,
          0.9946746368836308,
          0.9946746368836308,
          0.9946746368836308,
          0.9946746368836308,
          0.9598147599184907,
          0.8960539472284583,
          0.9946746368836308,
          0.9598147599184907,
          0.9946746368836308,
          0.9598147599184907,
          0.9946746368836308,
          0.5971169302566761,
          0.9559404596684409,
          0.9946746368836308,
          0.9946746368836308,
          0.9946746368836308,
          0.652156862745098,
          0.9946746368836308,
          0.9946746368836308,
          0.9946746368836308,
          0.49849624060150377,
          0.9946746368836308,
          0.9946746368836308,
          0.9598147599184907,
          0.9946746368836308,
          0.9946746368836308,
          0.6996420212647393,
          0.8960539472284583,
          0.996178396282127,
          0.9946746368836308,
          0.996178396282127,
          0.9946746368836308,
          0.9946746368836308,
          0.9598147599184907,
          0.9946746368836308,
          0.9598147599184907,
          0.9946746368836308,
          0.9946746368836308,
          0.9946746368836308,
          0.996178396282127,
          0.9960539472284584,
          0.9946746368836308,
          0.9946746368836308,
          0.9960539472284584,
          0.9946746368836308,
          0.9598147599184907,
          0.9946746368836308,
          0.9946746368836308,
          0.6815653931861517,
          0.692156862745098,
          0.6761783962821271,
          0.9946746368836308,
          0.9946746368836308,
          0.9946746368836308,
          0.9946746368836308,
          0.9598147599184907,
          0.9946746368836308,
          0.9598147599184907,
          0.7584962406015038,
          0.7378711484593837,
          0.9946746368836308,
          0.6824598930481284,
          0.6700492610837439,
          0.9946746368836308,
          0.9598147599184907,
          0.9946746368836308,
          0.5984962406015037,
          0.9946746368836308,
          0.9946746368836308,
          0.9598147599184907,
          0.9946746368836308,
          0.9946746368836308,
          0.852156862745098,
          0.9946746368836308,
          0.7707142857142857,
          0.5972304178166936,
          0.9946746368836308,
          0.5921568627450979,
          0.9946746368836308,
          0.9946746368836308,
          0.9946746368836308,
          0.9946746368836308,
          0.8746746368836307,
          0.9946746368836308,
          0.9946746368836308,
          0.9946746368836308,
          0.9598147599184907,
          0.9598147599184907,
          0.9173197700132685,
          0.9946746368836308,
          0.8746746368836307,
          0.996178396282127,
          0.9946746368836308,
          0.9946746368836308,
          0.996178396282127,
          0.9946746368836308,
          0.652156862745098,
          0.996178396282127,
          0.8314285714285713,
          0.9946746368836308,
          0.9946746368836308,
          0.2988235294117647,
          0.9946746368836308,
          0.9598147599184907,
          0.9588235294117646,
          0.9946746368836308,
          0.8573197700132684,
          0.9946746368836308,
          0.9946746368836308,
          0.996178396282127,
          0.3588235294117647,
          0.9946746368836308,
          0.9946746368836308,
          0.9946746368836308,
          0.9946746368836308,
          0.9946746368836308,
          0.9946746368836308,
          0.9598147599184907,
          0.9946746368836308,
          0.9946746368836308,
          0.7378711484593837,
          0.996178396282127,
          0.9946746368836308,
          0.9946746368836308,
          0.9946746368836308,
          0.9946746368836308,
          0.9946746368836308,
          0.9598147599184907,
          0.996178396282127,
          0.9946746368836308,
          0.9946746368836308,
          0.9946746368836308,
          0.8746746368836307,
          0.9946746368836308,
          0.8746746368836307,
          0.8030340557275542,
          0.9946746368836308,
          0.9946746368836308,
          0.9946746368836308,
          0.9946746368836308,
          0.9598147599184907,
          0.9946746368836308,
          0.852156862745098,
          0.9598147599184907,
          0.9946746368836308,
          0.996178396282127,
          0.7378711484593837,
          0.9946746368836308,
          0.9946746368836308,
          0.9946746368836308,
          0.8746746368836307,
          0.9946746368836308,
          0.9946746368836308,
          0.852156862745098,
          0.9946746368836308,
          0.9946746368836308,
          0.6685455016852476,
          0.9946746368836308,
          0.7378711484593837,
          0.9598147599184907,
          0.9946746368836308,
          0.5657142857142856,
          0.9598147599184907,
          0.9946746368836308,
          0.996178396282127,
          0.9946746368836308,
          0.8688727904955085,
          0.9946746368836308,
          0.996178396282127,
          0.6533333333333333,
          0.9946746368836308,
          0.33076923076923076,
          0.996178396282127,
          0.9946746368836308,
          0.9598147599184907,
          0.9946746368836308,
          0.9946746368836308,
          0.9946746368836308
         ],
         "y0": " ",
         "yaxis": "y"
        },
        {
         "alignmentgroup": "True",
         "hovertemplate": "Source=Test Data<br>y=0<br>Cluster=%{x}<br>pred=%{y}<extra></extra>",
         "legendgroup": "Test Data",
         "marker": {
          "color": "lightblue"
         },
         "name": "Test Data",
         "notched": false,
         "offsetgroup": "Test Data",
         "orientation": "v",
         "showlegend": false,
         "type": "box",
         "x": [
          2,
          2,
          2,
          2,
          2,
          2,
          0,
          2,
          2,
          1,
          2,
          0,
          1,
          2,
          0,
          2,
          2,
          2,
          0,
          2,
          2,
          0,
          2,
          0,
          0,
          0,
          1,
          2,
          1,
          2,
          1,
          0,
          0,
          2,
          2,
          0,
          2,
          1,
          2,
          2,
          2,
          2,
          2,
          2,
          0,
          2,
          2,
          0,
          2,
          2,
          0,
          0,
          0,
          2,
          0,
          2,
          2,
          1,
          1,
          2,
          2,
          1,
          0,
          1,
          2,
          2,
          0,
          0,
          2,
          1,
          2,
          2,
          2,
          2,
          1,
          0,
          0,
          2,
          0,
          2,
          0,
          0,
          2,
          2,
          2,
          0,
          2,
          1,
          1,
          0,
          2,
          0,
          0,
          2,
          0,
          2,
          0,
          2
         ],
         "x0": " ",
         "xaxis": "x2",
         "y": [
          0,
          0,
          0,
          0,
          0.1,
          0,
          0.125,
          0,
          0,
          0.852156862745098,
          0,
          0,
          0.48,
          0,
          0,
          0,
          0,
          0,
          0.3021978021978022,
          0,
          0,
          0,
          0,
          0.13333333333333333,
          0,
          0,
          0.852156862745098,
          0,
          0.852156862745098,
          0,
          0.27999999999999997,
          0,
          0.1021978021978022,
          0,
          0,
          0,
          0,
          0.27999999999999997,
          0.1,
          0,
          0,
          0,
          0,
          0,
          0,
          0,
          0,
          0,
          0,
          0.1,
          0,
          0.1,
          0,
          0,
          0,
          0,
          0,
          0.6799999999999999,
          0.5657142857142856,
          0,
          0,
          0.5783333333333334,
          0.1021978021978022,
          0.48,
          0,
          0,
          0.29333333333333333,
          0.1,
          0,
          0.2,
          0,
          0,
          0,
          0,
          0.7588235294117647,
          0.36,
          0,
          0,
          0,
          0,
          0.5611940702633182,
          0,
          0,
          0,
          0,
          0.3021978021978022,
          0,
          0.5657142857142856,
          0.27999999999999997,
          0.1021978021978022,
          0,
          0,
          0.1021978021978022,
          0,
          0.16363636363636364,
          0,
          0.6700492610837439,
          0
         ],
         "y0": " ",
         "yaxis": "y2"
        },
        {
         "alignmentgroup": "True",
         "hovertemplate": "Source=Test Data (Altered)<br>y=1<br>Cluster=%{x}<br>pred=%{y}<extra></extra>",
         "legendgroup": "Test Data (Altered)",
         "marker": {
          "color": "orange"
         },
         "name": "Test Data (Altered)",
         "notched": false,
         "offsetgroup": "Test Data (Altered)",
         "orientation": "v",
         "showlegend": true,
         "type": "box",
         "x": [
          1,
          1,
          1,
          0,
          1,
          1,
          1,
          1,
          1,
          1,
          1,
          1,
          1,
          1,
          1,
          1,
          1,
          1,
          1,
          1,
          1,
          1,
          1,
          1,
          1,
          1,
          1,
          1,
          1,
          1,
          1,
          0,
          1,
          1,
          1,
          0,
          0,
          0,
          1,
          0,
          1,
          1,
          1,
          1,
          1,
          1,
          1,
          1,
          1,
          1,
          1,
          1,
          1,
          1,
          1,
          1,
          1,
          1,
          1,
          1,
          1,
          1,
          1,
          1,
          1,
          1,
          1,
          1,
          1,
          1,
          1,
          0,
          1,
          1,
          1,
          0,
          1,
          1,
          1,
          1,
          1,
          1,
          1,
          1,
          1,
          1,
          0,
          1,
          1,
          1,
          1,
          1,
          1,
          1,
          1,
          1,
          1,
          1,
          1,
          1,
          1,
          1,
          1,
          1,
          1,
          1,
          0,
          0,
          1,
          1,
          0,
          1,
          1,
          1,
          1,
          1,
          1,
          1,
          1,
          0,
          1,
          1,
          1,
          1,
          1,
          1,
          1,
          1,
          1,
          1,
          0,
          1,
          1,
          1,
          1,
          1,
          1,
          0,
          1,
          0,
          1,
          1,
          1,
          1,
          1,
          1,
          1,
          1,
          1,
          1,
          1,
          1,
          1,
          1,
          1,
          1,
          1,
          1,
          1,
          1,
          1,
          1,
          1,
          1,
          1,
          0,
          1,
          1,
          1,
          1,
          1,
          1,
          1,
          1,
          1,
          0,
          1,
          1,
          1,
          1,
          0,
          0,
          1,
          1,
          1,
          1,
          1
         ],
         "x0": " ",
         "xaxis": "x",
         "y": [
          0.9295117296154605,
          0.9946746368836308,
          0.9946746368836308,
          0.6700492610837439,
          0.8907775524002706,
          0.9559404596684409,
          0.8045378151260504,
          0.9946746368836308,
          0.7378711484593837,
          0.9559404596684409,
          0.9946746368836308,
          0.890891039960288,
          0.996178396282127,
          0.652156862745098,
          0.8960539472284583,
          0.9946746368836308,
          0.9598147599184907,
          0.9560539472284584,
          0.9946746368836308,
          0.9559404596684409,
          0.5319540229885058,
          0.9574442190669371,
          0.9559404596684409,
          0.9946746368836308,
          0.9559404596684409,
          0.852156862745098,
          0.9560539472284584,
          0.9173197700132685,
          0.9559404596684409,
          0.5584962406015037,
          0.9173197700132685,
          0.852156862745098,
          0.9559404596684409,
          0.9946746368836308,
          0.852156862745098,
          0.8022061238288419,
          0.8960539472284583,
          0.996178396282127,
          0.9574442190669371,
          0.9295117296154605,
          0.9173197700132685,
          0.9559404596684409,
          0.9295117296154605,
          0.996178396282127,
          0.8907775524002706,
          0.9560539472284584,
          0.9946746368836308,
          0.8432719923412403,
          0.7188235294117648,
          0.9960539472284584,
          0.9295117296154605,
          0.8907775524002706,
          0.7308910399602879,
          0.9946746368836308,
          0.890891039960288,
          0.890891039960288,
          0.9559404596684409,
          0.7958511074718662,
          0.692156862745098,
          0.6908910399602879,
          0.9295117296154605,
          0.9295117296154605,
          0.9946746368836308,
          0.996178396282127,
          0.8907775524002706,
          0.9295117296154605,
          0.890891039960288,
          0.9573197700132685,
          0.7378711484593837,
          0.9559404596684409,
          0.6824598930481284,
          0.6033825944170771,
          0.9946746368836308,
          0.9598147599184907,
          0.9946746368836308,
          0.5984962406015037,
          0.9946746368836308,
          0.9295117296154605,
          0.890891039960288,
          0.8907775524002706,
          0.9173197700132685,
          0.852156862745098,
          0.8907775524002706,
          0.44453781512605045,
          0.7960539472284583,
          0.9560539472284584,
          0.5921568627450979,
          0.9946746368836308,
          0.9560539472284584,
          0.9946746368836308,
          0.890891039960288,
          0.9295117296154605,
          0.8030340557275542,
          0.9560539472284584,
          0.9946746368836308,
          0.6824598930481284,
          0.6908910399602879,
          0.9173197700132685,
          0.9560539472284584,
          0.8746746368836307,
          0.852156862745098,
          0.9295117296154605,
          0.9946746368836308,
          0.9295117296154605,
          0.9295117296154605,
          0.652156862745098,
          0.9946746368836308,
          0.7647619047619048,
          0.9946746368836308,
          0.9574442190669371,
          0.5921568627450979,
          0.9559404596684409,
          0.9210805827033008,
          0.7588235294117647,
          0.9560539472284584,
          0.9173197700132685,
          0.9946746368836308,
          0.9946746368836308,
          0.9575577066269545,
          0.7635854341736694,
          0.9295117296154605,
          0.9560539472284584,
          0.9946746368836308,
          0.9559404596684409,
          0.9946746368836308,
          0.9946746368836308,
          0.890891039960288,
          0.9946746368836308,
          0.996178396282127,
          0.7378711484593837,
          0.9295117296154605,
          0.9173197700132685,
          0.8907775524002706,
          0.9295117296154605,
          0.8907775524002706,
          0.9560539472284584,
          0.9211940702633182,
          0.9188235294117646,
          0.7766053256745735,
          0.9295117296154605,
          0.8417682329427439,
          0.8095117296154604,
          0.9188235294117646,
          0.8746746368836307,
          0.7378711484593837,
          0.9946746368836308,
          0.9559404596684409,
          0.890891039960288,
          0.9560539472284584,
          0.9211940702633182,
          0.8907775524002706,
          0.852156862745098,
          0.9598147599184907,
          0.9946746368836308,
          0.9559404596684409,
          0.7378711484593837,
          0.9946746368836308,
          0.9559404596684409,
          0.8907775524002706,
          0.9173197700132685,
          0.890891039960288,
          0.9575577066269545,
          0.852156862745098,
          0.9560539472284584,
          0.9560539472284584,
          0.7571169302566763,
          0.9559404596684409,
          0.852156862745098,
          0.7681741787624141,
          0.8030340557275542,
          0.4590476190476191,
          0.9598147599184907,
          0.9946746368836308,
          0.9188235294117646,
          0.890891039960288,
          0.8688727904955085,
          0.9559404596684409,
          0.9946746368836308,
          0.6533333333333333,
          0.9946746368836308,
          0.4295034079844206,
          0.9295117296154605,
          0.9946746368836308,
          0.6824598930481284,
          0.9946746368836308,
          0.9559404596684409,
          0.9946746368836308
         ],
         "y0": " ",
         "yaxis": "y"
        },
        {
         "alignmentgroup": "True",
         "hovertemplate": "Source=Test Data (Altered)<br>y=0<br>Cluster=%{x}<br>pred=%{y}<extra></extra>",
         "legendgroup": "Test Data (Altered)",
         "marker": {
          "color": "orange"
         },
         "name": "Test Data (Altered)",
         "notched": false,
         "offsetgroup": "Test Data (Altered)",
         "orientation": "v",
         "showlegend": false,
         "type": "box",
         "x": [
          2,
          2,
          2,
          2,
          2,
          2,
          0,
          2,
          2,
          1,
          2,
          0,
          1,
          2,
          0,
          2,
          2,
          2,
          0,
          2,
          2,
          0,
          2,
          0,
          0,
          0,
          1,
          2,
          1,
          2,
          1,
          0,
          0,
          2,
          2,
          0,
          2,
          1,
          2,
          2,
          2,
          2,
          2,
          2,
          0,
          2,
          2,
          0,
          2,
          2,
          0,
          0,
          0,
          2,
          0,
          2,
          2,
          1,
          1,
          2,
          2,
          1,
          0,
          1,
          2,
          2,
          0,
          0,
          2,
          1,
          2,
          2,
          2,
          2,
          1,
          0,
          0,
          2,
          0,
          2,
          0,
          0,
          2,
          2,
          2,
          0,
          2,
          1,
          1,
          0,
          2,
          0,
          0,
          2,
          0,
          2,
          0,
          2
         ],
         "x0": " ",
         "xaxis": "x2",
         "y": [
          0,
          0.29333333333333333,
          0.08,
          0.27999999999999997,
          0.13333333333333333,
          0.4133333333333333,
          0.40499999999999997,
          0.29333333333333333,
          0,
          0.852156862745098,
          0,
          0.20476190476190476,
          0.48,
          0,
          0.13333333333333333,
          0,
          0,
          0,
          0.5584962406015037,
          0,
          0.36,
          0.29333333333333333,
          0.20476190476190476,
          0.29333333333333333,
          0,
          0,
          0.852156862745098,
          0.29333333333333333,
          0.852156862745098,
          0.5733333333333334,
          0.27999999999999997,
          0.20476190476190476,
          0.3320675105485232,
          0,
          0.13333333333333333,
          0,
          0.20476190476190476,
          0.27999999999999997,
          0.2333333333333333,
          0.27999999999999997,
          0.49333333333333335,
          0,
          0.49333333333333335,
          0.08,
          0,
          0.36,
          0.4133333333333333,
          0.20476190476190476,
          0,
          0.27999999999999997,
          0.16,
          0.27999999999999997,
          0.27999999999999997,
          0.36,
          0.49215686274509807,
          0.29333333333333333,
          0,
          0.6533333333333333,
          0.1657142857142857,
          0.27999999999999997,
          0.16,
          0.5783333333333334,
          0.38959276018099553,
          0.4533333333333333,
          0,
          0.13333333333333333,
          0.29333333333333333,
          0.36,
          0.36,
          0.2,
          0,
          0.16,
          0.20476190476190476,
          0,
          0.7378711484593837,
          0.36,
          0,
          0.13333333333333333,
          0,
          0.20476190476190476,
          0.5611940702633182,
          0,
          0,
          0.125,
          0.13333333333333333,
          0.6314285714285715,
          0.5647619047619048,
          0.3657142857142857,
          0.36,
          0.22950340798442062,
          0.27999999999999997,
          0.36,
          0.3021978021978022,
          0,
          0.5584962406015037,
          0.20476190476190476,
          0.6033825944170771,
          0.27999999999999997
         ],
         "y0": " ",
         "yaxis": "y2"
        }
       ],
       "layout": {
        "annotations": [
         {
          "font": {},
          "showarrow": false,
          "text": "y=1",
          "x": 0.245,
          "xanchor": "center",
          "xref": "paper",
          "y": 1,
          "yanchor": "bottom",
          "yref": "paper"
         },
         {
          "font": {},
          "showarrow": false,
          "text": "y=0",
          "x": 0.755,
          "xanchor": "center",
          "xref": "paper",
          "y": 1,
          "yanchor": "bottom",
          "yref": "paper"
         }
        ],
        "autosize": true,
        "boxmode": "group",
        "legend": {
         "title": {
          "text": "Source"
         },
         "tracegroupgap": 0
        },
        "template": {
         "data": {
          "bar": [
           {
            "error_x": {
             "color": "#2a3f5f"
            },
            "error_y": {
             "color": "#2a3f5f"
            },
            "marker": {
             "line": {
              "color": "#E5ECF6",
              "width": 0.5
             },
             "pattern": {
              "fillmode": "overlay",
              "size": 10,
              "solidity": 0.2
             }
            },
            "type": "bar"
           }
          ],
          "barpolar": [
           {
            "marker": {
             "line": {
              "color": "#E5ECF6",
              "width": 0.5
             },
             "pattern": {
              "fillmode": "overlay",
              "size": 10,
              "solidity": 0.2
             }
            },
            "type": "barpolar"
           }
          ],
          "carpet": [
           {
            "aaxis": {
             "endlinecolor": "#2a3f5f",
             "gridcolor": "white",
             "linecolor": "white",
             "minorgridcolor": "white",
             "startlinecolor": "#2a3f5f"
            },
            "baxis": {
             "endlinecolor": "#2a3f5f",
             "gridcolor": "white",
             "linecolor": "white",
             "minorgridcolor": "white",
             "startlinecolor": "#2a3f5f"
            },
            "type": "carpet"
           }
          ],
          "choropleth": [
           {
            "colorbar": {
             "outlinewidth": 0,
             "ticks": ""
            },
            "type": "choropleth"
           }
          ],
          "contour": [
           {
            "colorbar": {
             "outlinewidth": 0,
             "ticks": ""
            },
            "colorscale": [
             [
              0,
              "#0d0887"
             ],
             [
              0.1111111111111111,
              "#46039f"
             ],
             [
              0.2222222222222222,
              "#7201a8"
             ],
             [
              0.3333333333333333,
              "#9c179e"
             ],
             [
              0.4444444444444444,
              "#bd3786"
             ],
             [
              0.5555555555555556,
              "#d8576b"
             ],
             [
              0.6666666666666666,
              "#ed7953"
             ],
             [
              0.7777777777777778,
              "#fb9f3a"
             ],
             [
              0.8888888888888888,
              "#fdca26"
             ],
             [
              1,
              "#f0f921"
             ]
            ],
            "type": "contour"
           }
          ],
          "contourcarpet": [
           {
            "colorbar": {
             "outlinewidth": 0,
             "ticks": ""
            },
            "type": "contourcarpet"
           }
          ],
          "heatmap": [
           {
            "colorbar": {
             "outlinewidth": 0,
             "ticks": ""
            },
            "colorscale": [
             [
              0,
              "#0d0887"
             ],
             [
              0.1111111111111111,
              "#46039f"
             ],
             [
              0.2222222222222222,
              "#7201a8"
             ],
             [
              0.3333333333333333,
              "#9c179e"
             ],
             [
              0.4444444444444444,
              "#bd3786"
             ],
             [
              0.5555555555555556,
              "#d8576b"
             ],
             [
              0.6666666666666666,
              "#ed7953"
             ],
             [
              0.7777777777777778,
              "#fb9f3a"
             ],
             [
              0.8888888888888888,
              "#fdca26"
             ],
             [
              1,
              "#f0f921"
             ]
            ],
            "type": "heatmap"
           }
          ],
          "heatmapgl": [
           {
            "colorbar": {
             "outlinewidth": 0,
             "ticks": ""
            },
            "colorscale": [
             [
              0,
              "#0d0887"
             ],
             [
              0.1111111111111111,
              "#46039f"
             ],
             [
              0.2222222222222222,
              "#7201a8"
             ],
             [
              0.3333333333333333,
              "#9c179e"
             ],
             [
              0.4444444444444444,
              "#bd3786"
             ],
             [
              0.5555555555555556,
              "#d8576b"
             ],
             [
              0.6666666666666666,
              "#ed7953"
             ],
             [
              0.7777777777777778,
              "#fb9f3a"
             ],
             [
              0.8888888888888888,
              "#fdca26"
             ],
             [
              1,
              "#f0f921"
             ]
            ],
            "type": "heatmapgl"
           }
          ],
          "histogram": [
           {
            "marker": {
             "pattern": {
              "fillmode": "overlay",
              "size": 10,
              "solidity": 0.2
             }
            },
            "type": "histogram"
           }
          ],
          "histogram2d": [
           {
            "colorbar": {
             "outlinewidth": 0,
             "ticks": ""
            },
            "colorscale": [
             [
              0,
              "#0d0887"
             ],
             [
              0.1111111111111111,
              "#46039f"
             ],
             [
              0.2222222222222222,
              "#7201a8"
             ],
             [
              0.3333333333333333,
              "#9c179e"
             ],
             [
              0.4444444444444444,
              "#bd3786"
             ],
             [
              0.5555555555555556,
              "#d8576b"
             ],
             [
              0.6666666666666666,
              "#ed7953"
             ],
             [
              0.7777777777777778,
              "#fb9f3a"
             ],
             [
              0.8888888888888888,
              "#fdca26"
             ],
             [
              1,
              "#f0f921"
             ]
            ],
            "type": "histogram2d"
           }
          ],
          "histogram2dcontour": [
           {
            "colorbar": {
             "outlinewidth": 0,
             "ticks": ""
            },
            "colorscale": [
             [
              0,
              "#0d0887"
             ],
             [
              0.1111111111111111,
              "#46039f"
             ],
             [
              0.2222222222222222,
              "#7201a8"
             ],
             [
              0.3333333333333333,
              "#9c179e"
             ],
             [
              0.4444444444444444,
              "#bd3786"
             ],
             [
              0.5555555555555556,
              "#d8576b"
             ],
             [
              0.6666666666666666,
              "#ed7953"
             ],
             [
              0.7777777777777778,
              "#fb9f3a"
             ],
             [
              0.8888888888888888,
              "#fdca26"
             ],
             [
              1,
              "#f0f921"
             ]
            ],
            "type": "histogram2dcontour"
           }
          ],
          "mesh3d": [
           {
            "colorbar": {
             "outlinewidth": 0,
             "ticks": ""
            },
            "type": "mesh3d"
           }
          ],
          "parcoords": [
           {
            "line": {
             "colorbar": {
              "outlinewidth": 0,
              "ticks": ""
             }
            },
            "type": "parcoords"
           }
          ],
          "pie": [
           {
            "automargin": true,
            "type": "pie"
           }
          ],
          "scatter": [
           {
            "fillpattern": {
             "fillmode": "overlay",
             "size": 10,
             "solidity": 0.2
            },
            "type": "scatter"
           }
          ],
          "scatter3d": [
           {
            "line": {
             "colorbar": {
              "outlinewidth": 0,
              "ticks": ""
             }
            },
            "marker": {
             "colorbar": {
              "outlinewidth": 0,
              "ticks": ""
             }
            },
            "type": "scatter3d"
           }
          ],
          "scattercarpet": [
           {
            "marker": {
             "colorbar": {
              "outlinewidth": 0,
              "ticks": ""
             }
            },
            "type": "scattercarpet"
           }
          ],
          "scattergeo": [
           {
            "marker": {
             "colorbar": {
              "outlinewidth": 0,
              "ticks": ""
             }
            },
            "type": "scattergeo"
           }
          ],
          "scattergl": [
           {
            "marker": {
             "colorbar": {
              "outlinewidth": 0,
              "ticks": ""
             }
            },
            "type": "scattergl"
           }
          ],
          "scattermapbox": [
           {
            "marker": {
             "colorbar": {
              "outlinewidth": 0,
              "ticks": ""
             }
            },
            "type": "scattermapbox"
           }
          ],
          "scatterpolar": [
           {
            "marker": {
             "colorbar": {
              "outlinewidth": 0,
              "ticks": ""
             }
            },
            "type": "scatterpolar"
           }
          ],
          "scatterpolargl": [
           {
            "marker": {
             "colorbar": {
              "outlinewidth": 0,
              "ticks": ""
             }
            },
            "type": "scatterpolargl"
           }
          ],
          "scatterternary": [
           {
            "marker": {
             "colorbar": {
              "outlinewidth": 0,
              "ticks": ""
             }
            },
            "type": "scatterternary"
           }
          ],
          "surface": [
           {
            "colorbar": {
             "outlinewidth": 0,
             "ticks": ""
            },
            "colorscale": [
             [
              0,
              "#0d0887"
             ],
             [
              0.1111111111111111,
              "#46039f"
             ],
             [
              0.2222222222222222,
              "#7201a8"
             ],
             [
              0.3333333333333333,
              "#9c179e"
             ],
             [
              0.4444444444444444,
              "#bd3786"
             ],
             [
              0.5555555555555556,
              "#d8576b"
             ],
             [
              0.6666666666666666,
              "#ed7953"
             ],
             [
              0.7777777777777778,
              "#fb9f3a"
             ],
             [
              0.8888888888888888,
              "#fdca26"
             ],
             [
              1,
              "#f0f921"
             ]
            ],
            "type": "surface"
           }
          ],
          "table": [
           {
            "cells": {
             "fill": {
              "color": "#EBF0F8"
             },
             "line": {
              "color": "white"
             }
            },
            "header": {
             "fill": {
              "color": "#C8D4E3"
             },
             "line": {
              "color": "white"
             }
            },
            "type": "table"
           }
          ]
         },
         "layout": {
          "annotationdefaults": {
           "arrowcolor": "#2a3f5f",
           "arrowhead": 0,
           "arrowwidth": 1
          },
          "autotypenumbers": "strict",
          "coloraxis": {
           "colorbar": {
            "outlinewidth": 0,
            "ticks": ""
           }
          },
          "colorscale": {
           "diverging": [
            [
             0,
             "#8e0152"
            ],
            [
             0.1,
             "#c51b7d"
            ],
            [
             0.2,
             "#de77ae"
            ],
            [
             0.3,
             "#f1b6da"
            ],
            [
             0.4,
             "#fde0ef"
            ],
            [
             0.5,
             "#f7f7f7"
            ],
            [
             0.6,
             "#e6f5d0"
            ],
            [
             0.7,
             "#b8e186"
            ],
            [
             0.8,
             "#7fbc41"
            ],
            [
             0.9,
             "#4d9221"
            ],
            [
             1,
             "#276419"
            ]
           ],
           "sequential": [
            [
             0,
             "#0d0887"
            ],
            [
             0.1111111111111111,
             "#46039f"
            ],
            [
             0.2222222222222222,
             "#7201a8"
            ],
            [
             0.3333333333333333,
             "#9c179e"
            ],
            [
             0.4444444444444444,
             "#bd3786"
            ],
            [
             0.5555555555555556,
             "#d8576b"
            ],
            [
             0.6666666666666666,
             "#ed7953"
            ],
            [
             0.7777777777777778,
             "#fb9f3a"
            ],
            [
             0.8888888888888888,
             "#fdca26"
            ],
            [
             1,
             "#f0f921"
            ]
           ],
           "sequentialminus": [
            [
             0,
             "#0d0887"
            ],
            [
             0.1111111111111111,
             "#46039f"
            ],
            [
             0.2222222222222222,
             "#7201a8"
            ],
            [
             0.3333333333333333,
             "#9c179e"
            ],
            [
             0.4444444444444444,
             "#bd3786"
            ],
            [
             0.5555555555555556,
             "#d8576b"
            ],
            [
             0.6666666666666666,
             "#ed7953"
            ],
            [
             0.7777777777777778,
             "#fb9f3a"
            ],
            [
             0.8888888888888888,
             "#fdca26"
            ],
            [
             1,
             "#f0f921"
            ]
           ]
          },
          "colorway": [
           "#636efa",
           "#EF553B",
           "#00cc96",
           "#ab63fa",
           "#FFA15A",
           "#19d3f3",
           "#FF6692",
           "#B6E880",
           "#FF97FF",
           "#FECB52"
          ],
          "font": {
           "color": "#2a3f5f"
          },
          "geo": {
           "bgcolor": "white",
           "lakecolor": "white",
           "landcolor": "#E5ECF6",
           "showlakes": true,
           "showland": true,
           "subunitcolor": "white"
          },
          "hoverlabel": {
           "align": "left"
          },
          "hovermode": "closest",
          "mapbox": {
           "style": "light"
          },
          "paper_bgcolor": "white",
          "plot_bgcolor": "#E5ECF6",
          "polar": {
           "angularaxis": {
            "gridcolor": "white",
            "linecolor": "white",
            "ticks": ""
           },
           "bgcolor": "#E5ECF6",
           "radialaxis": {
            "gridcolor": "white",
            "linecolor": "white",
            "ticks": ""
           }
          },
          "scene": {
           "xaxis": {
            "backgroundcolor": "#E5ECF6",
            "gridcolor": "white",
            "gridwidth": 2,
            "linecolor": "white",
            "showbackground": true,
            "ticks": "",
            "zerolinecolor": "white"
           },
           "yaxis": {
            "backgroundcolor": "#E5ECF6",
            "gridcolor": "white",
            "gridwidth": 2,
            "linecolor": "white",
            "showbackground": true,
            "ticks": "",
            "zerolinecolor": "white"
           },
           "zaxis": {
            "backgroundcolor": "#E5ECF6",
            "gridcolor": "white",
            "gridwidth": 2,
            "linecolor": "white",
            "showbackground": true,
            "ticks": "",
            "zerolinecolor": "white"
           }
          },
          "shapedefaults": {
           "line": {
            "color": "#2a3f5f"
           }
          },
          "ternary": {
           "aaxis": {
            "gridcolor": "white",
            "linecolor": "white",
            "ticks": ""
           },
           "baxis": {
            "gridcolor": "white",
            "linecolor": "white",
            "ticks": ""
           },
           "bgcolor": "#E5ECF6",
           "caxis": {
            "gridcolor": "white",
            "linecolor": "white",
            "ticks": ""
           }
          },
          "title": {
           "x": 0.05
          },
          "xaxis": {
           "automargin": true,
           "gridcolor": "white",
           "linecolor": "white",
           "ticks": "",
           "title": {
            "standoff": 15
           },
           "zerolinecolor": "white",
           "zerolinewidth": 2
          },
          "yaxis": {
           "automargin": true,
           "gridcolor": "white",
           "linecolor": "white",
           "ticks": "",
           "title": {
            "standoff": 15
           },
           "zerolinecolor": "white",
           "zerolinewidth": 2
          }
         }
        },
        "title": {
         "text": "Prediction From Altered (Imputed) Test Data <br> Show Clear Bias in Cluster 0 and 1"
        },
        "xaxis": {
         "anchor": "y",
         "autorange": true,
         "domain": [
          0,
          0.49
         ],
         "range": [
          -0.522003276043322,
          2.522003276043322
         ],
         "title": {
          "text": "Cluster"
         },
         "type": "linear"
        },
        "xaxis2": {
         "anchor": "y2",
         "autorange": true,
         "domain": [
          0.51,
          1
         ],
         "matches": "x",
         "range": [
          -0.522003276043322,
          2.522003276043322
         ],
         "title": {
          "text": "Cluster"
         },
         "type": "linear"
        },
        "yaxis": {
         "anchor": "x",
         "autorange": true,
         "domain": [
          0,
          1
         ],
         "range": [
          -0.05534324423789594,
          1.051521640520023
         ],
         "title": {
          "text": "pred"
         },
         "type": "linear"
        },
        "yaxis2": {
         "anchor": "x2",
         "autorange": true,
         "domain": [
          0,
          1
         ],
         "matches": "y",
         "range": [
          -0.05534324423789594,
          1.051521640520023
         ],
         "showticklabels": false,
         "type": "linear"
        }
       }
      },
      "text/html": [
       "<div>                            <div id=\"c41c4e33-b97b-47b9-b5a1-4f0db74c4e58\" class=\"plotly-graph-div\" style=\"height:525px; width:100%;\"></div>            <script type=\"text/javascript\">                require([\"plotly\"], function(Plotly) {                    window.PLOTLYENV=window.PLOTLYENV || {};                                    if (document.getElementById(\"c41c4e33-b97b-47b9-b5a1-4f0db74c4e58\")) {                    Plotly.newPlot(                        \"c41c4e33-b97b-47b9-b5a1-4f0db74c4e58\",                        [{\"alignmentgroup\":\"True\",\"hovertemplate\":\"Source=Training Data\\u003cbr\\u003ey=1\\u003cbr\\u003eCluster=%{x}\\u003cbr\\u003epred=%{y}\\u003cextra\\u003e\\u003c\\u002fextra\\u003e\",\"legendgroup\":\"Training Data\",\"marker\":{\"color\":\"blue\"},\"name\":\"Training Data\",\"notched\":false,\"offsetgroup\":\"Training Data\",\"orientation\":\"v\",\"showlegend\":true,\"x\":[1,1,1,1,1,1,1,1,1,1,1,0,1,1,1,0,1,1,0,1,0,1,1,1,1,1,1,1,1,1,1,0,1,1,1,1,1,1,0,0,1,1,1,1,0,1,1,1,1,0,1,1,0,1,1,1,1,1,1,0,1,1,1,1,1,1,0,1,1,1,1,1,0,1,1,1,1,1,1,1,1,1,1,1,1,1,1,1,1,1,1,1,1,1,1,1,1,1,1,1,1,1,1,1,1,0,1,1,0,1,1,1,1,1,0,1,1,1,1,1,0,1,1,1,1,1,0,1,1,1,1,1,1,1,1,1,1,1,1,1,1,1,1,1,1,1,0,1,1,1,1,1,1,1,1,1,1,1,1,1,1,1,1,1,1,1,0,1,1,1],\"x0\":\" \",\"xaxis\":\"x\",\"y\":[0.9946746368836308,0.9946746368836308,0.9946746368836308,0.9946746368836308,0.9946746368836308,0.9946746368836308,0.48,0.7610805827033008,0.9946746368836308,0.9946746368836308,0.9946746368836308,0.9960539472284584,0.7960539472284583,0.9946746368836308,0.9946746368836308,0.9960539472284584,0.9946746368836308,0.9946746368836308,0.996178396282127,0.852156862745098,0.852156862745098,0.9598147599184907,0.8960539472284583,0.9946746368836308,0.9946746368836308,0.8746746368836307,0.9946746368836308,0.9946746368836308,0.8746746368836307,0.9946746368836308,0.525,0.8688727904955085,0.9946746368836308,0.9946746368836308,0.7307142857142856,0.9946746368836308,0.9946746368836308,0.9946746368836308,0.7588235294117647,0.7960539472284583,0.9946746368836308,0.9598147599184907,0.9946746368836308,0.9598147599184907,0.3021978021978022,0.8746746368836307,0.9598147599184907,0.9946746368836308,0.9946746368836308,0.8688727904955085,0.9946746368836308,0.9946746368836308,0.996178396282127,0.8746746368836307,0.9946746368836308,0.9598147599184907,0.9946746368836308,0.9946746368836308,0.9946746368836308,0.4295034079844206,0.9946746368836308,0.9598147599184907,0.9588235294117646,0.9598147599184907,0.9946746368836308,0.9946746368836308,0.7283269373961854,0.9946746368836308,0.9598147599184907,0.225,0.852156862745098,0.8030340557275542,0.8688727904955085,0.852156862745098,0.9946746368836308,0.9946746368836308,0.9946746368836308,0.9946746368836308,0.9946746368836308,0.852156862745098,0.9946746368836308,0.9946746368836308,0.9946746368836308,0.9946746368836308,0.9211940702633182,0.9946746368836308,0.9598147599184907,0.996178396282127,0.9946746368836308,0.9946746368836308,0.9946746368836308,0.9946746368836308,0.9946746368836308,0.9946746368836308,0.9960539472284584,0.9946746368836308,0.9946746368836308,0.9946746368836308,0.9946746368836308,0.5707142857142856,0.9598147599184907,0.9946746368836308,0.9946746368836308,0.9946746368836308,0.996178396282127,0.9960539472284584,0.9946746368836308,0.9946746368836308,0.8573197700132684,0.9598147599184907,0.9946746368836308,0.9946746368836308,0.9946746368836308,0.9946746368836308,0.9946746368836308,0.9946746368836308,0.9946746368836308,0.9946746368836308,0.9946746368836308,0.9946746368836308,0.996178396282127,0.9946746368836308,0.9598147599184907,0.9598147599184907,0.9946746368836308,0.9946746368836308,0.9946746368836308,0.9946746368836308,0.9598147599184907,0.9946746368836308,0.9946746368836308,0.852156862745098,0.9946746368836308,0.9946746368836308,0.9946746368836308,0.845,0.9598147599184907,0.9946746368836308,0.9946746368836308,0.9946746368836308,0.8746746368836307,0.9946746368836308,0.9946746368836308,0.9946746368836308,0.6599999999999999,0.9598147599184907,0.8269476270513578,0.9598147599184907,0.9946746368836308,0.9946746368836308,0.996178396282127,0.9946746368836308,0.8688727904955085,0.9946746368836308,0.9946746368836308,0.9598147599184907,0.9946746368836308,0.9946746368836308,0.5971169302566761,0.852156862745098,0.3657142857142857,0.9946746368836308,0.9946746368836308,0.9598147599184907,0.9946746368836308,0.9946746368836308,0.996178396282127,0.9946746368836308,0.9946746368836308,0.9946746368836308],\"y0\":\" \",\"yaxis\":\"y\",\"type\":\"box\"},{\"alignmentgroup\":\"True\",\"hovertemplate\":\"Source=Training Data\\u003cbr\\u003ey=0\\u003cbr\\u003eCluster=%{x}\\u003cbr\\u003epred=%{y}\\u003cextra\\u003e\\u003c\\u002fextra\\u003e\",\"legendgroup\":\"Training Data\",\"marker\":{\"color\":\"blue\"},\"name\":\"Training Data\",\"notched\":false,\"offsetgroup\":\"Training Data\",\"orientation\":\"v\",\"showlegend\":false,\"x\":[2,1,0,0,2,2,0,2,1,1,1,2,0,2,2,2,2,2,2,2,2,2,2,2,2,0,2,2,2,1,2,2,2,2,2,2,2,2,2,2,0,1,0,0,2,1,2,2,0,2,0,0,0,0,0,2,2,2,2,0,1,0,1,0,0,2,2,2,2,0,2,2,2,2,0,1,0,0,2,0,2,1,0,2,2,1,2,2,2,2,2,0,0,0,0,2,2,1,0,2,1,2,1,2,2,1,2,0,2,2,0,0,2,0],\"x0\":\" \",\"xaxis\":\"x2\",\"y\":[0.0,0.5657142857142856,0.0,0.0,0.0,0.0,0.0,0.0,0.0,0.4771169302566761,0.205,0.0,0.1021978021978022,0.0,0.0,0.0,0.0,0.0,0.0,0.0,0.0,0.0,0.0,0.0,0.0,0.0,0.0,0.0,0.0,0.3707142857142857,0.0,0.0,0.0,0.0,0.0,0.0,0.0,0.0,0.0,0.0,0.0,0.34791208791208794,0.0,0.0,0.0,0.0,0.0,0.0,0.0,0.0,0.0,0.0,0.22950340798442062,0.0,0.0,0.0,0.0,0.1,0.0,0.0,0.652156862745098,0.0,0.5657142857142856,0.1021978021978022,0.1021978021978022,0.0,0.0,0.0,0.0,0.0,0.0,0.0,0.0,0.0,0.0,0.9598147599184907,0.1021978021978022,0.20476190476190476,0.0,0.1021978021978022,0.0,0.7681741787624141,0.1021978021978022,0.0,0.0,0.2,0.1,0.0,0.0,0.0,0.1,0.0,0.1021978021978022,0.0,0.20476190476190476,0.0,0.0,0.27999999999999997,0.0,0.0,0.29333333333333333,0.0,0.41833333333333333,0.0,0.0,0.5224598930481283,0.0,0.29333333333333333,0.0,0.0,0.0,0.0,0.0,0.0],\"y0\":\" \",\"yaxis\":\"y2\",\"type\":\"box\"},{\"alignmentgroup\":\"True\",\"hovertemplate\":\"Source=Test Data\\u003cbr\\u003ey=1\\u003cbr\\u003eCluster=%{x}\\u003cbr\\u003epred=%{y}\\u003cextra\\u003e\\u003c\\u002fextra\\u003e\",\"legendgroup\":\"Test Data\",\"marker\":{\"color\":\"lightblue\"},\"name\":\"Test Data\",\"notched\":false,\"offsetgroup\":\"Test Data\",\"orientation\":\"v\",\"showlegend\":true,\"x\":[1,1,1,0,1,1,1,1,1,1,1,1,1,1,1,1,1,1,1,1,1,1,1,1,1,1,1,1,1,1,1,0,1,1,1,0,0,0,1,0,1,1,1,1,1,1,1,1,1,1,1,1,1,1,1,1,1,1,1,1,1,1,1,1,1,1,1,1,1,1,1,0,1,1,1,0,1,1,1,1,1,1,1,1,1,1,0,1,1,1,1,1,1,1,1,1,1,1,1,1,1,1,1,1,1,1,0,0,1,1,0,1,1,1,1,1,1,1,1,0,1,1,1,1,1,1,1,1,1,1,0,1,1,1,1,1,1,0,1,0,1,1,1,1,1,1,1,1,1,1,1,1,1,1,1,1,1,1,1,1,1,1,1,1,1,0,1,1,1,1,1,1,1,1,1,0,1,1,1,1,0,0,1,1,1,1,1],\"x0\":\" \",\"xaxis\":\"x\",\"y\":[0.9946746368836308,0.9946746368836308,0.9946746368836308,0.3021978021978022,0.9946746368836308,0.9598147599184907,0.8030340557275542,0.9946746368836308,0.9946746368836308,0.9946746368836308,0.9946746368836308,0.9946746368836308,0.9946746368836308,0.9598147599184907,0.8960539472284583,0.9946746368836308,0.9598147599184907,0.9946746368836308,0.9598147599184907,0.9946746368836308,0.5971169302566761,0.9559404596684409,0.9946746368836308,0.9946746368836308,0.9946746368836308,0.652156862745098,0.9946746368836308,0.9946746368836308,0.9946746368836308,0.49849624060150377,0.9946746368836308,0.9946746368836308,0.9598147599184907,0.9946746368836308,0.9946746368836308,0.6996420212647393,0.8960539472284583,0.996178396282127,0.9946746368836308,0.996178396282127,0.9946746368836308,0.9946746368836308,0.9598147599184907,0.9946746368836308,0.9598147599184907,0.9946746368836308,0.9946746368836308,0.9946746368836308,0.996178396282127,0.9960539472284584,0.9946746368836308,0.9946746368836308,0.9960539472284584,0.9946746368836308,0.9598147599184907,0.9946746368836308,0.9946746368836308,0.6815653931861517,0.692156862745098,0.6761783962821271,0.9946746368836308,0.9946746368836308,0.9946746368836308,0.9946746368836308,0.9598147599184907,0.9946746368836308,0.9598147599184907,0.7584962406015038,0.7378711484593837,0.9946746368836308,0.6824598930481284,0.6700492610837439,0.9946746368836308,0.9598147599184907,0.9946746368836308,0.5984962406015037,0.9946746368836308,0.9946746368836308,0.9598147599184907,0.9946746368836308,0.9946746368836308,0.852156862745098,0.9946746368836308,0.7707142857142857,0.5972304178166936,0.9946746368836308,0.5921568627450979,0.9946746368836308,0.9946746368836308,0.9946746368836308,0.9946746368836308,0.8746746368836307,0.9946746368836308,0.9946746368836308,0.9946746368836308,0.9598147599184907,0.9598147599184907,0.9173197700132685,0.9946746368836308,0.8746746368836307,0.996178396282127,0.9946746368836308,0.9946746368836308,0.996178396282127,0.9946746368836308,0.652156862745098,0.996178396282127,0.8314285714285713,0.9946746368836308,0.9946746368836308,0.2988235294117647,0.9946746368836308,0.9598147599184907,0.9588235294117646,0.9946746368836308,0.8573197700132684,0.9946746368836308,0.9946746368836308,0.996178396282127,0.3588235294117647,0.9946746368836308,0.9946746368836308,0.9946746368836308,0.9946746368836308,0.9946746368836308,0.9946746368836308,0.9598147599184907,0.9946746368836308,0.9946746368836308,0.7378711484593837,0.996178396282127,0.9946746368836308,0.9946746368836308,0.9946746368836308,0.9946746368836308,0.9946746368836308,0.9598147599184907,0.996178396282127,0.9946746368836308,0.9946746368836308,0.9946746368836308,0.8746746368836307,0.9946746368836308,0.8746746368836307,0.8030340557275542,0.9946746368836308,0.9946746368836308,0.9946746368836308,0.9946746368836308,0.9598147599184907,0.9946746368836308,0.852156862745098,0.9598147599184907,0.9946746368836308,0.996178396282127,0.7378711484593837,0.9946746368836308,0.9946746368836308,0.9946746368836308,0.8746746368836307,0.9946746368836308,0.9946746368836308,0.852156862745098,0.9946746368836308,0.9946746368836308,0.6685455016852476,0.9946746368836308,0.7378711484593837,0.9598147599184907,0.9946746368836308,0.5657142857142856,0.9598147599184907,0.9946746368836308,0.996178396282127,0.9946746368836308,0.8688727904955085,0.9946746368836308,0.996178396282127,0.6533333333333333,0.9946746368836308,0.33076923076923076,0.996178396282127,0.9946746368836308,0.9598147599184907,0.9946746368836308,0.9946746368836308,0.9946746368836308],\"y0\":\" \",\"yaxis\":\"y\",\"type\":\"box\"},{\"alignmentgroup\":\"True\",\"hovertemplate\":\"Source=Test Data\\u003cbr\\u003ey=0\\u003cbr\\u003eCluster=%{x}\\u003cbr\\u003epred=%{y}\\u003cextra\\u003e\\u003c\\u002fextra\\u003e\",\"legendgroup\":\"Test Data\",\"marker\":{\"color\":\"lightblue\"},\"name\":\"Test Data\",\"notched\":false,\"offsetgroup\":\"Test Data\",\"orientation\":\"v\",\"showlegend\":false,\"x\":[2,2,2,2,2,2,0,2,2,1,2,0,1,2,0,2,2,2,0,2,2,0,2,0,0,0,1,2,1,2,1,0,0,2,2,0,2,1,2,2,2,2,2,2,0,2,2,0,2,2,0,0,0,2,0,2,2,1,1,2,2,1,0,1,2,2,0,0,2,1,2,2,2,2,1,0,0,2,0,2,0,0,2,2,2,0,2,1,1,0,2,0,0,2,0,2,0,2],\"x0\":\" \",\"xaxis\":\"x2\",\"y\":[0.0,0.0,0.0,0.0,0.1,0.0,0.125,0.0,0.0,0.852156862745098,0.0,0.0,0.48,0.0,0.0,0.0,0.0,0.0,0.3021978021978022,0.0,0.0,0.0,0.0,0.13333333333333333,0.0,0.0,0.852156862745098,0.0,0.852156862745098,0.0,0.27999999999999997,0.0,0.1021978021978022,0.0,0.0,0.0,0.0,0.27999999999999997,0.1,0.0,0.0,0.0,0.0,0.0,0.0,0.0,0.0,0.0,0.0,0.1,0.0,0.1,0.0,0.0,0.0,0.0,0.0,0.6799999999999999,0.5657142857142856,0.0,0.0,0.5783333333333334,0.1021978021978022,0.48,0.0,0.0,0.29333333333333333,0.1,0.0,0.2,0.0,0.0,0.0,0.0,0.7588235294117647,0.36,0.0,0.0,0.0,0.0,0.5611940702633182,0.0,0.0,0.0,0.0,0.3021978021978022,0.0,0.5657142857142856,0.27999999999999997,0.1021978021978022,0.0,0.0,0.1021978021978022,0.0,0.16363636363636364,0.0,0.6700492610837439,0.0],\"y0\":\" \",\"yaxis\":\"y2\",\"type\":\"box\"},{\"alignmentgroup\":\"True\",\"hovertemplate\":\"Source=Test Data (Altered)\\u003cbr\\u003ey=1\\u003cbr\\u003eCluster=%{x}\\u003cbr\\u003epred=%{y}\\u003cextra\\u003e\\u003c\\u002fextra\\u003e\",\"legendgroup\":\"Test Data (Altered)\",\"marker\":{\"color\":\"orange\"},\"name\":\"Test Data (Altered)\",\"notched\":false,\"offsetgroup\":\"Test Data (Altered)\",\"orientation\":\"v\",\"showlegend\":true,\"x\":[1,1,1,0,1,1,1,1,1,1,1,1,1,1,1,1,1,1,1,1,1,1,1,1,1,1,1,1,1,1,1,0,1,1,1,0,0,0,1,0,1,1,1,1,1,1,1,1,1,1,1,1,1,1,1,1,1,1,1,1,1,1,1,1,1,1,1,1,1,1,1,0,1,1,1,0,1,1,1,1,1,1,1,1,1,1,0,1,1,1,1,1,1,1,1,1,1,1,1,1,1,1,1,1,1,1,0,0,1,1,0,1,1,1,1,1,1,1,1,0,1,1,1,1,1,1,1,1,1,1,0,1,1,1,1,1,1,0,1,0,1,1,1,1,1,1,1,1,1,1,1,1,1,1,1,1,1,1,1,1,1,1,1,1,1,0,1,1,1,1,1,1,1,1,1,0,1,1,1,1,0,0,1,1,1,1,1],\"x0\":\" \",\"xaxis\":\"x\",\"y\":[0.9295117296154605,0.9946746368836308,0.9946746368836308,0.6700492610837439,0.8907775524002706,0.9559404596684409,0.8045378151260504,0.9946746368836308,0.7378711484593837,0.9559404596684409,0.9946746368836308,0.890891039960288,0.996178396282127,0.652156862745098,0.8960539472284583,0.9946746368836308,0.9598147599184907,0.9560539472284584,0.9946746368836308,0.9559404596684409,0.5319540229885058,0.9574442190669371,0.9559404596684409,0.9946746368836308,0.9559404596684409,0.852156862745098,0.9560539472284584,0.9173197700132685,0.9559404596684409,0.5584962406015037,0.9173197700132685,0.852156862745098,0.9559404596684409,0.9946746368836308,0.852156862745098,0.8022061238288419,0.8960539472284583,0.996178396282127,0.9574442190669371,0.9295117296154605,0.9173197700132685,0.9559404596684409,0.9295117296154605,0.996178396282127,0.8907775524002706,0.9560539472284584,0.9946746368836308,0.8432719923412403,0.7188235294117648,0.9960539472284584,0.9295117296154605,0.8907775524002706,0.7308910399602879,0.9946746368836308,0.890891039960288,0.890891039960288,0.9559404596684409,0.7958511074718662,0.692156862745098,0.6908910399602879,0.9295117296154605,0.9295117296154605,0.9946746368836308,0.996178396282127,0.8907775524002706,0.9295117296154605,0.890891039960288,0.9573197700132685,0.7378711484593837,0.9559404596684409,0.6824598930481284,0.6033825944170771,0.9946746368836308,0.9598147599184907,0.9946746368836308,0.5984962406015037,0.9946746368836308,0.9295117296154605,0.890891039960288,0.8907775524002706,0.9173197700132685,0.852156862745098,0.8907775524002706,0.44453781512605045,0.7960539472284583,0.9560539472284584,0.5921568627450979,0.9946746368836308,0.9560539472284584,0.9946746368836308,0.890891039960288,0.9295117296154605,0.8030340557275542,0.9560539472284584,0.9946746368836308,0.6824598930481284,0.6908910399602879,0.9173197700132685,0.9560539472284584,0.8746746368836307,0.852156862745098,0.9295117296154605,0.9946746368836308,0.9295117296154605,0.9295117296154605,0.652156862745098,0.9946746368836308,0.7647619047619048,0.9946746368836308,0.9574442190669371,0.5921568627450979,0.9559404596684409,0.9210805827033008,0.7588235294117647,0.9560539472284584,0.9173197700132685,0.9946746368836308,0.9946746368836308,0.9575577066269545,0.7635854341736694,0.9295117296154605,0.9560539472284584,0.9946746368836308,0.9559404596684409,0.9946746368836308,0.9946746368836308,0.890891039960288,0.9946746368836308,0.996178396282127,0.7378711484593837,0.9295117296154605,0.9173197700132685,0.8907775524002706,0.9295117296154605,0.8907775524002706,0.9560539472284584,0.9211940702633182,0.9188235294117646,0.7766053256745735,0.9295117296154605,0.8417682329427439,0.8095117296154604,0.9188235294117646,0.8746746368836307,0.7378711484593837,0.9946746368836308,0.9559404596684409,0.890891039960288,0.9560539472284584,0.9211940702633182,0.8907775524002706,0.852156862745098,0.9598147599184907,0.9946746368836308,0.9559404596684409,0.7378711484593837,0.9946746368836308,0.9559404596684409,0.8907775524002706,0.9173197700132685,0.890891039960288,0.9575577066269545,0.852156862745098,0.9560539472284584,0.9560539472284584,0.7571169302566763,0.9559404596684409,0.852156862745098,0.7681741787624141,0.8030340557275542,0.4590476190476191,0.9598147599184907,0.9946746368836308,0.9188235294117646,0.890891039960288,0.8688727904955085,0.9559404596684409,0.9946746368836308,0.6533333333333333,0.9946746368836308,0.4295034079844206,0.9295117296154605,0.9946746368836308,0.6824598930481284,0.9946746368836308,0.9559404596684409,0.9946746368836308],\"y0\":\" \",\"yaxis\":\"y\",\"type\":\"box\"},{\"alignmentgroup\":\"True\",\"hovertemplate\":\"Source=Test Data (Altered)\\u003cbr\\u003ey=0\\u003cbr\\u003eCluster=%{x}\\u003cbr\\u003epred=%{y}\\u003cextra\\u003e\\u003c\\u002fextra\\u003e\",\"legendgroup\":\"Test Data (Altered)\",\"marker\":{\"color\":\"orange\"},\"name\":\"Test Data (Altered)\",\"notched\":false,\"offsetgroup\":\"Test Data (Altered)\",\"orientation\":\"v\",\"showlegend\":false,\"x\":[2,2,2,2,2,2,0,2,2,1,2,0,1,2,0,2,2,2,0,2,2,0,2,0,0,0,1,2,1,2,1,0,0,2,2,0,2,1,2,2,2,2,2,2,0,2,2,0,2,2,0,0,0,2,0,2,2,1,1,2,2,1,0,1,2,2,0,0,2,1,2,2,2,2,1,0,0,2,0,2,0,0,2,2,2,0,2,1,1,0,2,0,0,2,0,2,0,2],\"x0\":\" \",\"xaxis\":\"x2\",\"y\":[0.0,0.29333333333333333,0.08,0.27999999999999997,0.13333333333333333,0.4133333333333333,0.40499999999999997,0.29333333333333333,0.0,0.852156862745098,0.0,0.20476190476190476,0.48,0.0,0.13333333333333333,0.0,0.0,0.0,0.5584962406015037,0.0,0.36,0.29333333333333333,0.20476190476190476,0.29333333333333333,0.0,0.0,0.852156862745098,0.29333333333333333,0.852156862745098,0.5733333333333334,0.27999999999999997,0.20476190476190476,0.3320675105485232,0.0,0.13333333333333333,0.0,0.20476190476190476,0.27999999999999997,0.2333333333333333,0.27999999999999997,0.49333333333333335,0.0,0.49333333333333335,0.08,0.0,0.36,0.4133333333333333,0.20476190476190476,0.0,0.27999999999999997,0.16,0.27999999999999997,0.27999999999999997,0.36,0.49215686274509807,0.29333333333333333,0.0,0.6533333333333333,0.1657142857142857,0.27999999999999997,0.16,0.5783333333333334,0.38959276018099553,0.4533333333333333,0.0,0.13333333333333333,0.29333333333333333,0.36,0.36,0.2,0.0,0.16,0.20476190476190476,0.0,0.7378711484593837,0.36,0.0,0.13333333333333333,0.0,0.20476190476190476,0.5611940702633182,0.0,0.0,0.125,0.13333333333333333,0.6314285714285715,0.5647619047619048,0.3657142857142857,0.36,0.22950340798442062,0.27999999999999997,0.36,0.3021978021978022,0.0,0.5584962406015037,0.20476190476190476,0.6033825944170771,0.27999999999999997],\"y0\":\" \",\"yaxis\":\"y2\",\"type\":\"box\"}],                        {\"template\":{\"data\":{\"histogram2dcontour\":[{\"type\":\"histogram2dcontour\",\"colorbar\":{\"outlinewidth\":0,\"ticks\":\"\"},\"colorscale\":[[0.0,\"#0d0887\"],[0.1111111111111111,\"#46039f\"],[0.2222222222222222,\"#7201a8\"],[0.3333333333333333,\"#9c179e\"],[0.4444444444444444,\"#bd3786\"],[0.5555555555555556,\"#d8576b\"],[0.6666666666666666,\"#ed7953\"],[0.7777777777777778,\"#fb9f3a\"],[0.8888888888888888,\"#fdca26\"],[1.0,\"#f0f921\"]]}],\"choropleth\":[{\"type\":\"choropleth\",\"colorbar\":{\"outlinewidth\":0,\"ticks\":\"\"}}],\"histogram2d\":[{\"type\":\"histogram2d\",\"colorbar\":{\"outlinewidth\":0,\"ticks\":\"\"},\"colorscale\":[[0.0,\"#0d0887\"],[0.1111111111111111,\"#46039f\"],[0.2222222222222222,\"#7201a8\"],[0.3333333333333333,\"#9c179e\"],[0.4444444444444444,\"#bd3786\"],[0.5555555555555556,\"#d8576b\"],[0.6666666666666666,\"#ed7953\"],[0.7777777777777778,\"#fb9f3a\"],[0.8888888888888888,\"#fdca26\"],[1.0,\"#f0f921\"]]}],\"heatmap\":[{\"type\":\"heatmap\",\"colorbar\":{\"outlinewidth\":0,\"ticks\":\"\"},\"colorscale\":[[0.0,\"#0d0887\"],[0.1111111111111111,\"#46039f\"],[0.2222222222222222,\"#7201a8\"],[0.3333333333333333,\"#9c179e\"],[0.4444444444444444,\"#bd3786\"],[0.5555555555555556,\"#d8576b\"],[0.6666666666666666,\"#ed7953\"],[0.7777777777777778,\"#fb9f3a\"],[0.8888888888888888,\"#fdca26\"],[1.0,\"#f0f921\"]]}],\"heatmapgl\":[{\"type\":\"heatmapgl\",\"colorbar\":{\"outlinewidth\":0,\"ticks\":\"\"},\"colorscale\":[[0.0,\"#0d0887\"],[0.1111111111111111,\"#46039f\"],[0.2222222222222222,\"#7201a8\"],[0.3333333333333333,\"#9c179e\"],[0.4444444444444444,\"#bd3786\"],[0.5555555555555556,\"#d8576b\"],[0.6666666666666666,\"#ed7953\"],[0.7777777777777778,\"#fb9f3a\"],[0.8888888888888888,\"#fdca26\"],[1.0,\"#f0f921\"]]}],\"contourcarpet\":[{\"type\":\"contourcarpet\",\"colorbar\":{\"outlinewidth\":0,\"ticks\":\"\"}}],\"contour\":[{\"type\":\"contour\",\"colorbar\":{\"outlinewidth\":0,\"ticks\":\"\"},\"colorscale\":[[0.0,\"#0d0887\"],[0.1111111111111111,\"#46039f\"],[0.2222222222222222,\"#7201a8\"],[0.3333333333333333,\"#9c179e\"],[0.4444444444444444,\"#bd3786\"],[0.5555555555555556,\"#d8576b\"],[0.6666666666666666,\"#ed7953\"],[0.7777777777777778,\"#fb9f3a\"],[0.8888888888888888,\"#fdca26\"],[1.0,\"#f0f921\"]]}],\"surface\":[{\"type\":\"surface\",\"colorbar\":{\"outlinewidth\":0,\"ticks\":\"\"},\"colorscale\":[[0.0,\"#0d0887\"],[0.1111111111111111,\"#46039f\"],[0.2222222222222222,\"#7201a8\"],[0.3333333333333333,\"#9c179e\"],[0.4444444444444444,\"#bd3786\"],[0.5555555555555556,\"#d8576b\"],[0.6666666666666666,\"#ed7953\"],[0.7777777777777778,\"#fb9f3a\"],[0.8888888888888888,\"#fdca26\"],[1.0,\"#f0f921\"]]}],\"mesh3d\":[{\"type\":\"mesh3d\",\"colorbar\":{\"outlinewidth\":0,\"ticks\":\"\"}}],\"scatter\":[{\"fillpattern\":{\"fillmode\":\"overlay\",\"size\":10,\"solidity\":0.2},\"type\":\"scatter\"}],\"parcoords\":[{\"type\":\"parcoords\",\"line\":{\"colorbar\":{\"outlinewidth\":0,\"ticks\":\"\"}}}],\"scatterpolargl\":[{\"type\":\"scatterpolargl\",\"marker\":{\"colorbar\":{\"outlinewidth\":0,\"ticks\":\"\"}}}],\"bar\":[{\"error_x\":{\"color\":\"#2a3f5f\"},\"error_y\":{\"color\":\"#2a3f5f\"},\"marker\":{\"line\":{\"color\":\"#E5ECF6\",\"width\":0.5},\"pattern\":{\"fillmode\":\"overlay\",\"size\":10,\"solidity\":0.2}},\"type\":\"bar\"}],\"scattergeo\":[{\"type\":\"scattergeo\",\"marker\":{\"colorbar\":{\"outlinewidth\":0,\"ticks\":\"\"}}}],\"scatterpolar\":[{\"type\":\"scatterpolar\",\"marker\":{\"colorbar\":{\"outlinewidth\":0,\"ticks\":\"\"}}}],\"histogram\":[{\"marker\":{\"pattern\":{\"fillmode\":\"overlay\",\"size\":10,\"solidity\":0.2}},\"type\":\"histogram\"}],\"scattergl\":[{\"type\":\"scattergl\",\"marker\":{\"colorbar\":{\"outlinewidth\":0,\"ticks\":\"\"}}}],\"scatter3d\":[{\"type\":\"scatter3d\",\"line\":{\"colorbar\":{\"outlinewidth\":0,\"ticks\":\"\"}},\"marker\":{\"colorbar\":{\"outlinewidth\":0,\"ticks\":\"\"}}}],\"scattermapbox\":[{\"type\":\"scattermapbox\",\"marker\":{\"colorbar\":{\"outlinewidth\":0,\"ticks\":\"\"}}}],\"scatterternary\":[{\"type\":\"scatterternary\",\"marker\":{\"colorbar\":{\"outlinewidth\":0,\"ticks\":\"\"}}}],\"scattercarpet\":[{\"type\":\"scattercarpet\",\"marker\":{\"colorbar\":{\"outlinewidth\":0,\"ticks\":\"\"}}}],\"carpet\":[{\"aaxis\":{\"endlinecolor\":\"#2a3f5f\",\"gridcolor\":\"white\",\"linecolor\":\"white\",\"minorgridcolor\":\"white\",\"startlinecolor\":\"#2a3f5f\"},\"baxis\":{\"endlinecolor\":\"#2a3f5f\",\"gridcolor\":\"white\",\"linecolor\":\"white\",\"minorgridcolor\":\"white\",\"startlinecolor\":\"#2a3f5f\"},\"type\":\"carpet\"}],\"table\":[{\"cells\":{\"fill\":{\"color\":\"#EBF0F8\"},\"line\":{\"color\":\"white\"}},\"header\":{\"fill\":{\"color\":\"#C8D4E3\"},\"line\":{\"color\":\"white\"}},\"type\":\"table\"}],\"barpolar\":[{\"marker\":{\"line\":{\"color\":\"#E5ECF6\",\"width\":0.5},\"pattern\":{\"fillmode\":\"overlay\",\"size\":10,\"solidity\":0.2}},\"type\":\"barpolar\"}],\"pie\":[{\"automargin\":true,\"type\":\"pie\"}]},\"layout\":{\"autotypenumbers\":\"strict\",\"colorway\":[\"#636efa\",\"#EF553B\",\"#00cc96\",\"#ab63fa\",\"#FFA15A\",\"#19d3f3\",\"#FF6692\",\"#B6E880\",\"#FF97FF\",\"#FECB52\"],\"font\":{\"color\":\"#2a3f5f\"},\"hovermode\":\"closest\",\"hoverlabel\":{\"align\":\"left\"},\"paper_bgcolor\":\"white\",\"plot_bgcolor\":\"#E5ECF6\",\"polar\":{\"bgcolor\":\"#E5ECF6\",\"angularaxis\":{\"gridcolor\":\"white\",\"linecolor\":\"white\",\"ticks\":\"\"},\"radialaxis\":{\"gridcolor\":\"white\",\"linecolor\":\"white\",\"ticks\":\"\"}},\"ternary\":{\"bgcolor\":\"#E5ECF6\",\"aaxis\":{\"gridcolor\":\"white\",\"linecolor\":\"white\",\"ticks\":\"\"},\"baxis\":{\"gridcolor\":\"white\",\"linecolor\":\"white\",\"ticks\":\"\"},\"caxis\":{\"gridcolor\":\"white\",\"linecolor\":\"white\",\"ticks\":\"\"}},\"coloraxis\":{\"colorbar\":{\"outlinewidth\":0,\"ticks\":\"\"}},\"colorscale\":{\"sequential\":[[0.0,\"#0d0887\"],[0.1111111111111111,\"#46039f\"],[0.2222222222222222,\"#7201a8\"],[0.3333333333333333,\"#9c179e\"],[0.4444444444444444,\"#bd3786\"],[0.5555555555555556,\"#d8576b\"],[0.6666666666666666,\"#ed7953\"],[0.7777777777777778,\"#fb9f3a\"],[0.8888888888888888,\"#fdca26\"],[1.0,\"#f0f921\"]],\"sequentialminus\":[[0.0,\"#0d0887\"],[0.1111111111111111,\"#46039f\"],[0.2222222222222222,\"#7201a8\"],[0.3333333333333333,\"#9c179e\"],[0.4444444444444444,\"#bd3786\"],[0.5555555555555556,\"#d8576b\"],[0.6666666666666666,\"#ed7953\"],[0.7777777777777778,\"#fb9f3a\"],[0.8888888888888888,\"#fdca26\"],[1.0,\"#f0f921\"]],\"diverging\":[[0,\"#8e0152\"],[0.1,\"#c51b7d\"],[0.2,\"#de77ae\"],[0.3,\"#f1b6da\"],[0.4,\"#fde0ef\"],[0.5,\"#f7f7f7\"],[0.6,\"#e6f5d0\"],[0.7,\"#b8e186\"],[0.8,\"#7fbc41\"],[0.9,\"#4d9221\"],[1,\"#276419\"]]},\"xaxis\":{\"gridcolor\":\"white\",\"linecolor\":\"white\",\"ticks\":\"\",\"title\":{\"standoff\":15},\"zerolinecolor\":\"white\",\"automargin\":true,\"zerolinewidth\":2},\"yaxis\":{\"gridcolor\":\"white\",\"linecolor\":\"white\",\"ticks\":\"\",\"title\":{\"standoff\":15},\"zerolinecolor\":\"white\",\"automargin\":true,\"zerolinewidth\":2},\"scene\":{\"xaxis\":{\"backgroundcolor\":\"#E5ECF6\",\"gridcolor\":\"white\",\"linecolor\":\"white\",\"showbackground\":true,\"ticks\":\"\",\"zerolinecolor\":\"white\",\"gridwidth\":2},\"yaxis\":{\"backgroundcolor\":\"#E5ECF6\",\"gridcolor\":\"white\",\"linecolor\":\"white\",\"showbackground\":true,\"ticks\":\"\",\"zerolinecolor\":\"white\",\"gridwidth\":2},\"zaxis\":{\"backgroundcolor\":\"#E5ECF6\",\"gridcolor\":\"white\",\"linecolor\":\"white\",\"showbackground\":true,\"ticks\":\"\",\"zerolinecolor\":\"white\",\"gridwidth\":2}},\"shapedefaults\":{\"line\":{\"color\":\"#2a3f5f\"}},\"annotationdefaults\":{\"arrowcolor\":\"#2a3f5f\",\"arrowhead\":0,\"arrowwidth\":1},\"geo\":{\"bgcolor\":\"white\",\"landcolor\":\"#E5ECF6\",\"subunitcolor\":\"white\",\"showland\":true,\"showlakes\":true,\"lakecolor\":\"white\"},\"title\":{\"x\":0.05},\"mapbox\":{\"style\":\"light\"}}},\"xaxis\":{\"anchor\":\"y\",\"domain\":[0.0,0.49],\"title\":{\"text\":\"Cluster\"}},\"yaxis\":{\"anchor\":\"x\",\"domain\":[0.0,1.0],\"title\":{\"text\":\"pred\"}},\"xaxis2\":{\"anchor\":\"y2\",\"domain\":[0.51,1.0],\"matches\":\"x\",\"title\":{\"text\":\"Cluster\"}},\"yaxis2\":{\"anchor\":\"x2\",\"domain\":[0.0,1.0],\"matches\":\"y\",\"showticklabels\":false},\"annotations\":[{\"font\":{},\"showarrow\":false,\"text\":\"y=1\",\"x\":0.245,\"xanchor\":\"center\",\"xref\":\"paper\",\"y\":1.0,\"yanchor\":\"bottom\",\"yref\":\"paper\"},{\"font\":{},\"showarrow\":false,\"text\":\"y=0\",\"x\":0.755,\"xanchor\":\"center\",\"xref\":\"paper\",\"y\":1.0,\"yanchor\":\"bottom\",\"yref\":\"paper\"}],\"legend\":{\"title\":{\"text\":\"Source\"},\"tracegroupgap\":0},\"title\":{\"text\":\"Prediction From Altered (Imputed) Test Data \\u003cbr\\u003e Show Clear Bias in Cluster 0 and 1\"},\"boxmode\":\"group\"},                        {\"responsive\": true}                    ).then(function(){\n",
       "                            \n",
       "var gd = document.getElementById('c41c4e33-b97b-47b9-b5a1-4f0db74c4e58');\n",
       "var x = new MutationObserver(function (mutations, observer) {{\n",
       "        var display = window.getComputedStyle(gd).display;\n",
       "        if (!display || display === 'none') {{\n",
       "            console.log([gd, 'removed!']);\n",
       "            Plotly.purge(gd);\n",
       "            observer.disconnect();\n",
       "        }}\n",
       "}});\n",
       "\n",
       "// Listen for the removal of the full notebook cells\n",
       "var notebookContainer = gd.closest('#notebook-container');\n",
       "if (notebookContainer) {{\n",
       "    x.observe(notebookContainer, {childList: true});\n",
       "}}\n",
       "\n",
       "// Listen for the clearing of the current output cell\n",
       "var outputEl = gd.closest('.output');\n",
       "if (outputEl) {{\n",
       "    x.observe(outputEl, {childList: true});\n",
       "}}\n",
       "\n",
       "                        })                };                });            </script>        </div>"
      ]
     },
     "metadata": {},
     "output_type": "display_data"
    }
   ],
   "source": [
    "px.box(to_plot, y= 'pred', x='Cluster', color='Source', facet_col='y', color_discrete_map=source_dict,\n",
    "      title = 'Prediction From Altered (Imputed) Test Data <br> Show Clear Bias in Cluster 0 and 1')"
   ]
  },
  {
   "cell_type": "code",
   "execution_count": 21,
   "id": "3d236fad",
   "metadata": {},
   "outputs": [
    {
     "name": "stderr",
     "output_type": "stream",
     "text": [
      "/Users/matthew/Library/CloudStorage/OneDrive-MedicalUniversityofSouthCarolina/BDSI/CancerResearch/PRO DOBIE/venv/lib/python3.9/site-packages/sklearn/metrics/_ranking.py:1132: UndefinedMetricWarning:\n",
      "\n",
      "No positive samples in y_true, true positive value should be meaningless\n",
      "\n",
      "/Users/matthew/Library/CloudStorage/OneDrive-MedicalUniversityofSouthCarolina/BDSI/CancerResearch/PRO DOBIE/venv/lib/python3.9/site-packages/sklearn/metrics/_ranking.py:1132: UndefinedMetricWarning:\n",
      "\n",
      "No positive samples in y_true, true positive value should be meaningless\n",
      "\n",
      "/Users/matthew/Library/CloudStorage/OneDrive-MedicalUniversityofSouthCarolina/BDSI/CancerResearch/PRO DOBIE/venv/lib/python3.9/site-packages/sklearn/metrics/_ranking.py:1132: UndefinedMetricWarning:\n",
      "\n",
      "No positive samples in y_true, true positive value should be meaningless\n",
      "\n"
     ]
    },
    {
     "data": {
      "application/vnd.plotly.v1+json": {
       "config": {
        "plotlyServerURL": "https://plot.ly"
       },
       "data": [
        {
         "mode": "lines",
         "name": "Test Data (Altered) Cluster: 0 (AUC=0.98)",
         "type": "scatter",
         "x": [
          0,
          0,
          0,
          0,
          0,
          0.03225806451612903,
          0.06451612903225806,
          0.06451612903225806,
          0.06451612903225806,
          0.0967741935483871,
          0.16129032258064516,
          0.1935483870967742,
          0.1935483870967742,
          0.25806451612903225,
          0.3548387096774194,
          0.41935483870967744,
          0.5161290322580645,
          0.5806451612903226,
          0.6129032258064516,
          0.7096774193548387,
          0.7741935483870968,
          1
         ],
         "y": [
          0,
          0.05,
          0.1,
          0.3,
          0.75,
          0.75,
          0.8,
          0.85,
          0.95,
          0.95,
          0.95,
          0.95,
          1,
          1,
          1,
          1,
          1,
          1,
          1,
          1,
          1,
          1
         ]
        },
        {
         "mode": "lines",
         "name": "Test Data (Altered) Cluster: 1 (AUC=0.94)",
         "type": "scatter",
         "x": [
          0,
          0,
          0,
          0,
          0,
          0,
          0,
          0,
          0,
          0,
          0,
          0,
          0,
          0,
          0,
          0,
          0,
          0,
          0.21428571428571427,
          0.21428571428571427,
          0.21428571428571427,
          0.21428571428571427,
          0.2857142857142857,
          0.2857142857142857,
          0.2857142857142857,
          0.2857142857142857,
          0.35714285714285715,
          0.35714285714285715,
          0.42857142857142855,
          0.42857142857142855,
          0.5,
          0.5,
          0.5714285714285714,
          0.5714285714285714,
          0.7142857142857143,
          0.8571428571428571,
          1
         ],
         "y": [
          0,
          0.023952095808383235,
          0.029940119760479042,
          0.23353293413173654,
          0.25748502994011974,
          0.2694610778443114,
          0.2874251497005988,
          0.2934131736526946,
          0.3712574850299401,
          0.47904191616766467,
          0.5568862275449101,
          0.5688622754491018,
          0.5748502994011976,
          0.5868263473053892,
          0.6347305389221557,
          0.6407185628742516,
          0.7604790419161677,
          0.7724550898203593,
          0.8143712574850299,
          0.8383233532934131,
          0.8502994011976048,
          0.8802395209580839,
          0.9101796407185628,
          0.9281437125748503,
          0.9401197604790419,
          0.9580838323353293,
          0.9640718562874252,
          0.9760479041916168,
          0.9760479041916168,
          0.9880239520958084,
          0.9880239520958084,
          0.9940119760479041,
          0.9940119760479041,
          1,
          1,
          1,
          1
         ]
        },
        {
         "mode": "lines",
         "name": "Test Data Cluster: 0 (AUC=0.97)",
         "type": "scatter",
         "x": [
          0,
          0,
          0,
          0,
          0.03225806451612903,
          0.03225806451612903,
          0.0967741935483871,
          0.0967741935483871,
          0.16129032258064516,
          0.16129032258064516,
          0.2903225806451613,
          0.41935483870967744,
          0.4838709677419355,
          1
         ],
         "y": [
          0,
          0.3,
          0.4,
          0.6,
          0.65,
          0.8,
          0.8,
          0.9,
          0.95,
          1,
          1,
          1,
          1,
          1
         ]
        },
        {
         "mode": "lines",
         "name": "Test Data Cluster: 1 (AUC=0.96)",
         "type": "scatter",
         "x": [
          0,
          0,
          0,
          0,
          0,
          0,
          0,
          0,
          0.21428571428571427,
          0.21428571428571427,
          0.21428571428571427,
          0.2857142857142857,
          0.2857142857142857,
          0.2857142857142857,
          0.2857142857142857,
          0.35714285714285715,
          0.35714285714285715,
          0.35714285714285715,
          0.35714285714285715,
          0.42857142857142855,
          0.5714285714285714,
          0.5714285714285714,
          0.7142857142857143,
          0.9285714285714286,
          1
         ],
         "y": [
          0,
          0.041916167664670656,
          0.05389221556886228,
          0.6766467065868264,
          0.8083832335329342,
          0.8323353293413174,
          0.8622754491017964,
          0.8682634730538922,
          0.8862275449101796,
          0.8982035928143712,
          0.9041916167664671,
          0.9041916167664671,
          0.9101796407185628,
          0.9341317365269461,
          0.9520958083832335,
          0.9520958083832335,
          0.9640718562874252,
          0.9760479041916168,
          0.9880239520958084,
          0.9880239520958084,
          0.9940119760479041,
          1,
          1,
          1,
          1
         ]
        },
        {
         "mode": "lines",
         "name": "Training Data Cluster: 0 (AUC=1.00)",
         "type": "scatter",
         "x": [
          0,
          0,
          0,
          0,
          0,
          0,
          0.06060606060606061,
          0.12121212121212122,
          0.3333333333333333,
          1
         ],
         "y": [
          0,
          0.2,
          0.35,
          0.45,
          0.6,
          1,
          1,
          1,
          1,
          1
         ]
        },
        {
         "mode": "lines",
         "name": "Training Data Cluster: 1 (AUC=0.97)",
         "type": "scatter",
         "x": [
          0,
          0,
          0,
          0,
          0.0625,
          0.0625,
          0.0625,
          0.0625,
          0.0625,
          0.0625,
          0.125,
          0.125,
          0.1875,
          0.1875,
          0.3125,
          0.3125,
          0.375,
          0.375,
          0.5625,
          0.5625,
          0.75,
          0.75,
          0.875,
          1
         ],
         "y": [
          0,
          0.02,
          0.02666666666666667,
          0.6933333333333334,
          0.82,
          0.84,
          0.8733333333333333,
          0.88,
          0.92,
          0.94,
          0.94,
          0.96,
          0.96,
          0.9733333333333334,
          0.9733333333333334,
          0.98,
          0.98,
          0.9866666666666667,
          0.9866666666666667,
          0.9933333333333333,
          0.9933333333333333,
          1,
          1,
          1
         ]
        }
       ],
       "layout": {
        "height": 500,
        "shapes": [
         {
          "line": {
           "dash": "dash"
          },
          "type": "line",
          "x0": 0,
          "x1": 1,
          "y0": 0,
          "y1": 1
         }
        ],
        "template": {
         "data": {
          "bar": [
           {
            "error_x": {
             "color": "#2a3f5f"
            },
            "error_y": {
             "color": "#2a3f5f"
            },
            "marker": {
             "line": {
              "color": "#E5ECF6",
              "width": 0.5
             },
             "pattern": {
              "fillmode": "overlay",
              "size": 10,
              "solidity": 0.2
             }
            },
            "type": "bar"
           }
          ],
          "barpolar": [
           {
            "marker": {
             "line": {
              "color": "#E5ECF6",
              "width": 0.5
             },
             "pattern": {
              "fillmode": "overlay",
              "size": 10,
              "solidity": 0.2
             }
            },
            "type": "barpolar"
           }
          ],
          "carpet": [
           {
            "aaxis": {
             "endlinecolor": "#2a3f5f",
             "gridcolor": "white",
             "linecolor": "white",
             "minorgridcolor": "white",
             "startlinecolor": "#2a3f5f"
            },
            "baxis": {
             "endlinecolor": "#2a3f5f",
             "gridcolor": "white",
             "linecolor": "white",
             "minorgridcolor": "white",
             "startlinecolor": "#2a3f5f"
            },
            "type": "carpet"
           }
          ],
          "choropleth": [
           {
            "colorbar": {
             "outlinewidth": 0,
             "ticks": ""
            },
            "type": "choropleth"
           }
          ],
          "contour": [
           {
            "colorbar": {
             "outlinewidth": 0,
             "ticks": ""
            },
            "colorscale": [
             [
              0,
              "#0d0887"
             ],
             [
              0.1111111111111111,
              "#46039f"
             ],
             [
              0.2222222222222222,
              "#7201a8"
             ],
             [
              0.3333333333333333,
              "#9c179e"
             ],
             [
              0.4444444444444444,
              "#bd3786"
             ],
             [
              0.5555555555555556,
              "#d8576b"
             ],
             [
              0.6666666666666666,
              "#ed7953"
             ],
             [
              0.7777777777777778,
              "#fb9f3a"
             ],
             [
              0.8888888888888888,
              "#fdca26"
             ],
             [
              1,
              "#f0f921"
             ]
            ],
            "type": "contour"
           }
          ],
          "contourcarpet": [
           {
            "colorbar": {
             "outlinewidth": 0,
             "ticks": ""
            },
            "type": "contourcarpet"
           }
          ],
          "heatmap": [
           {
            "colorbar": {
             "outlinewidth": 0,
             "ticks": ""
            },
            "colorscale": [
             [
              0,
              "#0d0887"
             ],
             [
              0.1111111111111111,
              "#46039f"
             ],
             [
              0.2222222222222222,
              "#7201a8"
             ],
             [
              0.3333333333333333,
              "#9c179e"
             ],
             [
              0.4444444444444444,
              "#bd3786"
             ],
             [
              0.5555555555555556,
              "#d8576b"
             ],
             [
              0.6666666666666666,
              "#ed7953"
             ],
             [
              0.7777777777777778,
              "#fb9f3a"
             ],
             [
              0.8888888888888888,
              "#fdca26"
             ],
             [
              1,
              "#f0f921"
             ]
            ],
            "type": "heatmap"
           }
          ],
          "heatmapgl": [
           {
            "colorbar": {
             "outlinewidth": 0,
             "ticks": ""
            },
            "colorscale": [
             [
              0,
              "#0d0887"
             ],
             [
              0.1111111111111111,
              "#46039f"
             ],
             [
              0.2222222222222222,
              "#7201a8"
             ],
             [
              0.3333333333333333,
              "#9c179e"
             ],
             [
              0.4444444444444444,
              "#bd3786"
             ],
             [
              0.5555555555555556,
              "#d8576b"
             ],
             [
              0.6666666666666666,
              "#ed7953"
             ],
             [
              0.7777777777777778,
              "#fb9f3a"
             ],
             [
              0.8888888888888888,
              "#fdca26"
             ],
             [
              1,
              "#f0f921"
             ]
            ],
            "type": "heatmapgl"
           }
          ],
          "histogram": [
           {
            "marker": {
             "pattern": {
              "fillmode": "overlay",
              "size": 10,
              "solidity": 0.2
             }
            },
            "type": "histogram"
           }
          ],
          "histogram2d": [
           {
            "colorbar": {
             "outlinewidth": 0,
             "ticks": ""
            },
            "colorscale": [
             [
              0,
              "#0d0887"
             ],
             [
              0.1111111111111111,
              "#46039f"
             ],
             [
              0.2222222222222222,
              "#7201a8"
             ],
             [
              0.3333333333333333,
              "#9c179e"
             ],
             [
              0.4444444444444444,
              "#bd3786"
             ],
             [
              0.5555555555555556,
              "#d8576b"
             ],
             [
              0.6666666666666666,
              "#ed7953"
             ],
             [
              0.7777777777777778,
              "#fb9f3a"
             ],
             [
              0.8888888888888888,
              "#fdca26"
             ],
             [
              1,
              "#f0f921"
             ]
            ],
            "type": "histogram2d"
           }
          ],
          "histogram2dcontour": [
           {
            "colorbar": {
             "outlinewidth": 0,
             "ticks": ""
            },
            "colorscale": [
             [
              0,
              "#0d0887"
             ],
             [
              0.1111111111111111,
              "#46039f"
             ],
             [
              0.2222222222222222,
              "#7201a8"
             ],
             [
              0.3333333333333333,
              "#9c179e"
             ],
             [
              0.4444444444444444,
              "#bd3786"
             ],
             [
              0.5555555555555556,
              "#d8576b"
             ],
             [
              0.6666666666666666,
              "#ed7953"
             ],
             [
              0.7777777777777778,
              "#fb9f3a"
             ],
             [
              0.8888888888888888,
              "#fdca26"
             ],
             [
              1,
              "#f0f921"
             ]
            ],
            "type": "histogram2dcontour"
           }
          ],
          "mesh3d": [
           {
            "colorbar": {
             "outlinewidth": 0,
             "ticks": ""
            },
            "type": "mesh3d"
           }
          ],
          "parcoords": [
           {
            "line": {
             "colorbar": {
              "outlinewidth": 0,
              "ticks": ""
             }
            },
            "type": "parcoords"
           }
          ],
          "pie": [
           {
            "automargin": true,
            "type": "pie"
           }
          ],
          "scatter": [
           {
            "fillpattern": {
             "fillmode": "overlay",
             "size": 10,
             "solidity": 0.2
            },
            "type": "scatter"
           }
          ],
          "scatter3d": [
           {
            "line": {
             "colorbar": {
              "outlinewidth": 0,
              "ticks": ""
             }
            },
            "marker": {
             "colorbar": {
              "outlinewidth": 0,
              "ticks": ""
             }
            },
            "type": "scatter3d"
           }
          ],
          "scattercarpet": [
           {
            "marker": {
             "colorbar": {
              "outlinewidth": 0,
              "ticks": ""
             }
            },
            "type": "scattercarpet"
           }
          ],
          "scattergeo": [
           {
            "marker": {
             "colorbar": {
              "outlinewidth": 0,
              "ticks": ""
             }
            },
            "type": "scattergeo"
           }
          ],
          "scattergl": [
           {
            "marker": {
             "colorbar": {
              "outlinewidth": 0,
              "ticks": ""
             }
            },
            "type": "scattergl"
           }
          ],
          "scattermapbox": [
           {
            "marker": {
             "colorbar": {
              "outlinewidth": 0,
              "ticks": ""
             }
            },
            "type": "scattermapbox"
           }
          ],
          "scatterpolar": [
           {
            "marker": {
             "colorbar": {
              "outlinewidth": 0,
              "ticks": ""
             }
            },
            "type": "scatterpolar"
           }
          ],
          "scatterpolargl": [
           {
            "marker": {
             "colorbar": {
              "outlinewidth": 0,
              "ticks": ""
             }
            },
            "type": "scatterpolargl"
           }
          ],
          "scatterternary": [
           {
            "marker": {
             "colorbar": {
              "outlinewidth": 0,
              "ticks": ""
             }
            },
            "type": "scatterternary"
           }
          ],
          "surface": [
           {
            "colorbar": {
             "outlinewidth": 0,
             "ticks": ""
            },
            "colorscale": [
             [
              0,
              "#0d0887"
             ],
             [
              0.1111111111111111,
              "#46039f"
             ],
             [
              0.2222222222222222,
              "#7201a8"
             ],
             [
              0.3333333333333333,
              "#9c179e"
             ],
             [
              0.4444444444444444,
              "#bd3786"
             ],
             [
              0.5555555555555556,
              "#d8576b"
             ],
             [
              0.6666666666666666,
              "#ed7953"
             ],
             [
              0.7777777777777778,
              "#fb9f3a"
             ],
             [
              0.8888888888888888,
              "#fdca26"
             ],
             [
              1,
              "#f0f921"
             ]
            ],
            "type": "surface"
           }
          ],
          "table": [
           {
            "cells": {
             "fill": {
              "color": "#EBF0F8"
             },
             "line": {
              "color": "white"
             }
            },
            "header": {
             "fill": {
              "color": "#C8D4E3"
             },
             "line": {
              "color": "white"
             }
            },
            "type": "table"
           }
          ]
         },
         "layout": {
          "annotationdefaults": {
           "arrowcolor": "#2a3f5f",
           "arrowhead": 0,
           "arrowwidth": 1
          },
          "autotypenumbers": "strict",
          "coloraxis": {
           "colorbar": {
            "outlinewidth": 0,
            "ticks": ""
           }
          },
          "colorscale": {
           "diverging": [
            [
             0,
             "#8e0152"
            ],
            [
             0.1,
             "#c51b7d"
            ],
            [
             0.2,
             "#de77ae"
            ],
            [
             0.3,
             "#f1b6da"
            ],
            [
             0.4,
             "#fde0ef"
            ],
            [
             0.5,
             "#f7f7f7"
            ],
            [
             0.6,
             "#e6f5d0"
            ],
            [
             0.7,
             "#b8e186"
            ],
            [
             0.8,
             "#7fbc41"
            ],
            [
             0.9,
             "#4d9221"
            ],
            [
             1,
             "#276419"
            ]
           ],
           "sequential": [
            [
             0,
             "#0d0887"
            ],
            [
             0.1111111111111111,
             "#46039f"
            ],
            [
             0.2222222222222222,
             "#7201a8"
            ],
            [
             0.3333333333333333,
             "#9c179e"
            ],
            [
             0.4444444444444444,
             "#bd3786"
            ],
            [
             0.5555555555555556,
             "#d8576b"
            ],
            [
             0.6666666666666666,
             "#ed7953"
            ],
            [
             0.7777777777777778,
             "#fb9f3a"
            ],
            [
             0.8888888888888888,
             "#fdca26"
            ],
            [
             1,
             "#f0f921"
            ]
           ],
           "sequentialminus": [
            [
             0,
             "#0d0887"
            ],
            [
             0.1111111111111111,
             "#46039f"
            ],
            [
             0.2222222222222222,
             "#7201a8"
            ],
            [
             0.3333333333333333,
             "#9c179e"
            ],
            [
             0.4444444444444444,
             "#bd3786"
            ],
            [
             0.5555555555555556,
             "#d8576b"
            ],
            [
             0.6666666666666666,
             "#ed7953"
            ],
            [
             0.7777777777777778,
             "#fb9f3a"
            ],
            [
             0.8888888888888888,
             "#fdca26"
            ],
            [
             1,
             "#f0f921"
            ]
           ]
          },
          "colorway": [
           "#636efa",
           "#EF553B",
           "#00cc96",
           "#ab63fa",
           "#FFA15A",
           "#19d3f3",
           "#FF6692",
           "#B6E880",
           "#FF97FF",
           "#FECB52"
          ],
          "font": {
           "color": "#2a3f5f"
          },
          "geo": {
           "bgcolor": "white",
           "lakecolor": "white",
           "landcolor": "#E5ECF6",
           "showlakes": true,
           "showland": true,
           "subunitcolor": "white"
          },
          "hoverlabel": {
           "align": "left"
          },
          "hovermode": "closest",
          "mapbox": {
           "style": "light"
          },
          "paper_bgcolor": "white",
          "plot_bgcolor": "#E5ECF6",
          "polar": {
           "angularaxis": {
            "gridcolor": "white",
            "linecolor": "white",
            "ticks": ""
           },
           "bgcolor": "#E5ECF6",
           "radialaxis": {
            "gridcolor": "white",
            "linecolor": "white",
            "ticks": ""
           }
          },
          "scene": {
           "xaxis": {
            "backgroundcolor": "#E5ECF6",
            "gridcolor": "white",
            "gridwidth": 2,
            "linecolor": "white",
            "showbackground": true,
            "ticks": "",
            "zerolinecolor": "white"
           },
           "yaxis": {
            "backgroundcolor": "#E5ECF6",
            "gridcolor": "white",
            "gridwidth": 2,
            "linecolor": "white",
            "showbackground": true,
            "ticks": "",
            "zerolinecolor": "white"
           },
           "zaxis": {
            "backgroundcolor": "#E5ECF6",
            "gridcolor": "white",
            "gridwidth": 2,
            "linecolor": "white",
            "showbackground": true,
            "ticks": "",
            "zerolinecolor": "white"
           }
          },
          "shapedefaults": {
           "line": {
            "color": "#2a3f5f"
           }
          },
          "ternary": {
           "aaxis": {
            "gridcolor": "white",
            "linecolor": "white",
            "ticks": ""
           },
           "baxis": {
            "gridcolor": "white",
            "linecolor": "white",
            "ticks": ""
           },
           "bgcolor": "#E5ECF6",
           "caxis": {
            "gridcolor": "white",
            "linecolor": "white",
            "ticks": ""
           }
          },
          "title": {
           "x": 0.05
          },
          "xaxis": {
           "automargin": true,
           "gridcolor": "white",
           "linecolor": "white",
           "ticks": "",
           "title": {
            "standoff": 15
           },
           "zerolinecolor": "white",
           "zerolinewidth": 2
          },
          "yaxis": {
           "automargin": true,
           "gridcolor": "white",
           "linecolor": "white",
           "ticks": "",
           "title": {
            "standoff": 15
           },
           "zerolinecolor": "white",
           "zerolinewidth": 2
          }
         }
        },
        "width": 700,
        "xaxis": {
         "autorange": true,
         "constrain": "domain",
         "domain": [
          0.015050167224080147,
          0.9849498327759199
         ],
         "range": [
          -0.003472222222222222,
          1.0034722222222223
         ],
         "title": {
          "text": "False Positive Rate"
         },
         "type": "linear"
        },
        "yaxis": {
         "autorange": true,
         "domain": [
          0,
          1
         ],
         "range": [
          -0.05555555555555555,
          1.0555555555555556
         ],
         "scaleanchor": "x",
         "scaleratio": 1,
         "title": {
          "text": "True Positive Rate"
         },
         "type": "linear"
        }
       }
      },
      "text/html": [
       "<div>                            <div id=\"68306a56-95c1-4124-ba8e-e88e404408b8\" class=\"plotly-graph-div\" style=\"height:500px; width:700px;\"></div>            <script type=\"text/javascript\">                require([\"plotly\"], function(Plotly) {                    window.PLOTLYENV=window.PLOTLYENV || {};                                    if (document.getElementById(\"68306a56-95c1-4124-ba8e-e88e404408b8\")) {                    Plotly.newPlot(                        \"68306a56-95c1-4124-ba8e-e88e404408b8\",                        [{\"mode\":\"lines\",\"name\":\"Test Data (Altered) Cluster: 0 (AUC=0.98)\",\"x\":[0.0,0.0,0.0,0.0,0.0,0.03225806451612903,0.06451612903225806,0.06451612903225806,0.06451612903225806,0.0967741935483871,0.16129032258064516,0.1935483870967742,0.1935483870967742,0.25806451612903225,0.3548387096774194,0.41935483870967744,0.5161290322580645,0.5806451612903226,0.6129032258064516,0.7096774193548387,0.7741935483870968,1.0],\"y\":[0.0,0.05,0.1,0.3,0.75,0.75,0.8,0.85,0.95,0.95,0.95,0.95,1.0,1.0,1.0,1.0,1.0,1.0,1.0,1.0,1.0,1.0],\"type\":\"scatter\"},{\"mode\":\"lines\",\"name\":\"Test Data (Altered) Cluster: 1 (AUC=0.94)\",\"x\":[0.0,0.0,0.0,0.0,0.0,0.0,0.0,0.0,0.0,0.0,0.0,0.0,0.0,0.0,0.0,0.0,0.0,0.0,0.21428571428571427,0.21428571428571427,0.21428571428571427,0.21428571428571427,0.2857142857142857,0.2857142857142857,0.2857142857142857,0.2857142857142857,0.35714285714285715,0.35714285714285715,0.42857142857142855,0.42857142857142855,0.5,0.5,0.5714285714285714,0.5714285714285714,0.7142857142857143,0.8571428571428571,1.0],\"y\":[0.0,0.023952095808383235,0.029940119760479042,0.23353293413173654,0.25748502994011974,0.2694610778443114,0.2874251497005988,0.2934131736526946,0.3712574850299401,0.47904191616766467,0.5568862275449101,0.5688622754491018,0.5748502994011976,0.5868263473053892,0.6347305389221557,0.6407185628742516,0.7604790419161677,0.7724550898203593,0.8143712574850299,0.8383233532934131,0.8502994011976048,0.8802395209580839,0.9101796407185628,0.9281437125748503,0.9401197604790419,0.9580838323353293,0.9640718562874252,0.9760479041916168,0.9760479041916168,0.9880239520958084,0.9880239520958084,0.9940119760479041,0.9940119760479041,1.0,1.0,1.0,1.0],\"type\":\"scatter\"},{\"mode\":\"lines\",\"name\":\"Test Data Cluster: 0 (AUC=0.97)\",\"x\":[0.0,0.0,0.0,0.0,0.03225806451612903,0.03225806451612903,0.0967741935483871,0.0967741935483871,0.16129032258064516,0.16129032258064516,0.2903225806451613,0.41935483870967744,0.4838709677419355,1.0],\"y\":[0.0,0.3,0.4,0.6,0.65,0.8,0.8,0.9,0.95,1.0,1.0,1.0,1.0,1.0],\"type\":\"scatter\"},{\"mode\":\"lines\",\"name\":\"Test Data Cluster: 1 (AUC=0.96)\",\"x\":[0.0,0.0,0.0,0.0,0.0,0.0,0.0,0.0,0.21428571428571427,0.21428571428571427,0.21428571428571427,0.2857142857142857,0.2857142857142857,0.2857142857142857,0.2857142857142857,0.35714285714285715,0.35714285714285715,0.35714285714285715,0.35714285714285715,0.42857142857142855,0.5714285714285714,0.5714285714285714,0.7142857142857143,0.9285714285714286,1.0],\"y\":[0.0,0.041916167664670656,0.05389221556886228,0.6766467065868264,0.8083832335329342,0.8323353293413174,0.8622754491017964,0.8682634730538922,0.8862275449101796,0.8982035928143712,0.9041916167664671,0.9041916167664671,0.9101796407185628,0.9341317365269461,0.9520958083832335,0.9520958083832335,0.9640718562874252,0.9760479041916168,0.9880239520958084,0.9880239520958084,0.9940119760479041,1.0,1.0,1.0,1.0],\"type\":\"scatter\"},{\"mode\":\"lines\",\"name\":\"Training Data Cluster: 0 (AUC=1.00)\",\"x\":[0.0,0.0,0.0,0.0,0.0,0.0,0.06060606060606061,0.12121212121212122,0.3333333333333333,1.0],\"y\":[0.0,0.2,0.35,0.45,0.6,1.0,1.0,1.0,1.0,1.0],\"type\":\"scatter\"},{\"mode\":\"lines\",\"name\":\"Training Data Cluster: 1 (AUC=0.97)\",\"x\":[0.0,0.0,0.0,0.0,0.0625,0.0625,0.0625,0.0625,0.0625,0.0625,0.125,0.125,0.1875,0.1875,0.3125,0.3125,0.375,0.375,0.5625,0.5625,0.75,0.75,0.875,1.0],\"y\":[0.0,0.02,0.02666666666666667,0.6933333333333334,0.82,0.84,0.8733333333333333,0.88,0.92,0.94,0.94,0.96,0.96,0.9733333333333334,0.9733333333333334,0.98,0.98,0.9866666666666667,0.9866666666666667,0.9933333333333333,0.9933333333333333,1.0,1.0,1.0],\"type\":\"scatter\"}],                        {\"template\":{\"data\":{\"histogram2dcontour\":[{\"type\":\"histogram2dcontour\",\"colorbar\":{\"outlinewidth\":0,\"ticks\":\"\"},\"colorscale\":[[0.0,\"#0d0887\"],[0.1111111111111111,\"#46039f\"],[0.2222222222222222,\"#7201a8\"],[0.3333333333333333,\"#9c179e\"],[0.4444444444444444,\"#bd3786\"],[0.5555555555555556,\"#d8576b\"],[0.6666666666666666,\"#ed7953\"],[0.7777777777777778,\"#fb9f3a\"],[0.8888888888888888,\"#fdca26\"],[1.0,\"#f0f921\"]]}],\"choropleth\":[{\"type\":\"choropleth\",\"colorbar\":{\"outlinewidth\":0,\"ticks\":\"\"}}],\"histogram2d\":[{\"type\":\"histogram2d\",\"colorbar\":{\"outlinewidth\":0,\"ticks\":\"\"},\"colorscale\":[[0.0,\"#0d0887\"],[0.1111111111111111,\"#46039f\"],[0.2222222222222222,\"#7201a8\"],[0.3333333333333333,\"#9c179e\"],[0.4444444444444444,\"#bd3786\"],[0.5555555555555556,\"#d8576b\"],[0.6666666666666666,\"#ed7953\"],[0.7777777777777778,\"#fb9f3a\"],[0.8888888888888888,\"#fdca26\"],[1.0,\"#f0f921\"]]}],\"heatmap\":[{\"type\":\"heatmap\",\"colorbar\":{\"outlinewidth\":0,\"ticks\":\"\"},\"colorscale\":[[0.0,\"#0d0887\"],[0.1111111111111111,\"#46039f\"],[0.2222222222222222,\"#7201a8\"],[0.3333333333333333,\"#9c179e\"],[0.4444444444444444,\"#bd3786\"],[0.5555555555555556,\"#d8576b\"],[0.6666666666666666,\"#ed7953\"],[0.7777777777777778,\"#fb9f3a\"],[0.8888888888888888,\"#fdca26\"],[1.0,\"#f0f921\"]]}],\"heatmapgl\":[{\"type\":\"heatmapgl\",\"colorbar\":{\"outlinewidth\":0,\"ticks\":\"\"},\"colorscale\":[[0.0,\"#0d0887\"],[0.1111111111111111,\"#46039f\"],[0.2222222222222222,\"#7201a8\"],[0.3333333333333333,\"#9c179e\"],[0.4444444444444444,\"#bd3786\"],[0.5555555555555556,\"#d8576b\"],[0.6666666666666666,\"#ed7953\"],[0.7777777777777778,\"#fb9f3a\"],[0.8888888888888888,\"#fdca26\"],[1.0,\"#f0f921\"]]}],\"contourcarpet\":[{\"type\":\"contourcarpet\",\"colorbar\":{\"outlinewidth\":0,\"ticks\":\"\"}}],\"contour\":[{\"type\":\"contour\",\"colorbar\":{\"outlinewidth\":0,\"ticks\":\"\"},\"colorscale\":[[0.0,\"#0d0887\"],[0.1111111111111111,\"#46039f\"],[0.2222222222222222,\"#7201a8\"],[0.3333333333333333,\"#9c179e\"],[0.4444444444444444,\"#bd3786\"],[0.5555555555555556,\"#d8576b\"],[0.6666666666666666,\"#ed7953\"],[0.7777777777777778,\"#fb9f3a\"],[0.8888888888888888,\"#fdca26\"],[1.0,\"#f0f921\"]]}],\"surface\":[{\"type\":\"surface\",\"colorbar\":{\"outlinewidth\":0,\"ticks\":\"\"},\"colorscale\":[[0.0,\"#0d0887\"],[0.1111111111111111,\"#46039f\"],[0.2222222222222222,\"#7201a8\"],[0.3333333333333333,\"#9c179e\"],[0.4444444444444444,\"#bd3786\"],[0.5555555555555556,\"#d8576b\"],[0.6666666666666666,\"#ed7953\"],[0.7777777777777778,\"#fb9f3a\"],[0.8888888888888888,\"#fdca26\"],[1.0,\"#f0f921\"]]}],\"mesh3d\":[{\"type\":\"mesh3d\",\"colorbar\":{\"outlinewidth\":0,\"ticks\":\"\"}}],\"scatter\":[{\"fillpattern\":{\"fillmode\":\"overlay\",\"size\":10,\"solidity\":0.2},\"type\":\"scatter\"}],\"parcoords\":[{\"type\":\"parcoords\",\"line\":{\"colorbar\":{\"outlinewidth\":0,\"ticks\":\"\"}}}],\"scatterpolargl\":[{\"type\":\"scatterpolargl\",\"marker\":{\"colorbar\":{\"outlinewidth\":0,\"ticks\":\"\"}}}],\"bar\":[{\"error_x\":{\"color\":\"#2a3f5f\"},\"error_y\":{\"color\":\"#2a3f5f\"},\"marker\":{\"line\":{\"color\":\"#E5ECF6\",\"width\":0.5},\"pattern\":{\"fillmode\":\"overlay\",\"size\":10,\"solidity\":0.2}},\"type\":\"bar\"}],\"scattergeo\":[{\"type\":\"scattergeo\",\"marker\":{\"colorbar\":{\"outlinewidth\":0,\"ticks\":\"\"}}}],\"scatterpolar\":[{\"type\":\"scatterpolar\",\"marker\":{\"colorbar\":{\"outlinewidth\":0,\"ticks\":\"\"}}}],\"histogram\":[{\"marker\":{\"pattern\":{\"fillmode\":\"overlay\",\"size\":10,\"solidity\":0.2}},\"type\":\"histogram\"}],\"scattergl\":[{\"type\":\"scattergl\",\"marker\":{\"colorbar\":{\"outlinewidth\":0,\"ticks\":\"\"}}}],\"scatter3d\":[{\"type\":\"scatter3d\",\"line\":{\"colorbar\":{\"outlinewidth\":0,\"ticks\":\"\"}},\"marker\":{\"colorbar\":{\"outlinewidth\":0,\"ticks\":\"\"}}}],\"scattermapbox\":[{\"type\":\"scattermapbox\",\"marker\":{\"colorbar\":{\"outlinewidth\":0,\"ticks\":\"\"}}}],\"scatterternary\":[{\"type\":\"scatterternary\",\"marker\":{\"colorbar\":{\"outlinewidth\":0,\"ticks\":\"\"}}}],\"scattercarpet\":[{\"type\":\"scattercarpet\",\"marker\":{\"colorbar\":{\"outlinewidth\":0,\"ticks\":\"\"}}}],\"carpet\":[{\"aaxis\":{\"endlinecolor\":\"#2a3f5f\",\"gridcolor\":\"white\",\"linecolor\":\"white\",\"minorgridcolor\":\"white\",\"startlinecolor\":\"#2a3f5f\"},\"baxis\":{\"endlinecolor\":\"#2a3f5f\",\"gridcolor\":\"white\",\"linecolor\":\"white\",\"minorgridcolor\":\"white\",\"startlinecolor\":\"#2a3f5f\"},\"type\":\"carpet\"}],\"table\":[{\"cells\":{\"fill\":{\"color\":\"#EBF0F8\"},\"line\":{\"color\":\"white\"}},\"header\":{\"fill\":{\"color\":\"#C8D4E3\"},\"line\":{\"color\":\"white\"}},\"type\":\"table\"}],\"barpolar\":[{\"marker\":{\"line\":{\"color\":\"#E5ECF6\",\"width\":0.5},\"pattern\":{\"fillmode\":\"overlay\",\"size\":10,\"solidity\":0.2}},\"type\":\"barpolar\"}],\"pie\":[{\"automargin\":true,\"type\":\"pie\"}]},\"layout\":{\"autotypenumbers\":\"strict\",\"colorway\":[\"#636efa\",\"#EF553B\",\"#00cc96\",\"#ab63fa\",\"#FFA15A\",\"#19d3f3\",\"#FF6692\",\"#B6E880\",\"#FF97FF\",\"#FECB52\"],\"font\":{\"color\":\"#2a3f5f\"},\"hovermode\":\"closest\",\"hoverlabel\":{\"align\":\"left\"},\"paper_bgcolor\":\"white\",\"plot_bgcolor\":\"#E5ECF6\",\"polar\":{\"bgcolor\":\"#E5ECF6\",\"angularaxis\":{\"gridcolor\":\"white\",\"linecolor\":\"white\",\"ticks\":\"\"},\"radialaxis\":{\"gridcolor\":\"white\",\"linecolor\":\"white\",\"ticks\":\"\"}},\"ternary\":{\"bgcolor\":\"#E5ECF6\",\"aaxis\":{\"gridcolor\":\"white\",\"linecolor\":\"white\",\"ticks\":\"\"},\"baxis\":{\"gridcolor\":\"white\",\"linecolor\":\"white\",\"ticks\":\"\"},\"caxis\":{\"gridcolor\":\"white\",\"linecolor\":\"white\",\"ticks\":\"\"}},\"coloraxis\":{\"colorbar\":{\"outlinewidth\":0,\"ticks\":\"\"}},\"colorscale\":{\"sequential\":[[0.0,\"#0d0887\"],[0.1111111111111111,\"#46039f\"],[0.2222222222222222,\"#7201a8\"],[0.3333333333333333,\"#9c179e\"],[0.4444444444444444,\"#bd3786\"],[0.5555555555555556,\"#d8576b\"],[0.6666666666666666,\"#ed7953\"],[0.7777777777777778,\"#fb9f3a\"],[0.8888888888888888,\"#fdca26\"],[1.0,\"#f0f921\"]],\"sequentialminus\":[[0.0,\"#0d0887\"],[0.1111111111111111,\"#46039f\"],[0.2222222222222222,\"#7201a8\"],[0.3333333333333333,\"#9c179e\"],[0.4444444444444444,\"#bd3786\"],[0.5555555555555556,\"#d8576b\"],[0.6666666666666666,\"#ed7953\"],[0.7777777777777778,\"#fb9f3a\"],[0.8888888888888888,\"#fdca26\"],[1.0,\"#f0f921\"]],\"diverging\":[[0,\"#8e0152\"],[0.1,\"#c51b7d\"],[0.2,\"#de77ae\"],[0.3,\"#f1b6da\"],[0.4,\"#fde0ef\"],[0.5,\"#f7f7f7\"],[0.6,\"#e6f5d0\"],[0.7,\"#b8e186\"],[0.8,\"#7fbc41\"],[0.9,\"#4d9221\"],[1,\"#276419\"]]},\"xaxis\":{\"gridcolor\":\"white\",\"linecolor\":\"white\",\"ticks\":\"\",\"title\":{\"standoff\":15},\"zerolinecolor\":\"white\",\"automargin\":true,\"zerolinewidth\":2},\"yaxis\":{\"gridcolor\":\"white\",\"linecolor\":\"white\",\"ticks\":\"\",\"title\":{\"standoff\":15},\"zerolinecolor\":\"white\",\"automargin\":true,\"zerolinewidth\":2},\"scene\":{\"xaxis\":{\"backgroundcolor\":\"#E5ECF6\",\"gridcolor\":\"white\",\"linecolor\":\"white\",\"showbackground\":true,\"ticks\":\"\",\"zerolinecolor\":\"white\",\"gridwidth\":2},\"yaxis\":{\"backgroundcolor\":\"#E5ECF6\",\"gridcolor\":\"white\",\"linecolor\":\"white\",\"showbackground\":true,\"ticks\":\"\",\"zerolinecolor\":\"white\",\"gridwidth\":2},\"zaxis\":{\"backgroundcolor\":\"#E5ECF6\",\"gridcolor\":\"white\",\"linecolor\":\"white\",\"showbackground\":true,\"ticks\":\"\",\"zerolinecolor\":\"white\",\"gridwidth\":2}},\"shapedefaults\":{\"line\":{\"color\":\"#2a3f5f\"}},\"annotationdefaults\":{\"arrowcolor\":\"#2a3f5f\",\"arrowhead\":0,\"arrowwidth\":1},\"geo\":{\"bgcolor\":\"white\",\"landcolor\":\"#E5ECF6\",\"subunitcolor\":\"white\",\"showland\":true,\"showlakes\":true,\"lakecolor\":\"white\"},\"title\":{\"x\":0.05},\"mapbox\":{\"style\":\"light\"}}},\"shapes\":[{\"line\":{\"dash\":\"dash\"},\"type\":\"line\",\"x0\":0,\"x1\":1,\"y0\":0,\"y1\":1}],\"yaxis\":{\"title\":{\"text\":\"True Positive Rate\"},\"scaleanchor\":\"x\",\"scaleratio\":1},\"xaxis\":{\"title\":{\"text\":\"False Positive Rate\"},\"constrain\":\"domain\"},\"width\":700,\"height\":500},                        {\"responsive\": true}                    ).then(function(){\n",
       "                            \n",
       "var gd = document.getElementById('68306a56-95c1-4124-ba8e-e88e404408b8');\n",
       "var x = new MutationObserver(function (mutations, observer) {{\n",
       "        var display = window.getComputedStyle(gd).display;\n",
       "        if (!display || display === 'none') {{\n",
       "            console.log([gd, 'removed!']);\n",
       "            Plotly.purge(gd);\n",
       "            observer.disconnect();\n",
       "        }}\n",
       "}});\n",
       "\n",
       "// Listen for the removal of the full notebook cells\n",
       "var notebookContainer = gd.closest('#notebook-container');\n",
       "if (notebookContainer) {{\n",
       "    x.observe(notebookContainer, {childList: true});\n",
       "}}\n",
       "\n",
       "// Listen for the clearing of the current output cell\n",
       "var outputEl = gd.closest('.output');\n",
       "if (outputEl) {{\n",
       "    x.observe(outputEl, {childList: true});\n",
       "}}\n",
       "\n",
       "                        })                };                });            </script>        </div>"
      ]
     },
     "metadata": {},
     "output_type": "display_data"
    }
   ],
   "source": [
    "import plotly.graph_objs as go\n",
    "label_col = 'y'\n",
    "prediction_col = 'pred'\n",
    "group =  'Source_Cluster'\n",
    "\n",
    "\n",
    "def update_roc_auc(df, label_col, prediction_col, group):\n",
    "    fig = go.Figure()\n",
    "    fig.add_shape(\n",
    "        type='line', line=dict(dash='dash'),\n",
    "        x0=0, x1=1, y0=0, y1=1\n",
    "    )\n",
    "    y_true = df.loc[:, label_col]\n",
    "    y_pred = df.loc[:, prediction_col]\n",
    "    groups =  np.unique(df.loc[:, group])\n",
    "    for g in groups:\n",
    "        index = df.loc[:, group] == g\n",
    "        y_true_temp = y_true.loc[index]\n",
    "        y_pred_temp = y_pred.loc[index]\n",
    "        try:\n",
    "            fpr, tpr, thresholds = roc_curve(y_true_temp, y_pred_temp)\n",
    "            auc_score = roc_auc_score(y_true_temp, y_pred_temp)\n",
    "            name = f\"{g} (AUC={auc_score:.2f})\"\n",
    "            fig.add_trace(go.Scatter(x=fpr, y=tpr, name=name, mode='lines'))\n",
    "        except:\n",
    "            pass\n",
    "    fig.update_layout(\n",
    "        xaxis_title='False Positive Rate',\n",
    "        yaxis_title='True Positive Rate',\n",
    "        yaxis=dict(scaleanchor=\"x\", scaleratio=1),\n",
    "        xaxis=dict(constrain='domain'),\n",
    "        width=700, height=500\n",
    "    )\n",
    "    return fig\n",
    "\n",
    "fig = update_roc_auc(to_plot, label_col, prediction_col, group)\n",
    "fig.show()"
   ]
  },
  {
   "cell_type": "code",
   "execution_count": 22,
   "id": "f94b29eb",
   "metadata": {},
   "outputs": [
    {
     "name": "stderr",
     "output_type": "stream",
     "text": [
      "/Users/matthew/Library/CloudStorage/OneDrive-MedicalUniversityofSouthCarolina/BDSI/CancerResearch/PRO DOBIE/venv/lib/python3.9/site-packages/sklearn/metrics/_classification.py:1757: UndefinedMetricWarning:\n",
      "\n",
      "F-score is ill-defined and being set to 0.0 due to no true nor predicted samples. Use `zero_division` parameter to control this behavior.\n",
      "\n",
      "/Users/matthew/Library/CloudStorage/OneDrive-MedicalUniversityofSouthCarolina/BDSI/CancerResearch/PRO DOBIE/venv/lib/python3.9/site-packages/sklearn/metrics/_classification.py:1469: UndefinedMetricWarning:\n",
      "\n",
      "Precision is ill-defined and being set to 0.0 due to no predicted samples. Use `zero_division` parameter to control this behavior.\n",
      "\n",
      "/Users/matthew/Library/CloudStorage/OneDrive-MedicalUniversityofSouthCarolina/BDSI/CancerResearch/PRO DOBIE/venv/lib/python3.9/site-packages/sklearn/metrics/_classification.py:1469: UndefinedMetricWarning:\n",
      "\n",
      "Recall is ill-defined and being set to 0.0 due to no true samples. Use `zero_division` parameter to control this behavior.\n",
      "\n",
      "/Users/matthew/Library/CloudStorage/OneDrive-MedicalUniversityofSouthCarolina/BDSI/CancerResearch/PRO DOBIE/venv/lib/python3.9/site-packages/sklearn/metrics/_classification.py:1469: UndefinedMetricWarning:\n",
      "\n",
      "Precision is ill-defined and being set to 0.0 due to no predicted samples. Use `zero_division` parameter to control this behavior.\n",
      "\n",
      "/Users/matthew/Library/CloudStorage/OneDrive-MedicalUniversityofSouthCarolina/BDSI/CancerResearch/PRO DOBIE/venv/lib/python3.9/site-packages/sklearn/metrics/_classification.py:1469: UndefinedMetricWarning:\n",
      "\n",
      "Precision is ill-defined and being set to 0.0 due to no predicted samples. Use `zero_division` parameter to control this behavior.\n",
      "\n",
      "/Users/matthew/Library/CloudStorage/OneDrive-MedicalUniversityofSouthCarolina/BDSI/CancerResearch/PRO DOBIE/venv/lib/python3.9/site-packages/sklearn/metrics/_classification.py:1469: UndefinedMetricWarning:\n",
      "\n",
      "Precision is ill-defined and being set to 0.0 due to no predicted samples. Use `zero_division` parameter to control this behavior.\n",
      "\n",
      "/var/folders/_g/g62gttsj68j687xpy6_5418h0000gn/T/ipykernel_8081/2284763663.py:33: RuntimeWarning:\n",
      "\n",
      "divide by zero encountered in scalar divide\n",
      "\n",
      "/Users/matthew/Library/CloudStorage/OneDrive-MedicalUniversityofSouthCarolina/BDSI/CancerResearch/PRO DOBIE/venv/lib/python3.9/site-packages/sklearn/metrics/_classification.py:1757: UndefinedMetricWarning:\n",
      "\n",
      "F-score is ill-defined and being set to 0.0 due to no true nor predicted samples. Use `zero_division` parameter to control this behavior.\n",
      "\n",
      "/Users/matthew/Library/CloudStorage/OneDrive-MedicalUniversityofSouthCarolina/BDSI/CancerResearch/PRO DOBIE/venv/lib/python3.9/site-packages/sklearn/metrics/_classification.py:1469: UndefinedMetricWarning:\n",
      "\n",
      "Precision is ill-defined and being set to 0.0 due to no predicted samples. Use `zero_division` parameter to control this behavior.\n",
      "\n",
      "/Users/matthew/Library/CloudStorage/OneDrive-MedicalUniversityofSouthCarolina/BDSI/CancerResearch/PRO DOBIE/venv/lib/python3.9/site-packages/sklearn/metrics/_classification.py:1469: UndefinedMetricWarning:\n",
      "\n",
      "Recall is ill-defined and being set to 0.0 due to no true samples. Use `zero_division` parameter to control this behavior.\n",
      "\n",
      "/Users/matthew/Library/CloudStorage/OneDrive-MedicalUniversityofSouthCarolina/BDSI/CancerResearch/PRO DOBIE/venv/lib/python3.9/site-packages/sklearn/metrics/_classification.py:1469: UndefinedMetricWarning:\n",
      "\n",
      "Precision is ill-defined and being set to 0.0 due to no predicted samples. Use `zero_division` parameter to control this behavior.\n",
      "\n",
      "/Users/matthew/Library/CloudStorage/OneDrive-MedicalUniversityofSouthCarolina/BDSI/CancerResearch/PRO DOBIE/venv/lib/python3.9/site-packages/sklearn/metrics/_classification.py:1469: UndefinedMetricWarning:\n",
      "\n",
      "Precision is ill-defined and being set to 0.0 due to no predicted samples. Use `zero_division` parameter to control this behavior.\n",
      "\n",
      "/Users/matthew/Library/CloudStorage/OneDrive-MedicalUniversityofSouthCarolina/BDSI/CancerResearch/PRO DOBIE/venv/lib/python3.9/site-packages/sklearn/metrics/_classification.py:1469: UndefinedMetricWarning:\n",
      "\n",
      "Precision is ill-defined and being set to 0.0 due to no predicted samples. Use `zero_division` parameter to control this behavior.\n",
      "\n",
      "/var/folders/_g/g62gttsj68j687xpy6_5418h0000gn/T/ipykernel_8081/2284763663.py:33: RuntimeWarning:\n",
      "\n",
      "divide by zero encountered in scalar divide\n",
      "\n",
      "/Users/matthew/Library/CloudStorage/OneDrive-MedicalUniversityofSouthCarolina/BDSI/CancerResearch/PRO DOBIE/venv/lib/python3.9/site-packages/sklearn/metrics/_classification.py:1469: UndefinedMetricWarning:\n",
      "\n",
      "Recall is ill-defined and being set to 0.0 due to no true samples. Use `zero_division` parameter to control this behavior.\n",
      "\n",
      "/var/folders/_g/g62gttsj68j687xpy6_5418h0000gn/T/ipykernel_8081/2284763663.py:33: RuntimeWarning:\n",
      "\n",
      "divide by zero encountered in scalar divide\n",
      "\n"
     ]
    }
   ],
   "source": [
    "\n",
    "p_prob_test_altered= estimator.predict_proba(X_test_altered_imputed.values)[:, 1]\n",
    "p_test_altered = estimator.predict(X_test_altered_imputed.values)\n",
    "\n",
    "def get_classifcation_metrics(y_true, y_pred_label, y_pred_prob):\n",
    "    d = {}\n",
    "    try:\n",
    "        d['ROC AUC'] = roc_auc_score(y_true,y_pred_prob )\n",
    "    except ValueError:\n",
    "       d['ROC AUC'] = np.nan \n",
    "    \n",
    "    d['F1'] = f1_score(y_true, y_pred_label)\n",
    "    d['Precision (PPV)'] = precision_score(y_true, y_pred_label)\n",
    "    d['Recall (TPR)'] = recall_score(y_true, y_pred_label)\n",
    "    d['Accuracy'] = accuracy_score(y_true, y_pred_label)\n",
    "    d['Precision'] = precision_score(y_true, y_pred_label)\n",
    "    d['Precision'] = precision_score(y_true, y_pred_label)\n",
    "    d['Precision'] = precision_score(y_true, y_pred_label)\n",
    "\n",
    "    tp = np.sum(list(map(all,zip(y_true==1, y_pred_label==1))))\n",
    "    fp = np.sum(list(map(all,zip(y_true==0, y_pred_label==1))))\n",
    "    tn = np.sum(list(map(all,zip(y_true==0, y_pred_label==0))))\n",
    "    fn =  np.sum(list(map(all,zip(y_true==1, y_pred_label==0))))  \n",
    "    \n",
    "    d['TP'] = tp\n",
    "    d['FP'] =  fp\n",
    "    d['TN'] =  tn\n",
    "    d['FN'] = fn\n",
    "    try:\n",
    "        d['Specificity (TNR)'] = tn/(tn + fp)\n",
    "    except ZeroDivisionError:\n",
    "       d['Specificity (TNR)'] = np.nan \n",
    "    \n",
    "    d['NPV'] = tn/(tp + fn)\n",
    "    return d\n",
    "\n",
    "def generate_performance_data():\n",
    "    for c in np.unique(train_clusters):\n",
    "        train_metrics = get_classifcation_metrics(y_train[train_clusters == c], \n",
    "                                                  p_train[train_clusters == c],  \n",
    "                                                  p_prob_train[train_clusters == c])   \n",
    "        train_metrics['Source'] =  'Training Data'\n",
    "        train_metrics['Cluster'] = c\n",
    "\n",
    "        test_metrics = get_classifcation_metrics(y_test[test_clusters == c],\n",
    "                                                 p_test[test_clusters == c], \n",
    "                                                 p_prob_test[test_clusters == c])   \n",
    "        test_metrics['Source'] = 'Test Data'\n",
    "        test_metrics['Cluster'] = c\n",
    "\n",
    "        test_altered_metrics = get_classifcation_metrics(y_test[test_altered_clusters== c], \n",
    "                                                         p_test_altered[test_altered_clusters== c],  \n",
    "                                                         p_prob_test_altered[test_altered_clusters== c])   \n",
    "        test_altered_metrics['Source'] = 'Test Data (Altered)'\n",
    "        test_altered_metrics['Cluster'] = c\n",
    "        yield pd.DataFrame([train_metrics, test_metrics, test_altered_metrics])\n",
    "performance_df = pd.concat(list(generate_performance_data()), axis=0)\n",
    "performance_df.Cluster = performance_df.Cluster.astype(str)\n"
   ]
  },
  {
   "cell_type": "code",
   "execution_count": 23,
   "id": "651fdf1d",
   "metadata": {},
   "outputs": [
    {
     "data": {
      "text/html": [
       "<div>\n",
       "<style scoped>\n",
       "    .dataframe tbody tr th:only-of-type {\n",
       "        vertical-align: middle;\n",
       "    }\n",
       "\n",
       "    .dataframe tbody tr th {\n",
       "        vertical-align: top;\n",
       "    }\n",
       "\n",
       "    .dataframe thead th {\n",
       "        text-align: right;\n",
       "    }\n",
       "</style>\n",
       "<table border=\"1\" class=\"dataframe\">\n",
       "  <thead>\n",
       "    <tr style=\"text-align: right;\">\n",
       "      <th></th>\n",
       "      <th></th>\n",
       "      <th>ROC AUC</th>\n",
       "      <th>F1</th>\n",
       "      <th>Precision (PPV)</th>\n",
       "      <th>Recall (TPR)</th>\n",
       "      <th>Accuracy</th>\n",
       "      <th>Precision</th>\n",
       "      <th>TP</th>\n",
       "      <th>FP</th>\n",
       "      <th>TN</th>\n",
       "      <th>FN</th>\n",
       "      <th>Specificity (TNR)</th>\n",
       "      <th>NPV</th>\n",
       "    </tr>\n",
       "    <tr>\n",
       "      <th>Source</th>\n",
       "      <th>Cluster</th>\n",
       "      <th></th>\n",
       "      <th></th>\n",
       "      <th></th>\n",
       "      <th></th>\n",
       "      <th></th>\n",
       "      <th></th>\n",
       "      <th></th>\n",
       "      <th></th>\n",
       "      <th></th>\n",
       "      <th></th>\n",
       "      <th></th>\n",
       "      <th></th>\n",
       "    </tr>\n",
       "  </thead>\n",
       "  <tbody>\n",
       "    <tr>\n",
       "      <th>Training Data</th>\n",
       "      <th>0</th>\n",
       "      <td>1.000</td>\n",
       "      <td>0.947</td>\n",
       "      <td>1.000</td>\n",
       "      <td>0.900</td>\n",
       "      <td>0.962</td>\n",
       "      <td>1.000</td>\n",
       "      <td>18</td>\n",
       "      <td>0</td>\n",
       "      <td>33</td>\n",
       "      <td>2</td>\n",
       "      <td>1.000</td>\n",
       "      <td>1.650</td>\n",
       "    </tr>\n",
       "    <tr>\n",
       "      <th>Test Data</th>\n",
       "      <th>0</th>\n",
       "      <td>0.970</td>\n",
       "      <td>0.842</td>\n",
       "      <td>0.889</td>\n",
       "      <td>0.800</td>\n",
       "      <td>0.882</td>\n",
       "      <td>0.889</td>\n",
       "      <td>16</td>\n",
       "      <td>2</td>\n",
       "      <td>29</td>\n",
       "      <td>4</td>\n",
       "      <td>0.935</td>\n",
       "      <td>1.450</td>\n",
       "    </tr>\n",
       "    <tr>\n",
       "      <th>Test Data (Altered)</th>\n",
       "      <th>0</th>\n",
       "      <td>0.979</td>\n",
       "      <td>0.821</td>\n",
       "      <td>0.727</td>\n",
       "      <td>0.941</td>\n",
       "      <td>0.865</td>\n",
       "      <td>0.727</td>\n",
       "      <td>16</td>\n",
       "      <td>6</td>\n",
       "      <td>29</td>\n",
       "      <td>1</td>\n",
       "      <td>0.829</td>\n",
       "      <td>1.706</td>\n",
       "    </tr>\n",
       "    <tr>\n",
       "      <th>Training Data</th>\n",
       "      <th>1</th>\n",
       "      <td>0.970</td>\n",
       "      <td>0.970</td>\n",
       "      <td>0.961</td>\n",
       "      <td>0.980</td>\n",
       "      <td>0.946</td>\n",
       "      <td>0.961</td>\n",
       "      <td>147</td>\n",
       "      <td>6</td>\n",
       "      <td>10</td>\n",
       "      <td>3</td>\n",
       "      <td>0.625</td>\n",
       "      <td>0.067</td>\n",
       "    </tr>\n",
       "    <tr>\n",
       "      <th>Test Data</th>\n",
       "      <th>1</th>\n",
       "      <td>0.961</td>\n",
       "      <td>0.974</td>\n",
       "      <td>0.954</td>\n",
       "      <td>0.994</td>\n",
       "      <td>0.950</td>\n",
       "      <td>0.954</td>\n",
       "      <td>166</td>\n",
       "      <td>8</td>\n",
       "      <td>6</td>\n",
       "      <td>1</td>\n",
       "      <td>0.429</td>\n",
       "      <td>0.036</td>\n",
       "    </tr>\n",
       "    <tr>\n",
       "      <th>Test Data (Altered)</th>\n",
       "      <th>1</th>\n",
       "      <td>0.959</td>\n",
       "      <td>0.977</td>\n",
       "      <td>0.966</td>\n",
       "      <td>0.988</td>\n",
       "      <td>0.958</td>\n",
       "      <td>0.966</td>\n",
       "      <td>168</td>\n",
       "      <td>6</td>\n",
       "      <td>14</td>\n",
       "      <td>2</td>\n",
       "      <td>0.700</td>\n",
       "      <td>0.082</td>\n",
       "    </tr>\n",
       "    <tr>\n",
       "      <th>Training Data</th>\n",
       "      <th>2</th>\n",
       "      <td>NaN</td>\n",
       "      <td>0.000</td>\n",
       "      <td>0.000</td>\n",
       "      <td>0.000</td>\n",
       "      <td>1.000</td>\n",
       "      <td>0.000</td>\n",
       "      <td>0</td>\n",
       "      <td>0</td>\n",
       "      <td>65</td>\n",
       "      <td>0</td>\n",
       "      <td>1.000</td>\n",
       "      <td>inf</td>\n",
       "    </tr>\n",
       "    <tr>\n",
       "      <th>Test Data</th>\n",
       "      <th>2</th>\n",
       "      <td>NaN</td>\n",
       "      <td>0.000</td>\n",
       "      <td>0.000</td>\n",
       "      <td>0.000</td>\n",
       "      <td>1.000</td>\n",
       "      <td>0.000</td>\n",
       "      <td>0</td>\n",
       "      <td>0</td>\n",
       "      <td>53</td>\n",
       "      <td>0</td>\n",
       "      <td>1.000</td>\n",
       "      <td>inf</td>\n",
       "    </tr>\n",
       "    <tr>\n",
       "      <th>Test Data (Altered)</th>\n",
       "      <th>2</th>\n",
       "      <td>NaN</td>\n",
       "      <td>0.000</td>\n",
       "      <td>0.000</td>\n",
       "      <td>0.000</td>\n",
       "      <td>0.977</td>\n",
       "      <td>0.000</td>\n",
       "      <td>0</td>\n",
       "      <td>1</td>\n",
       "      <td>42</td>\n",
       "      <td>0</td>\n",
       "      <td>0.977</td>\n",
       "      <td>inf</td>\n",
       "    </tr>\n",
       "  </tbody>\n",
       "</table>\n",
       "</div>"
      ],
      "text/plain": [
       "                             ROC AUC     F1  Precision (PPV)  Recall (TPR)  \\\n",
       "Source              Cluster                                                  \n",
       "Training Data       0          1.000  0.947            1.000         0.900   \n",
       "Test Data           0          0.970  0.842            0.889         0.800   \n",
       "Test Data (Altered) 0          0.979  0.821            0.727         0.941   \n",
       "Training Data       1          0.970  0.970            0.961         0.980   \n",
       "Test Data           1          0.961  0.974            0.954         0.994   \n",
       "Test Data (Altered) 1          0.959  0.977            0.966         0.988   \n",
       "Training Data       2            NaN  0.000            0.000         0.000   \n",
       "Test Data           2            NaN  0.000            0.000         0.000   \n",
       "Test Data (Altered) 2            NaN  0.000            0.000         0.000   \n",
       "\n",
       "                             Accuracy  Precision   TP  FP  TN  FN  \\\n",
       "Source              Cluster                                         \n",
       "Training Data       0           0.962      1.000   18   0  33   2   \n",
       "Test Data           0           0.882      0.889   16   2  29   4   \n",
       "Test Data (Altered) 0           0.865      0.727   16   6  29   1   \n",
       "Training Data       1           0.946      0.961  147   6  10   3   \n",
       "Test Data           1           0.950      0.954  166   8   6   1   \n",
       "Test Data (Altered) 1           0.958      0.966  168   6  14   2   \n",
       "Training Data       2           1.000      0.000    0   0  65   0   \n",
       "Test Data           2           1.000      0.000    0   0  53   0   \n",
       "Test Data (Altered) 2           0.977      0.000    0   1  42   0   \n",
       "\n",
       "                             Specificity (TNR)    NPV  \n",
       "Source              Cluster                            \n",
       "Training Data       0                    1.000  1.650  \n",
       "Test Data           0                    0.935  1.450  \n",
       "Test Data (Altered) 0                    0.829  1.706  \n",
       "Training Data       1                    0.625  0.067  \n",
       "Test Data           1                    0.429  0.036  \n",
       "Test Data (Altered) 1                    0.700  0.082  \n",
       "Training Data       2                    1.000    inf  \n",
       "Test Data           2                    1.000    inf  \n",
       "Test Data (Altered) 2                    0.977    inf  "
      ]
     },
     "execution_count": 23,
     "metadata": {},
     "output_type": "execute_result"
    }
   ],
   "source": [
    "performance_df.set_index(['Source', \"Cluster\"]).round(3)"
   ]
  },
  {
   "cell_type": "code",
   "execution_count": 24,
   "id": "1f17c367",
   "metadata": {},
   "outputs": [
    {
     "data": {
      "text/plain": [
       "147"
      ]
     },
     "execution_count": 24,
     "metadata": {},
     "output_type": "execute_result"
    }
   ],
   "source": [
    "yy = y_train[train_clusters == 1]\n",
    "xx = p_train[train_clusters == 1]\n",
    "\n",
    "tp = np.sum(list(map(all,zip(yy==1, xx==1))))\n",
    "#     fp = np.sum(list(map(all,zip(y_true==0, y_pred_label==1))))\n",
    "#     tn = np.sum(list(map(all,zip(y_true==0, y_pred_label==0))))\n",
    "#     fn =  np.sum(list(map(all,zip(y_true==1, y_pred_label==0))))  \n",
    "tp"
   ]
  },
  {
   "cell_type": "code",
   "execution_count": 25,
   "id": "ed26e22a",
   "metadata": {},
   "outputs": [
    {
     "data": {
      "application/vnd.plotly.v1+json": {
       "config": {
        "plotlyServerURL": "https://plot.ly"
       },
       "data": [
        {
         "alignmentgroup": "True",
         "hovertemplate": "Source=Training Data<br>Cluster=%{x}<br>F1=%{y}<extra></extra>",
         "legendgroup": "Training Data",
         "marker": {
          "color": "blue",
          "pattern": {
           "shape": ""
          }
         },
         "name": "Training Data",
         "offsetgroup": "Training Data",
         "orientation": "v",
         "showlegend": true,
         "textposition": "auto",
         "type": "bar",
         "x": [
          "0",
          "1",
          "2"
         ],
         "xaxis": "x",
         "y": [
          0.9473684210526316,
          0.9702970297029702,
          0
         ],
         "yaxis": "y"
        },
        {
         "alignmentgroup": "True",
         "hovertemplate": "Source=Test Data<br>Cluster=%{x}<br>F1=%{y}<extra></extra>",
         "legendgroup": "Test Data",
         "marker": {
          "color": "lightblue",
          "pattern": {
           "shape": ""
          }
         },
         "name": "Test Data",
         "offsetgroup": "Test Data",
         "orientation": "v",
         "showlegend": true,
         "textposition": "auto",
         "type": "bar",
         "x": [
          "0",
          "1",
          "2"
         ],
         "xaxis": "x",
         "y": [
          0.8421052631578948,
          0.9736070381231672,
          0
         ],
         "yaxis": "y"
        },
        {
         "alignmentgroup": "True",
         "hovertemplate": "Source=Test Data (Altered)<br>Cluster=%{x}<br>F1=%{y}<extra></extra>",
         "legendgroup": "Test Data (Altered)",
         "marker": {
          "color": "orange",
          "pattern": {
           "shape": ""
          }
         },
         "name": "Test Data (Altered)",
         "offsetgroup": "Test Data (Altered)",
         "orientation": "v",
         "showlegend": true,
         "textposition": "auto",
         "type": "bar",
         "x": [
          "0",
          "1",
          "2"
         ],
         "xaxis": "x",
         "y": [
          0.8205128205128205,
          0.9767441860465116,
          0
         ],
         "yaxis": "y"
        }
       ],
       "layout": {
        "barmode": "group",
        "height": 500,
        "legend": {
         "title": {
          "text": "Source"
         },
         "tracegroupgap": 0
        },
        "template": {
         "data": {
          "bar": [
           {
            "error_x": {
             "color": "#2a3f5f"
            },
            "error_y": {
             "color": "#2a3f5f"
            },
            "marker": {
             "line": {
              "color": "#E5ECF6",
              "width": 0.5
             },
             "pattern": {
              "fillmode": "overlay",
              "size": 10,
              "solidity": 0.2
             }
            },
            "type": "bar"
           }
          ],
          "barpolar": [
           {
            "marker": {
             "line": {
              "color": "#E5ECF6",
              "width": 0.5
             },
             "pattern": {
              "fillmode": "overlay",
              "size": 10,
              "solidity": 0.2
             }
            },
            "type": "barpolar"
           }
          ],
          "carpet": [
           {
            "aaxis": {
             "endlinecolor": "#2a3f5f",
             "gridcolor": "white",
             "linecolor": "white",
             "minorgridcolor": "white",
             "startlinecolor": "#2a3f5f"
            },
            "baxis": {
             "endlinecolor": "#2a3f5f",
             "gridcolor": "white",
             "linecolor": "white",
             "minorgridcolor": "white",
             "startlinecolor": "#2a3f5f"
            },
            "type": "carpet"
           }
          ],
          "choropleth": [
           {
            "colorbar": {
             "outlinewidth": 0,
             "ticks": ""
            },
            "type": "choropleth"
           }
          ],
          "contour": [
           {
            "colorbar": {
             "outlinewidth": 0,
             "ticks": ""
            },
            "colorscale": [
             [
              0,
              "#0d0887"
             ],
             [
              0.1111111111111111,
              "#46039f"
             ],
             [
              0.2222222222222222,
              "#7201a8"
             ],
             [
              0.3333333333333333,
              "#9c179e"
             ],
             [
              0.4444444444444444,
              "#bd3786"
             ],
             [
              0.5555555555555556,
              "#d8576b"
             ],
             [
              0.6666666666666666,
              "#ed7953"
             ],
             [
              0.7777777777777778,
              "#fb9f3a"
             ],
             [
              0.8888888888888888,
              "#fdca26"
             ],
             [
              1,
              "#f0f921"
             ]
            ],
            "type": "contour"
           }
          ],
          "contourcarpet": [
           {
            "colorbar": {
             "outlinewidth": 0,
             "ticks": ""
            },
            "type": "contourcarpet"
           }
          ],
          "heatmap": [
           {
            "colorbar": {
             "outlinewidth": 0,
             "ticks": ""
            },
            "colorscale": [
             [
              0,
              "#0d0887"
             ],
             [
              0.1111111111111111,
              "#46039f"
             ],
             [
              0.2222222222222222,
              "#7201a8"
             ],
             [
              0.3333333333333333,
              "#9c179e"
             ],
             [
              0.4444444444444444,
              "#bd3786"
             ],
             [
              0.5555555555555556,
              "#d8576b"
             ],
             [
              0.6666666666666666,
              "#ed7953"
             ],
             [
              0.7777777777777778,
              "#fb9f3a"
             ],
             [
              0.8888888888888888,
              "#fdca26"
             ],
             [
              1,
              "#f0f921"
             ]
            ],
            "type": "heatmap"
           }
          ],
          "heatmapgl": [
           {
            "colorbar": {
             "outlinewidth": 0,
             "ticks": ""
            },
            "colorscale": [
             [
              0,
              "#0d0887"
             ],
             [
              0.1111111111111111,
              "#46039f"
             ],
             [
              0.2222222222222222,
              "#7201a8"
             ],
             [
              0.3333333333333333,
              "#9c179e"
             ],
             [
              0.4444444444444444,
              "#bd3786"
             ],
             [
              0.5555555555555556,
              "#d8576b"
             ],
             [
              0.6666666666666666,
              "#ed7953"
             ],
             [
              0.7777777777777778,
              "#fb9f3a"
             ],
             [
              0.8888888888888888,
              "#fdca26"
             ],
             [
              1,
              "#f0f921"
             ]
            ],
            "type": "heatmapgl"
           }
          ],
          "histogram": [
           {
            "marker": {
             "pattern": {
              "fillmode": "overlay",
              "size": 10,
              "solidity": 0.2
             }
            },
            "type": "histogram"
           }
          ],
          "histogram2d": [
           {
            "colorbar": {
             "outlinewidth": 0,
             "ticks": ""
            },
            "colorscale": [
             [
              0,
              "#0d0887"
             ],
             [
              0.1111111111111111,
              "#46039f"
             ],
             [
              0.2222222222222222,
              "#7201a8"
             ],
             [
              0.3333333333333333,
              "#9c179e"
             ],
             [
              0.4444444444444444,
              "#bd3786"
             ],
             [
              0.5555555555555556,
              "#d8576b"
             ],
             [
              0.6666666666666666,
              "#ed7953"
             ],
             [
              0.7777777777777778,
              "#fb9f3a"
             ],
             [
              0.8888888888888888,
              "#fdca26"
             ],
             [
              1,
              "#f0f921"
             ]
            ],
            "type": "histogram2d"
           }
          ],
          "histogram2dcontour": [
           {
            "colorbar": {
             "outlinewidth": 0,
             "ticks": ""
            },
            "colorscale": [
             [
              0,
              "#0d0887"
             ],
             [
              0.1111111111111111,
              "#46039f"
             ],
             [
              0.2222222222222222,
              "#7201a8"
             ],
             [
              0.3333333333333333,
              "#9c179e"
             ],
             [
              0.4444444444444444,
              "#bd3786"
             ],
             [
              0.5555555555555556,
              "#d8576b"
             ],
             [
              0.6666666666666666,
              "#ed7953"
             ],
             [
              0.7777777777777778,
              "#fb9f3a"
             ],
             [
              0.8888888888888888,
              "#fdca26"
             ],
             [
              1,
              "#f0f921"
             ]
            ],
            "type": "histogram2dcontour"
           }
          ],
          "mesh3d": [
           {
            "colorbar": {
             "outlinewidth": 0,
             "ticks": ""
            },
            "type": "mesh3d"
           }
          ],
          "parcoords": [
           {
            "line": {
             "colorbar": {
              "outlinewidth": 0,
              "ticks": ""
             }
            },
            "type": "parcoords"
           }
          ],
          "pie": [
           {
            "automargin": true,
            "type": "pie"
           }
          ],
          "scatter": [
           {
            "fillpattern": {
             "fillmode": "overlay",
             "size": 10,
             "solidity": 0.2
            },
            "type": "scatter"
           }
          ],
          "scatter3d": [
           {
            "line": {
             "colorbar": {
              "outlinewidth": 0,
              "ticks": ""
             }
            },
            "marker": {
             "colorbar": {
              "outlinewidth": 0,
              "ticks": ""
             }
            },
            "type": "scatter3d"
           }
          ],
          "scattercarpet": [
           {
            "marker": {
             "colorbar": {
              "outlinewidth": 0,
              "ticks": ""
             }
            },
            "type": "scattercarpet"
           }
          ],
          "scattergeo": [
           {
            "marker": {
             "colorbar": {
              "outlinewidth": 0,
              "ticks": ""
             }
            },
            "type": "scattergeo"
           }
          ],
          "scattergl": [
           {
            "marker": {
             "colorbar": {
              "outlinewidth": 0,
              "ticks": ""
             }
            },
            "type": "scattergl"
           }
          ],
          "scattermapbox": [
           {
            "marker": {
             "colorbar": {
              "outlinewidth": 0,
              "ticks": ""
             }
            },
            "type": "scattermapbox"
           }
          ],
          "scatterpolar": [
           {
            "marker": {
             "colorbar": {
              "outlinewidth": 0,
              "ticks": ""
             }
            },
            "type": "scatterpolar"
           }
          ],
          "scatterpolargl": [
           {
            "marker": {
             "colorbar": {
              "outlinewidth": 0,
              "ticks": ""
             }
            },
            "type": "scatterpolargl"
           }
          ],
          "scatterternary": [
           {
            "marker": {
             "colorbar": {
              "outlinewidth": 0,
              "ticks": ""
             }
            },
            "type": "scatterternary"
           }
          ],
          "surface": [
           {
            "colorbar": {
             "outlinewidth": 0,
             "ticks": ""
            },
            "colorscale": [
             [
              0,
              "#0d0887"
             ],
             [
              0.1111111111111111,
              "#46039f"
             ],
             [
              0.2222222222222222,
              "#7201a8"
             ],
             [
              0.3333333333333333,
              "#9c179e"
             ],
             [
              0.4444444444444444,
              "#bd3786"
             ],
             [
              0.5555555555555556,
              "#d8576b"
             ],
             [
              0.6666666666666666,
              "#ed7953"
             ],
             [
              0.7777777777777778,
              "#fb9f3a"
             ],
             [
              0.8888888888888888,
              "#fdca26"
             ],
             [
              1,
              "#f0f921"
             ]
            ],
            "type": "surface"
           }
          ],
          "table": [
           {
            "cells": {
             "fill": {
              "color": "#EBF0F8"
             },
             "line": {
              "color": "white"
             }
            },
            "header": {
             "fill": {
              "color": "#C8D4E3"
             },
             "line": {
              "color": "white"
             }
            },
            "type": "table"
           }
          ]
         },
         "layout": {
          "annotationdefaults": {
           "arrowcolor": "#2a3f5f",
           "arrowhead": 0,
           "arrowwidth": 1
          },
          "autotypenumbers": "strict",
          "coloraxis": {
           "colorbar": {
            "outlinewidth": 0,
            "ticks": ""
           }
          },
          "colorscale": {
           "diverging": [
            [
             0,
             "#8e0152"
            ],
            [
             0.1,
             "#c51b7d"
            ],
            [
             0.2,
             "#de77ae"
            ],
            [
             0.3,
             "#f1b6da"
            ],
            [
             0.4,
             "#fde0ef"
            ],
            [
             0.5,
             "#f7f7f7"
            ],
            [
             0.6,
             "#e6f5d0"
            ],
            [
             0.7,
             "#b8e186"
            ],
            [
             0.8,
             "#7fbc41"
            ],
            [
             0.9,
             "#4d9221"
            ],
            [
             1,
             "#276419"
            ]
           ],
           "sequential": [
            [
             0,
             "#0d0887"
            ],
            [
             0.1111111111111111,
             "#46039f"
            ],
            [
             0.2222222222222222,
             "#7201a8"
            ],
            [
             0.3333333333333333,
             "#9c179e"
            ],
            [
             0.4444444444444444,
             "#bd3786"
            ],
            [
             0.5555555555555556,
             "#d8576b"
            ],
            [
             0.6666666666666666,
             "#ed7953"
            ],
            [
             0.7777777777777778,
             "#fb9f3a"
            ],
            [
             0.8888888888888888,
             "#fdca26"
            ],
            [
             1,
             "#f0f921"
            ]
           ],
           "sequentialminus": [
            [
             0,
             "#0d0887"
            ],
            [
             0.1111111111111111,
             "#46039f"
            ],
            [
             0.2222222222222222,
             "#7201a8"
            ],
            [
             0.3333333333333333,
             "#9c179e"
            ],
            [
             0.4444444444444444,
             "#bd3786"
            ],
            [
             0.5555555555555556,
             "#d8576b"
            ],
            [
             0.6666666666666666,
             "#ed7953"
            ],
            [
             0.7777777777777778,
             "#fb9f3a"
            ],
            [
             0.8888888888888888,
             "#fdca26"
            ],
            [
             1,
             "#f0f921"
            ]
           ]
          },
          "colorway": [
           "#636efa",
           "#EF553B",
           "#00cc96",
           "#ab63fa",
           "#FFA15A",
           "#19d3f3",
           "#FF6692",
           "#B6E880",
           "#FF97FF",
           "#FECB52"
          ],
          "font": {
           "color": "#2a3f5f"
          },
          "geo": {
           "bgcolor": "white",
           "lakecolor": "white",
           "landcolor": "#E5ECF6",
           "showlakes": true,
           "showland": true,
           "subunitcolor": "white"
          },
          "hoverlabel": {
           "align": "left"
          },
          "hovermode": "closest",
          "mapbox": {
           "style": "light"
          },
          "paper_bgcolor": "white",
          "plot_bgcolor": "#E5ECF6",
          "polar": {
           "angularaxis": {
            "gridcolor": "white",
            "linecolor": "white",
            "ticks": ""
           },
           "bgcolor": "#E5ECF6",
           "radialaxis": {
            "gridcolor": "white",
            "linecolor": "white",
            "ticks": ""
           }
          },
          "scene": {
           "xaxis": {
            "backgroundcolor": "#E5ECF6",
            "gridcolor": "white",
            "gridwidth": 2,
            "linecolor": "white",
            "showbackground": true,
            "ticks": "",
            "zerolinecolor": "white"
           },
           "yaxis": {
            "backgroundcolor": "#E5ECF6",
            "gridcolor": "white",
            "gridwidth": 2,
            "linecolor": "white",
            "showbackground": true,
            "ticks": "",
            "zerolinecolor": "white"
           },
           "zaxis": {
            "backgroundcolor": "#E5ECF6",
            "gridcolor": "white",
            "gridwidth": 2,
            "linecolor": "white",
            "showbackground": true,
            "ticks": "",
            "zerolinecolor": "white"
           }
          },
          "shapedefaults": {
           "line": {
            "color": "#2a3f5f"
           }
          },
          "ternary": {
           "aaxis": {
            "gridcolor": "white",
            "linecolor": "white",
            "ticks": ""
           },
           "baxis": {
            "gridcolor": "white",
            "linecolor": "white",
            "ticks": ""
           },
           "bgcolor": "#E5ECF6",
           "caxis": {
            "gridcolor": "white",
            "linecolor": "white",
            "ticks": ""
           }
          },
          "title": {
           "x": 0.05
          },
          "xaxis": {
           "automargin": true,
           "gridcolor": "white",
           "linecolor": "white",
           "ticks": "",
           "title": {
            "standoff": 15
           },
           "zerolinecolor": "white",
           "zerolinewidth": 2
          },
          "yaxis": {
           "automargin": true,
           "gridcolor": "white",
           "linecolor": "white",
           "ticks": "",
           "title": {
            "standoff": 15
           },
           "zerolinecolor": "white",
           "zerolinewidth": 2
          }
         }
        },
        "title": {
         "text": "F1 Score by Cluster"
        },
        "width": 600,
        "xaxis": {
         "anchor": "y",
         "autorange": true,
         "domain": [
          0,
          1
         ],
         "range": [
          -0.5,
          2.5
         ],
         "title": {
          "text": "Cluster"
         },
         "type": "category"
        },
        "yaxis": {
         "anchor": "x",
         "autorange": true,
         "domain": [
          0,
          1
         ],
         "range": [
          0,
          1.0281517747858018
         ],
         "title": {
          "text": "F1"
         },
         "type": "linear"
        }
       }
      },
      "text/html": [
       "<div>                            <div id=\"8ec86f59-ef3b-4018-a6b0-3f2dff5694ce\" class=\"plotly-graph-div\" style=\"height:500px; width:600px;\"></div>            <script type=\"text/javascript\">                require([\"plotly\"], function(Plotly) {                    window.PLOTLYENV=window.PLOTLYENV || {};                                    if (document.getElementById(\"8ec86f59-ef3b-4018-a6b0-3f2dff5694ce\")) {                    Plotly.newPlot(                        \"8ec86f59-ef3b-4018-a6b0-3f2dff5694ce\",                        [{\"alignmentgroup\":\"True\",\"hovertemplate\":\"Source=Training Data\\u003cbr\\u003eCluster=%{x}\\u003cbr\\u003eF1=%{y}\\u003cextra\\u003e\\u003c\\u002fextra\\u003e\",\"legendgroup\":\"Training Data\",\"marker\":{\"color\":\"blue\",\"pattern\":{\"shape\":\"\"}},\"name\":\"Training Data\",\"offsetgroup\":\"Training Data\",\"orientation\":\"v\",\"showlegend\":true,\"textposition\":\"auto\",\"x\":[\"0\",\"1\",\"2\"],\"xaxis\":\"x\",\"y\":[0.9473684210526316,0.9702970297029702,0.0],\"yaxis\":\"y\",\"type\":\"bar\"},{\"alignmentgroup\":\"True\",\"hovertemplate\":\"Source=Test Data\\u003cbr\\u003eCluster=%{x}\\u003cbr\\u003eF1=%{y}\\u003cextra\\u003e\\u003c\\u002fextra\\u003e\",\"legendgroup\":\"Test Data\",\"marker\":{\"color\":\"lightblue\",\"pattern\":{\"shape\":\"\"}},\"name\":\"Test Data\",\"offsetgroup\":\"Test Data\",\"orientation\":\"v\",\"showlegend\":true,\"textposition\":\"auto\",\"x\":[\"0\",\"1\",\"2\"],\"xaxis\":\"x\",\"y\":[0.8421052631578948,0.9736070381231672,0.0],\"yaxis\":\"y\",\"type\":\"bar\"},{\"alignmentgroup\":\"True\",\"hovertemplate\":\"Source=Test Data (Altered)\\u003cbr\\u003eCluster=%{x}\\u003cbr\\u003eF1=%{y}\\u003cextra\\u003e\\u003c\\u002fextra\\u003e\",\"legendgroup\":\"Test Data (Altered)\",\"marker\":{\"color\":\"orange\",\"pattern\":{\"shape\":\"\"}},\"name\":\"Test Data (Altered)\",\"offsetgroup\":\"Test Data (Altered)\",\"orientation\":\"v\",\"showlegend\":true,\"textposition\":\"auto\",\"x\":[\"0\",\"1\",\"2\"],\"xaxis\":\"x\",\"y\":[0.8205128205128205,0.9767441860465116,0.0],\"yaxis\":\"y\",\"type\":\"bar\"}],                        {\"template\":{\"data\":{\"histogram2dcontour\":[{\"type\":\"histogram2dcontour\",\"colorbar\":{\"outlinewidth\":0,\"ticks\":\"\"},\"colorscale\":[[0.0,\"#0d0887\"],[0.1111111111111111,\"#46039f\"],[0.2222222222222222,\"#7201a8\"],[0.3333333333333333,\"#9c179e\"],[0.4444444444444444,\"#bd3786\"],[0.5555555555555556,\"#d8576b\"],[0.6666666666666666,\"#ed7953\"],[0.7777777777777778,\"#fb9f3a\"],[0.8888888888888888,\"#fdca26\"],[1.0,\"#f0f921\"]]}],\"choropleth\":[{\"type\":\"choropleth\",\"colorbar\":{\"outlinewidth\":0,\"ticks\":\"\"}}],\"histogram2d\":[{\"type\":\"histogram2d\",\"colorbar\":{\"outlinewidth\":0,\"ticks\":\"\"},\"colorscale\":[[0.0,\"#0d0887\"],[0.1111111111111111,\"#46039f\"],[0.2222222222222222,\"#7201a8\"],[0.3333333333333333,\"#9c179e\"],[0.4444444444444444,\"#bd3786\"],[0.5555555555555556,\"#d8576b\"],[0.6666666666666666,\"#ed7953\"],[0.7777777777777778,\"#fb9f3a\"],[0.8888888888888888,\"#fdca26\"],[1.0,\"#f0f921\"]]}],\"heatmap\":[{\"type\":\"heatmap\",\"colorbar\":{\"outlinewidth\":0,\"ticks\":\"\"},\"colorscale\":[[0.0,\"#0d0887\"],[0.1111111111111111,\"#46039f\"],[0.2222222222222222,\"#7201a8\"],[0.3333333333333333,\"#9c179e\"],[0.4444444444444444,\"#bd3786\"],[0.5555555555555556,\"#d8576b\"],[0.6666666666666666,\"#ed7953\"],[0.7777777777777778,\"#fb9f3a\"],[0.8888888888888888,\"#fdca26\"],[1.0,\"#f0f921\"]]}],\"heatmapgl\":[{\"type\":\"heatmapgl\",\"colorbar\":{\"outlinewidth\":0,\"ticks\":\"\"},\"colorscale\":[[0.0,\"#0d0887\"],[0.1111111111111111,\"#46039f\"],[0.2222222222222222,\"#7201a8\"],[0.3333333333333333,\"#9c179e\"],[0.4444444444444444,\"#bd3786\"],[0.5555555555555556,\"#d8576b\"],[0.6666666666666666,\"#ed7953\"],[0.7777777777777778,\"#fb9f3a\"],[0.8888888888888888,\"#fdca26\"],[1.0,\"#f0f921\"]]}],\"contourcarpet\":[{\"type\":\"contourcarpet\",\"colorbar\":{\"outlinewidth\":0,\"ticks\":\"\"}}],\"contour\":[{\"type\":\"contour\",\"colorbar\":{\"outlinewidth\":0,\"ticks\":\"\"},\"colorscale\":[[0.0,\"#0d0887\"],[0.1111111111111111,\"#46039f\"],[0.2222222222222222,\"#7201a8\"],[0.3333333333333333,\"#9c179e\"],[0.4444444444444444,\"#bd3786\"],[0.5555555555555556,\"#d8576b\"],[0.6666666666666666,\"#ed7953\"],[0.7777777777777778,\"#fb9f3a\"],[0.8888888888888888,\"#fdca26\"],[1.0,\"#f0f921\"]]}],\"surface\":[{\"type\":\"surface\",\"colorbar\":{\"outlinewidth\":0,\"ticks\":\"\"},\"colorscale\":[[0.0,\"#0d0887\"],[0.1111111111111111,\"#46039f\"],[0.2222222222222222,\"#7201a8\"],[0.3333333333333333,\"#9c179e\"],[0.4444444444444444,\"#bd3786\"],[0.5555555555555556,\"#d8576b\"],[0.6666666666666666,\"#ed7953\"],[0.7777777777777778,\"#fb9f3a\"],[0.8888888888888888,\"#fdca26\"],[1.0,\"#f0f921\"]]}],\"mesh3d\":[{\"type\":\"mesh3d\",\"colorbar\":{\"outlinewidth\":0,\"ticks\":\"\"}}],\"scatter\":[{\"fillpattern\":{\"fillmode\":\"overlay\",\"size\":10,\"solidity\":0.2},\"type\":\"scatter\"}],\"parcoords\":[{\"type\":\"parcoords\",\"line\":{\"colorbar\":{\"outlinewidth\":0,\"ticks\":\"\"}}}],\"scatterpolargl\":[{\"type\":\"scatterpolargl\",\"marker\":{\"colorbar\":{\"outlinewidth\":0,\"ticks\":\"\"}}}],\"bar\":[{\"error_x\":{\"color\":\"#2a3f5f\"},\"error_y\":{\"color\":\"#2a3f5f\"},\"marker\":{\"line\":{\"color\":\"#E5ECF6\",\"width\":0.5},\"pattern\":{\"fillmode\":\"overlay\",\"size\":10,\"solidity\":0.2}},\"type\":\"bar\"}],\"scattergeo\":[{\"type\":\"scattergeo\",\"marker\":{\"colorbar\":{\"outlinewidth\":0,\"ticks\":\"\"}}}],\"scatterpolar\":[{\"type\":\"scatterpolar\",\"marker\":{\"colorbar\":{\"outlinewidth\":0,\"ticks\":\"\"}}}],\"histogram\":[{\"marker\":{\"pattern\":{\"fillmode\":\"overlay\",\"size\":10,\"solidity\":0.2}},\"type\":\"histogram\"}],\"scattergl\":[{\"type\":\"scattergl\",\"marker\":{\"colorbar\":{\"outlinewidth\":0,\"ticks\":\"\"}}}],\"scatter3d\":[{\"type\":\"scatter3d\",\"line\":{\"colorbar\":{\"outlinewidth\":0,\"ticks\":\"\"}},\"marker\":{\"colorbar\":{\"outlinewidth\":0,\"ticks\":\"\"}}}],\"scattermapbox\":[{\"type\":\"scattermapbox\",\"marker\":{\"colorbar\":{\"outlinewidth\":0,\"ticks\":\"\"}}}],\"scatterternary\":[{\"type\":\"scatterternary\",\"marker\":{\"colorbar\":{\"outlinewidth\":0,\"ticks\":\"\"}}}],\"scattercarpet\":[{\"type\":\"scattercarpet\",\"marker\":{\"colorbar\":{\"outlinewidth\":0,\"ticks\":\"\"}}}],\"carpet\":[{\"aaxis\":{\"endlinecolor\":\"#2a3f5f\",\"gridcolor\":\"white\",\"linecolor\":\"white\",\"minorgridcolor\":\"white\",\"startlinecolor\":\"#2a3f5f\"},\"baxis\":{\"endlinecolor\":\"#2a3f5f\",\"gridcolor\":\"white\",\"linecolor\":\"white\",\"minorgridcolor\":\"white\",\"startlinecolor\":\"#2a3f5f\"},\"type\":\"carpet\"}],\"table\":[{\"cells\":{\"fill\":{\"color\":\"#EBF0F8\"},\"line\":{\"color\":\"white\"}},\"header\":{\"fill\":{\"color\":\"#C8D4E3\"},\"line\":{\"color\":\"white\"}},\"type\":\"table\"}],\"barpolar\":[{\"marker\":{\"line\":{\"color\":\"#E5ECF6\",\"width\":0.5},\"pattern\":{\"fillmode\":\"overlay\",\"size\":10,\"solidity\":0.2}},\"type\":\"barpolar\"}],\"pie\":[{\"automargin\":true,\"type\":\"pie\"}]},\"layout\":{\"autotypenumbers\":\"strict\",\"colorway\":[\"#636efa\",\"#EF553B\",\"#00cc96\",\"#ab63fa\",\"#FFA15A\",\"#19d3f3\",\"#FF6692\",\"#B6E880\",\"#FF97FF\",\"#FECB52\"],\"font\":{\"color\":\"#2a3f5f\"},\"hovermode\":\"closest\",\"hoverlabel\":{\"align\":\"left\"},\"paper_bgcolor\":\"white\",\"plot_bgcolor\":\"#E5ECF6\",\"polar\":{\"bgcolor\":\"#E5ECF6\",\"angularaxis\":{\"gridcolor\":\"white\",\"linecolor\":\"white\",\"ticks\":\"\"},\"radialaxis\":{\"gridcolor\":\"white\",\"linecolor\":\"white\",\"ticks\":\"\"}},\"ternary\":{\"bgcolor\":\"#E5ECF6\",\"aaxis\":{\"gridcolor\":\"white\",\"linecolor\":\"white\",\"ticks\":\"\"},\"baxis\":{\"gridcolor\":\"white\",\"linecolor\":\"white\",\"ticks\":\"\"},\"caxis\":{\"gridcolor\":\"white\",\"linecolor\":\"white\",\"ticks\":\"\"}},\"coloraxis\":{\"colorbar\":{\"outlinewidth\":0,\"ticks\":\"\"}},\"colorscale\":{\"sequential\":[[0.0,\"#0d0887\"],[0.1111111111111111,\"#46039f\"],[0.2222222222222222,\"#7201a8\"],[0.3333333333333333,\"#9c179e\"],[0.4444444444444444,\"#bd3786\"],[0.5555555555555556,\"#d8576b\"],[0.6666666666666666,\"#ed7953\"],[0.7777777777777778,\"#fb9f3a\"],[0.8888888888888888,\"#fdca26\"],[1.0,\"#f0f921\"]],\"sequentialminus\":[[0.0,\"#0d0887\"],[0.1111111111111111,\"#46039f\"],[0.2222222222222222,\"#7201a8\"],[0.3333333333333333,\"#9c179e\"],[0.4444444444444444,\"#bd3786\"],[0.5555555555555556,\"#d8576b\"],[0.6666666666666666,\"#ed7953\"],[0.7777777777777778,\"#fb9f3a\"],[0.8888888888888888,\"#fdca26\"],[1.0,\"#f0f921\"]],\"diverging\":[[0,\"#8e0152\"],[0.1,\"#c51b7d\"],[0.2,\"#de77ae\"],[0.3,\"#f1b6da\"],[0.4,\"#fde0ef\"],[0.5,\"#f7f7f7\"],[0.6,\"#e6f5d0\"],[0.7,\"#b8e186\"],[0.8,\"#7fbc41\"],[0.9,\"#4d9221\"],[1,\"#276419\"]]},\"xaxis\":{\"gridcolor\":\"white\",\"linecolor\":\"white\",\"ticks\":\"\",\"title\":{\"standoff\":15},\"zerolinecolor\":\"white\",\"automargin\":true,\"zerolinewidth\":2},\"yaxis\":{\"gridcolor\":\"white\",\"linecolor\":\"white\",\"ticks\":\"\",\"title\":{\"standoff\":15},\"zerolinecolor\":\"white\",\"automargin\":true,\"zerolinewidth\":2},\"scene\":{\"xaxis\":{\"backgroundcolor\":\"#E5ECF6\",\"gridcolor\":\"white\",\"linecolor\":\"white\",\"showbackground\":true,\"ticks\":\"\",\"zerolinecolor\":\"white\",\"gridwidth\":2},\"yaxis\":{\"backgroundcolor\":\"#E5ECF6\",\"gridcolor\":\"white\",\"linecolor\":\"white\",\"showbackground\":true,\"ticks\":\"\",\"zerolinecolor\":\"white\",\"gridwidth\":2},\"zaxis\":{\"backgroundcolor\":\"#E5ECF6\",\"gridcolor\":\"white\",\"linecolor\":\"white\",\"showbackground\":true,\"ticks\":\"\",\"zerolinecolor\":\"white\",\"gridwidth\":2}},\"shapedefaults\":{\"line\":{\"color\":\"#2a3f5f\"}},\"annotationdefaults\":{\"arrowcolor\":\"#2a3f5f\",\"arrowhead\":0,\"arrowwidth\":1},\"geo\":{\"bgcolor\":\"white\",\"landcolor\":\"#E5ECF6\",\"subunitcolor\":\"white\",\"showland\":true,\"showlakes\":true,\"lakecolor\":\"white\"},\"title\":{\"x\":0.05},\"mapbox\":{\"style\":\"light\"}}},\"xaxis\":{\"anchor\":\"y\",\"domain\":[0.0,1.0],\"title\":{\"text\":\"Cluster\"}},\"yaxis\":{\"anchor\":\"x\",\"domain\":[0.0,1.0],\"title\":{\"text\":\"F1\"}},\"legend\":{\"title\":{\"text\":\"Source\"},\"tracegroupgap\":0},\"title\":{\"text\":\"F1 Score by Cluster\"},\"barmode\":\"group\",\"height\":500,\"width\":600},                        {\"responsive\": true}                    ).then(function(){\n",
       "                            \n",
       "var gd = document.getElementById('8ec86f59-ef3b-4018-a6b0-3f2dff5694ce');\n",
       "var x = new MutationObserver(function (mutations, observer) {{\n",
       "        var display = window.getComputedStyle(gd).display;\n",
       "        if (!display || display === 'none') {{\n",
       "            console.log([gd, 'removed!']);\n",
       "            Plotly.purge(gd);\n",
       "            observer.disconnect();\n",
       "        }}\n",
       "}});\n",
       "\n",
       "// Listen for the removal of the full notebook cells\n",
       "var notebookContainer = gd.closest('#notebook-container');\n",
       "if (notebookContainer) {{\n",
       "    x.observe(notebookContainer, {childList: true});\n",
       "}}\n",
       "\n",
       "// Listen for the clearing of the current output cell\n",
       "var outputEl = gd.closest('.output');\n",
       "if (outputEl) {{\n",
       "    x.observe(outputEl, {childList: true});\n",
       "}}\n",
       "\n",
       "                        })                };                });            </script>        </div>"
      ]
     },
     "metadata": {},
     "output_type": "display_data"
    }
   ],
   "source": [
    "px.bar(performance_df, x='Cluster', y='F1', color='Source', barmode=\"group\", width=600, height=500,\n",
    "      title='F1 Score by Cluster', color_discrete_map=source_dict)"
   ]
  },
  {
   "cell_type": "code",
   "execution_count": 26,
   "id": "7d537077",
   "metadata": {},
   "outputs": [
    {
     "data": {
      "text/plain": [
       "182"
      ]
     },
     "execution_count": 26,
     "metadata": {},
     "output_type": "execute_result"
    }
   ],
   "source": [
    "np.sum(list(map(all,zip(y_test==1, p_test==1))))\n",
    "\n",
    "np.sum(list(map(all,zip(y_test==1, p_test==1))))"
   ]
  },
  {
   "cell_type": "code",
   "execution_count": 27,
   "id": "358cd336",
   "metadata": {},
   "outputs": [
    {
     "data": {
      "text/plain": [
       "182"
      ]
     },
     "execution_count": 27,
     "metadata": {},
     "output_type": "execute_result"
    }
   ],
   "source": [
    "tn, fp, fn, tp = confusion_matrix(y_test, p_test).ravel()\n",
    "tp"
   ]
  },
  {
   "cell_type": "code",
   "execution_count": 28,
   "id": "347e16ed",
   "metadata": {},
   "outputs": [],
   "source": [
    "from sklearn.decomposition import FastICA\n",
    "def get_decision_boundary(X, y, model, alpha=.05, n = 100):\n",
    "    model = Pipeline(steps= [('scale', StandardScaler()), ('decomp',FastICA(2) )])\n",
    "    X_comps = model.fit_transform(X)\n",
    "    comp_0_grid, comp_1_grid = np.meshgrid(np.linspace( X_comps[:, 0].min(),  X_comps[:, 0].max()), \n",
    "                                                       np.linspace( X_comps[:, 1].min(),  X_comps[:, 1].max()))\n",
    "    grid_comps =  np.vstack([comp_0_grid.ravel(), comp_1_grid .ravel()]).T\n",
    "\n",
    "    grid_features =  model.inverse_transform(grid_comps)\n",
    "    grid_pred = estimator.predict_proba(grid_features)[:, 1]\n",
    "    grid_pred_labels = estimator.predict(grid_features)                                \n",
    "    col_stats = []\n",
    "    \n",
    "    results = pd.DataFrame({'comp0': grid_comps[:, 0],\n",
    "                            'comp1': grid_comps[:, 1],\n",
    "                            'pred_prob' : grid_pred,\n",
    "                            'pred_label':  grid_pred_labels})\n",
    "    return results\n",
    "\n",
    "to_plot = get_decision_boundary(X, y, estimator, alpha=.05, n = 100)"
   ]
  },
  {
   "cell_type": "code",
   "execution_count": 29,
   "id": "1f7d4f21",
   "metadata": {},
   "outputs": [
    {
     "data": {
      "application/vnd.plotly.v1+json": {
       "config": {
        "plotlyServerURL": "https://plot.ly"
       },
       "data": [
        {
         "hovertemplate": "pred_label=1<br>comp0=%{x}<br>comp1=%{y}<br>pred_prob=%{marker.color}<extra></extra>",
         "legendgroup": "1",
         "marker": {
          "color": [
           0.5657142857142856,
           0.5657142857142856,
           0.5657142857142856,
           0.5657142857142856,
           0.5657142857142856,
           0.5657142857142856,
           0.5657142857142856,
           0.5657142857142856,
           0.5657142857142856,
           0.5657142857142856,
           0.5657142857142856,
           0.5657142857142856,
           0.5657142857142856,
           0.5657142857142856,
           0.5657142857142856,
           0.5657142857142856,
           0.5657142857142856,
           0.5657142857142856,
           0.5657142857142856,
           0.5657142857142856,
           0.5657142857142856,
           0.5657142857142856,
           0.5657142857142856,
           0.5657142857142856,
           0.5657142857142856,
           0.5657142857142856,
           0.5657142857142856,
           0.5657142857142856,
           0.5657142857142856,
           0.5657142857142856,
           0.5657142857142856,
           0.5657142857142856,
           0.5657142857142856,
           0.5657142857142856,
           0.5657142857142856,
           0.5657142857142856,
           0.5657142857142856,
           0.5657142857142856,
           0.5657142857142856,
           0.5657142857142856,
           0.5657142857142856,
           0.5657142857142856,
           0.5657142857142856,
           0.5657142857142856,
           0.5657142857142856,
           0.584047619047619,
           0.5657142857142856,
           0.5657142857142856,
           0.5657142857142856,
           0.5657142857142856,
           0.5657142857142856,
           0.5657142857142856,
           0.584047619047619,
           0.584047619047619,
           0.5657142857142856,
           0.5657142857142856,
           0.5657142857142856,
           0.5657142857142856,
           0.5657142857142856,
           0.5040476190476191,
           0.5040476190476191,
           0.584047619047619,
           0.6907142857142856,
           0.5657142857142856,
           0.5657142857142856,
           0.5657142857142856,
           0.5657142857142856,
           0.692156862745098,
           0.5778711484593837,
           0.5040476190476191,
           0.584047619047619,
           0.584047619047619,
           0.5657142857142856,
           0.5657142857142856,
           0.5657142857142856,
           0.7960539472284583,
           0.692156862745098,
           0.5778711484593837,
           0.5040476190476191,
           0.584047619047619,
           0.584047619047619,
           0.5657142857142856,
           0.5657142857142856,
           0.7960539472284583,
           0.7960539472284583,
           0.7308910399602879,
           0.7378711484593837,
           0.7378711484593837,
           0.664047619047619,
           0.584047619047619,
           0.6907142857142856,
           0.5657142857142856,
           0.7960539472284583,
           0.9946746368836308,
           0.9946746368836308,
           0.9295117296154605,
           0.8907775524002706,
           0.7378711484593837,
           0.664047619047619,
           0.584047619047619,
           0.6907142857142856,
           0.9946746368836308,
           0.9946746368836308,
           0.9946746368836308,
           0.9946746368836308,
           0.9946746368836308,
           0.8907775524002706,
           0.7378711484593837,
           0.7378711484593837,
           0.664047619047619,
           0.6907142857142856,
           0.9946746368836308,
           0.9946746368836308,
           0.9946746368836308,
           0.9946746368836308,
           0.9946746368836308,
           0.9946746368836308,
           0.9295117296154605,
           0.7378711484593837,
           0.7378711484593837,
           0.664047619047619,
           0.6983333333333334,
           0.605,
           0.9946746368836308,
           0.9946746368836308,
           0.9946746368836308,
           0.9946746368836308,
           0.9946746368836308,
           0.9946746368836308,
           0.9946746368836308,
           0.9946746368836308,
           0.852156862745098,
           0.852156862745098,
           0.852156862745098,
           0.6983333333333334,
           0.9946746368836308,
           0.9946746368836308,
           0.9946746368836308,
           0.9946746368836308,
           0.9946746368836308,
           0.9946746368836308,
           0.9946746368836308,
           0.9946746368836308,
           0.9946746368836308,
           0.890891039960288,
           0.852156862745098,
           0.852156862745098,
           0.7783333333333333,
           0.9946746368836308,
           0.9946746368836308,
           0.9946746368836308,
           0.9946746368836308,
           0.9946746368836308,
           0.9946746368836308,
           0.9946746368836308,
           0.9946746368836308,
           0.9946746368836308,
           0.9946746368836308,
           0.9295117296154605,
           0.852156862745098,
           0.852156862745098,
           0.852156862745098,
           0.9946746368836308,
           0.9946746368836308,
           0.9946746368836308,
           0.9946746368836308,
           0.9946746368836308,
           0.9946746368836308,
           0.9946746368836308,
           0.9946746368836308,
           0.9946746368836308,
           0.9946746368836308,
           0.9946746368836308,
           0.9946746368836308,
           0.852156862745098,
           0.852156862745098,
           0.852156862745098,
           0.9946746368836308,
           0.9946746368836308,
           0.9946746368836308,
           0.9946746368836308,
           0.9946746368836308,
           0.9946746368836308,
           0.9946746368836308,
           0.9946746368836308,
           0.9946746368836308,
           0.9946746368836308,
           0.9946746368836308,
           0.9946746368836308,
           0.9946746368836308,
           0.890891039960288,
           0.852156862745098,
           0.692156862745098,
           0.9946746368836308,
           0.9946746368836308,
           0.9946746368836308,
           0.9946746368836308,
           0.9946746368836308,
           0.9946746368836308,
           0.9946746368836308,
           0.9946746368836308,
           0.9946746368836308,
           0.9946746368836308,
           0.9946746368836308,
           0.9946746368836308,
           0.9946746368836308,
           0.9946746368836308,
           0.9560539472284584,
           0.852156862745098,
           0.692156862745098,
           0.9946746368836308,
           0.9946746368836308,
           0.9946746368836308,
           0.9946746368836308,
           0.9946746368836308,
           0.9946746368836308,
           0.9946746368836308,
           0.9946746368836308,
           0.9946746368836308,
           0.9946746368836308,
           0.9946746368836308,
           0.9946746368836308,
           0.9946746368836308,
           0.9946746368836308,
           0.9946746368836308,
           0.9946746368836308,
           0.692156862745098,
           0.9946746368836308,
           0.9946746368836308,
           0.9946746368836308,
           0.9946746368836308,
           0.9946746368836308,
           0.9946746368836308,
           0.9946746368836308,
           0.9946746368836308,
           0.9946746368836308,
           0.9946746368836308,
           0.9946746368836308,
           0.9946746368836308,
           0.9946746368836308,
           0.9946746368836308,
           0.9946746368836308,
           0.9946746368836308,
           0.9946746368836308,
           0.5308910399602879,
           0.9946746368836308,
           0.9946746368836308,
           0.9946746368836308,
           0.9946746368836308,
           0.9946746368836308,
           0.9946746368836308,
           0.9946746368836308,
           0.9946746368836308,
           0.9946746368836308,
           0.9946746368836308,
           0.9946746368836308,
           0.9946746368836308,
           0.9946746368836308,
           0.9946746368836308,
           0.9946746368836308,
           0.9946746368836308,
           0.9946746368836308,
           0.9960539472284584,
           0.9946746368836308,
           0.9946746368836308,
           0.9946746368836308,
           0.9946746368836308,
           0.9946746368836308,
           0.9946746368836308,
           0.9946746368836308,
           0.9946746368836308,
           0.9946746368836308,
           0.9946746368836308,
           0.9946746368836308,
           0.9946746368836308,
           0.9946746368836308,
           0.9946746368836308,
           0.9946746368836308,
           0.9946746368836308,
           0.996178396282127,
           0.8283269373961855,
           0.6283269373961853,
           0.9946746368836308,
           0.9946746368836308,
           0.9946746368836308,
           0.9946746368836308,
           0.9946746368836308,
           0.9946746368836308,
           0.9946746368836308,
           0.9946746368836308,
           0.9946746368836308,
           0.9946746368836308,
           0.9946746368836308,
           0.9946746368836308,
           0.9946746368836308,
           0.9946746368836308,
           0.996178396282127,
           0.996178396282127,
           0.996178396282127,
           0.8269476270513578,
           0.6283269373961853,
           0.6283269373961853,
           0.9946746368836308,
           0.9946746368836308,
           0.9946746368836308,
           0.9946746368836308,
           0.9946746368836308,
           0.9946746368836308,
           0.9946746368836308,
           0.9946746368836308,
           0.9946746368836308,
           0.9946746368836308,
           0.9946746368836308,
           0.9946746368836308,
           0.9946746368836308,
           0.996178396282127,
           0.996178396282127,
           0.996178396282127,
           0.996178396282127,
           0.996178396282127,
           0.8283269373961855,
           0.6283269373961853,
           0.5010213316095669,
           0.9946746368836308,
           0.9946746368836308,
           0.9946746368836308,
           0.9946746368836308,
           0.9946746368836308,
           0.9946746368836308,
           0.9946746368836308,
           0.9946746368836308,
           0.9946746368836308,
           0.9946746368836308,
           0.9946746368836308,
           0.996178396282127,
           0.996178396282127,
           0.996178396282127,
           0.996178396282127,
           0.996178396282127,
           0.996178396282127,
           0.996178396282127,
           0.8283269373961855,
           0.6283269373961853,
           0.5010213316095669,
           0.9946746368836308,
           0.9946746368836308,
           0.9946746368836308,
           0.9946746368836308,
           0.9946746368836308,
           0.9946746368836308,
           0.9946746368836308,
           0.9946746368836308,
           0.9946746368836308,
           0.996178396282127,
           0.996178396282127,
           0.996178396282127,
           0.996178396282127,
           0.996178396282127,
           0.996178396282127,
           0.996178396282127,
           0.996178396282127,
           0.996178396282127,
           0.8269476270513578,
           0.7010213316095669,
           0.5010213316095669,
           0.9946746368836308,
           0.9946746368836308,
           0.9946746368836308,
           0.9946746368836308,
           0.9946746368836308,
           0.9946746368836308,
           0.9946746368836308,
           0.9946746368836308,
           0.996178396282127,
           0.996178396282127,
           0.996178396282127,
           0.996178396282127,
           0.996178396282127,
           0.996178396282127,
           0.996178396282127,
           0.996178396282127,
           0.996178396282127,
           0.996178396282127,
           0.996178396282127,
           0.7010213316095669,
           0.5010213316095669,
           0.9946746368836308,
           0.9946746368836308,
           0.9946746368836308,
           0.9946746368836308,
           0.9946746368836308,
           0.9946746368836308,
           0.996178396282127,
           0.996178396282127,
           0.996178396282127,
           0.996178396282127,
           0.996178396282127,
           0.996178396282127,
           0.996178396282127,
           0.996178396282127,
           0.996178396282127,
           0.996178396282127,
           0.996178396282127,
           0.996178396282127,
           0.8688727904955085,
           0.6996420212647393,
           0.5010213316095669,
           0.5010213316095669,
           0.9946746368836308,
           0.9946746368836308,
           0.9946746368836308,
           0.9946746368836308,
           0.9946746368836308,
           0.996178396282127,
           0.996178396282127,
           0.996178396282127,
           0.996178396282127,
           0.996178396282127,
           0.996178396282127,
           0.996178396282127,
           0.996178396282127,
           0.996178396282127,
           0.996178396282127,
           0.996178396282127,
           0.996178396282127,
           0.996178396282127,
           0.8688727904955085,
           0.8688727904955085,
           0.7010213316095669,
           0.5010213316095669,
           0.9946746368836308,
           0.9946746368836308,
           0.9946746368836308,
           0.996178396282127,
           0.996178396282127,
           0.996178396282127,
           0.996178396282127,
           0.996178396282127,
           0.996178396282127,
           0.996178396282127,
           0.996178396282127,
           0.996178396282127,
           0.996178396282127,
           0.996178396282127,
           0.996178396282127,
           0.996178396282127,
           0.996178396282127,
           0.8688727904955085,
           0.8688727904955085,
           0.8688727904955085,
           0.7010213316095669,
           0.5010213316095669,
           0.9946746368836308,
           0.996178396282127,
           0.996178396282127,
           0.996178396282127,
           0.996178396282127,
           0.996178396282127,
           0.996178396282127,
           0.996178396282127,
           0.996178396282127,
           0.996178396282127,
           0.996178396282127,
           0.996178396282127,
           0.996178396282127,
           0.996178396282127,
           0.996178396282127,
           0.996178396282127,
           0.996178396282127,
           0.8688727904955085,
           0.8688727904955085,
           0.8688727904955085,
           0.6996420212647393,
           0.5010213316095669,
           0.996178396282127,
           0.996178396282127,
           0.996178396282127,
           0.996178396282127,
           0.996178396282127,
           0.996178396282127,
           0.996178396282127,
           0.996178396282127,
           0.996178396282127,
           0.996178396282127,
           0.996178396282127,
           0.996178396282127,
           0.996178396282127,
           0.996178396282127,
           0.996178396282127,
           0.996178396282127,
           0.8688727904955085,
           0.8688727904955085,
           0.8688727904955085,
           0.8688727904955085,
           0.8688727904955085,
           0.7010213316095669,
           0.5010213316095669,
           0.996178396282127,
           0.996178396282127,
           0.996178396282127,
           0.996178396282127,
           0.996178396282127,
           0.996178396282127,
           0.996178396282127,
           0.996178396282127,
           0.996178396282127,
           0.996178396282127,
           0.996178396282127,
           0.996178396282127,
           0.996178396282127,
           0.996178396282127,
           0.996178396282127,
           0.996178396282127,
           0.8688727904955085,
           0.8688727904955085,
           0.8688727904955085,
           0.8688727904955085,
           0.8688727904955085,
           0.7010213316095669,
           0.5010213316095669,
           0.996178396282127,
           0.996178396282127,
           0.996178396282127,
           0.996178396282127,
           0.996178396282127,
           0.996178396282127,
           0.996178396282127,
           0.996178396282127,
           0.996178396282127,
           0.996178396282127,
           0.996178396282127,
           0.996178396282127,
           0.996178396282127,
           0.996178396282127,
           0.996178396282127,
           0.8688727904955085,
           0.8688727904955085,
           0.8688727904955085,
           0.8688727904955085,
           0.8688727904955085,
           0.8688727904955085,
           0.6996420212647393,
           0.7010213316095669,
           0.996178396282127,
           0.996178396282127,
           0.996178396282127,
           0.996178396282127,
           0.996178396282127,
           0.996178396282127,
           0.996178396282127,
           0.996178396282127,
           0.996178396282127,
           0.996178396282127,
           0.996178396282127,
           0.996178396282127,
           0.996178396282127,
           0.996178396282127,
           0.996178396282127,
           0.8688727904955085,
           0.8688727904955085,
           0.8688727904955085,
           0.8688727904955085,
           0.8688727904955085,
           0.8688727904955085,
           0.8688727904955085,
           0.7010213316095669,
           0.996178396282127,
           0.996178396282127,
           0.996178396282127,
           0.996178396282127,
           0.996178396282127,
           0.996178396282127,
           0.996178396282127,
           0.996178396282127,
           0.996178396282127,
           0.996178396282127,
           0.996178396282127,
           0.996178396282127,
           0.996178396282127,
           0.996178396282127,
           0.996178396282127,
           0.8688727904955085,
           0.8688727904955085,
           0.8688727904955085,
           0.8688727904955085,
           0.8688727904955085,
           0.8688727904955085,
           0.8688727904955085,
           0.6996420212647393,
           0.5010213316095669,
           0.996178396282127,
           0.996178396282127,
           0.996178396282127,
           0.996178396282127,
           0.996178396282127,
           0.996178396282127,
           0.996178396282127,
           0.996178396282127,
           0.996178396282127,
           0.996178396282127,
           0.996178396282127,
           0.996178396282127,
           0.996178396282127,
           0.996178396282127,
           0.8688727904955085,
           0.8688727904955085,
           0.8688727904955085,
           0.8688727904955085,
           0.8688727904955085,
           0.8688727904955085,
           0.8688727904955085,
           0.8688727904955085,
           0.8688727904955085,
           0.7010213316095669,
           0.996178396282127,
           0.996178396282127,
           0.996178396282127,
           0.996178396282127,
           0.996178396282127,
           0.996178396282127,
           0.996178396282127,
           0.996178396282127,
           0.996178396282127,
           0.996178396282127,
           0.996178396282127,
           0.996178396282127,
           0.996178396282127,
           0.996178396282127,
           0.8688727904955085,
           0.8688727904955085,
           0.8688727904955085,
           0.8688727904955085,
           0.8688727904955085,
           0.8688727904955085,
           0.8688727904955085,
           0.8688727904955085,
           0.8688727904955085,
           0.7010213316095669,
           0.996178396282127,
           0.996178396282127,
           0.996178396282127,
           0.996178396282127,
           0.996178396282127,
           0.996178396282127,
           0.996178396282127,
           0.996178396282127,
           0.996178396282127,
           0.996178396282127,
           0.996178396282127,
           0.996178396282127,
           0.996178396282127,
           0.8688727904955085,
           0.8688727904955085,
           0.8688727904955085,
           0.8688727904955085,
           0.8688727904955085,
           0.8688727904955085,
           0.8688727904955085,
           0.8688727904955085,
           0.8688727904955085,
           0.8688727904955085,
           0.6996420212647393,
           0.7010213316095669,
           0.996178396282127,
           0.996178396282127,
           0.996178396282127,
           0.996178396282127,
           0.996178396282127,
           0.996178396282127,
           0.996178396282127,
           0.996178396282127,
           0.996178396282127,
           0.996178396282127,
           0.996178396282127,
           0.996178396282127,
           0.996178396282127,
           0.8688727904955085,
           0.8688727904955085,
           0.8688727904955085,
           0.8688727904955085,
           0.8688727904955085,
           0.8688727904955085,
           0.8688727904955085,
           0.8688727904955085,
           0.8688727904955085,
           0.8688727904955085,
           0.8688727904955085,
           0.7010213316095669,
           0.996178396282127,
           0.996178396282127,
           0.996178396282127,
           0.996178396282127,
           0.996178396282127,
           0.996178396282127,
           0.996178396282127,
           0.996178396282127,
           0.996178396282127,
           0.996178396282127,
           0.996178396282127,
           0.996178396282127,
           0.8688727904955085,
           0.8688727904955085,
           0.8688727904955085,
           0.8688727904955085,
           0.8688727904955085,
           0.8688727904955085,
           0.8688727904955085,
           0.8688727904955085,
           0.8688727904955085,
           0.8688727904955085,
           0.8688727904955085,
           0.8688727904955085,
           0.7010213316095669,
           0.996178396282127,
           0.996178396282127,
           0.996178396282127,
           0.996178396282127,
           0.996178396282127,
           0.996178396282127,
           0.996178396282127,
           0.996178396282127,
           0.996178396282127,
           0.996178396282127,
           0.996178396282127,
           0.996178396282127,
           0.8688727904955085,
           0.8688727904955085,
           0.8688727904955085,
           0.8688727904955085,
           0.8688727904955085,
           0.8688727904955085,
           0.8688727904955085,
           0.8688727904955085,
           0.8688727904955085,
           0.8688727904955085,
           0.8688727904955085,
           0.8688727904955085,
           0.6996420212647393,
           0.5021978021978022,
           0.996178396282127,
           0.996178396282127,
           0.996178396282127,
           0.996178396282127,
           0.996178396282127,
           0.996178396282127,
           0.996178396282127,
           0.996178396282127,
           0.996178396282127,
           0.996178396282127,
           0.996178396282127,
           0.8688727904955085,
           0.8688727904955085,
           0.8688727904955085,
           0.8688727904955085,
           0.8688727904955085,
           0.8688727904955085,
           0.8688727904955085,
           0.8688727904955085,
           0.8688727904955085,
           0.8688727904955085,
           0.8688727904955085,
           0.8688727904955085,
           0.8688727904955085,
           0.8688727904955085,
           0.7010213316095669,
           0.996178396282127,
           0.996178396282127,
           0.996178396282127,
           0.996178396282127,
           0.996178396282127,
           0.996178396282127,
           0.996178396282127,
           0.996178396282127,
           0.996178396282127,
           0.996178396282127,
           0.996178396282127,
           0.8688727904955085,
           0.8688727904955085,
           0.8688727904955085,
           0.8688727904955085,
           0.8688727904955085,
           0.8688727904955085,
           0.8688727904955085,
           0.8688727904955085,
           0.8688727904955085,
           0.8688727904955085,
           0.8688727904955085,
           0.8688727904955085,
           0.8688727904955085,
           0.8688727904955085,
           0.6996420212647393
          ],
          "coloraxis": "coloraxis",
          "symbol": "circle"
         },
         "mode": "markers",
         "name": "1",
         "showlegend": true,
         "type": "scattergl",
         "x": [
          -1.5568011128421446,
          -1.444262416021681,
          -1.3317237192012172,
          -1.5568011128421446,
          -1.444262416021681,
          -1.3317237192012172,
          -1.2191850223807537,
          -1.5568011128421446,
          -1.444262416021681,
          -1.3317237192012172,
          -1.2191850223807537,
          -1.5568011128421446,
          -1.444262416021681,
          -1.3317237192012172,
          -1.2191850223807537,
          -1.10664632556029,
          -1.5568011128421446,
          -1.444262416021681,
          -1.3317237192012172,
          -1.2191850223807537,
          -1.10664632556029,
          -1.5568011128421446,
          -1.444262416021681,
          -1.3317237192012172,
          -1.2191850223807537,
          -1.10664632556029,
          -1.5568011128421446,
          -1.444262416021681,
          -1.3317237192012172,
          -1.2191850223807537,
          -1.10664632556029,
          -0.9941076287398264,
          -1.5568011128421446,
          -1.444262416021681,
          -1.3317237192012172,
          -1.2191850223807537,
          -1.10664632556029,
          -0.9941076287398264,
          -1.5568011128421446,
          -1.444262416021681,
          -1.3317237192012172,
          -1.2191850223807537,
          -1.10664632556029,
          -0.9941076287398264,
          -0.8815689319193627,
          -1.5568011128421446,
          -1.444262416021681,
          -1.3317237192012172,
          -1.2191850223807537,
          -1.10664632556029,
          -0.9941076287398264,
          -0.8815689319193627,
          -1.5568011128421446,
          -1.444262416021681,
          -1.3317237192012172,
          -1.2191850223807537,
          -1.10664632556029,
          -0.9941076287398264,
          -0.8815689319193627,
          -1.5568011128421446,
          -1.444262416021681,
          -1.3317237192012172,
          -1.2191850223807537,
          -1.10664632556029,
          -0.9941076287398264,
          -0.8815689319193627,
          -0.7690302350988991,
          -1.5568011128421446,
          -1.444262416021681,
          -1.3317237192012172,
          -1.2191850223807537,
          -1.10664632556029,
          -0.9941076287398264,
          -0.8815689319193627,
          -0.7690302350988991,
          -1.5568011128421446,
          -1.444262416021681,
          -1.3317237192012172,
          -1.2191850223807537,
          -1.10664632556029,
          -0.9941076287398264,
          -0.8815689319193627,
          -0.7690302350988991,
          -1.5568011128421446,
          -1.444262416021681,
          -1.3317237192012172,
          -1.2191850223807537,
          -1.10664632556029,
          -0.9941076287398264,
          -0.8815689319193627,
          -0.7690302350988991,
          -0.6564915382784354,
          -1.5568011128421446,
          -1.444262416021681,
          -1.3317237192012172,
          -1.2191850223807537,
          -1.10664632556029,
          -0.9941076287398264,
          -0.8815689319193627,
          -0.7690302350988991,
          -0.6564915382784354,
          -1.5568011128421446,
          -1.444262416021681,
          -1.3317237192012172,
          -1.2191850223807537,
          -1.10664632556029,
          -0.9941076287398264,
          -0.8815689319193627,
          -0.7690302350988991,
          -0.6564915382784354,
          -0.5439528414579717,
          -1.5568011128421446,
          -1.444262416021681,
          -1.3317237192012172,
          -1.2191850223807537,
          -1.10664632556029,
          -0.9941076287398264,
          -0.8815689319193627,
          -0.7690302350988991,
          -0.6564915382784354,
          -0.5439528414579717,
          -0.43141414463750816,
          -0.3188754478170446,
          -1.5568011128421446,
          -1.444262416021681,
          -1.3317237192012172,
          -1.2191850223807537,
          -1.10664632556029,
          -0.9941076287398264,
          -0.8815689319193627,
          -0.7690302350988991,
          -0.6564915382784354,
          -0.5439528414579717,
          -0.43141414463750816,
          -0.3188754478170446,
          -1.5568011128421446,
          -1.444262416021681,
          -1.3317237192012172,
          -1.2191850223807537,
          -1.10664632556029,
          -0.9941076287398264,
          -0.8815689319193627,
          -0.7690302350988991,
          -0.6564915382784354,
          -0.5439528414579717,
          -0.43141414463750816,
          -0.3188754478170446,
          -0.20633675099658078,
          -1.5568011128421446,
          -1.444262416021681,
          -1.3317237192012172,
          -1.2191850223807537,
          -1.10664632556029,
          -0.9941076287398264,
          -0.8815689319193627,
          -0.7690302350988991,
          -0.6564915382784354,
          -0.5439528414579717,
          -0.43141414463750816,
          -0.3188754478170446,
          -0.20633675099658078,
          -0.0937980541761172,
          -1.5568011128421446,
          -1.444262416021681,
          -1.3317237192012172,
          -1.2191850223807537,
          -1.10664632556029,
          -0.9941076287398264,
          -0.8815689319193627,
          -0.7690302350988991,
          -0.6564915382784354,
          -0.5439528414579717,
          -0.43141414463750816,
          -0.3188754478170446,
          -0.20633675099658078,
          -0.0937980541761172,
          0.018740642644346384,
          -1.5568011128421446,
          -1.444262416021681,
          -1.3317237192012172,
          -1.2191850223807537,
          -1.10664632556029,
          -0.9941076287398264,
          -0.8815689319193627,
          -0.7690302350988991,
          -0.6564915382784354,
          -0.5439528414579717,
          -0.43141414463750816,
          -0.3188754478170446,
          -0.20633675099658078,
          -0.0937980541761172,
          0.018740642644346384,
          0.13127933946481019,
          -1.5568011128421446,
          -1.444262416021681,
          -1.3317237192012172,
          -1.2191850223807537,
          -1.10664632556029,
          -0.9941076287398264,
          -0.8815689319193627,
          -0.7690302350988991,
          -0.6564915382784354,
          -0.5439528414579717,
          -0.43141414463750816,
          -0.3188754478170446,
          -0.20633675099658078,
          -0.0937980541761172,
          0.018740642644346384,
          0.13127933946481019,
          0.24381803628527376,
          -1.5568011128421446,
          -1.444262416021681,
          -1.3317237192012172,
          -1.2191850223807537,
          -1.10664632556029,
          -0.9941076287398264,
          -0.8815689319193627,
          -0.7690302350988991,
          -0.6564915382784354,
          -0.5439528414579717,
          -0.43141414463750816,
          -0.3188754478170446,
          -0.20633675099658078,
          -0.0937980541761172,
          0.018740642644346384,
          0.13127933946481019,
          0.24381803628527376,
          -1.5568011128421446,
          -1.444262416021681,
          -1.3317237192012172,
          -1.2191850223807537,
          -1.10664632556029,
          -0.9941076287398264,
          -0.8815689319193627,
          -0.7690302350988991,
          -0.6564915382784354,
          -0.5439528414579717,
          -0.43141414463750816,
          -0.3188754478170446,
          -0.20633675099658078,
          -0.0937980541761172,
          0.018740642644346384,
          0.13127933946481019,
          0.24381803628527376,
          0.35635673310573734,
          -1.5568011128421446,
          -1.444262416021681,
          -1.3317237192012172,
          -1.2191850223807537,
          -1.10664632556029,
          -0.9941076287398264,
          -0.8815689319193627,
          -0.7690302350988991,
          -0.6564915382784354,
          -0.5439528414579717,
          -0.43141414463750816,
          -0.3188754478170446,
          -0.20633675099658078,
          -0.0937980541761172,
          0.018740642644346384,
          0.13127933946481019,
          0.24381803628527376,
          0.35635673310573734,
          -1.5568011128421446,
          -1.444262416021681,
          -1.3317237192012172,
          -1.2191850223807537,
          -1.10664632556029,
          -0.9941076287398264,
          -0.8815689319193627,
          -0.7690302350988991,
          -0.6564915382784354,
          -0.5439528414579717,
          -0.43141414463750816,
          -0.3188754478170446,
          -0.20633675099658078,
          -0.0937980541761172,
          0.018740642644346384,
          0.13127933946481019,
          0.24381803628527376,
          0.35635673310573734,
          0.46889542992620115,
          -1.5568011128421446,
          -1.444262416021681,
          -1.3317237192012172,
          -1.2191850223807537,
          -1.10664632556029,
          -0.9941076287398264,
          -0.8815689319193627,
          -0.7690302350988991,
          -0.6564915382784354,
          -0.5439528414579717,
          -0.43141414463750816,
          -0.3188754478170446,
          -0.20633675099658078,
          -0.0937980541761172,
          0.018740642644346384,
          0.13127933946481019,
          0.24381803628527376,
          0.35635673310573734,
          0.46889542992620115,
          0.5814341267466645,
          -1.5568011128421446,
          -1.444262416021681,
          -1.3317237192012172,
          -1.2191850223807537,
          -1.10664632556029,
          -0.9941076287398264,
          -0.8815689319193627,
          -0.7690302350988991,
          -0.6564915382784354,
          -0.5439528414579717,
          -0.43141414463750816,
          -0.3188754478170446,
          -0.20633675099658078,
          -0.0937980541761172,
          0.018740642644346384,
          0.13127933946481019,
          0.24381803628527376,
          0.35635673310573734,
          0.46889542992620115,
          0.5814341267466645,
          0.6939728235671283,
          -1.5568011128421446,
          -1.444262416021681,
          -1.3317237192012172,
          -1.2191850223807537,
          -1.10664632556029,
          -0.9941076287398264,
          -0.8815689319193627,
          -0.7690302350988991,
          -0.6564915382784354,
          -0.5439528414579717,
          -0.43141414463750816,
          -0.3188754478170446,
          -0.20633675099658078,
          -0.0937980541761172,
          0.018740642644346384,
          0.13127933946481019,
          0.24381803628527376,
          0.35635673310573734,
          0.46889542992620115,
          0.5814341267466645,
          0.6939728235671283,
          -1.5568011128421446,
          -1.444262416021681,
          -1.3317237192012172,
          -1.2191850223807537,
          -1.10664632556029,
          -0.9941076287398264,
          -0.8815689319193627,
          -0.7690302350988991,
          -0.6564915382784354,
          -0.5439528414579717,
          -0.43141414463750816,
          -0.3188754478170446,
          -0.20633675099658078,
          -0.0937980541761172,
          0.018740642644346384,
          0.13127933946481019,
          0.24381803628527376,
          0.35635673310573734,
          0.46889542992620115,
          0.5814341267466645,
          0.6939728235671283,
          -1.5568011128421446,
          -1.444262416021681,
          -1.3317237192012172,
          -1.2191850223807537,
          -1.10664632556029,
          -0.9941076287398264,
          -0.8815689319193627,
          -0.7690302350988991,
          -0.6564915382784354,
          -0.5439528414579717,
          -0.43141414463750816,
          -0.3188754478170446,
          -0.20633675099658078,
          -0.0937980541761172,
          0.018740642644346384,
          0.13127933946481019,
          0.24381803628527376,
          0.35635673310573734,
          0.46889542992620115,
          0.5814341267466645,
          0.6939728235671283,
          -1.5568011128421446,
          -1.444262416021681,
          -1.3317237192012172,
          -1.2191850223807537,
          -1.10664632556029,
          -0.9941076287398264,
          -0.8815689319193627,
          -0.7690302350988991,
          -0.6564915382784354,
          -0.5439528414579717,
          -0.43141414463750816,
          -0.3188754478170446,
          -0.20633675099658078,
          -0.0937980541761172,
          0.018740642644346384,
          0.13127933946481019,
          0.24381803628527376,
          0.35635673310573734,
          0.46889542992620115,
          0.5814341267466645,
          0.6939728235671283,
          0.8065115203875921,
          -1.5568011128421446,
          -1.444262416021681,
          -1.3317237192012172,
          -1.2191850223807537,
          -1.10664632556029,
          -0.9941076287398264,
          -0.8815689319193627,
          -0.7690302350988991,
          -0.6564915382784354,
          -0.5439528414579717,
          -0.43141414463750816,
          -0.3188754478170446,
          -0.20633675099658078,
          -0.0937980541761172,
          0.018740642644346384,
          0.13127933946481019,
          0.24381803628527376,
          0.35635673310573734,
          0.46889542992620115,
          0.5814341267466645,
          0.6939728235671283,
          0.8065115203875921,
          -1.5568011128421446,
          -1.444262416021681,
          -1.3317237192012172,
          -1.2191850223807537,
          -1.10664632556029,
          -0.9941076287398264,
          -0.8815689319193627,
          -0.7690302350988991,
          -0.6564915382784354,
          -0.5439528414579717,
          -0.43141414463750816,
          -0.3188754478170446,
          -0.20633675099658078,
          -0.0937980541761172,
          0.018740642644346384,
          0.13127933946481019,
          0.24381803628527376,
          0.35635673310573734,
          0.46889542992620115,
          0.5814341267466645,
          0.6939728235671283,
          0.8065115203875921,
          -1.5568011128421446,
          -1.444262416021681,
          -1.3317237192012172,
          -1.2191850223807537,
          -1.10664632556029,
          -0.9941076287398264,
          -0.8815689319193627,
          -0.7690302350988991,
          -0.6564915382784354,
          -0.5439528414579717,
          -0.43141414463750816,
          -0.3188754478170446,
          -0.20633675099658078,
          -0.0937980541761172,
          0.018740642644346384,
          0.13127933946481019,
          0.24381803628527376,
          0.35635673310573734,
          0.46889542992620115,
          0.5814341267466645,
          0.6939728235671283,
          0.8065115203875921,
          -1.5568011128421446,
          -1.444262416021681,
          -1.3317237192012172,
          -1.2191850223807537,
          -1.10664632556029,
          -0.9941076287398264,
          -0.8815689319193627,
          -0.7690302350988991,
          -0.6564915382784354,
          -0.5439528414579717,
          -0.43141414463750816,
          -0.3188754478170446,
          -0.20633675099658078,
          -0.0937980541761172,
          0.018740642644346384,
          0.13127933946481019,
          0.24381803628527376,
          0.35635673310573734,
          0.46889542992620115,
          0.5814341267466645,
          0.6939728235671283,
          0.8065115203875921,
          0.9190502172080555,
          -1.5568011128421446,
          -1.444262416021681,
          -1.3317237192012172,
          -1.2191850223807537,
          -1.10664632556029,
          -0.9941076287398264,
          -0.8815689319193627,
          -0.7690302350988991,
          -0.6564915382784354,
          -0.5439528414579717,
          -0.43141414463750816,
          -0.3188754478170446,
          -0.20633675099658078,
          -0.0937980541761172,
          0.018740642644346384,
          0.13127933946481019,
          0.24381803628527376,
          0.35635673310573734,
          0.46889542992620115,
          0.5814341267466645,
          0.6939728235671283,
          0.8065115203875921,
          0.9190502172080555,
          -1.5568011128421446,
          -1.444262416021681,
          -1.3317237192012172,
          -1.2191850223807537,
          -1.10664632556029,
          -0.9941076287398264,
          -0.8815689319193627,
          -0.7690302350988991,
          -0.6564915382784354,
          -0.5439528414579717,
          -0.43141414463750816,
          -0.3188754478170446,
          -0.20633675099658078,
          -0.0937980541761172,
          0.018740642644346384,
          0.13127933946481019,
          0.24381803628527376,
          0.35635673310573734,
          0.46889542992620115,
          0.5814341267466645,
          0.6939728235671283,
          0.8065115203875921,
          0.9190502172080555,
          -1.5568011128421446,
          -1.444262416021681,
          -1.3317237192012172,
          -1.2191850223807537,
          -1.10664632556029,
          -0.9941076287398264,
          -0.8815689319193627,
          -0.7690302350988991,
          -0.6564915382784354,
          -0.5439528414579717,
          -0.43141414463750816,
          -0.3188754478170446,
          -0.20633675099658078,
          -0.0937980541761172,
          0.018740642644346384,
          0.13127933946481019,
          0.24381803628527376,
          0.35635673310573734,
          0.46889542992620115,
          0.5814341267466645,
          0.6939728235671283,
          0.8065115203875921,
          0.9190502172080555,
          -1.5568011128421446,
          -1.444262416021681,
          -1.3317237192012172,
          -1.2191850223807537,
          -1.10664632556029,
          -0.9941076287398264,
          -0.8815689319193627,
          -0.7690302350988991,
          -0.6564915382784354,
          -0.5439528414579717,
          -0.43141414463750816,
          -0.3188754478170446,
          -0.20633675099658078,
          -0.0937980541761172,
          0.018740642644346384,
          0.13127933946481019,
          0.24381803628527376,
          0.35635673310573734,
          0.46889542992620115,
          0.5814341267466645,
          0.6939728235671283,
          0.8065115203875921,
          0.9190502172080555,
          1.0315889140285193,
          -1.5568011128421446,
          -1.444262416021681,
          -1.3317237192012172,
          -1.2191850223807537,
          -1.10664632556029,
          -0.9941076287398264,
          -0.8815689319193627,
          -0.7690302350988991,
          -0.6564915382784354,
          -0.5439528414579717,
          -0.43141414463750816,
          -0.3188754478170446,
          -0.20633675099658078,
          -0.0937980541761172,
          0.018740642644346384,
          0.13127933946481019,
          0.24381803628527376,
          0.35635673310573734,
          0.46889542992620115,
          0.5814341267466645,
          0.6939728235671283,
          0.8065115203875921,
          0.9190502172080555,
          1.0315889140285193,
          -1.5568011128421446,
          -1.444262416021681,
          -1.3317237192012172,
          -1.2191850223807537,
          -1.10664632556029,
          -0.9941076287398264,
          -0.8815689319193627,
          -0.7690302350988991,
          -0.6564915382784354,
          -0.5439528414579717,
          -0.43141414463750816,
          -0.3188754478170446,
          -0.20633675099658078,
          -0.0937980541761172,
          0.018740642644346384,
          0.13127933946481019,
          0.24381803628527376,
          0.35635673310573734,
          0.46889542992620115,
          0.5814341267466645,
          0.6939728235671283,
          0.8065115203875921,
          0.9190502172080555,
          1.0315889140285193,
          -1.5568011128421446,
          -1.444262416021681,
          -1.3317237192012172,
          -1.2191850223807537,
          -1.10664632556029,
          -0.9941076287398264,
          -0.8815689319193627,
          -0.7690302350988991,
          -0.6564915382784354,
          -0.5439528414579717,
          -0.43141414463750816,
          -0.3188754478170446,
          -0.20633675099658078,
          -0.0937980541761172,
          0.018740642644346384,
          0.13127933946481019,
          0.24381803628527376,
          0.35635673310573734,
          0.46889542992620115,
          0.5814341267466645,
          0.6939728235671283,
          0.8065115203875921,
          0.9190502172080555,
          1.0315889140285193,
          1.144127610848983,
          -1.5568011128421446,
          -1.444262416021681,
          -1.3317237192012172,
          -1.2191850223807537,
          -1.10664632556029,
          -0.9941076287398264,
          -0.8815689319193627,
          -0.7690302350988991,
          -0.6564915382784354,
          -0.5439528414579717,
          -0.43141414463750816,
          -0.3188754478170446,
          -0.20633675099658078,
          -0.0937980541761172,
          0.018740642644346384,
          0.13127933946481019,
          0.24381803628527376,
          0.35635673310573734,
          0.46889542992620115,
          0.5814341267466645,
          0.6939728235671283,
          0.8065115203875921,
          0.9190502172080555,
          1.0315889140285193,
          1.144127610848983,
          -1.5568011128421446,
          -1.444262416021681,
          -1.3317237192012172,
          -1.2191850223807537,
          -1.10664632556029,
          -0.9941076287398264,
          -0.8815689319193627,
          -0.7690302350988991,
          -0.6564915382784354,
          -0.5439528414579717,
          -0.43141414463750816,
          -0.3188754478170446,
          -0.20633675099658078,
          -0.0937980541761172,
          0.018740642644346384,
          0.13127933946481019,
          0.24381803628527376,
          0.35635673310573734,
          0.46889542992620115,
          0.5814341267466645,
          0.6939728235671283,
          0.8065115203875921,
          0.9190502172080555,
          1.0315889140285193,
          1.144127610848983,
          -1.5568011128421446,
          -1.444262416021681,
          -1.3317237192012172,
          -1.2191850223807537,
          -1.10664632556029,
          -0.9941076287398264,
          -0.8815689319193627,
          -0.7690302350988991,
          -0.6564915382784354,
          -0.5439528414579717,
          -0.43141414463750816,
          -0.3188754478170446,
          -0.20633675099658078,
          -0.0937980541761172,
          0.018740642644346384,
          0.13127933946481019,
          0.24381803628527376,
          0.35635673310573734,
          0.46889542992620115,
          0.5814341267466645,
          0.6939728235671283,
          0.8065115203875921,
          0.9190502172080555,
          1.0315889140285193,
          1.144127610848983,
          1.2566663076694464,
          -1.5568011128421446,
          -1.444262416021681,
          -1.3317237192012172,
          -1.2191850223807537,
          -1.10664632556029,
          -0.9941076287398264,
          -0.8815689319193627,
          -0.7690302350988991,
          -0.6564915382784354,
          -0.5439528414579717,
          -0.43141414463750816,
          -0.3188754478170446,
          -0.20633675099658078,
          -0.0937980541761172,
          0.018740642644346384,
          0.13127933946481019,
          0.24381803628527376,
          0.35635673310573734,
          0.46889542992620115,
          0.5814341267466645,
          0.6939728235671283,
          0.8065115203875921,
          0.9190502172080555,
          1.0315889140285193,
          1.144127610848983,
          1.2566663076694464,
          -1.5568011128421446,
          -1.444262416021681,
          -1.3317237192012172,
          -1.2191850223807537,
          -1.10664632556029,
          -0.9941076287398264,
          -0.8815689319193627,
          -0.7690302350988991,
          -0.6564915382784354,
          -0.5439528414579717,
          -0.43141414463750816,
          -0.3188754478170446,
          -0.20633675099658078,
          -0.0937980541761172,
          0.018740642644346384,
          0.13127933946481019,
          0.24381803628527376,
          0.35635673310573734,
          0.46889542992620115,
          0.5814341267466645,
          0.6939728235671283,
          0.8065115203875921,
          0.9190502172080555,
          1.0315889140285193,
          1.144127610848983,
          1.2566663076694464
         ],
         "xaxis": "x",
         "y": [
          -3.874641419808408,
          -3.874641419808408,
          -3.874641419808408,
          -3.69491087949505,
          -3.69491087949505,
          -3.69491087949505,
          -3.69491087949505,
          -3.5151803391816916,
          -3.5151803391816916,
          -3.5151803391816916,
          -3.5151803391816916,
          -3.335449798868333,
          -3.335449798868333,
          -3.335449798868333,
          -3.335449798868333,
          -3.335449798868333,
          -3.155719258554975,
          -3.155719258554975,
          -3.155719258554975,
          -3.155719258554975,
          -3.155719258554975,
          -2.9759887182416165,
          -2.9759887182416165,
          -2.9759887182416165,
          -2.9759887182416165,
          -2.9759887182416165,
          -2.7962581779282583,
          -2.7962581779282583,
          -2.7962581779282583,
          -2.7962581779282583,
          -2.7962581779282583,
          -2.7962581779282583,
          -2.6165276376149,
          -2.6165276376149,
          -2.6165276376149,
          -2.6165276376149,
          -2.6165276376149,
          -2.6165276376149,
          -2.436797097301542,
          -2.436797097301542,
          -2.436797097301542,
          -2.436797097301542,
          -2.436797097301542,
          -2.436797097301542,
          -2.436797097301542,
          -2.2570665569881836,
          -2.2570665569881836,
          -2.2570665569881836,
          -2.2570665569881836,
          -2.2570665569881836,
          -2.2570665569881836,
          -2.2570665569881836,
          -2.0773360166748254,
          -2.0773360166748254,
          -2.0773360166748254,
          -2.0773360166748254,
          -2.0773360166748254,
          -2.0773360166748254,
          -2.0773360166748254,
          -1.897605476361467,
          -1.897605476361467,
          -1.897605476361467,
          -1.897605476361467,
          -1.897605476361467,
          -1.897605476361467,
          -1.897605476361467,
          -1.897605476361467,
          -1.7178749360481085,
          -1.7178749360481085,
          -1.7178749360481085,
          -1.7178749360481085,
          -1.7178749360481085,
          -1.7178749360481085,
          -1.7178749360481085,
          -1.7178749360481085,
          -1.5381443957347503,
          -1.5381443957347503,
          -1.5381443957347503,
          -1.5381443957347503,
          -1.5381443957347503,
          -1.5381443957347503,
          -1.5381443957347503,
          -1.5381443957347503,
          -1.358413855421392,
          -1.358413855421392,
          -1.358413855421392,
          -1.358413855421392,
          -1.358413855421392,
          -1.358413855421392,
          -1.358413855421392,
          -1.358413855421392,
          -1.358413855421392,
          -1.1786833151080338,
          -1.1786833151080338,
          -1.1786833151080338,
          -1.1786833151080338,
          -1.1786833151080338,
          -1.1786833151080338,
          -1.1786833151080338,
          -1.1786833151080338,
          -1.1786833151080338,
          -0.9989527747946756,
          -0.9989527747946756,
          -0.9989527747946756,
          -0.9989527747946756,
          -0.9989527747946756,
          -0.9989527747946756,
          -0.9989527747946756,
          -0.9989527747946756,
          -0.9989527747946756,
          -0.9989527747946756,
          -0.8192222344813174,
          -0.8192222344813174,
          -0.8192222344813174,
          -0.8192222344813174,
          -0.8192222344813174,
          -0.8192222344813174,
          -0.8192222344813174,
          -0.8192222344813174,
          -0.8192222344813174,
          -0.8192222344813174,
          -0.8192222344813174,
          -0.8192222344813174,
          -0.6394916941679591,
          -0.6394916941679591,
          -0.6394916941679591,
          -0.6394916941679591,
          -0.6394916941679591,
          -0.6394916941679591,
          -0.6394916941679591,
          -0.6394916941679591,
          -0.6394916941679591,
          -0.6394916941679591,
          -0.6394916941679591,
          -0.6394916941679591,
          -0.4597611538546009,
          -0.4597611538546009,
          -0.4597611538546009,
          -0.4597611538546009,
          -0.4597611538546009,
          -0.4597611538546009,
          -0.4597611538546009,
          -0.4597611538546009,
          -0.4597611538546009,
          -0.4597611538546009,
          -0.4597611538546009,
          -0.4597611538546009,
          -0.4597611538546009,
          -0.2800306135412427,
          -0.2800306135412427,
          -0.2800306135412427,
          -0.2800306135412427,
          -0.2800306135412427,
          -0.2800306135412427,
          -0.2800306135412427,
          -0.2800306135412427,
          -0.2800306135412427,
          -0.2800306135412427,
          -0.2800306135412427,
          -0.2800306135412427,
          -0.2800306135412427,
          -0.2800306135412427,
          -0.10030007322788403,
          -0.10030007322788403,
          -0.10030007322788403,
          -0.10030007322788403,
          -0.10030007322788403,
          -0.10030007322788403,
          -0.10030007322788403,
          -0.10030007322788403,
          -0.10030007322788403,
          -0.10030007322788403,
          -0.10030007322788403,
          -0.10030007322788403,
          -0.10030007322788403,
          -0.10030007322788403,
          -0.10030007322788403,
          0.07943046708547419,
          0.07943046708547419,
          0.07943046708547419,
          0.07943046708547419,
          0.07943046708547419,
          0.07943046708547419,
          0.07943046708547419,
          0.07943046708547419,
          0.07943046708547419,
          0.07943046708547419,
          0.07943046708547419,
          0.07943046708547419,
          0.07943046708547419,
          0.07943046708547419,
          0.07943046708547419,
          0.07943046708547419,
          0.2591610073988324,
          0.2591610073988324,
          0.2591610073988324,
          0.2591610073988324,
          0.2591610073988324,
          0.2591610073988324,
          0.2591610073988324,
          0.2591610073988324,
          0.2591610073988324,
          0.2591610073988324,
          0.2591610073988324,
          0.2591610073988324,
          0.2591610073988324,
          0.2591610073988324,
          0.2591610073988324,
          0.2591610073988324,
          0.2591610073988324,
          0.4388915477121911,
          0.4388915477121911,
          0.4388915477121911,
          0.4388915477121911,
          0.4388915477121911,
          0.4388915477121911,
          0.4388915477121911,
          0.4388915477121911,
          0.4388915477121911,
          0.4388915477121911,
          0.4388915477121911,
          0.4388915477121911,
          0.4388915477121911,
          0.4388915477121911,
          0.4388915477121911,
          0.4388915477121911,
          0.4388915477121911,
          0.6186220880255489,
          0.6186220880255489,
          0.6186220880255489,
          0.6186220880255489,
          0.6186220880255489,
          0.6186220880255489,
          0.6186220880255489,
          0.6186220880255489,
          0.6186220880255489,
          0.6186220880255489,
          0.6186220880255489,
          0.6186220880255489,
          0.6186220880255489,
          0.6186220880255489,
          0.6186220880255489,
          0.6186220880255489,
          0.6186220880255489,
          0.6186220880255489,
          0.7983526283389075,
          0.7983526283389075,
          0.7983526283389075,
          0.7983526283389075,
          0.7983526283389075,
          0.7983526283389075,
          0.7983526283389075,
          0.7983526283389075,
          0.7983526283389075,
          0.7983526283389075,
          0.7983526283389075,
          0.7983526283389075,
          0.7983526283389075,
          0.7983526283389075,
          0.7983526283389075,
          0.7983526283389075,
          0.7983526283389075,
          0.7983526283389075,
          0.9780831686522653,
          0.9780831686522653,
          0.9780831686522653,
          0.9780831686522653,
          0.9780831686522653,
          0.9780831686522653,
          0.9780831686522653,
          0.9780831686522653,
          0.9780831686522653,
          0.9780831686522653,
          0.9780831686522653,
          0.9780831686522653,
          0.9780831686522653,
          0.9780831686522653,
          0.9780831686522653,
          0.9780831686522653,
          0.9780831686522653,
          0.9780831686522653,
          0.9780831686522653,
          1.157813708965624,
          1.157813708965624,
          1.157813708965624,
          1.157813708965624,
          1.157813708965624,
          1.157813708965624,
          1.157813708965624,
          1.157813708965624,
          1.157813708965624,
          1.157813708965624,
          1.157813708965624,
          1.157813708965624,
          1.157813708965624,
          1.157813708965624,
          1.157813708965624,
          1.157813708965624,
          1.157813708965624,
          1.157813708965624,
          1.157813708965624,
          1.157813708965624,
          1.3375442492789817,
          1.3375442492789817,
          1.3375442492789817,
          1.3375442492789817,
          1.3375442492789817,
          1.3375442492789817,
          1.3375442492789817,
          1.3375442492789817,
          1.3375442492789817,
          1.3375442492789817,
          1.3375442492789817,
          1.3375442492789817,
          1.3375442492789817,
          1.3375442492789817,
          1.3375442492789817,
          1.3375442492789817,
          1.3375442492789817,
          1.3375442492789817,
          1.3375442492789817,
          1.3375442492789817,
          1.3375442492789817,
          1.5172747895923404,
          1.5172747895923404,
          1.5172747895923404,
          1.5172747895923404,
          1.5172747895923404,
          1.5172747895923404,
          1.5172747895923404,
          1.5172747895923404,
          1.5172747895923404,
          1.5172747895923404,
          1.5172747895923404,
          1.5172747895923404,
          1.5172747895923404,
          1.5172747895923404,
          1.5172747895923404,
          1.5172747895923404,
          1.5172747895923404,
          1.5172747895923404,
          1.5172747895923404,
          1.5172747895923404,
          1.5172747895923404,
          1.6970053299056982,
          1.6970053299056982,
          1.6970053299056982,
          1.6970053299056982,
          1.6970053299056982,
          1.6970053299056982,
          1.6970053299056982,
          1.6970053299056982,
          1.6970053299056982,
          1.6970053299056982,
          1.6970053299056982,
          1.6970053299056982,
          1.6970053299056982,
          1.6970053299056982,
          1.6970053299056982,
          1.6970053299056982,
          1.6970053299056982,
          1.6970053299056982,
          1.6970053299056982,
          1.6970053299056982,
          1.6970053299056982,
          1.8767358702190569,
          1.8767358702190569,
          1.8767358702190569,
          1.8767358702190569,
          1.8767358702190569,
          1.8767358702190569,
          1.8767358702190569,
          1.8767358702190569,
          1.8767358702190569,
          1.8767358702190569,
          1.8767358702190569,
          1.8767358702190569,
          1.8767358702190569,
          1.8767358702190569,
          1.8767358702190569,
          1.8767358702190569,
          1.8767358702190569,
          1.8767358702190569,
          1.8767358702190569,
          1.8767358702190569,
          1.8767358702190569,
          2.0564664105324155,
          2.0564664105324155,
          2.0564664105324155,
          2.0564664105324155,
          2.0564664105324155,
          2.0564664105324155,
          2.0564664105324155,
          2.0564664105324155,
          2.0564664105324155,
          2.0564664105324155,
          2.0564664105324155,
          2.0564664105324155,
          2.0564664105324155,
          2.0564664105324155,
          2.0564664105324155,
          2.0564664105324155,
          2.0564664105324155,
          2.0564664105324155,
          2.0564664105324155,
          2.0564664105324155,
          2.0564664105324155,
          2.0564664105324155,
          2.2361969508457733,
          2.2361969508457733,
          2.2361969508457733,
          2.2361969508457733,
          2.2361969508457733,
          2.2361969508457733,
          2.2361969508457733,
          2.2361969508457733,
          2.2361969508457733,
          2.2361969508457733,
          2.2361969508457733,
          2.2361969508457733,
          2.2361969508457733,
          2.2361969508457733,
          2.2361969508457733,
          2.2361969508457733,
          2.2361969508457733,
          2.2361969508457733,
          2.2361969508457733,
          2.2361969508457733,
          2.2361969508457733,
          2.2361969508457733,
          2.415927491159132,
          2.415927491159132,
          2.415927491159132,
          2.415927491159132,
          2.415927491159132,
          2.415927491159132,
          2.415927491159132,
          2.415927491159132,
          2.415927491159132,
          2.415927491159132,
          2.415927491159132,
          2.415927491159132,
          2.415927491159132,
          2.415927491159132,
          2.415927491159132,
          2.415927491159132,
          2.415927491159132,
          2.415927491159132,
          2.415927491159132,
          2.415927491159132,
          2.415927491159132,
          2.415927491159132,
          2.5956580314724897,
          2.5956580314724897,
          2.5956580314724897,
          2.5956580314724897,
          2.5956580314724897,
          2.5956580314724897,
          2.5956580314724897,
          2.5956580314724897,
          2.5956580314724897,
          2.5956580314724897,
          2.5956580314724897,
          2.5956580314724897,
          2.5956580314724897,
          2.5956580314724897,
          2.5956580314724897,
          2.5956580314724897,
          2.5956580314724897,
          2.5956580314724897,
          2.5956580314724897,
          2.5956580314724897,
          2.5956580314724897,
          2.5956580314724897,
          2.7753885717858484,
          2.7753885717858484,
          2.7753885717858484,
          2.7753885717858484,
          2.7753885717858484,
          2.7753885717858484,
          2.7753885717858484,
          2.7753885717858484,
          2.7753885717858484,
          2.7753885717858484,
          2.7753885717858484,
          2.7753885717858484,
          2.7753885717858484,
          2.7753885717858484,
          2.7753885717858484,
          2.7753885717858484,
          2.7753885717858484,
          2.7753885717858484,
          2.7753885717858484,
          2.7753885717858484,
          2.7753885717858484,
          2.7753885717858484,
          2.7753885717858484,
          2.955119112099206,
          2.955119112099206,
          2.955119112099206,
          2.955119112099206,
          2.955119112099206,
          2.955119112099206,
          2.955119112099206,
          2.955119112099206,
          2.955119112099206,
          2.955119112099206,
          2.955119112099206,
          2.955119112099206,
          2.955119112099206,
          2.955119112099206,
          2.955119112099206,
          2.955119112099206,
          2.955119112099206,
          2.955119112099206,
          2.955119112099206,
          2.955119112099206,
          2.955119112099206,
          2.955119112099206,
          2.955119112099206,
          3.134849652412565,
          3.134849652412565,
          3.134849652412565,
          3.134849652412565,
          3.134849652412565,
          3.134849652412565,
          3.134849652412565,
          3.134849652412565,
          3.134849652412565,
          3.134849652412565,
          3.134849652412565,
          3.134849652412565,
          3.134849652412565,
          3.134849652412565,
          3.134849652412565,
          3.134849652412565,
          3.134849652412565,
          3.134849652412565,
          3.134849652412565,
          3.134849652412565,
          3.134849652412565,
          3.134849652412565,
          3.134849652412565,
          3.3145801927259226,
          3.3145801927259226,
          3.3145801927259226,
          3.3145801927259226,
          3.3145801927259226,
          3.3145801927259226,
          3.3145801927259226,
          3.3145801927259226,
          3.3145801927259226,
          3.3145801927259226,
          3.3145801927259226,
          3.3145801927259226,
          3.3145801927259226,
          3.3145801927259226,
          3.3145801927259226,
          3.3145801927259226,
          3.3145801927259226,
          3.3145801927259226,
          3.3145801927259226,
          3.3145801927259226,
          3.3145801927259226,
          3.3145801927259226,
          3.3145801927259226,
          3.4943107330392813,
          3.4943107330392813,
          3.4943107330392813,
          3.4943107330392813,
          3.4943107330392813,
          3.4943107330392813,
          3.4943107330392813,
          3.4943107330392813,
          3.4943107330392813,
          3.4943107330392813,
          3.4943107330392813,
          3.4943107330392813,
          3.4943107330392813,
          3.4943107330392813,
          3.4943107330392813,
          3.4943107330392813,
          3.4943107330392813,
          3.4943107330392813,
          3.4943107330392813,
          3.4943107330392813,
          3.4943107330392813,
          3.4943107330392813,
          3.4943107330392813,
          3.4943107330392813,
          3.67404127335264,
          3.67404127335264,
          3.67404127335264,
          3.67404127335264,
          3.67404127335264,
          3.67404127335264,
          3.67404127335264,
          3.67404127335264,
          3.67404127335264,
          3.67404127335264,
          3.67404127335264,
          3.67404127335264,
          3.67404127335264,
          3.67404127335264,
          3.67404127335264,
          3.67404127335264,
          3.67404127335264,
          3.67404127335264,
          3.67404127335264,
          3.67404127335264,
          3.67404127335264,
          3.67404127335264,
          3.67404127335264,
          3.67404127335264,
          3.8537718136659977,
          3.8537718136659977,
          3.8537718136659977,
          3.8537718136659977,
          3.8537718136659977,
          3.8537718136659977,
          3.8537718136659977,
          3.8537718136659977,
          3.8537718136659977,
          3.8537718136659977,
          3.8537718136659977,
          3.8537718136659977,
          3.8537718136659977,
          3.8537718136659977,
          3.8537718136659977,
          3.8537718136659977,
          3.8537718136659977,
          3.8537718136659977,
          3.8537718136659977,
          3.8537718136659977,
          3.8537718136659977,
          3.8537718136659977,
          3.8537718136659977,
          3.8537718136659977,
          4.033502353979356,
          4.033502353979356,
          4.033502353979356,
          4.033502353979356,
          4.033502353979356,
          4.033502353979356,
          4.033502353979356,
          4.033502353979356,
          4.033502353979356,
          4.033502353979356,
          4.033502353979356,
          4.033502353979356,
          4.033502353979356,
          4.033502353979356,
          4.033502353979356,
          4.033502353979356,
          4.033502353979356,
          4.033502353979356,
          4.033502353979356,
          4.033502353979356,
          4.033502353979356,
          4.033502353979356,
          4.033502353979356,
          4.033502353979356,
          4.033502353979356,
          4.213232894292715,
          4.213232894292715,
          4.213232894292715,
          4.213232894292715,
          4.213232894292715,
          4.213232894292715,
          4.213232894292715,
          4.213232894292715,
          4.213232894292715,
          4.213232894292715,
          4.213232894292715,
          4.213232894292715,
          4.213232894292715,
          4.213232894292715,
          4.213232894292715,
          4.213232894292715,
          4.213232894292715,
          4.213232894292715,
          4.213232894292715,
          4.213232894292715,
          4.213232894292715,
          4.213232894292715,
          4.213232894292715,
          4.213232894292715,
          4.213232894292715,
          4.392963434606073,
          4.392963434606073,
          4.392963434606073,
          4.392963434606073,
          4.392963434606073,
          4.392963434606073,
          4.392963434606073,
          4.392963434606073,
          4.392963434606073,
          4.392963434606073,
          4.392963434606073,
          4.392963434606073,
          4.392963434606073,
          4.392963434606073,
          4.392963434606073,
          4.392963434606073,
          4.392963434606073,
          4.392963434606073,
          4.392963434606073,
          4.392963434606073,
          4.392963434606073,
          4.392963434606073,
          4.392963434606073,
          4.392963434606073,
          4.392963434606073,
          4.572693974919431,
          4.572693974919431,
          4.572693974919431,
          4.572693974919431,
          4.572693974919431,
          4.572693974919431,
          4.572693974919431,
          4.572693974919431,
          4.572693974919431,
          4.572693974919431,
          4.572693974919431,
          4.572693974919431,
          4.572693974919431,
          4.572693974919431,
          4.572693974919431,
          4.572693974919431,
          4.572693974919431,
          4.572693974919431,
          4.572693974919431,
          4.572693974919431,
          4.572693974919431,
          4.572693974919431,
          4.572693974919431,
          4.572693974919431,
          4.572693974919431,
          4.572693974919431,
          4.75242451523279,
          4.75242451523279,
          4.75242451523279,
          4.75242451523279,
          4.75242451523279,
          4.75242451523279,
          4.75242451523279,
          4.75242451523279,
          4.75242451523279,
          4.75242451523279,
          4.75242451523279,
          4.75242451523279,
          4.75242451523279,
          4.75242451523279,
          4.75242451523279,
          4.75242451523279,
          4.75242451523279,
          4.75242451523279,
          4.75242451523279,
          4.75242451523279,
          4.75242451523279,
          4.75242451523279,
          4.75242451523279,
          4.75242451523279,
          4.75242451523279,
          4.75242451523279,
          4.932155055546149,
          4.932155055546149,
          4.932155055546149,
          4.932155055546149,
          4.932155055546149,
          4.932155055546149,
          4.932155055546149,
          4.932155055546149,
          4.932155055546149,
          4.932155055546149,
          4.932155055546149,
          4.932155055546149,
          4.932155055546149,
          4.932155055546149,
          4.932155055546149,
          4.932155055546149,
          4.932155055546149,
          4.932155055546149,
          4.932155055546149,
          4.932155055546149,
          4.932155055546149,
          4.932155055546149,
          4.932155055546149,
          4.932155055546149,
          4.932155055546149,
          4.932155055546149
         ],
         "yaxis": "y"
        },
        {
         "hovertemplate": "pred_label=0<br>comp0=%{x}<br>comp1=%{y}<br>pred_prob=%{marker.color}<extra></extra>",
         "legendgroup": "0",
         "marker": {
          "color": [
           0.3657142857142857,
           0.3657142857142857,
           0.3657142857142857,
           0.3657142857142857,
           0.2857142857142857,
           0.4,
           0.4,
           0.4,
           0.4,
           0.2,
           0.2,
           0.2,
           0.2,
           0,
           0,
           0,
           0,
           0,
           0,
           0,
           0,
           0,
           0,
           0,
           0,
           0,
           0,
           0,
           0,
           0,
           0,
           0,
           0,
           0,
           0,
           0,
           0,
           0,
           0,
           0,
           0,
           0,
           0,
           0,
           0,
           0,
           0,
           0.3657142857142857,
           0.3657142857142857,
           0.3657142857142857,
           0.2857142857142857,
           0.4,
           0.4,
           0.4,
           0.4,
           0.2,
           0.2,
           0.2,
           0.2,
           0,
           0,
           0,
           0,
           0,
           0,
           0,
           0,
           0,
           0,
           0,
           0,
           0,
           0,
           0,
           0,
           0,
           0,
           0,
           0,
           0,
           0,
           0,
           0,
           0,
           0,
           0,
           0,
           0,
           0,
           0,
           0,
           0,
           0,
           0.3657142857142857,
           0.3657142857142857,
           0.3657142857142857,
           0.3657142857142857,
           0.2857142857142857,
           0.4,
           0.4,
           0.4,
           0.2,
           0.2,
           0.2,
           0.2,
           0,
           0,
           0,
           0,
           0,
           0,
           0,
           0,
           0,
           0,
           0,
           0,
           0,
           0,
           0,
           0,
           0,
           0,
           0,
           0,
           0,
           0,
           0,
           0,
           0,
           0,
           0,
           0,
           0,
           0,
           0,
           0,
           0,
           0,
           0.3657142857142857,
           0.3657142857142857,
           0.3657142857142857,
           0.2857142857142857,
           0.4,
           0.4,
           0.4,
           0.2,
           0.2,
           0.2,
           0.2,
           0,
           0,
           0,
           0,
           0,
           0,
           0,
           0,
           0,
           0,
           0,
           0,
           0,
           0,
           0,
           0,
           0,
           0,
           0,
           0,
           0,
           0,
           0,
           0,
           0,
           0,
           0,
           0,
           0,
           0,
           0,
           0,
           0,
           0,
           0.3657142857142857,
           0.3657142857142857,
           0.3657142857142857,
           0.3657142857142857,
           0.4,
           0.4,
           0.4,
           0.2,
           0.2,
           0.2,
           0.2,
           0,
           0,
           0,
           0,
           0,
           0,
           0,
           0,
           0,
           0,
           0,
           0,
           0,
           0,
           0,
           0,
           0,
           0,
           0,
           0,
           0,
           0,
           0,
           0,
           0,
           0,
           0,
           0,
           0,
           0,
           0,
           0,
           0,
           0,
           0.3657142857142857,
           0.3657142857142857,
           0.3657142857142857,
           0.3657142857142857,
           0.2857142857142857,
           0.4,
           0.4,
           0.2,
           0.2,
           0.2,
           0,
           0,
           0,
           0,
           0,
           0,
           0,
           0,
           0,
           0,
           0,
           0,
           0,
           0,
           0,
           0,
           0,
           0,
           0,
           0,
           0,
           0,
           0,
           0,
           0,
           0,
           0,
           0,
           0,
           0,
           0,
           0,
           0,
           0,
           0,
           0.3657142857142857,
           0.3657142857142857,
           0.3657142857142857,
           0.2857142857142857,
           0.4,
           0.4,
           0.2,
           0.2,
           0.2,
           0,
           0,
           0,
           0,
           0,
           0,
           0,
           0,
           0,
           0,
           0,
           0,
           0,
           0,
           0,
           0,
           0,
           0,
           0,
           0,
           0,
           0,
           0,
           0,
           0,
           0,
           0,
           0,
           0,
           0,
           0,
           0,
           0,
           0,
           0,
           0.3657142857142857,
           0.3657142857142857,
           0.3657142857142857,
           0.3657142857142857,
           0.2857142857142857,
           0.4,
           0.2,
           0.2,
           0.2,
           0,
           0,
           0,
           0,
           0,
           0,
           0,
           0,
           0,
           0,
           0,
           0,
           0,
           0,
           0,
           0,
           0,
           0,
           0,
           0,
           0,
           0,
           0,
           0,
           0,
           0,
           0,
           0,
           0,
           0,
           0,
           0,
           0,
           0,
           0,
           0.3657142857142857,
           0.3657142857142857,
           0.3657142857142857,
           0.2857142857142857,
           0.4,
           0.2,
           0.2,
           0.2,
           0,
           0,
           0,
           0,
           0,
           0,
           0,
           0,
           0,
           0,
           0,
           0,
           0,
           0,
           0,
           0,
           0,
           0,
           0,
           0,
           0,
           0,
           0,
           0,
           0,
           0,
           0,
           0,
           0,
           0,
           0,
           0,
           0,
           0,
           0,
           0.3657142857142857,
           0.3657142857142857,
           0.3657142857142857,
           0.2857142857142857,
           0.4,
           0.2,
           0.2,
           0,
           0,
           0,
           0,
           0,
           0,
           0,
           0,
           0,
           0,
           0,
           0,
           0,
           0,
           0,
           0,
           0,
           0,
           0,
           0,
           0,
           0,
           0,
           0,
           0,
           0,
           0,
           0,
           0,
           0,
           0,
           0,
           0,
           0,
           0,
           0,
           0.3657142857142857,
           0.3657142857142857,
           0.3657142857142857,
           0.3657142857142857,
           0.2857142857142857,
           0.2,
           0.2,
           0,
           0,
           0,
           0,
           0,
           0,
           0,
           0,
           0,
           0,
           0,
           0,
           0,
           0,
           0,
           0,
           0,
           0,
           0,
           0,
           0,
           0,
           0,
           0,
           0,
           0,
           0,
           0,
           0,
           0,
           0,
           0,
           0,
           0,
           0,
           0,
           0.3657142857142857,
           0.3657142857142857,
           0.3657142857142857,
           0.2857142857142857,
           0.2,
           0.2,
           0,
           0,
           0,
           0,
           0,
           0,
           0,
           0,
           0,
           0,
           0,
           0,
           0,
           0,
           0,
           0,
           0,
           0,
           0,
           0,
           0,
           0,
           0,
           0,
           0,
           0,
           0,
           0,
           0,
           0,
           0,
           0,
           0,
           0,
           0,
           0,
           0.3657142857142857,
           0.3657142857142857,
           0.3657142857142857,
           0.3657142857142857,
           0.2,
           0.2,
           0,
           0,
           0,
           0,
           0,
           0,
           0,
           0,
           0,
           0,
           0,
           0,
           0,
           0,
           0,
           0,
           0,
           0,
           0,
           0,
           0,
           0,
           0,
           0,
           0,
           0,
           0,
           0,
           0,
           0,
           0,
           0,
           0,
           0,
           0,
           0,
           0.3657142857142857,
           0.3657142857142857,
           0.3657142857142857,
           0.3657142857142857,
           0.08571428571428572,
           0.2,
           0,
           0,
           0,
           0,
           0,
           0,
           0,
           0,
           0,
           0,
           0,
           0,
           0,
           0,
           0,
           0,
           0,
           0,
           0,
           0,
           0,
           0,
           0,
           0,
           0,
           0,
           0,
           0,
           0,
           0,
           0,
           0,
           0,
           0,
           0,
           0,
           0.3657142857142857,
           0.3657142857142857,
           0.3657142857142857,
           0.08571428571428572,
           0,
           0,
           0,
           0,
           0,
           0,
           0,
           0,
           0,
           0,
           0,
           0,
           0,
           0,
           0,
           0,
           0,
           0,
           0,
           0,
           0,
           0,
           0,
           0,
           0,
           0,
           0,
           0,
           0,
           0,
           0,
           0,
           0,
           0,
           0,
           0,
           0,
           0.3657142857142857,
           0.3657142857142857,
           0.3657142857142857,
           0.1657142857142857,
           0.08571428571428572,
           0,
           0,
           0,
           0,
           0,
           0,
           0,
           0,
           0,
           0,
           0,
           0,
           0,
           0,
           0,
           0,
           0,
           0,
           0,
           0,
           0,
           0,
           0,
           0,
           0,
           0,
           0,
           0,
           0,
           0,
           0,
           0,
           0,
           0,
           0,
           0,
           0.3657142857142857,
           0.3657142857142857,
           0.27999999999999997,
           0.2,
           0,
           0,
           0,
           0,
           0,
           0,
           0,
           0,
           0,
           0,
           0,
           0,
           0,
           0,
           0,
           0,
           0,
           0,
           0,
           0,
           0,
           0,
           0,
           0,
           0,
           0,
           0,
           0,
           0,
           0,
           0,
           0,
           0,
           0,
           0,
           0,
           0.27999999999999997,
           0.27999999999999997,
           0,
           0,
           0,
           0,
           0,
           0,
           0,
           0,
           0,
           0,
           0,
           0,
           0,
           0,
           0,
           0,
           0,
           0,
           0,
           0,
           0,
           0,
           0,
           0,
           0,
           0,
           0,
           0,
           0,
           0,
           0,
           0,
           0,
           0,
           0,
           0,
           0.40499999999999997,
           0.27999999999999997,
           0.2,
           0,
           0,
           0,
           0,
           0,
           0,
           0,
           0,
           0,
           0,
           0,
           0,
           0,
           0,
           0,
           0,
           0,
           0,
           0,
           0,
           0,
           0,
           0,
           0,
           0,
           0,
           0,
           0,
           0,
           0,
           0,
           0,
           0,
           0,
           0,
           0.40499999999999997,
           0.2,
           0,
           0,
           0,
           0,
           0,
           0,
           0,
           0,
           0,
           0,
           0,
           0,
           0,
           0,
           0,
           0,
           0,
           0,
           0,
           0,
           0,
           0,
           0,
           0,
           0,
           0,
           0,
           0,
           0,
           0,
           0,
           0,
           0,
           0,
           0,
           0.40499999999999997,
           0.125,
           0,
           0,
           0,
           0,
           0,
           0,
           0,
           0,
           0,
           0,
           0,
           0,
           0,
           0,
           0,
           0,
           0,
           0,
           0,
           0,
           0,
           0,
           0,
           0,
           0,
           0,
           0,
           0,
           0,
           0,
           0,
           0,
           0,
           0,
           0.4583333333333333,
           0.125,
           0,
           0,
           0,
           0,
           0,
           0,
           0,
           0,
           0,
           0,
           0,
           0,
           0,
           0,
           0,
           0,
           0,
           0,
           0,
           0,
           0,
           0,
           0,
           0,
           0,
           0,
           0,
           0,
           0,
           0,
           0,
           0,
           0,
           0.41833333333333333,
           0.125,
           0.125,
           0,
           0,
           0,
           0,
           0,
           0,
           0,
           0,
           0,
           0,
           0,
           0,
           0,
           0,
           0,
           0,
           0,
           0,
           0,
           0,
           0,
           0,
           0,
           0,
           0,
           0,
           0,
           0,
           0,
           0,
           0,
           0.49215686274509807,
           0.125,
           0,
           0,
           0,
           0,
           0,
           0,
           0,
           0,
           0,
           0,
           0,
           0,
           0,
           0,
           0,
           0,
           0,
           0,
           0,
           0,
           0,
           0,
           0,
           0,
           0,
           0,
           0,
           0,
           0,
           0,
           0,
           0.49215686274509807,
           0.49215686274509807,
           0,
           0,
           0,
           0,
           0,
           0,
           0,
           0,
           0,
           0,
           0,
           0,
           0,
           0,
           0,
           0,
           0,
           0,
           0,
           0,
           0,
           0,
           0,
           0,
           0,
           0,
           0,
           0,
           0,
           0,
           0,
           0.49215686274509807,
           0.29333333333333333,
           0,
           0,
           0,
           0,
           0,
           0,
           0,
           0,
           0,
           0,
           0,
           0,
           0,
           0,
           0,
           0,
           0,
           0,
           0,
           0,
           0,
           0,
           0,
           0,
           0,
           0,
           0,
           0,
           0,
           0,
           0.4283269373961853,
           0.49215686274509807,
           0.29333333333333333,
           0.20476190476190476,
           0,
           0,
           0,
           0,
           0,
           0,
           0,
           0,
           0,
           0,
           0,
           0,
           0,
           0,
           0,
           0,
           0,
           0,
           0,
           0,
           0,
           0,
           0,
           0,
           0,
           0,
           0,
           0,
           0.4283269373961853,
           0.29333333333333333,
           0.20476190476190476,
           0.20476190476190476,
           0,
           0,
           0,
           0,
           0,
           0,
           0,
           0,
           0,
           0,
           0,
           0,
           0,
           0,
           0,
           0,
           0,
           0,
           0,
           0,
           0,
           0,
           0,
           0,
           0,
           0,
           0,
           0.1021978021978022,
           0.20476190476190476,
           0.20476190476190476,
           0.20476190476190476,
           0,
           0,
           0,
           0,
           0,
           0,
           0,
           0,
           0,
           0,
           0,
           0,
           0,
           0,
           0,
           0,
           0,
           0,
           0,
           0,
           0,
           0,
           0,
           0,
           0,
           0,
           0.1021978021978022,
           0.1021978021978022,
           0.20476190476190476,
           0.20476190476190476,
           0,
           0,
           0,
           0,
           0,
           0,
           0,
           0,
           0,
           0,
           0,
           0,
           0,
           0,
           0,
           0,
           0,
           0,
           0,
           0,
           0,
           0,
           0,
           0,
           0,
           0.1021978021978022,
           0.1021978021978022,
           0.1021978021978022,
           0.20476190476190476,
           0.20476190476190476,
           0.13333333333333333,
           0,
           0,
           0,
           0,
           0,
           0,
           0,
           0,
           0,
           0,
           0,
           0,
           0,
           0,
           0,
           0,
           0,
           0,
           0,
           0,
           0,
           0,
           0,
           0.3021978021978022,
           0.1021978021978022,
           0.1021978021978022,
           0.1021978021978022,
           0.1021978021978022,
           0.20476190476190476,
           0.20476190476190476,
           0,
           0,
           0,
           0,
           0,
           0,
           0,
           0,
           0,
           0,
           0,
           0,
           0,
           0,
           0,
           0,
           0,
           0,
           0,
           0,
           0,
           0,
           0.3021978021978022,
           0.3021978021978022,
           0.1021978021978022,
           0.1021978021978022,
           0.1021978021978022,
           0.1021978021978022,
           0.20476190476190476,
           0.20476190476190476,
           0,
           0,
           0,
           0,
           0,
           0,
           0,
           0,
           0,
           0,
           0,
           0,
           0,
           0,
           0,
           0,
           0,
           0,
           0,
           0,
           0,
           0.3021978021978022,
           0.3021978021978022,
           0.1021978021978022,
           0.1021978021978022,
           0.1021978021978022,
           0.1021978021978022,
           0.20476190476190476,
           0.20476190476190476,
           0,
           0,
           0,
           0,
           0,
           0,
           0,
           0,
           0,
           0,
           0,
           0,
           0,
           0,
           0,
           0,
           0,
           0,
           0,
           0,
           0.3021978021978022,
           0.3021978021978022,
           0.1021978021978022,
           0.1021978021978022,
           0.1021978021978022,
           0.1021978021978022,
           0.1021978021978022,
           0.1021978021978022,
           0.20476190476190476,
           0,
           0,
           0,
           0,
           0,
           0,
           0,
           0,
           0,
           0,
           0,
           0,
           0,
           0,
           0,
           0,
           0,
           0,
           0,
           0.3021978021978022,
           0.3021978021978022,
           0.3021978021978022,
           0.1021978021978022,
           0.1021978021978022,
           0.1021978021978022,
           0.1021978021978022,
           0.1021978021978022,
           0.1021978021978022,
           0.20476190476190476,
           0.13333333333333333,
           0,
           0,
           0,
           0,
           0,
           0,
           0,
           0,
           0,
           0,
           0,
           0,
           0,
           0,
           0,
           0,
           0,
           0.3021978021978022,
           0.3021978021978022,
           0.3021978021978022,
           0.3021978021978022,
           0.1021978021978022,
           0.1021978021978022,
           0.1021978021978022,
           0.1021978021978022,
           0.1021978021978022,
           0.1021978021978022,
           0.1021978021978022,
           0.20476190476190476,
           0,
           0,
           0,
           0,
           0,
           0,
           0,
           0,
           0,
           0,
           0,
           0,
           0,
           0,
           0,
           0,
           0.3021978021978022,
           0.3021978021978022,
           0.3021978021978022,
           0.1021978021978022,
           0.1021978021978022,
           0.1021978021978022,
           0.1021978021978022,
           0.1021978021978022,
           0.1021978021978022,
           0.1021978021978022,
           0.1021978021978022,
           0.20476190476190476,
           0,
           0,
           0,
           0,
           0,
           0,
           0,
           0,
           0,
           0,
           0,
           0,
           0,
           0,
           0,
           0.3021978021978022,
           0.3021978021978022,
           0.3021978021978022,
           0.3021978021978022,
           0.1021978021978022,
           0.1021978021978022,
           0.1021978021978022,
           0.1021978021978022,
           0.1021978021978022,
           0.1021978021978022,
           0.1021978021978022,
           0.1021978021978022,
           0.20476190476190476,
           0,
           0,
           0,
           0,
           0,
           0,
           0,
           0,
           0,
           0,
           0,
           0,
           0,
           0,
           0.3021978021978022,
           0.3021978021978022,
           0.3021978021978022,
           0.3021978021978022,
           0.3021978021978022,
           0.1021978021978022,
           0.1021978021978022,
           0.1021978021978022,
           0.1021978021978022,
           0.1021978021978022,
           0.1021978021978022,
           0.1021978021978022,
           0.1021978021978022,
           0.1021978021978022,
           0,
           0,
           0,
           0,
           0,
           0,
           0,
           0,
           0,
           0,
           0,
           0,
           0,
           0.3021978021978022,
           0.3021978021978022,
           0.3021978021978022,
           0.3021978021978022,
           0.3021978021978022,
           0.3021978021978022,
           0.1021978021978022,
           0.1021978021978022,
           0.1021978021978022,
           0.1021978021978022,
           0.1021978021978022,
           0.1021978021978022,
           0.1021978021978022,
           0.1021978021978022,
           0.1021978021978022,
           0.20476190476190476,
           0,
           0,
           0,
           0,
           0,
           0,
           0,
           0,
           0,
           0,
           0,
           0.3021978021978022,
           0.3021978021978022,
           0.3021978021978022,
           0.3021978021978022,
           0.3021978021978022,
           0.1021978021978022,
           0.1021978021978022,
           0.1021978021978022,
           0.1021978021978022,
           0.1021978021978022,
           0.1021978021978022,
           0.1021978021978022,
           0.1021978021978022,
           0.1021978021978022,
           0.1021978021978022,
           0.20476190476190476,
           0,
           0,
           0,
           0,
           0,
           0,
           0,
           0,
           0,
           0,
           0.3021978021978022,
           0.3021978021978022,
           0.3021978021978022,
           0.3021978021978022,
           0.3021978021978022,
           0.3021978021978022,
           0.1021978021978022,
           0.1021978021978022,
           0.1021978021978022,
           0.1021978021978022,
           0.1021978021978022,
           0.1021978021978022,
           0.1021978021978022,
           0.1021978021978022,
           0.1021978021978022,
           0.1021978021978022,
           0.1021978021978022,
           0,
           0,
           0,
           0,
           0,
           0,
           0,
           0,
           0,
           0.3021978021978022,
           0.3021978021978022,
           0.3021978021978022,
           0.3021978021978022,
           0.3021978021978022,
           0.3021978021978022,
           0.3021978021978022,
           0.1021978021978022,
           0.1021978021978022,
           0.1021978021978022,
           0.1021978021978022,
           0.1021978021978022,
           0.1021978021978022,
           0.1021978021978022,
           0.1021978021978022,
           0.1021978021978022,
           0.1021978021978022,
           0.1021978021978022,
           0,
           0,
           0,
           0,
           0,
           0,
           0,
           0,
           0.3021978021978022,
           0.3021978021978022,
           0.3021978021978022,
           0.3021978021978022,
           0.3021978021978022,
           0.3021978021978022,
           0.1021978021978022,
           0.1021978021978022,
           0.1021978021978022,
           0.1021978021978022,
           0.1021978021978022,
           0.1021978021978022,
           0.1021978021978022,
           0.1021978021978022,
           0.1021978021978022,
           0.1021978021978022,
           0.1021978021978022,
           0.1021978021978022,
           0.03076923076923077,
           0,
           0,
           0,
           0,
           0,
           0,
           0.3021978021978022,
           0.3021978021978022,
           0.3021978021978022,
           0.3021978021978022,
           0.3021978021978022,
           0.3021978021978022,
           0.3021978021978022,
           0.1021978021978022,
           0.1021978021978022,
           0.1021978021978022,
           0.1021978021978022,
           0.1021978021978022,
           0.1021978021978022,
           0.1021978021978022,
           0.1021978021978022,
           0.1021978021978022,
           0.1021978021978022,
           0.1021978021978022,
           0.1021978021978022,
           0.1021978021978022,
           0,
           0,
           0,
           0,
           0,
           0.3021978021978022,
           0.3021978021978022,
           0.3021978021978022,
           0.3021978021978022,
           0.3021978021978022,
           0.3021978021978022,
           0.3021978021978022,
           0.3021978021978022,
           0.1021978021978022,
           0.1021978021978022,
           0.1021978021978022,
           0.1021978021978022,
           0.1021978021978022,
           0.1021978021978022,
           0.1021978021978022,
           0.1021978021978022,
           0.1021978021978022,
           0.1021978021978022,
           0.1021978021978022,
           0.1021978021978022,
           0.1021978021978022,
           0,
           0,
           0,
           0,
           0.3021978021978022,
           0.3021978021978022,
           0.3021978021978022,
           0.3021978021978022,
           0.3021978021978022,
           0.3021978021978022,
           0.3021978021978022,
           0.3021978021978022,
           0.1021978021978022,
           0.1021978021978022,
           0.1021978021978022,
           0.1021978021978022,
           0.1021978021978022,
           0.1021978021978022,
           0.1021978021978022,
           0.1021978021978022,
           0.1021978021978022,
           0.1021978021978022,
           0.1021978021978022,
           0.1021978021978022,
           0.1021978021978022,
           0.03076923076923077,
           0,
           0,
           0.3021978021978022,
           0.3021978021978022,
           0.3021978021978022,
           0.3021978021978022,
           0.3021978021978022,
           0.3021978021978022,
           0.3021978021978022,
           0.3021978021978022,
           0.1021978021978022,
           0.1021978021978022,
           0.1021978021978022,
           0.1021978021978022,
           0.1021978021978022,
           0.1021978021978022,
           0.1021978021978022,
           0.1021978021978022,
           0.1021978021978022,
           0.1021978021978022,
           0.1021978021978022,
           0.1021978021978022,
           0.1021978021978022,
           0.1021978021978022,
           0.03076923076923077,
           0,
           0.3021978021978022,
           0.3021978021978022,
           0.3021978021978022,
           0.3021978021978022,
           0.3021978021978022,
           0.3021978021978022,
           0.3021978021978022,
           0.3021978021978022,
           0.3021978021978022,
           0.1021978021978022,
           0.1021978021978022,
           0.1021978021978022,
           0.1021978021978022,
           0.1021978021978022,
           0.1021978021978022,
           0.1021978021978022,
           0.1021978021978022,
           0.1021978021978022,
           0.1021978021978022,
           0.1021978021978022,
           0.1021978021978022,
           0.1021978021978022,
           0.1021978021978022,
           0.1021978021978022
          ],
          "coloraxis": "coloraxis",
          "symbol": "diamond"
         },
         "mode": "markers",
         "name": "0",
         "showlegend": true,
         "type": "scattergl",
         "x": [
          -1.2191850223807537,
          -1.10664632556029,
          -0.9941076287398264,
          -0.8815689319193627,
          -0.7690302350988991,
          -0.6564915382784354,
          -0.5439528414579717,
          -0.43141414463750816,
          -0.3188754478170446,
          -0.20633675099658078,
          -0.0937980541761172,
          0.018740642644346384,
          0.13127933946481019,
          0.24381803628527376,
          0.35635673310573734,
          0.46889542992620115,
          0.5814341267466645,
          0.6939728235671283,
          0.8065115203875921,
          0.9190502172080555,
          1.0315889140285193,
          1.144127610848983,
          1.2566663076694464,
          1.3692050044899102,
          1.481743701310374,
          1.5942823981308374,
          1.7068210949513012,
          1.819359791771765,
          1.9318984885922283,
          2.044437185412692,
          2.156975882233156,
          2.2695145790536193,
          2.382053275874083,
          2.494591972694547,
          2.6071306695150103,
          2.7196693663354736,
          2.832208063155938,
          2.9447467599764012,
          3.0572854567968646,
          3.169824153617329,
          3.282362850437792,
          3.3949015472582555,
          3.50744024407872,
          3.619978940899183,
          3.7325176377196465,
          3.8450563345401108,
          3.9575950313605737,
          -1.10664632556029,
          -0.9941076287398264,
          -0.8815689319193627,
          -0.7690302350988991,
          -0.6564915382784354,
          -0.5439528414579717,
          -0.43141414463750816,
          -0.3188754478170446,
          -0.20633675099658078,
          -0.0937980541761172,
          0.018740642644346384,
          0.13127933946481019,
          0.24381803628527376,
          0.35635673310573734,
          0.46889542992620115,
          0.5814341267466645,
          0.6939728235671283,
          0.8065115203875921,
          0.9190502172080555,
          1.0315889140285193,
          1.144127610848983,
          1.2566663076694464,
          1.3692050044899102,
          1.481743701310374,
          1.5942823981308374,
          1.7068210949513012,
          1.819359791771765,
          1.9318984885922283,
          2.044437185412692,
          2.156975882233156,
          2.2695145790536193,
          2.382053275874083,
          2.494591972694547,
          2.6071306695150103,
          2.7196693663354736,
          2.832208063155938,
          2.9447467599764012,
          3.0572854567968646,
          3.169824153617329,
          3.282362850437792,
          3.3949015472582555,
          3.50744024407872,
          3.619978940899183,
          3.7325176377196465,
          3.8450563345401108,
          3.9575950313605737,
          -1.10664632556029,
          -0.9941076287398264,
          -0.8815689319193627,
          -0.7690302350988991,
          -0.6564915382784354,
          -0.5439528414579717,
          -0.43141414463750816,
          -0.3188754478170446,
          -0.20633675099658078,
          -0.0937980541761172,
          0.018740642644346384,
          0.13127933946481019,
          0.24381803628527376,
          0.35635673310573734,
          0.46889542992620115,
          0.5814341267466645,
          0.6939728235671283,
          0.8065115203875921,
          0.9190502172080555,
          1.0315889140285193,
          1.144127610848983,
          1.2566663076694464,
          1.3692050044899102,
          1.481743701310374,
          1.5942823981308374,
          1.7068210949513012,
          1.819359791771765,
          1.9318984885922283,
          2.044437185412692,
          2.156975882233156,
          2.2695145790536193,
          2.382053275874083,
          2.494591972694547,
          2.6071306695150103,
          2.7196693663354736,
          2.832208063155938,
          2.9447467599764012,
          3.0572854567968646,
          3.169824153617329,
          3.282362850437792,
          3.3949015472582555,
          3.50744024407872,
          3.619978940899183,
          3.7325176377196465,
          3.8450563345401108,
          3.9575950313605737,
          -0.9941076287398264,
          -0.8815689319193627,
          -0.7690302350988991,
          -0.6564915382784354,
          -0.5439528414579717,
          -0.43141414463750816,
          -0.3188754478170446,
          -0.20633675099658078,
          -0.0937980541761172,
          0.018740642644346384,
          0.13127933946481019,
          0.24381803628527376,
          0.35635673310573734,
          0.46889542992620115,
          0.5814341267466645,
          0.6939728235671283,
          0.8065115203875921,
          0.9190502172080555,
          1.0315889140285193,
          1.144127610848983,
          1.2566663076694464,
          1.3692050044899102,
          1.481743701310374,
          1.5942823981308374,
          1.7068210949513012,
          1.819359791771765,
          1.9318984885922283,
          2.044437185412692,
          2.156975882233156,
          2.2695145790536193,
          2.382053275874083,
          2.494591972694547,
          2.6071306695150103,
          2.7196693663354736,
          2.832208063155938,
          2.9447467599764012,
          3.0572854567968646,
          3.169824153617329,
          3.282362850437792,
          3.3949015472582555,
          3.50744024407872,
          3.619978940899183,
          3.7325176377196465,
          3.8450563345401108,
          3.9575950313605737,
          -0.9941076287398264,
          -0.8815689319193627,
          -0.7690302350988991,
          -0.6564915382784354,
          -0.5439528414579717,
          -0.43141414463750816,
          -0.3188754478170446,
          -0.20633675099658078,
          -0.0937980541761172,
          0.018740642644346384,
          0.13127933946481019,
          0.24381803628527376,
          0.35635673310573734,
          0.46889542992620115,
          0.5814341267466645,
          0.6939728235671283,
          0.8065115203875921,
          0.9190502172080555,
          1.0315889140285193,
          1.144127610848983,
          1.2566663076694464,
          1.3692050044899102,
          1.481743701310374,
          1.5942823981308374,
          1.7068210949513012,
          1.819359791771765,
          1.9318984885922283,
          2.044437185412692,
          2.156975882233156,
          2.2695145790536193,
          2.382053275874083,
          2.494591972694547,
          2.6071306695150103,
          2.7196693663354736,
          2.832208063155938,
          2.9447467599764012,
          3.0572854567968646,
          3.169824153617329,
          3.282362850437792,
          3.3949015472582555,
          3.50744024407872,
          3.619978940899183,
          3.7325176377196465,
          3.8450563345401108,
          3.9575950313605737,
          -0.9941076287398264,
          -0.8815689319193627,
          -0.7690302350988991,
          -0.6564915382784354,
          -0.5439528414579717,
          -0.43141414463750816,
          -0.3188754478170446,
          -0.20633675099658078,
          -0.0937980541761172,
          0.018740642644346384,
          0.13127933946481019,
          0.24381803628527376,
          0.35635673310573734,
          0.46889542992620115,
          0.5814341267466645,
          0.6939728235671283,
          0.8065115203875921,
          0.9190502172080555,
          1.0315889140285193,
          1.144127610848983,
          1.2566663076694464,
          1.3692050044899102,
          1.481743701310374,
          1.5942823981308374,
          1.7068210949513012,
          1.819359791771765,
          1.9318984885922283,
          2.044437185412692,
          2.156975882233156,
          2.2695145790536193,
          2.382053275874083,
          2.494591972694547,
          2.6071306695150103,
          2.7196693663354736,
          2.832208063155938,
          2.9447467599764012,
          3.0572854567968646,
          3.169824153617329,
          3.282362850437792,
          3.3949015472582555,
          3.50744024407872,
          3.619978940899183,
          3.7325176377196465,
          3.8450563345401108,
          3.9575950313605737,
          -0.8815689319193627,
          -0.7690302350988991,
          -0.6564915382784354,
          -0.5439528414579717,
          -0.43141414463750816,
          -0.3188754478170446,
          -0.20633675099658078,
          -0.0937980541761172,
          0.018740642644346384,
          0.13127933946481019,
          0.24381803628527376,
          0.35635673310573734,
          0.46889542992620115,
          0.5814341267466645,
          0.6939728235671283,
          0.8065115203875921,
          0.9190502172080555,
          1.0315889140285193,
          1.144127610848983,
          1.2566663076694464,
          1.3692050044899102,
          1.481743701310374,
          1.5942823981308374,
          1.7068210949513012,
          1.819359791771765,
          1.9318984885922283,
          2.044437185412692,
          2.156975882233156,
          2.2695145790536193,
          2.382053275874083,
          2.494591972694547,
          2.6071306695150103,
          2.7196693663354736,
          2.832208063155938,
          2.9447467599764012,
          3.0572854567968646,
          3.169824153617329,
          3.282362850437792,
          3.3949015472582555,
          3.50744024407872,
          3.619978940899183,
          3.7325176377196465,
          3.8450563345401108,
          3.9575950313605737,
          -0.8815689319193627,
          -0.7690302350988991,
          -0.6564915382784354,
          -0.5439528414579717,
          -0.43141414463750816,
          -0.3188754478170446,
          -0.20633675099658078,
          -0.0937980541761172,
          0.018740642644346384,
          0.13127933946481019,
          0.24381803628527376,
          0.35635673310573734,
          0.46889542992620115,
          0.5814341267466645,
          0.6939728235671283,
          0.8065115203875921,
          0.9190502172080555,
          1.0315889140285193,
          1.144127610848983,
          1.2566663076694464,
          1.3692050044899102,
          1.481743701310374,
          1.5942823981308374,
          1.7068210949513012,
          1.819359791771765,
          1.9318984885922283,
          2.044437185412692,
          2.156975882233156,
          2.2695145790536193,
          2.382053275874083,
          2.494591972694547,
          2.6071306695150103,
          2.7196693663354736,
          2.832208063155938,
          2.9447467599764012,
          3.0572854567968646,
          3.169824153617329,
          3.282362850437792,
          3.3949015472582555,
          3.50744024407872,
          3.619978940899183,
          3.7325176377196465,
          3.8450563345401108,
          3.9575950313605737,
          -0.7690302350988991,
          -0.6564915382784354,
          -0.5439528414579717,
          -0.43141414463750816,
          -0.3188754478170446,
          -0.20633675099658078,
          -0.0937980541761172,
          0.018740642644346384,
          0.13127933946481019,
          0.24381803628527376,
          0.35635673310573734,
          0.46889542992620115,
          0.5814341267466645,
          0.6939728235671283,
          0.8065115203875921,
          0.9190502172080555,
          1.0315889140285193,
          1.144127610848983,
          1.2566663076694464,
          1.3692050044899102,
          1.481743701310374,
          1.5942823981308374,
          1.7068210949513012,
          1.819359791771765,
          1.9318984885922283,
          2.044437185412692,
          2.156975882233156,
          2.2695145790536193,
          2.382053275874083,
          2.494591972694547,
          2.6071306695150103,
          2.7196693663354736,
          2.832208063155938,
          2.9447467599764012,
          3.0572854567968646,
          3.169824153617329,
          3.282362850437792,
          3.3949015472582555,
          3.50744024407872,
          3.619978940899183,
          3.7325176377196465,
          3.8450563345401108,
          3.9575950313605737,
          -0.7690302350988991,
          -0.6564915382784354,
          -0.5439528414579717,
          -0.43141414463750816,
          -0.3188754478170446,
          -0.20633675099658078,
          -0.0937980541761172,
          0.018740642644346384,
          0.13127933946481019,
          0.24381803628527376,
          0.35635673310573734,
          0.46889542992620115,
          0.5814341267466645,
          0.6939728235671283,
          0.8065115203875921,
          0.9190502172080555,
          1.0315889140285193,
          1.144127610848983,
          1.2566663076694464,
          1.3692050044899102,
          1.481743701310374,
          1.5942823981308374,
          1.7068210949513012,
          1.819359791771765,
          1.9318984885922283,
          2.044437185412692,
          2.156975882233156,
          2.2695145790536193,
          2.382053275874083,
          2.494591972694547,
          2.6071306695150103,
          2.7196693663354736,
          2.832208063155938,
          2.9447467599764012,
          3.0572854567968646,
          3.169824153617329,
          3.282362850437792,
          3.3949015472582555,
          3.50744024407872,
          3.619978940899183,
          3.7325176377196465,
          3.8450563345401108,
          3.9575950313605737,
          -0.7690302350988991,
          -0.6564915382784354,
          -0.5439528414579717,
          -0.43141414463750816,
          -0.3188754478170446,
          -0.20633675099658078,
          -0.0937980541761172,
          0.018740642644346384,
          0.13127933946481019,
          0.24381803628527376,
          0.35635673310573734,
          0.46889542992620115,
          0.5814341267466645,
          0.6939728235671283,
          0.8065115203875921,
          0.9190502172080555,
          1.0315889140285193,
          1.144127610848983,
          1.2566663076694464,
          1.3692050044899102,
          1.481743701310374,
          1.5942823981308374,
          1.7068210949513012,
          1.819359791771765,
          1.9318984885922283,
          2.044437185412692,
          2.156975882233156,
          2.2695145790536193,
          2.382053275874083,
          2.494591972694547,
          2.6071306695150103,
          2.7196693663354736,
          2.832208063155938,
          2.9447467599764012,
          3.0572854567968646,
          3.169824153617329,
          3.282362850437792,
          3.3949015472582555,
          3.50744024407872,
          3.619978940899183,
          3.7325176377196465,
          3.8450563345401108,
          3.9575950313605737,
          -0.6564915382784354,
          -0.5439528414579717,
          -0.43141414463750816,
          -0.3188754478170446,
          -0.20633675099658078,
          -0.0937980541761172,
          0.018740642644346384,
          0.13127933946481019,
          0.24381803628527376,
          0.35635673310573734,
          0.46889542992620115,
          0.5814341267466645,
          0.6939728235671283,
          0.8065115203875921,
          0.9190502172080555,
          1.0315889140285193,
          1.144127610848983,
          1.2566663076694464,
          1.3692050044899102,
          1.481743701310374,
          1.5942823981308374,
          1.7068210949513012,
          1.819359791771765,
          1.9318984885922283,
          2.044437185412692,
          2.156975882233156,
          2.2695145790536193,
          2.382053275874083,
          2.494591972694547,
          2.6071306695150103,
          2.7196693663354736,
          2.832208063155938,
          2.9447467599764012,
          3.0572854567968646,
          3.169824153617329,
          3.282362850437792,
          3.3949015472582555,
          3.50744024407872,
          3.619978940899183,
          3.7325176377196465,
          3.8450563345401108,
          3.9575950313605737,
          -0.6564915382784354,
          -0.5439528414579717,
          -0.43141414463750816,
          -0.3188754478170446,
          -0.20633675099658078,
          -0.0937980541761172,
          0.018740642644346384,
          0.13127933946481019,
          0.24381803628527376,
          0.35635673310573734,
          0.46889542992620115,
          0.5814341267466645,
          0.6939728235671283,
          0.8065115203875921,
          0.9190502172080555,
          1.0315889140285193,
          1.144127610848983,
          1.2566663076694464,
          1.3692050044899102,
          1.481743701310374,
          1.5942823981308374,
          1.7068210949513012,
          1.819359791771765,
          1.9318984885922283,
          2.044437185412692,
          2.156975882233156,
          2.2695145790536193,
          2.382053275874083,
          2.494591972694547,
          2.6071306695150103,
          2.7196693663354736,
          2.832208063155938,
          2.9447467599764012,
          3.0572854567968646,
          3.169824153617329,
          3.282362850437792,
          3.3949015472582555,
          3.50744024407872,
          3.619978940899183,
          3.7325176377196465,
          3.8450563345401108,
          3.9575950313605737,
          -0.6564915382784354,
          -0.5439528414579717,
          -0.43141414463750816,
          -0.3188754478170446,
          -0.20633675099658078,
          -0.0937980541761172,
          0.018740642644346384,
          0.13127933946481019,
          0.24381803628527376,
          0.35635673310573734,
          0.46889542992620115,
          0.5814341267466645,
          0.6939728235671283,
          0.8065115203875921,
          0.9190502172080555,
          1.0315889140285193,
          1.144127610848983,
          1.2566663076694464,
          1.3692050044899102,
          1.481743701310374,
          1.5942823981308374,
          1.7068210949513012,
          1.819359791771765,
          1.9318984885922283,
          2.044437185412692,
          2.156975882233156,
          2.2695145790536193,
          2.382053275874083,
          2.494591972694547,
          2.6071306695150103,
          2.7196693663354736,
          2.832208063155938,
          2.9447467599764012,
          3.0572854567968646,
          3.169824153617329,
          3.282362850437792,
          3.3949015472582555,
          3.50744024407872,
          3.619978940899183,
          3.7325176377196465,
          3.8450563345401108,
          3.9575950313605737,
          -0.5439528414579717,
          -0.43141414463750816,
          -0.3188754478170446,
          -0.20633675099658078,
          -0.0937980541761172,
          0.018740642644346384,
          0.13127933946481019,
          0.24381803628527376,
          0.35635673310573734,
          0.46889542992620115,
          0.5814341267466645,
          0.6939728235671283,
          0.8065115203875921,
          0.9190502172080555,
          1.0315889140285193,
          1.144127610848983,
          1.2566663076694464,
          1.3692050044899102,
          1.481743701310374,
          1.5942823981308374,
          1.7068210949513012,
          1.819359791771765,
          1.9318984885922283,
          2.044437185412692,
          2.156975882233156,
          2.2695145790536193,
          2.382053275874083,
          2.494591972694547,
          2.6071306695150103,
          2.7196693663354736,
          2.832208063155938,
          2.9447467599764012,
          3.0572854567968646,
          3.169824153617329,
          3.282362850437792,
          3.3949015472582555,
          3.50744024407872,
          3.619978940899183,
          3.7325176377196465,
          3.8450563345401108,
          3.9575950313605737,
          -0.5439528414579717,
          -0.43141414463750816,
          -0.3188754478170446,
          -0.20633675099658078,
          -0.0937980541761172,
          0.018740642644346384,
          0.13127933946481019,
          0.24381803628527376,
          0.35635673310573734,
          0.46889542992620115,
          0.5814341267466645,
          0.6939728235671283,
          0.8065115203875921,
          0.9190502172080555,
          1.0315889140285193,
          1.144127610848983,
          1.2566663076694464,
          1.3692050044899102,
          1.481743701310374,
          1.5942823981308374,
          1.7068210949513012,
          1.819359791771765,
          1.9318984885922283,
          2.044437185412692,
          2.156975882233156,
          2.2695145790536193,
          2.382053275874083,
          2.494591972694547,
          2.6071306695150103,
          2.7196693663354736,
          2.832208063155938,
          2.9447467599764012,
          3.0572854567968646,
          3.169824153617329,
          3.282362850437792,
          3.3949015472582555,
          3.50744024407872,
          3.619978940899183,
          3.7325176377196465,
          3.8450563345401108,
          3.9575950313605737,
          -0.43141414463750816,
          -0.3188754478170446,
          -0.20633675099658078,
          -0.0937980541761172,
          0.018740642644346384,
          0.13127933946481019,
          0.24381803628527376,
          0.35635673310573734,
          0.46889542992620115,
          0.5814341267466645,
          0.6939728235671283,
          0.8065115203875921,
          0.9190502172080555,
          1.0315889140285193,
          1.144127610848983,
          1.2566663076694464,
          1.3692050044899102,
          1.481743701310374,
          1.5942823981308374,
          1.7068210949513012,
          1.819359791771765,
          1.9318984885922283,
          2.044437185412692,
          2.156975882233156,
          2.2695145790536193,
          2.382053275874083,
          2.494591972694547,
          2.6071306695150103,
          2.7196693663354736,
          2.832208063155938,
          2.9447467599764012,
          3.0572854567968646,
          3.169824153617329,
          3.282362850437792,
          3.3949015472582555,
          3.50744024407872,
          3.619978940899183,
          3.7325176377196465,
          3.8450563345401108,
          3.9575950313605737,
          -0.20633675099658078,
          -0.0937980541761172,
          0.018740642644346384,
          0.13127933946481019,
          0.24381803628527376,
          0.35635673310573734,
          0.46889542992620115,
          0.5814341267466645,
          0.6939728235671283,
          0.8065115203875921,
          0.9190502172080555,
          1.0315889140285193,
          1.144127610848983,
          1.2566663076694464,
          1.3692050044899102,
          1.481743701310374,
          1.5942823981308374,
          1.7068210949513012,
          1.819359791771765,
          1.9318984885922283,
          2.044437185412692,
          2.156975882233156,
          2.2695145790536193,
          2.382053275874083,
          2.494591972694547,
          2.6071306695150103,
          2.7196693663354736,
          2.832208063155938,
          2.9447467599764012,
          3.0572854567968646,
          3.169824153617329,
          3.282362850437792,
          3.3949015472582555,
          3.50744024407872,
          3.619978940899183,
          3.7325176377196465,
          3.8450563345401108,
          3.9575950313605737,
          -0.20633675099658078,
          -0.0937980541761172,
          0.018740642644346384,
          0.13127933946481019,
          0.24381803628527376,
          0.35635673310573734,
          0.46889542992620115,
          0.5814341267466645,
          0.6939728235671283,
          0.8065115203875921,
          0.9190502172080555,
          1.0315889140285193,
          1.144127610848983,
          1.2566663076694464,
          1.3692050044899102,
          1.481743701310374,
          1.5942823981308374,
          1.7068210949513012,
          1.819359791771765,
          1.9318984885922283,
          2.044437185412692,
          2.156975882233156,
          2.2695145790536193,
          2.382053275874083,
          2.494591972694547,
          2.6071306695150103,
          2.7196693663354736,
          2.832208063155938,
          2.9447467599764012,
          3.0572854567968646,
          3.169824153617329,
          3.282362850437792,
          3.3949015472582555,
          3.50744024407872,
          3.619978940899183,
          3.7325176377196465,
          3.8450563345401108,
          3.9575950313605737,
          -0.0937980541761172,
          0.018740642644346384,
          0.13127933946481019,
          0.24381803628527376,
          0.35635673310573734,
          0.46889542992620115,
          0.5814341267466645,
          0.6939728235671283,
          0.8065115203875921,
          0.9190502172080555,
          1.0315889140285193,
          1.144127610848983,
          1.2566663076694464,
          1.3692050044899102,
          1.481743701310374,
          1.5942823981308374,
          1.7068210949513012,
          1.819359791771765,
          1.9318984885922283,
          2.044437185412692,
          2.156975882233156,
          2.2695145790536193,
          2.382053275874083,
          2.494591972694547,
          2.6071306695150103,
          2.7196693663354736,
          2.832208063155938,
          2.9447467599764012,
          3.0572854567968646,
          3.169824153617329,
          3.282362850437792,
          3.3949015472582555,
          3.50744024407872,
          3.619978940899183,
          3.7325176377196465,
          3.8450563345401108,
          3.9575950313605737,
          0.018740642644346384,
          0.13127933946481019,
          0.24381803628527376,
          0.35635673310573734,
          0.46889542992620115,
          0.5814341267466645,
          0.6939728235671283,
          0.8065115203875921,
          0.9190502172080555,
          1.0315889140285193,
          1.144127610848983,
          1.2566663076694464,
          1.3692050044899102,
          1.481743701310374,
          1.5942823981308374,
          1.7068210949513012,
          1.819359791771765,
          1.9318984885922283,
          2.044437185412692,
          2.156975882233156,
          2.2695145790536193,
          2.382053275874083,
          2.494591972694547,
          2.6071306695150103,
          2.7196693663354736,
          2.832208063155938,
          2.9447467599764012,
          3.0572854567968646,
          3.169824153617329,
          3.282362850437792,
          3.3949015472582555,
          3.50744024407872,
          3.619978940899183,
          3.7325176377196465,
          3.8450563345401108,
          3.9575950313605737,
          0.13127933946481019,
          0.24381803628527376,
          0.35635673310573734,
          0.46889542992620115,
          0.5814341267466645,
          0.6939728235671283,
          0.8065115203875921,
          0.9190502172080555,
          1.0315889140285193,
          1.144127610848983,
          1.2566663076694464,
          1.3692050044899102,
          1.481743701310374,
          1.5942823981308374,
          1.7068210949513012,
          1.819359791771765,
          1.9318984885922283,
          2.044437185412692,
          2.156975882233156,
          2.2695145790536193,
          2.382053275874083,
          2.494591972694547,
          2.6071306695150103,
          2.7196693663354736,
          2.832208063155938,
          2.9447467599764012,
          3.0572854567968646,
          3.169824153617329,
          3.282362850437792,
          3.3949015472582555,
          3.50744024407872,
          3.619978940899183,
          3.7325176377196465,
          3.8450563345401108,
          3.9575950313605737,
          0.24381803628527376,
          0.35635673310573734,
          0.46889542992620115,
          0.5814341267466645,
          0.6939728235671283,
          0.8065115203875921,
          0.9190502172080555,
          1.0315889140285193,
          1.144127610848983,
          1.2566663076694464,
          1.3692050044899102,
          1.481743701310374,
          1.5942823981308374,
          1.7068210949513012,
          1.819359791771765,
          1.9318984885922283,
          2.044437185412692,
          2.156975882233156,
          2.2695145790536193,
          2.382053275874083,
          2.494591972694547,
          2.6071306695150103,
          2.7196693663354736,
          2.832208063155938,
          2.9447467599764012,
          3.0572854567968646,
          3.169824153617329,
          3.282362850437792,
          3.3949015472582555,
          3.50744024407872,
          3.619978940899183,
          3.7325176377196465,
          3.8450563345401108,
          3.9575950313605737,
          0.35635673310573734,
          0.46889542992620115,
          0.5814341267466645,
          0.6939728235671283,
          0.8065115203875921,
          0.9190502172080555,
          1.0315889140285193,
          1.144127610848983,
          1.2566663076694464,
          1.3692050044899102,
          1.481743701310374,
          1.5942823981308374,
          1.7068210949513012,
          1.819359791771765,
          1.9318984885922283,
          2.044437185412692,
          2.156975882233156,
          2.2695145790536193,
          2.382053275874083,
          2.494591972694547,
          2.6071306695150103,
          2.7196693663354736,
          2.832208063155938,
          2.9447467599764012,
          3.0572854567968646,
          3.169824153617329,
          3.282362850437792,
          3.3949015472582555,
          3.50744024407872,
          3.619978940899183,
          3.7325176377196465,
          3.8450563345401108,
          3.9575950313605737,
          0.35635673310573734,
          0.46889542992620115,
          0.5814341267466645,
          0.6939728235671283,
          0.8065115203875921,
          0.9190502172080555,
          1.0315889140285193,
          1.144127610848983,
          1.2566663076694464,
          1.3692050044899102,
          1.481743701310374,
          1.5942823981308374,
          1.7068210949513012,
          1.819359791771765,
          1.9318984885922283,
          2.044437185412692,
          2.156975882233156,
          2.2695145790536193,
          2.382053275874083,
          2.494591972694547,
          2.6071306695150103,
          2.7196693663354736,
          2.832208063155938,
          2.9447467599764012,
          3.0572854567968646,
          3.169824153617329,
          3.282362850437792,
          3.3949015472582555,
          3.50744024407872,
          3.619978940899183,
          3.7325176377196465,
          3.8450563345401108,
          3.9575950313605737,
          0.46889542992620115,
          0.5814341267466645,
          0.6939728235671283,
          0.8065115203875921,
          0.9190502172080555,
          1.0315889140285193,
          1.144127610848983,
          1.2566663076694464,
          1.3692050044899102,
          1.481743701310374,
          1.5942823981308374,
          1.7068210949513012,
          1.819359791771765,
          1.9318984885922283,
          2.044437185412692,
          2.156975882233156,
          2.2695145790536193,
          2.382053275874083,
          2.494591972694547,
          2.6071306695150103,
          2.7196693663354736,
          2.832208063155938,
          2.9447467599764012,
          3.0572854567968646,
          3.169824153617329,
          3.282362850437792,
          3.3949015472582555,
          3.50744024407872,
          3.619978940899183,
          3.7325176377196465,
          3.8450563345401108,
          3.9575950313605737,
          0.46889542992620115,
          0.5814341267466645,
          0.6939728235671283,
          0.8065115203875921,
          0.9190502172080555,
          1.0315889140285193,
          1.144127610848983,
          1.2566663076694464,
          1.3692050044899102,
          1.481743701310374,
          1.5942823981308374,
          1.7068210949513012,
          1.819359791771765,
          1.9318984885922283,
          2.044437185412692,
          2.156975882233156,
          2.2695145790536193,
          2.382053275874083,
          2.494591972694547,
          2.6071306695150103,
          2.7196693663354736,
          2.832208063155938,
          2.9447467599764012,
          3.0572854567968646,
          3.169824153617329,
          3.282362850437792,
          3.3949015472582555,
          3.50744024407872,
          3.619978940899183,
          3.7325176377196465,
          3.8450563345401108,
          3.9575950313605737,
          0.5814341267466645,
          0.6939728235671283,
          0.8065115203875921,
          0.9190502172080555,
          1.0315889140285193,
          1.144127610848983,
          1.2566663076694464,
          1.3692050044899102,
          1.481743701310374,
          1.5942823981308374,
          1.7068210949513012,
          1.819359791771765,
          1.9318984885922283,
          2.044437185412692,
          2.156975882233156,
          2.2695145790536193,
          2.382053275874083,
          2.494591972694547,
          2.6071306695150103,
          2.7196693663354736,
          2.832208063155938,
          2.9447467599764012,
          3.0572854567968646,
          3.169824153617329,
          3.282362850437792,
          3.3949015472582555,
          3.50744024407872,
          3.619978940899183,
          3.7325176377196465,
          3.8450563345401108,
          3.9575950313605737,
          0.6939728235671283,
          0.8065115203875921,
          0.9190502172080555,
          1.0315889140285193,
          1.144127610848983,
          1.2566663076694464,
          1.3692050044899102,
          1.481743701310374,
          1.5942823981308374,
          1.7068210949513012,
          1.819359791771765,
          1.9318984885922283,
          2.044437185412692,
          2.156975882233156,
          2.2695145790536193,
          2.382053275874083,
          2.494591972694547,
          2.6071306695150103,
          2.7196693663354736,
          2.832208063155938,
          2.9447467599764012,
          3.0572854567968646,
          3.169824153617329,
          3.282362850437792,
          3.3949015472582555,
          3.50744024407872,
          3.619978940899183,
          3.7325176377196465,
          3.8450563345401108,
          3.9575950313605737,
          0.8065115203875921,
          0.9190502172080555,
          1.0315889140285193,
          1.144127610848983,
          1.2566663076694464,
          1.3692050044899102,
          1.481743701310374,
          1.5942823981308374,
          1.7068210949513012,
          1.819359791771765,
          1.9318984885922283,
          2.044437185412692,
          2.156975882233156,
          2.2695145790536193,
          2.382053275874083,
          2.494591972694547,
          2.6071306695150103,
          2.7196693663354736,
          2.832208063155938,
          2.9447467599764012,
          3.0572854567968646,
          3.169824153617329,
          3.282362850437792,
          3.3949015472582555,
          3.50744024407872,
          3.619978940899183,
          3.7325176377196465,
          3.8450563345401108,
          3.9575950313605737,
          0.8065115203875921,
          0.9190502172080555,
          1.0315889140285193,
          1.144127610848983,
          1.2566663076694464,
          1.3692050044899102,
          1.481743701310374,
          1.5942823981308374,
          1.7068210949513012,
          1.819359791771765,
          1.9318984885922283,
          2.044437185412692,
          2.156975882233156,
          2.2695145790536193,
          2.382053275874083,
          2.494591972694547,
          2.6071306695150103,
          2.7196693663354736,
          2.832208063155938,
          2.9447467599764012,
          3.0572854567968646,
          3.169824153617329,
          3.282362850437792,
          3.3949015472582555,
          3.50744024407872,
          3.619978940899183,
          3.7325176377196465,
          3.8450563345401108,
          3.9575950313605737,
          0.8065115203875921,
          0.9190502172080555,
          1.0315889140285193,
          1.144127610848983,
          1.2566663076694464,
          1.3692050044899102,
          1.481743701310374,
          1.5942823981308374,
          1.7068210949513012,
          1.819359791771765,
          1.9318984885922283,
          2.044437185412692,
          2.156975882233156,
          2.2695145790536193,
          2.382053275874083,
          2.494591972694547,
          2.6071306695150103,
          2.7196693663354736,
          2.832208063155938,
          2.9447467599764012,
          3.0572854567968646,
          3.169824153617329,
          3.282362850437792,
          3.3949015472582555,
          3.50744024407872,
          3.619978940899183,
          3.7325176377196465,
          3.8450563345401108,
          3.9575950313605737,
          0.8065115203875921,
          0.9190502172080555,
          1.0315889140285193,
          1.144127610848983,
          1.2566663076694464,
          1.3692050044899102,
          1.481743701310374,
          1.5942823981308374,
          1.7068210949513012,
          1.819359791771765,
          1.9318984885922283,
          2.044437185412692,
          2.156975882233156,
          2.2695145790536193,
          2.382053275874083,
          2.494591972694547,
          2.6071306695150103,
          2.7196693663354736,
          2.832208063155938,
          2.9447467599764012,
          3.0572854567968646,
          3.169824153617329,
          3.282362850437792,
          3.3949015472582555,
          3.50744024407872,
          3.619978940899183,
          3.7325176377196465,
          3.8450563345401108,
          3.9575950313605737,
          0.9190502172080555,
          1.0315889140285193,
          1.144127610848983,
          1.2566663076694464,
          1.3692050044899102,
          1.481743701310374,
          1.5942823981308374,
          1.7068210949513012,
          1.819359791771765,
          1.9318984885922283,
          2.044437185412692,
          2.156975882233156,
          2.2695145790536193,
          2.382053275874083,
          2.494591972694547,
          2.6071306695150103,
          2.7196693663354736,
          2.832208063155938,
          2.9447467599764012,
          3.0572854567968646,
          3.169824153617329,
          3.282362850437792,
          3.3949015472582555,
          3.50744024407872,
          3.619978940899183,
          3.7325176377196465,
          3.8450563345401108,
          3.9575950313605737,
          0.9190502172080555,
          1.0315889140285193,
          1.144127610848983,
          1.2566663076694464,
          1.3692050044899102,
          1.481743701310374,
          1.5942823981308374,
          1.7068210949513012,
          1.819359791771765,
          1.9318984885922283,
          2.044437185412692,
          2.156975882233156,
          2.2695145790536193,
          2.382053275874083,
          2.494591972694547,
          2.6071306695150103,
          2.7196693663354736,
          2.832208063155938,
          2.9447467599764012,
          3.0572854567968646,
          3.169824153617329,
          3.282362850437792,
          3.3949015472582555,
          3.50744024407872,
          3.619978940899183,
          3.7325176377196465,
          3.8450563345401108,
          3.9575950313605737,
          0.9190502172080555,
          1.0315889140285193,
          1.144127610848983,
          1.2566663076694464,
          1.3692050044899102,
          1.481743701310374,
          1.5942823981308374,
          1.7068210949513012,
          1.819359791771765,
          1.9318984885922283,
          2.044437185412692,
          2.156975882233156,
          2.2695145790536193,
          2.382053275874083,
          2.494591972694547,
          2.6071306695150103,
          2.7196693663354736,
          2.832208063155938,
          2.9447467599764012,
          3.0572854567968646,
          3.169824153617329,
          3.282362850437792,
          3.3949015472582555,
          3.50744024407872,
          3.619978940899183,
          3.7325176377196465,
          3.8450563345401108,
          3.9575950313605737,
          0.9190502172080555,
          1.0315889140285193,
          1.144127610848983,
          1.2566663076694464,
          1.3692050044899102,
          1.481743701310374,
          1.5942823981308374,
          1.7068210949513012,
          1.819359791771765,
          1.9318984885922283,
          2.044437185412692,
          2.156975882233156,
          2.2695145790536193,
          2.382053275874083,
          2.494591972694547,
          2.6071306695150103,
          2.7196693663354736,
          2.832208063155938,
          2.9447467599764012,
          3.0572854567968646,
          3.169824153617329,
          3.282362850437792,
          3.3949015472582555,
          3.50744024407872,
          3.619978940899183,
          3.7325176377196465,
          3.8450563345401108,
          3.9575950313605737,
          1.0315889140285193,
          1.144127610848983,
          1.2566663076694464,
          1.3692050044899102,
          1.481743701310374,
          1.5942823981308374,
          1.7068210949513012,
          1.819359791771765,
          1.9318984885922283,
          2.044437185412692,
          2.156975882233156,
          2.2695145790536193,
          2.382053275874083,
          2.494591972694547,
          2.6071306695150103,
          2.7196693663354736,
          2.832208063155938,
          2.9447467599764012,
          3.0572854567968646,
          3.169824153617329,
          3.282362850437792,
          3.3949015472582555,
          3.50744024407872,
          3.619978940899183,
          3.7325176377196465,
          3.8450563345401108,
          3.9575950313605737,
          1.0315889140285193,
          1.144127610848983,
          1.2566663076694464,
          1.3692050044899102,
          1.481743701310374,
          1.5942823981308374,
          1.7068210949513012,
          1.819359791771765,
          1.9318984885922283,
          2.044437185412692,
          2.156975882233156,
          2.2695145790536193,
          2.382053275874083,
          2.494591972694547,
          2.6071306695150103,
          2.7196693663354736,
          2.832208063155938,
          2.9447467599764012,
          3.0572854567968646,
          3.169824153617329,
          3.282362850437792,
          3.3949015472582555,
          3.50744024407872,
          3.619978940899183,
          3.7325176377196465,
          3.8450563345401108,
          3.9575950313605737,
          1.0315889140285193,
          1.144127610848983,
          1.2566663076694464,
          1.3692050044899102,
          1.481743701310374,
          1.5942823981308374,
          1.7068210949513012,
          1.819359791771765,
          1.9318984885922283,
          2.044437185412692,
          2.156975882233156,
          2.2695145790536193,
          2.382053275874083,
          2.494591972694547,
          2.6071306695150103,
          2.7196693663354736,
          2.832208063155938,
          2.9447467599764012,
          3.0572854567968646,
          3.169824153617329,
          3.282362850437792,
          3.3949015472582555,
          3.50744024407872,
          3.619978940899183,
          3.7325176377196465,
          3.8450563345401108,
          3.9575950313605737,
          1.0315889140285193,
          1.144127610848983,
          1.2566663076694464,
          1.3692050044899102,
          1.481743701310374,
          1.5942823981308374,
          1.7068210949513012,
          1.819359791771765,
          1.9318984885922283,
          2.044437185412692,
          2.156975882233156,
          2.2695145790536193,
          2.382053275874083,
          2.494591972694547,
          2.6071306695150103,
          2.7196693663354736,
          2.832208063155938,
          2.9447467599764012,
          3.0572854567968646,
          3.169824153617329,
          3.282362850437792,
          3.3949015472582555,
          3.50744024407872,
          3.619978940899183,
          3.7325176377196465,
          3.8450563345401108,
          3.9575950313605737,
          1.144127610848983,
          1.2566663076694464,
          1.3692050044899102,
          1.481743701310374,
          1.5942823981308374,
          1.7068210949513012,
          1.819359791771765,
          1.9318984885922283,
          2.044437185412692,
          2.156975882233156,
          2.2695145790536193,
          2.382053275874083,
          2.494591972694547,
          2.6071306695150103,
          2.7196693663354736,
          2.832208063155938,
          2.9447467599764012,
          3.0572854567968646,
          3.169824153617329,
          3.282362850437792,
          3.3949015472582555,
          3.50744024407872,
          3.619978940899183,
          3.7325176377196465,
          3.8450563345401108,
          3.9575950313605737,
          1.144127610848983,
          1.2566663076694464,
          1.3692050044899102,
          1.481743701310374,
          1.5942823981308374,
          1.7068210949513012,
          1.819359791771765,
          1.9318984885922283,
          2.044437185412692,
          2.156975882233156,
          2.2695145790536193,
          2.382053275874083,
          2.494591972694547,
          2.6071306695150103,
          2.7196693663354736,
          2.832208063155938,
          2.9447467599764012,
          3.0572854567968646,
          3.169824153617329,
          3.282362850437792,
          3.3949015472582555,
          3.50744024407872,
          3.619978940899183,
          3.7325176377196465,
          3.8450563345401108,
          3.9575950313605737,
          1.144127610848983,
          1.2566663076694464,
          1.3692050044899102,
          1.481743701310374,
          1.5942823981308374,
          1.7068210949513012,
          1.819359791771765,
          1.9318984885922283,
          2.044437185412692,
          2.156975882233156,
          2.2695145790536193,
          2.382053275874083,
          2.494591972694547,
          2.6071306695150103,
          2.7196693663354736,
          2.832208063155938,
          2.9447467599764012,
          3.0572854567968646,
          3.169824153617329,
          3.282362850437792,
          3.3949015472582555,
          3.50744024407872,
          3.619978940899183,
          3.7325176377196465,
          3.8450563345401108,
          3.9575950313605737,
          1.2566663076694464,
          1.3692050044899102,
          1.481743701310374,
          1.5942823981308374,
          1.7068210949513012,
          1.819359791771765,
          1.9318984885922283,
          2.044437185412692,
          2.156975882233156,
          2.2695145790536193,
          2.382053275874083,
          2.494591972694547,
          2.6071306695150103,
          2.7196693663354736,
          2.832208063155938,
          2.9447467599764012,
          3.0572854567968646,
          3.169824153617329,
          3.282362850437792,
          3.3949015472582555,
          3.50744024407872,
          3.619978940899183,
          3.7325176377196465,
          3.8450563345401108,
          3.9575950313605737,
          1.2566663076694464,
          1.3692050044899102,
          1.481743701310374,
          1.5942823981308374,
          1.7068210949513012,
          1.819359791771765,
          1.9318984885922283,
          2.044437185412692,
          2.156975882233156,
          2.2695145790536193,
          2.382053275874083,
          2.494591972694547,
          2.6071306695150103,
          2.7196693663354736,
          2.832208063155938,
          2.9447467599764012,
          3.0572854567968646,
          3.169824153617329,
          3.282362850437792,
          3.3949015472582555,
          3.50744024407872,
          3.619978940899183,
          3.7325176377196465,
          3.8450563345401108,
          3.9575950313605737,
          1.2566663076694464,
          1.3692050044899102,
          1.481743701310374,
          1.5942823981308374,
          1.7068210949513012,
          1.819359791771765,
          1.9318984885922283,
          2.044437185412692,
          2.156975882233156,
          2.2695145790536193,
          2.382053275874083,
          2.494591972694547,
          2.6071306695150103,
          2.7196693663354736,
          2.832208063155938,
          2.9447467599764012,
          3.0572854567968646,
          3.169824153617329,
          3.282362850437792,
          3.3949015472582555,
          3.50744024407872,
          3.619978940899183,
          3.7325176377196465,
          3.8450563345401108,
          3.9575950313605737,
          1.3692050044899102,
          1.481743701310374,
          1.5942823981308374,
          1.7068210949513012,
          1.819359791771765,
          1.9318984885922283,
          2.044437185412692,
          2.156975882233156,
          2.2695145790536193,
          2.382053275874083,
          2.494591972694547,
          2.6071306695150103,
          2.7196693663354736,
          2.832208063155938,
          2.9447467599764012,
          3.0572854567968646,
          3.169824153617329,
          3.282362850437792,
          3.3949015472582555,
          3.50744024407872,
          3.619978940899183,
          3.7325176377196465,
          3.8450563345401108,
          3.9575950313605737,
          1.3692050044899102,
          1.481743701310374,
          1.5942823981308374,
          1.7068210949513012,
          1.819359791771765,
          1.9318984885922283,
          2.044437185412692,
          2.156975882233156,
          2.2695145790536193,
          2.382053275874083,
          2.494591972694547,
          2.6071306695150103,
          2.7196693663354736,
          2.832208063155938,
          2.9447467599764012,
          3.0572854567968646,
          3.169824153617329,
          3.282362850437792,
          3.3949015472582555,
          3.50744024407872,
          3.619978940899183,
          3.7325176377196465,
          3.8450563345401108,
          3.9575950313605737,
          1.3692050044899102,
          1.481743701310374,
          1.5942823981308374,
          1.7068210949513012,
          1.819359791771765,
          1.9318984885922283,
          2.044437185412692,
          2.156975882233156,
          2.2695145790536193,
          2.382053275874083,
          2.494591972694547,
          2.6071306695150103,
          2.7196693663354736,
          2.832208063155938,
          2.9447467599764012,
          3.0572854567968646,
          3.169824153617329,
          3.282362850437792,
          3.3949015472582555,
          3.50744024407872,
          3.619978940899183,
          3.7325176377196465,
          3.8450563345401108,
          3.9575950313605737
         ],
         "xaxis": "x",
         "y": [
          -3.874641419808408,
          -3.874641419808408,
          -3.874641419808408,
          -3.874641419808408,
          -3.874641419808408,
          -3.874641419808408,
          -3.874641419808408,
          -3.874641419808408,
          -3.874641419808408,
          -3.874641419808408,
          -3.874641419808408,
          -3.874641419808408,
          -3.874641419808408,
          -3.874641419808408,
          -3.874641419808408,
          -3.874641419808408,
          -3.874641419808408,
          -3.874641419808408,
          -3.874641419808408,
          -3.874641419808408,
          -3.874641419808408,
          -3.874641419808408,
          -3.874641419808408,
          -3.874641419808408,
          -3.874641419808408,
          -3.874641419808408,
          -3.874641419808408,
          -3.874641419808408,
          -3.874641419808408,
          -3.874641419808408,
          -3.874641419808408,
          -3.874641419808408,
          -3.874641419808408,
          -3.874641419808408,
          -3.874641419808408,
          -3.874641419808408,
          -3.874641419808408,
          -3.874641419808408,
          -3.874641419808408,
          -3.874641419808408,
          -3.874641419808408,
          -3.874641419808408,
          -3.874641419808408,
          -3.874641419808408,
          -3.874641419808408,
          -3.874641419808408,
          -3.874641419808408,
          -3.69491087949505,
          -3.69491087949505,
          -3.69491087949505,
          -3.69491087949505,
          -3.69491087949505,
          -3.69491087949505,
          -3.69491087949505,
          -3.69491087949505,
          -3.69491087949505,
          -3.69491087949505,
          -3.69491087949505,
          -3.69491087949505,
          -3.69491087949505,
          -3.69491087949505,
          -3.69491087949505,
          -3.69491087949505,
          -3.69491087949505,
          -3.69491087949505,
          -3.69491087949505,
          -3.69491087949505,
          -3.69491087949505,
          -3.69491087949505,
          -3.69491087949505,
          -3.69491087949505,
          -3.69491087949505,
          -3.69491087949505,
          -3.69491087949505,
          -3.69491087949505,
          -3.69491087949505,
          -3.69491087949505,
          -3.69491087949505,
          -3.69491087949505,
          -3.69491087949505,
          -3.69491087949505,
          -3.69491087949505,
          -3.69491087949505,
          -3.69491087949505,
          -3.69491087949505,
          -3.69491087949505,
          -3.69491087949505,
          -3.69491087949505,
          -3.69491087949505,
          -3.69491087949505,
          -3.69491087949505,
          -3.69491087949505,
          -3.69491087949505,
          -3.5151803391816916,
          -3.5151803391816916,
          -3.5151803391816916,
          -3.5151803391816916,
          -3.5151803391816916,
          -3.5151803391816916,
          -3.5151803391816916,
          -3.5151803391816916,
          -3.5151803391816916,
          -3.5151803391816916,
          -3.5151803391816916,
          -3.5151803391816916,
          -3.5151803391816916,
          -3.5151803391816916,
          -3.5151803391816916,
          -3.5151803391816916,
          -3.5151803391816916,
          -3.5151803391816916,
          -3.5151803391816916,
          -3.5151803391816916,
          -3.5151803391816916,
          -3.5151803391816916,
          -3.5151803391816916,
          -3.5151803391816916,
          -3.5151803391816916,
          -3.5151803391816916,
          -3.5151803391816916,
          -3.5151803391816916,
          -3.5151803391816916,
          -3.5151803391816916,
          -3.5151803391816916,
          -3.5151803391816916,
          -3.5151803391816916,
          -3.5151803391816916,
          -3.5151803391816916,
          -3.5151803391816916,
          -3.5151803391816916,
          -3.5151803391816916,
          -3.5151803391816916,
          -3.5151803391816916,
          -3.5151803391816916,
          -3.5151803391816916,
          -3.5151803391816916,
          -3.5151803391816916,
          -3.5151803391816916,
          -3.5151803391816916,
          -3.335449798868333,
          -3.335449798868333,
          -3.335449798868333,
          -3.335449798868333,
          -3.335449798868333,
          -3.335449798868333,
          -3.335449798868333,
          -3.335449798868333,
          -3.335449798868333,
          -3.335449798868333,
          -3.335449798868333,
          -3.335449798868333,
          -3.335449798868333,
          -3.335449798868333,
          -3.335449798868333,
          -3.335449798868333,
          -3.335449798868333,
          -3.335449798868333,
          -3.335449798868333,
          -3.335449798868333,
          -3.335449798868333,
          -3.335449798868333,
          -3.335449798868333,
          -3.335449798868333,
          -3.335449798868333,
          -3.335449798868333,
          -3.335449798868333,
          -3.335449798868333,
          -3.335449798868333,
          -3.335449798868333,
          -3.335449798868333,
          -3.335449798868333,
          -3.335449798868333,
          -3.335449798868333,
          -3.335449798868333,
          -3.335449798868333,
          -3.335449798868333,
          -3.335449798868333,
          -3.335449798868333,
          -3.335449798868333,
          -3.335449798868333,
          -3.335449798868333,
          -3.335449798868333,
          -3.335449798868333,
          -3.335449798868333,
          -3.155719258554975,
          -3.155719258554975,
          -3.155719258554975,
          -3.155719258554975,
          -3.155719258554975,
          -3.155719258554975,
          -3.155719258554975,
          -3.155719258554975,
          -3.155719258554975,
          -3.155719258554975,
          -3.155719258554975,
          -3.155719258554975,
          -3.155719258554975,
          -3.155719258554975,
          -3.155719258554975,
          -3.155719258554975,
          -3.155719258554975,
          -3.155719258554975,
          -3.155719258554975,
          -3.155719258554975,
          -3.155719258554975,
          -3.155719258554975,
          -3.155719258554975,
          -3.155719258554975,
          -3.155719258554975,
          -3.155719258554975,
          -3.155719258554975,
          -3.155719258554975,
          -3.155719258554975,
          -3.155719258554975,
          -3.155719258554975,
          -3.155719258554975,
          -3.155719258554975,
          -3.155719258554975,
          -3.155719258554975,
          -3.155719258554975,
          -3.155719258554975,
          -3.155719258554975,
          -3.155719258554975,
          -3.155719258554975,
          -3.155719258554975,
          -3.155719258554975,
          -3.155719258554975,
          -3.155719258554975,
          -3.155719258554975,
          -2.9759887182416165,
          -2.9759887182416165,
          -2.9759887182416165,
          -2.9759887182416165,
          -2.9759887182416165,
          -2.9759887182416165,
          -2.9759887182416165,
          -2.9759887182416165,
          -2.9759887182416165,
          -2.9759887182416165,
          -2.9759887182416165,
          -2.9759887182416165,
          -2.9759887182416165,
          -2.9759887182416165,
          -2.9759887182416165,
          -2.9759887182416165,
          -2.9759887182416165,
          -2.9759887182416165,
          -2.9759887182416165,
          -2.9759887182416165,
          -2.9759887182416165,
          -2.9759887182416165,
          -2.9759887182416165,
          -2.9759887182416165,
          -2.9759887182416165,
          -2.9759887182416165,
          -2.9759887182416165,
          -2.9759887182416165,
          -2.9759887182416165,
          -2.9759887182416165,
          -2.9759887182416165,
          -2.9759887182416165,
          -2.9759887182416165,
          -2.9759887182416165,
          -2.9759887182416165,
          -2.9759887182416165,
          -2.9759887182416165,
          -2.9759887182416165,
          -2.9759887182416165,
          -2.9759887182416165,
          -2.9759887182416165,
          -2.9759887182416165,
          -2.9759887182416165,
          -2.9759887182416165,
          -2.9759887182416165,
          -2.7962581779282583,
          -2.7962581779282583,
          -2.7962581779282583,
          -2.7962581779282583,
          -2.7962581779282583,
          -2.7962581779282583,
          -2.7962581779282583,
          -2.7962581779282583,
          -2.7962581779282583,
          -2.7962581779282583,
          -2.7962581779282583,
          -2.7962581779282583,
          -2.7962581779282583,
          -2.7962581779282583,
          -2.7962581779282583,
          -2.7962581779282583,
          -2.7962581779282583,
          -2.7962581779282583,
          -2.7962581779282583,
          -2.7962581779282583,
          -2.7962581779282583,
          -2.7962581779282583,
          -2.7962581779282583,
          -2.7962581779282583,
          -2.7962581779282583,
          -2.7962581779282583,
          -2.7962581779282583,
          -2.7962581779282583,
          -2.7962581779282583,
          -2.7962581779282583,
          -2.7962581779282583,
          -2.7962581779282583,
          -2.7962581779282583,
          -2.7962581779282583,
          -2.7962581779282583,
          -2.7962581779282583,
          -2.7962581779282583,
          -2.7962581779282583,
          -2.7962581779282583,
          -2.7962581779282583,
          -2.7962581779282583,
          -2.7962581779282583,
          -2.7962581779282583,
          -2.7962581779282583,
          -2.6165276376149,
          -2.6165276376149,
          -2.6165276376149,
          -2.6165276376149,
          -2.6165276376149,
          -2.6165276376149,
          -2.6165276376149,
          -2.6165276376149,
          -2.6165276376149,
          -2.6165276376149,
          -2.6165276376149,
          -2.6165276376149,
          -2.6165276376149,
          -2.6165276376149,
          -2.6165276376149,
          -2.6165276376149,
          -2.6165276376149,
          -2.6165276376149,
          -2.6165276376149,
          -2.6165276376149,
          -2.6165276376149,
          -2.6165276376149,
          -2.6165276376149,
          -2.6165276376149,
          -2.6165276376149,
          -2.6165276376149,
          -2.6165276376149,
          -2.6165276376149,
          -2.6165276376149,
          -2.6165276376149,
          -2.6165276376149,
          -2.6165276376149,
          -2.6165276376149,
          -2.6165276376149,
          -2.6165276376149,
          -2.6165276376149,
          -2.6165276376149,
          -2.6165276376149,
          -2.6165276376149,
          -2.6165276376149,
          -2.6165276376149,
          -2.6165276376149,
          -2.6165276376149,
          -2.6165276376149,
          -2.436797097301542,
          -2.436797097301542,
          -2.436797097301542,
          -2.436797097301542,
          -2.436797097301542,
          -2.436797097301542,
          -2.436797097301542,
          -2.436797097301542,
          -2.436797097301542,
          -2.436797097301542,
          -2.436797097301542,
          -2.436797097301542,
          -2.436797097301542,
          -2.436797097301542,
          -2.436797097301542,
          -2.436797097301542,
          -2.436797097301542,
          -2.436797097301542,
          -2.436797097301542,
          -2.436797097301542,
          -2.436797097301542,
          -2.436797097301542,
          -2.436797097301542,
          -2.436797097301542,
          -2.436797097301542,
          -2.436797097301542,
          -2.436797097301542,
          -2.436797097301542,
          -2.436797097301542,
          -2.436797097301542,
          -2.436797097301542,
          -2.436797097301542,
          -2.436797097301542,
          -2.436797097301542,
          -2.436797097301542,
          -2.436797097301542,
          -2.436797097301542,
          -2.436797097301542,
          -2.436797097301542,
          -2.436797097301542,
          -2.436797097301542,
          -2.436797097301542,
          -2.436797097301542,
          -2.2570665569881836,
          -2.2570665569881836,
          -2.2570665569881836,
          -2.2570665569881836,
          -2.2570665569881836,
          -2.2570665569881836,
          -2.2570665569881836,
          -2.2570665569881836,
          -2.2570665569881836,
          -2.2570665569881836,
          -2.2570665569881836,
          -2.2570665569881836,
          -2.2570665569881836,
          -2.2570665569881836,
          -2.2570665569881836,
          -2.2570665569881836,
          -2.2570665569881836,
          -2.2570665569881836,
          -2.2570665569881836,
          -2.2570665569881836,
          -2.2570665569881836,
          -2.2570665569881836,
          -2.2570665569881836,
          -2.2570665569881836,
          -2.2570665569881836,
          -2.2570665569881836,
          -2.2570665569881836,
          -2.2570665569881836,
          -2.2570665569881836,
          -2.2570665569881836,
          -2.2570665569881836,
          -2.2570665569881836,
          -2.2570665569881836,
          -2.2570665569881836,
          -2.2570665569881836,
          -2.2570665569881836,
          -2.2570665569881836,
          -2.2570665569881836,
          -2.2570665569881836,
          -2.2570665569881836,
          -2.2570665569881836,
          -2.2570665569881836,
          -2.2570665569881836,
          -2.0773360166748254,
          -2.0773360166748254,
          -2.0773360166748254,
          -2.0773360166748254,
          -2.0773360166748254,
          -2.0773360166748254,
          -2.0773360166748254,
          -2.0773360166748254,
          -2.0773360166748254,
          -2.0773360166748254,
          -2.0773360166748254,
          -2.0773360166748254,
          -2.0773360166748254,
          -2.0773360166748254,
          -2.0773360166748254,
          -2.0773360166748254,
          -2.0773360166748254,
          -2.0773360166748254,
          -2.0773360166748254,
          -2.0773360166748254,
          -2.0773360166748254,
          -2.0773360166748254,
          -2.0773360166748254,
          -2.0773360166748254,
          -2.0773360166748254,
          -2.0773360166748254,
          -2.0773360166748254,
          -2.0773360166748254,
          -2.0773360166748254,
          -2.0773360166748254,
          -2.0773360166748254,
          -2.0773360166748254,
          -2.0773360166748254,
          -2.0773360166748254,
          -2.0773360166748254,
          -2.0773360166748254,
          -2.0773360166748254,
          -2.0773360166748254,
          -2.0773360166748254,
          -2.0773360166748254,
          -2.0773360166748254,
          -2.0773360166748254,
          -2.0773360166748254,
          -1.897605476361467,
          -1.897605476361467,
          -1.897605476361467,
          -1.897605476361467,
          -1.897605476361467,
          -1.897605476361467,
          -1.897605476361467,
          -1.897605476361467,
          -1.897605476361467,
          -1.897605476361467,
          -1.897605476361467,
          -1.897605476361467,
          -1.897605476361467,
          -1.897605476361467,
          -1.897605476361467,
          -1.897605476361467,
          -1.897605476361467,
          -1.897605476361467,
          -1.897605476361467,
          -1.897605476361467,
          -1.897605476361467,
          -1.897605476361467,
          -1.897605476361467,
          -1.897605476361467,
          -1.897605476361467,
          -1.897605476361467,
          -1.897605476361467,
          -1.897605476361467,
          -1.897605476361467,
          -1.897605476361467,
          -1.897605476361467,
          -1.897605476361467,
          -1.897605476361467,
          -1.897605476361467,
          -1.897605476361467,
          -1.897605476361467,
          -1.897605476361467,
          -1.897605476361467,
          -1.897605476361467,
          -1.897605476361467,
          -1.897605476361467,
          -1.897605476361467,
          -1.7178749360481085,
          -1.7178749360481085,
          -1.7178749360481085,
          -1.7178749360481085,
          -1.7178749360481085,
          -1.7178749360481085,
          -1.7178749360481085,
          -1.7178749360481085,
          -1.7178749360481085,
          -1.7178749360481085,
          -1.7178749360481085,
          -1.7178749360481085,
          -1.7178749360481085,
          -1.7178749360481085,
          -1.7178749360481085,
          -1.7178749360481085,
          -1.7178749360481085,
          -1.7178749360481085,
          -1.7178749360481085,
          -1.7178749360481085,
          -1.7178749360481085,
          -1.7178749360481085,
          -1.7178749360481085,
          -1.7178749360481085,
          -1.7178749360481085,
          -1.7178749360481085,
          -1.7178749360481085,
          -1.7178749360481085,
          -1.7178749360481085,
          -1.7178749360481085,
          -1.7178749360481085,
          -1.7178749360481085,
          -1.7178749360481085,
          -1.7178749360481085,
          -1.7178749360481085,
          -1.7178749360481085,
          -1.7178749360481085,
          -1.7178749360481085,
          -1.7178749360481085,
          -1.7178749360481085,
          -1.7178749360481085,
          -1.7178749360481085,
          -1.5381443957347503,
          -1.5381443957347503,
          -1.5381443957347503,
          -1.5381443957347503,
          -1.5381443957347503,
          -1.5381443957347503,
          -1.5381443957347503,
          -1.5381443957347503,
          -1.5381443957347503,
          -1.5381443957347503,
          -1.5381443957347503,
          -1.5381443957347503,
          -1.5381443957347503,
          -1.5381443957347503,
          -1.5381443957347503,
          -1.5381443957347503,
          -1.5381443957347503,
          -1.5381443957347503,
          -1.5381443957347503,
          -1.5381443957347503,
          -1.5381443957347503,
          -1.5381443957347503,
          -1.5381443957347503,
          -1.5381443957347503,
          -1.5381443957347503,
          -1.5381443957347503,
          -1.5381443957347503,
          -1.5381443957347503,
          -1.5381443957347503,
          -1.5381443957347503,
          -1.5381443957347503,
          -1.5381443957347503,
          -1.5381443957347503,
          -1.5381443957347503,
          -1.5381443957347503,
          -1.5381443957347503,
          -1.5381443957347503,
          -1.5381443957347503,
          -1.5381443957347503,
          -1.5381443957347503,
          -1.5381443957347503,
          -1.5381443957347503,
          -1.358413855421392,
          -1.358413855421392,
          -1.358413855421392,
          -1.358413855421392,
          -1.358413855421392,
          -1.358413855421392,
          -1.358413855421392,
          -1.358413855421392,
          -1.358413855421392,
          -1.358413855421392,
          -1.358413855421392,
          -1.358413855421392,
          -1.358413855421392,
          -1.358413855421392,
          -1.358413855421392,
          -1.358413855421392,
          -1.358413855421392,
          -1.358413855421392,
          -1.358413855421392,
          -1.358413855421392,
          -1.358413855421392,
          -1.358413855421392,
          -1.358413855421392,
          -1.358413855421392,
          -1.358413855421392,
          -1.358413855421392,
          -1.358413855421392,
          -1.358413855421392,
          -1.358413855421392,
          -1.358413855421392,
          -1.358413855421392,
          -1.358413855421392,
          -1.358413855421392,
          -1.358413855421392,
          -1.358413855421392,
          -1.358413855421392,
          -1.358413855421392,
          -1.358413855421392,
          -1.358413855421392,
          -1.358413855421392,
          -1.358413855421392,
          -1.1786833151080338,
          -1.1786833151080338,
          -1.1786833151080338,
          -1.1786833151080338,
          -1.1786833151080338,
          -1.1786833151080338,
          -1.1786833151080338,
          -1.1786833151080338,
          -1.1786833151080338,
          -1.1786833151080338,
          -1.1786833151080338,
          -1.1786833151080338,
          -1.1786833151080338,
          -1.1786833151080338,
          -1.1786833151080338,
          -1.1786833151080338,
          -1.1786833151080338,
          -1.1786833151080338,
          -1.1786833151080338,
          -1.1786833151080338,
          -1.1786833151080338,
          -1.1786833151080338,
          -1.1786833151080338,
          -1.1786833151080338,
          -1.1786833151080338,
          -1.1786833151080338,
          -1.1786833151080338,
          -1.1786833151080338,
          -1.1786833151080338,
          -1.1786833151080338,
          -1.1786833151080338,
          -1.1786833151080338,
          -1.1786833151080338,
          -1.1786833151080338,
          -1.1786833151080338,
          -1.1786833151080338,
          -1.1786833151080338,
          -1.1786833151080338,
          -1.1786833151080338,
          -1.1786833151080338,
          -1.1786833151080338,
          -0.9989527747946756,
          -0.9989527747946756,
          -0.9989527747946756,
          -0.9989527747946756,
          -0.9989527747946756,
          -0.9989527747946756,
          -0.9989527747946756,
          -0.9989527747946756,
          -0.9989527747946756,
          -0.9989527747946756,
          -0.9989527747946756,
          -0.9989527747946756,
          -0.9989527747946756,
          -0.9989527747946756,
          -0.9989527747946756,
          -0.9989527747946756,
          -0.9989527747946756,
          -0.9989527747946756,
          -0.9989527747946756,
          -0.9989527747946756,
          -0.9989527747946756,
          -0.9989527747946756,
          -0.9989527747946756,
          -0.9989527747946756,
          -0.9989527747946756,
          -0.9989527747946756,
          -0.9989527747946756,
          -0.9989527747946756,
          -0.9989527747946756,
          -0.9989527747946756,
          -0.9989527747946756,
          -0.9989527747946756,
          -0.9989527747946756,
          -0.9989527747946756,
          -0.9989527747946756,
          -0.9989527747946756,
          -0.9989527747946756,
          -0.9989527747946756,
          -0.9989527747946756,
          -0.9989527747946756,
          -0.8192222344813174,
          -0.8192222344813174,
          -0.8192222344813174,
          -0.8192222344813174,
          -0.8192222344813174,
          -0.8192222344813174,
          -0.8192222344813174,
          -0.8192222344813174,
          -0.8192222344813174,
          -0.8192222344813174,
          -0.8192222344813174,
          -0.8192222344813174,
          -0.8192222344813174,
          -0.8192222344813174,
          -0.8192222344813174,
          -0.8192222344813174,
          -0.8192222344813174,
          -0.8192222344813174,
          -0.8192222344813174,
          -0.8192222344813174,
          -0.8192222344813174,
          -0.8192222344813174,
          -0.8192222344813174,
          -0.8192222344813174,
          -0.8192222344813174,
          -0.8192222344813174,
          -0.8192222344813174,
          -0.8192222344813174,
          -0.8192222344813174,
          -0.8192222344813174,
          -0.8192222344813174,
          -0.8192222344813174,
          -0.8192222344813174,
          -0.8192222344813174,
          -0.8192222344813174,
          -0.8192222344813174,
          -0.8192222344813174,
          -0.8192222344813174,
          -0.6394916941679591,
          -0.6394916941679591,
          -0.6394916941679591,
          -0.6394916941679591,
          -0.6394916941679591,
          -0.6394916941679591,
          -0.6394916941679591,
          -0.6394916941679591,
          -0.6394916941679591,
          -0.6394916941679591,
          -0.6394916941679591,
          -0.6394916941679591,
          -0.6394916941679591,
          -0.6394916941679591,
          -0.6394916941679591,
          -0.6394916941679591,
          -0.6394916941679591,
          -0.6394916941679591,
          -0.6394916941679591,
          -0.6394916941679591,
          -0.6394916941679591,
          -0.6394916941679591,
          -0.6394916941679591,
          -0.6394916941679591,
          -0.6394916941679591,
          -0.6394916941679591,
          -0.6394916941679591,
          -0.6394916941679591,
          -0.6394916941679591,
          -0.6394916941679591,
          -0.6394916941679591,
          -0.6394916941679591,
          -0.6394916941679591,
          -0.6394916941679591,
          -0.6394916941679591,
          -0.6394916941679591,
          -0.6394916941679591,
          -0.6394916941679591,
          -0.4597611538546009,
          -0.4597611538546009,
          -0.4597611538546009,
          -0.4597611538546009,
          -0.4597611538546009,
          -0.4597611538546009,
          -0.4597611538546009,
          -0.4597611538546009,
          -0.4597611538546009,
          -0.4597611538546009,
          -0.4597611538546009,
          -0.4597611538546009,
          -0.4597611538546009,
          -0.4597611538546009,
          -0.4597611538546009,
          -0.4597611538546009,
          -0.4597611538546009,
          -0.4597611538546009,
          -0.4597611538546009,
          -0.4597611538546009,
          -0.4597611538546009,
          -0.4597611538546009,
          -0.4597611538546009,
          -0.4597611538546009,
          -0.4597611538546009,
          -0.4597611538546009,
          -0.4597611538546009,
          -0.4597611538546009,
          -0.4597611538546009,
          -0.4597611538546009,
          -0.4597611538546009,
          -0.4597611538546009,
          -0.4597611538546009,
          -0.4597611538546009,
          -0.4597611538546009,
          -0.4597611538546009,
          -0.4597611538546009,
          -0.2800306135412427,
          -0.2800306135412427,
          -0.2800306135412427,
          -0.2800306135412427,
          -0.2800306135412427,
          -0.2800306135412427,
          -0.2800306135412427,
          -0.2800306135412427,
          -0.2800306135412427,
          -0.2800306135412427,
          -0.2800306135412427,
          -0.2800306135412427,
          -0.2800306135412427,
          -0.2800306135412427,
          -0.2800306135412427,
          -0.2800306135412427,
          -0.2800306135412427,
          -0.2800306135412427,
          -0.2800306135412427,
          -0.2800306135412427,
          -0.2800306135412427,
          -0.2800306135412427,
          -0.2800306135412427,
          -0.2800306135412427,
          -0.2800306135412427,
          -0.2800306135412427,
          -0.2800306135412427,
          -0.2800306135412427,
          -0.2800306135412427,
          -0.2800306135412427,
          -0.2800306135412427,
          -0.2800306135412427,
          -0.2800306135412427,
          -0.2800306135412427,
          -0.2800306135412427,
          -0.2800306135412427,
          -0.10030007322788403,
          -0.10030007322788403,
          -0.10030007322788403,
          -0.10030007322788403,
          -0.10030007322788403,
          -0.10030007322788403,
          -0.10030007322788403,
          -0.10030007322788403,
          -0.10030007322788403,
          -0.10030007322788403,
          -0.10030007322788403,
          -0.10030007322788403,
          -0.10030007322788403,
          -0.10030007322788403,
          -0.10030007322788403,
          -0.10030007322788403,
          -0.10030007322788403,
          -0.10030007322788403,
          -0.10030007322788403,
          -0.10030007322788403,
          -0.10030007322788403,
          -0.10030007322788403,
          -0.10030007322788403,
          -0.10030007322788403,
          -0.10030007322788403,
          -0.10030007322788403,
          -0.10030007322788403,
          -0.10030007322788403,
          -0.10030007322788403,
          -0.10030007322788403,
          -0.10030007322788403,
          -0.10030007322788403,
          -0.10030007322788403,
          -0.10030007322788403,
          -0.10030007322788403,
          0.07943046708547419,
          0.07943046708547419,
          0.07943046708547419,
          0.07943046708547419,
          0.07943046708547419,
          0.07943046708547419,
          0.07943046708547419,
          0.07943046708547419,
          0.07943046708547419,
          0.07943046708547419,
          0.07943046708547419,
          0.07943046708547419,
          0.07943046708547419,
          0.07943046708547419,
          0.07943046708547419,
          0.07943046708547419,
          0.07943046708547419,
          0.07943046708547419,
          0.07943046708547419,
          0.07943046708547419,
          0.07943046708547419,
          0.07943046708547419,
          0.07943046708547419,
          0.07943046708547419,
          0.07943046708547419,
          0.07943046708547419,
          0.07943046708547419,
          0.07943046708547419,
          0.07943046708547419,
          0.07943046708547419,
          0.07943046708547419,
          0.07943046708547419,
          0.07943046708547419,
          0.07943046708547419,
          0.2591610073988324,
          0.2591610073988324,
          0.2591610073988324,
          0.2591610073988324,
          0.2591610073988324,
          0.2591610073988324,
          0.2591610073988324,
          0.2591610073988324,
          0.2591610073988324,
          0.2591610073988324,
          0.2591610073988324,
          0.2591610073988324,
          0.2591610073988324,
          0.2591610073988324,
          0.2591610073988324,
          0.2591610073988324,
          0.2591610073988324,
          0.2591610073988324,
          0.2591610073988324,
          0.2591610073988324,
          0.2591610073988324,
          0.2591610073988324,
          0.2591610073988324,
          0.2591610073988324,
          0.2591610073988324,
          0.2591610073988324,
          0.2591610073988324,
          0.2591610073988324,
          0.2591610073988324,
          0.2591610073988324,
          0.2591610073988324,
          0.2591610073988324,
          0.2591610073988324,
          0.4388915477121911,
          0.4388915477121911,
          0.4388915477121911,
          0.4388915477121911,
          0.4388915477121911,
          0.4388915477121911,
          0.4388915477121911,
          0.4388915477121911,
          0.4388915477121911,
          0.4388915477121911,
          0.4388915477121911,
          0.4388915477121911,
          0.4388915477121911,
          0.4388915477121911,
          0.4388915477121911,
          0.4388915477121911,
          0.4388915477121911,
          0.4388915477121911,
          0.4388915477121911,
          0.4388915477121911,
          0.4388915477121911,
          0.4388915477121911,
          0.4388915477121911,
          0.4388915477121911,
          0.4388915477121911,
          0.4388915477121911,
          0.4388915477121911,
          0.4388915477121911,
          0.4388915477121911,
          0.4388915477121911,
          0.4388915477121911,
          0.4388915477121911,
          0.4388915477121911,
          0.6186220880255489,
          0.6186220880255489,
          0.6186220880255489,
          0.6186220880255489,
          0.6186220880255489,
          0.6186220880255489,
          0.6186220880255489,
          0.6186220880255489,
          0.6186220880255489,
          0.6186220880255489,
          0.6186220880255489,
          0.6186220880255489,
          0.6186220880255489,
          0.6186220880255489,
          0.6186220880255489,
          0.6186220880255489,
          0.6186220880255489,
          0.6186220880255489,
          0.6186220880255489,
          0.6186220880255489,
          0.6186220880255489,
          0.6186220880255489,
          0.6186220880255489,
          0.6186220880255489,
          0.6186220880255489,
          0.6186220880255489,
          0.6186220880255489,
          0.6186220880255489,
          0.6186220880255489,
          0.6186220880255489,
          0.6186220880255489,
          0.6186220880255489,
          0.7983526283389075,
          0.7983526283389075,
          0.7983526283389075,
          0.7983526283389075,
          0.7983526283389075,
          0.7983526283389075,
          0.7983526283389075,
          0.7983526283389075,
          0.7983526283389075,
          0.7983526283389075,
          0.7983526283389075,
          0.7983526283389075,
          0.7983526283389075,
          0.7983526283389075,
          0.7983526283389075,
          0.7983526283389075,
          0.7983526283389075,
          0.7983526283389075,
          0.7983526283389075,
          0.7983526283389075,
          0.7983526283389075,
          0.7983526283389075,
          0.7983526283389075,
          0.7983526283389075,
          0.7983526283389075,
          0.7983526283389075,
          0.7983526283389075,
          0.7983526283389075,
          0.7983526283389075,
          0.7983526283389075,
          0.7983526283389075,
          0.7983526283389075,
          0.9780831686522653,
          0.9780831686522653,
          0.9780831686522653,
          0.9780831686522653,
          0.9780831686522653,
          0.9780831686522653,
          0.9780831686522653,
          0.9780831686522653,
          0.9780831686522653,
          0.9780831686522653,
          0.9780831686522653,
          0.9780831686522653,
          0.9780831686522653,
          0.9780831686522653,
          0.9780831686522653,
          0.9780831686522653,
          0.9780831686522653,
          0.9780831686522653,
          0.9780831686522653,
          0.9780831686522653,
          0.9780831686522653,
          0.9780831686522653,
          0.9780831686522653,
          0.9780831686522653,
          0.9780831686522653,
          0.9780831686522653,
          0.9780831686522653,
          0.9780831686522653,
          0.9780831686522653,
          0.9780831686522653,
          0.9780831686522653,
          1.157813708965624,
          1.157813708965624,
          1.157813708965624,
          1.157813708965624,
          1.157813708965624,
          1.157813708965624,
          1.157813708965624,
          1.157813708965624,
          1.157813708965624,
          1.157813708965624,
          1.157813708965624,
          1.157813708965624,
          1.157813708965624,
          1.157813708965624,
          1.157813708965624,
          1.157813708965624,
          1.157813708965624,
          1.157813708965624,
          1.157813708965624,
          1.157813708965624,
          1.157813708965624,
          1.157813708965624,
          1.157813708965624,
          1.157813708965624,
          1.157813708965624,
          1.157813708965624,
          1.157813708965624,
          1.157813708965624,
          1.157813708965624,
          1.157813708965624,
          1.3375442492789817,
          1.3375442492789817,
          1.3375442492789817,
          1.3375442492789817,
          1.3375442492789817,
          1.3375442492789817,
          1.3375442492789817,
          1.3375442492789817,
          1.3375442492789817,
          1.3375442492789817,
          1.3375442492789817,
          1.3375442492789817,
          1.3375442492789817,
          1.3375442492789817,
          1.3375442492789817,
          1.3375442492789817,
          1.3375442492789817,
          1.3375442492789817,
          1.3375442492789817,
          1.3375442492789817,
          1.3375442492789817,
          1.3375442492789817,
          1.3375442492789817,
          1.3375442492789817,
          1.3375442492789817,
          1.3375442492789817,
          1.3375442492789817,
          1.3375442492789817,
          1.3375442492789817,
          1.5172747895923404,
          1.5172747895923404,
          1.5172747895923404,
          1.5172747895923404,
          1.5172747895923404,
          1.5172747895923404,
          1.5172747895923404,
          1.5172747895923404,
          1.5172747895923404,
          1.5172747895923404,
          1.5172747895923404,
          1.5172747895923404,
          1.5172747895923404,
          1.5172747895923404,
          1.5172747895923404,
          1.5172747895923404,
          1.5172747895923404,
          1.5172747895923404,
          1.5172747895923404,
          1.5172747895923404,
          1.5172747895923404,
          1.5172747895923404,
          1.5172747895923404,
          1.5172747895923404,
          1.5172747895923404,
          1.5172747895923404,
          1.5172747895923404,
          1.5172747895923404,
          1.5172747895923404,
          1.6970053299056982,
          1.6970053299056982,
          1.6970053299056982,
          1.6970053299056982,
          1.6970053299056982,
          1.6970053299056982,
          1.6970053299056982,
          1.6970053299056982,
          1.6970053299056982,
          1.6970053299056982,
          1.6970053299056982,
          1.6970053299056982,
          1.6970053299056982,
          1.6970053299056982,
          1.6970053299056982,
          1.6970053299056982,
          1.6970053299056982,
          1.6970053299056982,
          1.6970053299056982,
          1.6970053299056982,
          1.6970053299056982,
          1.6970053299056982,
          1.6970053299056982,
          1.6970053299056982,
          1.6970053299056982,
          1.6970053299056982,
          1.6970053299056982,
          1.6970053299056982,
          1.6970053299056982,
          1.8767358702190569,
          1.8767358702190569,
          1.8767358702190569,
          1.8767358702190569,
          1.8767358702190569,
          1.8767358702190569,
          1.8767358702190569,
          1.8767358702190569,
          1.8767358702190569,
          1.8767358702190569,
          1.8767358702190569,
          1.8767358702190569,
          1.8767358702190569,
          1.8767358702190569,
          1.8767358702190569,
          1.8767358702190569,
          1.8767358702190569,
          1.8767358702190569,
          1.8767358702190569,
          1.8767358702190569,
          1.8767358702190569,
          1.8767358702190569,
          1.8767358702190569,
          1.8767358702190569,
          1.8767358702190569,
          1.8767358702190569,
          1.8767358702190569,
          1.8767358702190569,
          1.8767358702190569,
          2.0564664105324155,
          2.0564664105324155,
          2.0564664105324155,
          2.0564664105324155,
          2.0564664105324155,
          2.0564664105324155,
          2.0564664105324155,
          2.0564664105324155,
          2.0564664105324155,
          2.0564664105324155,
          2.0564664105324155,
          2.0564664105324155,
          2.0564664105324155,
          2.0564664105324155,
          2.0564664105324155,
          2.0564664105324155,
          2.0564664105324155,
          2.0564664105324155,
          2.0564664105324155,
          2.0564664105324155,
          2.0564664105324155,
          2.0564664105324155,
          2.0564664105324155,
          2.0564664105324155,
          2.0564664105324155,
          2.0564664105324155,
          2.0564664105324155,
          2.0564664105324155,
          2.2361969508457733,
          2.2361969508457733,
          2.2361969508457733,
          2.2361969508457733,
          2.2361969508457733,
          2.2361969508457733,
          2.2361969508457733,
          2.2361969508457733,
          2.2361969508457733,
          2.2361969508457733,
          2.2361969508457733,
          2.2361969508457733,
          2.2361969508457733,
          2.2361969508457733,
          2.2361969508457733,
          2.2361969508457733,
          2.2361969508457733,
          2.2361969508457733,
          2.2361969508457733,
          2.2361969508457733,
          2.2361969508457733,
          2.2361969508457733,
          2.2361969508457733,
          2.2361969508457733,
          2.2361969508457733,
          2.2361969508457733,
          2.2361969508457733,
          2.2361969508457733,
          2.415927491159132,
          2.415927491159132,
          2.415927491159132,
          2.415927491159132,
          2.415927491159132,
          2.415927491159132,
          2.415927491159132,
          2.415927491159132,
          2.415927491159132,
          2.415927491159132,
          2.415927491159132,
          2.415927491159132,
          2.415927491159132,
          2.415927491159132,
          2.415927491159132,
          2.415927491159132,
          2.415927491159132,
          2.415927491159132,
          2.415927491159132,
          2.415927491159132,
          2.415927491159132,
          2.415927491159132,
          2.415927491159132,
          2.415927491159132,
          2.415927491159132,
          2.415927491159132,
          2.415927491159132,
          2.415927491159132,
          2.5956580314724897,
          2.5956580314724897,
          2.5956580314724897,
          2.5956580314724897,
          2.5956580314724897,
          2.5956580314724897,
          2.5956580314724897,
          2.5956580314724897,
          2.5956580314724897,
          2.5956580314724897,
          2.5956580314724897,
          2.5956580314724897,
          2.5956580314724897,
          2.5956580314724897,
          2.5956580314724897,
          2.5956580314724897,
          2.5956580314724897,
          2.5956580314724897,
          2.5956580314724897,
          2.5956580314724897,
          2.5956580314724897,
          2.5956580314724897,
          2.5956580314724897,
          2.5956580314724897,
          2.5956580314724897,
          2.5956580314724897,
          2.5956580314724897,
          2.5956580314724897,
          2.7753885717858484,
          2.7753885717858484,
          2.7753885717858484,
          2.7753885717858484,
          2.7753885717858484,
          2.7753885717858484,
          2.7753885717858484,
          2.7753885717858484,
          2.7753885717858484,
          2.7753885717858484,
          2.7753885717858484,
          2.7753885717858484,
          2.7753885717858484,
          2.7753885717858484,
          2.7753885717858484,
          2.7753885717858484,
          2.7753885717858484,
          2.7753885717858484,
          2.7753885717858484,
          2.7753885717858484,
          2.7753885717858484,
          2.7753885717858484,
          2.7753885717858484,
          2.7753885717858484,
          2.7753885717858484,
          2.7753885717858484,
          2.7753885717858484,
          2.955119112099206,
          2.955119112099206,
          2.955119112099206,
          2.955119112099206,
          2.955119112099206,
          2.955119112099206,
          2.955119112099206,
          2.955119112099206,
          2.955119112099206,
          2.955119112099206,
          2.955119112099206,
          2.955119112099206,
          2.955119112099206,
          2.955119112099206,
          2.955119112099206,
          2.955119112099206,
          2.955119112099206,
          2.955119112099206,
          2.955119112099206,
          2.955119112099206,
          2.955119112099206,
          2.955119112099206,
          2.955119112099206,
          2.955119112099206,
          2.955119112099206,
          2.955119112099206,
          2.955119112099206,
          3.134849652412565,
          3.134849652412565,
          3.134849652412565,
          3.134849652412565,
          3.134849652412565,
          3.134849652412565,
          3.134849652412565,
          3.134849652412565,
          3.134849652412565,
          3.134849652412565,
          3.134849652412565,
          3.134849652412565,
          3.134849652412565,
          3.134849652412565,
          3.134849652412565,
          3.134849652412565,
          3.134849652412565,
          3.134849652412565,
          3.134849652412565,
          3.134849652412565,
          3.134849652412565,
          3.134849652412565,
          3.134849652412565,
          3.134849652412565,
          3.134849652412565,
          3.134849652412565,
          3.134849652412565,
          3.3145801927259226,
          3.3145801927259226,
          3.3145801927259226,
          3.3145801927259226,
          3.3145801927259226,
          3.3145801927259226,
          3.3145801927259226,
          3.3145801927259226,
          3.3145801927259226,
          3.3145801927259226,
          3.3145801927259226,
          3.3145801927259226,
          3.3145801927259226,
          3.3145801927259226,
          3.3145801927259226,
          3.3145801927259226,
          3.3145801927259226,
          3.3145801927259226,
          3.3145801927259226,
          3.3145801927259226,
          3.3145801927259226,
          3.3145801927259226,
          3.3145801927259226,
          3.3145801927259226,
          3.3145801927259226,
          3.3145801927259226,
          3.3145801927259226,
          3.4943107330392813,
          3.4943107330392813,
          3.4943107330392813,
          3.4943107330392813,
          3.4943107330392813,
          3.4943107330392813,
          3.4943107330392813,
          3.4943107330392813,
          3.4943107330392813,
          3.4943107330392813,
          3.4943107330392813,
          3.4943107330392813,
          3.4943107330392813,
          3.4943107330392813,
          3.4943107330392813,
          3.4943107330392813,
          3.4943107330392813,
          3.4943107330392813,
          3.4943107330392813,
          3.4943107330392813,
          3.4943107330392813,
          3.4943107330392813,
          3.4943107330392813,
          3.4943107330392813,
          3.4943107330392813,
          3.4943107330392813,
          3.67404127335264,
          3.67404127335264,
          3.67404127335264,
          3.67404127335264,
          3.67404127335264,
          3.67404127335264,
          3.67404127335264,
          3.67404127335264,
          3.67404127335264,
          3.67404127335264,
          3.67404127335264,
          3.67404127335264,
          3.67404127335264,
          3.67404127335264,
          3.67404127335264,
          3.67404127335264,
          3.67404127335264,
          3.67404127335264,
          3.67404127335264,
          3.67404127335264,
          3.67404127335264,
          3.67404127335264,
          3.67404127335264,
          3.67404127335264,
          3.67404127335264,
          3.67404127335264,
          3.8537718136659977,
          3.8537718136659977,
          3.8537718136659977,
          3.8537718136659977,
          3.8537718136659977,
          3.8537718136659977,
          3.8537718136659977,
          3.8537718136659977,
          3.8537718136659977,
          3.8537718136659977,
          3.8537718136659977,
          3.8537718136659977,
          3.8537718136659977,
          3.8537718136659977,
          3.8537718136659977,
          3.8537718136659977,
          3.8537718136659977,
          3.8537718136659977,
          3.8537718136659977,
          3.8537718136659977,
          3.8537718136659977,
          3.8537718136659977,
          3.8537718136659977,
          3.8537718136659977,
          3.8537718136659977,
          3.8537718136659977,
          4.033502353979356,
          4.033502353979356,
          4.033502353979356,
          4.033502353979356,
          4.033502353979356,
          4.033502353979356,
          4.033502353979356,
          4.033502353979356,
          4.033502353979356,
          4.033502353979356,
          4.033502353979356,
          4.033502353979356,
          4.033502353979356,
          4.033502353979356,
          4.033502353979356,
          4.033502353979356,
          4.033502353979356,
          4.033502353979356,
          4.033502353979356,
          4.033502353979356,
          4.033502353979356,
          4.033502353979356,
          4.033502353979356,
          4.033502353979356,
          4.033502353979356,
          4.213232894292715,
          4.213232894292715,
          4.213232894292715,
          4.213232894292715,
          4.213232894292715,
          4.213232894292715,
          4.213232894292715,
          4.213232894292715,
          4.213232894292715,
          4.213232894292715,
          4.213232894292715,
          4.213232894292715,
          4.213232894292715,
          4.213232894292715,
          4.213232894292715,
          4.213232894292715,
          4.213232894292715,
          4.213232894292715,
          4.213232894292715,
          4.213232894292715,
          4.213232894292715,
          4.213232894292715,
          4.213232894292715,
          4.213232894292715,
          4.213232894292715,
          4.392963434606073,
          4.392963434606073,
          4.392963434606073,
          4.392963434606073,
          4.392963434606073,
          4.392963434606073,
          4.392963434606073,
          4.392963434606073,
          4.392963434606073,
          4.392963434606073,
          4.392963434606073,
          4.392963434606073,
          4.392963434606073,
          4.392963434606073,
          4.392963434606073,
          4.392963434606073,
          4.392963434606073,
          4.392963434606073,
          4.392963434606073,
          4.392963434606073,
          4.392963434606073,
          4.392963434606073,
          4.392963434606073,
          4.392963434606073,
          4.392963434606073,
          4.572693974919431,
          4.572693974919431,
          4.572693974919431,
          4.572693974919431,
          4.572693974919431,
          4.572693974919431,
          4.572693974919431,
          4.572693974919431,
          4.572693974919431,
          4.572693974919431,
          4.572693974919431,
          4.572693974919431,
          4.572693974919431,
          4.572693974919431,
          4.572693974919431,
          4.572693974919431,
          4.572693974919431,
          4.572693974919431,
          4.572693974919431,
          4.572693974919431,
          4.572693974919431,
          4.572693974919431,
          4.572693974919431,
          4.572693974919431,
          4.75242451523279,
          4.75242451523279,
          4.75242451523279,
          4.75242451523279,
          4.75242451523279,
          4.75242451523279,
          4.75242451523279,
          4.75242451523279,
          4.75242451523279,
          4.75242451523279,
          4.75242451523279,
          4.75242451523279,
          4.75242451523279,
          4.75242451523279,
          4.75242451523279,
          4.75242451523279,
          4.75242451523279,
          4.75242451523279,
          4.75242451523279,
          4.75242451523279,
          4.75242451523279,
          4.75242451523279,
          4.75242451523279,
          4.75242451523279,
          4.932155055546149,
          4.932155055546149,
          4.932155055546149,
          4.932155055546149,
          4.932155055546149,
          4.932155055546149,
          4.932155055546149,
          4.932155055546149,
          4.932155055546149,
          4.932155055546149,
          4.932155055546149,
          4.932155055546149,
          4.932155055546149,
          4.932155055546149,
          4.932155055546149,
          4.932155055546149,
          4.932155055546149,
          4.932155055546149,
          4.932155055546149,
          4.932155055546149,
          4.932155055546149,
          4.932155055546149,
          4.932155055546149,
          4.932155055546149
         ],
         "yaxis": "y"
        }
       ],
       "layout": {
        "coloraxis": {
         "colorbar": {
          "title": {
           "text": "pred_prob"
          }
         },
         "colorscale": [
          [
           0,
           "#0d0887"
          ],
          [
           0.1111111111111111,
           "#46039f"
          ],
          [
           0.2222222222222222,
           "#7201a8"
          ],
          [
           0.3333333333333333,
           "#9c179e"
          ],
          [
           0.4444444444444444,
           "#bd3786"
          ],
          [
           0.5555555555555556,
           "#d8576b"
          ],
          [
           0.6666666666666666,
           "#ed7953"
          ],
          [
           0.7777777777777778,
           "#fb9f3a"
          ],
          [
           0.8888888888888888,
           "#fdca26"
          ],
          [
           1,
           "#f0f921"
          ]
         ]
        },
        "height": 600,
        "legend": {
         "title": {
          "text": "pred_label"
         },
         "tracegroupgap": 0
        },
        "margin": {
         "t": 60
        },
        "template": {
         "data": {
          "bar": [
           {
            "error_x": {
             "color": "#2a3f5f"
            },
            "error_y": {
             "color": "#2a3f5f"
            },
            "marker": {
             "line": {
              "color": "#E5ECF6",
              "width": 0.5
             },
             "pattern": {
              "fillmode": "overlay",
              "size": 10,
              "solidity": 0.2
             }
            },
            "type": "bar"
           }
          ],
          "barpolar": [
           {
            "marker": {
             "line": {
              "color": "#E5ECF6",
              "width": 0.5
             },
             "pattern": {
              "fillmode": "overlay",
              "size": 10,
              "solidity": 0.2
             }
            },
            "type": "barpolar"
           }
          ],
          "carpet": [
           {
            "aaxis": {
             "endlinecolor": "#2a3f5f",
             "gridcolor": "white",
             "linecolor": "white",
             "minorgridcolor": "white",
             "startlinecolor": "#2a3f5f"
            },
            "baxis": {
             "endlinecolor": "#2a3f5f",
             "gridcolor": "white",
             "linecolor": "white",
             "minorgridcolor": "white",
             "startlinecolor": "#2a3f5f"
            },
            "type": "carpet"
           }
          ],
          "choropleth": [
           {
            "colorbar": {
             "outlinewidth": 0,
             "ticks": ""
            },
            "type": "choropleth"
           }
          ],
          "contour": [
           {
            "colorbar": {
             "outlinewidth": 0,
             "ticks": ""
            },
            "colorscale": [
             [
              0,
              "#0d0887"
             ],
             [
              0.1111111111111111,
              "#46039f"
             ],
             [
              0.2222222222222222,
              "#7201a8"
             ],
             [
              0.3333333333333333,
              "#9c179e"
             ],
             [
              0.4444444444444444,
              "#bd3786"
             ],
             [
              0.5555555555555556,
              "#d8576b"
             ],
             [
              0.6666666666666666,
              "#ed7953"
             ],
             [
              0.7777777777777778,
              "#fb9f3a"
             ],
             [
              0.8888888888888888,
              "#fdca26"
             ],
             [
              1,
              "#f0f921"
             ]
            ],
            "type": "contour"
           }
          ],
          "contourcarpet": [
           {
            "colorbar": {
             "outlinewidth": 0,
             "ticks": ""
            },
            "type": "contourcarpet"
           }
          ],
          "heatmap": [
           {
            "colorbar": {
             "outlinewidth": 0,
             "ticks": ""
            },
            "colorscale": [
             [
              0,
              "#0d0887"
             ],
             [
              0.1111111111111111,
              "#46039f"
             ],
             [
              0.2222222222222222,
              "#7201a8"
             ],
             [
              0.3333333333333333,
              "#9c179e"
             ],
             [
              0.4444444444444444,
              "#bd3786"
             ],
             [
              0.5555555555555556,
              "#d8576b"
             ],
             [
              0.6666666666666666,
              "#ed7953"
             ],
             [
              0.7777777777777778,
              "#fb9f3a"
             ],
             [
              0.8888888888888888,
              "#fdca26"
             ],
             [
              1,
              "#f0f921"
             ]
            ],
            "type": "heatmap"
           }
          ],
          "heatmapgl": [
           {
            "colorbar": {
             "outlinewidth": 0,
             "ticks": ""
            },
            "colorscale": [
             [
              0,
              "#0d0887"
             ],
             [
              0.1111111111111111,
              "#46039f"
             ],
             [
              0.2222222222222222,
              "#7201a8"
             ],
             [
              0.3333333333333333,
              "#9c179e"
             ],
             [
              0.4444444444444444,
              "#bd3786"
             ],
             [
              0.5555555555555556,
              "#d8576b"
             ],
             [
              0.6666666666666666,
              "#ed7953"
             ],
             [
              0.7777777777777778,
              "#fb9f3a"
             ],
             [
              0.8888888888888888,
              "#fdca26"
             ],
             [
              1,
              "#f0f921"
             ]
            ],
            "type": "heatmapgl"
           }
          ],
          "histogram": [
           {
            "marker": {
             "pattern": {
              "fillmode": "overlay",
              "size": 10,
              "solidity": 0.2
             }
            },
            "type": "histogram"
           }
          ],
          "histogram2d": [
           {
            "colorbar": {
             "outlinewidth": 0,
             "ticks": ""
            },
            "colorscale": [
             [
              0,
              "#0d0887"
             ],
             [
              0.1111111111111111,
              "#46039f"
             ],
             [
              0.2222222222222222,
              "#7201a8"
             ],
             [
              0.3333333333333333,
              "#9c179e"
             ],
             [
              0.4444444444444444,
              "#bd3786"
             ],
             [
              0.5555555555555556,
              "#d8576b"
             ],
             [
              0.6666666666666666,
              "#ed7953"
             ],
             [
              0.7777777777777778,
              "#fb9f3a"
             ],
             [
              0.8888888888888888,
              "#fdca26"
             ],
             [
              1,
              "#f0f921"
             ]
            ],
            "type": "histogram2d"
           }
          ],
          "histogram2dcontour": [
           {
            "colorbar": {
             "outlinewidth": 0,
             "ticks": ""
            },
            "colorscale": [
             [
              0,
              "#0d0887"
             ],
             [
              0.1111111111111111,
              "#46039f"
             ],
             [
              0.2222222222222222,
              "#7201a8"
             ],
             [
              0.3333333333333333,
              "#9c179e"
             ],
             [
              0.4444444444444444,
              "#bd3786"
             ],
             [
              0.5555555555555556,
              "#d8576b"
             ],
             [
              0.6666666666666666,
              "#ed7953"
             ],
             [
              0.7777777777777778,
              "#fb9f3a"
             ],
             [
              0.8888888888888888,
              "#fdca26"
             ],
             [
              1,
              "#f0f921"
             ]
            ],
            "type": "histogram2dcontour"
           }
          ],
          "mesh3d": [
           {
            "colorbar": {
             "outlinewidth": 0,
             "ticks": ""
            },
            "type": "mesh3d"
           }
          ],
          "parcoords": [
           {
            "line": {
             "colorbar": {
              "outlinewidth": 0,
              "ticks": ""
             }
            },
            "type": "parcoords"
           }
          ],
          "pie": [
           {
            "automargin": true,
            "type": "pie"
           }
          ],
          "scatter": [
           {
            "fillpattern": {
             "fillmode": "overlay",
             "size": 10,
             "solidity": 0.2
            },
            "type": "scatter"
           }
          ],
          "scatter3d": [
           {
            "line": {
             "colorbar": {
              "outlinewidth": 0,
              "ticks": ""
             }
            },
            "marker": {
             "colorbar": {
              "outlinewidth": 0,
              "ticks": ""
             }
            },
            "type": "scatter3d"
           }
          ],
          "scattercarpet": [
           {
            "marker": {
             "colorbar": {
              "outlinewidth": 0,
              "ticks": ""
             }
            },
            "type": "scattercarpet"
           }
          ],
          "scattergeo": [
           {
            "marker": {
             "colorbar": {
              "outlinewidth": 0,
              "ticks": ""
             }
            },
            "type": "scattergeo"
           }
          ],
          "scattergl": [
           {
            "marker": {
             "colorbar": {
              "outlinewidth": 0,
              "ticks": ""
             }
            },
            "type": "scattergl"
           }
          ],
          "scattermapbox": [
           {
            "marker": {
             "colorbar": {
              "outlinewidth": 0,
              "ticks": ""
             }
            },
            "type": "scattermapbox"
           }
          ],
          "scatterpolar": [
           {
            "marker": {
             "colorbar": {
              "outlinewidth": 0,
              "ticks": ""
             }
            },
            "type": "scatterpolar"
           }
          ],
          "scatterpolargl": [
           {
            "marker": {
             "colorbar": {
              "outlinewidth": 0,
              "ticks": ""
             }
            },
            "type": "scatterpolargl"
           }
          ],
          "scatterternary": [
           {
            "marker": {
             "colorbar": {
              "outlinewidth": 0,
              "ticks": ""
             }
            },
            "type": "scatterternary"
           }
          ],
          "surface": [
           {
            "colorbar": {
             "outlinewidth": 0,
             "ticks": ""
            },
            "colorscale": [
             [
              0,
              "#0d0887"
             ],
             [
              0.1111111111111111,
              "#46039f"
             ],
             [
              0.2222222222222222,
              "#7201a8"
             ],
             [
              0.3333333333333333,
              "#9c179e"
             ],
             [
              0.4444444444444444,
              "#bd3786"
             ],
             [
              0.5555555555555556,
              "#d8576b"
             ],
             [
              0.6666666666666666,
              "#ed7953"
             ],
             [
              0.7777777777777778,
              "#fb9f3a"
             ],
             [
              0.8888888888888888,
              "#fdca26"
             ],
             [
              1,
              "#f0f921"
             ]
            ],
            "type": "surface"
           }
          ],
          "table": [
           {
            "cells": {
             "fill": {
              "color": "#EBF0F8"
             },
             "line": {
              "color": "white"
             }
            },
            "header": {
             "fill": {
              "color": "#C8D4E3"
             },
             "line": {
              "color": "white"
             }
            },
            "type": "table"
           }
          ]
         },
         "layout": {
          "annotationdefaults": {
           "arrowcolor": "#2a3f5f",
           "arrowhead": 0,
           "arrowwidth": 1
          },
          "autotypenumbers": "strict",
          "coloraxis": {
           "colorbar": {
            "outlinewidth": 0,
            "ticks": ""
           }
          },
          "colorscale": {
           "diverging": [
            [
             0,
             "#8e0152"
            ],
            [
             0.1,
             "#c51b7d"
            ],
            [
             0.2,
             "#de77ae"
            ],
            [
             0.3,
             "#f1b6da"
            ],
            [
             0.4,
             "#fde0ef"
            ],
            [
             0.5,
             "#f7f7f7"
            ],
            [
             0.6,
             "#e6f5d0"
            ],
            [
             0.7,
             "#b8e186"
            ],
            [
             0.8,
             "#7fbc41"
            ],
            [
             0.9,
             "#4d9221"
            ],
            [
             1,
             "#276419"
            ]
           ],
           "sequential": [
            [
             0,
             "#0d0887"
            ],
            [
             0.1111111111111111,
             "#46039f"
            ],
            [
             0.2222222222222222,
             "#7201a8"
            ],
            [
             0.3333333333333333,
             "#9c179e"
            ],
            [
             0.4444444444444444,
             "#bd3786"
            ],
            [
             0.5555555555555556,
             "#d8576b"
            ],
            [
             0.6666666666666666,
             "#ed7953"
            ],
            [
             0.7777777777777778,
             "#fb9f3a"
            ],
            [
             0.8888888888888888,
             "#fdca26"
            ],
            [
             1,
             "#f0f921"
            ]
           ],
           "sequentialminus": [
            [
             0,
             "#0d0887"
            ],
            [
             0.1111111111111111,
             "#46039f"
            ],
            [
             0.2222222222222222,
             "#7201a8"
            ],
            [
             0.3333333333333333,
             "#9c179e"
            ],
            [
             0.4444444444444444,
             "#bd3786"
            ],
            [
             0.5555555555555556,
             "#d8576b"
            ],
            [
             0.6666666666666666,
             "#ed7953"
            ],
            [
             0.7777777777777778,
             "#fb9f3a"
            ],
            [
             0.8888888888888888,
             "#fdca26"
            ],
            [
             1,
             "#f0f921"
            ]
           ]
          },
          "colorway": [
           "#636efa",
           "#EF553B",
           "#00cc96",
           "#ab63fa",
           "#FFA15A",
           "#19d3f3",
           "#FF6692",
           "#B6E880",
           "#FF97FF",
           "#FECB52"
          ],
          "font": {
           "color": "#2a3f5f"
          },
          "geo": {
           "bgcolor": "white",
           "lakecolor": "white",
           "landcolor": "#E5ECF6",
           "showlakes": true,
           "showland": true,
           "subunitcolor": "white"
          },
          "hoverlabel": {
           "align": "left"
          },
          "hovermode": "closest",
          "mapbox": {
           "style": "light"
          },
          "paper_bgcolor": "white",
          "plot_bgcolor": "#E5ECF6",
          "polar": {
           "angularaxis": {
            "gridcolor": "white",
            "linecolor": "white",
            "ticks": ""
           },
           "bgcolor": "#E5ECF6",
           "radialaxis": {
            "gridcolor": "white",
            "linecolor": "white",
            "ticks": ""
           }
          },
          "scene": {
           "xaxis": {
            "backgroundcolor": "#E5ECF6",
            "gridcolor": "white",
            "gridwidth": 2,
            "linecolor": "white",
            "showbackground": true,
            "ticks": "",
            "zerolinecolor": "white"
           },
           "yaxis": {
            "backgroundcolor": "#E5ECF6",
            "gridcolor": "white",
            "gridwidth": 2,
            "linecolor": "white",
            "showbackground": true,
            "ticks": "",
            "zerolinecolor": "white"
           },
           "zaxis": {
            "backgroundcolor": "#E5ECF6",
            "gridcolor": "white",
            "gridwidth": 2,
            "linecolor": "white",
            "showbackground": true,
            "ticks": "",
            "zerolinecolor": "white"
           }
          },
          "shapedefaults": {
           "line": {
            "color": "#2a3f5f"
           }
          },
          "ternary": {
           "aaxis": {
            "gridcolor": "white",
            "linecolor": "white",
            "ticks": ""
           },
           "baxis": {
            "gridcolor": "white",
            "linecolor": "white",
            "ticks": ""
           },
           "bgcolor": "#E5ECF6",
           "caxis": {
            "gridcolor": "white",
            "linecolor": "white",
            "ticks": ""
           }
          },
          "title": {
           "x": 0.05
          },
          "xaxis": {
           "automargin": true,
           "gridcolor": "white",
           "linecolor": "white",
           "ticks": "",
           "title": {
            "standoff": 15
           },
           "zerolinecolor": "white",
           "zerolinewidth": 2
          },
          "yaxis": {
           "automargin": true,
           "gridcolor": "white",
           "linecolor": "white",
           "ticks": "",
           "title": {
            "standoff": 15
           },
           "zerolinecolor": "white",
           "zerolinewidth": 2
          }
         }
        },
        "width": 800,
        "xaxis": {
         "anchor": "y",
         "autorange": true,
         "domain": [
          0,
          1
         ],
         "range": [
          -1.9060874156980343,
          4.306881334216463
         ],
         "title": {
          "text": "comp0"
         },
         "type": "linear"
        },
        "yaxis": {
         "anchor": "x",
         "autorange": true,
         "domain": [
          0,
          1
         ],
         "range": [
          -4.454178457239489,
          5.5116920929772295
         ],
         "title": {
          "text": "comp1"
         },
         "type": "linear"
        }
       }
      },
      "text/html": [
       "<div>                            <div id=\"9ea86beb-218d-4e9b-bc89-d4e2e4f49a52\" class=\"plotly-graph-div\" style=\"height:600px; width:800px;\"></div>            <script type=\"text/javascript\">                require([\"plotly\"], function(Plotly) {                    window.PLOTLYENV=window.PLOTLYENV || {};                                    if (document.getElementById(\"9ea86beb-218d-4e9b-bc89-d4e2e4f49a52\")) {                    Plotly.newPlot(                        \"9ea86beb-218d-4e9b-bc89-d4e2e4f49a52\",                        [{\"hovertemplate\":\"pred_label=1\\u003cbr\\u003ecomp0=%{x}\\u003cbr\\u003ecomp1=%{y}\\u003cbr\\u003epred_prob=%{marker.color}\\u003cextra\\u003e\\u003c\\u002fextra\\u003e\",\"legendgroup\":\"1\",\"marker\":{\"color\":[0.5657142857142856,0.5657142857142856,0.5657142857142856,0.5657142857142856,0.5657142857142856,0.5657142857142856,0.5657142857142856,0.5657142857142856,0.5657142857142856,0.5657142857142856,0.5657142857142856,0.5657142857142856,0.5657142857142856,0.5657142857142856,0.5657142857142856,0.5657142857142856,0.5657142857142856,0.5657142857142856,0.5657142857142856,0.5657142857142856,0.5657142857142856,0.5657142857142856,0.5657142857142856,0.5657142857142856,0.5657142857142856,0.5657142857142856,0.5657142857142856,0.5657142857142856,0.5657142857142856,0.5657142857142856,0.5657142857142856,0.5657142857142856,0.5657142857142856,0.5657142857142856,0.5657142857142856,0.5657142857142856,0.5657142857142856,0.5657142857142856,0.5657142857142856,0.5657142857142856,0.5657142857142856,0.5657142857142856,0.5657142857142856,0.5657142857142856,0.5657142857142856,0.584047619047619,0.5657142857142856,0.5657142857142856,0.5657142857142856,0.5657142857142856,0.5657142857142856,0.5657142857142856,0.584047619047619,0.584047619047619,0.5657142857142856,0.5657142857142856,0.5657142857142856,0.5657142857142856,0.5657142857142856,0.5040476190476191,0.5040476190476191,0.584047619047619,0.6907142857142856,0.5657142857142856,0.5657142857142856,0.5657142857142856,0.5657142857142856,0.692156862745098,0.5778711484593837,0.5040476190476191,0.584047619047619,0.584047619047619,0.5657142857142856,0.5657142857142856,0.5657142857142856,0.7960539472284583,0.692156862745098,0.5778711484593837,0.5040476190476191,0.584047619047619,0.584047619047619,0.5657142857142856,0.5657142857142856,0.7960539472284583,0.7960539472284583,0.7308910399602879,0.7378711484593837,0.7378711484593837,0.664047619047619,0.584047619047619,0.6907142857142856,0.5657142857142856,0.7960539472284583,0.9946746368836308,0.9946746368836308,0.9295117296154605,0.8907775524002706,0.7378711484593837,0.664047619047619,0.584047619047619,0.6907142857142856,0.9946746368836308,0.9946746368836308,0.9946746368836308,0.9946746368836308,0.9946746368836308,0.8907775524002706,0.7378711484593837,0.7378711484593837,0.664047619047619,0.6907142857142856,0.9946746368836308,0.9946746368836308,0.9946746368836308,0.9946746368836308,0.9946746368836308,0.9946746368836308,0.9295117296154605,0.7378711484593837,0.7378711484593837,0.664047619047619,0.6983333333333334,0.605,0.9946746368836308,0.9946746368836308,0.9946746368836308,0.9946746368836308,0.9946746368836308,0.9946746368836308,0.9946746368836308,0.9946746368836308,0.852156862745098,0.852156862745098,0.852156862745098,0.6983333333333334,0.9946746368836308,0.9946746368836308,0.9946746368836308,0.9946746368836308,0.9946746368836308,0.9946746368836308,0.9946746368836308,0.9946746368836308,0.9946746368836308,0.890891039960288,0.852156862745098,0.852156862745098,0.7783333333333333,0.9946746368836308,0.9946746368836308,0.9946746368836308,0.9946746368836308,0.9946746368836308,0.9946746368836308,0.9946746368836308,0.9946746368836308,0.9946746368836308,0.9946746368836308,0.9295117296154605,0.852156862745098,0.852156862745098,0.852156862745098,0.9946746368836308,0.9946746368836308,0.9946746368836308,0.9946746368836308,0.9946746368836308,0.9946746368836308,0.9946746368836308,0.9946746368836308,0.9946746368836308,0.9946746368836308,0.9946746368836308,0.9946746368836308,0.852156862745098,0.852156862745098,0.852156862745098,0.9946746368836308,0.9946746368836308,0.9946746368836308,0.9946746368836308,0.9946746368836308,0.9946746368836308,0.9946746368836308,0.9946746368836308,0.9946746368836308,0.9946746368836308,0.9946746368836308,0.9946746368836308,0.9946746368836308,0.890891039960288,0.852156862745098,0.692156862745098,0.9946746368836308,0.9946746368836308,0.9946746368836308,0.9946746368836308,0.9946746368836308,0.9946746368836308,0.9946746368836308,0.9946746368836308,0.9946746368836308,0.9946746368836308,0.9946746368836308,0.9946746368836308,0.9946746368836308,0.9946746368836308,0.9560539472284584,0.852156862745098,0.692156862745098,0.9946746368836308,0.9946746368836308,0.9946746368836308,0.9946746368836308,0.9946746368836308,0.9946746368836308,0.9946746368836308,0.9946746368836308,0.9946746368836308,0.9946746368836308,0.9946746368836308,0.9946746368836308,0.9946746368836308,0.9946746368836308,0.9946746368836308,0.9946746368836308,0.692156862745098,0.9946746368836308,0.9946746368836308,0.9946746368836308,0.9946746368836308,0.9946746368836308,0.9946746368836308,0.9946746368836308,0.9946746368836308,0.9946746368836308,0.9946746368836308,0.9946746368836308,0.9946746368836308,0.9946746368836308,0.9946746368836308,0.9946746368836308,0.9946746368836308,0.9946746368836308,0.5308910399602879,0.9946746368836308,0.9946746368836308,0.9946746368836308,0.9946746368836308,0.9946746368836308,0.9946746368836308,0.9946746368836308,0.9946746368836308,0.9946746368836308,0.9946746368836308,0.9946746368836308,0.9946746368836308,0.9946746368836308,0.9946746368836308,0.9946746368836308,0.9946746368836308,0.9946746368836308,0.9960539472284584,0.9946746368836308,0.9946746368836308,0.9946746368836308,0.9946746368836308,0.9946746368836308,0.9946746368836308,0.9946746368836308,0.9946746368836308,0.9946746368836308,0.9946746368836308,0.9946746368836308,0.9946746368836308,0.9946746368836308,0.9946746368836308,0.9946746368836308,0.9946746368836308,0.996178396282127,0.8283269373961855,0.6283269373961853,0.9946746368836308,0.9946746368836308,0.9946746368836308,0.9946746368836308,0.9946746368836308,0.9946746368836308,0.9946746368836308,0.9946746368836308,0.9946746368836308,0.9946746368836308,0.9946746368836308,0.9946746368836308,0.9946746368836308,0.9946746368836308,0.996178396282127,0.996178396282127,0.996178396282127,0.8269476270513578,0.6283269373961853,0.6283269373961853,0.9946746368836308,0.9946746368836308,0.9946746368836308,0.9946746368836308,0.9946746368836308,0.9946746368836308,0.9946746368836308,0.9946746368836308,0.9946746368836308,0.9946746368836308,0.9946746368836308,0.9946746368836308,0.9946746368836308,0.996178396282127,0.996178396282127,0.996178396282127,0.996178396282127,0.996178396282127,0.8283269373961855,0.6283269373961853,0.5010213316095669,0.9946746368836308,0.9946746368836308,0.9946746368836308,0.9946746368836308,0.9946746368836308,0.9946746368836308,0.9946746368836308,0.9946746368836308,0.9946746368836308,0.9946746368836308,0.9946746368836308,0.996178396282127,0.996178396282127,0.996178396282127,0.996178396282127,0.996178396282127,0.996178396282127,0.996178396282127,0.8283269373961855,0.6283269373961853,0.5010213316095669,0.9946746368836308,0.9946746368836308,0.9946746368836308,0.9946746368836308,0.9946746368836308,0.9946746368836308,0.9946746368836308,0.9946746368836308,0.9946746368836308,0.996178396282127,0.996178396282127,0.996178396282127,0.996178396282127,0.996178396282127,0.996178396282127,0.996178396282127,0.996178396282127,0.996178396282127,0.8269476270513578,0.7010213316095669,0.5010213316095669,0.9946746368836308,0.9946746368836308,0.9946746368836308,0.9946746368836308,0.9946746368836308,0.9946746368836308,0.9946746368836308,0.9946746368836308,0.996178396282127,0.996178396282127,0.996178396282127,0.996178396282127,0.996178396282127,0.996178396282127,0.996178396282127,0.996178396282127,0.996178396282127,0.996178396282127,0.996178396282127,0.7010213316095669,0.5010213316095669,0.9946746368836308,0.9946746368836308,0.9946746368836308,0.9946746368836308,0.9946746368836308,0.9946746368836308,0.996178396282127,0.996178396282127,0.996178396282127,0.996178396282127,0.996178396282127,0.996178396282127,0.996178396282127,0.996178396282127,0.996178396282127,0.996178396282127,0.996178396282127,0.996178396282127,0.8688727904955085,0.6996420212647393,0.5010213316095669,0.5010213316095669,0.9946746368836308,0.9946746368836308,0.9946746368836308,0.9946746368836308,0.9946746368836308,0.996178396282127,0.996178396282127,0.996178396282127,0.996178396282127,0.996178396282127,0.996178396282127,0.996178396282127,0.996178396282127,0.996178396282127,0.996178396282127,0.996178396282127,0.996178396282127,0.996178396282127,0.8688727904955085,0.8688727904955085,0.7010213316095669,0.5010213316095669,0.9946746368836308,0.9946746368836308,0.9946746368836308,0.996178396282127,0.996178396282127,0.996178396282127,0.996178396282127,0.996178396282127,0.996178396282127,0.996178396282127,0.996178396282127,0.996178396282127,0.996178396282127,0.996178396282127,0.996178396282127,0.996178396282127,0.996178396282127,0.8688727904955085,0.8688727904955085,0.8688727904955085,0.7010213316095669,0.5010213316095669,0.9946746368836308,0.996178396282127,0.996178396282127,0.996178396282127,0.996178396282127,0.996178396282127,0.996178396282127,0.996178396282127,0.996178396282127,0.996178396282127,0.996178396282127,0.996178396282127,0.996178396282127,0.996178396282127,0.996178396282127,0.996178396282127,0.996178396282127,0.8688727904955085,0.8688727904955085,0.8688727904955085,0.6996420212647393,0.5010213316095669,0.996178396282127,0.996178396282127,0.996178396282127,0.996178396282127,0.996178396282127,0.996178396282127,0.996178396282127,0.996178396282127,0.996178396282127,0.996178396282127,0.996178396282127,0.996178396282127,0.996178396282127,0.996178396282127,0.996178396282127,0.996178396282127,0.8688727904955085,0.8688727904955085,0.8688727904955085,0.8688727904955085,0.8688727904955085,0.7010213316095669,0.5010213316095669,0.996178396282127,0.996178396282127,0.996178396282127,0.996178396282127,0.996178396282127,0.996178396282127,0.996178396282127,0.996178396282127,0.996178396282127,0.996178396282127,0.996178396282127,0.996178396282127,0.996178396282127,0.996178396282127,0.996178396282127,0.996178396282127,0.8688727904955085,0.8688727904955085,0.8688727904955085,0.8688727904955085,0.8688727904955085,0.7010213316095669,0.5010213316095669,0.996178396282127,0.996178396282127,0.996178396282127,0.996178396282127,0.996178396282127,0.996178396282127,0.996178396282127,0.996178396282127,0.996178396282127,0.996178396282127,0.996178396282127,0.996178396282127,0.996178396282127,0.996178396282127,0.996178396282127,0.8688727904955085,0.8688727904955085,0.8688727904955085,0.8688727904955085,0.8688727904955085,0.8688727904955085,0.6996420212647393,0.7010213316095669,0.996178396282127,0.996178396282127,0.996178396282127,0.996178396282127,0.996178396282127,0.996178396282127,0.996178396282127,0.996178396282127,0.996178396282127,0.996178396282127,0.996178396282127,0.996178396282127,0.996178396282127,0.996178396282127,0.996178396282127,0.8688727904955085,0.8688727904955085,0.8688727904955085,0.8688727904955085,0.8688727904955085,0.8688727904955085,0.8688727904955085,0.7010213316095669,0.996178396282127,0.996178396282127,0.996178396282127,0.996178396282127,0.996178396282127,0.996178396282127,0.996178396282127,0.996178396282127,0.996178396282127,0.996178396282127,0.996178396282127,0.996178396282127,0.996178396282127,0.996178396282127,0.996178396282127,0.8688727904955085,0.8688727904955085,0.8688727904955085,0.8688727904955085,0.8688727904955085,0.8688727904955085,0.8688727904955085,0.6996420212647393,0.5010213316095669,0.996178396282127,0.996178396282127,0.996178396282127,0.996178396282127,0.996178396282127,0.996178396282127,0.996178396282127,0.996178396282127,0.996178396282127,0.996178396282127,0.996178396282127,0.996178396282127,0.996178396282127,0.996178396282127,0.8688727904955085,0.8688727904955085,0.8688727904955085,0.8688727904955085,0.8688727904955085,0.8688727904955085,0.8688727904955085,0.8688727904955085,0.8688727904955085,0.7010213316095669,0.996178396282127,0.996178396282127,0.996178396282127,0.996178396282127,0.996178396282127,0.996178396282127,0.996178396282127,0.996178396282127,0.996178396282127,0.996178396282127,0.996178396282127,0.996178396282127,0.996178396282127,0.996178396282127,0.8688727904955085,0.8688727904955085,0.8688727904955085,0.8688727904955085,0.8688727904955085,0.8688727904955085,0.8688727904955085,0.8688727904955085,0.8688727904955085,0.7010213316095669,0.996178396282127,0.996178396282127,0.996178396282127,0.996178396282127,0.996178396282127,0.996178396282127,0.996178396282127,0.996178396282127,0.996178396282127,0.996178396282127,0.996178396282127,0.996178396282127,0.996178396282127,0.8688727904955085,0.8688727904955085,0.8688727904955085,0.8688727904955085,0.8688727904955085,0.8688727904955085,0.8688727904955085,0.8688727904955085,0.8688727904955085,0.8688727904955085,0.6996420212647393,0.7010213316095669,0.996178396282127,0.996178396282127,0.996178396282127,0.996178396282127,0.996178396282127,0.996178396282127,0.996178396282127,0.996178396282127,0.996178396282127,0.996178396282127,0.996178396282127,0.996178396282127,0.996178396282127,0.8688727904955085,0.8688727904955085,0.8688727904955085,0.8688727904955085,0.8688727904955085,0.8688727904955085,0.8688727904955085,0.8688727904955085,0.8688727904955085,0.8688727904955085,0.8688727904955085,0.7010213316095669,0.996178396282127,0.996178396282127,0.996178396282127,0.996178396282127,0.996178396282127,0.996178396282127,0.996178396282127,0.996178396282127,0.996178396282127,0.996178396282127,0.996178396282127,0.996178396282127,0.8688727904955085,0.8688727904955085,0.8688727904955085,0.8688727904955085,0.8688727904955085,0.8688727904955085,0.8688727904955085,0.8688727904955085,0.8688727904955085,0.8688727904955085,0.8688727904955085,0.8688727904955085,0.7010213316095669,0.996178396282127,0.996178396282127,0.996178396282127,0.996178396282127,0.996178396282127,0.996178396282127,0.996178396282127,0.996178396282127,0.996178396282127,0.996178396282127,0.996178396282127,0.996178396282127,0.8688727904955085,0.8688727904955085,0.8688727904955085,0.8688727904955085,0.8688727904955085,0.8688727904955085,0.8688727904955085,0.8688727904955085,0.8688727904955085,0.8688727904955085,0.8688727904955085,0.8688727904955085,0.6996420212647393,0.5021978021978022,0.996178396282127,0.996178396282127,0.996178396282127,0.996178396282127,0.996178396282127,0.996178396282127,0.996178396282127,0.996178396282127,0.996178396282127,0.996178396282127,0.996178396282127,0.8688727904955085,0.8688727904955085,0.8688727904955085,0.8688727904955085,0.8688727904955085,0.8688727904955085,0.8688727904955085,0.8688727904955085,0.8688727904955085,0.8688727904955085,0.8688727904955085,0.8688727904955085,0.8688727904955085,0.8688727904955085,0.7010213316095669,0.996178396282127,0.996178396282127,0.996178396282127,0.996178396282127,0.996178396282127,0.996178396282127,0.996178396282127,0.996178396282127,0.996178396282127,0.996178396282127,0.996178396282127,0.8688727904955085,0.8688727904955085,0.8688727904955085,0.8688727904955085,0.8688727904955085,0.8688727904955085,0.8688727904955085,0.8688727904955085,0.8688727904955085,0.8688727904955085,0.8688727904955085,0.8688727904955085,0.8688727904955085,0.8688727904955085,0.6996420212647393],\"coloraxis\":\"coloraxis\",\"symbol\":\"circle\"},\"mode\":\"markers\",\"name\":\"1\",\"showlegend\":true,\"x\":[-1.5568011128421446,-1.444262416021681,-1.3317237192012172,-1.5568011128421446,-1.444262416021681,-1.3317237192012172,-1.2191850223807537,-1.5568011128421446,-1.444262416021681,-1.3317237192012172,-1.2191850223807537,-1.5568011128421446,-1.444262416021681,-1.3317237192012172,-1.2191850223807537,-1.10664632556029,-1.5568011128421446,-1.444262416021681,-1.3317237192012172,-1.2191850223807537,-1.10664632556029,-1.5568011128421446,-1.444262416021681,-1.3317237192012172,-1.2191850223807537,-1.10664632556029,-1.5568011128421446,-1.444262416021681,-1.3317237192012172,-1.2191850223807537,-1.10664632556029,-0.9941076287398264,-1.5568011128421446,-1.444262416021681,-1.3317237192012172,-1.2191850223807537,-1.10664632556029,-0.9941076287398264,-1.5568011128421446,-1.444262416021681,-1.3317237192012172,-1.2191850223807537,-1.10664632556029,-0.9941076287398264,-0.8815689319193627,-1.5568011128421446,-1.444262416021681,-1.3317237192012172,-1.2191850223807537,-1.10664632556029,-0.9941076287398264,-0.8815689319193627,-1.5568011128421446,-1.444262416021681,-1.3317237192012172,-1.2191850223807537,-1.10664632556029,-0.9941076287398264,-0.8815689319193627,-1.5568011128421446,-1.444262416021681,-1.3317237192012172,-1.2191850223807537,-1.10664632556029,-0.9941076287398264,-0.8815689319193627,-0.7690302350988991,-1.5568011128421446,-1.444262416021681,-1.3317237192012172,-1.2191850223807537,-1.10664632556029,-0.9941076287398264,-0.8815689319193627,-0.7690302350988991,-1.5568011128421446,-1.444262416021681,-1.3317237192012172,-1.2191850223807537,-1.10664632556029,-0.9941076287398264,-0.8815689319193627,-0.7690302350988991,-1.5568011128421446,-1.444262416021681,-1.3317237192012172,-1.2191850223807537,-1.10664632556029,-0.9941076287398264,-0.8815689319193627,-0.7690302350988991,-0.6564915382784354,-1.5568011128421446,-1.444262416021681,-1.3317237192012172,-1.2191850223807537,-1.10664632556029,-0.9941076287398264,-0.8815689319193627,-0.7690302350988991,-0.6564915382784354,-1.5568011128421446,-1.444262416021681,-1.3317237192012172,-1.2191850223807537,-1.10664632556029,-0.9941076287398264,-0.8815689319193627,-0.7690302350988991,-0.6564915382784354,-0.5439528414579717,-1.5568011128421446,-1.444262416021681,-1.3317237192012172,-1.2191850223807537,-1.10664632556029,-0.9941076287398264,-0.8815689319193627,-0.7690302350988991,-0.6564915382784354,-0.5439528414579717,-0.43141414463750816,-0.3188754478170446,-1.5568011128421446,-1.444262416021681,-1.3317237192012172,-1.2191850223807537,-1.10664632556029,-0.9941076287398264,-0.8815689319193627,-0.7690302350988991,-0.6564915382784354,-0.5439528414579717,-0.43141414463750816,-0.3188754478170446,-1.5568011128421446,-1.444262416021681,-1.3317237192012172,-1.2191850223807537,-1.10664632556029,-0.9941076287398264,-0.8815689319193627,-0.7690302350988991,-0.6564915382784354,-0.5439528414579717,-0.43141414463750816,-0.3188754478170446,-0.20633675099658078,-1.5568011128421446,-1.444262416021681,-1.3317237192012172,-1.2191850223807537,-1.10664632556029,-0.9941076287398264,-0.8815689319193627,-0.7690302350988991,-0.6564915382784354,-0.5439528414579717,-0.43141414463750816,-0.3188754478170446,-0.20633675099658078,-0.0937980541761172,-1.5568011128421446,-1.444262416021681,-1.3317237192012172,-1.2191850223807537,-1.10664632556029,-0.9941076287398264,-0.8815689319193627,-0.7690302350988991,-0.6564915382784354,-0.5439528414579717,-0.43141414463750816,-0.3188754478170446,-0.20633675099658078,-0.0937980541761172,0.018740642644346384,-1.5568011128421446,-1.444262416021681,-1.3317237192012172,-1.2191850223807537,-1.10664632556029,-0.9941076287398264,-0.8815689319193627,-0.7690302350988991,-0.6564915382784354,-0.5439528414579717,-0.43141414463750816,-0.3188754478170446,-0.20633675099658078,-0.0937980541761172,0.018740642644346384,0.13127933946481019,-1.5568011128421446,-1.444262416021681,-1.3317237192012172,-1.2191850223807537,-1.10664632556029,-0.9941076287398264,-0.8815689319193627,-0.7690302350988991,-0.6564915382784354,-0.5439528414579717,-0.43141414463750816,-0.3188754478170446,-0.20633675099658078,-0.0937980541761172,0.018740642644346384,0.13127933946481019,0.24381803628527376,-1.5568011128421446,-1.444262416021681,-1.3317237192012172,-1.2191850223807537,-1.10664632556029,-0.9941076287398264,-0.8815689319193627,-0.7690302350988991,-0.6564915382784354,-0.5439528414579717,-0.43141414463750816,-0.3188754478170446,-0.20633675099658078,-0.0937980541761172,0.018740642644346384,0.13127933946481019,0.24381803628527376,-1.5568011128421446,-1.444262416021681,-1.3317237192012172,-1.2191850223807537,-1.10664632556029,-0.9941076287398264,-0.8815689319193627,-0.7690302350988991,-0.6564915382784354,-0.5439528414579717,-0.43141414463750816,-0.3188754478170446,-0.20633675099658078,-0.0937980541761172,0.018740642644346384,0.13127933946481019,0.24381803628527376,0.35635673310573734,-1.5568011128421446,-1.444262416021681,-1.3317237192012172,-1.2191850223807537,-1.10664632556029,-0.9941076287398264,-0.8815689319193627,-0.7690302350988991,-0.6564915382784354,-0.5439528414579717,-0.43141414463750816,-0.3188754478170446,-0.20633675099658078,-0.0937980541761172,0.018740642644346384,0.13127933946481019,0.24381803628527376,0.35635673310573734,-1.5568011128421446,-1.444262416021681,-1.3317237192012172,-1.2191850223807537,-1.10664632556029,-0.9941076287398264,-0.8815689319193627,-0.7690302350988991,-0.6564915382784354,-0.5439528414579717,-0.43141414463750816,-0.3188754478170446,-0.20633675099658078,-0.0937980541761172,0.018740642644346384,0.13127933946481019,0.24381803628527376,0.35635673310573734,0.46889542992620115,-1.5568011128421446,-1.444262416021681,-1.3317237192012172,-1.2191850223807537,-1.10664632556029,-0.9941076287398264,-0.8815689319193627,-0.7690302350988991,-0.6564915382784354,-0.5439528414579717,-0.43141414463750816,-0.3188754478170446,-0.20633675099658078,-0.0937980541761172,0.018740642644346384,0.13127933946481019,0.24381803628527376,0.35635673310573734,0.46889542992620115,0.5814341267466645,-1.5568011128421446,-1.444262416021681,-1.3317237192012172,-1.2191850223807537,-1.10664632556029,-0.9941076287398264,-0.8815689319193627,-0.7690302350988991,-0.6564915382784354,-0.5439528414579717,-0.43141414463750816,-0.3188754478170446,-0.20633675099658078,-0.0937980541761172,0.018740642644346384,0.13127933946481019,0.24381803628527376,0.35635673310573734,0.46889542992620115,0.5814341267466645,0.6939728235671283,-1.5568011128421446,-1.444262416021681,-1.3317237192012172,-1.2191850223807537,-1.10664632556029,-0.9941076287398264,-0.8815689319193627,-0.7690302350988991,-0.6564915382784354,-0.5439528414579717,-0.43141414463750816,-0.3188754478170446,-0.20633675099658078,-0.0937980541761172,0.018740642644346384,0.13127933946481019,0.24381803628527376,0.35635673310573734,0.46889542992620115,0.5814341267466645,0.6939728235671283,-1.5568011128421446,-1.444262416021681,-1.3317237192012172,-1.2191850223807537,-1.10664632556029,-0.9941076287398264,-0.8815689319193627,-0.7690302350988991,-0.6564915382784354,-0.5439528414579717,-0.43141414463750816,-0.3188754478170446,-0.20633675099658078,-0.0937980541761172,0.018740642644346384,0.13127933946481019,0.24381803628527376,0.35635673310573734,0.46889542992620115,0.5814341267466645,0.6939728235671283,-1.5568011128421446,-1.444262416021681,-1.3317237192012172,-1.2191850223807537,-1.10664632556029,-0.9941076287398264,-0.8815689319193627,-0.7690302350988991,-0.6564915382784354,-0.5439528414579717,-0.43141414463750816,-0.3188754478170446,-0.20633675099658078,-0.0937980541761172,0.018740642644346384,0.13127933946481019,0.24381803628527376,0.35635673310573734,0.46889542992620115,0.5814341267466645,0.6939728235671283,-1.5568011128421446,-1.444262416021681,-1.3317237192012172,-1.2191850223807537,-1.10664632556029,-0.9941076287398264,-0.8815689319193627,-0.7690302350988991,-0.6564915382784354,-0.5439528414579717,-0.43141414463750816,-0.3188754478170446,-0.20633675099658078,-0.0937980541761172,0.018740642644346384,0.13127933946481019,0.24381803628527376,0.35635673310573734,0.46889542992620115,0.5814341267466645,0.6939728235671283,0.8065115203875921,-1.5568011128421446,-1.444262416021681,-1.3317237192012172,-1.2191850223807537,-1.10664632556029,-0.9941076287398264,-0.8815689319193627,-0.7690302350988991,-0.6564915382784354,-0.5439528414579717,-0.43141414463750816,-0.3188754478170446,-0.20633675099658078,-0.0937980541761172,0.018740642644346384,0.13127933946481019,0.24381803628527376,0.35635673310573734,0.46889542992620115,0.5814341267466645,0.6939728235671283,0.8065115203875921,-1.5568011128421446,-1.444262416021681,-1.3317237192012172,-1.2191850223807537,-1.10664632556029,-0.9941076287398264,-0.8815689319193627,-0.7690302350988991,-0.6564915382784354,-0.5439528414579717,-0.43141414463750816,-0.3188754478170446,-0.20633675099658078,-0.0937980541761172,0.018740642644346384,0.13127933946481019,0.24381803628527376,0.35635673310573734,0.46889542992620115,0.5814341267466645,0.6939728235671283,0.8065115203875921,-1.5568011128421446,-1.444262416021681,-1.3317237192012172,-1.2191850223807537,-1.10664632556029,-0.9941076287398264,-0.8815689319193627,-0.7690302350988991,-0.6564915382784354,-0.5439528414579717,-0.43141414463750816,-0.3188754478170446,-0.20633675099658078,-0.0937980541761172,0.018740642644346384,0.13127933946481019,0.24381803628527376,0.35635673310573734,0.46889542992620115,0.5814341267466645,0.6939728235671283,0.8065115203875921,-1.5568011128421446,-1.444262416021681,-1.3317237192012172,-1.2191850223807537,-1.10664632556029,-0.9941076287398264,-0.8815689319193627,-0.7690302350988991,-0.6564915382784354,-0.5439528414579717,-0.43141414463750816,-0.3188754478170446,-0.20633675099658078,-0.0937980541761172,0.018740642644346384,0.13127933946481019,0.24381803628527376,0.35635673310573734,0.46889542992620115,0.5814341267466645,0.6939728235671283,0.8065115203875921,0.9190502172080555,-1.5568011128421446,-1.444262416021681,-1.3317237192012172,-1.2191850223807537,-1.10664632556029,-0.9941076287398264,-0.8815689319193627,-0.7690302350988991,-0.6564915382784354,-0.5439528414579717,-0.43141414463750816,-0.3188754478170446,-0.20633675099658078,-0.0937980541761172,0.018740642644346384,0.13127933946481019,0.24381803628527376,0.35635673310573734,0.46889542992620115,0.5814341267466645,0.6939728235671283,0.8065115203875921,0.9190502172080555,-1.5568011128421446,-1.444262416021681,-1.3317237192012172,-1.2191850223807537,-1.10664632556029,-0.9941076287398264,-0.8815689319193627,-0.7690302350988991,-0.6564915382784354,-0.5439528414579717,-0.43141414463750816,-0.3188754478170446,-0.20633675099658078,-0.0937980541761172,0.018740642644346384,0.13127933946481019,0.24381803628527376,0.35635673310573734,0.46889542992620115,0.5814341267466645,0.6939728235671283,0.8065115203875921,0.9190502172080555,-1.5568011128421446,-1.444262416021681,-1.3317237192012172,-1.2191850223807537,-1.10664632556029,-0.9941076287398264,-0.8815689319193627,-0.7690302350988991,-0.6564915382784354,-0.5439528414579717,-0.43141414463750816,-0.3188754478170446,-0.20633675099658078,-0.0937980541761172,0.018740642644346384,0.13127933946481019,0.24381803628527376,0.35635673310573734,0.46889542992620115,0.5814341267466645,0.6939728235671283,0.8065115203875921,0.9190502172080555,-1.5568011128421446,-1.444262416021681,-1.3317237192012172,-1.2191850223807537,-1.10664632556029,-0.9941076287398264,-0.8815689319193627,-0.7690302350988991,-0.6564915382784354,-0.5439528414579717,-0.43141414463750816,-0.3188754478170446,-0.20633675099658078,-0.0937980541761172,0.018740642644346384,0.13127933946481019,0.24381803628527376,0.35635673310573734,0.46889542992620115,0.5814341267466645,0.6939728235671283,0.8065115203875921,0.9190502172080555,1.0315889140285193,-1.5568011128421446,-1.444262416021681,-1.3317237192012172,-1.2191850223807537,-1.10664632556029,-0.9941076287398264,-0.8815689319193627,-0.7690302350988991,-0.6564915382784354,-0.5439528414579717,-0.43141414463750816,-0.3188754478170446,-0.20633675099658078,-0.0937980541761172,0.018740642644346384,0.13127933946481019,0.24381803628527376,0.35635673310573734,0.46889542992620115,0.5814341267466645,0.6939728235671283,0.8065115203875921,0.9190502172080555,1.0315889140285193,-1.5568011128421446,-1.444262416021681,-1.3317237192012172,-1.2191850223807537,-1.10664632556029,-0.9941076287398264,-0.8815689319193627,-0.7690302350988991,-0.6564915382784354,-0.5439528414579717,-0.43141414463750816,-0.3188754478170446,-0.20633675099658078,-0.0937980541761172,0.018740642644346384,0.13127933946481019,0.24381803628527376,0.35635673310573734,0.46889542992620115,0.5814341267466645,0.6939728235671283,0.8065115203875921,0.9190502172080555,1.0315889140285193,-1.5568011128421446,-1.444262416021681,-1.3317237192012172,-1.2191850223807537,-1.10664632556029,-0.9941076287398264,-0.8815689319193627,-0.7690302350988991,-0.6564915382784354,-0.5439528414579717,-0.43141414463750816,-0.3188754478170446,-0.20633675099658078,-0.0937980541761172,0.018740642644346384,0.13127933946481019,0.24381803628527376,0.35635673310573734,0.46889542992620115,0.5814341267466645,0.6939728235671283,0.8065115203875921,0.9190502172080555,1.0315889140285193,1.144127610848983,-1.5568011128421446,-1.444262416021681,-1.3317237192012172,-1.2191850223807537,-1.10664632556029,-0.9941076287398264,-0.8815689319193627,-0.7690302350988991,-0.6564915382784354,-0.5439528414579717,-0.43141414463750816,-0.3188754478170446,-0.20633675099658078,-0.0937980541761172,0.018740642644346384,0.13127933946481019,0.24381803628527376,0.35635673310573734,0.46889542992620115,0.5814341267466645,0.6939728235671283,0.8065115203875921,0.9190502172080555,1.0315889140285193,1.144127610848983,-1.5568011128421446,-1.444262416021681,-1.3317237192012172,-1.2191850223807537,-1.10664632556029,-0.9941076287398264,-0.8815689319193627,-0.7690302350988991,-0.6564915382784354,-0.5439528414579717,-0.43141414463750816,-0.3188754478170446,-0.20633675099658078,-0.0937980541761172,0.018740642644346384,0.13127933946481019,0.24381803628527376,0.35635673310573734,0.46889542992620115,0.5814341267466645,0.6939728235671283,0.8065115203875921,0.9190502172080555,1.0315889140285193,1.144127610848983,-1.5568011128421446,-1.444262416021681,-1.3317237192012172,-1.2191850223807537,-1.10664632556029,-0.9941076287398264,-0.8815689319193627,-0.7690302350988991,-0.6564915382784354,-0.5439528414579717,-0.43141414463750816,-0.3188754478170446,-0.20633675099658078,-0.0937980541761172,0.018740642644346384,0.13127933946481019,0.24381803628527376,0.35635673310573734,0.46889542992620115,0.5814341267466645,0.6939728235671283,0.8065115203875921,0.9190502172080555,1.0315889140285193,1.144127610848983,1.2566663076694464,-1.5568011128421446,-1.444262416021681,-1.3317237192012172,-1.2191850223807537,-1.10664632556029,-0.9941076287398264,-0.8815689319193627,-0.7690302350988991,-0.6564915382784354,-0.5439528414579717,-0.43141414463750816,-0.3188754478170446,-0.20633675099658078,-0.0937980541761172,0.018740642644346384,0.13127933946481019,0.24381803628527376,0.35635673310573734,0.46889542992620115,0.5814341267466645,0.6939728235671283,0.8065115203875921,0.9190502172080555,1.0315889140285193,1.144127610848983,1.2566663076694464,-1.5568011128421446,-1.444262416021681,-1.3317237192012172,-1.2191850223807537,-1.10664632556029,-0.9941076287398264,-0.8815689319193627,-0.7690302350988991,-0.6564915382784354,-0.5439528414579717,-0.43141414463750816,-0.3188754478170446,-0.20633675099658078,-0.0937980541761172,0.018740642644346384,0.13127933946481019,0.24381803628527376,0.35635673310573734,0.46889542992620115,0.5814341267466645,0.6939728235671283,0.8065115203875921,0.9190502172080555,1.0315889140285193,1.144127610848983,1.2566663076694464],\"xaxis\":\"x\",\"y\":[-3.874641419808408,-3.874641419808408,-3.874641419808408,-3.69491087949505,-3.69491087949505,-3.69491087949505,-3.69491087949505,-3.5151803391816916,-3.5151803391816916,-3.5151803391816916,-3.5151803391816916,-3.335449798868333,-3.335449798868333,-3.335449798868333,-3.335449798868333,-3.335449798868333,-3.155719258554975,-3.155719258554975,-3.155719258554975,-3.155719258554975,-3.155719258554975,-2.9759887182416165,-2.9759887182416165,-2.9759887182416165,-2.9759887182416165,-2.9759887182416165,-2.7962581779282583,-2.7962581779282583,-2.7962581779282583,-2.7962581779282583,-2.7962581779282583,-2.7962581779282583,-2.6165276376149,-2.6165276376149,-2.6165276376149,-2.6165276376149,-2.6165276376149,-2.6165276376149,-2.436797097301542,-2.436797097301542,-2.436797097301542,-2.436797097301542,-2.436797097301542,-2.436797097301542,-2.436797097301542,-2.2570665569881836,-2.2570665569881836,-2.2570665569881836,-2.2570665569881836,-2.2570665569881836,-2.2570665569881836,-2.2570665569881836,-2.0773360166748254,-2.0773360166748254,-2.0773360166748254,-2.0773360166748254,-2.0773360166748254,-2.0773360166748254,-2.0773360166748254,-1.897605476361467,-1.897605476361467,-1.897605476361467,-1.897605476361467,-1.897605476361467,-1.897605476361467,-1.897605476361467,-1.897605476361467,-1.7178749360481085,-1.7178749360481085,-1.7178749360481085,-1.7178749360481085,-1.7178749360481085,-1.7178749360481085,-1.7178749360481085,-1.7178749360481085,-1.5381443957347503,-1.5381443957347503,-1.5381443957347503,-1.5381443957347503,-1.5381443957347503,-1.5381443957347503,-1.5381443957347503,-1.5381443957347503,-1.358413855421392,-1.358413855421392,-1.358413855421392,-1.358413855421392,-1.358413855421392,-1.358413855421392,-1.358413855421392,-1.358413855421392,-1.358413855421392,-1.1786833151080338,-1.1786833151080338,-1.1786833151080338,-1.1786833151080338,-1.1786833151080338,-1.1786833151080338,-1.1786833151080338,-1.1786833151080338,-1.1786833151080338,-0.9989527747946756,-0.9989527747946756,-0.9989527747946756,-0.9989527747946756,-0.9989527747946756,-0.9989527747946756,-0.9989527747946756,-0.9989527747946756,-0.9989527747946756,-0.9989527747946756,-0.8192222344813174,-0.8192222344813174,-0.8192222344813174,-0.8192222344813174,-0.8192222344813174,-0.8192222344813174,-0.8192222344813174,-0.8192222344813174,-0.8192222344813174,-0.8192222344813174,-0.8192222344813174,-0.8192222344813174,-0.6394916941679591,-0.6394916941679591,-0.6394916941679591,-0.6394916941679591,-0.6394916941679591,-0.6394916941679591,-0.6394916941679591,-0.6394916941679591,-0.6394916941679591,-0.6394916941679591,-0.6394916941679591,-0.6394916941679591,-0.4597611538546009,-0.4597611538546009,-0.4597611538546009,-0.4597611538546009,-0.4597611538546009,-0.4597611538546009,-0.4597611538546009,-0.4597611538546009,-0.4597611538546009,-0.4597611538546009,-0.4597611538546009,-0.4597611538546009,-0.4597611538546009,-0.2800306135412427,-0.2800306135412427,-0.2800306135412427,-0.2800306135412427,-0.2800306135412427,-0.2800306135412427,-0.2800306135412427,-0.2800306135412427,-0.2800306135412427,-0.2800306135412427,-0.2800306135412427,-0.2800306135412427,-0.2800306135412427,-0.2800306135412427,-0.10030007322788403,-0.10030007322788403,-0.10030007322788403,-0.10030007322788403,-0.10030007322788403,-0.10030007322788403,-0.10030007322788403,-0.10030007322788403,-0.10030007322788403,-0.10030007322788403,-0.10030007322788403,-0.10030007322788403,-0.10030007322788403,-0.10030007322788403,-0.10030007322788403,0.07943046708547419,0.07943046708547419,0.07943046708547419,0.07943046708547419,0.07943046708547419,0.07943046708547419,0.07943046708547419,0.07943046708547419,0.07943046708547419,0.07943046708547419,0.07943046708547419,0.07943046708547419,0.07943046708547419,0.07943046708547419,0.07943046708547419,0.07943046708547419,0.2591610073988324,0.2591610073988324,0.2591610073988324,0.2591610073988324,0.2591610073988324,0.2591610073988324,0.2591610073988324,0.2591610073988324,0.2591610073988324,0.2591610073988324,0.2591610073988324,0.2591610073988324,0.2591610073988324,0.2591610073988324,0.2591610073988324,0.2591610073988324,0.2591610073988324,0.4388915477121911,0.4388915477121911,0.4388915477121911,0.4388915477121911,0.4388915477121911,0.4388915477121911,0.4388915477121911,0.4388915477121911,0.4388915477121911,0.4388915477121911,0.4388915477121911,0.4388915477121911,0.4388915477121911,0.4388915477121911,0.4388915477121911,0.4388915477121911,0.4388915477121911,0.6186220880255489,0.6186220880255489,0.6186220880255489,0.6186220880255489,0.6186220880255489,0.6186220880255489,0.6186220880255489,0.6186220880255489,0.6186220880255489,0.6186220880255489,0.6186220880255489,0.6186220880255489,0.6186220880255489,0.6186220880255489,0.6186220880255489,0.6186220880255489,0.6186220880255489,0.6186220880255489,0.7983526283389075,0.7983526283389075,0.7983526283389075,0.7983526283389075,0.7983526283389075,0.7983526283389075,0.7983526283389075,0.7983526283389075,0.7983526283389075,0.7983526283389075,0.7983526283389075,0.7983526283389075,0.7983526283389075,0.7983526283389075,0.7983526283389075,0.7983526283389075,0.7983526283389075,0.7983526283389075,0.9780831686522653,0.9780831686522653,0.9780831686522653,0.9780831686522653,0.9780831686522653,0.9780831686522653,0.9780831686522653,0.9780831686522653,0.9780831686522653,0.9780831686522653,0.9780831686522653,0.9780831686522653,0.9780831686522653,0.9780831686522653,0.9780831686522653,0.9780831686522653,0.9780831686522653,0.9780831686522653,0.9780831686522653,1.157813708965624,1.157813708965624,1.157813708965624,1.157813708965624,1.157813708965624,1.157813708965624,1.157813708965624,1.157813708965624,1.157813708965624,1.157813708965624,1.157813708965624,1.157813708965624,1.157813708965624,1.157813708965624,1.157813708965624,1.157813708965624,1.157813708965624,1.157813708965624,1.157813708965624,1.157813708965624,1.3375442492789817,1.3375442492789817,1.3375442492789817,1.3375442492789817,1.3375442492789817,1.3375442492789817,1.3375442492789817,1.3375442492789817,1.3375442492789817,1.3375442492789817,1.3375442492789817,1.3375442492789817,1.3375442492789817,1.3375442492789817,1.3375442492789817,1.3375442492789817,1.3375442492789817,1.3375442492789817,1.3375442492789817,1.3375442492789817,1.3375442492789817,1.5172747895923404,1.5172747895923404,1.5172747895923404,1.5172747895923404,1.5172747895923404,1.5172747895923404,1.5172747895923404,1.5172747895923404,1.5172747895923404,1.5172747895923404,1.5172747895923404,1.5172747895923404,1.5172747895923404,1.5172747895923404,1.5172747895923404,1.5172747895923404,1.5172747895923404,1.5172747895923404,1.5172747895923404,1.5172747895923404,1.5172747895923404,1.6970053299056982,1.6970053299056982,1.6970053299056982,1.6970053299056982,1.6970053299056982,1.6970053299056982,1.6970053299056982,1.6970053299056982,1.6970053299056982,1.6970053299056982,1.6970053299056982,1.6970053299056982,1.6970053299056982,1.6970053299056982,1.6970053299056982,1.6970053299056982,1.6970053299056982,1.6970053299056982,1.6970053299056982,1.6970053299056982,1.6970053299056982,1.8767358702190569,1.8767358702190569,1.8767358702190569,1.8767358702190569,1.8767358702190569,1.8767358702190569,1.8767358702190569,1.8767358702190569,1.8767358702190569,1.8767358702190569,1.8767358702190569,1.8767358702190569,1.8767358702190569,1.8767358702190569,1.8767358702190569,1.8767358702190569,1.8767358702190569,1.8767358702190569,1.8767358702190569,1.8767358702190569,1.8767358702190569,2.0564664105324155,2.0564664105324155,2.0564664105324155,2.0564664105324155,2.0564664105324155,2.0564664105324155,2.0564664105324155,2.0564664105324155,2.0564664105324155,2.0564664105324155,2.0564664105324155,2.0564664105324155,2.0564664105324155,2.0564664105324155,2.0564664105324155,2.0564664105324155,2.0564664105324155,2.0564664105324155,2.0564664105324155,2.0564664105324155,2.0564664105324155,2.0564664105324155,2.2361969508457733,2.2361969508457733,2.2361969508457733,2.2361969508457733,2.2361969508457733,2.2361969508457733,2.2361969508457733,2.2361969508457733,2.2361969508457733,2.2361969508457733,2.2361969508457733,2.2361969508457733,2.2361969508457733,2.2361969508457733,2.2361969508457733,2.2361969508457733,2.2361969508457733,2.2361969508457733,2.2361969508457733,2.2361969508457733,2.2361969508457733,2.2361969508457733,2.415927491159132,2.415927491159132,2.415927491159132,2.415927491159132,2.415927491159132,2.415927491159132,2.415927491159132,2.415927491159132,2.415927491159132,2.415927491159132,2.415927491159132,2.415927491159132,2.415927491159132,2.415927491159132,2.415927491159132,2.415927491159132,2.415927491159132,2.415927491159132,2.415927491159132,2.415927491159132,2.415927491159132,2.415927491159132,2.5956580314724897,2.5956580314724897,2.5956580314724897,2.5956580314724897,2.5956580314724897,2.5956580314724897,2.5956580314724897,2.5956580314724897,2.5956580314724897,2.5956580314724897,2.5956580314724897,2.5956580314724897,2.5956580314724897,2.5956580314724897,2.5956580314724897,2.5956580314724897,2.5956580314724897,2.5956580314724897,2.5956580314724897,2.5956580314724897,2.5956580314724897,2.5956580314724897,2.7753885717858484,2.7753885717858484,2.7753885717858484,2.7753885717858484,2.7753885717858484,2.7753885717858484,2.7753885717858484,2.7753885717858484,2.7753885717858484,2.7753885717858484,2.7753885717858484,2.7753885717858484,2.7753885717858484,2.7753885717858484,2.7753885717858484,2.7753885717858484,2.7753885717858484,2.7753885717858484,2.7753885717858484,2.7753885717858484,2.7753885717858484,2.7753885717858484,2.7753885717858484,2.955119112099206,2.955119112099206,2.955119112099206,2.955119112099206,2.955119112099206,2.955119112099206,2.955119112099206,2.955119112099206,2.955119112099206,2.955119112099206,2.955119112099206,2.955119112099206,2.955119112099206,2.955119112099206,2.955119112099206,2.955119112099206,2.955119112099206,2.955119112099206,2.955119112099206,2.955119112099206,2.955119112099206,2.955119112099206,2.955119112099206,3.134849652412565,3.134849652412565,3.134849652412565,3.134849652412565,3.134849652412565,3.134849652412565,3.134849652412565,3.134849652412565,3.134849652412565,3.134849652412565,3.134849652412565,3.134849652412565,3.134849652412565,3.134849652412565,3.134849652412565,3.134849652412565,3.134849652412565,3.134849652412565,3.134849652412565,3.134849652412565,3.134849652412565,3.134849652412565,3.134849652412565,3.3145801927259226,3.3145801927259226,3.3145801927259226,3.3145801927259226,3.3145801927259226,3.3145801927259226,3.3145801927259226,3.3145801927259226,3.3145801927259226,3.3145801927259226,3.3145801927259226,3.3145801927259226,3.3145801927259226,3.3145801927259226,3.3145801927259226,3.3145801927259226,3.3145801927259226,3.3145801927259226,3.3145801927259226,3.3145801927259226,3.3145801927259226,3.3145801927259226,3.3145801927259226,3.4943107330392813,3.4943107330392813,3.4943107330392813,3.4943107330392813,3.4943107330392813,3.4943107330392813,3.4943107330392813,3.4943107330392813,3.4943107330392813,3.4943107330392813,3.4943107330392813,3.4943107330392813,3.4943107330392813,3.4943107330392813,3.4943107330392813,3.4943107330392813,3.4943107330392813,3.4943107330392813,3.4943107330392813,3.4943107330392813,3.4943107330392813,3.4943107330392813,3.4943107330392813,3.4943107330392813,3.67404127335264,3.67404127335264,3.67404127335264,3.67404127335264,3.67404127335264,3.67404127335264,3.67404127335264,3.67404127335264,3.67404127335264,3.67404127335264,3.67404127335264,3.67404127335264,3.67404127335264,3.67404127335264,3.67404127335264,3.67404127335264,3.67404127335264,3.67404127335264,3.67404127335264,3.67404127335264,3.67404127335264,3.67404127335264,3.67404127335264,3.67404127335264,3.8537718136659977,3.8537718136659977,3.8537718136659977,3.8537718136659977,3.8537718136659977,3.8537718136659977,3.8537718136659977,3.8537718136659977,3.8537718136659977,3.8537718136659977,3.8537718136659977,3.8537718136659977,3.8537718136659977,3.8537718136659977,3.8537718136659977,3.8537718136659977,3.8537718136659977,3.8537718136659977,3.8537718136659977,3.8537718136659977,3.8537718136659977,3.8537718136659977,3.8537718136659977,3.8537718136659977,4.033502353979356,4.033502353979356,4.033502353979356,4.033502353979356,4.033502353979356,4.033502353979356,4.033502353979356,4.033502353979356,4.033502353979356,4.033502353979356,4.033502353979356,4.033502353979356,4.033502353979356,4.033502353979356,4.033502353979356,4.033502353979356,4.033502353979356,4.033502353979356,4.033502353979356,4.033502353979356,4.033502353979356,4.033502353979356,4.033502353979356,4.033502353979356,4.033502353979356,4.213232894292715,4.213232894292715,4.213232894292715,4.213232894292715,4.213232894292715,4.213232894292715,4.213232894292715,4.213232894292715,4.213232894292715,4.213232894292715,4.213232894292715,4.213232894292715,4.213232894292715,4.213232894292715,4.213232894292715,4.213232894292715,4.213232894292715,4.213232894292715,4.213232894292715,4.213232894292715,4.213232894292715,4.213232894292715,4.213232894292715,4.213232894292715,4.213232894292715,4.392963434606073,4.392963434606073,4.392963434606073,4.392963434606073,4.392963434606073,4.392963434606073,4.392963434606073,4.392963434606073,4.392963434606073,4.392963434606073,4.392963434606073,4.392963434606073,4.392963434606073,4.392963434606073,4.392963434606073,4.392963434606073,4.392963434606073,4.392963434606073,4.392963434606073,4.392963434606073,4.392963434606073,4.392963434606073,4.392963434606073,4.392963434606073,4.392963434606073,4.572693974919431,4.572693974919431,4.572693974919431,4.572693974919431,4.572693974919431,4.572693974919431,4.572693974919431,4.572693974919431,4.572693974919431,4.572693974919431,4.572693974919431,4.572693974919431,4.572693974919431,4.572693974919431,4.572693974919431,4.572693974919431,4.572693974919431,4.572693974919431,4.572693974919431,4.572693974919431,4.572693974919431,4.572693974919431,4.572693974919431,4.572693974919431,4.572693974919431,4.572693974919431,4.75242451523279,4.75242451523279,4.75242451523279,4.75242451523279,4.75242451523279,4.75242451523279,4.75242451523279,4.75242451523279,4.75242451523279,4.75242451523279,4.75242451523279,4.75242451523279,4.75242451523279,4.75242451523279,4.75242451523279,4.75242451523279,4.75242451523279,4.75242451523279,4.75242451523279,4.75242451523279,4.75242451523279,4.75242451523279,4.75242451523279,4.75242451523279,4.75242451523279,4.75242451523279,4.932155055546149,4.932155055546149,4.932155055546149,4.932155055546149,4.932155055546149,4.932155055546149,4.932155055546149,4.932155055546149,4.932155055546149,4.932155055546149,4.932155055546149,4.932155055546149,4.932155055546149,4.932155055546149,4.932155055546149,4.932155055546149,4.932155055546149,4.932155055546149,4.932155055546149,4.932155055546149,4.932155055546149,4.932155055546149,4.932155055546149,4.932155055546149,4.932155055546149,4.932155055546149],\"yaxis\":\"y\",\"type\":\"scattergl\"},{\"hovertemplate\":\"pred_label=0\\u003cbr\\u003ecomp0=%{x}\\u003cbr\\u003ecomp1=%{y}\\u003cbr\\u003epred_prob=%{marker.color}\\u003cextra\\u003e\\u003c\\u002fextra\\u003e\",\"legendgroup\":\"0\",\"marker\":{\"color\":[0.3657142857142857,0.3657142857142857,0.3657142857142857,0.3657142857142857,0.2857142857142857,0.4,0.4,0.4,0.4,0.2,0.2,0.2,0.2,0.0,0.0,0.0,0.0,0.0,0.0,0.0,0.0,0.0,0.0,0.0,0.0,0.0,0.0,0.0,0.0,0.0,0.0,0.0,0.0,0.0,0.0,0.0,0.0,0.0,0.0,0.0,0.0,0.0,0.0,0.0,0.0,0.0,0.0,0.3657142857142857,0.3657142857142857,0.3657142857142857,0.2857142857142857,0.4,0.4,0.4,0.4,0.2,0.2,0.2,0.2,0.0,0.0,0.0,0.0,0.0,0.0,0.0,0.0,0.0,0.0,0.0,0.0,0.0,0.0,0.0,0.0,0.0,0.0,0.0,0.0,0.0,0.0,0.0,0.0,0.0,0.0,0.0,0.0,0.0,0.0,0.0,0.0,0.0,0.0,0.3657142857142857,0.3657142857142857,0.3657142857142857,0.3657142857142857,0.2857142857142857,0.4,0.4,0.4,0.2,0.2,0.2,0.2,0.0,0.0,0.0,0.0,0.0,0.0,0.0,0.0,0.0,0.0,0.0,0.0,0.0,0.0,0.0,0.0,0.0,0.0,0.0,0.0,0.0,0.0,0.0,0.0,0.0,0.0,0.0,0.0,0.0,0.0,0.0,0.0,0.0,0.0,0.3657142857142857,0.3657142857142857,0.3657142857142857,0.2857142857142857,0.4,0.4,0.4,0.2,0.2,0.2,0.2,0.0,0.0,0.0,0.0,0.0,0.0,0.0,0.0,0.0,0.0,0.0,0.0,0.0,0.0,0.0,0.0,0.0,0.0,0.0,0.0,0.0,0.0,0.0,0.0,0.0,0.0,0.0,0.0,0.0,0.0,0.0,0.0,0.0,0.0,0.3657142857142857,0.3657142857142857,0.3657142857142857,0.3657142857142857,0.4,0.4,0.4,0.2,0.2,0.2,0.2,0.0,0.0,0.0,0.0,0.0,0.0,0.0,0.0,0.0,0.0,0.0,0.0,0.0,0.0,0.0,0.0,0.0,0.0,0.0,0.0,0.0,0.0,0.0,0.0,0.0,0.0,0.0,0.0,0.0,0.0,0.0,0.0,0.0,0.0,0.3657142857142857,0.3657142857142857,0.3657142857142857,0.3657142857142857,0.2857142857142857,0.4,0.4,0.2,0.2,0.2,0.0,0.0,0.0,0.0,0.0,0.0,0.0,0.0,0.0,0.0,0.0,0.0,0.0,0.0,0.0,0.0,0.0,0.0,0.0,0.0,0.0,0.0,0.0,0.0,0.0,0.0,0.0,0.0,0.0,0.0,0.0,0.0,0.0,0.0,0.0,0.3657142857142857,0.3657142857142857,0.3657142857142857,0.2857142857142857,0.4,0.4,0.2,0.2,0.2,0.0,0.0,0.0,0.0,0.0,0.0,0.0,0.0,0.0,0.0,0.0,0.0,0.0,0.0,0.0,0.0,0.0,0.0,0.0,0.0,0.0,0.0,0.0,0.0,0.0,0.0,0.0,0.0,0.0,0.0,0.0,0.0,0.0,0.0,0.0,0.3657142857142857,0.3657142857142857,0.3657142857142857,0.3657142857142857,0.2857142857142857,0.4,0.2,0.2,0.2,0.0,0.0,0.0,0.0,0.0,0.0,0.0,0.0,0.0,0.0,0.0,0.0,0.0,0.0,0.0,0.0,0.0,0.0,0.0,0.0,0.0,0.0,0.0,0.0,0.0,0.0,0.0,0.0,0.0,0.0,0.0,0.0,0.0,0.0,0.0,0.3657142857142857,0.3657142857142857,0.3657142857142857,0.2857142857142857,0.4,0.2,0.2,0.2,0.0,0.0,0.0,0.0,0.0,0.0,0.0,0.0,0.0,0.0,0.0,0.0,0.0,0.0,0.0,0.0,0.0,0.0,0.0,0.0,0.0,0.0,0.0,0.0,0.0,0.0,0.0,0.0,0.0,0.0,0.0,0.0,0.0,0.0,0.0,0.3657142857142857,0.3657142857142857,0.3657142857142857,0.2857142857142857,0.4,0.2,0.2,0.0,0.0,0.0,0.0,0.0,0.0,0.0,0.0,0.0,0.0,0.0,0.0,0.0,0.0,0.0,0.0,0.0,0.0,0.0,0.0,0.0,0.0,0.0,0.0,0.0,0.0,0.0,0.0,0.0,0.0,0.0,0.0,0.0,0.0,0.0,0.0,0.3657142857142857,0.3657142857142857,0.3657142857142857,0.3657142857142857,0.2857142857142857,0.2,0.2,0.0,0.0,0.0,0.0,0.0,0.0,0.0,0.0,0.0,0.0,0.0,0.0,0.0,0.0,0.0,0.0,0.0,0.0,0.0,0.0,0.0,0.0,0.0,0.0,0.0,0.0,0.0,0.0,0.0,0.0,0.0,0.0,0.0,0.0,0.0,0.0,0.3657142857142857,0.3657142857142857,0.3657142857142857,0.2857142857142857,0.2,0.2,0.0,0.0,0.0,0.0,0.0,0.0,0.0,0.0,0.0,0.0,0.0,0.0,0.0,0.0,0.0,0.0,0.0,0.0,0.0,0.0,0.0,0.0,0.0,0.0,0.0,0.0,0.0,0.0,0.0,0.0,0.0,0.0,0.0,0.0,0.0,0.0,0.3657142857142857,0.3657142857142857,0.3657142857142857,0.3657142857142857,0.2,0.2,0.0,0.0,0.0,0.0,0.0,0.0,0.0,0.0,0.0,0.0,0.0,0.0,0.0,0.0,0.0,0.0,0.0,0.0,0.0,0.0,0.0,0.0,0.0,0.0,0.0,0.0,0.0,0.0,0.0,0.0,0.0,0.0,0.0,0.0,0.0,0.0,0.3657142857142857,0.3657142857142857,0.3657142857142857,0.3657142857142857,0.08571428571428572,0.2,0.0,0.0,0.0,0.0,0.0,0.0,0.0,0.0,0.0,0.0,0.0,0.0,0.0,0.0,0.0,0.0,0.0,0.0,0.0,0.0,0.0,0.0,0.0,0.0,0.0,0.0,0.0,0.0,0.0,0.0,0.0,0.0,0.0,0.0,0.0,0.0,0.3657142857142857,0.3657142857142857,0.3657142857142857,0.08571428571428572,0.0,0.0,0.0,0.0,0.0,0.0,0.0,0.0,0.0,0.0,0.0,0.0,0.0,0.0,0.0,0.0,0.0,0.0,0.0,0.0,0.0,0.0,0.0,0.0,0.0,0.0,0.0,0.0,0.0,0.0,0.0,0.0,0.0,0.0,0.0,0.0,0.0,0.3657142857142857,0.3657142857142857,0.3657142857142857,0.1657142857142857,0.08571428571428572,0.0,0.0,0.0,0.0,0.0,0.0,0.0,0.0,0.0,0.0,0.0,0.0,0.0,0.0,0.0,0.0,0.0,0.0,0.0,0.0,0.0,0.0,0.0,0.0,0.0,0.0,0.0,0.0,0.0,0.0,0.0,0.0,0.0,0.0,0.0,0.0,0.3657142857142857,0.3657142857142857,0.27999999999999997,0.2,0.0,0.0,0.0,0.0,0.0,0.0,0.0,0.0,0.0,0.0,0.0,0.0,0.0,0.0,0.0,0.0,0.0,0.0,0.0,0.0,0.0,0.0,0.0,0.0,0.0,0.0,0.0,0.0,0.0,0.0,0.0,0.0,0.0,0.0,0.0,0.0,0.27999999999999997,0.27999999999999997,0.0,0.0,0.0,0.0,0.0,0.0,0.0,0.0,0.0,0.0,0.0,0.0,0.0,0.0,0.0,0.0,0.0,0.0,0.0,0.0,0.0,0.0,0.0,0.0,0.0,0.0,0.0,0.0,0.0,0.0,0.0,0.0,0.0,0.0,0.0,0.0,0.40499999999999997,0.27999999999999997,0.2,0.0,0.0,0.0,0.0,0.0,0.0,0.0,0.0,0.0,0.0,0.0,0.0,0.0,0.0,0.0,0.0,0.0,0.0,0.0,0.0,0.0,0.0,0.0,0.0,0.0,0.0,0.0,0.0,0.0,0.0,0.0,0.0,0.0,0.0,0.0,0.40499999999999997,0.2,0.0,0.0,0.0,0.0,0.0,0.0,0.0,0.0,0.0,0.0,0.0,0.0,0.0,0.0,0.0,0.0,0.0,0.0,0.0,0.0,0.0,0.0,0.0,0.0,0.0,0.0,0.0,0.0,0.0,0.0,0.0,0.0,0.0,0.0,0.0,0.40499999999999997,0.125,0.0,0.0,0.0,0.0,0.0,0.0,0.0,0.0,0.0,0.0,0.0,0.0,0.0,0.0,0.0,0.0,0.0,0.0,0.0,0.0,0.0,0.0,0.0,0.0,0.0,0.0,0.0,0.0,0.0,0.0,0.0,0.0,0.0,0.0,0.4583333333333333,0.125,0.0,0.0,0.0,0.0,0.0,0.0,0.0,0.0,0.0,0.0,0.0,0.0,0.0,0.0,0.0,0.0,0.0,0.0,0.0,0.0,0.0,0.0,0.0,0.0,0.0,0.0,0.0,0.0,0.0,0.0,0.0,0.0,0.0,0.41833333333333333,0.125,0.125,0.0,0.0,0.0,0.0,0.0,0.0,0.0,0.0,0.0,0.0,0.0,0.0,0.0,0.0,0.0,0.0,0.0,0.0,0.0,0.0,0.0,0.0,0.0,0.0,0.0,0.0,0.0,0.0,0.0,0.0,0.0,0.49215686274509807,0.125,0.0,0.0,0.0,0.0,0.0,0.0,0.0,0.0,0.0,0.0,0.0,0.0,0.0,0.0,0.0,0.0,0.0,0.0,0.0,0.0,0.0,0.0,0.0,0.0,0.0,0.0,0.0,0.0,0.0,0.0,0.0,0.49215686274509807,0.49215686274509807,0.0,0.0,0.0,0.0,0.0,0.0,0.0,0.0,0.0,0.0,0.0,0.0,0.0,0.0,0.0,0.0,0.0,0.0,0.0,0.0,0.0,0.0,0.0,0.0,0.0,0.0,0.0,0.0,0.0,0.0,0.0,0.49215686274509807,0.29333333333333333,0.0,0.0,0.0,0.0,0.0,0.0,0.0,0.0,0.0,0.0,0.0,0.0,0.0,0.0,0.0,0.0,0.0,0.0,0.0,0.0,0.0,0.0,0.0,0.0,0.0,0.0,0.0,0.0,0.0,0.0,0.4283269373961853,0.49215686274509807,0.29333333333333333,0.20476190476190476,0.0,0.0,0.0,0.0,0.0,0.0,0.0,0.0,0.0,0.0,0.0,0.0,0.0,0.0,0.0,0.0,0.0,0.0,0.0,0.0,0.0,0.0,0.0,0.0,0.0,0.0,0.0,0.0,0.4283269373961853,0.29333333333333333,0.20476190476190476,0.20476190476190476,0.0,0.0,0.0,0.0,0.0,0.0,0.0,0.0,0.0,0.0,0.0,0.0,0.0,0.0,0.0,0.0,0.0,0.0,0.0,0.0,0.0,0.0,0.0,0.0,0.0,0.0,0.0,0.1021978021978022,0.20476190476190476,0.20476190476190476,0.20476190476190476,0.0,0.0,0.0,0.0,0.0,0.0,0.0,0.0,0.0,0.0,0.0,0.0,0.0,0.0,0.0,0.0,0.0,0.0,0.0,0.0,0.0,0.0,0.0,0.0,0.0,0.0,0.1021978021978022,0.1021978021978022,0.20476190476190476,0.20476190476190476,0.0,0.0,0.0,0.0,0.0,0.0,0.0,0.0,0.0,0.0,0.0,0.0,0.0,0.0,0.0,0.0,0.0,0.0,0.0,0.0,0.0,0.0,0.0,0.0,0.0,0.1021978021978022,0.1021978021978022,0.1021978021978022,0.20476190476190476,0.20476190476190476,0.13333333333333333,0.0,0.0,0.0,0.0,0.0,0.0,0.0,0.0,0.0,0.0,0.0,0.0,0.0,0.0,0.0,0.0,0.0,0.0,0.0,0.0,0.0,0.0,0.0,0.3021978021978022,0.1021978021978022,0.1021978021978022,0.1021978021978022,0.1021978021978022,0.20476190476190476,0.20476190476190476,0.0,0.0,0.0,0.0,0.0,0.0,0.0,0.0,0.0,0.0,0.0,0.0,0.0,0.0,0.0,0.0,0.0,0.0,0.0,0.0,0.0,0.0,0.3021978021978022,0.3021978021978022,0.1021978021978022,0.1021978021978022,0.1021978021978022,0.1021978021978022,0.20476190476190476,0.20476190476190476,0.0,0.0,0.0,0.0,0.0,0.0,0.0,0.0,0.0,0.0,0.0,0.0,0.0,0.0,0.0,0.0,0.0,0.0,0.0,0.0,0.0,0.3021978021978022,0.3021978021978022,0.1021978021978022,0.1021978021978022,0.1021978021978022,0.1021978021978022,0.20476190476190476,0.20476190476190476,0.0,0.0,0.0,0.0,0.0,0.0,0.0,0.0,0.0,0.0,0.0,0.0,0.0,0.0,0.0,0.0,0.0,0.0,0.0,0.0,0.3021978021978022,0.3021978021978022,0.1021978021978022,0.1021978021978022,0.1021978021978022,0.1021978021978022,0.1021978021978022,0.1021978021978022,0.20476190476190476,0.0,0.0,0.0,0.0,0.0,0.0,0.0,0.0,0.0,0.0,0.0,0.0,0.0,0.0,0.0,0.0,0.0,0.0,0.0,0.3021978021978022,0.3021978021978022,0.3021978021978022,0.1021978021978022,0.1021978021978022,0.1021978021978022,0.1021978021978022,0.1021978021978022,0.1021978021978022,0.20476190476190476,0.13333333333333333,0.0,0.0,0.0,0.0,0.0,0.0,0.0,0.0,0.0,0.0,0.0,0.0,0.0,0.0,0.0,0.0,0.0,0.3021978021978022,0.3021978021978022,0.3021978021978022,0.3021978021978022,0.1021978021978022,0.1021978021978022,0.1021978021978022,0.1021978021978022,0.1021978021978022,0.1021978021978022,0.1021978021978022,0.20476190476190476,0.0,0.0,0.0,0.0,0.0,0.0,0.0,0.0,0.0,0.0,0.0,0.0,0.0,0.0,0.0,0.0,0.3021978021978022,0.3021978021978022,0.3021978021978022,0.1021978021978022,0.1021978021978022,0.1021978021978022,0.1021978021978022,0.1021978021978022,0.1021978021978022,0.1021978021978022,0.1021978021978022,0.20476190476190476,0.0,0.0,0.0,0.0,0.0,0.0,0.0,0.0,0.0,0.0,0.0,0.0,0.0,0.0,0.0,0.3021978021978022,0.3021978021978022,0.3021978021978022,0.3021978021978022,0.1021978021978022,0.1021978021978022,0.1021978021978022,0.1021978021978022,0.1021978021978022,0.1021978021978022,0.1021978021978022,0.1021978021978022,0.20476190476190476,0.0,0.0,0.0,0.0,0.0,0.0,0.0,0.0,0.0,0.0,0.0,0.0,0.0,0.0,0.3021978021978022,0.3021978021978022,0.3021978021978022,0.3021978021978022,0.3021978021978022,0.1021978021978022,0.1021978021978022,0.1021978021978022,0.1021978021978022,0.1021978021978022,0.1021978021978022,0.1021978021978022,0.1021978021978022,0.1021978021978022,0.0,0.0,0.0,0.0,0.0,0.0,0.0,0.0,0.0,0.0,0.0,0.0,0.0,0.3021978021978022,0.3021978021978022,0.3021978021978022,0.3021978021978022,0.3021978021978022,0.3021978021978022,0.1021978021978022,0.1021978021978022,0.1021978021978022,0.1021978021978022,0.1021978021978022,0.1021978021978022,0.1021978021978022,0.1021978021978022,0.1021978021978022,0.20476190476190476,0.0,0.0,0.0,0.0,0.0,0.0,0.0,0.0,0.0,0.0,0.0,0.3021978021978022,0.3021978021978022,0.3021978021978022,0.3021978021978022,0.3021978021978022,0.1021978021978022,0.1021978021978022,0.1021978021978022,0.1021978021978022,0.1021978021978022,0.1021978021978022,0.1021978021978022,0.1021978021978022,0.1021978021978022,0.1021978021978022,0.20476190476190476,0.0,0.0,0.0,0.0,0.0,0.0,0.0,0.0,0.0,0.0,0.3021978021978022,0.3021978021978022,0.3021978021978022,0.3021978021978022,0.3021978021978022,0.3021978021978022,0.1021978021978022,0.1021978021978022,0.1021978021978022,0.1021978021978022,0.1021978021978022,0.1021978021978022,0.1021978021978022,0.1021978021978022,0.1021978021978022,0.1021978021978022,0.1021978021978022,0.0,0.0,0.0,0.0,0.0,0.0,0.0,0.0,0.0,0.3021978021978022,0.3021978021978022,0.3021978021978022,0.3021978021978022,0.3021978021978022,0.3021978021978022,0.3021978021978022,0.1021978021978022,0.1021978021978022,0.1021978021978022,0.1021978021978022,0.1021978021978022,0.1021978021978022,0.1021978021978022,0.1021978021978022,0.1021978021978022,0.1021978021978022,0.1021978021978022,0.0,0.0,0.0,0.0,0.0,0.0,0.0,0.0,0.3021978021978022,0.3021978021978022,0.3021978021978022,0.3021978021978022,0.3021978021978022,0.3021978021978022,0.1021978021978022,0.1021978021978022,0.1021978021978022,0.1021978021978022,0.1021978021978022,0.1021978021978022,0.1021978021978022,0.1021978021978022,0.1021978021978022,0.1021978021978022,0.1021978021978022,0.1021978021978022,0.03076923076923077,0.0,0.0,0.0,0.0,0.0,0.0,0.3021978021978022,0.3021978021978022,0.3021978021978022,0.3021978021978022,0.3021978021978022,0.3021978021978022,0.3021978021978022,0.1021978021978022,0.1021978021978022,0.1021978021978022,0.1021978021978022,0.1021978021978022,0.1021978021978022,0.1021978021978022,0.1021978021978022,0.1021978021978022,0.1021978021978022,0.1021978021978022,0.1021978021978022,0.1021978021978022,0.0,0.0,0.0,0.0,0.0,0.3021978021978022,0.3021978021978022,0.3021978021978022,0.3021978021978022,0.3021978021978022,0.3021978021978022,0.3021978021978022,0.3021978021978022,0.1021978021978022,0.1021978021978022,0.1021978021978022,0.1021978021978022,0.1021978021978022,0.1021978021978022,0.1021978021978022,0.1021978021978022,0.1021978021978022,0.1021978021978022,0.1021978021978022,0.1021978021978022,0.1021978021978022,0.0,0.0,0.0,0.0,0.3021978021978022,0.3021978021978022,0.3021978021978022,0.3021978021978022,0.3021978021978022,0.3021978021978022,0.3021978021978022,0.3021978021978022,0.1021978021978022,0.1021978021978022,0.1021978021978022,0.1021978021978022,0.1021978021978022,0.1021978021978022,0.1021978021978022,0.1021978021978022,0.1021978021978022,0.1021978021978022,0.1021978021978022,0.1021978021978022,0.1021978021978022,0.03076923076923077,0.0,0.0,0.3021978021978022,0.3021978021978022,0.3021978021978022,0.3021978021978022,0.3021978021978022,0.3021978021978022,0.3021978021978022,0.3021978021978022,0.1021978021978022,0.1021978021978022,0.1021978021978022,0.1021978021978022,0.1021978021978022,0.1021978021978022,0.1021978021978022,0.1021978021978022,0.1021978021978022,0.1021978021978022,0.1021978021978022,0.1021978021978022,0.1021978021978022,0.1021978021978022,0.03076923076923077,0.0,0.3021978021978022,0.3021978021978022,0.3021978021978022,0.3021978021978022,0.3021978021978022,0.3021978021978022,0.3021978021978022,0.3021978021978022,0.3021978021978022,0.1021978021978022,0.1021978021978022,0.1021978021978022,0.1021978021978022,0.1021978021978022,0.1021978021978022,0.1021978021978022,0.1021978021978022,0.1021978021978022,0.1021978021978022,0.1021978021978022,0.1021978021978022,0.1021978021978022,0.1021978021978022,0.1021978021978022],\"coloraxis\":\"coloraxis\",\"symbol\":\"diamond\"},\"mode\":\"markers\",\"name\":\"0\",\"showlegend\":true,\"x\":[-1.2191850223807537,-1.10664632556029,-0.9941076287398264,-0.8815689319193627,-0.7690302350988991,-0.6564915382784354,-0.5439528414579717,-0.43141414463750816,-0.3188754478170446,-0.20633675099658078,-0.0937980541761172,0.018740642644346384,0.13127933946481019,0.24381803628527376,0.35635673310573734,0.46889542992620115,0.5814341267466645,0.6939728235671283,0.8065115203875921,0.9190502172080555,1.0315889140285193,1.144127610848983,1.2566663076694464,1.3692050044899102,1.481743701310374,1.5942823981308374,1.7068210949513012,1.819359791771765,1.9318984885922283,2.044437185412692,2.156975882233156,2.2695145790536193,2.382053275874083,2.494591972694547,2.6071306695150103,2.7196693663354736,2.832208063155938,2.9447467599764012,3.0572854567968646,3.169824153617329,3.282362850437792,3.3949015472582555,3.50744024407872,3.619978940899183,3.7325176377196465,3.8450563345401108,3.9575950313605737,-1.10664632556029,-0.9941076287398264,-0.8815689319193627,-0.7690302350988991,-0.6564915382784354,-0.5439528414579717,-0.43141414463750816,-0.3188754478170446,-0.20633675099658078,-0.0937980541761172,0.018740642644346384,0.13127933946481019,0.24381803628527376,0.35635673310573734,0.46889542992620115,0.5814341267466645,0.6939728235671283,0.8065115203875921,0.9190502172080555,1.0315889140285193,1.144127610848983,1.2566663076694464,1.3692050044899102,1.481743701310374,1.5942823981308374,1.7068210949513012,1.819359791771765,1.9318984885922283,2.044437185412692,2.156975882233156,2.2695145790536193,2.382053275874083,2.494591972694547,2.6071306695150103,2.7196693663354736,2.832208063155938,2.9447467599764012,3.0572854567968646,3.169824153617329,3.282362850437792,3.3949015472582555,3.50744024407872,3.619978940899183,3.7325176377196465,3.8450563345401108,3.9575950313605737,-1.10664632556029,-0.9941076287398264,-0.8815689319193627,-0.7690302350988991,-0.6564915382784354,-0.5439528414579717,-0.43141414463750816,-0.3188754478170446,-0.20633675099658078,-0.0937980541761172,0.018740642644346384,0.13127933946481019,0.24381803628527376,0.35635673310573734,0.46889542992620115,0.5814341267466645,0.6939728235671283,0.8065115203875921,0.9190502172080555,1.0315889140285193,1.144127610848983,1.2566663076694464,1.3692050044899102,1.481743701310374,1.5942823981308374,1.7068210949513012,1.819359791771765,1.9318984885922283,2.044437185412692,2.156975882233156,2.2695145790536193,2.382053275874083,2.494591972694547,2.6071306695150103,2.7196693663354736,2.832208063155938,2.9447467599764012,3.0572854567968646,3.169824153617329,3.282362850437792,3.3949015472582555,3.50744024407872,3.619978940899183,3.7325176377196465,3.8450563345401108,3.9575950313605737,-0.9941076287398264,-0.8815689319193627,-0.7690302350988991,-0.6564915382784354,-0.5439528414579717,-0.43141414463750816,-0.3188754478170446,-0.20633675099658078,-0.0937980541761172,0.018740642644346384,0.13127933946481019,0.24381803628527376,0.35635673310573734,0.46889542992620115,0.5814341267466645,0.6939728235671283,0.8065115203875921,0.9190502172080555,1.0315889140285193,1.144127610848983,1.2566663076694464,1.3692050044899102,1.481743701310374,1.5942823981308374,1.7068210949513012,1.819359791771765,1.9318984885922283,2.044437185412692,2.156975882233156,2.2695145790536193,2.382053275874083,2.494591972694547,2.6071306695150103,2.7196693663354736,2.832208063155938,2.9447467599764012,3.0572854567968646,3.169824153617329,3.282362850437792,3.3949015472582555,3.50744024407872,3.619978940899183,3.7325176377196465,3.8450563345401108,3.9575950313605737,-0.9941076287398264,-0.8815689319193627,-0.7690302350988991,-0.6564915382784354,-0.5439528414579717,-0.43141414463750816,-0.3188754478170446,-0.20633675099658078,-0.0937980541761172,0.018740642644346384,0.13127933946481019,0.24381803628527376,0.35635673310573734,0.46889542992620115,0.5814341267466645,0.6939728235671283,0.8065115203875921,0.9190502172080555,1.0315889140285193,1.144127610848983,1.2566663076694464,1.3692050044899102,1.481743701310374,1.5942823981308374,1.7068210949513012,1.819359791771765,1.9318984885922283,2.044437185412692,2.156975882233156,2.2695145790536193,2.382053275874083,2.494591972694547,2.6071306695150103,2.7196693663354736,2.832208063155938,2.9447467599764012,3.0572854567968646,3.169824153617329,3.282362850437792,3.3949015472582555,3.50744024407872,3.619978940899183,3.7325176377196465,3.8450563345401108,3.9575950313605737,-0.9941076287398264,-0.8815689319193627,-0.7690302350988991,-0.6564915382784354,-0.5439528414579717,-0.43141414463750816,-0.3188754478170446,-0.20633675099658078,-0.0937980541761172,0.018740642644346384,0.13127933946481019,0.24381803628527376,0.35635673310573734,0.46889542992620115,0.5814341267466645,0.6939728235671283,0.8065115203875921,0.9190502172080555,1.0315889140285193,1.144127610848983,1.2566663076694464,1.3692050044899102,1.481743701310374,1.5942823981308374,1.7068210949513012,1.819359791771765,1.9318984885922283,2.044437185412692,2.156975882233156,2.2695145790536193,2.382053275874083,2.494591972694547,2.6071306695150103,2.7196693663354736,2.832208063155938,2.9447467599764012,3.0572854567968646,3.169824153617329,3.282362850437792,3.3949015472582555,3.50744024407872,3.619978940899183,3.7325176377196465,3.8450563345401108,3.9575950313605737,-0.8815689319193627,-0.7690302350988991,-0.6564915382784354,-0.5439528414579717,-0.43141414463750816,-0.3188754478170446,-0.20633675099658078,-0.0937980541761172,0.018740642644346384,0.13127933946481019,0.24381803628527376,0.35635673310573734,0.46889542992620115,0.5814341267466645,0.6939728235671283,0.8065115203875921,0.9190502172080555,1.0315889140285193,1.144127610848983,1.2566663076694464,1.3692050044899102,1.481743701310374,1.5942823981308374,1.7068210949513012,1.819359791771765,1.9318984885922283,2.044437185412692,2.156975882233156,2.2695145790536193,2.382053275874083,2.494591972694547,2.6071306695150103,2.7196693663354736,2.832208063155938,2.9447467599764012,3.0572854567968646,3.169824153617329,3.282362850437792,3.3949015472582555,3.50744024407872,3.619978940899183,3.7325176377196465,3.8450563345401108,3.9575950313605737,-0.8815689319193627,-0.7690302350988991,-0.6564915382784354,-0.5439528414579717,-0.43141414463750816,-0.3188754478170446,-0.20633675099658078,-0.0937980541761172,0.018740642644346384,0.13127933946481019,0.24381803628527376,0.35635673310573734,0.46889542992620115,0.5814341267466645,0.6939728235671283,0.8065115203875921,0.9190502172080555,1.0315889140285193,1.144127610848983,1.2566663076694464,1.3692050044899102,1.481743701310374,1.5942823981308374,1.7068210949513012,1.819359791771765,1.9318984885922283,2.044437185412692,2.156975882233156,2.2695145790536193,2.382053275874083,2.494591972694547,2.6071306695150103,2.7196693663354736,2.832208063155938,2.9447467599764012,3.0572854567968646,3.169824153617329,3.282362850437792,3.3949015472582555,3.50744024407872,3.619978940899183,3.7325176377196465,3.8450563345401108,3.9575950313605737,-0.7690302350988991,-0.6564915382784354,-0.5439528414579717,-0.43141414463750816,-0.3188754478170446,-0.20633675099658078,-0.0937980541761172,0.018740642644346384,0.13127933946481019,0.24381803628527376,0.35635673310573734,0.46889542992620115,0.5814341267466645,0.6939728235671283,0.8065115203875921,0.9190502172080555,1.0315889140285193,1.144127610848983,1.2566663076694464,1.3692050044899102,1.481743701310374,1.5942823981308374,1.7068210949513012,1.819359791771765,1.9318984885922283,2.044437185412692,2.156975882233156,2.2695145790536193,2.382053275874083,2.494591972694547,2.6071306695150103,2.7196693663354736,2.832208063155938,2.9447467599764012,3.0572854567968646,3.169824153617329,3.282362850437792,3.3949015472582555,3.50744024407872,3.619978940899183,3.7325176377196465,3.8450563345401108,3.9575950313605737,-0.7690302350988991,-0.6564915382784354,-0.5439528414579717,-0.43141414463750816,-0.3188754478170446,-0.20633675099658078,-0.0937980541761172,0.018740642644346384,0.13127933946481019,0.24381803628527376,0.35635673310573734,0.46889542992620115,0.5814341267466645,0.6939728235671283,0.8065115203875921,0.9190502172080555,1.0315889140285193,1.144127610848983,1.2566663076694464,1.3692050044899102,1.481743701310374,1.5942823981308374,1.7068210949513012,1.819359791771765,1.9318984885922283,2.044437185412692,2.156975882233156,2.2695145790536193,2.382053275874083,2.494591972694547,2.6071306695150103,2.7196693663354736,2.832208063155938,2.9447467599764012,3.0572854567968646,3.169824153617329,3.282362850437792,3.3949015472582555,3.50744024407872,3.619978940899183,3.7325176377196465,3.8450563345401108,3.9575950313605737,-0.7690302350988991,-0.6564915382784354,-0.5439528414579717,-0.43141414463750816,-0.3188754478170446,-0.20633675099658078,-0.0937980541761172,0.018740642644346384,0.13127933946481019,0.24381803628527376,0.35635673310573734,0.46889542992620115,0.5814341267466645,0.6939728235671283,0.8065115203875921,0.9190502172080555,1.0315889140285193,1.144127610848983,1.2566663076694464,1.3692050044899102,1.481743701310374,1.5942823981308374,1.7068210949513012,1.819359791771765,1.9318984885922283,2.044437185412692,2.156975882233156,2.2695145790536193,2.382053275874083,2.494591972694547,2.6071306695150103,2.7196693663354736,2.832208063155938,2.9447467599764012,3.0572854567968646,3.169824153617329,3.282362850437792,3.3949015472582555,3.50744024407872,3.619978940899183,3.7325176377196465,3.8450563345401108,3.9575950313605737,-0.6564915382784354,-0.5439528414579717,-0.43141414463750816,-0.3188754478170446,-0.20633675099658078,-0.0937980541761172,0.018740642644346384,0.13127933946481019,0.24381803628527376,0.35635673310573734,0.46889542992620115,0.5814341267466645,0.6939728235671283,0.8065115203875921,0.9190502172080555,1.0315889140285193,1.144127610848983,1.2566663076694464,1.3692050044899102,1.481743701310374,1.5942823981308374,1.7068210949513012,1.819359791771765,1.9318984885922283,2.044437185412692,2.156975882233156,2.2695145790536193,2.382053275874083,2.494591972694547,2.6071306695150103,2.7196693663354736,2.832208063155938,2.9447467599764012,3.0572854567968646,3.169824153617329,3.282362850437792,3.3949015472582555,3.50744024407872,3.619978940899183,3.7325176377196465,3.8450563345401108,3.9575950313605737,-0.6564915382784354,-0.5439528414579717,-0.43141414463750816,-0.3188754478170446,-0.20633675099658078,-0.0937980541761172,0.018740642644346384,0.13127933946481019,0.24381803628527376,0.35635673310573734,0.46889542992620115,0.5814341267466645,0.6939728235671283,0.8065115203875921,0.9190502172080555,1.0315889140285193,1.144127610848983,1.2566663076694464,1.3692050044899102,1.481743701310374,1.5942823981308374,1.7068210949513012,1.819359791771765,1.9318984885922283,2.044437185412692,2.156975882233156,2.2695145790536193,2.382053275874083,2.494591972694547,2.6071306695150103,2.7196693663354736,2.832208063155938,2.9447467599764012,3.0572854567968646,3.169824153617329,3.282362850437792,3.3949015472582555,3.50744024407872,3.619978940899183,3.7325176377196465,3.8450563345401108,3.9575950313605737,-0.6564915382784354,-0.5439528414579717,-0.43141414463750816,-0.3188754478170446,-0.20633675099658078,-0.0937980541761172,0.018740642644346384,0.13127933946481019,0.24381803628527376,0.35635673310573734,0.46889542992620115,0.5814341267466645,0.6939728235671283,0.8065115203875921,0.9190502172080555,1.0315889140285193,1.144127610848983,1.2566663076694464,1.3692050044899102,1.481743701310374,1.5942823981308374,1.7068210949513012,1.819359791771765,1.9318984885922283,2.044437185412692,2.156975882233156,2.2695145790536193,2.382053275874083,2.494591972694547,2.6071306695150103,2.7196693663354736,2.832208063155938,2.9447467599764012,3.0572854567968646,3.169824153617329,3.282362850437792,3.3949015472582555,3.50744024407872,3.619978940899183,3.7325176377196465,3.8450563345401108,3.9575950313605737,-0.5439528414579717,-0.43141414463750816,-0.3188754478170446,-0.20633675099658078,-0.0937980541761172,0.018740642644346384,0.13127933946481019,0.24381803628527376,0.35635673310573734,0.46889542992620115,0.5814341267466645,0.6939728235671283,0.8065115203875921,0.9190502172080555,1.0315889140285193,1.144127610848983,1.2566663076694464,1.3692050044899102,1.481743701310374,1.5942823981308374,1.7068210949513012,1.819359791771765,1.9318984885922283,2.044437185412692,2.156975882233156,2.2695145790536193,2.382053275874083,2.494591972694547,2.6071306695150103,2.7196693663354736,2.832208063155938,2.9447467599764012,3.0572854567968646,3.169824153617329,3.282362850437792,3.3949015472582555,3.50744024407872,3.619978940899183,3.7325176377196465,3.8450563345401108,3.9575950313605737,-0.5439528414579717,-0.43141414463750816,-0.3188754478170446,-0.20633675099658078,-0.0937980541761172,0.018740642644346384,0.13127933946481019,0.24381803628527376,0.35635673310573734,0.46889542992620115,0.5814341267466645,0.6939728235671283,0.8065115203875921,0.9190502172080555,1.0315889140285193,1.144127610848983,1.2566663076694464,1.3692050044899102,1.481743701310374,1.5942823981308374,1.7068210949513012,1.819359791771765,1.9318984885922283,2.044437185412692,2.156975882233156,2.2695145790536193,2.382053275874083,2.494591972694547,2.6071306695150103,2.7196693663354736,2.832208063155938,2.9447467599764012,3.0572854567968646,3.169824153617329,3.282362850437792,3.3949015472582555,3.50744024407872,3.619978940899183,3.7325176377196465,3.8450563345401108,3.9575950313605737,-0.43141414463750816,-0.3188754478170446,-0.20633675099658078,-0.0937980541761172,0.018740642644346384,0.13127933946481019,0.24381803628527376,0.35635673310573734,0.46889542992620115,0.5814341267466645,0.6939728235671283,0.8065115203875921,0.9190502172080555,1.0315889140285193,1.144127610848983,1.2566663076694464,1.3692050044899102,1.481743701310374,1.5942823981308374,1.7068210949513012,1.819359791771765,1.9318984885922283,2.044437185412692,2.156975882233156,2.2695145790536193,2.382053275874083,2.494591972694547,2.6071306695150103,2.7196693663354736,2.832208063155938,2.9447467599764012,3.0572854567968646,3.169824153617329,3.282362850437792,3.3949015472582555,3.50744024407872,3.619978940899183,3.7325176377196465,3.8450563345401108,3.9575950313605737,-0.20633675099658078,-0.0937980541761172,0.018740642644346384,0.13127933946481019,0.24381803628527376,0.35635673310573734,0.46889542992620115,0.5814341267466645,0.6939728235671283,0.8065115203875921,0.9190502172080555,1.0315889140285193,1.144127610848983,1.2566663076694464,1.3692050044899102,1.481743701310374,1.5942823981308374,1.7068210949513012,1.819359791771765,1.9318984885922283,2.044437185412692,2.156975882233156,2.2695145790536193,2.382053275874083,2.494591972694547,2.6071306695150103,2.7196693663354736,2.832208063155938,2.9447467599764012,3.0572854567968646,3.169824153617329,3.282362850437792,3.3949015472582555,3.50744024407872,3.619978940899183,3.7325176377196465,3.8450563345401108,3.9575950313605737,-0.20633675099658078,-0.0937980541761172,0.018740642644346384,0.13127933946481019,0.24381803628527376,0.35635673310573734,0.46889542992620115,0.5814341267466645,0.6939728235671283,0.8065115203875921,0.9190502172080555,1.0315889140285193,1.144127610848983,1.2566663076694464,1.3692050044899102,1.481743701310374,1.5942823981308374,1.7068210949513012,1.819359791771765,1.9318984885922283,2.044437185412692,2.156975882233156,2.2695145790536193,2.382053275874083,2.494591972694547,2.6071306695150103,2.7196693663354736,2.832208063155938,2.9447467599764012,3.0572854567968646,3.169824153617329,3.282362850437792,3.3949015472582555,3.50744024407872,3.619978940899183,3.7325176377196465,3.8450563345401108,3.9575950313605737,-0.0937980541761172,0.018740642644346384,0.13127933946481019,0.24381803628527376,0.35635673310573734,0.46889542992620115,0.5814341267466645,0.6939728235671283,0.8065115203875921,0.9190502172080555,1.0315889140285193,1.144127610848983,1.2566663076694464,1.3692050044899102,1.481743701310374,1.5942823981308374,1.7068210949513012,1.819359791771765,1.9318984885922283,2.044437185412692,2.156975882233156,2.2695145790536193,2.382053275874083,2.494591972694547,2.6071306695150103,2.7196693663354736,2.832208063155938,2.9447467599764012,3.0572854567968646,3.169824153617329,3.282362850437792,3.3949015472582555,3.50744024407872,3.619978940899183,3.7325176377196465,3.8450563345401108,3.9575950313605737,0.018740642644346384,0.13127933946481019,0.24381803628527376,0.35635673310573734,0.46889542992620115,0.5814341267466645,0.6939728235671283,0.8065115203875921,0.9190502172080555,1.0315889140285193,1.144127610848983,1.2566663076694464,1.3692050044899102,1.481743701310374,1.5942823981308374,1.7068210949513012,1.819359791771765,1.9318984885922283,2.044437185412692,2.156975882233156,2.2695145790536193,2.382053275874083,2.494591972694547,2.6071306695150103,2.7196693663354736,2.832208063155938,2.9447467599764012,3.0572854567968646,3.169824153617329,3.282362850437792,3.3949015472582555,3.50744024407872,3.619978940899183,3.7325176377196465,3.8450563345401108,3.9575950313605737,0.13127933946481019,0.24381803628527376,0.35635673310573734,0.46889542992620115,0.5814341267466645,0.6939728235671283,0.8065115203875921,0.9190502172080555,1.0315889140285193,1.144127610848983,1.2566663076694464,1.3692050044899102,1.481743701310374,1.5942823981308374,1.7068210949513012,1.819359791771765,1.9318984885922283,2.044437185412692,2.156975882233156,2.2695145790536193,2.382053275874083,2.494591972694547,2.6071306695150103,2.7196693663354736,2.832208063155938,2.9447467599764012,3.0572854567968646,3.169824153617329,3.282362850437792,3.3949015472582555,3.50744024407872,3.619978940899183,3.7325176377196465,3.8450563345401108,3.9575950313605737,0.24381803628527376,0.35635673310573734,0.46889542992620115,0.5814341267466645,0.6939728235671283,0.8065115203875921,0.9190502172080555,1.0315889140285193,1.144127610848983,1.2566663076694464,1.3692050044899102,1.481743701310374,1.5942823981308374,1.7068210949513012,1.819359791771765,1.9318984885922283,2.044437185412692,2.156975882233156,2.2695145790536193,2.382053275874083,2.494591972694547,2.6071306695150103,2.7196693663354736,2.832208063155938,2.9447467599764012,3.0572854567968646,3.169824153617329,3.282362850437792,3.3949015472582555,3.50744024407872,3.619978940899183,3.7325176377196465,3.8450563345401108,3.9575950313605737,0.35635673310573734,0.46889542992620115,0.5814341267466645,0.6939728235671283,0.8065115203875921,0.9190502172080555,1.0315889140285193,1.144127610848983,1.2566663076694464,1.3692050044899102,1.481743701310374,1.5942823981308374,1.7068210949513012,1.819359791771765,1.9318984885922283,2.044437185412692,2.156975882233156,2.2695145790536193,2.382053275874083,2.494591972694547,2.6071306695150103,2.7196693663354736,2.832208063155938,2.9447467599764012,3.0572854567968646,3.169824153617329,3.282362850437792,3.3949015472582555,3.50744024407872,3.619978940899183,3.7325176377196465,3.8450563345401108,3.9575950313605737,0.35635673310573734,0.46889542992620115,0.5814341267466645,0.6939728235671283,0.8065115203875921,0.9190502172080555,1.0315889140285193,1.144127610848983,1.2566663076694464,1.3692050044899102,1.481743701310374,1.5942823981308374,1.7068210949513012,1.819359791771765,1.9318984885922283,2.044437185412692,2.156975882233156,2.2695145790536193,2.382053275874083,2.494591972694547,2.6071306695150103,2.7196693663354736,2.832208063155938,2.9447467599764012,3.0572854567968646,3.169824153617329,3.282362850437792,3.3949015472582555,3.50744024407872,3.619978940899183,3.7325176377196465,3.8450563345401108,3.9575950313605737,0.46889542992620115,0.5814341267466645,0.6939728235671283,0.8065115203875921,0.9190502172080555,1.0315889140285193,1.144127610848983,1.2566663076694464,1.3692050044899102,1.481743701310374,1.5942823981308374,1.7068210949513012,1.819359791771765,1.9318984885922283,2.044437185412692,2.156975882233156,2.2695145790536193,2.382053275874083,2.494591972694547,2.6071306695150103,2.7196693663354736,2.832208063155938,2.9447467599764012,3.0572854567968646,3.169824153617329,3.282362850437792,3.3949015472582555,3.50744024407872,3.619978940899183,3.7325176377196465,3.8450563345401108,3.9575950313605737,0.46889542992620115,0.5814341267466645,0.6939728235671283,0.8065115203875921,0.9190502172080555,1.0315889140285193,1.144127610848983,1.2566663076694464,1.3692050044899102,1.481743701310374,1.5942823981308374,1.7068210949513012,1.819359791771765,1.9318984885922283,2.044437185412692,2.156975882233156,2.2695145790536193,2.382053275874083,2.494591972694547,2.6071306695150103,2.7196693663354736,2.832208063155938,2.9447467599764012,3.0572854567968646,3.169824153617329,3.282362850437792,3.3949015472582555,3.50744024407872,3.619978940899183,3.7325176377196465,3.8450563345401108,3.9575950313605737,0.5814341267466645,0.6939728235671283,0.8065115203875921,0.9190502172080555,1.0315889140285193,1.144127610848983,1.2566663076694464,1.3692050044899102,1.481743701310374,1.5942823981308374,1.7068210949513012,1.819359791771765,1.9318984885922283,2.044437185412692,2.156975882233156,2.2695145790536193,2.382053275874083,2.494591972694547,2.6071306695150103,2.7196693663354736,2.832208063155938,2.9447467599764012,3.0572854567968646,3.169824153617329,3.282362850437792,3.3949015472582555,3.50744024407872,3.619978940899183,3.7325176377196465,3.8450563345401108,3.9575950313605737,0.6939728235671283,0.8065115203875921,0.9190502172080555,1.0315889140285193,1.144127610848983,1.2566663076694464,1.3692050044899102,1.481743701310374,1.5942823981308374,1.7068210949513012,1.819359791771765,1.9318984885922283,2.044437185412692,2.156975882233156,2.2695145790536193,2.382053275874083,2.494591972694547,2.6071306695150103,2.7196693663354736,2.832208063155938,2.9447467599764012,3.0572854567968646,3.169824153617329,3.282362850437792,3.3949015472582555,3.50744024407872,3.619978940899183,3.7325176377196465,3.8450563345401108,3.9575950313605737,0.8065115203875921,0.9190502172080555,1.0315889140285193,1.144127610848983,1.2566663076694464,1.3692050044899102,1.481743701310374,1.5942823981308374,1.7068210949513012,1.819359791771765,1.9318984885922283,2.044437185412692,2.156975882233156,2.2695145790536193,2.382053275874083,2.494591972694547,2.6071306695150103,2.7196693663354736,2.832208063155938,2.9447467599764012,3.0572854567968646,3.169824153617329,3.282362850437792,3.3949015472582555,3.50744024407872,3.619978940899183,3.7325176377196465,3.8450563345401108,3.9575950313605737,0.8065115203875921,0.9190502172080555,1.0315889140285193,1.144127610848983,1.2566663076694464,1.3692050044899102,1.481743701310374,1.5942823981308374,1.7068210949513012,1.819359791771765,1.9318984885922283,2.044437185412692,2.156975882233156,2.2695145790536193,2.382053275874083,2.494591972694547,2.6071306695150103,2.7196693663354736,2.832208063155938,2.9447467599764012,3.0572854567968646,3.169824153617329,3.282362850437792,3.3949015472582555,3.50744024407872,3.619978940899183,3.7325176377196465,3.8450563345401108,3.9575950313605737,0.8065115203875921,0.9190502172080555,1.0315889140285193,1.144127610848983,1.2566663076694464,1.3692050044899102,1.481743701310374,1.5942823981308374,1.7068210949513012,1.819359791771765,1.9318984885922283,2.044437185412692,2.156975882233156,2.2695145790536193,2.382053275874083,2.494591972694547,2.6071306695150103,2.7196693663354736,2.832208063155938,2.9447467599764012,3.0572854567968646,3.169824153617329,3.282362850437792,3.3949015472582555,3.50744024407872,3.619978940899183,3.7325176377196465,3.8450563345401108,3.9575950313605737,0.8065115203875921,0.9190502172080555,1.0315889140285193,1.144127610848983,1.2566663076694464,1.3692050044899102,1.481743701310374,1.5942823981308374,1.7068210949513012,1.819359791771765,1.9318984885922283,2.044437185412692,2.156975882233156,2.2695145790536193,2.382053275874083,2.494591972694547,2.6071306695150103,2.7196693663354736,2.832208063155938,2.9447467599764012,3.0572854567968646,3.169824153617329,3.282362850437792,3.3949015472582555,3.50744024407872,3.619978940899183,3.7325176377196465,3.8450563345401108,3.9575950313605737,0.9190502172080555,1.0315889140285193,1.144127610848983,1.2566663076694464,1.3692050044899102,1.481743701310374,1.5942823981308374,1.7068210949513012,1.819359791771765,1.9318984885922283,2.044437185412692,2.156975882233156,2.2695145790536193,2.382053275874083,2.494591972694547,2.6071306695150103,2.7196693663354736,2.832208063155938,2.9447467599764012,3.0572854567968646,3.169824153617329,3.282362850437792,3.3949015472582555,3.50744024407872,3.619978940899183,3.7325176377196465,3.8450563345401108,3.9575950313605737,0.9190502172080555,1.0315889140285193,1.144127610848983,1.2566663076694464,1.3692050044899102,1.481743701310374,1.5942823981308374,1.7068210949513012,1.819359791771765,1.9318984885922283,2.044437185412692,2.156975882233156,2.2695145790536193,2.382053275874083,2.494591972694547,2.6071306695150103,2.7196693663354736,2.832208063155938,2.9447467599764012,3.0572854567968646,3.169824153617329,3.282362850437792,3.3949015472582555,3.50744024407872,3.619978940899183,3.7325176377196465,3.8450563345401108,3.9575950313605737,0.9190502172080555,1.0315889140285193,1.144127610848983,1.2566663076694464,1.3692050044899102,1.481743701310374,1.5942823981308374,1.7068210949513012,1.819359791771765,1.9318984885922283,2.044437185412692,2.156975882233156,2.2695145790536193,2.382053275874083,2.494591972694547,2.6071306695150103,2.7196693663354736,2.832208063155938,2.9447467599764012,3.0572854567968646,3.169824153617329,3.282362850437792,3.3949015472582555,3.50744024407872,3.619978940899183,3.7325176377196465,3.8450563345401108,3.9575950313605737,0.9190502172080555,1.0315889140285193,1.144127610848983,1.2566663076694464,1.3692050044899102,1.481743701310374,1.5942823981308374,1.7068210949513012,1.819359791771765,1.9318984885922283,2.044437185412692,2.156975882233156,2.2695145790536193,2.382053275874083,2.494591972694547,2.6071306695150103,2.7196693663354736,2.832208063155938,2.9447467599764012,3.0572854567968646,3.169824153617329,3.282362850437792,3.3949015472582555,3.50744024407872,3.619978940899183,3.7325176377196465,3.8450563345401108,3.9575950313605737,1.0315889140285193,1.144127610848983,1.2566663076694464,1.3692050044899102,1.481743701310374,1.5942823981308374,1.7068210949513012,1.819359791771765,1.9318984885922283,2.044437185412692,2.156975882233156,2.2695145790536193,2.382053275874083,2.494591972694547,2.6071306695150103,2.7196693663354736,2.832208063155938,2.9447467599764012,3.0572854567968646,3.169824153617329,3.282362850437792,3.3949015472582555,3.50744024407872,3.619978940899183,3.7325176377196465,3.8450563345401108,3.9575950313605737,1.0315889140285193,1.144127610848983,1.2566663076694464,1.3692050044899102,1.481743701310374,1.5942823981308374,1.7068210949513012,1.819359791771765,1.9318984885922283,2.044437185412692,2.156975882233156,2.2695145790536193,2.382053275874083,2.494591972694547,2.6071306695150103,2.7196693663354736,2.832208063155938,2.9447467599764012,3.0572854567968646,3.169824153617329,3.282362850437792,3.3949015472582555,3.50744024407872,3.619978940899183,3.7325176377196465,3.8450563345401108,3.9575950313605737,1.0315889140285193,1.144127610848983,1.2566663076694464,1.3692050044899102,1.481743701310374,1.5942823981308374,1.7068210949513012,1.819359791771765,1.9318984885922283,2.044437185412692,2.156975882233156,2.2695145790536193,2.382053275874083,2.494591972694547,2.6071306695150103,2.7196693663354736,2.832208063155938,2.9447467599764012,3.0572854567968646,3.169824153617329,3.282362850437792,3.3949015472582555,3.50744024407872,3.619978940899183,3.7325176377196465,3.8450563345401108,3.9575950313605737,1.0315889140285193,1.144127610848983,1.2566663076694464,1.3692050044899102,1.481743701310374,1.5942823981308374,1.7068210949513012,1.819359791771765,1.9318984885922283,2.044437185412692,2.156975882233156,2.2695145790536193,2.382053275874083,2.494591972694547,2.6071306695150103,2.7196693663354736,2.832208063155938,2.9447467599764012,3.0572854567968646,3.169824153617329,3.282362850437792,3.3949015472582555,3.50744024407872,3.619978940899183,3.7325176377196465,3.8450563345401108,3.9575950313605737,1.144127610848983,1.2566663076694464,1.3692050044899102,1.481743701310374,1.5942823981308374,1.7068210949513012,1.819359791771765,1.9318984885922283,2.044437185412692,2.156975882233156,2.2695145790536193,2.382053275874083,2.494591972694547,2.6071306695150103,2.7196693663354736,2.832208063155938,2.9447467599764012,3.0572854567968646,3.169824153617329,3.282362850437792,3.3949015472582555,3.50744024407872,3.619978940899183,3.7325176377196465,3.8450563345401108,3.9575950313605737,1.144127610848983,1.2566663076694464,1.3692050044899102,1.481743701310374,1.5942823981308374,1.7068210949513012,1.819359791771765,1.9318984885922283,2.044437185412692,2.156975882233156,2.2695145790536193,2.382053275874083,2.494591972694547,2.6071306695150103,2.7196693663354736,2.832208063155938,2.9447467599764012,3.0572854567968646,3.169824153617329,3.282362850437792,3.3949015472582555,3.50744024407872,3.619978940899183,3.7325176377196465,3.8450563345401108,3.9575950313605737,1.144127610848983,1.2566663076694464,1.3692050044899102,1.481743701310374,1.5942823981308374,1.7068210949513012,1.819359791771765,1.9318984885922283,2.044437185412692,2.156975882233156,2.2695145790536193,2.382053275874083,2.494591972694547,2.6071306695150103,2.7196693663354736,2.832208063155938,2.9447467599764012,3.0572854567968646,3.169824153617329,3.282362850437792,3.3949015472582555,3.50744024407872,3.619978940899183,3.7325176377196465,3.8450563345401108,3.9575950313605737,1.2566663076694464,1.3692050044899102,1.481743701310374,1.5942823981308374,1.7068210949513012,1.819359791771765,1.9318984885922283,2.044437185412692,2.156975882233156,2.2695145790536193,2.382053275874083,2.494591972694547,2.6071306695150103,2.7196693663354736,2.832208063155938,2.9447467599764012,3.0572854567968646,3.169824153617329,3.282362850437792,3.3949015472582555,3.50744024407872,3.619978940899183,3.7325176377196465,3.8450563345401108,3.9575950313605737,1.2566663076694464,1.3692050044899102,1.481743701310374,1.5942823981308374,1.7068210949513012,1.819359791771765,1.9318984885922283,2.044437185412692,2.156975882233156,2.2695145790536193,2.382053275874083,2.494591972694547,2.6071306695150103,2.7196693663354736,2.832208063155938,2.9447467599764012,3.0572854567968646,3.169824153617329,3.282362850437792,3.3949015472582555,3.50744024407872,3.619978940899183,3.7325176377196465,3.8450563345401108,3.9575950313605737,1.2566663076694464,1.3692050044899102,1.481743701310374,1.5942823981308374,1.7068210949513012,1.819359791771765,1.9318984885922283,2.044437185412692,2.156975882233156,2.2695145790536193,2.382053275874083,2.494591972694547,2.6071306695150103,2.7196693663354736,2.832208063155938,2.9447467599764012,3.0572854567968646,3.169824153617329,3.282362850437792,3.3949015472582555,3.50744024407872,3.619978940899183,3.7325176377196465,3.8450563345401108,3.9575950313605737,1.3692050044899102,1.481743701310374,1.5942823981308374,1.7068210949513012,1.819359791771765,1.9318984885922283,2.044437185412692,2.156975882233156,2.2695145790536193,2.382053275874083,2.494591972694547,2.6071306695150103,2.7196693663354736,2.832208063155938,2.9447467599764012,3.0572854567968646,3.169824153617329,3.282362850437792,3.3949015472582555,3.50744024407872,3.619978940899183,3.7325176377196465,3.8450563345401108,3.9575950313605737,1.3692050044899102,1.481743701310374,1.5942823981308374,1.7068210949513012,1.819359791771765,1.9318984885922283,2.044437185412692,2.156975882233156,2.2695145790536193,2.382053275874083,2.494591972694547,2.6071306695150103,2.7196693663354736,2.832208063155938,2.9447467599764012,3.0572854567968646,3.169824153617329,3.282362850437792,3.3949015472582555,3.50744024407872,3.619978940899183,3.7325176377196465,3.8450563345401108,3.9575950313605737,1.3692050044899102,1.481743701310374,1.5942823981308374,1.7068210949513012,1.819359791771765,1.9318984885922283,2.044437185412692,2.156975882233156,2.2695145790536193,2.382053275874083,2.494591972694547,2.6071306695150103,2.7196693663354736,2.832208063155938,2.9447467599764012,3.0572854567968646,3.169824153617329,3.282362850437792,3.3949015472582555,3.50744024407872,3.619978940899183,3.7325176377196465,3.8450563345401108,3.9575950313605737],\"xaxis\":\"x\",\"y\":[-3.874641419808408,-3.874641419808408,-3.874641419808408,-3.874641419808408,-3.874641419808408,-3.874641419808408,-3.874641419808408,-3.874641419808408,-3.874641419808408,-3.874641419808408,-3.874641419808408,-3.874641419808408,-3.874641419808408,-3.874641419808408,-3.874641419808408,-3.874641419808408,-3.874641419808408,-3.874641419808408,-3.874641419808408,-3.874641419808408,-3.874641419808408,-3.874641419808408,-3.874641419808408,-3.874641419808408,-3.874641419808408,-3.874641419808408,-3.874641419808408,-3.874641419808408,-3.874641419808408,-3.874641419808408,-3.874641419808408,-3.874641419808408,-3.874641419808408,-3.874641419808408,-3.874641419808408,-3.874641419808408,-3.874641419808408,-3.874641419808408,-3.874641419808408,-3.874641419808408,-3.874641419808408,-3.874641419808408,-3.874641419808408,-3.874641419808408,-3.874641419808408,-3.874641419808408,-3.874641419808408,-3.69491087949505,-3.69491087949505,-3.69491087949505,-3.69491087949505,-3.69491087949505,-3.69491087949505,-3.69491087949505,-3.69491087949505,-3.69491087949505,-3.69491087949505,-3.69491087949505,-3.69491087949505,-3.69491087949505,-3.69491087949505,-3.69491087949505,-3.69491087949505,-3.69491087949505,-3.69491087949505,-3.69491087949505,-3.69491087949505,-3.69491087949505,-3.69491087949505,-3.69491087949505,-3.69491087949505,-3.69491087949505,-3.69491087949505,-3.69491087949505,-3.69491087949505,-3.69491087949505,-3.69491087949505,-3.69491087949505,-3.69491087949505,-3.69491087949505,-3.69491087949505,-3.69491087949505,-3.69491087949505,-3.69491087949505,-3.69491087949505,-3.69491087949505,-3.69491087949505,-3.69491087949505,-3.69491087949505,-3.69491087949505,-3.69491087949505,-3.69491087949505,-3.69491087949505,-3.5151803391816916,-3.5151803391816916,-3.5151803391816916,-3.5151803391816916,-3.5151803391816916,-3.5151803391816916,-3.5151803391816916,-3.5151803391816916,-3.5151803391816916,-3.5151803391816916,-3.5151803391816916,-3.5151803391816916,-3.5151803391816916,-3.5151803391816916,-3.5151803391816916,-3.5151803391816916,-3.5151803391816916,-3.5151803391816916,-3.5151803391816916,-3.5151803391816916,-3.5151803391816916,-3.5151803391816916,-3.5151803391816916,-3.5151803391816916,-3.5151803391816916,-3.5151803391816916,-3.5151803391816916,-3.5151803391816916,-3.5151803391816916,-3.5151803391816916,-3.5151803391816916,-3.5151803391816916,-3.5151803391816916,-3.5151803391816916,-3.5151803391816916,-3.5151803391816916,-3.5151803391816916,-3.5151803391816916,-3.5151803391816916,-3.5151803391816916,-3.5151803391816916,-3.5151803391816916,-3.5151803391816916,-3.5151803391816916,-3.5151803391816916,-3.5151803391816916,-3.335449798868333,-3.335449798868333,-3.335449798868333,-3.335449798868333,-3.335449798868333,-3.335449798868333,-3.335449798868333,-3.335449798868333,-3.335449798868333,-3.335449798868333,-3.335449798868333,-3.335449798868333,-3.335449798868333,-3.335449798868333,-3.335449798868333,-3.335449798868333,-3.335449798868333,-3.335449798868333,-3.335449798868333,-3.335449798868333,-3.335449798868333,-3.335449798868333,-3.335449798868333,-3.335449798868333,-3.335449798868333,-3.335449798868333,-3.335449798868333,-3.335449798868333,-3.335449798868333,-3.335449798868333,-3.335449798868333,-3.335449798868333,-3.335449798868333,-3.335449798868333,-3.335449798868333,-3.335449798868333,-3.335449798868333,-3.335449798868333,-3.335449798868333,-3.335449798868333,-3.335449798868333,-3.335449798868333,-3.335449798868333,-3.335449798868333,-3.335449798868333,-3.155719258554975,-3.155719258554975,-3.155719258554975,-3.155719258554975,-3.155719258554975,-3.155719258554975,-3.155719258554975,-3.155719258554975,-3.155719258554975,-3.155719258554975,-3.155719258554975,-3.155719258554975,-3.155719258554975,-3.155719258554975,-3.155719258554975,-3.155719258554975,-3.155719258554975,-3.155719258554975,-3.155719258554975,-3.155719258554975,-3.155719258554975,-3.155719258554975,-3.155719258554975,-3.155719258554975,-3.155719258554975,-3.155719258554975,-3.155719258554975,-3.155719258554975,-3.155719258554975,-3.155719258554975,-3.155719258554975,-3.155719258554975,-3.155719258554975,-3.155719258554975,-3.155719258554975,-3.155719258554975,-3.155719258554975,-3.155719258554975,-3.155719258554975,-3.155719258554975,-3.155719258554975,-3.155719258554975,-3.155719258554975,-3.155719258554975,-3.155719258554975,-2.9759887182416165,-2.9759887182416165,-2.9759887182416165,-2.9759887182416165,-2.9759887182416165,-2.9759887182416165,-2.9759887182416165,-2.9759887182416165,-2.9759887182416165,-2.9759887182416165,-2.9759887182416165,-2.9759887182416165,-2.9759887182416165,-2.9759887182416165,-2.9759887182416165,-2.9759887182416165,-2.9759887182416165,-2.9759887182416165,-2.9759887182416165,-2.9759887182416165,-2.9759887182416165,-2.9759887182416165,-2.9759887182416165,-2.9759887182416165,-2.9759887182416165,-2.9759887182416165,-2.9759887182416165,-2.9759887182416165,-2.9759887182416165,-2.9759887182416165,-2.9759887182416165,-2.9759887182416165,-2.9759887182416165,-2.9759887182416165,-2.9759887182416165,-2.9759887182416165,-2.9759887182416165,-2.9759887182416165,-2.9759887182416165,-2.9759887182416165,-2.9759887182416165,-2.9759887182416165,-2.9759887182416165,-2.9759887182416165,-2.9759887182416165,-2.7962581779282583,-2.7962581779282583,-2.7962581779282583,-2.7962581779282583,-2.7962581779282583,-2.7962581779282583,-2.7962581779282583,-2.7962581779282583,-2.7962581779282583,-2.7962581779282583,-2.7962581779282583,-2.7962581779282583,-2.7962581779282583,-2.7962581779282583,-2.7962581779282583,-2.7962581779282583,-2.7962581779282583,-2.7962581779282583,-2.7962581779282583,-2.7962581779282583,-2.7962581779282583,-2.7962581779282583,-2.7962581779282583,-2.7962581779282583,-2.7962581779282583,-2.7962581779282583,-2.7962581779282583,-2.7962581779282583,-2.7962581779282583,-2.7962581779282583,-2.7962581779282583,-2.7962581779282583,-2.7962581779282583,-2.7962581779282583,-2.7962581779282583,-2.7962581779282583,-2.7962581779282583,-2.7962581779282583,-2.7962581779282583,-2.7962581779282583,-2.7962581779282583,-2.7962581779282583,-2.7962581779282583,-2.7962581779282583,-2.6165276376149,-2.6165276376149,-2.6165276376149,-2.6165276376149,-2.6165276376149,-2.6165276376149,-2.6165276376149,-2.6165276376149,-2.6165276376149,-2.6165276376149,-2.6165276376149,-2.6165276376149,-2.6165276376149,-2.6165276376149,-2.6165276376149,-2.6165276376149,-2.6165276376149,-2.6165276376149,-2.6165276376149,-2.6165276376149,-2.6165276376149,-2.6165276376149,-2.6165276376149,-2.6165276376149,-2.6165276376149,-2.6165276376149,-2.6165276376149,-2.6165276376149,-2.6165276376149,-2.6165276376149,-2.6165276376149,-2.6165276376149,-2.6165276376149,-2.6165276376149,-2.6165276376149,-2.6165276376149,-2.6165276376149,-2.6165276376149,-2.6165276376149,-2.6165276376149,-2.6165276376149,-2.6165276376149,-2.6165276376149,-2.6165276376149,-2.436797097301542,-2.436797097301542,-2.436797097301542,-2.436797097301542,-2.436797097301542,-2.436797097301542,-2.436797097301542,-2.436797097301542,-2.436797097301542,-2.436797097301542,-2.436797097301542,-2.436797097301542,-2.436797097301542,-2.436797097301542,-2.436797097301542,-2.436797097301542,-2.436797097301542,-2.436797097301542,-2.436797097301542,-2.436797097301542,-2.436797097301542,-2.436797097301542,-2.436797097301542,-2.436797097301542,-2.436797097301542,-2.436797097301542,-2.436797097301542,-2.436797097301542,-2.436797097301542,-2.436797097301542,-2.436797097301542,-2.436797097301542,-2.436797097301542,-2.436797097301542,-2.436797097301542,-2.436797097301542,-2.436797097301542,-2.436797097301542,-2.436797097301542,-2.436797097301542,-2.436797097301542,-2.436797097301542,-2.436797097301542,-2.2570665569881836,-2.2570665569881836,-2.2570665569881836,-2.2570665569881836,-2.2570665569881836,-2.2570665569881836,-2.2570665569881836,-2.2570665569881836,-2.2570665569881836,-2.2570665569881836,-2.2570665569881836,-2.2570665569881836,-2.2570665569881836,-2.2570665569881836,-2.2570665569881836,-2.2570665569881836,-2.2570665569881836,-2.2570665569881836,-2.2570665569881836,-2.2570665569881836,-2.2570665569881836,-2.2570665569881836,-2.2570665569881836,-2.2570665569881836,-2.2570665569881836,-2.2570665569881836,-2.2570665569881836,-2.2570665569881836,-2.2570665569881836,-2.2570665569881836,-2.2570665569881836,-2.2570665569881836,-2.2570665569881836,-2.2570665569881836,-2.2570665569881836,-2.2570665569881836,-2.2570665569881836,-2.2570665569881836,-2.2570665569881836,-2.2570665569881836,-2.2570665569881836,-2.2570665569881836,-2.2570665569881836,-2.0773360166748254,-2.0773360166748254,-2.0773360166748254,-2.0773360166748254,-2.0773360166748254,-2.0773360166748254,-2.0773360166748254,-2.0773360166748254,-2.0773360166748254,-2.0773360166748254,-2.0773360166748254,-2.0773360166748254,-2.0773360166748254,-2.0773360166748254,-2.0773360166748254,-2.0773360166748254,-2.0773360166748254,-2.0773360166748254,-2.0773360166748254,-2.0773360166748254,-2.0773360166748254,-2.0773360166748254,-2.0773360166748254,-2.0773360166748254,-2.0773360166748254,-2.0773360166748254,-2.0773360166748254,-2.0773360166748254,-2.0773360166748254,-2.0773360166748254,-2.0773360166748254,-2.0773360166748254,-2.0773360166748254,-2.0773360166748254,-2.0773360166748254,-2.0773360166748254,-2.0773360166748254,-2.0773360166748254,-2.0773360166748254,-2.0773360166748254,-2.0773360166748254,-2.0773360166748254,-2.0773360166748254,-1.897605476361467,-1.897605476361467,-1.897605476361467,-1.897605476361467,-1.897605476361467,-1.897605476361467,-1.897605476361467,-1.897605476361467,-1.897605476361467,-1.897605476361467,-1.897605476361467,-1.897605476361467,-1.897605476361467,-1.897605476361467,-1.897605476361467,-1.897605476361467,-1.897605476361467,-1.897605476361467,-1.897605476361467,-1.897605476361467,-1.897605476361467,-1.897605476361467,-1.897605476361467,-1.897605476361467,-1.897605476361467,-1.897605476361467,-1.897605476361467,-1.897605476361467,-1.897605476361467,-1.897605476361467,-1.897605476361467,-1.897605476361467,-1.897605476361467,-1.897605476361467,-1.897605476361467,-1.897605476361467,-1.897605476361467,-1.897605476361467,-1.897605476361467,-1.897605476361467,-1.897605476361467,-1.897605476361467,-1.7178749360481085,-1.7178749360481085,-1.7178749360481085,-1.7178749360481085,-1.7178749360481085,-1.7178749360481085,-1.7178749360481085,-1.7178749360481085,-1.7178749360481085,-1.7178749360481085,-1.7178749360481085,-1.7178749360481085,-1.7178749360481085,-1.7178749360481085,-1.7178749360481085,-1.7178749360481085,-1.7178749360481085,-1.7178749360481085,-1.7178749360481085,-1.7178749360481085,-1.7178749360481085,-1.7178749360481085,-1.7178749360481085,-1.7178749360481085,-1.7178749360481085,-1.7178749360481085,-1.7178749360481085,-1.7178749360481085,-1.7178749360481085,-1.7178749360481085,-1.7178749360481085,-1.7178749360481085,-1.7178749360481085,-1.7178749360481085,-1.7178749360481085,-1.7178749360481085,-1.7178749360481085,-1.7178749360481085,-1.7178749360481085,-1.7178749360481085,-1.7178749360481085,-1.7178749360481085,-1.5381443957347503,-1.5381443957347503,-1.5381443957347503,-1.5381443957347503,-1.5381443957347503,-1.5381443957347503,-1.5381443957347503,-1.5381443957347503,-1.5381443957347503,-1.5381443957347503,-1.5381443957347503,-1.5381443957347503,-1.5381443957347503,-1.5381443957347503,-1.5381443957347503,-1.5381443957347503,-1.5381443957347503,-1.5381443957347503,-1.5381443957347503,-1.5381443957347503,-1.5381443957347503,-1.5381443957347503,-1.5381443957347503,-1.5381443957347503,-1.5381443957347503,-1.5381443957347503,-1.5381443957347503,-1.5381443957347503,-1.5381443957347503,-1.5381443957347503,-1.5381443957347503,-1.5381443957347503,-1.5381443957347503,-1.5381443957347503,-1.5381443957347503,-1.5381443957347503,-1.5381443957347503,-1.5381443957347503,-1.5381443957347503,-1.5381443957347503,-1.5381443957347503,-1.5381443957347503,-1.358413855421392,-1.358413855421392,-1.358413855421392,-1.358413855421392,-1.358413855421392,-1.358413855421392,-1.358413855421392,-1.358413855421392,-1.358413855421392,-1.358413855421392,-1.358413855421392,-1.358413855421392,-1.358413855421392,-1.358413855421392,-1.358413855421392,-1.358413855421392,-1.358413855421392,-1.358413855421392,-1.358413855421392,-1.358413855421392,-1.358413855421392,-1.358413855421392,-1.358413855421392,-1.358413855421392,-1.358413855421392,-1.358413855421392,-1.358413855421392,-1.358413855421392,-1.358413855421392,-1.358413855421392,-1.358413855421392,-1.358413855421392,-1.358413855421392,-1.358413855421392,-1.358413855421392,-1.358413855421392,-1.358413855421392,-1.358413855421392,-1.358413855421392,-1.358413855421392,-1.358413855421392,-1.1786833151080338,-1.1786833151080338,-1.1786833151080338,-1.1786833151080338,-1.1786833151080338,-1.1786833151080338,-1.1786833151080338,-1.1786833151080338,-1.1786833151080338,-1.1786833151080338,-1.1786833151080338,-1.1786833151080338,-1.1786833151080338,-1.1786833151080338,-1.1786833151080338,-1.1786833151080338,-1.1786833151080338,-1.1786833151080338,-1.1786833151080338,-1.1786833151080338,-1.1786833151080338,-1.1786833151080338,-1.1786833151080338,-1.1786833151080338,-1.1786833151080338,-1.1786833151080338,-1.1786833151080338,-1.1786833151080338,-1.1786833151080338,-1.1786833151080338,-1.1786833151080338,-1.1786833151080338,-1.1786833151080338,-1.1786833151080338,-1.1786833151080338,-1.1786833151080338,-1.1786833151080338,-1.1786833151080338,-1.1786833151080338,-1.1786833151080338,-1.1786833151080338,-0.9989527747946756,-0.9989527747946756,-0.9989527747946756,-0.9989527747946756,-0.9989527747946756,-0.9989527747946756,-0.9989527747946756,-0.9989527747946756,-0.9989527747946756,-0.9989527747946756,-0.9989527747946756,-0.9989527747946756,-0.9989527747946756,-0.9989527747946756,-0.9989527747946756,-0.9989527747946756,-0.9989527747946756,-0.9989527747946756,-0.9989527747946756,-0.9989527747946756,-0.9989527747946756,-0.9989527747946756,-0.9989527747946756,-0.9989527747946756,-0.9989527747946756,-0.9989527747946756,-0.9989527747946756,-0.9989527747946756,-0.9989527747946756,-0.9989527747946756,-0.9989527747946756,-0.9989527747946756,-0.9989527747946756,-0.9989527747946756,-0.9989527747946756,-0.9989527747946756,-0.9989527747946756,-0.9989527747946756,-0.9989527747946756,-0.9989527747946756,-0.8192222344813174,-0.8192222344813174,-0.8192222344813174,-0.8192222344813174,-0.8192222344813174,-0.8192222344813174,-0.8192222344813174,-0.8192222344813174,-0.8192222344813174,-0.8192222344813174,-0.8192222344813174,-0.8192222344813174,-0.8192222344813174,-0.8192222344813174,-0.8192222344813174,-0.8192222344813174,-0.8192222344813174,-0.8192222344813174,-0.8192222344813174,-0.8192222344813174,-0.8192222344813174,-0.8192222344813174,-0.8192222344813174,-0.8192222344813174,-0.8192222344813174,-0.8192222344813174,-0.8192222344813174,-0.8192222344813174,-0.8192222344813174,-0.8192222344813174,-0.8192222344813174,-0.8192222344813174,-0.8192222344813174,-0.8192222344813174,-0.8192222344813174,-0.8192222344813174,-0.8192222344813174,-0.8192222344813174,-0.6394916941679591,-0.6394916941679591,-0.6394916941679591,-0.6394916941679591,-0.6394916941679591,-0.6394916941679591,-0.6394916941679591,-0.6394916941679591,-0.6394916941679591,-0.6394916941679591,-0.6394916941679591,-0.6394916941679591,-0.6394916941679591,-0.6394916941679591,-0.6394916941679591,-0.6394916941679591,-0.6394916941679591,-0.6394916941679591,-0.6394916941679591,-0.6394916941679591,-0.6394916941679591,-0.6394916941679591,-0.6394916941679591,-0.6394916941679591,-0.6394916941679591,-0.6394916941679591,-0.6394916941679591,-0.6394916941679591,-0.6394916941679591,-0.6394916941679591,-0.6394916941679591,-0.6394916941679591,-0.6394916941679591,-0.6394916941679591,-0.6394916941679591,-0.6394916941679591,-0.6394916941679591,-0.6394916941679591,-0.4597611538546009,-0.4597611538546009,-0.4597611538546009,-0.4597611538546009,-0.4597611538546009,-0.4597611538546009,-0.4597611538546009,-0.4597611538546009,-0.4597611538546009,-0.4597611538546009,-0.4597611538546009,-0.4597611538546009,-0.4597611538546009,-0.4597611538546009,-0.4597611538546009,-0.4597611538546009,-0.4597611538546009,-0.4597611538546009,-0.4597611538546009,-0.4597611538546009,-0.4597611538546009,-0.4597611538546009,-0.4597611538546009,-0.4597611538546009,-0.4597611538546009,-0.4597611538546009,-0.4597611538546009,-0.4597611538546009,-0.4597611538546009,-0.4597611538546009,-0.4597611538546009,-0.4597611538546009,-0.4597611538546009,-0.4597611538546009,-0.4597611538546009,-0.4597611538546009,-0.4597611538546009,-0.2800306135412427,-0.2800306135412427,-0.2800306135412427,-0.2800306135412427,-0.2800306135412427,-0.2800306135412427,-0.2800306135412427,-0.2800306135412427,-0.2800306135412427,-0.2800306135412427,-0.2800306135412427,-0.2800306135412427,-0.2800306135412427,-0.2800306135412427,-0.2800306135412427,-0.2800306135412427,-0.2800306135412427,-0.2800306135412427,-0.2800306135412427,-0.2800306135412427,-0.2800306135412427,-0.2800306135412427,-0.2800306135412427,-0.2800306135412427,-0.2800306135412427,-0.2800306135412427,-0.2800306135412427,-0.2800306135412427,-0.2800306135412427,-0.2800306135412427,-0.2800306135412427,-0.2800306135412427,-0.2800306135412427,-0.2800306135412427,-0.2800306135412427,-0.2800306135412427,-0.10030007322788403,-0.10030007322788403,-0.10030007322788403,-0.10030007322788403,-0.10030007322788403,-0.10030007322788403,-0.10030007322788403,-0.10030007322788403,-0.10030007322788403,-0.10030007322788403,-0.10030007322788403,-0.10030007322788403,-0.10030007322788403,-0.10030007322788403,-0.10030007322788403,-0.10030007322788403,-0.10030007322788403,-0.10030007322788403,-0.10030007322788403,-0.10030007322788403,-0.10030007322788403,-0.10030007322788403,-0.10030007322788403,-0.10030007322788403,-0.10030007322788403,-0.10030007322788403,-0.10030007322788403,-0.10030007322788403,-0.10030007322788403,-0.10030007322788403,-0.10030007322788403,-0.10030007322788403,-0.10030007322788403,-0.10030007322788403,-0.10030007322788403,0.07943046708547419,0.07943046708547419,0.07943046708547419,0.07943046708547419,0.07943046708547419,0.07943046708547419,0.07943046708547419,0.07943046708547419,0.07943046708547419,0.07943046708547419,0.07943046708547419,0.07943046708547419,0.07943046708547419,0.07943046708547419,0.07943046708547419,0.07943046708547419,0.07943046708547419,0.07943046708547419,0.07943046708547419,0.07943046708547419,0.07943046708547419,0.07943046708547419,0.07943046708547419,0.07943046708547419,0.07943046708547419,0.07943046708547419,0.07943046708547419,0.07943046708547419,0.07943046708547419,0.07943046708547419,0.07943046708547419,0.07943046708547419,0.07943046708547419,0.07943046708547419,0.2591610073988324,0.2591610073988324,0.2591610073988324,0.2591610073988324,0.2591610073988324,0.2591610073988324,0.2591610073988324,0.2591610073988324,0.2591610073988324,0.2591610073988324,0.2591610073988324,0.2591610073988324,0.2591610073988324,0.2591610073988324,0.2591610073988324,0.2591610073988324,0.2591610073988324,0.2591610073988324,0.2591610073988324,0.2591610073988324,0.2591610073988324,0.2591610073988324,0.2591610073988324,0.2591610073988324,0.2591610073988324,0.2591610073988324,0.2591610073988324,0.2591610073988324,0.2591610073988324,0.2591610073988324,0.2591610073988324,0.2591610073988324,0.2591610073988324,0.4388915477121911,0.4388915477121911,0.4388915477121911,0.4388915477121911,0.4388915477121911,0.4388915477121911,0.4388915477121911,0.4388915477121911,0.4388915477121911,0.4388915477121911,0.4388915477121911,0.4388915477121911,0.4388915477121911,0.4388915477121911,0.4388915477121911,0.4388915477121911,0.4388915477121911,0.4388915477121911,0.4388915477121911,0.4388915477121911,0.4388915477121911,0.4388915477121911,0.4388915477121911,0.4388915477121911,0.4388915477121911,0.4388915477121911,0.4388915477121911,0.4388915477121911,0.4388915477121911,0.4388915477121911,0.4388915477121911,0.4388915477121911,0.4388915477121911,0.6186220880255489,0.6186220880255489,0.6186220880255489,0.6186220880255489,0.6186220880255489,0.6186220880255489,0.6186220880255489,0.6186220880255489,0.6186220880255489,0.6186220880255489,0.6186220880255489,0.6186220880255489,0.6186220880255489,0.6186220880255489,0.6186220880255489,0.6186220880255489,0.6186220880255489,0.6186220880255489,0.6186220880255489,0.6186220880255489,0.6186220880255489,0.6186220880255489,0.6186220880255489,0.6186220880255489,0.6186220880255489,0.6186220880255489,0.6186220880255489,0.6186220880255489,0.6186220880255489,0.6186220880255489,0.6186220880255489,0.6186220880255489,0.7983526283389075,0.7983526283389075,0.7983526283389075,0.7983526283389075,0.7983526283389075,0.7983526283389075,0.7983526283389075,0.7983526283389075,0.7983526283389075,0.7983526283389075,0.7983526283389075,0.7983526283389075,0.7983526283389075,0.7983526283389075,0.7983526283389075,0.7983526283389075,0.7983526283389075,0.7983526283389075,0.7983526283389075,0.7983526283389075,0.7983526283389075,0.7983526283389075,0.7983526283389075,0.7983526283389075,0.7983526283389075,0.7983526283389075,0.7983526283389075,0.7983526283389075,0.7983526283389075,0.7983526283389075,0.7983526283389075,0.7983526283389075,0.9780831686522653,0.9780831686522653,0.9780831686522653,0.9780831686522653,0.9780831686522653,0.9780831686522653,0.9780831686522653,0.9780831686522653,0.9780831686522653,0.9780831686522653,0.9780831686522653,0.9780831686522653,0.9780831686522653,0.9780831686522653,0.9780831686522653,0.9780831686522653,0.9780831686522653,0.9780831686522653,0.9780831686522653,0.9780831686522653,0.9780831686522653,0.9780831686522653,0.9780831686522653,0.9780831686522653,0.9780831686522653,0.9780831686522653,0.9780831686522653,0.9780831686522653,0.9780831686522653,0.9780831686522653,0.9780831686522653,1.157813708965624,1.157813708965624,1.157813708965624,1.157813708965624,1.157813708965624,1.157813708965624,1.157813708965624,1.157813708965624,1.157813708965624,1.157813708965624,1.157813708965624,1.157813708965624,1.157813708965624,1.157813708965624,1.157813708965624,1.157813708965624,1.157813708965624,1.157813708965624,1.157813708965624,1.157813708965624,1.157813708965624,1.157813708965624,1.157813708965624,1.157813708965624,1.157813708965624,1.157813708965624,1.157813708965624,1.157813708965624,1.157813708965624,1.157813708965624,1.3375442492789817,1.3375442492789817,1.3375442492789817,1.3375442492789817,1.3375442492789817,1.3375442492789817,1.3375442492789817,1.3375442492789817,1.3375442492789817,1.3375442492789817,1.3375442492789817,1.3375442492789817,1.3375442492789817,1.3375442492789817,1.3375442492789817,1.3375442492789817,1.3375442492789817,1.3375442492789817,1.3375442492789817,1.3375442492789817,1.3375442492789817,1.3375442492789817,1.3375442492789817,1.3375442492789817,1.3375442492789817,1.3375442492789817,1.3375442492789817,1.3375442492789817,1.3375442492789817,1.5172747895923404,1.5172747895923404,1.5172747895923404,1.5172747895923404,1.5172747895923404,1.5172747895923404,1.5172747895923404,1.5172747895923404,1.5172747895923404,1.5172747895923404,1.5172747895923404,1.5172747895923404,1.5172747895923404,1.5172747895923404,1.5172747895923404,1.5172747895923404,1.5172747895923404,1.5172747895923404,1.5172747895923404,1.5172747895923404,1.5172747895923404,1.5172747895923404,1.5172747895923404,1.5172747895923404,1.5172747895923404,1.5172747895923404,1.5172747895923404,1.5172747895923404,1.5172747895923404,1.6970053299056982,1.6970053299056982,1.6970053299056982,1.6970053299056982,1.6970053299056982,1.6970053299056982,1.6970053299056982,1.6970053299056982,1.6970053299056982,1.6970053299056982,1.6970053299056982,1.6970053299056982,1.6970053299056982,1.6970053299056982,1.6970053299056982,1.6970053299056982,1.6970053299056982,1.6970053299056982,1.6970053299056982,1.6970053299056982,1.6970053299056982,1.6970053299056982,1.6970053299056982,1.6970053299056982,1.6970053299056982,1.6970053299056982,1.6970053299056982,1.6970053299056982,1.6970053299056982,1.8767358702190569,1.8767358702190569,1.8767358702190569,1.8767358702190569,1.8767358702190569,1.8767358702190569,1.8767358702190569,1.8767358702190569,1.8767358702190569,1.8767358702190569,1.8767358702190569,1.8767358702190569,1.8767358702190569,1.8767358702190569,1.8767358702190569,1.8767358702190569,1.8767358702190569,1.8767358702190569,1.8767358702190569,1.8767358702190569,1.8767358702190569,1.8767358702190569,1.8767358702190569,1.8767358702190569,1.8767358702190569,1.8767358702190569,1.8767358702190569,1.8767358702190569,1.8767358702190569,2.0564664105324155,2.0564664105324155,2.0564664105324155,2.0564664105324155,2.0564664105324155,2.0564664105324155,2.0564664105324155,2.0564664105324155,2.0564664105324155,2.0564664105324155,2.0564664105324155,2.0564664105324155,2.0564664105324155,2.0564664105324155,2.0564664105324155,2.0564664105324155,2.0564664105324155,2.0564664105324155,2.0564664105324155,2.0564664105324155,2.0564664105324155,2.0564664105324155,2.0564664105324155,2.0564664105324155,2.0564664105324155,2.0564664105324155,2.0564664105324155,2.0564664105324155,2.2361969508457733,2.2361969508457733,2.2361969508457733,2.2361969508457733,2.2361969508457733,2.2361969508457733,2.2361969508457733,2.2361969508457733,2.2361969508457733,2.2361969508457733,2.2361969508457733,2.2361969508457733,2.2361969508457733,2.2361969508457733,2.2361969508457733,2.2361969508457733,2.2361969508457733,2.2361969508457733,2.2361969508457733,2.2361969508457733,2.2361969508457733,2.2361969508457733,2.2361969508457733,2.2361969508457733,2.2361969508457733,2.2361969508457733,2.2361969508457733,2.2361969508457733,2.415927491159132,2.415927491159132,2.415927491159132,2.415927491159132,2.415927491159132,2.415927491159132,2.415927491159132,2.415927491159132,2.415927491159132,2.415927491159132,2.415927491159132,2.415927491159132,2.415927491159132,2.415927491159132,2.415927491159132,2.415927491159132,2.415927491159132,2.415927491159132,2.415927491159132,2.415927491159132,2.415927491159132,2.415927491159132,2.415927491159132,2.415927491159132,2.415927491159132,2.415927491159132,2.415927491159132,2.415927491159132,2.5956580314724897,2.5956580314724897,2.5956580314724897,2.5956580314724897,2.5956580314724897,2.5956580314724897,2.5956580314724897,2.5956580314724897,2.5956580314724897,2.5956580314724897,2.5956580314724897,2.5956580314724897,2.5956580314724897,2.5956580314724897,2.5956580314724897,2.5956580314724897,2.5956580314724897,2.5956580314724897,2.5956580314724897,2.5956580314724897,2.5956580314724897,2.5956580314724897,2.5956580314724897,2.5956580314724897,2.5956580314724897,2.5956580314724897,2.5956580314724897,2.5956580314724897,2.7753885717858484,2.7753885717858484,2.7753885717858484,2.7753885717858484,2.7753885717858484,2.7753885717858484,2.7753885717858484,2.7753885717858484,2.7753885717858484,2.7753885717858484,2.7753885717858484,2.7753885717858484,2.7753885717858484,2.7753885717858484,2.7753885717858484,2.7753885717858484,2.7753885717858484,2.7753885717858484,2.7753885717858484,2.7753885717858484,2.7753885717858484,2.7753885717858484,2.7753885717858484,2.7753885717858484,2.7753885717858484,2.7753885717858484,2.7753885717858484,2.955119112099206,2.955119112099206,2.955119112099206,2.955119112099206,2.955119112099206,2.955119112099206,2.955119112099206,2.955119112099206,2.955119112099206,2.955119112099206,2.955119112099206,2.955119112099206,2.955119112099206,2.955119112099206,2.955119112099206,2.955119112099206,2.955119112099206,2.955119112099206,2.955119112099206,2.955119112099206,2.955119112099206,2.955119112099206,2.955119112099206,2.955119112099206,2.955119112099206,2.955119112099206,2.955119112099206,3.134849652412565,3.134849652412565,3.134849652412565,3.134849652412565,3.134849652412565,3.134849652412565,3.134849652412565,3.134849652412565,3.134849652412565,3.134849652412565,3.134849652412565,3.134849652412565,3.134849652412565,3.134849652412565,3.134849652412565,3.134849652412565,3.134849652412565,3.134849652412565,3.134849652412565,3.134849652412565,3.134849652412565,3.134849652412565,3.134849652412565,3.134849652412565,3.134849652412565,3.134849652412565,3.134849652412565,3.3145801927259226,3.3145801927259226,3.3145801927259226,3.3145801927259226,3.3145801927259226,3.3145801927259226,3.3145801927259226,3.3145801927259226,3.3145801927259226,3.3145801927259226,3.3145801927259226,3.3145801927259226,3.3145801927259226,3.3145801927259226,3.3145801927259226,3.3145801927259226,3.3145801927259226,3.3145801927259226,3.3145801927259226,3.3145801927259226,3.3145801927259226,3.3145801927259226,3.3145801927259226,3.3145801927259226,3.3145801927259226,3.3145801927259226,3.3145801927259226,3.4943107330392813,3.4943107330392813,3.4943107330392813,3.4943107330392813,3.4943107330392813,3.4943107330392813,3.4943107330392813,3.4943107330392813,3.4943107330392813,3.4943107330392813,3.4943107330392813,3.4943107330392813,3.4943107330392813,3.4943107330392813,3.4943107330392813,3.4943107330392813,3.4943107330392813,3.4943107330392813,3.4943107330392813,3.4943107330392813,3.4943107330392813,3.4943107330392813,3.4943107330392813,3.4943107330392813,3.4943107330392813,3.4943107330392813,3.67404127335264,3.67404127335264,3.67404127335264,3.67404127335264,3.67404127335264,3.67404127335264,3.67404127335264,3.67404127335264,3.67404127335264,3.67404127335264,3.67404127335264,3.67404127335264,3.67404127335264,3.67404127335264,3.67404127335264,3.67404127335264,3.67404127335264,3.67404127335264,3.67404127335264,3.67404127335264,3.67404127335264,3.67404127335264,3.67404127335264,3.67404127335264,3.67404127335264,3.67404127335264,3.8537718136659977,3.8537718136659977,3.8537718136659977,3.8537718136659977,3.8537718136659977,3.8537718136659977,3.8537718136659977,3.8537718136659977,3.8537718136659977,3.8537718136659977,3.8537718136659977,3.8537718136659977,3.8537718136659977,3.8537718136659977,3.8537718136659977,3.8537718136659977,3.8537718136659977,3.8537718136659977,3.8537718136659977,3.8537718136659977,3.8537718136659977,3.8537718136659977,3.8537718136659977,3.8537718136659977,3.8537718136659977,3.8537718136659977,4.033502353979356,4.033502353979356,4.033502353979356,4.033502353979356,4.033502353979356,4.033502353979356,4.033502353979356,4.033502353979356,4.033502353979356,4.033502353979356,4.033502353979356,4.033502353979356,4.033502353979356,4.033502353979356,4.033502353979356,4.033502353979356,4.033502353979356,4.033502353979356,4.033502353979356,4.033502353979356,4.033502353979356,4.033502353979356,4.033502353979356,4.033502353979356,4.033502353979356,4.213232894292715,4.213232894292715,4.213232894292715,4.213232894292715,4.213232894292715,4.213232894292715,4.213232894292715,4.213232894292715,4.213232894292715,4.213232894292715,4.213232894292715,4.213232894292715,4.213232894292715,4.213232894292715,4.213232894292715,4.213232894292715,4.213232894292715,4.213232894292715,4.213232894292715,4.213232894292715,4.213232894292715,4.213232894292715,4.213232894292715,4.213232894292715,4.213232894292715,4.392963434606073,4.392963434606073,4.392963434606073,4.392963434606073,4.392963434606073,4.392963434606073,4.392963434606073,4.392963434606073,4.392963434606073,4.392963434606073,4.392963434606073,4.392963434606073,4.392963434606073,4.392963434606073,4.392963434606073,4.392963434606073,4.392963434606073,4.392963434606073,4.392963434606073,4.392963434606073,4.392963434606073,4.392963434606073,4.392963434606073,4.392963434606073,4.392963434606073,4.572693974919431,4.572693974919431,4.572693974919431,4.572693974919431,4.572693974919431,4.572693974919431,4.572693974919431,4.572693974919431,4.572693974919431,4.572693974919431,4.572693974919431,4.572693974919431,4.572693974919431,4.572693974919431,4.572693974919431,4.572693974919431,4.572693974919431,4.572693974919431,4.572693974919431,4.572693974919431,4.572693974919431,4.572693974919431,4.572693974919431,4.572693974919431,4.75242451523279,4.75242451523279,4.75242451523279,4.75242451523279,4.75242451523279,4.75242451523279,4.75242451523279,4.75242451523279,4.75242451523279,4.75242451523279,4.75242451523279,4.75242451523279,4.75242451523279,4.75242451523279,4.75242451523279,4.75242451523279,4.75242451523279,4.75242451523279,4.75242451523279,4.75242451523279,4.75242451523279,4.75242451523279,4.75242451523279,4.75242451523279,4.932155055546149,4.932155055546149,4.932155055546149,4.932155055546149,4.932155055546149,4.932155055546149,4.932155055546149,4.932155055546149,4.932155055546149,4.932155055546149,4.932155055546149,4.932155055546149,4.932155055546149,4.932155055546149,4.932155055546149,4.932155055546149,4.932155055546149,4.932155055546149,4.932155055546149,4.932155055546149,4.932155055546149,4.932155055546149,4.932155055546149,4.932155055546149],\"yaxis\":\"y\",\"type\":\"scattergl\"}],                        {\"template\":{\"data\":{\"histogram2dcontour\":[{\"type\":\"histogram2dcontour\",\"colorbar\":{\"outlinewidth\":0,\"ticks\":\"\"},\"colorscale\":[[0.0,\"#0d0887\"],[0.1111111111111111,\"#46039f\"],[0.2222222222222222,\"#7201a8\"],[0.3333333333333333,\"#9c179e\"],[0.4444444444444444,\"#bd3786\"],[0.5555555555555556,\"#d8576b\"],[0.6666666666666666,\"#ed7953\"],[0.7777777777777778,\"#fb9f3a\"],[0.8888888888888888,\"#fdca26\"],[1.0,\"#f0f921\"]]}],\"choropleth\":[{\"type\":\"choropleth\",\"colorbar\":{\"outlinewidth\":0,\"ticks\":\"\"}}],\"histogram2d\":[{\"type\":\"histogram2d\",\"colorbar\":{\"outlinewidth\":0,\"ticks\":\"\"},\"colorscale\":[[0.0,\"#0d0887\"],[0.1111111111111111,\"#46039f\"],[0.2222222222222222,\"#7201a8\"],[0.3333333333333333,\"#9c179e\"],[0.4444444444444444,\"#bd3786\"],[0.5555555555555556,\"#d8576b\"],[0.6666666666666666,\"#ed7953\"],[0.7777777777777778,\"#fb9f3a\"],[0.8888888888888888,\"#fdca26\"],[1.0,\"#f0f921\"]]}],\"heatmap\":[{\"type\":\"heatmap\",\"colorbar\":{\"outlinewidth\":0,\"ticks\":\"\"},\"colorscale\":[[0.0,\"#0d0887\"],[0.1111111111111111,\"#46039f\"],[0.2222222222222222,\"#7201a8\"],[0.3333333333333333,\"#9c179e\"],[0.4444444444444444,\"#bd3786\"],[0.5555555555555556,\"#d8576b\"],[0.6666666666666666,\"#ed7953\"],[0.7777777777777778,\"#fb9f3a\"],[0.8888888888888888,\"#fdca26\"],[1.0,\"#f0f921\"]]}],\"heatmapgl\":[{\"type\":\"heatmapgl\",\"colorbar\":{\"outlinewidth\":0,\"ticks\":\"\"},\"colorscale\":[[0.0,\"#0d0887\"],[0.1111111111111111,\"#46039f\"],[0.2222222222222222,\"#7201a8\"],[0.3333333333333333,\"#9c179e\"],[0.4444444444444444,\"#bd3786\"],[0.5555555555555556,\"#d8576b\"],[0.6666666666666666,\"#ed7953\"],[0.7777777777777778,\"#fb9f3a\"],[0.8888888888888888,\"#fdca26\"],[1.0,\"#f0f921\"]]}],\"contourcarpet\":[{\"type\":\"contourcarpet\",\"colorbar\":{\"outlinewidth\":0,\"ticks\":\"\"}}],\"contour\":[{\"type\":\"contour\",\"colorbar\":{\"outlinewidth\":0,\"ticks\":\"\"},\"colorscale\":[[0.0,\"#0d0887\"],[0.1111111111111111,\"#46039f\"],[0.2222222222222222,\"#7201a8\"],[0.3333333333333333,\"#9c179e\"],[0.4444444444444444,\"#bd3786\"],[0.5555555555555556,\"#d8576b\"],[0.6666666666666666,\"#ed7953\"],[0.7777777777777778,\"#fb9f3a\"],[0.8888888888888888,\"#fdca26\"],[1.0,\"#f0f921\"]]}],\"surface\":[{\"type\":\"surface\",\"colorbar\":{\"outlinewidth\":0,\"ticks\":\"\"},\"colorscale\":[[0.0,\"#0d0887\"],[0.1111111111111111,\"#46039f\"],[0.2222222222222222,\"#7201a8\"],[0.3333333333333333,\"#9c179e\"],[0.4444444444444444,\"#bd3786\"],[0.5555555555555556,\"#d8576b\"],[0.6666666666666666,\"#ed7953\"],[0.7777777777777778,\"#fb9f3a\"],[0.8888888888888888,\"#fdca26\"],[1.0,\"#f0f921\"]]}],\"mesh3d\":[{\"type\":\"mesh3d\",\"colorbar\":{\"outlinewidth\":0,\"ticks\":\"\"}}],\"scatter\":[{\"fillpattern\":{\"fillmode\":\"overlay\",\"size\":10,\"solidity\":0.2},\"type\":\"scatter\"}],\"parcoords\":[{\"type\":\"parcoords\",\"line\":{\"colorbar\":{\"outlinewidth\":0,\"ticks\":\"\"}}}],\"scatterpolargl\":[{\"type\":\"scatterpolargl\",\"marker\":{\"colorbar\":{\"outlinewidth\":0,\"ticks\":\"\"}}}],\"bar\":[{\"error_x\":{\"color\":\"#2a3f5f\"},\"error_y\":{\"color\":\"#2a3f5f\"},\"marker\":{\"line\":{\"color\":\"#E5ECF6\",\"width\":0.5},\"pattern\":{\"fillmode\":\"overlay\",\"size\":10,\"solidity\":0.2}},\"type\":\"bar\"}],\"scattergeo\":[{\"type\":\"scattergeo\",\"marker\":{\"colorbar\":{\"outlinewidth\":0,\"ticks\":\"\"}}}],\"scatterpolar\":[{\"type\":\"scatterpolar\",\"marker\":{\"colorbar\":{\"outlinewidth\":0,\"ticks\":\"\"}}}],\"histogram\":[{\"marker\":{\"pattern\":{\"fillmode\":\"overlay\",\"size\":10,\"solidity\":0.2}},\"type\":\"histogram\"}],\"scattergl\":[{\"type\":\"scattergl\",\"marker\":{\"colorbar\":{\"outlinewidth\":0,\"ticks\":\"\"}}}],\"scatter3d\":[{\"type\":\"scatter3d\",\"line\":{\"colorbar\":{\"outlinewidth\":0,\"ticks\":\"\"}},\"marker\":{\"colorbar\":{\"outlinewidth\":0,\"ticks\":\"\"}}}],\"scattermapbox\":[{\"type\":\"scattermapbox\",\"marker\":{\"colorbar\":{\"outlinewidth\":0,\"ticks\":\"\"}}}],\"scatterternary\":[{\"type\":\"scatterternary\",\"marker\":{\"colorbar\":{\"outlinewidth\":0,\"ticks\":\"\"}}}],\"scattercarpet\":[{\"type\":\"scattercarpet\",\"marker\":{\"colorbar\":{\"outlinewidth\":0,\"ticks\":\"\"}}}],\"carpet\":[{\"aaxis\":{\"endlinecolor\":\"#2a3f5f\",\"gridcolor\":\"white\",\"linecolor\":\"white\",\"minorgridcolor\":\"white\",\"startlinecolor\":\"#2a3f5f\"},\"baxis\":{\"endlinecolor\":\"#2a3f5f\",\"gridcolor\":\"white\",\"linecolor\":\"white\",\"minorgridcolor\":\"white\",\"startlinecolor\":\"#2a3f5f\"},\"type\":\"carpet\"}],\"table\":[{\"cells\":{\"fill\":{\"color\":\"#EBF0F8\"},\"line\":{\"color\":\"white\"}},\"header\":{\"fill\":{\"color\":\"#C8D4E3\"},\"line\":{\"color\":\"white\"}},\"type\":\"table\"}],\"barpolar\":[{\"marker\":{\"line\":{\"color\":\"#E5ECF6\",\"width\":0.5},\"pattern\":{\"fillmode\":\"overlay\",\"size\":10,\"solidity\":0.2}},\"type\":\"barpolar\"}],\"pie\":[{\"automargin\":true,\"type\":\"pie\"}]},\"layout\":{\"autotypenumbers\":\"strict\",\"colorway\":[\"#636efa\",\"#EF553B\",\"#00cc96\",\"#ab63fa\",\"#FFA15A\",\"#19d3f3\",\"#FF6692\",\"#B6E880\",\"#FF97FF\",\"#FECB52\"],\"font\":{\"color\":\"#2a3f5f\"},\"hovermode\":\"closest\",\"hoverlabel\":{\"align\":\"left\"},\"paper_bgcolor\":\"white\",\"plot_bgcolor\":\"#E5ECF6\",\"polar\":{\"bgcolor\":\"#E5ECF6\",\"angularaxis\":{\"gridcolor\":\"white\",\"linecolor\":\"white\",\"ticks\":\"\"},\"radialaxis\":{\"gridcolor\":\"white\",\"linecolor\":\"white\",\"ticks\":\"\"}},\"ternary\":{\"bgcolor\":\"#E5ECF6\",\"aaxis\":{\"gridcolor\":\"white\",\"linecolor\":\"white\",\"ticks\":\"\"},\"baxis\":{\"gridcolor\":\"white\",\"linecolor\":\"white\",\"ticks\":\"\"},\"caxis\":{\"gridcolor\":\"white\",\"linecolor\":\"white\",\"ticks\":\"\"}},\"coloraxis\":{\"colorbar\":{\"outlinewidth\":0,\"ticks\":\"\"}},\"colorscale\":{\"sequential\":[[0.0,\"#0d0887\"],[0.1111111111111111,\"#46039f\"],[0.2222222222222222,\"#7201a8\"],[0.3333333333333333,\"#9c179e\"],[0.4444444444444444,\"#bd3786\"],[0.5555555555555556,\"#d8576b\"],[0.6666666666666666,\"#ed7953\"],[0.7777777777777778,\"#fb9f3a\"],[0.8888888888888888,\"#fdca26\"],[1.0,\"#f0f921\"]],\"sequentialminus\":[[0.0,\"#0d0887\"],[0.1111111111111111,\"#46039f\"],[0.2222222222222222,\"#7201a8\"],[0.3333333333333333,\"#9c179e\"],[0.4444444444444444,\"#bd3786\"],[0.5555555555555556,\"#d8576b\"],[0.6666666666666666,\"#ed7953\"],[0.7777777777777778,\"#fb9f3a\"],[0.8888888888888888,\"#fdca26\"],[1.0,\"#f0f921\"]],\"diverging\":[[0,\"#8e0152\"],[0.1,\"#c51b7d\"],[0.2,\"#de77ae\"],[0.3,\"#f1b6da\"],[0.4,\"#fde0ef\"],[0.5,\"#f7f7f7\"],[0.6,\"#e6f5d0\"],[0.7,\"#b8e186\"],[0.8,\"#7fbc41\"],[0.9,\"#4d9221\"],[1,\"#276419\"]]},\"xaxis\":{\"gridcolor\":\"white\",\"linecolor\":\"white\",\"ticks\":\"\",\"title\":{\"standoff\":15},\"zerolinecolor\":\"white\",\"automargin\":true,\"zerolinewidth\":2},\"yaxis\":{\"gridcolor\":\"white\",\"linecolor\":\"white\",\"ticks\":\"\",\"title\":{\"standoff\":15},\"zerolinecolor\":\"white\",\"automargin\":true,\"zerolinewidth\":2},\"scene\":{\"xaxis\":{\"backgroundcolor\":\"#E5ECF6\",\"gridcolor\":\"white\",\"linecolor\":\"white\",\"showbackground\":true,\"ticks\":\"\",\"zerolinecolor\":\"white\",\"gridwidth\":2},\"yaxis\":{\"backgroundcolor\":\"#E5ECF6\",\"gridcolor\":\"white\",\"linecolor\":\"white\",\"showbackground\":true,\"ticks\":\"\",\"zerolinecolor\":\"white\",\"gridwidth\":2},\"zaxis\":{\"backgroundcolor\":\"#E5ECF6\",\"gridcolor\":\"white\",\"linecolor\":\"white\",\"showbackground\":true,\"ticks\":\"\",\"zerolinecolor\":\"white\",\"gridwidth\":2}},\"shapedefaults\":{\"line\":{\"color\":\"#2a3f5f\"}},\"annotationdefaults\":{\"arrowcolor\":\"#2a3f5f\",\"arrowhead\":0,\"arrowwidth\":1},\"geo\":{\"bgcolor\":\"white\",\"landcolor\":\"#E5ECF6\",\"subunitcolor\":\"white\",\"showland\":true,\"showlakes\":true,\"lakecolor\":\"white\"},\"title\":{\"x\":0.05},\"mapbox\":{\"style\":\"light\"}}},\"xaxis\":{\"anchor\":\"y\",\"domain\":[0.0,1.0],\"title\":{\"text\":\"comp0\"}},\"yaxis\":{\"anchor\":\"x\",\"domain\":[0.0,1.0],\"title\":{\"text\":\"comp1\"}},\"coloraxis\":{\"colorbar\":{\"title\":{\"text\":\"pred_prob\"}},\"colorscale\":[[0.0,\"#0d0887\"],[0.1111111111111111,\"#46039f\"],[0.2222222222222222,\"#7201a8\"],[0.3333333333333333,\"#9c179e\"],[0.4444444444444444,\"#bd3786\"],[0.5555555555555556,\"#d8576b\"],[0.6666666666666666,\"#ed7953\"],[0.7777777777777778,\"#fb9f3a\"],[0.8888888888888888,\"#fdca26\"],[1.0,\"#f0f921\"]]},\"legend\":{\"title\":{\"text\":\"pred_label\"},\"tracegroupgap\":0},\"margin\":{\"t\":60},\"height\":600,\"width\":800},                        {\"responsive\": true}                    ).then(function(){\n",
       "                            \n",
       "var gd = document.getElementById('9ea86beb-218d-4e9b-bc89-d4e2e4f49a52');\n",
       "var x = new MutationObserver(function (mutations, observer) {{\n",
       "        var display = window.getComputedStyle(gd).display;\n",
       "        if (!display || display === 'none') {{\n",
       "            console.log([gd, 'removed!']);\n",
       "            Plotly.purge(gd);\n",
       "            observer.disconnect();\n",
       "        }}\n",
       "}});\n",
       "\n",
       "// Listen for the removal of the full notebook cells\n",
       "var notebookContainer = gd.closest('#notebook-container');\n",
       "if (notebookContainer) {{\n",
       "    x.observe(notebookContainer, {childList: true});\n",
       "}}\n",
       "\n",
       "// Listen for the clearing of the current output cell\n",
       "var outputEl = gd.closest('.output');\n",
       "if (outputEl) {{\n",
       "    x.observe(outputEl, {childList: true});\n",
       "}}\n",
       "\n",
       "                        })                };                });            </script>        </div>"
      ]
     },
     "metadata": {},
     "output_type": "display_data"
    }
   ],
   "source": [
    "px.scatter(to_plot, x='comp0', y='comp1',color='pred_prob', symbol='pred_label', width=800, height=600)"
   ]
  }
 ],
 "metadata": {
  "kernelspec": {
   "display_name": "Python 3 (ipykernel)",
   "language": "python",
   "name": "python3"
  },
  "language_info": {
   "codemirror_mode": {
    "name": "ipython",
    "version": 3
   },
   "file_extension": ".py",
   "mimetype": "text/x-python",
   "name": "python",
   "nbconvert_exporter": "python",
   "pygments_lexer": "ipython3",
   "version": "3.9.6"
  }
 },
 "nbformat": 4,
 "nbformat_minor": 5
}
